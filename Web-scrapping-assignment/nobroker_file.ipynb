{
 "cells": [
  {
   "cell_type": "markdown",
   "metadata": {},
   "source": [
    "# Web Scrapping Assignment-1(page-7)"
   ]
  },
  {
   "cell_type": "markdown",
   "metadata": {},
   "source": [
    "# 10. Write a python program to scrape house details from https://www.nobroker.in/ for any location. \n",
    "    It should include house title, location, area, emi and price "
   ]
  },
  {
   "cell_type": "code",
   "execution_count": null,
   "metadata": {},
   "outputs": [],
   "source": [
    "from bs4 import BeautifulSoup\n",
    "import requests"
   ]
  },
  {
   "cell_type": "code",
   "execution_count": null,
   "metadata": {},
   "outputs": [],
   "source": [
    "page1=requests.get(\"https://www.nobroker.in/property/sale/pune/Shivajinagar?searchParam=W3sibGF0IjoxOC41MzE0NDE5LCJsb24iOjczLjg0NDU2MTcsInBsYWNlSWQiOiJDaElKZDFGNEhYbkF3anNSeUQxMHlvRnEyQ0EiLCJwbGFjZU5hbWUiOiJTaGl2YWppbmFnYXIiLCJzaG93TWFwIjpmYWxzZX1d\")\n",
    "page1"
   ]
  },
  {
   "cell_type": "code",
   "execution_count": null,
   "metadata": {},
   "outputs": [],
   "source": [
    "Soup=BeautifulSoup(page1.content)\n",
    "Soup"
   ]
  },
  {
   "cell_type": "code",
   "execution_count": null,
   "metadata": {},
   "outputs": [],
   "source": [
    "house_title=Soup.find_all(\"h2\",class_=\"heading-6 font-semi-bold nb__1AShY\")\n",
    "house_title"
   ]
  },
  {
   "cell_type": "code",
   "execution_count": null,
   "metadata": {},
   "outputs": [],
   "source": [
    "House_title=[]  #empty list\n",
    "\n",
    "for i in house_title:\n",
    "    House_title.append(i.text.replace(\"\\n\",\"\"))\n",
    "    \n",
    "\n",
    "House_title"
   ]
  },
  {
   "cell_type": "code",
   "execution_count": null,
   "metadata": {},
   "outputs": [],
   "source": [
    "len(House_title)"
   ]
  },
  {
   "cell_type": "code",
   "execution_count": null,
   "metadata": {},
   "outputs": [],
   "source": [
    "location=Soup.find_all(\"div\",class_=\"nb__2CMjv\")\n",
    "location"
   ]
  },
  {
   "cell_type": "code",
   "execution_count": null,
   "metadata": {},
   "outputs": [],
   "source": [
    "Location=[]  #empty list\n",
    "\n",
    "for i in location:\n",
    "    Location.append(i.text.replace(\"\\n\",\",\"))\n",
    "    \n",
    "#Location=Location[0::1]\n",
    "Location"
   ]
  },
  {
   "cell_type": "code",
   "execution_count": null,
   "metadata": {},
   "outputs": [],
   "source": [
    "len(Location)"
   ]
  },
  {
   "cell_type": "code",
   "execution_count": null,
   "metadata": {},
   "outputs": [],
   "source": [
    "area=Soup.find_all(\"div\",class_=\"nb__3oNyC\")\n",
    "area"
   ]
  },
  {
   "cell_type": "code",
   "execution_count": null,
   "metadata": {},
   "outputs": [],
   "source": [
    "Area=[]  #empty list\n",
    "\n",
    "for i in area:\n",
    "    Area.append(i.text.replace(\"\\n\",\",\"))\n",
    "    \n",
    "#Location=Location[0::1]\n",
    "Area"
   ]
  },
  {
   "cell_type": "code",
   "execution_count": null,
   "metadata": {},
   "outputs": [],
   "source": [
    "len(Area)"
   ]
  },
  {
   "cell_type": "code",
   "execution_count": null,
   "metadata": {},
   "outputs": [],
   "source": [
    "emi=Soup.find_all(\"div\",class_=\"nb__2NPHR\")\n",
    "emi"
   ]
  },
  {
   "cell_type": "code",
   "execution_count": null,
   "metadata": {},
   "outputs": [],
   "source": [
    "EMI=[]  #empty list\n",
    "\n",
    "for i in emi:\n",
    "    EMI.append(i.text.replace(\"\\n\",\",\"))\n",
    "    \n",
    "EMI=EMI[2::4]\n",
    "EMI"
   ]
  },
  {
   "cell_type": "code",
   "execution_count": null,
   "metadata": {},
   "outputs": [],
   "source": [
    "len(EMI)"
   ]
  },
  {
   "cell_type": "code",
   "execution_count": null,
   "metadata": {},
   "outputs": [],
   "source": [
    "Price=[]  #empty list\n",
    "\n",
    "for i in emi:\n",
    "    Price.append(i.text.replace(\"\\n\",\",\"))\n",
    "    \n",
    "Price=Price[3::4]\n",
    "Price"
   ]
  },
  {
   "cell_type": "code",
   "execution_count": null,
   "metadata": {},
   "outputs": [],
   "source": [
    "len(Price)"
   ]
  },
  {
   "cell_type": "code",
   "execution_count": 19,
   "metadata": {},
   "outputs": [
    {
     "data": {
      "text/html": [
       "<div>\n",
       "<style scoped>\n",
       "    .dataframe tbody tr th:only-of-type {\n",
       "        vertical-align: middle;\n",
       "    }\n",
       "\n",
       "    .dataframe tbody tr th {\n",
       "        vertical-align: top;\n",
       "    }\n",
       "\n",
       "    .dataframe thead th {\n",
       "        text-align: right;\n",
       "    }\n",
       "</style>\n",
       "<table border=\"1\" class=\"dataframe\">\n",
       "  <thead>\n",
       "    <tr style=\"text-align: right;\">\n",
       "      <th></th>\n",
       "      <th>House_title</th>\n",
       "      <th>Location</th>\n",
       "      <th>Area</th>\n",
       "      <th>EMI</th>\n",
       "      <th>Price</th>\n",
       "    </tr>\n",
       "  </thead>\n",
       "  <tbody>\n",
       "    <tr>\n",
       "      <th>0</th>\n",
       "      <td>3 BHK Flat  For Sale  In Sneha Complex In  Shi...</td>\n",
       "      <td>Chaturshringi Rd, Model Colony,  Near to Deep ...</td>\n",
       "      <td>1,350 sqft</td>\n",
       "      <td>₹67,631/MonthEstimated EMI</td>\n",
       "      <td>₹1.18 Crores₹8,741 per sq.ft.</td>\n",
       "    </tr>\n",
       "    <tr>\n",
       "      <th>1</th>\n",
       "      <td>3 BHK Apartment  For Sale  In Nilgiri Heights ...</td>\n",
       "      <td>Nilgiri Heights  Nilgiri Heights Shivaji housi...</td>\n",
       "      <td>1,500 sqft</td>\n",
       "      <td>₹1.15 Lacs/MonthEstimated EMI</td>\n",
       "      <td>₹2 Crores₹13,333 per sq.ft.</td>\n",
       "    </tr>\n",
       "    <tr>\n",
       "      <th>2</th>\n",
       "      <td>2 BHK Flat  For Sale  In Suyog Apartments In S...</td>\n",
       "      <td>Mitra co operative housing society, lane oppos...</td>\n",
       "      <td>850 sqft</td>\n",
       "      <td>₹45,851/MonthEstimated EMI</td>\n",
       "      <td>₹80 Lacs₹9,412 per sq.ft.</td>\n",
       "    </tr>\n",
       "    <tr>\n",
       "      <th>3</th>\n",
       "      <td>2 BHK Flat  For Sale  In Sneh Complex In Model...</td>\n",
       "      <td>1041, Model Colony, Shivajinagar, Pune, Mahara...</td>\n",
       "      <td>1,240 sqft</td>\n",
       "      <td>₹74,508/MonthEstimated EMI</td>\n",
       "      <td>₹1.3 Crores₹10,484 per sq.ft.</td>\n",
       "    </tr>\n",
       "    <tr>\n",
       "      <th>4</th>\n",
       "      <td>2 BHK Flat  For Sale  In Rachana Rainbow Apart...</td>\n",
       "      <td>Rachana Rainbow Apartment</td>\n",
       "      <td>1,300 sqft</td>\n",
       "      <td>₹1.14 Lacs/MonthEstimated EMI</td>\n",
       "      <td>₹1.99 Crores₹15,308 per sq.ft.</td>\n",
       "    </tr>\n",
       "    <tr>\n",
       "      <th>5</th>\n",
       "      <td>3 BHK Flat  For Sale  In Colonial Hearth In Sh...</td>\n",
       "      <td>near om super market</td>\n",
       "      <td>1,350 sqft</td>\n",
       "      <td>₹97,434/MonthEstimated EMI</td>\n",
       "      <td>₹1.7 Crores₹12,593 per sq.ft.</td>\n",
       "    </tr>\n",
       "    <tr>\n",
       "      <th>6</th>\n",
       "      <td>2 BHK Flat  For Sale  In  Dongre Apartment In ...</td>\n",
       "      <td>Model Colony near Shree Hanuman Shani Mandir</td>\n",
       "      <td>800 sqft</td>\n",
       "      <td>₹48,717/MonthEstimated EMI</td>\n",
       "      <td>₹85 Lacs₹10,625 per sq.ft.</td>\n",
       "    </tr>\n",
       "    <tr>\n",
       "      <th>7</th>\n",
       "      <td>2 BHK Flat  For Sale  In Vijay Apartments In S...</td>\n",
       "      <td>Jhansi Rani Laxmibai Chowk, Near Gandharva Res...</td>\n",
       "      <td>1,138 sqft</td>\n",
       "      <td>₹1.29 Lacs/MonthEstimated EMI</td>\n",
       "      <td>₹2.25 Crores₹19,772 per sq.ft.</td>\n",
       "    </tr>\n",
       "    <tr>\n",
       "      <th>8</th>\n",
       "      <td>1 BHK Flat  For Sale  In Annapurna Apartment I...</td>\n",
       "      <td>R. K. Auto Service, Sahasrabuddhe Road, Model ...</td>\n",
       "      <td>612 sqft</td>\n",
       "      <td>₹44,705/MonthEstimated EMI</td>\n",
       "      <td>₹78 Lacs₹12,745 per sq.ft.</td>\n",
       "    </tr>\n",
       "    <tr>\n",
       "      <th>9</th>\n",
       "      <td>1 BHK Apartment  For Sale  In Maple Aapla Ghar...</td>\n",
       "      <td>Maple Aapla Ghar Talegaon  Talegaon Dhamdhere,...</td>\n",
       "      <td>411 sqft</td>\n",
       "      <td>₹7,737/MonthEstimated EMI</td>\n",
       "      <td>₹13.5 Lacs₹3,285 per sq.ft.</td>\n",
       "    </tr>\n",
       "  </tbody>\n",
       "</table>\n",
       "</div>"
      ],
      "text/plain": [
       "                                         House_title  \\\n",
       "0  3 BHK Flat  For Sale  In Sneha Complex In  Shi...   \n",
       "1  3 BHK Apartment  For Sale  In Nilgiri Heights ...   \n",
       "2  2 BHK Flat  For Sale  In Suyog Apartments In S...   \n",
       "3  2 BHK Flat  For Sale  In Sneh Complex In Model...   \n",
       "4  2 BHK Flat  For Sale  In Rachana Rainbow Apart...   \n",
       "5  3 BHK Flat  For Sale  In Colonial Hearth In Sh...   \n",
       "6  2 BHK Flat  For Sale  In  Dongre Apartment In ...   \n",
       "7  2 BHK Flat  For Sale  In Vijay Apartments In S...   \n",
       "8  1 BHK Flat  For Sale  In Annapurna Apartment I...   \n",
       "9  1 BHK Apartment  For Sale  In Maple Aapla Ghar...   \n",
       "\n",
       "                                            Location        Area  \\\n",
       "0  Chaturshringi Rd, Model Colony,  Near to Deep ...  1,350 sqft   \n",
       "1  Nilgiri Heights  Nilgiri Heights Shivaji housi...  1,500 sqft   \n",
       "2  Mitra co operative housing society, lane oppos...    850 sqft   \n",
       "3  1041, Model Colony, Shivajinagar, Pune, Mahara...  1,240 sqft   \n",
       "4                          Rachana Rainbow Apartment  1,300 sqft   \n",
       "5                               near om super market  1,350 sqft   \n",
       "6       Model Colony near Shree Hanuman Shani Mandir    800 sqft   \n",
       "7  Jhansi Rani Laxmibai Chowk, Near Gandharva Res...  1,138 sqft   \n",
       "8  R. K. Auto Service, Sahasrabuddhe Road, Model ...    612 sqft   \n",
       "9  Maple Aapla Ghar Talegaon  Talegaon Dhamdhere,...    411 sqft   \n",
       "\n",
       "                             EMI                           Price  \n",
       "0     ₹67,631/MonthEstimated EMI   ₹1.18 Crores₹8,741 per sq.ft.  \n",
       "1  ₹1.15 Lacs/MonthEstimated EMI     ₹2 Crores₹13,333 per sq.ft.  \n",
       "2     ₹45,851/MonthEstimated EMI       ₹80 Lacs₹9,412 per sq.ft.  \n",
       "3     ₹74,508/MonthEstimated EMI   ₹1.3 Crores₹10,484 per sq.ft.  \n",
       "4  ₹1.14 Lacs/MonthEstimated EMI  ₹1.99 Crores₹15,308 per sq.ft.  \n",
       "5     ₹97,434/MonthEstimated EMI   ₹1.7 Crores₹12,593 per sq.ft.  \n",
       "6     ₹48,717/MonthEstimated EMI      ₹85 Lacs₹10,625 per sq.ft.  \n",
       "7  ₹1.29 Lacs/MonthEstimated EMI  ₹2.25 Crores₹19,772 per sq.ft.  \n",
       "8     ₹44,705/MonthEstimated EMI      ₹78 Lacs₹12,745 per sq.ft.  \n",
       "9      ₹7,737/MonthEstimated EMI     ₹13.5 Lacs₹3,285 per sq.ft.  "
      ]
     },
     "execution_count": 19,
     "metadata": {},
     "output_type": "execute_result"
    }
   ],
   "source": [
    "import pandas as pd\n",
    "House_details=pd.DataFrame({})\n",
    "House_details['House_title']=House_title\n",
    "House_details['Location']=Location\n",
    "House_details['Area']=Area\n",
    "House_details['EMI']=EMI\n",
    "House_details['Price']=Price\n",
    "House_details"
   ]
  },
  {
   "cell_type": "code",
   "execution_count": null,
   "metadata": {},
   "outputs": [],
   "source": []
  }
 ],
 "metadata": {
  "kernelspec": {
   "display_name": "Python 3",
   "language": "python",
   "name": "python3"
  },
  "language_info": {
   "codemirror_mode": {
    "name": "ipython",
    "version": 3
   },
   "file_extension": ".py",
   "mimetype": "text/x-python",
   "name": "python",
   "nbconvert_exporter": "python",
   "pygments_lexer": "ipython3",
   "version": "3.8.5"
  }
 },
 "nbformat": 4,
 "nbformat_minor": 4
}
