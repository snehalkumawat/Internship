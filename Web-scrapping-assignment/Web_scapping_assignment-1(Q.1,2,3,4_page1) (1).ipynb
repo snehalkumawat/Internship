{
 "cells": [
  {
   "cell_type": "markdown",
   "metadata": {},
   "source": [
    "# Web Scrapping Assignment-1(page-1)"
   ]
  },
  {
   "cell_type": "code",
   "execution_count": null,
   "metadata": {},
   "outputs": [],
   "source": [
    "#!pip install bs4\n",
    "#!pip install requests"
   ]
  },
  {
   "cell_type": "code",
   "execution_count": null,
   "metadata": {},
   "outputs": [],
   "source": [
    "#!pip install tabulate"
   ]
  },
  {
   "cell_type": "code",
   "execution_count": null,
   "metadata": {},
   "outputs": [],
   "source": [
    "from bs4 import BeautifulSoup\n",
    "import requests"
   ]
  },
  {
   "cell_type": "markdown",
   "metadata": {},
   "source": [
    "# 1. Write a python program to display all the header tags from ‘en.wikipedia.org/wiki/Main_Page’. "
   ]
  },
  {
   "cell_type": "code",
   "execution_count": null,
   "metadata": {},
   "outputs": [],
   "source": [
    "page1=requests.get(\"https://en.wikipedia.org/wiki/Main_Page\")\n",
    "page1"
   ]
  },
  {
   "cell_type": "code",
   "execution_count": null,
   "metadata": {},
   "outputs": [],
   "source": [
    "Soup=BeautifulSoup(page1.content)\n",
    "Soup"
   ]
  },
  {
   "cell_type": "code",
   "execution_count": null,
   "metadata": {},
   "outputs": [],
   "source": [
    " \n",
    "header=Soup.find_all(\"h1\",class_=\"firstHeading\")\n",
    "header"
   ]
  },
  {
   "cell_type": "code",
   "execution_count": null,
   "metadata": {},
   "outputs": [],
   "source": [
    "header_tag1=[]  #empty list\n",
    "\n",
    "for i in header:\n",
    "    header_tag1.append(i.text)\n",
    "    \n",
    "header_tag1"
   ]
  },
  {
   "cell_type": "code",
   "execution_count": null,
   "metadata": {},
   "outputs": [],
   "source": [
    "header=Soup.find_all(\"h3\",class_=\"vector-menu-heading\")\n",
    "header"
   ]
  },
  {
   "cell_type": "code",
   "execution_count": null,
   "metadata": {},
   "outputs": [],
   "source": [
    "header_tag=[]  #empty list\n",
    "\n",
    "for i in header:\n",
    "    header_tag.append(i.text.replace(\"\\n\",\"\"))\n",
    "    \n",
    "\n",
    "header_tag"
   ]
  },
  {
   "cell_type": "code",
   "execution_count": 53,
   "metadata": {},
   "outputs": [
    {
     "data": {
      "text/html": [
       "<div>\n",
       "<style scoped>\n",
       "    .dataframe tbody tr th:only-of-type {\n",
       "        vertical-align: middle;\n",
       "    }\n",
       "\n",
       "    .dataframe tbody tr th {\n",
       "        vertical-align: top;\n",
       "    }\n",
       "\n",
       "    .dataframe thead th {\n",
       "        text-align: right;\n",
       "    }\n",
       "</style>\n",
       "<table border=\"1\" class=\"dataframe\">\n",
       "  <thead>\n",
       "    <tr style=\"text-align: right;\">\n",
       "      <th></th>\n",
       "      <th>header_tag</th>\n",
       "    </tr>\n",
       "  </thead>\n",
       "  <tbody>\n",
       "    <tr>\n",
       "      <th>0</th>\n",
       "      <td>Personal tools</td>\n",
       "    </tr>\n",
       "    <tr>\n",
       "      <th>1</th>\n",
       "      <td>Namespaces</td>\n",
       "    </tr>\n",
       "    <tr>\n",
       "      <th>2</th>\n",
       "      <td>Variants</td>\n",
       "    </tr>\n",
       "    <tr>\n",
       "      <th>3</th>\n",
       "      <td>Views</td>\n",
       "    </tr>\n",
       "    <tr>\n",
       "      <th>4</th>\n",
       "      <td>More</td>\n",
       "    </tr>\n",
       "    <tr>\n",
       "      <th>5</th>\n",
       "      <td>Navigation</td>\n",
       "    </tr>\n",
       "    <tr>\n",
       "      <th>6</th>\n",
       "      <td>Contribute</td>\n",
       "    </tr>\n",
       "    <tr>\n",
       "      <th>7</th>\n",
       "      <td>Tools</td>\n",
       "    </tr>\n",
       "    <tr>\n",
       "      <th>8</th>\n",
       "      <td>Print/export</td>\n",
       "    </tr>\n",
       "    <tr>\n",
       "      <th>9</th>\n",
       "      <td>In other projects</td>\n",
       "    </tr>\n",
       "    <tr>\n",
       "      <th>10</th>\n",
       "      <td>Languages</td>\n",
       "    </tr>\n",
       "  </tbody>\n",
       "</table>\n",
       "</div>"
      ],
      "text/plain": [
       "           header_tag\n",
       "0      Personal tools\n",
       "1          Namespaces\n",
       "2            Variants\n",
       "3               Views\n",
       "4                More\n",
       "5          Navigation\n",
       "6          Contribute\n",
       "7               Tools\n",
       "8        Print/export\n",
       "9   In other projects\n",
       "10          Languages"
      ]
     },
     "execution_count": 53,
     "metadata": {},
     "output_type": "execute_result"
    }
   ],
   "source": [
    "import pandas as pd\n",
    "Header_tags=pd.DataFrame({})\n",
    "#Header_tags[\"header_tag\"]=header_tag1\n",
    "Header_tags[\"header_tag\"]=header_tag\n",
    "Header_tags"
   ]
  },
  {
   "cell_type": "code",
   "execution_count": null,
   "metadata": {},
   "outputs": [],
   "source": []
  },
  {
   "cell_type": "markdown",
   "metadata": {},
   "source": [
    "# 2. Write a python program to display IMDB’s Top rated 100 movies’ data (i.e. Name, IMDB rating, Year of release). "
   ]
  },
  {
   "cell_type": "code",
   "execution_count": null,
   "metadata": {},
   "outputs": [],
   "source": [
    "#to get permission to access data\n",
    "page=requests.get(\"https://www.imdb.com/chart/top/\")\n",
    "page"
   ]
  },
  {
   "cell_type": "code",
   "execution_count": null,
   "metadata": {},
   "outputs": [],
   "source": [
    "#to find webpage content\n",
    "Soup=BeautifulSoup(page.content)\n",
    "Soup"
   ]
  },
  {
   "cell_type": "code",
   "execution_count": null,
   "metadata": {},
   "outputs": [],
   "source": [
    "#to find one movie \n",
    "name=Soup.find(\"td\",class_=\"titleColumn\")\n",
    "name"
   ]
  },
  {
   "cell_type": "code",
   "execution_count": null,
   "metadata": {},
   "outputs": [],
   "source": [
    "#to find movie name\n",
    "name.text"
   ]
  },
  {
   "cell_type": "code",
   "execution_count": null,
   "metadata": {},
   "outputs": [],
   "source": [
    "name.text.replace(\"\\n\",\"\")"
   ]
  },
  {
   "cell_type": "code",
   "execution_count": null,
   "metadata": {},
   "outputs": [],
   "source": [
    "#to find all movie name\n",
    "name=Soup.find_all(\"td\",class_=\"titleColumn\")\n",
    "name"
   ]
  },
  {
   "cell_type": "code",
   "execution_count": null,
   "metadata": {},
   "outputs": [],
   "source": [
    "Movies_name=[]  #empty list\n",
    "\n",
    "for i in name:\n",
    "    Movies_name.append(i.text)\n",
    "    \n",
    "Movies_name\n"
   ]
  },
  {
   "cell_type": "code",
   "execution_count": null,
   "metadata": {},
   "outputs": [],
   "source": [
    "Movies_name=[]  #empty list\n",
    "\n",
    "for i in name:\n",
    "    Movies_name.append(i.text.replace(\"\\n\",\"\"))\n",
    "    \n",
    "Movies_name"
   ]
  },
  {
   "cell_type": "code",
   "execution_count": null,
   "metadata": {},
   "outputs": [],
   "source": [
    "Movies_name=[]  #empty list\n",
    "\n",
    "for i in name:\n",
    "    for j in i.find_all(\"a\"):\n",
    "        Movies_name.append(j.text.replace(\"\\n\",\"\"))\n",
    "    \n",
    "Movies_name"
   ]
  },
  {
   "cell_type": "code",
   "execution_count": null,
   "metadata": {},
   "outputs": [],
   "source": [
    "year=Soup.find_all(\"span\",class_=\"secondaryInfo\")\n",
    "year"
   ]
  },
  {
   "cell_type": "code",
   "execution_count": null,
   "metadata": {},
   "outputs": [],
   "source": [
    "Year=[]\n",
    "for i in year:\n",
    "        Year.append(i.text)\n",
    "        \n",
    "Year"
   ]
  },
  {
   "cell_type": "code",
   "execution_count": null,
   "metadata": {},
   "outputs": [],
   "source": [
    "rating=Soup.find_all(\"td\",class_=\"ratingColumn imdbRating\")\n",
    "rating"
   ]
  },
  {
   "cell_type": "code",
   "execution_count": null,
   "metadata": {},
   "outputs": [],
   "source": [
    "Rating=[]\n",
    "for i in rating:\n",
    "        Rating.append(i.text.replace(\"\\n\",\"\"))\n",
    "        \n",
    "Rating"
   ]
  },
  {
   "cell_type": "code",
   "execution_count": null,
   "metadata": {},
   "outputs": [],
   "source": [
    "import pandas as pd\n",
    "Movies=pd.DataFrame({})\n",
    "Movies['Movies_name']=Movies_name\n",
    "Movies['Year']=Year\n",
    "Movies['Rating']=Rating"
   ]
  },
  {
   "cell_type": "code",
   "execution_count": null,
   "metadata": {},
   "outputs": [],
   "source": [
    "Movies"
   ]
  },
  {
   "cell_type": "code",
   "execution_count": 54,
   "metadata": {},
   "outputs": [
    {
     "name": "stdout",
     "output_type": "stream",
     "text": [
      "|     | Movies_name                       | Year   |   Rating |\n",
      "|----:|:----------------------------------|:-------|---------:|\n",
      "|   1 | Nayakan                           | (1987) |      8.5 |\n",
      "|   2 | Anbe Sivam                        | (2003) |      8.5 |\n",
      "|   3 | Pariyerum Perumal                 | (2018) |      8.5 |\n",
      "|   4 | Golmaal                           | (1979) |      8.5 |\n",
      "|   5 | C/o Kancharapalem                 | (2018) |      8.5 |\n",
      "|   6 | Apur Sansar                       | (1959) |      8.5 |\n",
      "|   7 | Manichitrathazhu                  | (1993) |      8.5 |\n",
      "|   8 | Kireedam                          | (1989) |      8.5 |\n",
      "|   9 | Natsamrat                         | (2016) |      8.4 |\n",
      "|  10 | Pather Panchali                   | (1955) |      8.4 |\n",
      "|  11 | 96                                | (2018) |      8.4 |\n",
      "|  12 | Thevar Magan                      | (1992) |      8.4 |\n",
      "|  13 | Black Friday                      | (2004) |      8.4 |\n",
      "|  14 | Kumbalangi Nights                 | (2019) |      8.4 |\n",
      "|  15 | Visaaranai                        | (2015) |      8.4 |\n",
      "|  16 | 3 Idiots                          | (2009) |      8.4 |\n",
      "|  17 | Soorarai Pottru                   | (2020) |      8.3 |\n",
      "|  18 | Jersey                            | (2019) |      8.3 |\n",
      "|  19 | Taare Zameen Par                  | (2007) |      8.3 |\n",
      "|  20 | Drishyam 2                        | (2021) |      8.3 |\n",
      "|  21 | Asuran                            | (2019) |      8.3 |\n",
      "|  22 | Thalapathi                        | (1991) |      8.3 |\n",
      "|  23 | Kaithi                            | (2019) |      8.3 |\n",
      "|  24 | Dangal                            | (2016) |      8.3 |\n",
      "|  25 | Sarpatta Parambarai               | (2021) |      8.3 |\n",
      "|  26 | Devasuram                         | (1993) |      8.3 |\n",
      "|  27 | Ratsasan                          | (2018) |      8.3 |\n",
      "|  28 | Aparajito                         | (1956) |      8.3 |\n",
      "|  29 | Jaane Bhi Do Yaaro                | (1983) |      8.3 |\n",
      "|  30 | Pyaasa                            | (1957) |      8.3 |\n",
      "|  31 | Peranbu                           | (2018) |      8.3 |\n",
      "|  32 | Vada Chennai                      | (2018) |      8.3 |\n",
      "|  33 | Guide                             | (1965) |      8.3 |\n",
      "|  34 | Thani Oruvan                      | (2015) |      8.3 |\n",
      "|  35 | Kannathil Muthamittal             | (2002) |      8.2 |\n",
      "|  36 | Chupke Chupke                     | (1975) |      8.2 |\n",
      "|  37 | Iruvar                            | (1997) |      8.2 |\n",
      "|  38 | Spadikam                          | (1995) |      8.2 |\n",
      "|  39 | Agent Sai Srinivasa Athreya       | (2019) |      8.2 |\n",
      "|  40 | Super Deluxe                      | (2019) |      8.2 |\n",
      "|  41 | Mahanati                          | (2018) |      8.2 |\n",
      "|  42 | Aruvi                             | (2016) |      8.2 |\n",
      "|  43 | Drishyam                          | (2013) |      8.2 |\n",
      "|  44 | Khosla Ka Ghosla!                 | (2006) |      8.2 |\n",
      "|  45 | Pudhu Pettai                      | (2006) |      8.2 |\n",
      "|  46 | Shershaah                         | (2021) |      8.2 |\n",
      "|  47 | Vikram Vedha                      | (2017) |      8.2 |\n",
      "|  48 | Tumbbad                           | (2018) |      8.2 |\n",
      "|  49 | Premam                            | (2015) |      8.2 |\n",
      "|  50 | Anniyan                           | (2005) |      8.2 |\n",
      "|  51 | Bangalore Days                    | (2014) |      8.2 |\n",
      "|  52 | Mudhalvan                         | (1999) |      8.2 |\n",
      "|  53 | Kaakkaa Muttai                    | (2014) |      8.2 |\n",
      "|  54 | Anand                             | (1971) |      8.2 |\n",
      "|  55 | Satya                             | (1998) |      8.2 |\n",
      "|  56 | Andhadhun                         | (2018) |      8.2 |\n",
      "|  57 | Papanasam                         | (2015) |      8.2 |\n",
      "|  58 | Dhuruvangal Pathinaaru            | (2016) |      8.2 |\n",
      "|  59 | Soodhu Kavvum                     | (2013) |      8.2 |\n",
      "|  60 | Shahid                            | (2012) |      8.2 |\n",
      "|  61 | Jigarthanda                       | (2014) |      8.1 |\n",
      "|  62 | Pithamagan                        | (2003) |      8.1 |\n",
      "|  63 | Gangs of Wasseypur                | (2012) |      8.1 |\n",
      "|  64 | Paan Singh Tomar                  | (2012) |      8.1 |\n",
      "|  65 | Bhaag Milkha Bhaag                | (2013) |      8.1 |\n",
      "|  66 | Hera Pheri                        | (2000) |      8.1 |\n",
      "|  67 | Sairat                            | (2016) |      8.1 |\n",
      "|  68 | Sholay                            | (1975) |      8.1 |\n",
      "|  69 | Swades: We, the People            | (2004) |      8.1 |\n",
      "|  70 | Talvar                            | (2015) |      8.1 |\n",
      "|  71 | Chak De! India                    | (2007) |      8.1 |\n",
      "|  72 | #Home                             | (2021) |      8.1 |\n",
      "|  73 | Maheshinte Prathikaaram           | (2016) |      8.1 |\n",
      "|  74 | Ustad Hotel                       | (2012) |      8.1 |\n",
      "|  75 | Black                             | (2005) |      8.1 |\n",
      "|  76 | Zindagi Na Milegi Dobara          | (2011) |      8.1 |\n",
      "|  77 | Mughal-E-Azam                     | (1960) |      8.1 |\n",
      "|  78 | Jo Jeeta Wohi Sikandar            | (1992) |      8.1 |\n",
      "|  79 | Drishyam                          | (2015) |      8.1 |\n",
      "|  80 | Nil Battey Sannata                | (2015) |      8.1 |\n",
      "|  81 | Theeran adhigaaram ondru          | (2017) |      8.1 |\n",
      "|  82 | Udaan                             | (2010) |      8.1 |\n",
      "|  83 | Article 15                        | (2019) |      8.1 |\n",
      "|  84 | Charulata                         | (1964) |      8.1 |\n",
      "|  85 | A Wednesday                       | (2008) |      8.1 |\n",
      "|  86 | Chhichhore                        | (2019) |      8.1 |\n",
      "|  87 | Masaan                            | (2015) |      8.1 |\n",
      "|  88 | Baasha                            | (1995) |      8.1 |\n",
      "|  89 | Munna Bhai M.B.B.S.               | (2003) |      8.1 |\n",
      "|  90 | Alai Payuthey                     | (2000) |      8.1 |\n",
      "|  91 | Queen                             | (2013) |      8.1 |\n",
      "|  92 | Sarfarosh                         | (1999) |      8.1 |\n",
      "|  93 | Dil Chahta Hai                    | (2001) |      8.1 |\n",
      "|  94 | OMG: Oh My God!                   | (2012) |      8.1 |\n",
      "|  95 | Virumandi                         | (2004) |      8.1 |\n",
      "|  96 | Roja                              | (1992) |      8.1 |\n",
      "|  97 | Rang De Basanti                   | (2006) |      8.1 |\n",
      "|  98 | Uri: The Surgical Strike          | (2019) |      8.1 |\n",
      "|  99 | Lagaan: Once Upon a Time in India | (2001) |      8.1 |\n",
      "| 100 | Andaz Apna Apna                   | (1994) |      8.1 |\n"
     ]
    }
   ],
   "source": [
    "Movies=pd.DataFrame({})\n",
    "Movies['Movies_name']=Movies_name[:100]\n",
    "Movies['Year']=Year[:100]\n",
    "Movies['Rating']=Rating[:100]\n",
    "Movies.reset_index(drop=True,inplace=True)\n",
    "Movies.index+=1\n",
    "print(Movies.to_markdown())"
   ]
  },
  {
   "cell_type": "markdown",
   "metadata": {},
   "source": [
    "# 3. Write a python program to display IMDB’s Top rated 100 Indian movies’ data (i.e. Name, IMDB rating, Year of release). "
   ]
  },
  {
   "cell_type": "code",
   "execution_count": null,
   "metadata": {},
   "outputs": [],
   "source": [
    "page=requests.get(\"https://www.imdb.com/india/top-rated-indian-movies/\")\n",
    "page"
   ]
  },
  {
   "cell_type": "code",
   "execution_count": null,
   "metadata": {},
   "outputs": [],
   "source": [
    "#to find webpage content\n",
    "Soup=BeautifulSoup(page.content)\n",
    "Soup"
   ]
  },
  {
   "cell_type": "code",
   "execution_count": null,
   "metadata": {},
   "outputs": [],
   "source": [
    "name=Soup.find_all(\"td\",class_=\"titleColumn\")\n",
    "name"
   ]
  },
  {
   "cell_type": "code",
   "execution_count": null,
   "metadata": {},
   "outputs": [],
   "source": [
    "Movies_name=[]  #empty list\n",
    "\n",
    "for i in name:\n",
    "    Movies_name.append(i.text.replace(\"\\n\",\"\"))\n",
    "    \n",
    "Movies_name"
   ]
  },
  {
   "cell_type": "code",
   "execution_count": null,
   "metadata": {},
   "outputs": [],
   "source": [
    "Movies_name=[]  #empty list\n",
    "\n",
    "for i in name:\n",
    "    for j in i.find_all(\"a\"):\n",
    "        Movies_name.append(j.text.replace(\"\\n\",\"\"))\n",
    "    \n",
    "Movies_name"
   ]
  },
  {
   "cell_type": "code",
   "execution_count": null,
   "metadata": {},
   "outputs": [],
   "source": [
    "rating=Soup.find_all(\"td\",class_=\"ratingColumn imdbRating\")\n",
    "rating"
   ]
  },
  {
   "cell_type": "code",
   "execution_count": null,
   "metadata": {},
   "outputs": [],
   "source": [
    "Rating=[]\n",
    "for i in rating:\n",
    "        Rating.append(i.text.replace(\"\\n\",\"\"))\n",
    "        \n",
    "Rating"
   ]
  },
  {
   "cell_type": "code",
   "execution_count": null,
   "metadata": {},
   "outputs": [],
   "source": [
    "year=Soup.find_all(\"span\",class_=\"secondaryInfo\")\n",
    "year"
   ]
  },
  {
   "cell_type": "code",
   "execution_count": null,
   "metadata": {},
   "outputs": [],
   "source": [
    "Year=[]\n",
    "for i in year:\n",
    "        Year.append(i.text)\n",
    "        \n",
    "Year"
   ]
  },
  {
   "cell_type": "code",
   "execution_count": 55,
   "metadata": {},
   "outputs": [
    {
     "name": "stdout",
     "output_type": "stream",
     "text": [
      "|     | Indian_Movies_name                | Year   |   Rating |\n",
      "|----:|:----------------------------------|:-------|---------:|\n",
      "|   1 | Nayakan                           | (1987) |      8.5 |\n",
      "|   2 | Anbe Sivam                        | (2003) |      8.5 |\n",
      "|   3 | Pariyerum Perumal                 | (2018) |      8.5 |\n",
      "|   4 | Golmaal                           | (1979) |      8.5 |\n",
      "|   5 | C/o Kancharapalem                 | (2018) |      8.5 |\n",
      "|   6 | Apur Sansar                       | (1959) |      8.5 |\n",
      "|   7 | Manichitrathazhu                  | (1993) |      8.5 |\n",
      "|   8 | Kireedam                          | (1989) |      8.5 |\n",
      "|   9 | Natsamrat                         | (2016) |      8.4 |\n",
      "|  10 | Pather Panchali                   | (1955) |      8.4 |\n",
      "|  11 | 96                                | (2018) |      8.4 |\n",
      "|  12 | Thevar Magan                      | (1992) |      8.4 |\n",
      "|  13 | Black Friday                      | (2004) |      8.4 |\n",
      "|  14 | Kumbalangi Nights                 | (2019) |      8.4 |\n",
      "|  15 | Visaaranai                        | (2015) |      8.4 |\n",
      "|  16 | 3 Idiots                          | (2009) |      8.4 |\n",
      "|  17 | Soorarai Pottru                   | (2020) |      8.3 |\n",
      "|  18 | Jersey                            | (2019) |      8.3 |\n",
      "|  19 | Taare Zameen Par                  | (2007) |      8.3 |\n",
      "|  20 | Drishyam 2                        | (2021) |      8.3 |\n",
      "|  21 | Asuran                            | (2019) |      8.3 |\n",
      "|  22 | Thalapathi                        | (1991) |      8.3 |\n",
      "|  23 | Kaithi                            | (2019) |      8.3 |\n",
      "|  24 | Dangal                            | (2016) |      8.3 |\n",
      "|  25 | Sarpatta Parambarai               | (2021) |      8.3 |\n",
      "|  26 | Devasuram                         | (1993) |      8.3 |\n",
      "|  27 | Ratsasan                          | (2018) |      8.3 |\n",
      "|  28 | Aparajito                         | (1956) |      8.3 |\n",
      "|  29 | Jaane Bhi Do Yaaro                | (1983) |      8.3 |\n",
      "|  30 | Pyaasa                            | (1957) |      8.3 |\n",
      "|  31 | Peranbu                           | (2018) |      8.3 |\n",
      "|  32 | Vada Chennai                      | (2018) |      8.3 |\n",
      "|  33 | Guide                             | (1965) |      8.3 |\n",
      "|  34 | Thani Oruvan                      | (2015) |      8.3 |\n",
      "|  35 | Kannathil Muthamittal             | (2002) |      8.2 |\n",
      "|  36 | Chupke Chupke                     | (1975) |      8.2 |\n",
      "|  37 | Iruvar                            | (1997) |      8.2 |\n",
      "|  38 | Spadikam                          | (1995) |      8.2 |\n",
      "|  39 | Agent Sai Srinivasa Athreya       | (2019) |      8.2 |\n",
      "|  40 | Super Deluxe                      | (2019) |      8.2 |\n",
      "|  41 | Mahanati                          | (2018) |      8.2 |\n",
      "|  42 | Aruvi                             | (2016) |      8.2 |\n",
      "|  43 | Drishyam                          | (2013) |      8.2 |\n",
      "|  44 | Khosla Ka Ghosla!                 | (2006) |      8.2 |\n",
      "|  45 | Pudhu Pettai                      | (2006) |      8.2 |\n",
      "|  46 | Shershaah                         | (2021) |      8.2 |\n",
      "|  47 | Vikram Vedha                      | (2017) |      8.2 |\n",
      "|  48 | Tumbbad                           | (2018) |      8.2 |\n",
      "|  49 | Premam                            | (2015) |      8.2 |\n",
      "|  50 | Anniyan                           | (2005) |      8.2 |\n",
      "|  51 | Bangalore Days                    | (2014) |      8.2 |\n",
      "|  52 | Mudhalvan                         | (1999) |      8.2 |\n",
      "|  53 | Kaakkaa Muttai                    | (2014) |      8.2 |\n",
      "|  54 | Anand                             | (1971) |      8.2 |\n",
      "|  55 | Satya                             | (1998) |      8.2 |\n",
      "|  56 | Andhadhun                         | (2018) |      8.2 |\n",
      "|  57 | Papanasam                         | (2015) |      8.2 |\n",
      "|  58 | Dhuruvangal Pathinaaru            | (2016) |      8.2 |\n",
      "|  59 | Soodhu Kavvum                     | (2013) |      8.2 |\n",
      "|  60 | Shahid                            | (2012) |      8.2 |\n",
      "|  61 | Jigarthanda                       | (2014) |      8.1 |\n",
      "|  62 | Pithamagan                        | (2003) |      8.1 |\n",
      "|  63 | Gangs of Wasseypur                | (2012) |      8.1 |\n",
      "|  64 | Paan Singh Tomar                  | (2012) |      8.1 |\n",
      "|  65 | Bhaag Milkha Bhaag                | (2013) |      8.1 |\n",
      "|  66 | Hera Pheri                        | (2000) |      8.1 |\n",
      "|  67 | Sairat                            | (2016) |      8.1 |\n",
      "|  68 | Sholay                            | (1975) |      8.1 |\n",
      "|  69 | Swades: We, the People            | (2004) |      8.1 |\n",
      "|  70 | Talvar                            | (2015) |      8.1 |\n",
      "|  71 | Chak De! India                    | (2007) |      8.1 |\n",
      "|  72 | #Home                             | (2021) |      8.1 |\n",
      "|  73 | Maheshinte Prathikaaram           | (2016) |      8.1 |\n",
      "|  74 | Ustad Hotel                       | (2012) |      8.1 |\n",
      "|  75 | Black                             | (2005) |      8.1 |\n",
      "|  76 | Zindagi Na Milegi Dobara          | (2011) |      8.1 |\n",
      "|  77 | Mughal-E-Azam                     | (1960) |      8.1 |\n",
      "|  78 | Jo Jeeta Wohi Sikandar            | (1992) |      8.1 |\n",
      "|  79 | Drishyam                          | (2015) |      8.1 |\n",
      "|  80 | Nil Battey Sannata                | (2015) |      8.1 |\n",
      "|  81 | Theeran adhigaaram ondru          | (2017) |      8.1 |\n",
      "|  82 | Udaan                             | (2010) |      8.1 |\n",
      "|  83 | Article 15                        | (2019) |      8.1 |\n",
      "|  84 | Charulata                         | (1964) |      8.1 |\n",
      "|  85 | A Wednesday                       | (2008) |      8.1 |\n",
      "|  86 | Chhichhore                        | (2019) |      8.1 |\n",
      "|  87 | Masaan                            | (2015) |      8.1 |\n",
      "|  88 | Baasha                            | (1995) |      8.1 |\n",
      "|  89 | Munna Bhai M.B.B.S.               | (2003) |      8.1 |\n",
      "|  90 | Alai Payuthey                     | (2000) |      8.1 |\n",
      "|  91 | Queen                             | (2013) |      8.1 |\n",
      "|  92 | Sarfarosh                         | (1999) |      8.1 |\n",
      "|  93 | Dil Chahta Hai                    | (2001) |      8.1 |\n",
      "|  94 | OMG: Oh My God!                   | (2012) |      8.1 |\n",
      "|  95 | Virumandi                         | (2004) |      8.1 |\n",
      "|  96 | Roja                              | (1992) |      8.1 |\n",
      "|  97 | Rang De Basanti                   | (2006) |      8.1 |\n",
      "|  98 | Uri: The Surgical Strike          | (2019) |      8.1 |\n",
      "|  99 | Lagaan: Once Upon a Time in India | (2001) |      8.1 |\n",
      "| 100 | Andaz Apna Apna                   | (1994) |      8.1 |\n"
     ]
    }
   ],
   "source": [
    "Movies=pd.DataFrame({})\n",
    "Movies['Indian_Movies_name']=Movies_name[:100]\n",
    "Movies['Year']=Year[:100]\n",
    "Movies['Rating']=Rating[:100]\n",
    "Movies.reset_index(drop=True,inplace=True)\n",
    "Movies.index+=1\n",
    "print(Movies.to_markdown())"
   ]
  },
  {
   "cell_type": "markdown",
   "metadata": {},
   "source": [
    "# 4.Write a python program to scrap book name, author name, genre and book review of any 5 books from ‘www.bookpage.com’ "
   ]
  },
  {
   "cell_type": "code",
   "execution_count": null,
   "metadata": {},
   "outputs": [],
   "source": [
    "page=requests.get(\"https://bookpage.com/reviews\")\n",
    "page"
   ]
  },
  {
   "cell_type": "code",
   "execution_count": null,
   "metadata": {},
   "outputs": [],
   "source": [
    "#to find webpage content\n",
    "Soup=BeautifulSoup(page.content)\n",
    "Soup"
   ]
  },
  {
   "cell_type": "code",
   "execution_count": null,
   "metadata": {},
   "outputs": [],
   "source": [
    "book_name=Soup.find_all(\"h4\",class_=\"italic\")\n",
    "book_name"
   ]
  },
  {
   "cell_type": "code",
   "execution_count": null,
   "metadata": {},
   "outputs": [],
   "source": [
    "Book_name=[]\n",
    "for i in book_name:\n",
    "        Book_name.append(i.text.replace(\"\\n\",\"\"))\n",
    "        \n",
    "Book_name"
   ]
  },
  {
   "cell_type": "code",
   "execution_count": null,
   "metadata": {},
   "outputs": [],
   "source": [
    "len(Book_name)"
   ]
  },
  {
   "cell_type": "code",
   "execution_count": null,
   "metadata": {},
   "outputs": [],
   "source": [
    "author_name=Soup.find_all(\"p\",class_=\"sans bold\")\n",
    "author_name"
   ]
  },
  {
   "cell_type": "code",
   "execution_count": null,
   "metadata": {},
   "outputs": [],
   "source": [
    "Author_name=[]\n",
    "for i in author_name:\n",
    "    Author_name.append(i.text.replace(\"\\n\",\"\"))\n",
    "    \n",
    "Author_name"
   ]
  },
  {
   "cell_type": "code",
   "execution_count": null,
   "metadata": {},
   "outputs": [],
   "source": [
    "len(Author_name)"
   ]
  },
  {
   "cell_type": "code",
   "execution_count": null,
   "metadata": {},
   "outputs": [],
   "source": [
    "genre=Soup.find_all(\"p\",class_=\"genre-links hidden-phone\")\n",
    "genre"
   ]
  },
  {
   "cell_type": "code",
   "execution_count": null,
   "metadata": {},
   "outputs": [],
   "source": [
    "Genre=[]\n",
    "for i in genre:\n",
    "    Genre.append(i.text.replace(\"\\n\",\"\"))\n",
    "    \n",
    "Genre"
   ]
  },
  {
   "cell_type": "code",
   "execution_count": null,
   "metadata": {},
   "outputs": [],
   "source": [
    "len(Genre)"
   ]
  },
  {
   "cell_type": "code",
   "execution_count": null,
   "metadata": {},
   "outputs": [],
   "source": [
    "review=Soup.find_all(\"p\",class_=\"excerpt\")\n",
    "review"
   ]
  },
  {
   "cell_type": "code",
   "execution_count": null,
   "metadata": {},
   "outputs": [],
   "source": [
    "Review=[]\n",
    "for i in review:\n",
    "    Review.append(i.text.replace(\"\\n\",\"\"))\n",
    "    \n",
    "Review"
   ]
  },
  {
   "cell_type": "code",
   "execution_count": null,
   "metadata": {},
   "outputs": [],
   "source": [
    "len(Review)"
   ]
  },
  {
   "cell_type": "code",
   "execution_count": 56,
   "metadata": {},
   "outputs": [
    {
     "data": {
      "text/html": [
       "<div>\n",
       "<style scoped>\n",
       "    .dataframe tbody tr th:only-of-type {\n",
       "        vertical-align: middle;\n",
       "    }\n",
       "\n",
       "    .dataframe tbody tr th {\n",
       "        vertical-align: top;\n",
       "    }\n",
       "\n",
       "    .dataframe thead th {\n",
       "        text-align: right;\n",
       "    }\n",
       "</style>\n",
       "<table border=\"1\" class=\"dataframe\">\n",
       "  <thead>\n",
       "    <tr style=\"text-align: right;\">\n",
       "      <th></th>\n",
       "      <th>Book_name</th>\n",
       "      <th>Author_name</th>\n",
       "      <th>Genre</th>\n",
       "      <th>Review</th>\n",
       "    </tr>\n",
       "  </thead>\n",
       "  <tbody>\n",
       "    <tr>\n",
       "      <th>0</th>\n",
       "      <td>★ Fallout</td>\n",
       "      <td>Steve Sheinkin</td>\n",
       "      <td>Children's / Middle Grade</td>\n",
       "      <td></td>\n",
       "    </tr>\n",
       "    <tr>\n",
       "      <th>1</th>\n",
       "      <td>Seeing Ghosts</td>\n",
       "      <td>Kat Chow</td>\n",
       "      <td>Nonfiction / Memoir / Family &amp; Relationships</td>\n",
       "      <td>Like the experience of grief itself, Kat Chow’...</td>\n",
       "    </tr>\n",
       "    <tr>\n",
       "      <th>2</th>\n",
       "      <td>Hero of Two Worlds</td>\n",
       "      <td>Mike Duncan</td>\n",
       "      <td>Nonfiction / History / American History</td>\n",
       "      <td>Mike Duncan’s insightful, impressive biography...</td>\n",
       "    </tr>\n",
       "    <tr>\n",
       "      <th>3</th>\n",
       "      <td>★ The Maidens</td>\n",
       "      <td>Alex Michaelides, Louise Brealey, Kobna Holdbr...</td>\n",
       "      <td>Audio / Mystery &amp; Suspense / Suspense</td>\n",
       "      <td>Actors Louise Brealey and Kobna Holdbrook-Smit...</td>\n",
       "    </tr>\n",
       "    <tr>\n",
       "      <th>4</th>\n",
       "      <td>The Guide</td>\n",
       "      <td>Peter Heller</td>\n",
       "      <td>Fiction / Speculative Fiction / Thriller</td>\n",
       "      <td>The Guide is a glorious getaway in every sense...</td>\n",
       "    </tr>\n",
       "  </tbody>\n",
       "</table>\n",
       "</div>"
      ],
      "text/plain": [
       "            Book_name                                        Author_name  \\\n",
       "0           ★ Fallout                                     Steve Sheinkin   \n",
       "1       Seeing Ghosts                                           Kat Chow   \n",
       "2  Hero of Two Worlds                                        Mike Duncan   \n",
       "3       ★ The Maidens  Alex Michaelides, Louise Brealey, Kobna Holdbr...   \n",
       "4           The Guide                                       Peter Heller   \n",
       "\n",
       "                                          Genre  \\\n",
       "0                     Children's / Middle Grade   \n",
       "1  Nonfiction / Memoir / Family & Relationships   \n",
       "2       Nonfiction / History / American History   \n",
       "3         Audio / Mystery & Suspense / Suspense   \n",
       "4      Fiction / Speculative Fiction / Thriller   \n",
       "\n",
       "                                              Review  \n",
       "0                                                     \n",
       "1  Like the experience of grief itself, Kat Chow’...  \n",
       "2  Mike Duncan’s insightful, impressive biography...  \n",
       "3  Actors Louise Brealey and Kobna Holdbrook-Smit...  \n",
       "4  The Guide is a glorious getaway in every sense...  "
      ]
     },
     "execution_count": 56,
     "metadata": {},
     "output_type": "execute_result"
    }
   ],
   "source": [
    "Book_data=pd.DataFrame({})\n",
    "Book_data['Book_name']=Book_name[:5]\n",
    "Book_data['Author_name']=Author_name[:5]\n",
    "Book_data['Genre']=Genre[:5]\n",
    "Book_data['Review']=Review[:5]\n",
    "Book_data"
   ]
  },
  {
   "cell_type": "code",
   "execution_count": null,
   "metadata": {},
   "outputs": [],
   "source": []
  }
 ],
 "metadata": {
  "kernelspec": {
   "display_name": "Python 3",
   "language": "python",
   "name": "python3"
  },
  "language_info": {
   "codemirror_mode": {
    "name": "ipython",
    "version": 3
   },
   "file_extension": ".py",
   "mimetype": "text/x-python",
   "name": "python",
   "nbconvert_exporter": "python",
   "pygments_lexer": "ipython3",
   "version": "3.8.5"
  }
 },
 "nbformat": 4,
 "nbformat_minor": 4
}
