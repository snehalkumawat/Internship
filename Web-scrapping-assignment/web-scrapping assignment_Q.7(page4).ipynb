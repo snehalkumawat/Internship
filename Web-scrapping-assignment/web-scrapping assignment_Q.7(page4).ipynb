{
 "cells": [
  {
   "cell_type": "markdown",
   "metadata": {},
   "source": [
    "# Web Scrapping Assignment-1(page-4)"
   ]
  },
  {
   "cell_type": "markdown",
   "metadata": {},
   "source": [
    "7. Write a python program to scrape details of all the mobile phones under Rs. 20,000 listed on Amazon.in. \n",
    "The scraped data should include Product Name, Price, Image URL and Average Rating"
   ]
  },
  {
   "cell_type": "code",
   "execution_count": null,
   "metadata": {},
   "outputs": [],
   "source": [
    "from bs4 import BeautifulSoup\n",
    "import requests\n",
    "  \n",
    "#File = open(\"out.csv\", \"a\")\n",
    "URL='https://www.amazon.in/s?k=best+mobile+under+20000&ref=nb_sb_noss_2'\n",
    "HEADERS = ({'User-Agent':\n",
    "           'Mozilla/5.0 (X11; Linux x86_64) AppleWebKit/537.36 (KHTML, like Gecko) Chrome/44.0.2403.157 Safari/537.36',\n",
    "                           'Accept-Language': 'en-US, en;q=0.5'})\n",
    "  \n",
    "webpage = requests.get(URL, headers=HEADERS)\n",
    "soup = BeautifulSoup(webpage.content)"
   ]
  },
  {
   "cell_type": "code",
   "execution_count": null,
   "metadata": {},
   "outputs": [],
   "source": [
    "#try\n",
    "title = soup.find_all(\"span\",class_= 'a-size-medium a-color-base a-text-normal')\n",
    "title\n"
   ]
  },
  {
   "cell_type": "code",
   "execution_count": null,
   "metadata": {},
   "outputs": [],
   "source": [
    "Title=[]\n",
    "for i in title:\n",
    "    if i==10:\n",
    "        break\n",
    "        \n",
    "    Title.append(i.text.replace(\"\\n\",\"\"))\n",
    "    \n",
    "Title"
   ]
  },
  {
   "cell_type": "code",
   "execution_count": null,
   "metadata": {},
   "outputs": [],
   "source": [
    "len(Title)"
   ]
  },
  {
   "cell_type": "code",
   "execution_count": null,
   "metadata": {},
   "outputs": [],
   "source": [
    "Title.pop(0)"
   ]
  },
  {
   "cell_type": "code",
   "execution_count": null,
   "metadata": {},
   "outputs": [],
   "source": [
    "Title"
   ]
  },
  {
   "cell_type": "code",
   "execution_count": null,
   "metadata": {},
   "outputs": [],
   "source": [
    "Title.pop(8)"
   ]
  },
  {
   "cell_type": "code",
   "execution_count": null,
   "metadata": {},
   "outputs": [],
   "source": [
    "Title"
   ]
  },
  {
   "cell_type": "code",
   "execution_count": null,
   "metadata": {},
   "outputs": [],
   "source": [
    "len(Title)"
   ]
  },
  {
   "cell_type": "code",
   "execution_count": null,
   "metadata": {},
   "outputs": [],
   "source": [
    "#Title.pop(7)\n",
    "#Title"
   ]
  },
  {
   "cell_type": "code",
   "execution_count": null,
   "metadata": {},
   "outputs": [],
   "source": []
  },
  {
   "cell_type": "code",
   "execution_count": null,
   "metadata": {},
   "outputs": [],
   "source": [
    "price= soup.find_all(\"span\",class_= 'a-price-whole')\n",
    "price"
   ]
  },
  {
   "cell_type": "code",
   "execution_count": null,
   "metadata": {},
   "outputs": [],
   "source": [
    "Price=[]\n",
    "for i in price:\n",
    "    if i==10:\n",
    "        break\n",
    "        \n",
    "    Price.append(i.text.replace(\"\\n\",\"\"))\n",
    "    \n",
    "Price"
   ]
  },
  {
   "cell_type": "code",
   "execution_count": null,
   "metadata": {},
   "outputs": [],
   "source": [
    "len(Price)"
   ]
  },
  {
   "cell_type": "code",
   "execution_count": null,
   "metadata": {},
   "outputs": [],
   "source": [
    "#Price.pop()"
   ]
  },
  {
   "cell_type": "code",
   "execution_count": null,
   "metadata": {},
   "outputs": [],
   "source": [
    "image_url= soup.find_all(\"img\",class_= 's-image')\n",
    "image_url"
   ]
  },
  {
   "cell_type": "code",
   "execution_count": null,
   "metadata": {},
   "outputs": [],
   "source": [
    "Image_url=[]  #empty list\n",
    "\n",
    "for i in image_url:\n",
    "    i['src']\n",
    "    Image_url.append(i.get('src'))\n",
    "#Image_url=Image_url[1::3]    \n",
    "print(Image_url)"
   ]
  },
  {
   "cell_type": "code",
   "execution_count": null,
   "metadata": {},
   "outputs": [],
   "source": [
    "avg_rating= soup.find_all(\"div\",class_= 'a-row a-size-small')\n",
    "avg_rating"
   ]
  },
  {
   "cell_type": "code",
   "execution_count": null,
   "metadata": {},
   "outputs": [],
   "source": [
    "Avg_rating=[]\n",
    "for i in avg_rating:\n",
    "    if i==10:\n",
    "        break\n",
    "        \n",
    "    Avg_rating.append(i.text.replace(\"\\n\",\"\"))\n",
    "    \n",
    "Avg_rating"
   ]
  },
  {
   "cell_type": "code",
   "execution_count": null,
   "metadata": {},
   "outputs": [],
   "source": [
    "len(Avg_rating)"
   ]
  },
  {
   "cell_type": "code",
   "execution_count": null,
   "metadata": {},
   "outputs": [],
   "source": [
    "Avg_rating.pop(6)\n",
    "Avg_rating"
   ]
  },
  {
   "cell_type": "code",
   "execution_count": null,
   "metadata": {},
   "outputs": [],
   "source": [
    "len(Avg_rating)"
   ]
  },
  {
   "cell_type": "code",
   "execution_count": 25,
   "metadata": {},
   "outputs": [
    {
     "data": {
      "text/html": [
       "<div>\n",
       "<style scoped>\n",
       "    .dataframe tbody tr th:only-of-type {\n",
       "        vertical-align: middle;\n",
       "    }\n",
       "\n",
       "    .dataframe tbody tr th {\n",
       "        vertical-align: top;\n",
       "    }\n",
       "\n",
       "    .dataframe thead th {\n",
       "        text-align: right;\n",
       "    }\n",
       "</style>\n",
       "<table border=\"1\" class=\"dataframe\">\n",
       "  <thead>\n",
       "    <tr style=\"text-align: right;\">\n",
       "      <th></th>\n",
       "      <th>Title</th>\n",
       "      <th>Price</th>\n",
       "      <th>Image_url</th>\n",
       "      <th>Avg_rating</th>\n",
       "    </tr>\n",
       "  </thead>\n",
       "  <tbody>\n",
       "    <tr>\n",
       "      <th>0</th>\n",
       "      <td>Samsung Galaxy M31 (Ocean Blue, 6GB RAM, 128GB...</td>\n",
       "      <td>16,999</td>\n",
       "      <td>https://m.media-amazon.com/images/I/61d-phh4Gf...</td>\n",
       "      <td>4.3 out of 5 stars 85,040</td>\n",
       "    </tr>\n",
       "    <tr>\n",
       "      <th>1</th>\n",
       "      <td>Redmi 9A (Nature Green, 2GB RAM, 32GB Storage)...</td>\n",
       "      <td>14,999</td>\n",
       "      <td>https://m.media-amazon.com/images/I/71-Su4Wr0H...</td>\n",
       "      <td>4.3 out of 5 stars 236,919</td>\n",
       "    </tr>\n",
       "    <tr>\n",
       "      <th>2</th>\n",
       "      <td>Redmi 9 (Sky Blue, 4GB RAM, 64GB Storage) | 2....</td>\n",
       "      <td>6,999</td>\n",
       "      <td>https://m.media-amazon.com/images/I/71sxlhYhKW...</td>\n",
       "      <td>4.2 out of 5 stars 69,001</td>\n",
       "    </tr>\n",
       "    <tr>\n",
       "      <th>3</th>\n",
       "      <td>realme C11 (2021) (Cool Grey, 2GB RAM, 32GB St...</td>\n",
       "      <td>8,999</td>\n",
       "      <td>https://m.media-amazon.com/images/I/71A9Vo1Bat...</td>\n",
       "      <td>4.2 out of 5 stars 81,556</td>\n",
       "    </tr>\n",
       "    <tr>\n",
       "      <th>4</th>\n",
       "      <td>Samsung Galaxy M31 (Ocean Blue, 6GB RAM, 128GB...</td>\n",
       "      <td>6,999</td>\n",
       "      <td>https://m.media-amazon.com/images/I/618UBhFmaQ...</td>\n",
       "      <td>4.1 out of 5 stars 2,292</td>\n",
       "    </tr>\n",
       "    <tr>\n",
       "      <th>5</th>\n",
       "      <td>Redmi 9 Power (Mighty Black, 6GB RAM, 128GB St...</td>\n",
       "      <td>14,999</td>\n",
       "      <td>https://m.media-amazon.com/images/S/onsitepubl...</td>\n",
       "      <td>4.3 out of 5 stars 236,919</td>\n",
       "    </tr>\n",
       "    <tr>\n",
       "      <th>6</th>\n",
       "      <td>Samsung Galaxy M31 (Space Black, 6GB RAM, 128G...</td>\n",
       "      <td>13,499</td>\n",
       "      <td>https://m.media-amazon.com/images/S/onsitepubl...</td>\n",
       "      <td>4.3 out of 5 stars 236,919</td>\n",
       "    </tr>\n",
       "    <tr>\n",
       "      <th>7</th>\n",
       "      <td>Oppo A31 (Fantasy White, 6GB RAM, 128GB Storag...</td>\n",
       "      <td>14,999</td>\n",
       "      <td>https://m.media-amazon.com/images/S/onsitepubl...</td>\n",
       "      <td>4.2 out of 5 stars 26,652</td>\n",
       "    </tr>\n",
       "    <tr>\n",
       "      <th>8</th>\n",
       "      <td>iQOO Z3 5G (Ace Black, 6GB RAM, 128GB Storage)...</td>\n",
       "      <td>12,490</td>\n",
       "      <td>https://m.media-amazon.com/images/S/onsitepubl...</td>\n",
       "      <td>4.0 out of 5 stars 3,484</td>\n",
       "    </tr>\n",
       "    <tr>\n",
       "      <th>9</th>\n",
       "      <td>Samsung Galaxy M21 2021 Edition (Charcoal Blac...</td>\n",
       "      <td>9,499</td>\n",
       "      <td>https://m.media-amazon.com/images/I/71-Su4Wr0H...</td>\n",
       "      <td>4.3 out of 5 stars 12,767</td>\n",
       "    </tr>\n",
       "    <tr>\n",
       "      <th>10</th>\n",
       "      <td>Redmi 9 Power (Mighty Black 4GB RAM 64GB Stora...</td>\n",
       "      <td>19,990</td>\n",
       "      <td>https://m.media-amazon.com/images/I/61LHaUOheh...</td>\n",
       "      <td>4.2 out of 5 stars 165,503</td>\n",
       "    </tr>\n",
       "    <tr>\n",
       "      <th>11</th>\n",
       "      <td>Samsung Galaxy M02s (Black,4GB RAM, 64GB Stora...</td>\n",
       "      <td>12,999</td>\n",
       "      <td>https://m.media-amazon.com/images/I/71OxJeyywS...</td>\n",
       "      <td>4.2 out of 5 stars 65,042</td>\n",
       "    </tr>\n",
       "    <tr>\n",
       "      <th>12</th>\n",
       "      <td>realme narzo 30 (Racing Blue, 6GB RAM, 128GB S...</td>\n",
       "      <td>10,999</td>\n",
       "      <td>https://m.media-amazon.com/images/I/61CnyJ-IbM...</td>\n",
       "      <td>4.1 out of 5 stars 13,296</td>\n",
       "    </tr>\n",
       "    <tr>\n",
       "      <th>13</th>\n",
       "      <td>Redmi Note 10 Pro Max (Dark Night, 6GB RAM, 12...</td>\n",
       "      <td>10,499</td>\n",
       "      <td>https://m.media-amazon.com/images/I/81aWyRY67S...</td>\n",
       "      <td>4.0 out of 5 stars 370</td>\n",
       "    </tr>\n",
       "    <tr>\n",
       "      <th>14</th>\n",
       "      <td>Samsung Galaxy M31 (Ocean Blue, 8GB RAM, 128GB...</td>\n",
       "      <td>14,999</td>\n",
       "      <td>https://m.media-amazon.com/images/I/61uIgwiP90...</td>\n",
       "      <td>4.1 out of 5 stars 20,264</td>\n",
       "    </tr>\n",
       "    <tr>\n",
       "      <th>15</th>\n",
       "      <td>Samsung Galaxy M31s (Mirage Blue, 8GB RAM, 128...</td>\n",
       "      <td>19,999</td>\n",
       "      <td>https://m.media-amazon.com/images/I/712+A5mH44...</td>\n",
       "      <td>4.3 out of 5 stars 236,919</td>\n",
       "    </tr>\n",
       "    <tr>\n",
       "      <th>16</th>\n",
       "      <td>Vivo Y20G 2021 (Purist Blue, 4GB RAM, 64GB Sto...</td>\n",
       "      <td>16,999</td>\n",
       "      <td>https://m.media-amazon.com/images/I/71hEzQGO5q...</td>\n",
       "      <td>4.3 out of 5 stars 85,040</td>\n",
       "    </tr>\n",
       "    <tr>\n",
       "      <th>17</th>\n",
       "      <td>Samsung Galaxy A22 5G (Gray, 6GB RAM, 128GB St...</td>\n",
       "      <td>16,999</td>\n",
       "      <td>https://m.media-amazon.com/images/I/71IkA3T7hI...</td>\n",
       "      <td>3.8 out of 5 stars 67</td>\n",
       "    </tr>\n",
       "    <tr>\n",
       "      <th>18</th>\n",
       "      <td>Mi 11X 5G Cosmic Black 6GB RAM 128GB ROM | SD ...</td>\n",
       "      <td>13,990</td>\n",
       "      <td>https://m.media-amazon.com/images/I/719tm7l723...</td>\n",
       "      <td>3.4 out of 5 stars 89</td>\n",
       "    </tr>\n",
       "    <tr>\n",
       "      <th>19</th>\n",
       "      <td>Mi 11X Pro 5G (Cosmic Black, 8GB RAM, 128GB St...</td>\n",
       "      <td>19,999</td>\n",
       "      <td>https://m.media-amazon.com/images/I/81Vpy0XrvF...</td>\n",
       "      <td>4.0 out of 5 stars 6,529</td>\n",
       "    </tr>\n",
       "  </tbody>\n",
       "</table>\n",
       "</div>"
      ],
      "text/plain": [
       "                                                Title   Price  \\\n",
       "0   Samsung Galaxy M31 (Ocean Blue, 6GB RAM, 128GB...  16,999   \n",
       "1   Redmi 9A (Nature Green, 2GB RAM, 32GB Storage)...  14,999   \n",
       "2   Redmi 9 (Sky Blue, 4GB RAM, 64GB Storage) | 2....   6,999   \n",
       "3   realme C11 (2021) (Cool Grey, 2GB RAM, 32GB St...   8,999   \n",
       "4   Samsung Galaxy M31 (Ocean Blue, 6GB RAM, 128GB...   6,999   \n",
       "5   Redmi 9 Power (Mighty Black, 6GB RAM, 128GB St...  14,999   \n",
       "6   Samsung Galaxy M31 (Space Black, 6GB RAM, 128G...  13,499   \n",
       "7   Oppo A31 (Fantasy White, 6GB RAM, 128GB Storag...  14,999   \n",
       "8   iQOO Z3 5G (Ace Black, 6GB RAM, 128GB Storage)...  12,490   \n",
       "9   Samsung Galaxy M21 2021 Edition (Charcoal Blac...   9,499   \n",
       "10  Redmi 9 Power (Mighty Black 4GB RAM 64GB Stora...  19,990   \n",
       "11  Samsung Galaxy M02s (Black,4GB RAM, 64GB Stora...  12,999   \n",
       "12  realme narzo 30 (Racing Blue, 6GB RAM, 128GB S...  10,999   \n",
       "13  Redmi Note 10 Pro Max (Dark Night, 6GB RAM, 12...  10,499   \n",
       "14  Samsung Galaxy M31 (Ocean Blue, 8GB RAM, 128GB...  14,999   \n",
       "15  Samsung Galaxy M31s (Mirage Blue, 8GB RAM, 128...  19,999   \n",
       "16  Vivo Y20G 2021 (Purist Blue, 4GB RAM, 64GB Sto...  16,999   \n",
       "17  Samsung Galaxy A22 5G (Gray, 6GB RAM, 128GB St...  16,999   \n",
       "18  Mi 11X 5G Cosmic Black 6GB RAM 128GB ROM | SD ...  13,990   \n",
       "19  Mi 11X Pro 5G (Cosmic Black, 8GB RAM, 128GB St...  19,999   \n",
       "\n",
       "                                            Image_url  \\\n",
       "0   https://m.media-amazon.com/images/I/61d-phh4Gf...   \n",
       "1   https://m.media-amazon.com/images/I/71-Su4Wr0H...   \n",
       "2   https://m.media-amazon.com/images/I/71sxlhYhKW...   \n",
       "3   https://m.media-amazon.com/images/I/71A9Vo1Bat...   \n",
       "4   https://m.media-amazon.com/images/I/618UBhFmaQ...   \n",
       "5   https://m.media-amazon.com/images/S/onsitepubl...   \n",
       "6   https://m.media-amazon.com/images/S/onsitepubl...   \n",
       "7   https://m.media-amazon.com/images/S/onsitepubl...   \n",
       "8   https://m.media-amazon.com/images/S/onsitepubl...   \n",
       "9   https://m.media-amazon.com/images/I/71-Su4Wr0H...   \n",
       "10  https://m.media-amazon.com/images/I/61LHaUOheh...   \n",
       "11  https://m.media-amazon.com/images/I/71OxJeyywS...   \n",
       "12  https://m.media-amazon.com/images/I/61CnyJ-IbM...   \n",
       "13  https://m.media-amazon.com/images/I/81aWyRY67S...   \n",
       "14  https://m.media-amazon.com/images/I/61uIgwiP90...   \n",
       "15  https://m.media-amazon.com/images/I/712+A5mH44...   \n",
       "16  https://m.media-amazon.com/images/I/71hEzQGO5q...   \n",
       "17  https://m.media-amazon.com/images/I/71IkA3T7hI...   \n",
       "18  https://m.media-amazon.com/images/I/719tm7l723...   \n",
       "19  https://m.media-amazon.com/images/I/81Vpy0XrvF...   \n",
       "\n",
       "                      Avg_rating  \n",
       "0    4.3 out of 5 stars 85,040    \n",
       "1   4.3 out of 5 stars 236,919    \n",
       "2    4.2 out of 5 stars 69,001    \n",
       "3    4.2 out of 5 stars 81,556    \n",
       "4     4.1 out of 5 stars 2,292    \n",
       "5   4.3 out of 5 stars 236,919    \n",
       "6   4.3 out of 5 stars 236,919    \n",
       "7    4.2 out of 5 stars 26,652    \n",
       "8     4.0 out of 5 stars 3,484    \n",
       "9    4.3 out of 5 stars 12,767    \n",
       "10  4.2 out of 5 stars 165,503    \n",
       "11   4.2 out of 5 stars 65,042    \n",
       "12   4.1 out of 5 stars 13,296    \n",
       "13      4.0 out of 5 stars 370    \n",
       "14   4.1 out of 5 stars 20,264    \n",
       "15  4.3 out of 5 stars 236,919    \n",
       "16   4.3 out of 5 stars 85,040    \n",
       "17       3.8 out of 5 stars 67    \n",
       "18       3.4 out of 5 stars 89    \n",
       "19    4.0 out of 5 stars 6,529    "
      ]
     },
     "execution_count": 25,
     "metadata": {},
     "output_type": "execute_result"
    }
   ],
   "source": [
    "import pandas as pd\n",
    "Mobile_phone=pd.DataFrame({})\n",
    "Mobile_phone['Title']=Title[:20]\n",
    "Mobile_phone['Price']=Price[:20]\n",
    "Mobile_phone['Image_url']=Image_url[:20]\n",
    "Mobile_phone['Avg_rating']=Avg_rating[:20]\n",
    "Mobile_phone"
   ]
  },
  {
   "cell_type": "code",
   "execution_count": null,
   "metadata": {},
   "outputs": [],
   "source": []
  }
 ],
 "metadata": {
  "kernelspec": {
   "display_name": "Python 3",
   "language": "python",
   "name": "python3"
  },
  "language_info": {
   "codemirror_mode": {
    "name": "ipython",
    "version": 3
   },
   "file_extension": ".py",
   "mimetype": "text/x-python",
   "name": "python",
   "nbconvert_exporter": "python",
   "pygments_lexer": "ipython3",
   "version": "3.8.5"
  }
 },
 "nbformat": 4,
 "nbformat_minor": 4
}
