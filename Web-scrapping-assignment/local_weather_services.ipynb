{
 "cells": [
  {
   "cell_type": "markdown",
   "metadata": {},
   "source": [
    "# 8. Write a python program to extract information about the local weather from the National Weather Service website of USA, https://www.weather.gov/ for the city, San Francisco.\n",
    "You need to extract data about 7 day extended forecast display for the city.\n",
    "The data should include period, short description, temperature and description. "
   ]
  },
  {
   "cell_type": "code",
   "execution_count": null,
   "metadata": {
    "scrolled": true
   },
   "outputs": [],
   "source": [
    "from bs4 import BeautifulSoup\n",
    "import requests\n",
    "page1=requests.get(\"https://forecast.weather.gov/MapClick.php?lat=37.7771&lon=-122.4196#.YSd-h44zbIU\")\n",
    "Soup=BeautifulSoup(page1.content)\n",
    "period=Soup.find_all(\"p\",class_=\"period-name\")\n",
    "\n",
    "Period=[]\n",
    "for i in period:\n",
    "    Period.append(i.text.replace(\"\\n\",\"\"))\n",
    "    \n",
    "Period\n"
   ]
  },
  {
   "cell_type": "code",
   "execution_count": null,
   "metadata": {},
   "outputs": [],
   "source": [
    "short_desc=Soup.find_all(\"p\",class_=\"short-desc\")\n",
    "\n",
    "Short_desc=[]\n",
    "for i in short_desc:\n",
    "    Short_desc.append(i.text.replace(\"\\n\",\" \"))\n",
    "    \n",
    "Short_desc\n"
   ]
  },
  {
   "cell_type": "code",
   "execution_count": null,
   "metadata": {},
   "outputs": [],
   "source": [
    "temp=Soup.find_all(\"p\",class_=\"temp temp-high\")\n",
    "\n",
    "Temperature1=[]\n",
    "for i in temp:\n",
    "    Temperature1.append(i.text.replace(\"\\n\",\"\"))\n",
    "    \n",
    "Temperature1"
   ]
  },
  {
   "cell_type": "code",
   "execution_count": null,
   "metadata": {},
   "outputs": [],
   "source": [
    "temp1=Soup.find_all(\"p\",class_=\"temp temp-low\")\n",
    "\n",
    "Temperature2=[]\n",
    "for j in temp1:\n",
    "        Temperature2.append(j.text.replace(\"\\n\",\"\"))\n",
    "Temperature2"
   ]
  },
  {
   "cell_type": "code",
   "execution_count": null,
   "metadata": {},
   "outputs": [],
   "source": [
    "Temperature2.insert(1,Temperature1[0])\n",
    "Temperature2.insert(3,Temperature1[1])\n",
    "Temperature2.insert(5,Temperature1[2])\n",
    "Temperature2.insert(7,Temperature1[3])\n",
    "#Temperature1.insert(9,Temperature2[5])\n",
    "Temperature2"
   ]
  },
  {
   "cell_type": "code",
   "execution_count": null,
   "metadata": {},
   "outputs": [],
   "source": [
    "Desc=Soup.find_all(\"div\",class_=\"col-sm-10 forecast-text\")\n",
    "\n",
    "Description=[]\n",
    "for i in Desc:\n",
    "    Description.append(i.text.replace(\"\\n\",\"\"))\n",
    "    \n",
    "Description=Description[:9]\n",
    "Description"
   ]
  },
  {
   "cell_type": "code",
   "execution_count": 26,
   "metadata": {},
   "outputs": [
    {
     "data": {
      "text/html": [
       "<div>\n",
       "<style scoped>\n",
       "    .dataframe tbody tr th:only-of-type {\n",
       "        vertical-align: middle;\n",
       "    }\n",
       "\n",
       "    .dataframe tbody tr th {\n",
       "        vertical-align: top;\n",
       "    }\n",
       "\n",
       "    .dataframe thead th {\n",
       "        text-align: right;\n",
       "    }\n",
       "</style>\n",
       "<table border=\"1\" class=\"dataframe\">\n",
       "  <thead>\n",
       "    <tr style=\"text-align: right;\">\n",
       "      <th></th>\n",
       "      <th>Period</th>\n",
       "      <th>Short_desc</th>\n",
       "      <th>Temperature</th>\n",
       "      <th>Description</th>\n",
       "    </tr>\n",
       "  </thead>\n",
       "  <tbody>\n",
       "    <tr>\n",
       "      <th>0</th>\n",
       "      <td>Overnight</td>\n",
       "      <td>Mostly Clear</td>\n",
       "      <td>Low: 57 °F</td>\n",
       "      <td>Mostly clear, with a low around 57. Southwest ...</td>\n",
       "    </tr>\n",
       "    <tr>\n",
       "      <th>1</th>\n",
       "      <td>Friday</td>\n",
       "      <td>Sunny thenHaze andBreezy</td>\n",
       "      <td>High: 76 °F</td>\n",
       "      <td>Widespread haze between noon and 4pm. Areas of...</td>\n",
       "    </tr>\n",
       "    <tr>\n",
       "      <th>2</th>\n",
       "      <td>FridayNight</td>\n",
       "      <td>Haze</td>\n",
       "      <td>Low: 58 °F</td>\n",
       "      <td>Widespread haze before 4am. Mostly clear, with...</td>\n",
       "    </tr>\n",
       "    <tr>\n",
       "      <th>3</th>\n",
       "      <td>Saturday</td>\n",
       "      <td>Haze</td>\n",
       "      <td>High: 77 °F</td>\n",
       "      <td>Widespread haze before 2pm. Sunny, with a high...</td>\n",
       "    </tr>\n",
       "    <tr>\n",
       "      <th>4</th>\n",
       "      <td>SaturdayNight</td>\n",
       "      <td>Mostly Clearand Breezythen PartlyCloudy</td>\n",
       "      <td>Low: 57 °F</td>\n",
       "      <td>Mostly clear, with a low around 57. Breezy, wi...</td>\n",
       "    </tr>\n",
       "    <tr>\n",
       "      <th>5</th>\n",
       "      <td>Sunday</td>\n",
       "      <td>Mostly Sunnythen Sunnyand Breezy</td>\n",
       "      <td>High: 73 °F</td>\n",
       "      <td>Sunny, with a high near 73. Breezy.</td>\n",
       "    </tr>\n",
       "    <tr>\n",
       "      <th>6</th>\n",
       "      <td>SundayNight</td>\n",
       "      <td>Mostly Clearand Breezythen PartlyCloudy</td>\n",
       "      <td>Low: 56 °F</td>\n",
       "      <td>Partly cloudy, with a low around 56. Breezy.</td>\n",
       "    </tr>\n",
       "    <tr>\n",
       "      <th>7</th>\n",
       "      <td>Monday</td>\n",
       "      <td>Mostly Sunny</td>\n",
       "      <td>High: 68 °F</td>\n",
       "      <td>Mostly sunny, with a high near 68.</td>\n",
       "    </tr>\n",
       "    <tr>\n",
       "      <th>8</th>\n",
       "      <td>MondayNight</td>\n",
       "      <td>Mostly Clear</td>\n",
       "      <td>Low: 55 °F</td>\n",
       "      <td>Mostly clear, with a low around 55.</td>\n",
       "    </tr>\n",
       "  </tbody>\n",
       "</table>\n",
       "</div>"
      ],
      "text/plain": [
       "          Period                               Short_desc  Temperature  \\\n",
       "0      Overnight                             Mostly Clear   Low: 57 °F   \n",
       "1         Friday                 Sunny thenHaze andBreezy  High: 76 °F   \n",
       "2    FridayNight                                     Haze   Low: 58 °F   \n",
       "3       Saturday                                     Haze  High: 77 °F   \n",
       "4  SaturdayNight  Mostly Clearand Breezythen PartlyCloudy   Low: 57 °F   \n",
       "5         Sunday         Mostly Sunnythen Sunnyand Breezy  High: 73 °F   \n",
       "6    SundayNight  Mostly Clearand Breezythen PartlyCloudy   Low: 56 °F   \n",
       "7         Monday                             Mostly Sunny  High: 68 °F   \n",
       "8    MondayNight                             Mostly Clear   Low: 55 °F   \n",
       "\n",
       "                                         Description  \n",
       "0  Mostly clear, with a low around 57. Southwest ...  \n",
       "1  Widespread haze between noon and 4pm. Areas of...  \n",
       "2  Widespread haze before 4am. Mostly clear, with...  \n",
       "3  Widespread haze before 2pm. Sunny, with a high...  \n",
       "4  Mostly clear, with a low around 57. Breezy, wi...  \n",
       "5               Sunny, with a high near 73. Breezy.   \n",
       "6      Partly cloudy, with a low around 56. Breezy.   \n",
       "7                 Mostly sunny, with a high near 68.  \n",
       "8                Mostly clear, with a low around 55.  "
      ]
     },
     "execution_count": 26,
     "metadata": {},
     "output_type": "execute_result"
    }
   ],
   "source": [
    "import pandas as pd\n",
    "df=pd.DataFrame({})\n",
    "df['Period']=Period\n",
    "df['Short_desc']=Short_desc\n",
    "df['Temperature']=Temperature2\n",
    "df['Description']=Description\n",
    "\n",
    "df"
   ]
  },
  {
   "cell_type": "code",
   "execution_count": null,
   "metadata": {},
   "outputs": [],
   "source": []
  }
 ],
 "metadata": {
  "kernelspec": {
   "display_name": "Python 3",
   "language": "python",
   "name": "python3"
  },
  "language_info": {
   "codemirror_mode": {
    "name": "ipython",
    "version": 3
   },
   "file_extension": ".py",
   "mimetype": "text/x-python",
   "name": "python",
   "nbconvert_exporter": "python",
   "pygments_lexer": "ipython3",
   "version": "3.8.5"
  }
 },
 "nbformat": 4,
 "nbformat_minor": 4
}
