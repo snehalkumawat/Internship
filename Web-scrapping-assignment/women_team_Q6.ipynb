{
 "cells": [
  {
   "cell_type": "markdown",
   "metadata": {},
   "source": [
    "# 6. Write a python program to scrape cricket rankings from ‘www.icc-cricket.com’. You have to scrape:\n",
    " i) Top 10 ODI teams in women’s cricket along with the records for matches, points and rating. \n"
   ]
  },
  {
   "cell_type": "code",
   "execution_count": null,
   "metadata": {},
   "outputs": [],
   "source": [
    "from bs4 import BeautifulSoup\n",
    "import requests\n",
    "page1=requests.get(\"https://www.icc-cricket.com/rankings/womens/team-rankings/odi\")\n",
    "Soup=BeautifulSoup(page1.content)\n",
    "top_ODI_teams=Soup.find_all(\"span\",class_=\"u-hide-phablet\")\n",
    "#top_ODI_teams\n",
    "Top_ODI_teams=[]\n",
    "for i in top_ODI_teams:\n",
    "         \n",
    "    Top_ODI_teams.append(i.text.replace(\"\\n\",\"\"))\n",
    "    \n",
    "#Top_ODI_teams=Top_ODI_teams[:10]\n",
    "Top_ODI_teams=Top_ODI_teams[:10]\n",
    "\n",
    "Top_ODI_teams\n",
    "\n"
   ]
  },
  {
   "cell_type": "code",
   "execution_count": null,
   "metadata": {},
   "outputs": [],
   "source": [
    "top_ODI_matches=Soup.find_all(\"td\",class_=\"table-body__cell u-center-text\")\n",
    "#top_ODI_matches\n",
    "matches=[]  #empty list\n",
    "\n",
    "for i in top_ODI_matches:\n",
    "        matches.append(i.text.replace(\"\\n\",\"\"))\n",
    "    \n",
    "matches1=matches[::2]\n",
    "matches1.insert(0,18)\n",
    "matches1"
   ]
  },
  {
   "cell_type": "code",
   "execution_count": null,
   "metadata": {},
   "outputs": [],
   "source": [
    "points=matches[1::2]\n",
    "points.insert(0,2955)\n",
    "points"
   ]
  },
  {
   "cell_type": "code",
   "execution_count": null,
   "metadata": {},
   "outputs": [],
   "source": [
    "rating=Soup.find_all(\"td\",class_=\"table-body__cell u-text-right rating\")\n",
    "#rating\n",
    "rating1=[]  #empty list\n",
    "\n",
    "for i in rating:\n",
    "        rating1.append(i.text.replace(\"\\n\",\"\"))\n",
    "    \n",
    "rating=rating[::2]\n",
    "rating1.insert(0,164)\n",
    "rating1"
   ]
  },
  {
   "cell_type": "code",
   "execution_count": 33,
   "metadata": {},
   "outputs": [
    {
     "name": "stdout",
     "output_type": "stream",
     "text": [
      "|    | Top_Women_teams   |   Matches | Points   |   Rating |\n",
      "|---:|:------------------|----------:|:---------|---------:|\n",
      "|  1 | Australia         |        18 | 2955     |      762 |\n",
      "|  2 | England           |        20 | 2,370    |      758 |\n",
      "|  3 | South Africa      |        24 | 2,828    |      756 |\n",
      "|  4 | India             |        23 | 2,535    |      754 |\n",
      "|  5 | New Zealand       |        21 | 1,947    |      736 |\n",
      "|  6 | West Indies       |        17 | 1,427    |      723 |\n",
      "|  7 | Pakistan          |        20 | 1,496    |      715 |\n",
      "|  8 | Bangladesh        |         5 | 306      |      706 |\n",
      "|  9 | Sri Lanka         |        11 | 519      |      701 |\n",
      "| 10 | Ireland           |         2 | 25       |      683 |\n"
     ]
    }
   ],
   "source": [
    "import pandas as pd\n",
    "Top_Women_team=pd.DataFrame({})\n",
    "Top_Women_team['Top_Women_teams']=Top_ODI_teams[:10]\n",
    "Top_Women_team['Matches']=matches1[:10]\n",
    "Top_Women_team['Points']=points[:10]\n",
    "Top_Women_team['Rating']=rating1[:10]\n",
    "\n",
    "Top_Women_team.reset_index(drop=True,inplace=True)\n",
    "Top_Women_team.index+=1\n",
    "print(Top_Women_team.to_markdown())"
   ]
  },
  {
   "cell_type": "markdown",
   "metadata": {},
   "source": [
    "# ii) Top 10 women’s ODI players along with the records of their team and rating. "
   ]
  },
  {
   "cell_type": "markdown",
   "metadata": {},
   "source": [
    "\n",
    "Women’s ODI Batting Rankings"
   ]
  },
  {
   "cell_type": "code",
   "execution_count": null,
   "metadata": {},
   "outputs": [],
   "source": [
    "from bs4 import BeautifulSoup\n",
    "import requests\n",
    "page1=requests.get(\"https://www.icc-cricket.com/rankings/womens/player-rankings/odi\")\n",
    "Soup=BeautifulSoup(page1.content)\n",
    "bat_player=Soup.find_all(\"td\",class_=\"table-body__cell name\")\n",
    "#top_ODI_teams\n",
    "Bat_player=[]\n",
    "for i in bat_player:\n",
    "         \n",
    "    Bat_player.append(i.text.replace(\"\\n\",\"\"))\n",
    "    \n",
    "#Top_ODI_teams=Top_ODI_teams[:10]\n",
    "Bat_player=Bat_player[:9]\n",
    "\n",
    "Bat_player.insert(0,'Mithali Raj')\n",
    "Bat_player\n"
   ]
  },
  {
   "cell_type": "code",
   "execution_count": null,
   "metadata": {},
   "outputs": [],
   "source": [
    "team=Soup.find_all(\"span\",class_=\"table-body__logo-text\")\n",
    "#top_ODI_matches\n",
    "Team=[]  #empty list\n",
    "\n",
    "for i in team:\n",
    "        Team.append(i.text.replace(\"\\n\",\"\"))\n",
    "    \n",
    "Team=Team[:9]\n",
    "Team.insert(0,'IND')\n",
    "Team"
   ]
  },
  {
   "cell_type": "code",
   "execution_count": null,
   "metadata": {},
   "outputs": [],
   "source": [
    "rating=Soup.find_all(\"td\",class_=\"table-body__cell u-text-right rating\")\n",
    "#rating\n",
    "rating1=[]  #empty list\n",
    "\n",
    "for i in rating:\n",
    "        rating1.append(i.text.replace(\"\\n\",\"\"))\n",
    "    \n",
    "rating1=rating1[:9]\n",
    "rating1.insert(0,762)\n",
    "rating1"
   ]
  },
  {
   "cell_type": "code",
   "execution_count": 32,
   "metadata": {},
   "outputs": [
    {
     "name": "stdout",
     "output_type": "stream",
     "text": [
      "|    | Top_Women_Player   | Team   |   Rating |\n",
      "|---:|:-------------------|:-------|---------:|\n",
      "|  1 | Mithali Raj        | SA     |      762 |\n",
      "|  2 | Lizelle Lee        | SA     |      758 |\n",
      "|  3 | Alyssa Healy       | AUS    |      756 |\n",
      "|  4 | Tammy Beaumont     | ENG    |      754 |\n",
      "|  5 | Stafanie Taylor    | WI     |      736 |\n",
      "|  6 | Meg Lanning        | AUS    |      723 |\n",
      "|  7 | Amy Satterthwaite  | NZ     |      715 |\n",
      "|  8 | Natalie Sciver     | ENG    |      706 |\n",
      "|  9 | Smriti Mandhana    | IND    |      701 |\n",
      "| 10 | Laura Wolvaardt    | SA     |      683 |\n"
     ]
    }
   ],
   "source": [
    "import pandas as pd\n",
    "Top_Women_player=pd.DataFrame({})\n",
    "Top_Women_player['Top_Women_Player']=Bat_player[:10]\n",
    "Top_Women_player['Team']=Team[:10]\n",
    "Top_Women_player['Rating']=rating1[:10]\n",
    "\n",
    "Top_Women_player.reset_index(drop=True,inplace=True)\n",
    "Top_Women_player.index+=1\n",
    "print(Top_Women_player.to_markdown())"
   ]
  },
  {
   "cell_type": "markdown",
   "metadata": {},
   "source": [
    "# iii) Top 10 women’s ODI all-rounder along with the records of their team and rating."
   ]
  },
  {
   "cell_type": "code",
   "execution_count": 30,
   "metadata": {},
   "outputs": [
    {
     "name": "stdout",
     "output_type": "stream",
     "text": [
      "|    | Top_Women_All_rounder_Player   | Team   |   Rating |\n",
      "|---:|:-------------------------------|:-------|---------:|\n",
      "|  1 | Marizanne Kapp                 | SA     |      418 |\n",
      "|  2 | Ellyse Perry                   | AUS    |      418 |\n",
      "|  3 | Stafanie Taylor                | WI     |      394 |\n",
      "|  4 | Natalie Sciver                 | ENG    |      365 |\n",
      "|  5 | Deepti Sharma                  | IND    |      331 |\n",
      "|  6 | Jess Jonassen                  | AUS    |      307 |\n",
      "|  7 | Ashleigh Gardner               | AUS    |      252 |\n",
      "|  8 | Dane van Niekerk               | SA     |      243 |\n",
      "|  9 | Sophie Devine                  | NZ     |      242 |\n",
      "| 10 | Katherine Brunt                | ENG    |      239 |\n"
     ]
    }
   ],
   "source": [
    "from bs4 import BeautifulSoup\n",
    "import requests\n",
    "page3=requests.get(\"https://www.icc-cricket.com/rankings/womens/player-rankings/odi/all-rounder\")\n",
    "Soup2=BeautifulSoup(page3.content)\n",
    "rounder_player=Soup2.find_all(\"td\",class_=\"table-body__cell rankings-table__name name\")\n",
    "#rounder_player\n",
    "\n",
    "All_rounder_player=[]\n",
    "for i in rounder_player:\n",
    "         \n",
    "    All_rounder_player.append(i.text.replace(\"\\n\",\"\"))\n",
    "    \n",
    "#Top_ODI_teams=Top_ODI_teams[:10]\n",
    "All_rounder_player=All_rounder_player[:9]\n",
    "\n",
    "All_rounder_player.insert(0,'Marizanne Kapp')\n",
    "All_rounder_player\n",
    "team1=Soup2.find_all(\"span\",class_=\"table-body__logo-text\")\n",
    "#top_ODI_matches\n",
    "Team1=[]  #empty list\n",
    "\n",
    "for i in team1:\n",
    "        Team1.append(i.text.replace(\"\\n\",\"\"))\n",
    "    \n",
    "Team1=Team1[:9]\n",
    "Team1.insert(0,'SA')\n",
    "Team1\n",
    "rating1=Soup2.find_all(\"td\",class_=\"table-body__cell rating\")\n",
    "#rating\n",
    "rating2=[]  #empty list\n",
    "\n",
    "for i in rating1:\n",
    "        rating2.append(i.text.replace(\"\\n\",\"\"))\n",
    "    \n",
    "rating2=rating2[:9]\n",
    "rating2.insert(0,418)\n",
    "rating2\n",
    "\n",
    "import pandas as pd\n",
    "Top_Women_player=pd.DataFrame({})\n",
    "Top_Women_player['Top_Women_All_rounder_Player']=All_rounder_player[:10]\n",
    "Top_Women_player['Team']=Team1[:10]\n",
    "Top_Women_player['Rating']=rating2[:10]\n",
    "\n",
    "Top_Women_player.reset_index(drop=True,inplace=True)\n",
    "Top_Women_player.index+=1\n",
    "print(Top_Women_player.to_markdown())"
   ]
  },
  {
   "cell_type": "code",
   "execution_count": null,
   "metadata": {},
   "outputs": [],
   "source": []
  }
 ],
 "metadata": {
  "kernelspec": {
   "display_name": "Python 3",
   "language": "python",
   "name": "python3"
  },
  "language_info": {
   "codemirror_mode": {
    "name": "ipython",
    "version": 3
   },
   "file_extension": ".py",
   "mimetype": "text/x-python",
   "name": "python",
   "nbconvert_exporter": "python",
   "pygments_lexer": "ipython3",
   "version": "3.8.5"
  }
 },
 "nbformat": 4,
 "nbformat_minor": 4
}
