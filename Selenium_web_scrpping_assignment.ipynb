{
 "cells": [
  {
   "cell_type": "markdown",
   "metadata": {},
   "source": [
    "# Selenium Web Scrapping Assignment -2"
   ]
  },
  {
   "cell_type": "code",
   "execution_count": 1,
   "metadata": {},
   "outputs": [],
   "source": [
    "#!pip install selenium"
   ]
  },
  {
   "cell_type": "code",
   "execution_count": 1,
   "metadata": {},
   "outputs": [],
   "source": [
    "import pandas as pd\n",
    "import selenium\n",
    "from selenium import webdriver\n",
    "import time\n",
    "from selenium.common.exceptions import NoSuchElementException"
   ]
  },
  {
   "cell_type": "code",
   "execution_count": 2,
   "metadata": {},
   "outputs": [],
   "source": [
    "driver=webdriver.Chrome(r'C:\\Users\\lenovo\\Downloads\\chromedriver_win32 (1)\\chromedriver.exe')"
   ]
  },
  {
   "cell_type": "code",
   "execution_count": 61,
   "metadata": {},
   "outputs": [],
   "source": [
    "# common function for onit driver\n",
    "def init_driver(url):\n",
    "    chrome_options = Options()\n",
    "    chrome_options.add_argument('--disable-blink-features=AutomationControlled')\n",
    "    driver=webdriver.Chrome(executable_path=CHROMEDRIVER_PATH,options=chrome_options)\n",
    "    driver.maximize_window()\n",
    "    \n",
    "    driver.get(url)\n",
    "    return driver"
   ]
  },
  {
   "cell_type": "markdown",
   "metadata": {},
   "source": [
    "\n",
    "# Q1: Write a python program to scrape data for “Data Analyst” Job position in “Bangalore” location. You have to scrape the job-title, job-location, company_name, experience_required. You have to scrape first 10 jobs data. "
   ]
  },
  {
   "cell_type": "code",
   "execution_count": 5,
   "metadata": {},
   "outputs": [],
   "source": [
    "url=' https://www.naukri.com/'\n",
    "driver.get(url)"
   ]
  },
  {
   "cell_type": "code",
   "execution_count": 6,
   "metadata": {},
   "outputs": [
    {
     "data": {
      "text/plain": [
       "<selenium.webdriver.remote.webelement.WebElement (session=\"d33f8377701b43a61b78a1ee51e968f3\", element=\"63a0c3e2-1515-42e4-b646-3d80f8447bb1\")>"
      ]
     },
     "execution_count": 6,
     "metadata": {},
     "output_type": "execute_result"
    }
   ],
   "source": [
    "search_job= driver.find_element_by_id(\"qsb-keyword-sugg\")\n",
    "search_job"
   ]
  },
  {
   "cell_type": "code",
   "execution_count": 7,
   "metadata": {},
   "outputs": [],
   "source": [
    "search_job.send_keys(\"Data Analyst\")"
   ]
  },
  {
   "cell_type": "code",
   "execution_count": 39,
   "metadata": {},
   "outputs": [],
   "source": [
    "#search_job=driver.find_element_by_xpath('//div[@class=\"title fw500 ellipsis\"]')\n",
    "#search_job"
   ]
  },
  {
   "cell_type": "code",
   "execution_count": 8,
   "metadata": {},
   "outputs": [],
   "source": [
    "search_loc= driver.find_element_by_id(\"qsb-location-sugg\")\n",
    "search_loc.send_keys(\"Bangalore\")"
   ]
  },
  {
   "cell_type": "code",
   "execution_count": 31,
   "metadata": {},
   "outputs": [],
   "source": [
    "#search_loc=driver.find_element_by_xpath('//input[@class=\"sugInp\"]')\n",
    "#search_loc.send_keys(\"Bangalore\")"
   ]
  },
  {
   "cell_type": "code",
   "execution_count": 9,
   "metadata": {},
   "outputs": [
    {
     "data": {
      "text/plain": [
       "<selenium.webdriver.remote.webelement.WebElement (session=\"d33f8377701b43a61b78a1ee51e968f3\", element=\"62f358f1-86bc-47f2-8582-d069f8cb0cea\")>"
      ]
     },
     "execution_count": 9,
     "metadata": {},
     "output_type": "execute_result"
    }
   ],
   "source": [
    "search_btn=driver.find_element_by_xpath('//button[@class=\"btn\"]')\n",
    "search_btn"
   ]
  },
  {
   "cell_type": "code",
   "execution_count": 10,
   "metadata": {},
   "outputs": [],
   "source": [
    "search_btn.click()"
   ]
  },
  {
   "cell_type": "code",
   "execution_count": 11,
   "metadata": {},
   "outputs": [
    {
     "data": {
      "text/plain": [
       "[<selenium.webdriver.remote.webelement.WebElement (session=\"d33f8377701b43a61b78a1ee51e968f3\", element=\"31416e4a-6666-49cf-abd2-5a58f92331f8\")>,\n",
       " <selenium.webdriver.remote.webelement.WebElement (session=\"d33f8377701b43a61b78a1ee51e968f3\", element=\"e27b30f3-72cb-4836-ba39-33a89a27e0eb\")>,\n",
       " <selenium.webdriver.remote.webelement.WebElement (session=\"d33f8377701b43a61b78a1ee51e968f3\", element=\"694269d5-10b7-4c05-995f-7951d2b41cee\")>,\n",
       " <selenium.webdriver.remote.webelement.WebElement (session=\"d33f8377701b43a61b78a1ee51e968f3\", element=\"e3bd5001-9d7b-4376-9848-3411d160971d\")>,\n",
       " <selenium.webdriver.remote.webelement.WebElement (session=\"d33f8377701b43a61b78a1ee51e968f3\", element=\"a7a3c244-11d2-4738-aadd-2e004eb0a1d0\")>,\n",
       " <selenium.webdriver.remote.webelement.WebElement (session=\"d33f8377701b43a61b78a1ee51e968f3\", element=\"cefc4d32-d5f1-4792-9792-4f801cf69b82\")>,\n",
       " <selenium.webdriver.remote.webelement.WebElement (session=\"d33f8377701b43a61b78a1ee51e968f3\", element=\"4669c949-1dbb-4073-874a-540fe481e70b\")>,\n",
       " <selenium.webdriver.remote.webelement.WebElement (session=\"d33f8377701b43a61b78a1ee51e968f3\", element=\"b9ca436b-dffa-4665-8cd7-d43372f24484\")>,\n",
       " <selenium.webdriver.remote.webelement.WebElement (session=\"d33f8377701b43a61b78a1ee51e968f3\", element=\"971905c6-efa6-4342-86d9-61d9cf2dccee\")>,\n",
       " <selenium.webdriver.remote.webelement.WebElement (session=\"d33f8377701b43a61b78a1ee51e968f3\", element=\"3b3c9be9-0aaf-49b0-b490-1407864e3782\")>,\n",
       " <selenium.webdriver.remote.webelement.WebElement (session=\"d33f8377701b43a61b78a1ee51e968f3\", element=\"6cc84bfd-a027-4e21-b413-aba049719e97\")>,\n",
       " <selenium.webdriver.remote.webelement.WebElement (session=\"d33f8377701b43a61b78a1ee51e968f3\", element=\"647d085b-9034-4eab-9baf-b699e20f7600\")>,\n",
       " <selenium.webdriver.remote.webelement.WebElement (session=\"d33f8377701b43a61b78a1ee51e968f3\", element=\"df7a976a-5959-436f-89e7-56803c9f58cb\")>,\n",
       " <selenium.webdriver.remote.webelement.WebElement (session=\"d33f8377701b43a61b78a1ee51e968f3\", element=\"6f16934a-1888-4bf1-bcc1-717cb7a6e65c\")>,\n",
       " <selenium.webdriver.remote.webelement.WebElement (session=\"d33f8377701b43a61b78a1ee51e968f3\", element=\"c8fb9ea9-8bbc-4f02-ab01-c909c6a84732\")>,\n",
       " <selenium.webdriver.remote.webelement.WebElement (session=\"d33f8377701b43a61b78a1ee51e968f3\", element=\"d7938029-712f-4f40-a851-017bcf3d6451\")>,\n",
       " <selenium.webdriver.remote.webelement.WebElement (session=\"d33f8377701b43a61b78a1ee51e968f3\", element=\"c861cdc5-6daa-4e35-87eb-b6736e5c264b\")>,\n",
       " <selenium.webdriver.remote.webelement.WebElement (session=\"d33f8377701b43a61b78a1ee51e968f3\", element=\"65130254-7b90-4c55-8b5f-090eae84f521\")>,\n",
       " <selenium.webdriver.remote.webelement.WebElement (session=\"d33f8377701b43a61b78a1ee51e968f3\", element=\"3977ecc4-5134-4e94-9b5b-8f0302846b8b\")>,\n",
       " <selenium.webdriver.remote.webelement.WebElement (session=\"d33f8377701b43a61b78a1ee51e968f3\", element=\"262f5875-7095-46d3-ad07-c6ad5e2c510a\")>]"
      ]
     },
     "execution_count": 11,
     "metadata": {},
     "output_type": "execute_result"
    }
   ],
   "source": [
    "title_tags=driver.find_elements_by_xpath('//a[@class=\"title fw500 ellipsis\"]')\n",
    "title_tags"
   ]
  },
  {
   "cell_type": "code",
   "execution_count": 12,
   "metadata": {},
   "outputs": [
    {
     "data": {
      "text/plain": [
       "['Senior Data Analyst',\n",
       " 'Tcs Hiring For Senior Data Analyst (bfsi domain)',\n",
       " 'Business Data Analyst',\n",
       " 'Business Data Analyst',\n",
       " 'Business Data Analyst - Google Data Studio & SQL',\n",
       " 'Senior Data Analyst',\n",
       " 'Tcs Hiring For MDM (master data management) Data Analyst (bfsi domain)',\n",
       " 'Senior Data Analyst IDAM Services',\n",
       " 'Data Analyst/Sr.Data Engineer',\n",
       " 'SENIOR DATA ANALYST']"
      ]
     },
     "execution_count": 12,
     "metadata": {},
     "output_type": "execute_result"
    }
   ],
   "source": [
    "#now the text ofthe job title is inside the tag is extracted above.\n",
    "# so we run for loop  to extract data\n",
    "job_titles=[]\n",
    "for i in title_tags:\n",
    "    job_titles.append(i.text)\n",
    "\n",
    "job_titles=job_titles[:10]\n",
    "job_titles"
   ]
  },
  {
   "cell_type": "code",
   "execution_count": 13,
   "metadata": {},
   "outputs": [
    {
     "data": {
      "text/plain": [
       "[<selenium.webdriver.remote.webelement.WebElement (session=\"d33f8377701b43a61b78a1ee51e968f3\", element=\"bc062bc4-ad0a-440a-8db5-12fd8fd2cf2c\")>,\n",
       " <selenium.webdriver.remote.webelement.WebElement (session=\"d33f8377701b43a61b78a1ee51e968f3\", element=\"cb8fb02a-e660-4b00-b201-dee2b76566e8\")>,\n",
       " <selenium.webdriver.remote.webelement.WebElement (session=\"d33f8377701b43a61b78a1ee51e968f3\", element=\"fe9368de-9324-4e56-b4dd-96704110f50b\")>,\n",
       " <selenium.webdriver.remote.webelement.WebElement (session=\"d33f8377701b43a61b78a1ee51e968f3\", element=\"3e670d60-fa73-446f-9ab6-950e6b14354c\")>,\n",
       " <selenium.webdriver.remote.webelement.WebElement (session=\"d33f8377701b43a61b78a1ee51e968f3\", element=\"11635158-db1c-4cf9-bd04-b030472d2da3\")>,\n",
       " <selenium.webdriver.remote.webelement.WebElement (session=\"d33f8377701b43a61b78a1ee51e968f3\", element=\"aee7b600-fd0d-4347-8f46-9de7d47d600d\")>,\n",
       " <selenium.webdriver.remote.webelement.WebElement (session=\"d33f8377701b43a61b78a1ee51e968f3\", element=\"3c735477-04ce-4dd8-8270-46b4e5d9cd3a\")>,\n",
       " <selenium.webdriver.remote.webelement.WebElement (session=\"d33f8377701b43a61b78a1ee51e968f3\", element=\"17ed8e25-ce32-41b7-9381-6b72eacb963f\")>,\n",
       " <selenium.webdriver.remote.webelement.WebElement (session=\"d33f8377701b43a61b78a1ee51e968f3\", element=\"98626b18-a8e5-45ad-a656-319b2e46c722\")>,\n",
       " <selenium.webdriver.remote.webelement.WebElement (session=\"d33f8377701b43a61b78a1ee51e968f3\", element=\"2da8a288-1bb5-4f94-85b0-955ab61b78b7\")>,\n",
       " <selenium.webdriver.remote.webelement.WebElement (session=\"d33f8377701b43a61b78a1ee51e968f3\", element=\"b0a9d78a-a8d2-437f-819a-bbd895f482b9\")>,\n",
       " <selenium.webdriver.remote.webelement.WebElement (session=\"d33f8377701b43a61b78a1ee51e968f3\", element=\"7731f759-5967-403f-b431-808606ae1d7b\")>,\n",
       " <selenium.webdriver.remote.webelement.WebElement (session=\"d33f8377701b43a61b78a1ee51e968f3\", element=\"65503364-d2d9-4fc5-8c5e-d18af0a9ecf8\")>,\n",
       " <selenium.webdriver.remote.webelement.WebElement (session=\"d33f8377701b43a61b78a1ee51e968f3\", element=\"0db4a5a6-4ade-4b74-9616-65d29e45fcfe\")>,\n",
       " <selenium.webdriver.remote.webelement.WebElement (session=\"d33f8377701b43a61b78a1ee51e968f3\", element=\"feeac59b-556f-4b3c-9c4b-5f742b6b9fd2\")>,\n",
       " <selenium.webdriver.remote.webelement.WebElement (session=\"d33f8377701b43a61b78a1ee51e968f3\", element=\"d44e3b8a-25a9-40d7-9d5f-df6289ae9778\")>,\n",
       " <selenium.webdriver.remote.webelement.WebElement (session=\"d33f8377701b43a61b78a1ee51e968f3\", element=\"d1a2b4c8-cb4e-4f2b-928a-721e12894a02\")>,\n",
       " <selenium.webdriver.remote.webelement.WebElement (session=\"d33f8377701b43a61b78a1ee51e968f3\", element=\"ed0d8000-ccc2-4519-b1a3-059216dda66a\")>,\n",
       " <selenium.webdriver.remote.webelement.WebElement (session=\"d33f8377701b43a61b78a1ee51e968f3\", element=\"7e1e35a2-471f-484b-ae7f-8032223afcd9\")>,\n",
       " <selenium.webdriver.remote.webelement.WebElement (session=\"d33f8377701b43a61b78a1ee51e968f3\", element=\"5f99cdee-08f9-4af9-b6d1-5b751c569285\")>]"
      ]
     },
     "execution_count": 13,
     "metadata": {},
     "output_type": "execute_result"
    }
   ],
   "source": [
    "loc_tags=driver.find_elements_by_xpath('//li[@class=\"fleft grey-text br2 placeHolderLi location\"]')\n",
    "loc_tags"
   ]
  },
  {
   "cell_type": "code",
   "execution_count": 14,
   "metadata": {},
   "outputs": [
    {
     "data": {
      "text/plain": [
       "['Gurgaon/Gurugram, Bangalore/Bengaluru',\n",
       " 'Chennai, Bangalore/Bengaluru',\n",
       " 'Bangalore/Bengaluru',\n",
       " 'Bangalore/Bengaluru',\n",
       " 'Bangalore/Bengaluru',\n",
       " 'Hyderabad/Secunderabad, Pune, Gurgaon/Gurugram, Chennai, Bangalore/Bengaluru, Mumbai (All Areas)\\n(WFH during Covid)',\n",
       " 'Chennai, Bangalore/Bengaluru',\n",
       " 'Bangalore/Bengaluru',\n",
       " 'Hyderabad/Secunderabad, Chennai, Bangalore/Bengaluru\\n(WFH during Covid)',\n",
       " 'Bangalore/Bengaluru']"
      ]
     },
     "execution_count": 14,
     "metadata": {},
     "output_type": "execute_result"
    }
   ],
   "source": [
    "#now the text ofthe location is inside the tag is extracted above.\n",
    "# so we run for loop  to extract data\n",
    "location=[]\n",
    "for i in loc_tags:\n",
    "    location.append(i.text)\n",
    "\n",
    "location=location[:10]\n",
    "location"
   ]
  },
  {
   "cell_type": "code",
   "execution_count": 15,
   "metadata": {},
   "outputs": [
    {
     "data": {
      "text/plain": [
       "[<selenium.webdriver.remote.webelement.WebElement (session=\"d33f8377701b43a61b78a1ee51e968f3\", element=\"60b883f1-ef41-4978-a648-32aae2a3b024\")>,\n",
       " <selenium.webdriver.remote.webelement.WebElement (session=\"d33f8377701b43a61b78a1ee51e968f3\", element=\"cc4d0fa4-8ec4-47fd-bb0a-789d41280b61\")>,\n",
       " <selenium.webdriver.remote.webelement.WebElement (session=\"d33f8377701b43a61b78a1ee51e968f3\", element=\"3f9a394e-d837-4359-a2d4-16c66ff24908\")>,\n",
       " <selenium.webdriver.remote.webelement.WebElement (session=\"d33f8377701b43a61b78a1ee51e968f3\", element=\"ae84e492-9b85-4ccc-89f9-5f2f792d8133\")>,\n",
       " <selenium.webdriver.remote.webelement.WebElement (session=\"d33f8377701b43a61b78a1ee51e968f3\", element=\"efe97a75-0da1-4cd6-ab64-acea7ad02959\")>,\n",
       " <selenium.webdriver.remote.webelement.WebElement (session=\"d33f8377701b43a61b78a1ee51e968f3\", element=\"c8546945-051a-43d8-8cf5-d94faf39a534\")>,\n",
       " <selenium.webdriver.remote.webelement.WebElement (session=\"d33f8377701b43a61b78a1ee51e968f3\", element=\"78f555a2-cf9d-4f0e-beab-9ada30e1470d\")>,\n",
       " <selenium.webdriver.remote.webelement.WebElement (session=\"d33f8377701b43a61b78a1ee51e968f3\", element=\"61986bf3-d958-4645-9a5e-886fcec650cd\")>,\n",
       " <selenium.webdriver.remote.webelement.WebElement (session=\"d33f8377701b43a61b78a1ee51e968f3\", element=\"280ecb6b-1e2d-4e08-887d-d0f4c6b6d5d0\")>,\n",
       " <selenium.webdriver.remote.webelement.WebElement (session=\"d33f8377701b43a61b78a1ee51e968f3\", element=\"b4fcb2e8-0e6e-4897-8efa-8196c6ebb4a5\")>,\n",
       " <selenium.webdriver.remote.webelement.WebElement (session=\"d33f8377701b43a61b78a1ee51e968f3\", element=\"0021e601-6aed-4f71-ab5d-1adf14cb497c\")>,\n",
       " <selenium.webdriver.remote.webelement.WebElement (session=\"d33f8377701b43a61b78a1ee51e968f3\", element=\"e1ac5867-1e8f-4a25-9b33-94c414581d7b\")>,\n",
       " <selenium.webdriver.remote.webelement.WebElement (session=\"d33f8377701b43a61b78a1ee51e968f3\", element=\"b2632bd7-7aa2-460f-9ab2-16c1f24b102a\")>,\n",
       " <selenium.webdriver.remote.webelement.WebElement (session=\"d33f8377701b43a61b78a1ee51e968f3\", element=\"9c4ba61c-17bd-4b97-afb8-b4c2835c64e7\")>,\n",
       " <selenium.webdriver.remote.webelement.WebElement (session=\"d33f8377701b43a61b78a1ee51e968f3\", element=\"e1534412-18ec-4194-9972-8c66ab35b695\")>,\n",
       " <selenium.webdriver.remote.webelement.WebElement (session=\"d33f8377701b43a61b78a1ee51e968f3\", element=\"c6a74854-5873-4c3b-a10f-e80876ef190b\")>,\n",
       " <selenium.webdriver.remote.webelement.WebElement (session=\"d33f8377701b43a61b78a1ee51e968f3\", element=\"cbb6cf58-f0e1-4d88-9bad-3be343de8148\")>,\n",
       " <selenium.webdriver.remote.webelement.WebElement (session=\"d33f8377701b43a61b78a1ee51e968f3\", element=\"845323d3-7124-454d-89d0-6b61e849735f\")>,\n",
       " <selenium.webdriver.remote.webelement.WebElement (session=\"d33f8377701b43a61b78a1ee51e968f3\", element=\"12020759-db69-48aa-ad43-5e7663f42603\")>,\n",
       " <selenium.webdriver.remote.webelement.WebElement (session=\"d33f8377701b43a61b78a1ee51e968f3\", element=\"23c9a638-8cf1-49e3-8285-cdb6d0cbc112\")>]"
      ]
     },
     "execution_count": 15,
     "metadata": {},
     "output_type": "execute_result"
    }
   ],
   "source": [
    "company_tags=driver.find_elements_by_xpath('//a[@class=\"subTitle ellipsis fleft\"]')\n",
    "company_tags"
   ]
  },
  {
   "cell_type": "code",
   "execution_count": 16,
   "metadata": {},
   "outputs": [
    {
     "data": {
      "text/plain": [
       "['Gaussian Networks Private Limited',\n",
       " 'Tata Consultancy Services Ltd.',\n",
       " 'Trigent Software',\n",
       " 'Trigent Software',\n",
       " 'AVE-Promagne',\n",
       " 'Virtusa Consulting Services Pvt Ltd',\n",
       " 'Tata Consultancy Services Ltd.',\n",
       " 'GlaxoSmithKline Pharmaceuticals Limited',\n",
       " 'SYREN TECHNOLOGIES PRIVATE LIMITED',\n",
       " 'McAfee Software (India) Pvt. Ltd']"
      ]
     },
     "execution_count": 16,
     "metadata": {},
     "output_type": "execute_result"
    }
   ],
   "source": [
    "#now the text of the company title is inside the tag is extracted above.\n",
    "# so we run for loop  to extract data\n",
    "company_title=[]\n",
    "for i in company_tags:\n",
    "    company_title.append(i.text)\n",
    "\n",
    "company_title=company_title[:10]\n",
    "company_title"
   ]
  },
  {
   "cell_type": "code",
   "execution_count": 17,
   "metadata": {},
   "outputs": [
    {
     "data": {
      "text/plain": [
       "[<selenium.webdriver.remote.webelement.WebElement (session=\"d33f8377701b43a61b78a1ee51e968f3\", element=\"f87beb51-d645-4169-a414-fc06f30fb48d\")>,\n",
       " <selenium.webdriver.remote.webelement.WebElement (session=\"d33f8377701b43a61b78a1ee51e968f3\", element=\"d54bac6d-3836-48b8-b3d5-d0b7d4b51d77\")>,\n",
       " <selenium.webdriver.remote.webelement.WebElement (session=\"d33f8377701b43a61b78a1ee51e968f3\", element=\"5db7fe26-98fa-45e9-b8d4-a6a1bb7e41c9\")>,\n",
       " <selenium.webdriver.remote.webelement.WebElement (session=\"d33f8377701b43a61b78a1ee51e968f3\", element=\"8a57c7db-5ce0-4bdf-8173-de3c6e3c1486\")>,\n",
       " <selenium.webdriver.remote.webelement.WebElement (session=\"d33f8377701b43a61b78a1ee51e968f3\", element=\"b1fe7578-c0fa-486f-a179-cc3ffb1b2726\")>,\n",
       " <selenium.webdriver.remote.webelement.WebElement (session=\"d33f8377701b43a61b78a1ee51e968f3\", element=\"3ab78082-bf36-4868-b146-965282ab8a0d\")>,\n",
       " <selenium.webdriver.remote.webelement.WebElement (session=\"d33f8377701b43a61b78a1ee51e968f3\", element=\"a9251cba-3408-4496-b591-575f604f4c76\")>,\n",
       " <selenium.webdriver.remote.webelement.WebElement (session=\"d33f8377701b43a61b78a1ee51e968f3\", element=\"a1418121-30f1-4196-941c-3a15113ab7a6\")>,\n",
       " <selenium.webdriver.remote.webelement.WebElement (session=\"d33f8377701b43a61b78a1ee51e968f3\", element=\"ad4283a4-b899-43f9-8292-4639abe00e50\")>,\n",
       " <selenium.webdriver.remote.webelement.WebElement (session=\"d33f8377701b43a61b78a1ee51e968f3\", element=\"4e6bb4ea-41ad-44e0-bfb3-2c8f8660ae5c\")>,\n",
       " <selenium.webdriver.remote.webelement.WebElement (session=\"d33f8377701b43a61b78a1ee51e968f3\", element=\"4b07e79b-8dbc-40bd-8e23-25e2e9bdc522\")>,\n",
       " <selenium.webdriver.remote.webelement.WebElement (session=\"d33f8377701b43a61b78a1ee51e968f3\", element=\"0b82de58-a0f7-479c-ab5c-168d07f4e517\")>,\n",
       " <selenium.webdriver.remote.webelement.WebElement (session=\"d33f8377701b43a61b78a1ee51e968f3\", element=\"231b43d5-52df-40c0-a649-4b4e36d26500\")>,\n",
       " <selenium.webdriver.remote.webelement.WebElement (session=\"d33f8377701b43a61b78a1ee51e968f3\", element=\"29f5f9b8-c379-4caf-9805-12c7ec22abf2\")>,\n",
       " <selenium.webdriver.remote.webelement.WebElement (session=\"d33f8377701b43a61b78a1ee51e968f3\", element=\"f98aea74-b293-4c7d-9f2d-32b75bc7eb87\")>,\n",
       " <selenium.webdriver.remote.webelement.WebElement (session=\"d33f8377701b43a61b78a1ee51e968f3\", element=\"84de8534-2631-43b2-9ccc-e5c06bfe946b\")>,\n",
       " <selenium.webdriver.remote.webelement.WebElement (session=\"d33f8377701b43a61b78a1ee51e968f3\", element=\"f0d231a5-6c75-47dd-9595-cc21ce657bff\")>,\n",
       " <selenium.webdriver.remote.webelement.WebElement (session=\"d33f8377701b43a61b78a1ee51e968f3\", element=\"840e8bc4-ac7f-4212-82c1-d4ad222e4ef2\")>,\n",
       " <selenium.webdriver.remote.webelement.WebElement (session=\"d33f8377701b43a61b78a1ee51e968f3\", element=\"c2b69cf4-737c-4fad-b551-ac05c83a1667\")>,\n",
       " <selenium.webdriver.remote.webelement.WebElement (session=\"d33f8377701b43a61b78a1ee51e968f3\", element=\"84219028-3b57-4941-9b83-7be0273d72e1\")>]"
      ]
     },
     "execution_count": 17,
     "metadata": {},
     "output_type": "execute_result"
    }
   ],
   "source": [
    "exp_tags=driver.find_elements_by_xpath('//li[@class=\"fleft grey-text br2 placeHolderLi experience\"]')\n",
    "exp_tags"
   ]
  },
  {
   "cell_type": "code",
   "execution_count": 18,
   "metadata": {},
   "outputs": [
    {
     "data": {
      "text/plain": [
       "['3-5 Yrs',\n",
       " '6-11 Yrs',\n",
       " '5-10 Yrs',\n",
       " '5-10 Yrs',\n",
       " '3-8 Yrs',\n",
       " '8-12 Yrs',\n",
       " '6-11 Yrs',\n",
       " '4-8 Yrs',\n",
       " '4-9 Yrs',\n",
       " '6-8 Yrs']"
      ]
     },
     "execution_count": 18,
     "metadata": {},
     "output_type": "execute_result"
    }
   ],
   "source": [
    "#now the text ofthe experience is inside the tag is extracted above.\n",
    "# so we run for loop  to extract data\n",
    "Experience=[]\n",
    "for i in exp_tags:\n",
    "    Experience.append(i.text)\n",
    "\n",
    "Experience=Experience[:10]\n",
    "Experience"
   ]
  },
  {
   "cell_type": "code",
   "execution_count": 19,
   "metadata": {},
   "outputs": [
    {
     "data": {
      "text/html": [
       "<div>\n",
       "<style scoped>\n",
       "    .dataframe tbody tr th:only-of-type {\n",
       "        vertical-align: middle;\n",
       "    }\n",
       "\n",
       "    .dataframe tbody tr th {\n",
       "        vertical-align: top;\n",
       "    }\n",
       "\n",
       "    .dataframe thead th {\n",
       "        text-align: right;\n",
       "    }\n",
       "</style>\n",
       "<table border=\"1\" class=\"dataframe\">\n",
       "  <thead>\n",
       "    <tr style=\"text-align: right;\">\n",
       "      <th></th>\n",
       "      <th>Job_title</th>\n",
       "      <th>Location</th>\n",
       "      <th>Company_name</th>\n",
       "      <th>Experience</th>\n",
       "    </tr>\n",
       "  </thead>\n",
       "  <tbody>\n",
       "    <tr>\n",
       "      <th>0</th>\n",
       "      <td>Senior Data Analyst</td>\n",
       "      <td>Gurgaon/Gurugram, Bangalore/Bengaluru</td>\n",
       "      <td>Gaussian Networks Private Limited</td>\n",
       "      <td>3-5 Yrs</td>\n",
       "    </tr>\n",
       "    <tr>\n",
       "      <th>1</th>\n",
       "      <td>Tcs Hiring For Senior Data Analyst (bfsi domain)</td>\n",
       "      <td>Chennai, Bangalore/Bengaluru</td>\n",
       "      <td>Tata Consultancy Services Ltd.</td>\n",
       "      <td>6-11 Yrs</td>\n",
       "    </tr>\n",
       "    <tr>\n",
       "      <th>2</th>\n",
       "      <td>Business Data Analyst</td>\n",
       "      <td>Bangalore/Bengaluru</td>\n",
       "      <td>Trigent Software</td>\n",
       "      <td>5-10 Yrs</td>\n",
       "    </tr>\n",
       "    <tr>\n",
       "      <th>3</th>\n",
       "      <td>Business Data Analyst</td>\n",
       "      <td>Bangalore/Bengaluru</td>\n",
       "      <td>Trigent Software</td>\n",
       "      <td>5-10 Yrs</td>\n",
       "    </tr>\n",
       "    <tr>\n",
       "      <th>4</th>\n",
       "      <td>Business Data Analyst - Google Data Studio &amp; SQL</td>\n",
       "      <td>Bangalore/Bengaluru</td>\n",
       "      <td>AVE-Promagne</td>\n",
       "      <td>3-8 Yrs</td>\n",
       "    </tr>\n",
       "    <tr>\n",
       "      <th>5</th>\n",
       "      <td>Senior Data Analyst</td>\n",
       "      <td>Hyderabad/Secunderabad, Pune, Gurgaon/Gurugram...</td>\n",
       "      <td>Virtusa Consulting Services Pvt Ltd</td>\n",
       "      <td>8-12 Yrs</td>\n",
       "    </tr>\n",
       "    <tr>\n",
       "      <th>6</th>\n",
       "      <td>Tcs Hiring For MDM (master data management) Da...</td>\n",
       "      <td>Chennai, Bangalore/Bengaluru</td>\n",
       "      <td>Tata Consultancy Services Ltd.</td>\n",
       "      <td>6-11 Yrs</td>\n",
       "    </tr>\n",
       "    <tr>\n",
       "      <th>7</th>\n",
       "      <td>Senior Data Analyst IDAM Services</td>\n",
       "      <td>Bangalore/Bengaluru</td>\n",
       "      <td>GlaxoSmithKline Pharmaceuticals Limited</td>\n",
       "      <td>4-8 Yrs</td>\n",
       "    </tr>\n",
       "    <tr>\n",
       "      <th>8</th>\n",
       "      <td>Data Analyst/Sr.Data Engineer</td>\n",
       "      <td>Hyderabad/Secunderabad, Chennai, Bangalore/Ben...</td>\n",
       "      <td>SYREN TECHNOLOGIES PRIVATE LIMITED</td>\n",
       "      <td>4-9 Yrs</td>\n",
       "    </tr>\n",
       "    <tr>\n",
       "      <th>9</th>\n",
       "      <td>SENIOR DATA ANALYST</td>\n",
       "      <td>Bangalore/Bengaluru</td>\n",
       "      <td>McAfee Software (India) Pvt. Ltd</td>\n",
       "      <td>6-8 Yrs</td>\n",
       "    </tr>\n",
       "  </tbody>\n",
       "</table>\n",
       "</div>"
      ],
      "text/plain": [
       "                                           Job_title  \\\n",
       "0                                Senior Data Analyst   \n",
       "1   Tcs Hiring For Senior Data Analyst (bfsi domain)   \n",
       "2                              Business Data Analyst   \n",
       "3                              Business Data Analyst   \n",
       "4   Business Data Analyst - Google Data Studio & SQL   \n",
       "5                                Senior Data Analyst   \n",
       "6  Tcs Hiring For MDM (master data management) Da...   \n",
       "7                  Senior Data Analyst IDAM Services   \n",
       "8                      Data Analyst/Sr.Data Engineer   \n",
       "9                                SENIOR DATA ANALYST   \n",
       "\n",
       "                                            Location  \\\n",
       "0              Gurgaon/Gurugram, Bangalore/Bengaluru   \n",
       "1                       Chennai, Bangalore/Bengaluru   \n",
       "2                                Bangalore/Bengaluru   \n",
       "3                                Bangalore/Bengaluru   \n",
       "4                                Bangalore/Bengaluru   \n",
       "5  Hyderabad/Secunderabad, Pune, Gurgaon/Gurugram...   \n",
       "6                       Chennai, Bangalore/Bengaluru   \n",
       "7                                Bangalore/Bengaluru   \n",
       "8  Hyderabad/Secunderabad, Chennai, Bangalore/Ben...   \n",
       "9                                Bangalore/Bengaluru   \n",
       "\n",
       "                              Company_name Experience  \n",
       "0        Gaussian Networks Private Limited    3-5 Yrs  \n",
       "1           Tata Consultancy Services Ltd.   6-11 Yrs  \n",
       "2                         Trigent Software   5-10 Yrs  \n",
       "3                         Trigent Software   5-10 Yrs  \n",
       "4                             AVE-Promagne    3-8 Yrs  \n",
       "5      Virtusa Consulting Services Pvt Ltd   8-12 Yrs  \n",
       "6           Tata Consultancy Services Ltd.   6-11 Yrs  \n",
       "7  GlaxoSmithKline Pharmaceuticals Limited    4-8 Yrs  \n",
       "8       SYREN TECHNOLOGIES PRIVATE LIMITED    4-9 Yrs  \n",
       "9         McAfee Software (India) Pvt. Ltd    6-8 Yrs  "
      ]
     },
     "execution_count": 19,
     "metadata": {},
     "output_type": "execute_result"
    }
   ],
   "source": [
    "#DataFrame for the job Analyst in Banglore location\n",
    "\n",
    "import pandas as pd\n",
    "df=pd.DataFrame({})\n",
    "df['Job_title']=job_titles\n",
    "df['Location']=location\n",
    "df['Company_name']=company_title\n",
    "df['Experience']=Experience\n",
    "df\n",
    "#df.reset_index(drop=True,inplace=True)\n",
    "#df.index+=1\n",
    "#print(df.to_markdown())"
   ]
  },
  {
   "cell_type": "markdown",
   "metadata": {},
   "source": [
    "# Q2: Write a python program to scrape data for “Data Scientist” Job position in “Bangalore” location. You have to scrape the job-title, job-location, company_name, full job-description. You have to scrape first 10 jobs data."
   ]
  },
  {
   "cell_type": "code",
   "execution_count": 20,
   "metadata": {},
   "outputs": [],
   "source": [
    "url=' https://www.naukri.com/'\n",
    "driver.get(url)\n",
    "search_job= driver.find_element_by_id(\"qsb-keyword-sugg\")\n",
    "search_job\n",
    "search_job.send_keys(\"Data Scientist\")\n",
    "search_loc= driver.find_element_by_id(\"qsb-location-sugg\")\n",
    "search_loc.send_keys(\"Bangalore\")\n",
    "search_btn=driver.find_element_by_xpath('//button[@class=\"btn\"]')\n",
    "search_btn\n",
    "search_btn.click()\n"
   ]
  },
  {
   "cell_type": "code",
   "execution_count": 21,
   "metadata": {},
   "outputs": [
    {
     "data": {
      "text/plain": [
       "['Hiring For Data Scientist',\n",
       " 'Lead Data Scientist BFSI',\n",
       " 'Associate Data Scientist',\n",
       " 'Data Scientist: Advanced Analytics',\n",
       " 'Senior Data Scientist',\n",
       " 'Senior Data Scientist',\n",
       " 'Sr Data Scientist',\n",
       " 'Sr Data Scientist',\n",
       " 'SENIOR DATA SCIENTIST',\n",
       " 'Senior Data Scientist IN4']"
      ]
     },
     "execution_count": 21,
     "metadata": {},
     "output_type": "execute_result"
    }
   ],
   "source": [
    "title_tags=driver.find_elements_by_xpath('//a[@class=\"title fw500 ellipsis\"]')\n",
    "title_tags\n",
    "\n",
    "#now the text of the job title is inside the tag is extracted above.\n",
    "# so we run for loop  to extract data\n",
    "job_titles=[]\n",
    "for i in title_tags:\n",
    "    job_titles.append(i.text)\n",
    "\n",
    "job_titles=job_titles[:10]\n",
    "job_titles"
   ]
  },
  {
   "cell_type": "code",
   "execution_count": 22,
   "metadata": {},
   "outputs": [
    {
     "data": {
      "text/plain": [
       "['Chennai, Bangalore/Bengaluru, Mumbai (All Areas)\\n(WFH during Covid)',\n",
       " 'Bengaluru/Bangalore',\n",
       " 'Bangalore/Bengaluru',\n",
       " 'Bengaluru/Bangalore',\n",
       " 'Bangalore/Bengaluru',\n",
       " 'Bangalore/Bengaluru',\n",
       " 'Bengaluru/Bangalore',\n",
       " 'Bangalore/Bengaluru',\n",
       " 'Bangalore/Bengaluru',\n",
       " 'Bangalore/Bengaluru']"
      ]
     },
     "execution_count": 22,
     "metadata": {},
     "output_type": "execute_result"
    }
   ],
   "source": [
    "loc_tags=driver.find_elements_by_xpath('//li[@class=\"fleft grey-text br2 placeHolderLi location\"]')\n",
    "loc_tags\n",
    "\n",
    "\n",
    "#now the text of the location is inside the tag is extracted above.\n",
    "# so we run for loop  to extract data\n",
    "location=[]\n",
    "for i in loc_tags:\n",
    "    location.append(i.text)\n",
    "\n",
    "location=location[:10]\n",
    "location"
   ]
  },
  {
   "cell_type": "code",
   "execution_count": 23,
   "metadata": {},
   "outputs": [
    {
     "data": {
      "text/plain": [
       "['Tata Consultancy Services Ltd.',\n",
       " 'IBM India Pvt. Limited',\n",
       " 'Philips India Limited',\n",
       " 'IBM India Pvt. Limited',\n",
       " 'Walmart Labs',\n",
       " 'Airbnb',\n",
       " 'IBM India Pvt. Limited',\n",
       " 'IBM India Pvt. Limited',\n",
       " 'Happiest Minds Technologies Pvt.Ltd',\n",
       " 'Walmart Labs']"
      ]
     },
     "execution_count": 23,
     "metadata": {},
     "output_type": "execute_result"
    }
   ],
   "source": [
    "company_tags=driver.find_elements_by_xpath('//a[@class=\"subTitle ellipsis fleft\"]')\n",
    "company_tags\n",
    "\n",
    "#now the text of the company namme is inside the tag is extracted above.\n",
    "# so we run for loop  to extract data\n",
    "company_name=[]\n",
    "for i in company_tags:\n",
    "    company_name.append(i.text)\n",
    "\n",
    "company_name=company_name[:10]\n",
    "company_name"
   ]
  },
  {
   "cell_type": "code",
   "execution_count": null,
   "metadata": {},
   "outputs": [],
   "source": []
  },
  {
   "cell_type": "code",
   "execution_count": 24,
   "metadata": {},
   "outputs": [
    {
     "data": {
      "text/plain": [
       "['Minimum 3 year of experience in being Applied Machine Learning Engineer roleExperience ...',\n",
       " 'IntroductionSoftware Developers at IBM are the backbone of our strategic initiatives to...',\n",
       " 'Use predictive modeling to increase and optimize customer experiences, revenue generati...',\n",
       " 'PhD / Masters in STEM-related fields with knowledge in Quantum ComputingRequired Techni...',\n",
       " 'As a Senior Data Scientist for Walmart, you ll have the opportunity to: Drive data-deri...',\n",
       " 'Professional industry experience in a quantitative analysis role (7+ years preferred) C...',\n",
       " 'Demonstrated extensive experience in building and deploying production quality models i...',\n",
       " 'Demonstrated extensive experience in building and deploying production quality models i...',\n",
       " 'Should possess extensive knowledge of and experience in applying data mining and machin...',\n",
       " 'Bachelor s degree in Engineering / Analytics or Master s Degree in Statistics / Compute...']"
      ]
     },
     "execution_count": 24,
     "metadata": {},
     "output_type": "execute_result"
    }
   ],
   "source": [
    "job_desc=driver.find_elements_by_xpath('//div[@class=\"job-description fs12 grey-text\"]')\n",
    "job_desc\n",
    "\n",
    "#now the text of the company namme is inside the tag is extracted above.\n",
    "# so we run for loop  to extract data\n",
    "Job_desc=[]\n",
    "for i in job_desc:\n",
    "    Job_desc.append(i.text)\n",
    "\n",
    "Job_desc=Job_desc[:10]\n",
    "Job_desc"
   ]
  },
  {
   "cell_type": "code",
   "execution_count": 25,
   "metadata": {},
   "outputs": [
    {
     "data": {
      "text/html": [
       "<div>\n",
       "<style scoped>\n",
       "    .dataframe tbody tr th:only-of-type {\n",
       "        vertical-align: middle;\n",
       "    }\n",
       "\n",
       "    .dataframe tbody tr th {\n",
       "        vertical-align: top;\n",
       "    }\n",
       "\n",
       "    .dataframe thead th {\n",
       "        text-align: right;\n",
       "    }\n",
       "</style>\n",
       "<table border=\"1\" class=\"dataframe\">\n",
       "  <thead>\n",
       "    <tr style=\"text-align: right;\">\n",
       "      <th></th>\n",
       "      <th>Job_title</th>\n",
       "      <th>Location</th>\n",
       "      <th>Company_name</th>\n",
       "      <th>Job_description</th>\n",
       "    </tr>\n",
       "  </thead>\n",
       "  <tbody>\n",
       "    <tr>\n",
       "      <th>0</th>\n",
       "      <td>Hiring For Data Scientist</td>\n",
       "      <td>Chennai, Bangalore/Bengaluru, Mumbai (All Area...</td>\n",
       "      <td>Tata Consultancy Services Ltd.</td>\n",
       "      <td>Minimum 3 year of experience in being Applied ...</td>\n",
       "    </tr>\n",
       "    <tr>\n",
       "      <th>1</th>\n",
       "      <td>Lead Data Scientist BFSI</td>\n",
       "      <td>Bengaluru/Bangalore</td>\n",
       "      <td>IBM India Pvt. Limited</td>\n",
       "      <td>IntroductionSoftware Developers at IBM are the...</td>\n",
       "    </tr>\n",
       "    <tr>\n",
       "      <th>2</th>\n",
       "      <td>Associate Data Scientist</td>\n",
       "      <td>Bangalore/Bengaluru</td>\n",
       "      <td>Philips India Limited</td>\n",
       "      <td>Use predictive modeling to increase and optimi...</td>\n",
       "    </tr>\n",
       "    <tr>\n",
       "      <th>3</th>\n",
       "      <td>Data Scientist: Advanced Analytics</td>\n",
       "      <td>Bengaluru/Bangalore</td>\n",
       "      <td>IBM India Pvt. Limited</td>\n",
       "      <td>PhD / Masters in STEM-related fields with know...</td>\n",
       "    </tr>\n",
       "    <tr>\n",
       "      <th>4</th>\n",
       "      <td>Senior Data Scientist</td>\n",
       "      <td>Bangalore/Bengaluru</td>\n",
       "      <td>Walmart Labs</td>\n",
       "      <td>As a Senior Data Scientist for Walmart, you ll...</td>\n",
       "    </tr>\n",
       "    <tr>\n",
       "      <th>5</th>\n",
       "      <td>Senior Data Scientist</td>\n",
       "      <td>Bangalore/Bengaluru</td>\n",
       "      <td>Airbnb</td>\n",
       "      <td>Professional industry experience in a quantita...</td>\n",
       "    </tr>\n",
       "    <tr>\n",
       "      <th>6</th>\n",
       "      <td>Sr Data Scientist</td>\n",
       "      <td>Bengaluru/Bangalore</td>\n",
       "      <td>IBM India Pvt. Limited</td>\n",
       "      <td>Demonstrated extensive experience in building ...</td>\n",
       "    </tr>\n",
       "    <tr>\n",
       "      <th>7</th>\n",
       "      <td>Sr Data Scientist</td>\n",
       "      <td>Bangalore/Bengaluru</td>\n",
       "      <td>IBM India Pvt. Limited</td>\n",
       "      <td>Demonstrated extensive experience in building ...</td>\n",
       "    </tr>\n",
       "    <tr>\n",
       "      <th>8</th>\n",
       "      <td>SENIOR DATA SCIENTIST</td>\n",
       "      <td>Bangalore/Bengaluru</td>\n",
       "      <td>Happiest Minds Technologies Pvt.Ltd</td>\n",
       "      <td>Should possess extensive knowledge of and expe...</td>\n",
       "    </tr>\n",
       "    <tr>\n",
       "      <th>9</th>\n",
       "      <td>Senior Data Scientist IN4</td>\n",
       "      <td>Bangalore/Bengaluru</td>\n",
       "      <td>Walmart Labs</td>\n",
       "      <td>Bachelor s degree in Engineering / Analytics o...</td>\n",
       "    </tr>\n",
       "  </tbody>\n",
       "</table>\n",
       "</div>"
      ],
      "text/plain": [
       "                            Job_title  \\\n",
       "0           Hiring For Data Scientist   \n",
       "1            Lead Data Scientist BFSI   \n",
       "2            Associate Data Scientist   \n",
       "3  Data Scientist: Advanced Analytics   \n",
       "4               Senior Data Scientist   \n",
       "5               Senior Data Scientist   \n",
       "6                   Sr Data Scientist   \n",
       "7                   Sr Data Scientist   \n",
       "8               SENIOR DATA SCIENTIST   \n",
       "9           Senior Data Scientist IN4   \n",
       "\n",
       "                                            Location  \\\n",
       "0  Chennai, Bangalore/Bengaluru, Mumbai (All Area...   \n",
       "1                                Bengaluru/Bangalore   \n",
       "2                                Bangalore/Bengaluru   \n",
       "3                                Bengaluru/Bangalore   \n",
       "4                                Bangalore/Bengaluru   \n",
       "5                                Bangalore/Bengaluru   \n",
       "6                                Bengaluru/Bangalore   \n",
       "7                                Bangalore/Bengaluru   \n",
       "8                                Bangalore/Bengaluru   \n",
       "9                                Bangalore/Bengaluru   \n",
       "\n",
       "                          Company_name  \\\n",
       "0       Tata Consultancy Services Ltd.   \n",
       "1               IBM India Pvt. Limited   \n",
       "2                Philips India Limited   \n",
       "3               IBM India Pvt. Limited   \n",
       "4                         Walmart Labs   \n",
       "5                               Airbnb   \n",
       "6               IBM India Pvt. Limited   \n",
       "7               IBM India Pvt. Limited   \n",
       "8  Happiest Minds Technologies Pvt.Ltd   \n",
       "9                         Walmart Labs   \n",
       "\n",
       "                                     Job_description  \n",
       "0  Minimum 3 year of experience in being Applied ...  \n",
       "1  IntroductionSoftware Developers at IBM are the...  \n",
       "2  Use predictive modeling to increase and optimi...  \n",
       "3  PhD / Masters in STEM-related fields with know...  \n",
       "4  As a Senior Data Scientist for Walmart, you ll...  \n",
       "5  Professional industry experience in a quantita...  \n",
       "6  Demonstrated extensive experience in building ...  \n",
       "7  Demonstrated extensive experience in building ...  \n",
       "8  Should possess extensive knowledge of and expe...  \n",
       "9  Bachelor s degree in Engineering / Analytics o...  "
      ]
     },
     "execution_count": 25,
     "metadata": {},
     "output_type": "execute_result"
    }
   ],
   "source": [
    "#DataFrame for the Data Scientist in Banglore location\n",
    "\n",
    "import pandas as pd\n",
    "df=pd.DataFrame({})\n",
    "df['Job_title']=job_titles\n",
    "df['Location']=location\n",
    "df['Company_name']=company_name\n",
    "df['Job_description']=Job_desc\n",
    "df"
   ]
  },
  {
   "cell_type": "markdown",
   "metadata": {},
   "source": [
    "# Q3: In this question you have to scrape data using the filters available on the webpage as shown below: \n",
    " You have to use the location and salary filter. You have to scrape data for “Data Scientist” designation for first 10 job results. You have to scrape the job-title, job-location, company_name, experience_required. "
   ]
  },
  {
   "cell_type": "markdown",
   "metadata": {},
   "source": [
    "The location filter to be used is “Delhi/NCR” The salary filter to be used is “3-6” lakhs The task will be done as shown in the below steps:\n",
    "1. first get the webpage https://www.naukri.com/ \n",
    "2. Enter “Data Scientist” in “Skill,Designations,Companies” field . \n",
    "3. Then click the search button. \n",
    "4. Then apply the location filter and salary filter by checking the respective boxes \n",
    "5. Then scrape the data for the first 10 jobs results you get.\n",
    "6. Finally create a dataframe of the scraped data"
   ]
  },
  {
   "cell_type": "code",
   "execution_count": 26,
   "metadata": {},
   "outputs": [
    {
     "data": {
      "text/plain": [
       "<selenium.webdriver.remote.webelement.WebElement (session=\"d33f8377701b43a61b78a1ee51e968f3\", element=\"fbfbabdf-bf45-413d-bcf3-69573f19e3ff\")>"
      ]
     },
     "execution_count": 26,
     "metadata": {},
     "output_type": "execute_result"
    }
   ],
   "source": [
    "url=' https://www.naukri.com/'\n",
    "driver.get(url)\n",
    "search_job= driver.find_element_by_id(\"qsb-keyword-sugg\")\n",
    "search_job"
   ]
  },
  {
   "cell_type": "code",
   "execution_count": 27,
   "metadata": {},
   "outputs": [],
   "source": [
    "search_job.send_keys(\"Data Scientist\")"
   ]
  },
  {
   "cell_type": "code",
   "execution_count": 28,
   "metadata": {},
   "outputs": [],
   "source": [
    "search_btn=driver.find_element_by_xpath('//button[@class=\"btn\"]')\n",
    "search_btn\n",
    "search_btn.click()"
   ]
  },
  {
   "cell_type": "code",
   "execution_count": 29,
   "metadata": {},
   "outputs": [],
   "source": [
    "location=driver.find_element_by_xpath('//span[@title=\"Delhi / NCR\"]')\n"
   ]
  },
  {
   "cell_type": "code",
   "execution_count": 30,
   "metadata": {},
   "outputs": [
    {
     "data": {
      "text/plain": [
       "<selenium.webdriver.remote.webelement.WebElement (session=\"d33f8377701b43a61b78a1ee51e968f3\", element=\"b0a29bf2-a72e-459c-a3b8-05cb2b2a4540\")>"
      ]
     },
     "execution_count": 30,
     "metadata": {},
     "output_type": "execute_result"
    }
   ],
   "source": [
    "location"
   ]
  },
  {
   "cell_type": "code",
   "execution_count": 31,
   "metadata": {},
   "outputs": [],
   "source": [
    "location.click()"
   ]
  },
  {
   "cell_type": "code",
   "execution_count": 32,
   "metadata": {},
   "outputs": [],
   "source": [
    "salary=driver.find_element_by_xpath('//span[@title=\"3-6 Lakhs\"]')"
   ]
  },
  {
   "cell_type": "code",
   "execution_count": 33,
   "metadata": {},
   "outputs": [
    {
     "data": {
      "text/plain": [
       "<selenium.webdriver.remote.webelement.WebElement (session=\"d33f8377701b43a61b78a1ee51e968f3\", element=\"79a4d061-ef68-4b27-8c03-97b5503608dd\")>"
      ]
     },
     "execution_count": 33,
     "metadata": {},
     "output_type": "execute_result"
    }
   ],
   "source": [
    "salary"
   ]
  },
  {
   "cell_type": "code",
   "execution_count": 34,
   "metadata": {},
   "outputs": [],
   "source": [
    "salary.click()"
   ]
  },
  {
   "cell_type": "code",
   "execution_count": 35,
   "metadata": {},
   "outputs": [
    {
     "data": {
      "text/plain": [
       "['Data Scientist/ Machine Learning Engineer',\n",
       " 'Data Scientist / Data Analyst / Business Analytics - MNC Jobs Freshers',\n",
       " 'Data Scientist - WFH - MIND Infotech',\n",
       " 'Data Scientist / Data Analyst',\n",
       " 'Only Fresher / Data Scientist / Data Analyst / Analytics - MNC Jobs',\n",
       " 'Data Scientist / Data Analyst / Business Analytics - MNC Jobs Freshers',\n",
       " 'Data Scientist',\n",
       " 'Data Scientist',\n",
       " 'Data Scientist - Insurance',\n",
       " 'Junior Data Scientists & Engineers']"
      ]
     },
     "execution_count": 35,
     "metadata": {},
     "output_type": "execute_result"
    }
   ],
   "source": [
    "title_tags=driver.find_elements_by_xpath('//a[@class=\"title fw500 ellipsis\"]')\n",
    "title_tags\n",
    "\n",
    "\n",
    "#now the text of the job title is inside the tag is extracted above.\n",
    "# so we run for loop  to extract data\n",
    "job_titles=[]\n",
    "for i in title_tags:\n",
    "    job_titles.append(i.text)\n",
    "\n",
    "job_titles=job_titles[:10]\n",
    "job_titles"
   ]
  },
  {
   "cell_type": "code",
   "execution_count": 36,
   "metadata": {},
   "outputs": [
    {
     "data": {
      "text/plain": [
       "['Hyderabad/Secunderabad, Pune, Ahmedabad, Gurgaon/Gurugram, Chennai, Bangalore/Bengaluru',\n",
       " 'Ghaziabad, Faridabad, Delhi / NCR',\n",
       " 'Pune, Chennai, Bangalore/Bengaluru, Delhi / NCR, Mumbai (All Areas)',\n",
       " 'Gurgaon/Gurugram',\n",
       " 'Noida, Gurgaon/Gurugram, Delhi / NCR',\n",
       " 'Noida, New Delhi, Gurgaon/Gurugram',\n",
       " 'Noida\\n(WFH during Covid)',\n",
       " 'Gurgaon/Gurugram\\n(WFH during Covid)',\n",
       " 'Noida, Gurgaon/Gurugram',\n",
       " 'New Delhi, Delhi / NCR']"
      ]
     },
     "execution_count": 36,
     "metadata": {},
     "output_type": "execute_result"
    }
   ],
   "source": [
    "loc_tags=driver.find_elements_by_xpath('//li[@class=\"fleft grey-text br2 placeHolderLi location\"]')\n",
    "loc_tags\n",
    "\n",
    "\n",
    "#now the text of the location is inside the tag is extracted above.\n",
    "# so we run for loop  to extract data\n",
    "location=[]\n",
    "for i in loc_tags:\n",
    "    location.append(i.text)\n",
    "\n",
    "location=location[:10]\n",
    "location"
   ]
  },
  {
   "cell_type": "code",
   "execution_count": 37,
   "metadata": {},
   "outputs": [
    {
     "data": {
      "text/plain": [
       "['Creative Hands HR Consultancy',\n",
       " 'GABA Consultancy services',\n",
       " 'MOTHERSONSUMI INFOTECH & DESIGNS LIMITED\\n3.3\\n(158 Reviews)',\n",
       " 'CARS24\\n3.6\\n(710 Reviews)',\n",
       " 'GABA Consultancy services',\n",
       " 'GABA Consultancy services',\n",
       " 'R Systems International Ltd.\\n3.2\\n(322 Reviews)',\n",
       " 'PROCESS NINE TECHNOLOGIES PVT.LTD.\\n2.7\\n(11 Reviews)',\n",
       " 'Huquo Consulting Pvt. Ltd',\n",
       " 'PY Consultancy']"
      ]
     },
     "execution_count": 37,
     "metadata": {},
     "output_type": "execute_result"
    }
   ],
   "source": [
    "company_tags=driver.find_elements_by_xpath('//div[@class=\"mt-7 companyInfo subheading lh16\"]')\n",
    "company_tags\n",
    "\n",
    "#now the text of the company namme is inside the tag is extracted above.\n",
    "# so we run for loop  to extract data\n",
    "company_name=[]\n",
    "for i in company_tags:\n",
    "    company_name.append(i.text)\n",
    "\n",
    "company_name=company_name[:10]\n",
    "company_name"
   ]
  },
  {
   "cell_type": "code",
   "execution_count": 38,
   "metadata": {},
   "outputs": [
    {
     "data": {
      "text/plain": [
       "[<selenium.webdriver.remote.webelement.WebElement (session=\"d33f8377701b43a61b78a1ee51e968f3\", element=\"820b6604-7aaa-43b1-8cb6-d2824269c703\")>,\n",
       " <selenium.webdriver.remote.webelement.WebElement (session=\"d33f8377701b43a61b78a1ee51e968f3\", element=\"219e0d03-c0c5-4285-b3b3-550097e34f89\")>,\n",
       " <selenium.webdriver.remote.webelement.WebElement (session=\"d33f8377701b43a61b78a1ee51e968f3\", element=\"4420f2b3-1a21-4f3b-9914-be1b33547276\")>,\n",
       " <selenium.webdriver.remote.webelement.WebElement (session=\"d33f8377701b43a61b78a1ee51e968f3\", element=\"cab1ff2f-2711-402f-b516-e9c61da67c19\")>,\n",
       " <selenium.webdriver.remote.webelement.WebElement (session=\"d33f8377701b43a61b78a1ee51e968f3\", element=\"2cf878a0-c1f8-4e77-8da6-f559f1fbd119\")>,\n",
       " <selenium.webdriver.remote.webelement.WebElement (session=\"d33f8377701b43a61b78a1ee51e968f3\", element=\"dbcbccff-2fd1-40b3-b71d-e053bab245be\")>,\n",
       " <selenium.webdriver.remote.webelement.WebElement (session=\"d33f8377701b43a61b78a1ee51e968f3\", element=\"3c23d1d9-aae5-4a3d-824f-80708b2b1690\")>,\n",
       " <selenium.webdriver.remote.webelement.WebElement (session=\"d33f8377701b43a61b78a1ee51e968f3\", element=\"54423653-ba5e-4f03-8cdc-065d4cf8df72\")>,\n",
       " <selenium.webdriver.remote.webelement.WebElement (session=\"d33f8377701b43a61b78a1ee51e968f3\", element=\"f0853104-591e-4e37-a62c-beea8ac5056d\")>,\n",
       " <selenium.webdriver.remote.webelement.WebElement (session=\"d33f8377701b43a61b78a1ee51e968f3\", element=\"232eac29-19a4-42d6-97b1-d64f1ba95d38\")>,\n",
       " <selenium.webdriver.remote.webelement.WebElement (session=\"d33f8377701b43a61b78a1ee51e968f3\", element=\"769a377a-c20f-45f8-b896-baa09b93c235\")>,\n",
       " <selenium.webdriver.remote.webelement.WebElement (session=\"d33f8377701b43a61b78a1ee51e968f3\", element=\"2ea36479-c3d5-4c21-b8e2-765d2e7ce1fd\")>,\n",
       " <selenium.webdriver.remote.webelement.WebElement (session=\"d33f8377701b43a61b78a1ee51e968f3\", element=\"138c909a-0876-4fc1-b976-9c24de4ac124\")>,\n",
       " <selenium.webdriver.remote.webelement.WebElement (session=\"d33f8377701b43a61b78a1ee51e968f3\", element=\"b9e6ccbc-a8af-4ece-8220-cbbcf9141e26\")>,\n",
       " <selenium.webdriver.remote.webelement.WebElement (session=\"d33f8377701b43a61b78a1ee51e968f3\", element=\"0ebfe080-7c9a-4ef3-8505-2e86d0478e07\")>,\n",
       " <selenium.webdriver.remote.webelement.WebElement (session=\"d33f8377701b43a61b78a1ee51e968f3\", element=\"f9060cc7-1845-429f-9972-37f8b24debe2\")>,\n",
       " <selenium.webdriver.remote.webelement.WebElement (session=\"d33f8377701b43a61b78a1ee51e968f3\", element=\"6619fc40-b036-4bc6-82ec-95be4f6b3657\")>,\n",
       " <selenium.webdriver.remote.webelement.WebElement (session=\"d33f8377701b43a61b78a1ee51e968f3\", element=\"4bd5311b-0845-47a2-9ada-c3a8e443c9e8\")>,\n",
       " <selenium.webdriver.remote.webelement.WebElement (session=\"d33f8377701b43a61b78a1ee51e968f3\", element=\"665e207a-1236-4f5c-a726-a84ba8d28cc9\")>,\n",
       " <selenium.webdriver.remote.webelement.WebElement (session=\"d33f8377701b43a61b78a1ee51e968f3\", element=\"c2d08dab-4614-4599-92df-ed123cfa7133\")>,\n",
       " <selenium.webdriver.remote.webelement.WebElement (session=\"d33f8377701b43a61b78a1ee51e968f3\", element=\"c3814dd9-ecd9-48cd-9529-20ae57805b6f\")>,\n",
       " <selenium.webdriver.remote.webelement.WebElement (session=\"d33f8377701b43a61b78a1ee51e968f3\", element=\"06e108ec-d202-484e-966a-6ff69530b5c7\")>,\n",
       " <selenium.webdriver.remote.webelement.WebElement (session=\"d33f8377701b43a61b78a1ee51e968f3\", element=\"bbc42803-602f-4ac3-9eac-edb28ac31530\")>,\n",
       " <selenium.webdriver.remote.webelement.WebElement (session=\"d33f8377701b43a61b78a1ee51e968f3\", element=\"373dc42c-73c6-4ecf-b465-cdaeed939764\")>,\n",
       " <selenium.webdriver.remote.webelement.WebElement (session=\"d33f8377701b43a61b78a1ee51e968f3\", element=\"0bfceb5d-3938-4122-ab2f-251a7cd9f7fd\")>,\n",
       " <selenium.webdriver.remote.webelement.WebElement (session=\"d33f8377701b43a61b78a1ee51e968f3\", element=\"f7def1c5-6ca1-4468-9505-d4c5463a8c8d\")>,\n",
       " <selenium.webdriver.remote.webelement.WebElement (session=\"d33f8377701b43a61b78a1ee51e968f3\", element=\"201f0280-4af9-4611-a06d-6da06d834976\")>,\n",
       " <selenium.webdriver.remote.webelement.WebElement (session=\"d33f8377701b43a61b78a1ee51e968f3\", element=\"b78f0235-afe0-4639-99ab-d1731fb4cb87\")>,\n",
       " <selenium.webdriver.remote.webelement.WebElement (session=\"d33f8377701b43a61b78a1ee51e968f3\", element=\"2c8e4bff-cad0-4807-aac5-20c2726fbe2d\")>,\n",
       " <selenium.webdriver.remote.webelement.WebElement (session=\"d33f8377701b43a61b78a1ee51e968f3\", element=\"413af2c2-6d6d-49b5-bcd6-6b08b3ea136b\")>,\n",
       " <selenium.webdriver.remote.webelement.WebElement (session=\"d33f8377701b43a61b78a1ee51e968f3\", element=\"82fc3bde-439f-4400-ae28-38f09afc5bc7\")>,\n",
       " <selenium.webdriver.remote.webelement.WebElement (session=\"d33f8377701b43a61b78a1ee51e968f3\", element=\"5f5ee0f1-0f50-4141-b048-278782fdedc6\")>,\n",
       " <selenium.webdriver.remote.webelement.WebElement (session=\"d33f8377701b43a61b78a1ee51e968f3\", element=\"2ccc57c5-5f94-4f75-bcb8-70ada301f02f\")>,\n",
       " <selenium.webdriver.remote.webelement.WebElement (session=\"d33f8377701b43a61b78a1ee51e968f3\", element=\"c8161524-c4ab-4f8a-8f62-2439416571f5\")>,\n",
       " <selenium.webdriver.remote.webelement.WebElement (session=\"d33f8377701b43a61b78a1ee51e968f3\", element=\"56e40638-8326-4182-9ef2-099a9e93e5d9\")>,\n",
       " <selenium.webdriver.remote.webelement.WebElement (session=\"d33f8377701b43a61b78a1ee51e968f3\", element=\"71be379b-237f-4b4c-9b08-d4703c97a204\")>,\n",
       " <selenium.webdriver.remote.webelement.WebElement (session=\"d33f8377701b43a61b78a1ee51e968f3\", element=\"f70abd01-d14e-4e3e-b2a3-e11abaab382b\")>,\n",
       " <selenium.webdriver.remote.webelement.WebElement (session=\"d33f8377701b43a61b78a1ee51e968f3\", element=\"fb20103e-31f1-46f3-994e-3ee97954a35a\")>,\n",
       " <selenium.webdriver.remote.webelement.WebElement (session=\"d33f8377701b43a61b78a1ee51e968f3\", element=\"adf39dcc-2baa-4384-a27e-ea9ef357ee37\")>,\n",
       " <selenium.webdriver.remote.webelement.WebElement (session=\"d33f8377701b43a61b78a1ee51e968f3\", element=\"8ad945aa-a497-4a66-9b51-e355f32c3574\")>,\n",
       " <selenium.webdriver.remote.webelement.WebElement (session=\"d33f8377701b43a61b78a1ee51e968f3\", element=\"3bbf67c5-ad4a-4dc1-b39c-cb6dcf14947a\")>,\n",
       " <selenium.webdriver.remote.webelement.WebElement (session=\"d33f8377701b43a61b78a1ee51e968f3\", element=\"f7677d78-76bd-499e-8f7e-fcce7af86e42\")>,\n",
       " <selenium.webdriver.remote.webelement.WebElement (session=\"d33f8377701b43a61b78a1ee51e968f3\", element=\"be9a11b6-79c0-4b11-bad8-174bba5a009c\")>,\n",
       " <selenium.webdriver.remote.webelement.WebElement (session=\"d33f8377701b43a61b78a1ee51e968f3\", element=\"3a4580ad-91f2-400c-a6fa-cb02cfaa8b82\")>,\n",
       " <selenium.webdriver.remote.webelement.WebElement (session=\"d33f8377701b43a61b78a1ee51e968f3\", element=\"1875da2a-59d8-4ce7-8063-d7285f6c12ab\")>,\n",
       " <selenium.webdriver.remote.webelement.WebElement (session=\"d33f8377701b43a61b78a1ee51e968f3\", element=\"c7358406-be49-47f1-9312-92248859c552\")>,\n",
       " <selenium.webdriver.remote.webelement.WebElement (session=\"d33f8377701b43a61b78a1ee51e968f3\", element=\"a00031d2-e053-4648-bab0-e8401c58340e\")>,\n",
       " <selenium.webdriver.remote.webelement.WebElement (session=\"d33f8377701b43a61b78a1ee51e968f3\", element=\"e79c72c8-d8af-4651-a32c-228393411610\")>,\n",
       " <selenium.webdriver.remote.webelement.WebElement (session=\"d33f8377701b43a61b78a1ee51e968f3\", element=\"51c56c44-96c5-4e89-92d6-88333d5c122b\")>,\n",
       " <selenium.webdriver.remote.webelement.WebElement (session=\"d33f8377701b43a61b78a1ee51e968f3\", element=\"c193ae58-65b8-438b-b6f9-cd6965b0762f\")>,\n",
       " <selenium.webdriver.remote.webelement.WebElement (session=\"d33f8377701b43a61b78a1ee51e968f3\", element=\"767b04da-5b70-4b83-901b-c7e346c05e77\")>,\n",
       " <selenium.webdriver.remote.webelement.WebElement (session=\"d33f8377701b43a61b78a1ee51e968f3\", element=\"d72088c8-ddf8-4d96-aae3-06a0781a3fac\")>,\n",
       " <selenium.webdriver.remote.webelement.WebElement (session=\"d33f8377701b43a61b78a1ee51e968f3\", element=\"17b8fa96-f955-4b22-9321-805ea3d1df5a\")>,\n",
       " <selenium.webdriver.remote.webelement.WebElement (session=\"d33f8377701b43a61b78a1ee51e968f3\", element=\"9efa8966-7fae-42af-b883-cd491ee773e2\")>,\n",
       " <selenium.webdriver.remote.webelement.WebElement (session=\"d33f8377701b43a61b78a1ee51e968f3\", element=\"f6a92802-e1de-4b28-9eb7-a8762120458b\")>,\n",
       " <selenium.webdriver.remote.webelement.WebElement (session=\"d33f8377701b43a61b78a1ee51e968f3\", element=\"4ece512a-c1c8-4229-aa9e-f08618db8036\")>]"
      ]
     },
     "execution_count": 38,
     "metadata": {},
     "output_type": "execute_result"
    }
   ],
   "source": [
    "exp_tags=driver.find_elements_by_xpath('//span[@class=\"ellipsis fleft fs12 lh16 \"]')\n",
    "exp_tags\n",
    "\n",
    "#now the text ofthe experience is inside the tag is extracted above.\n",
    "# so we run for loop  to extract data\n"
   ]
  },
  {
   "cell_type": "code",
   "execution_count": 45,
   "metadata": {},
   "outputs": [
    {
     "name": "stdout",
     "output_type": "stream",
     "text": [
      "['0-0 Yrs', '0-0 Yrs', '3-7 Yrs', '1-5 Yrs', '0-0 Yrs', '0-0 Yrs']\n",
      "['2-7 Yrs', '0-3 Yrs', '5-10 Yrs', '4-6 Yrs']\n"
     ]
    }
   ],
   "source": [
    "Experience=[]\n",
    "for i in exp_tags:\n",
    "    Experience.append(i.text)\n",
    "\n",
    "Experience1=Experience[0:16:3]\n",
    "Experience2=Experience[20:32:3]\n",
    "print(Experience1)\n",
    "print(Experience2)"
   ]
  },
  {
   "cell_type": "code",
   "execution_count": 46,
   "metadata": {},
   "outputs": [
    {
     "name": "stdout",
     "output_type": "stream",
     "text": [
      "['0-0 Yrs', '0-0 Yrs', '3-7 Yrs', '1-5 Yrs', '0-0 Yrs', '0-0 Yrs', '2-7 Yrs', '0-3 Yrs', '5-10 Yrs', '4-6 Yrs']\n"
     ]
    }
   ],
   "source": [
    "list3 = Experience1 + Experience2\n",
    "print(list3)"
   ]
  },
  {
   "cell_type": "code",
   "execution_count": 47,
   "metadata": {},
   "outputs": [
    {
     "data": {
      "text/html": [
       "<div>\n",
       "<style scoped>\n",
       "    .dataframe tbody tr th:only-of-type {\n",
       "        vertical-align: middle;\n",
       "    }\n",
       "\n",
       "    .dataframe tbody tr th {\n",
       "        vertical-align: top;\n",
       "    }\n",
       "\n",
       "    .dataframe thead th {\n",
       "        text-align: right;\n",
       "    }\n",
       "</style>\n",
       "<table border=\"1\" class=\"dataframe\">\n",
       "  <thead>\n",
       "    <tr style=\"text-align: right;\">\n",
       "      <th></th>\n",
       "      <th>Job_title</th>\n",
       "      <th>Location</th>\n",
       "      <th>Company_name</th>\n",
       "      <th>Experience</th>\n",
       "    </tr>\n",
       "  </thead>\n",
       "  <tbody>\n",
       "    <tr>\n",
       "      <th>0</th>\n",
       "      <td>Data Scientist/ Machine Learning Engineer</td>\n",
       "      <td>Hyderabad/Secunderabad, Pune, Ahmedabad, Gurga...</td>\n",
       "      <td>Creative Hands HR Consultancy</td>\n",
       "      <td>0-0 Yrs</td>\n",
       "    </tr>\n",
       "    <tr>\n",
       "      <th>1</th>\n",
       "      <td>Data Scientist / Data Analyst / Business Analy...</td>\n",
       "      <td>Ghaziabad, Faridabad, Delhi / NCR</td>\n",
       "      <td>GABA Consultancy services</td>\n",
       "      <td>0-0 Yrs</td>\n",
       "    </tr>\n",
       "    <tr>\n",
       "      <th>2</th>\n",
       "      <td>Data Scientist - WFH - MIND Infotech</td>\n",
       "      <td>Pune, Chennai, Bangalore/Bengaluru, Delhi / NC...</td>\n",
       "      <td>MOTHERSONSUMI INFOTECH &amp; DESIGNS LIMITED\\n3.3\\...</td>\n",
       "      <td>3-7 Yrs</td>\n",
       "    </tr>\n",
       "    <tr>\n",
       "      <th>3</th>\n",
       "      <td>Data Scientist / Data Analyst</td>\n",
       "      <td>Gurgaon/Gurugram</td>\n",
       "      <td>CARS24\\n3.6\\n(710 Reviews)</td>\n",
       "      <td>1-5 Yrs</td>\n",
       "    </tr>\n",
       "    <tr>\n",
       "      <th>4</th>\n",
       "      <td>Only Fresher / Data Scientist / Data Analyst /...</td>\n",
       "      <td>Noida, Gurgaon/Gurugram, Delhi / NCR</td>\n",
       "      <td>GABA Consultancy services</td>\n",
       "      <td>0-0 Yrs</td>\n",
       "    </tr>\n",
       "    <tr>\n",
       "      <th>5</th>\n",
       "      <td>Data Scientist / Data Analyst / Business Analy...</td>\n",
       "      <td>Noida, New Delhi, Gurgaon/Gurugram</td>\n",
       "      <td>GABA Consultancy services</td>\n",
       "      <td>0-0 Yrs</td>\n",
       "    </tr>\n",
       "    <tr>\n",
       "      <th>6</th>\n",
       "      <td>Data Scientist</td>\n",
       "      <td>Noida\\n(WFH during Covid)</td>\n",
       "      <td>R Systems International Ltd.\\n3.2\\n(322 Reviews)</td>\n",
       "      <td>2-7 Yrs</td>\n",
       "    </tr>\n",
       "    <tr>\n",
       "      <th>7</th>\n",
       "      <td>Data Scientist</td>\n",
       "      <td>Gurgaon/Gurugram\\n(WFH during Covid)</td>\n",
       "      <td>PROCESS NINE TECHNOLOGIES PVT.LTD.\\n2.7\\n(11 R...</td>\n",
       "      <td>0-3 Yrs</td>\n",
       "    </tr>\n",
       "    <tr>\n",
       "      <th>8</th>\n",
       "      <td>Data Scientist - Insurance</td>\n",
       "      <td>Noida, Gurgaon/Gurugram</td>\n",
       "      <td>Huquo Consulting Pvt. Ltd</td>\n",
       "      <td>5-10 Yrs</td>\n",
       "    </tr>\n",
       "    <tr>\n",
       "      <th>9</th>\n",
       "      <td>Junior Data Scientists &amp; Engineers</td>\n",
       "      <td>New Delhi, Delhi / NCR</td>\n",
       "      <td>PY Consultancy</td>\n",
       "      <td>4-6 Yrs</td>\n",
       "    </tr>\n",
       "  </tbody>\n",
       "</table>\n",
       "</div>"
      ],
      "text/plain": [
       "                                           Job_title  \\\n",
       "0          Data Scientist/ Machine Learning Engineer   \n",
       "1  Data Scientist / Data Analyst / Business Analy...   \n",
       "2               Data Scientist - WFH - MIND Infotech   \n",
       "3                      Data Scientist / Data Analyst   \n",
       "4  Only Fresher / Data Scientist / Data Analyst /...   \n",
       "5  Data Scientist / Data Analyst / Business Analy...   \n",
       "6                                     Data Scientist   \n",
       "7                                     Data Scientist   \n",
       "8                         Data Scientist - Insurance   \n",
       "9                 Junior Data Scientists & Engineers   \n",
       "\n",
       "                                            Location  \\\n",
       "0  Hyderabad/Secunderabad, Pune, Ahmedabad, Gurga...   \n",
       "1                  Ghaziabad, Faridabad, Delhi / NCR   \n",
       "2  Pune, Chennai, Bangalore/Bengaluru, Delhi / NC...   \n",
       "3                                   Gurgaon/Gurugram   \n",
       "4               Noida, Gurgaon/Gurugram, Delhi / NCR   \n",
       "5                 Noida, New Delhi, Gurgaon/Gurugram   \n",
       "6                          Noida\\n(WFH during Covid)   \n",
       "7               Gurgaon/Gurugram\\n(WFH during Covid)   \n",
       "8                            Noida, Gurgaon/Gurugram   \n",
       "9                             New Delhi, Delhi / NCR   \n",
       "\n",
       "                                        Company_name Experience  \n",
       "0                      Creative Hands HR Consultancy    0-0 Yrs  \n",
       "1                          GABA Consultancy services    0-0 Yrs  \n",
       "2  MOTHERSONSUMI INFOTECH & DESIGNS LIMITED\\n3.3\\...    3-7 Yrs  \n",
       "3                         CARS24\\n3.6\\n(710 Reviews)    1-5 Yrs  \n",
       "4                          GABA Consultancy services    0-0 Yrs  \n",
       "5                          GABA Consultancy services    0-0 Yrs  \n",
       "6   R Systems International Ltd.\\n3.2\\n(322 Reviews)    2-7 Yrs  \n",
       "7  PROCESS NINE TECHNOLOGIES PVT.LTD.\\n2.7\\n(11 R...    0-3 Yrs  \n",
       "8                          Huquo Consulting Pvt. Ltd   5-10 Yrs  \n",
       "9                                     PY Consultancy    4-6 Yrs  "
      ]
     },
     "execution_count": 47,
     "metadata": {},
     "output_type": "execute_result"
    }
   ],
   "source": [
    "#DataFrame for the Data Scientist in Banglore location\n",
    "\n",
    "import pandas as pd\n",
    "df=pd.DataFrame({})\n",
    "df['Job_title']=job_titles\n",
    "df['Location']=location\n",
    "df['Company_name']=company_name\n",
    "df['Experience']=list3\n",
    "df"
   ]
  },
  {
   "cell_type": "markdown",
   "metadata": {},
   "source": [
    "# Q4: Write a python program to scrape data for first 10 job results for Data scientist Designation in Noida location. You have to scrape company_name, No. of days ago when job was posted, Rating of the company. \n",
    "This task will be done in following steps:\n",
    "1. first get the webpage https://www.glassdoor.co.in/index.htm \n",
    "2. Enter “Data Scientist” in “Job Title,Keyword,Company” field and enter “Noida” in “location” field. \n",
    "3. Then click the search button. You will land up in the below page: \n",
    "4. Then scrape the data for the first 10 jobs results you get in the above shown page. \n",
    "5. Finally create a dataframe of the scraped data. Note- All of the above steps have to be done in code. No step is to be done manually. \n",
    " "
   ]
  },
  {
   "cell_type": "code",
   "execution_count": 49,
   "metadata": {},
   "outputs": [],
   "source": [
    "url=' https://www.glassdoor.co.in/member/home/index.htm'\n",
    "driver.get(url)\n",
    "search_job= driver.find_element_by_id(\"sc.keyword\")\n",
    "search_job\n",
    "search_job.send_keys(\"Data Scientist\")\n",
    "search_loc= driver.find_element_by_id(\"sc.location\")\n",
    "search_loc\n",
    "\n",
    "search_loc.send_keys(\"Noida\")\n"
   ]
  },
  {
   "cell_type": "code",
   "execution_count": 50,
   "metadata": {},
   "outputs": [],
   "source": [
    "search_btn=driver.find_element_by_xpath('//span[@class=\"css-8zxfjs\"]')\n",
    "search_btn\n",
    "search_btn.click()\n"
   ]
  },
  {
   "cell_type": "code",
   "execution_count": 51,
   "metadata": {},
   "outputs": [
    {
     "data": {
      "text/plain": [
       "['AlgoScale Technologies Private Limited',\n",
       " 'Liberin Technologies Private Limited',\n",
       " 'Noisy Lion',\n",
       " 'Grail Insights',\n",
       " 'Lenskart',\n",
       " 'Salasar New Age Technologies',\n",
       " 'Grail Insights',\n",
       " 'Techlive',\n",
       " 'Genpact',\n",
       " 'Salasar New Age Technologies']"
      ]
     },
     "execution_count": 51,
     "metadata": {},
     "output_type": "execute_result"
    }
   ],
   "source": [
    "company_tags=driver.find_elements_by_xpath('//div[@class=\"d-flex justify-content-between align-items-start\"]')\n",
    "company_tags\n",
    "\n",
    "#now the text of the company namme is inside the tag is extracted above.\n",
    "# so we run for loop  to extract data\n",
    "company_name=[]\n",
    "for i in company_tags:\n",
    "    company_name.append(i.text)\n",
    "\n",
    "company_name=company_name[:10]\n",
    "company_name"
   ]
  },
  {
   "cell_type": "code",
   "execution_count": 54,
   "metadata": {},
   "outputs": [
    {
     "data": {
      "text/plain": [
       "['18d', '30d+', '4d', '4d', '6d', '30d+', '4d', '30d+', '6d', '30d+']"
      ]
     },
     "execution_count": 54,
     "metadata": {},
     "output_type": "execute_result"
    }
   ],
   "source": [
    "days_post_tags=driver.find_elements_by_xpath('//div[@class=\"d-flex align-items-end pl-std css-17n8uzw\"]')\n",
    "days_post_tags\n",
    "\n",
    "#now the text of the no.of days when post is inside the tag is extracted above.\n",
    "# so we run for loop  to extract data\n",
    "days_post=[]\n",
    "for i in days_post_tags:\n",
    "    days_post.append(i.text)\n",
    "\n",
    "days_post=days_post[:10]\n",
    "days_post"
   ]
  },
  {
   "cell_type": "code",
   "execution_count": 59,
   "metadata": {},
   "outputs": [
    {
     "data": {
      "text/plain": [
       "['', '', '3.9', '3.5', '3.6', '', '3.5', '', '3.8', '']"
      ]
     },
     "execution_count": 59,
     "metadata": {},
     "output_type": "execute_result"
    }
   ],
   "source": [
    "rating_tags=driver.find_elements_by_xpath('//div[@class=\"d-flex flex-column job-search-key-1pzmdmc e1rrn5ka1\"]')\n",
    "rating_tags\n",
    "\n",
    "#now the text of the rating is inside the tag is extracted above.\n",
    "# so we run for loop  to extract data\n",
    "rating=[]\n",
    "for i in rating_tags:\n",
    "    rating.append(i.text)\n",
    "\n",
    "rating=rating[:10]\n",
    "rating"
   ]
  },
  {
   "cell_type": "code",
   "execution_count": 60,
   "metadata": {},
   "outputs": [
    {
     "data": {
      "text/html": [
       "<div>\n",
       "<style scoped>\n",
       "    .dataframe tbody tr th:only-of-type {\n",
       "        vertical-align: middle;\n",
       "    }\n",
       "\n",
       "    .dataframe tbody tr th {\n",
       "        vertical-align: top;\n",
       "    }\n",
       "\n",
       "    .dataframe thead th {\n",
       "        text-align: right;\n",
       "    }\n",
       "</style>\n",
       "<table border=\"1\" class=\"dataframe\">\n",
       "  <thead>\n",
       "    <tr style=\"text-align: right;\">\n",
       "      <th></th>\n",
       "      <th>Company_name</th>\n",
       "      <th>Days_when_job_post</th>\n",
       "      <th>Company Rating</th>\n",
       "    </tr>\n",
       "  </thead>\n",
       "  <tbody>\n",
       "    <tr>\n",
       "      <th>0</th>\n",
       "      <td>AlgoScale Technologies Private Limited</td>\n",
       "      <td>18d</td>\n",
       "      <td></td>\n",
       "    </tr>\n",
       "    <tr>\n",
       "      <th>1</th>\n",
       "      <td>Liberin Technologies Private Limited</td>\n",
       "      <td>30d+</td>\n",
       "      <td></td>\n",
       "    </tr>\n",
       "    <tr>\n",
       "      <th>2</th>\n",
       "      <td>Noisy Lion</td>\n",
       "      <td>4d</td>\n",
       "      <td>3.9</td>\n",
       "    </tr>\n",
       "    <tr>\n",
       "      <th>3</th>\n",
       "      <td>Grail Insights</td>\n",
       "      <td>4d</td>\n",
       "      <td>3.5</td>\n",
       "    </tr>\n",
       "    <tr>\n",
       "      <th>4</th>\n",
       "      <td>Lenskart</td>\n",
       "      <td>6d</td>\n",
       "      <td>3.6</td>\n",
       "    </tr>\n",
       "    <tr>\n",
       "      <th>5</th>\n",
       "      <td>Salasar New Age Technologies</td>\n",
       "      <td>30d+</td>\n",
       "      <td></td>\n",
       "    </tr>\n",
       "    <tr>\n",
       "      <th>6</th>\n",
       "      <td>Grail Insights</td>\n",
       "      <td>4d</td>\n",
       "      <td>3.5</td>\n",
       "    </tr>\n",
       "    <tr>\n",
       "      <th>7</th>\n",
       "      <td>Techlive</td>\n",
       "      <td>30d+</td>\n",
       "      <td></td>\n",
       "    </tr>\n",
       "    <tr>\n",
       "      <th>8</th>\n",
       "      <td>Genpact</td>\n",
       "      <td>6d</td>\n",
       "      <td>3.8</td>\n",
       "    </tr>\n",
       "    <tr>\n",
       "      <th>9</th>\n",
       "      <td>Salasar New Age Technologies</td>\n",
       "      <td>30d+</td>\n",
       "      <td></td>\n",
       "    </tr>\n",
       "  </tbody>\n",
       "</table>\n",
       "</div>"
      ],
      "text/plain": [
       "                             Company_name Days_when_job_post Company Rating\n",
       "0  AlgoScale Technologies Private Limited                18d               \n",
       "1    Liberin Technologies Private Limited               30d+               \n",
       "2                              Noisy Lion                 4d            3.9\n",
       "3                          Grail Insights                 4d            3.5\n",
       "4                                Lenskart                 6d            3.6\n",
       "5            Salasar New Age Technologies               30d+               \n",
       "6                          Grail Insights                 4d            3.5\n",
       "7                                Techlive               30d+               \n",
       "8                                 Genpact                 6d            3.8\n",
       "9            Salasar New Age Technologies               30d+               "
      ]
     },
     "execution_count": 60,
     "metadata": {},
     "output_type": "execute_result"
    }
   ],
   "source": [
    "df=pd.DataFrame({})\n",
    "df['Company_name']=company_name\n",
    "df['Days_when_job_post']=days_post\n",
    "df['Company Rating']=rating\n",
    "\n",
    "\n",
    "df"
   ]
  },
  {
   "cell_type": "markdown",
   "metadata": {},
   "source": [
    "# Q5: Write a python program to scrape the salary data for Data Scientist designation in Noida location. You have to scrape Company name, Number of salaries, Average salary, Min salary, Max Salary. The above task will be, done as shown in the below steps: \n",
    "1. first get the webpage https://www.glassdoor.co.in/Salaries/index.htm \n",
    "2. Enter “Data Scientist” in Job title field and “Noida” in location field. \n",
    "3. Click the search button.\n",
    "4. After that you will land on the below page  \n",
    " You have to scrape whole data from this webpage\n",
    "5. Scrape data for first 10 companies. Scrape the min salary, max salary, company name, Average salary and rating of the company.\n",
    "6.Store the data in a dataframe. "
   ]
  },
  {
   "cell_type": "code",
   "execution_count": 75,
   "metadata": {},
   "outputs": [],
   "source": [
    "url=' https://www.glassdoor.co.in/Salaries/index.htm'\n",
    "driver.get(url)\n",
    "search_job= driver.find_element_by_id(\"KeywordSearch\")\n",
    "search_job\n",
    "search_job.send_keys(\"Data Scientist\")\n",
    "search_loc= driver.find_element_by_id(\"LocationSearch\")\n",
    "search_loc\n",
    "\n",
    "search_loc.send_keys(\"Noida\")"
   ]
  },
  {
   "cell_type": "code",
   "execution_count": 77,
   "metadata": {},
   "outputs": [],
   "source": [
    "search_btn=driver.find_element_by_xpath('//button[@class=\"gd-btn-mkt\"]')\n",
    "search_btn\n",
    "search_btn.click()\n"
   ]
  },
  {
   "cell_type": "code",
   "execution_count": 78,
   "metadata": {},
   "outputs": [
    {
     "data": {
      "text/plain": [
       "[<selenium.webdriver.remote.webelement.WebElement (session=\"1b029c2e85bfcf9c20eae4c24ad0e820\", element=\"72309a66-40d8-417e-91a0-c90dd9c4b8d9\")>,\n",
       " <selenium.webdriver.remote.webelement.WebElement (session=\"1b029c2e85bfcf9c20eae4c24ad0e820\", element=\"fc3fd959-b679-4d35-8bf6-5ad64120b692\")>,\n",
       " <selenium.webdriver.remote.webelement.WebElement (session=\"1b029c2e85bfcf9c20eae4c24ad0e820\", element=\"676fcd99-1723-4a12-8ac8-707f1fbe152b\")>,\n",
       " <selenium.webdriver.remote.webelement.WebElement (session=\"1b029c2e85bfcf9c20eae4c24ad0e820\", element=\"4abe9249-b70f-451a-92ca-3de9ae67db8f\")>,\n",
       " <selenium.webdriver.remote.webelement.WebElement (session=\"1b029c2e85bfcf9c20eae4c24ad0e820\", element=\"ffa3172d-d367-427c-8816-c0496572edf4\")>,\n",
       " <selenium.webdriver.remote.webelement.WebElement (session=\"1b029c2e85bfcf9c20eae4c24ad0e820\", element=\"fa5f26ba-2086-4200-990b-e997a95a1336\")>,\n",
       " <selenium.webdriver.remote.webelement.WebElement (session=\"1b029c2e85bfcf9c20eae4c24ad0e820\", element=\"5684de8a-731d-47aa-8966-0ecbf3b12203\")>,\n",
       " <selenium.webdriver.remote.webelement.WebElement (session=\"1b029c2e85bfcf9c20eae4c24ad0e820\", element=\"f0d833ce-c4e2-4684-97e7-13ade41379f1\")>,\n",
       " <selenium.webdriver.remote.webelement.WebElement (session=\"1b029c2e85bfcf9c20eae4c24ad0e820\", element=\"7862bc82-557d-4adb-a9e7-3a5537993050\")>,\n",
       " <selenium.webdriver.remote.webelement.WebElement (session=\"1b029c2e85bfcf9c20eae4c24ad0e820\", element=\"958a6901-a151-4542-8191-1afe6f19cc4f\")>,\n",
       " <selenium.webdriver.remote.webelement.WebElement (session=\"1b029c2e85bfcf9c20eae4c24ad0e820\", element=\"041d9a8a-36fe-48d8-b22e-9e98d40e0d7f\")>,\n",
       " <selenium.webdriver.remote.webelement.WebElement (session=\"1b029c2e85bfcf9c20eae4c24ad0e820\", element=\"5efcd097-a387-4a39-8df7-fd5ade594beb\")>,\n",
       " <selenium.webdriver.remote.webelement.WebElement (session=\"1b029c2e85bfcf9c20eae4c24ad0e820\", element=\"ed53a15e-0327-4f7d-8798-5494bd8172da\")>,\n",
       " <selenium.webdriver.remote.webelement.WebElement (session=\"1b029c2e85bfcf9c20eae4c24ad0e820\", element=\"09fb4718-a6e9-4f05-9c93-8ce9e319335c\")>,\n",
       " <selenium.webdriver.remote.webelement.WebElement (session=\"1b029c2e85bfcf9c20eae4c24ad0e820\", element=\"0967b8d4-0a68-424b-8d03-f5da24d65d94\")>,\n",
       " <selenium.webdriver.remote.webelement.WebElement (session=\"1b029c2e85bfcf9c20eae4c24ad0e820\", element=\"33fde065-5488-4359-9954-bc5654f5df25\")>,\n",
       " <selenium.webdriver.remote.webelement.WebElement (session=\"1b029c2e85bfcf9c20eae4c24ad0e820\", element=\"6a3478a6-45fa-467c-8f6f-7646ae544369\")>,\n",
       " <selenium.webdriver.remote.webelement.WebElement (session=\"1b029c2e85bfcf9c20eae4c24ad0e820\", element=\"96b22c0b-858a-4d40-81c2-67336afb6db0\")>,\n",
       " <selenium.webdriver.remote.webelement.WebElement (session=\"1b029c2e85bfcf9c20eae4c24ad0e820\", element=\"d3bf20d4-ffdc-4950-9b19-0b41900178b0\")>,\n",
       " <selenium.webdriver.remote.webelement.WebElement (session=\"1b029c2e85bfcf9c20eae4c24ad0e820\", element=\"f242456c-da5e-494a-bf3a-25426c828772\")>]"
      ]
     },
     "execution_count": 78,
     "metadata": {},
     "output_type": "execute_result"
    }
   ],
   "source": [
    "company_tags=driver.find_elements_by_xpath('//a[@class=\"css-f3vw95 e1aj7ssy3\"]')\n",
    "company_tags\n",
    "\n"
   ]
  },
  {
   "cell_type": "code",
   "execution_count": 87,
   "metadata": {},
   "outputs": [
    {
     "data": {
      "text/plain": [
       "['Tata Consultancy Services',\n",
       " 'IBM',\n",
       " 'Accenture',\n",
       " 'Delhivery',\n",
       " 'Ericsson-Worldwide',\n",
       " 'UnitedHealth Group',\n",
       " 'Optum',\n",
       " 'Optum Global Solutions',\n",
       " 'Valiance Solutions',\n",
       " 'EXL Service']"
      ]
     },
     "execution_count": 87,
     "metadata": {},
     "output_type": "execute_result"
    }
   ],
   "source": [
    "#now the text of the company name is inside the tag is extracted above.\n",
    "# so we run for loop  to extract data\n",
    "company_name=[]\n",
    "for i in company_tags:\n",
    "    company_name.append(i.text)\n",
    "    \n",
    "company_name=company_name[:10]\n",
    "company_name"
   ]
  },
  {
   "cell_type": "code",
   "execution_count": 83,
   "metadata": {},
   "outputs": [
    {
     "data": {
      "text/plain": [
       "[<selenium.webdriver.remote.webelement.WebElement (session=\"1b029c2e85bfcf9c20eae4c24ad0e820\", element=\"a1cbabde-bba2-444e-999f-b02d28ac7299\")>,\n",
       " <selenium.webdriver.remote.webelement.WebElement (session=\"1b029c2e85bfcf9c20eae4c24ad0e820\", element=\"ea6d0f85-e612-4ff9-b341-fb696c65220a\")>,\n",
       " <selenium.webdriver.remote.webelement.WebElement (session=\"1b029c2e85bfcf9c20eae4c24ad0e820\", element=\"b9cb89e4-bda7-466d-b309-dc421db0ff03\")>,\n",
       " <selenium.webdriver.remote.webelement.WebElement (session=\"1b029c2e85bfcf9c20eae4c24ad0e820\", element=\"51f3aa4c-0563-49e1-a56c-d6ed04c0873e\")>,\n",
       " <selenium.webdriver.remote.webelement.WebElement (session=\"1b029c2e85bfcf9c20eae4c24ad0e820\", element=\"bc6c51af-acd7-4ae6-89f6-d44a5fd4a758\")>,\n",
       " <selenium.webdriver.remote.webelement.WebElement (session=\"1b029c2e85bfcf9c20eae4c24ad0e820\", element=\"9ca30d45-09e6-4f65-9604-76dbaa8c071a\")>,\n",
       " <selenium.webdriver.remote.webelement.WebElement (session=\"1b029c2e85bfcf9c20eae4c24ad0e820\", element=\"33a470ab-9214-40da-9d87-6cebb189660f\")>,\n",
       " <selenium.webdriver.remote.webelement.WebElement (session=\"1b029c2e85bfcf9c20eae4c24ad0e820\", element=\"c1f76102-b17f-4cb2-be9b-65105c7804b3\")>,\n",
       " <selenium.webdriver.remote.webelement.WebElement (session=\"1b029c2e85bfcf9c20eae4c24ad0e820\", element=\"0c243e5b-1b0f-4d6a-b5f5-07c2916be8f2\")>,\n",
       " <selenium.webdriver.remote.webelement.WebElement (session=\"1b029c2e85bfcf9c20eae4c24ad0e820\", element=\"9c2c0289-4970-4272-b3bc-56925320dabf\")>,\n",
       " <selenium.webdriver.remote.webelement.WebElement (session=\"1b029c2e85bfcf9c20eae4c24ad0e820\", element=\"c238526d-cc79-4019-83f0-b7aff1c4b055\")>,\n",
       " <selenium.webdriver.remote.webelement.WebElement (session=\"1b029c2e85bfcf9c20eae4c24ad0e820\", element=\"4ef3de45-9649-4eba-a35e-ca1c800e9d36\")>,\n",
       " <selenium.webdriver.remote.webelement.WebElement (session=\"1b029c2e85bfcf9c20eae4c24ad0e820\", element=\"35ab31cb-cad9-4143-a9fc-3b1c85c1853e\")>,\n",
       " <selenium.webdriver.remote.webelement.WebElement (session=\"1b029c2e85bfcf9c20eae4c24ad0e820\", element=\"fb66b939-aa66-49f9-94a2-f730ca69bed9\")>,\n",
       " <selenium.webdriver.remote.webelement.WebElement (session=\"1b029c2e85bfcf9c20eae4c24ad0e820\", element=\"df9708e2-0f52-4da1-8aad-8a8a82dcda50\")>,\n",
       " <selenium.webdriver.remote.webelement.WebElement (session=\"1b029c2e85bfcf9c20eae4c24ad0e820\", element=\"0b3f8d67-e734-4c2c-a351-c99cffd0ae86\")>,\n",
       " <selenium.webdriver.remote.webelement.WebElement (session=\"1b029c2e85bfcf9c20eae4c24ad0e820\", element=\"c1e52ed2-2a91-4c38-a471-34a6903c434f\")>,\n",
       " <selenium.webdriver.remote.webelement.WebElement (session=\"1b029c2e85bfcf9c20eae4c24ad0e820\", element=\"0adba489-d962-4e6f-b45e-10555749bf66\")>,\n",
       " <selenium.webdriver.remote.webelement.WebElement (session=\"1b029c2e85bfcf9c20eae4c24ad0e820\", element=\"5bd021c0-4f9d-459f-855a-af5e1df7cb61\")>,\n",
       " <selenium.webdriver.remote.webelement.WebElement (session=\"1b029c2e85bfcf9c20eae4c24ad0e820\", element=\"041c524d-b079-4304-b953-48680b72bee8\")>,\n",
       " <selenium.webdriver.remote.webelement.WebElement (session=\"1b029c2e85bfcf9c20eae4c24ad0e820\", element=\"36375a0a-34f3-418e-9b49-e7079329b7a2\")>,\n",
       " <selenium.webdriver.remote.webelement.WebElement (session=\"1b029c2e85bfcf9c20eae4c24ad0e820\", element=\"887113a9-5479-473a-836c-a72fb648fdbe\")>]"
      ]
     },
     "execution_count": 83,
     "metadata": {},
     "output_type": "execute_result"
    }
   ],
   "source": [
    "salary_tags=driver.find_elements_by_xpath('//span[@class=\"m-0 css-1b6bxoo\"]')\n",
    "salary_tags"
   ]
  },
  {
   "cell_type": "code",
   "execution_count": 86,
   "metadata": {},
   "outputs": [
    {
     "data": {
      "text/plain": [
       "['21 salaries',\n",
       " '20 salaries',\n",
       " '15 salaries',\n",
       " '15 salaries',\n",
       " '14 salaries',\n",
       " '14 salaries',\n",
       " '10 salaries',\n",
       " '10 salaries',\n",
       " '10 salaries',\n",
       " '9 salaries']"
      ]
     },
     "execution_count": 86,
     "metadata": {},
     "output_type": "execute_result"
    }
   ],
   "source": [
    "#now the text of the salary number is inside the tag is extracted above.\n",
    "# so we run for loop  to extract data\n",
    "salary_number=[]\n",
    "for i in salary_tags:\n",
    "    salary_number.append(i.text)\n",
    "    \n",
    "\n",
    "salary_number=salary_number[2::]\n",
    "salary_number=salary_number[:10]\n",
    "salary_number"
   ]
  },
  {
   "cell_type": "code",
   "execution_count": 88,
   "metadata": {},
   "outputs": [
    {
     "data": {
      "text/plain": [
       "[<selenium.webdriver.remote.webelement.WebElement (session=\"1b029c2e85bfcf9c20eae4c24ad0e820\", element=\"e67eaa60-55cf-4aa2-a22c-af6a029dc92d\")>,\n",
       " <selenium.webdriver.remote.webelement.WebElement (session=\"1b029c2e85bfcf9c20eae4c24ad0e820\", element=\"bc1cb354-11fd-4cb7-a2fb-e71a65c12495\")>,\n",
       " <selenium.webdriver.remote.webelement.WebElement (session=\"1b029c2e85bfcf9c20eae4c24ad0e820\", element=\"fb18d659-10d7-409f-abee-47ce4a882943\")>,\n",
       " <selenium.webdriver.remote.webelement.WebElement (session=\"1b029c2e85bfcf9c20eae4c24ad0e820\", element=\"bb4aac84-c323-451b-b915-7811ec0673db\")>,\n",
       " <selenium.webdriver.remote.webelement.WebElement (session=\"1b029c2e85bfcf9c20eae4c24ad0e820\", element=\"55b39347-ec3c-412d-8f68-559ac930a191\")>,\n",
       " <selenium.webdriver.remote.webelement.WebElement (session=\"1b029c2e85bfcf9c20eae4c24ad0e820\", element=\"6044dd49-11b3-4b0d-b34a-1b02c36eb457\")>,\n",
       " <selenium.webdriver.remote.webelement.WebElement (session=\"1b029c2e85bfcf9c20eae4c24ad0e820\", element=\"0aa484ec-5025-437b-ad08-ff6a5651b7e0\")>,\n",
       " <selenium.webdriver.remote.webelement.WebElement (session=\"1b029c2e85bfcf9c20eae4c24ad0e820\", element=\"3f8d6e12-a294-4294-8eac-2dc6ef514772\")>,\n",
       " <selenium.webdriver.remote.webelement.WebElement (session=\"1b029c2e85bfcf9c20eae4c24ad0e820\", element=\"c7c9ff97-c40c-438e-a518-b3080ef635e3\")>,\n",
       " <selenium.webdriver.remote.webelement.WebElement (session=\"1b029c2e85bfcf9c20eae4c24ad0e820\", element=\"7aff47b5-3621-45c6-a61f-1053a39be2a4\")>,\n",
       " <selenium.webdriver.remote.webelement.WebElement (session=\"1b029c2e85bfcf9c20eae4c24ad0e820\", element=\"398d2a54-48d9-40cd-a176-f09a0e6d2c9c\")>,\n",
       " <selenium.webdriver.remote.webelement.WebElement (session=\"1b029c2e85bfcf9c20eae4c24ad0e820\", element=\"a8b6c0f7-e3cf-4e35-8492-079f83c658c5\")>,\n",
       " <selenium.webdriver.remote.webelement.WebElement (session=\"1b029c2e85bfcf9c20eae4c24ad0e820\", element=\"1bb83011-a60e-4763-9244-8a2dcc7ecde2\")>,\n",
       " <selenium.webdriver.remote.webelement.WebElement (session=\"1b029c2e85bfcf9c20eae4c24ad0e820\", element=\"abfcb568-1991-4307-9426-baf230f9ca7d\")>,\n",
       " <selenium.webdriver.remote.webelement.WebElement (session=\"1b029c2e85bfcf9c20eae4c24ad0e820\", element=\"59d4854a-4158-4164-b5c2-37eaea5757d3\")>,\n",
       " <selenium.webdriver.remote.webelement.WebElement (session=\"1b029c2e85bfcf9c20eae4c24ad0e820\", element=\"5dee8ebb-226b-4e29-b763-edc6553a4e45\")>,\n",
       " <selenium.webdriver.remote.webelement.WebElement (session=\"1b029c2e85bfcf9c20eae4c24ad0e820\", element=\"dfa9c1e4-7b78-4fd9-bd29-4762d36cef20\")>,\n",
       " <selenium.webdriver.remote.webelement.WebElement (session=\"1b029c2e85bfcf9c20eae4c24ad0e820\", element=\"da12cd22-745c-47f6-822b-08d88d57ab6d\")>,\n",
       " <selenium.webdriver.remote.webelement.WebElement (session=\"1b029c2e85bfcf9c20eae4c24ad0e820\", element=\"e6a828d4-059d-4334-9e80-647dbb85fbe7\")>,\n",
       " <selenium.webdriver.remote.webelement.WebElement (session=\"1b029c2e85bfcf9c20eae4c24ad0e820\", element=\"503a51d4-c70f-424f-a081-37b19e475b5c\")>,\n",
       " <selenium.webdriver.remote.webelement.WebElement (session=\"1b029c2e85bfcf9c20eae4c24ad0e820\", element=\"1a247e9b-e77d-4318-aacb-2efe626a2a93\")>,\n",
       " <selenium.webdriver.remote.webelement.WebElement (session=\"1b029c2e85bfcf9c20eae4c24ad0e820\", element=\"7e0fb8b2-2a69-4813-9e0a-5a8a236b69e5\")>,\n",
       " <selenium.webdriver.remote.webelement.WebElement (session=\"1b029c2e85bfcf9c20eae4c24ad0e820\", element=\"c2eabfa6-fdb2-437f-8720-6236dd9a9982\")>,\n",
       " <selenium.webdriver.remote.webelement.WebElement (session=\"1b029c2e85bfcf9c20eae4c24ad0e820\", element=\"fbf69363-6b5e-45c0-9990-fee8ae6d0f7c\")>,\n",
       " <selenium.webdriver.remote.webelement.WebElement (session=\"1b029c2e85bfcf9c20eae4c24ad0e820\", element=\"54729cce-5504-41fb-8590-eca39e872561\")>,\n",
       " <selenium.webdriver.remote.webelement.WebElement (session=\"1b029c2e85bfcf9c20eae4c24ad0e820\", element=\"ecf7958d-a037-484f-b98e-32284a33a8fe\")>,\n",
       " <selenium.webdriver.remote.webelement.WebElement (session=\"1b029c2e85bfcf9c20eae4c24ad0e820\", element=\"3f2711b1-37e0-4bd4-8358-faeda0d8d246\")>,\n",
       " <selenium.webdriver.remote.webelement.WebElement (session=\"1b029c2e85bfcf9c20eae4c24ad0e820\", element=\"6364c3a0-ff5e-4680-9044-34119568fa99\")>,\n",
       " <selenium.webdriver.remote.webelement.WebElement (session=\"1b029c2e85bfcf9c20eae4c24ad0e820\", element=\"0ecaba6e-a7de-415a-8de6-67907aad3ae7\")>,\n",
       " <selenium.webdriver.remote.webelement.WebElement (session=\"1b029c2e85bfcf9c20eae4c24ad0e820\", element=\"202658e2-88ce-4b0b-9072-7091cd2cd3c5\")>,\n",
       " <selenium.webdriver.remote.webelement.WebElement (session=\"1b029c2e85bfcf9c20eae4c24ad0e820\", element=\"e17ec84c-0301-4af7-a0ab-5cbfaa893b5d\")>,\n",
       " <selenium.webdriver.remote.webelement.WebElement (session=\"1b029c2e85bfcf9c20eae4c24ad0e820\", element=\"302c013c-e491-4f50-89fb-bbf35c3d6e63\")>,\n",
       " <selenium.webdriver.remote.webelement.WebElement (session=\"1b029c2e85bfcf9c20eae4c24ad0e820\", element=\"8479a112-c14d-4840-8e31-08985d0e1cb7\")>,\n",
       " <selenium.webdriver.remote.webelement.WebElement (session=\"1b029c2e85bfcf9c20eae4c24ad0e820\", element=\"4c3d3447-2002-406e-bd21-06713c6e9842\")>,\n",
       " <selenium.webdriver.remote.webelement.WebElement (session=\"1b029c2e85bfcf9c20eae4c24ad0e820\", element=\"180e7564-7d4a-4b04-a155-b71ef6934695\")>,\n",
       " <selenium.webdriver.remote.webelement.WebElement (session=\"1b029c2e85bfcf9c20eae4c24ad0e820\", element=\"3956a960-d8d2-44c2-879e-fac76b504515\")>,\n",
       " <selenium.webdriver.remote.webelement.WebElement (session=\"1b029c2e85bfcf9c20eae4c24ad0e820\", element=\"7ce61773-80af-4ee6-8a07-35579f68cec6\")>,\n",
       " <selenium.webdriver.remote.webelement.WebElement (session=\"1b029c2e85bfcf9c20eae4c24ad0e820\", element=\"d63db9c9-0a6b-447a-b355-5f6e7280666a\")>,\n",
       " <selenium.webdriver.remote.webelement.WebElement (session=\"1b029c2e85bfcf9c20eae4c24ad0e820\", element=\"2be19cf2-380a-4f9f-8e79-95f470268917\")>,\n",
       " <selenium.webdriver.remote.webelement.WebElement (session=\"1b029c2e85bfcf9c20eae4c24ad0e820\", element=\"41f42fba-b76e-4f4f-b0c9-499c59cf14d5\")>,\n",
       " <selenium.webdriver.remote.webelement.WebElement (session=\"1b029c2e85bfcf9c20eae4c24ad0e820\", element=\"bf7b7fe4-b6c7-474a-b43c-2c4ef5acffc6\")>,\n",
       " <selenium.webdriver.remote.webelement.WebElement (session=\"1b029c2e85bfcf9c20eae4c24ad0e820\", element=\"c214750b-9eb6-4b57-bff4-7635804f309d\")>,\n",
       " <selenium.webdriver.remote.webelement.WebElement (session=\"1b029c2e85bfcf9c20eae4c24ad0e820\", element=\"d45844f5-856d-4bae-bb5e-6a0b66bc8544\")>,\n",
       " <selenium.webdriver.remote.webelement.WebElement (session=\"1b029c2e85bfcf9c20eae4c24ad0e820\", element=\"c9046791-ff4c-4718-8429-54068b16f957\")>]"
      ]
     },
     "execution_count": 88,
     "metadata": {},
     "output_type": "execute_result"
    }
   ],
   "source": [
    "avg_salary_tags=driver.find_elements_by_xpath('//h3[@class=\"m-0 css-g261rn\"]')\n",
    "avg_salary_tags"
   ]
  },
  {
   "cell_type": "code",
   "execution_count": 119,
   "metadata": {},
   "outputs": [
    {
     "data": {
      "text/plain": [
       "['₹6,19,349',\n",
       " '₹9,00,000',\n",
       " '₹11,71,012',\n",
       " '₹12,26,283',\n",
       " '₹7,44,116',\n",
       " '₹12,80,000',\n",
       " '₹13,29,677',\n",
       " '₹14,28,139',\n",
       " '₹8,69,449',\n",
       " '₹11,10,000']"
      ]
     },
     "execution_count": 119,
     "metadata": {},
     "output_type": "execute_result"
    }
   ],
   "source": [
    "#now the text of the average salary  is inside the tag is extracted above.\n",
    "# so we run for loop  to extract data\n",
    "Avg_salary=[]\n",
    "for i in avg_salary_tags:\n",
    "    Avg_salary.append(i.text)\n",
    "    \n",
    "\n",
    "#salary_number=salary_number[2::]\n",
    "Avg_salary=Avg_salary[5::2]\n",
    "Avg_salary=Avg_salary[:10]\n",
    "Avg_salary"
   ]
  },
  {
   "cell_type": "code",
   "execution_count": 99,
   "metadata": {},
   "outputs": [
    {
     "data": {
      "text/plain": [
       "[<selenium.webdriver.remote.webelement.WebElement (session=\"1b029c2e85bfcf9c20eae4c24ad0e820\", element=\"ea35ef0d-aff1-47c0-aec7-8b3931d05db9\")>,\n",
       " <selenium.webdriver.remote.webelement.WebElement (session=\"1b029c2e85bfcf9c20eae4c24ad0e820\", element=\"c4798059-baeb-48db-bc6f-d106a7a313a1\")>,\n",
       " <selenium.webdriver.remote.webelement.WebElement (session=\"1b029c2e85bfcf9c20eae4c24ad0e820\", element=\"fbdad358-6212-4670-8092-d5b7a75c4c23\")>,\n",
       " <selenium.webdriver.remote.webelement.WebElement (session=\"1b029c2e85bfcf9c20eae4c24ad0e820\", element=\"349c9a01-5c51-42c1-8811-f081345cc8a4\")>,\n",
       " <selenium.webdriver.remote.webelement.WebElement (session=\"1b029c2e85bfcf9c20eae4c24ad0e820\", element=\"d72103f2-d700-4ce1-8bc6-b5b3f1189705\")>,\n",
       " <selenium.webdriver.remote.webelement.WebElement (session=\"1b029c2e85bfcf9c20eae4c24ad0e820\", element=\"4d59042a-d7d5-4a46-a81f-a8f313a21dc3\")>,\n",
       " <selenium.webdriver.remote.webelement.WebElement (session=\"1b029c2e85bfcf9c20eae4c24ad0e820\", element=\"03e241e4-3b76-4d2b-a948-f8cea63ec3ca\")>,\n",
       " <selenium.webdriver.remote.webelement.WebElement (session=\"1b029c2e85bfcf9c20eae4c24ad0e820\", element=\"383084cf-3241-4da6-9c98-2c154fa5082c\")>,\n",
       " <selenium.webdriver.remote.webelement.WebElement (session=\"1b029c2e85bfcf9c20eae4c24ad0e820\", element=\"45d644d4-f7de-460c-ba0e-8eb73b9b57ae\")>,\n",
       " <selenium.webdriver.remote.webelement.WebElement (session=\"1b029c2e85bfcf9c20eae4c24ad0e820\", element=\"8e4361a5-283b-41cd-b982-4eea4f6889ea\")>,\n",
       " <selenium.webdriver.remote.webelement.WebElement (session=\"1b029c2e85bfcf9c20eae4c24ad0e820\", element=\"5347f857-4593-49e1-9294-08c4ddffc77b\")>,\n",
       " <selenium.webdriver.remote.webelement.WebElement (session=\"1b029c2e85bfcf9c20eae4c24ad0e820\", element=\"265cc128-3a37-4c60-b8c6-0c06c426d637\")>,\n",
       " <selenium.webdriver.remote.webelement.WebElement (session=\"1b029c2e85bfcf9c20eae4c24ad0e820\", element=\"e88a544a-e41d-4e2c-9eff-53c8b726bf4d\")>,\n",
       " <selenium.webdriver.remote.webelement.WebElement (session=\"1b029c2e85bfcf9c20eae4c24ad0e820\", element=\"6700f7b0-b49c-429e-bb9b-59e62cc567a5\")>,\n",
       " <selenium.webdriver.remote.webelement.WebElement (session=\"1b029c2e85bfcf9c20eae4c24ad0e820\", element=\"72dcf7c5-a7a5-4a6c-9828-6f9abe083e60\")>,\n",
       " <selenium.webdriver.remote.webelement.WebElement (session=\"1b029c2e85bfcf9c20eae4c24ad0e820\", element=\"6178bd44-f59f-4e29-9fc5-2a62a6f850f3\")>,\n",
       " <selenium.webdriver.remote.webelement.WebElement (session=\"1b029c2e85bfcf9c20eae4c24ad0e820\", element=\"021a5181-d96f-44cd-91c9-6dae2ab9dee3\")>,\n",
       " <selenium.webdriver.remote.webelement.WebElement (session=\"1b029c2e85bfcf9c20eae4c24ad0e820\", element=\"9795b23c-4cfc-47c6-a309-fd384cdfc819\")>,\n",
       " <selenium.webdriver.remote.webelement.WebElement (session=\"1b029c2e85bfcf9c20eae4c24ad0e820\", element=\"0266e308-5697-4fd9-8c13-70f5a0f52045\")>,\n",
       " <selenium.webdriver.remote.webelement.WebElement (session=\"1b029c2e85bfcf9c20eae4c24ad0e820\", element=\"1436ef72-94b2-47fd-83b8-0845c444f9cd\")>,\n",
       " <selenium.webdriver.remote.webelement.WebElement (session=\"1b029c2e85bfcf9c20eae4c24ad0e820\", element=\"db909346-6413-4fae-acf8-5dee1b137a24\")>,\n",
       " <selenium.webdriver.remote.webelement.WebElement (session=\"1b029c2e85bfcf9c20eae4c24ad0e820\", element=\"bd35228a-6880-463e-9c0b-008765b3115d\")>,\n",
       " <selenium.webdriver.remote.webelement.WebElement (session=\"1b029c2e85bfcf9c20eae4c24ad0e820\", element=\"c2d2b95b-e9f0-4471-8012-39f7da4d736e\")>,\n",
       " <selenium.webdriver.remote.webelement.WebElement (session=\"1b029c2e85bfcf9c20eae4c24ad0e820\", element=\"70d6bc5d-6cff-481e-b43c-606c3b6a6443\")>,\n",
       " <selenium.webdriver.remote.webelement.WebElement (session=\"1b029c2e85bfcf9c20eae4c24ad0e820\", element=\"40e34cef-c48d-48f2-afad-05d8ef88a486\")>,\n",
       " <selenium.webdriver.remote.webelement.WebElement (session=\"1b029c2e85bfcf9c20eae4c24ad0e820\", element=\"a9520ff1-c0ad-433b-a53a-3e2b5627991c\")>,\n",
       " <selenium.webdriver.remote.webelement.WebElement (session=\"1b029c2e85bfcf9c20eae4c24ad0e820\", element=\"e6ae03c2-accf-4700-9ef7-ac21fe60bcef\")>,\n",
       " <selenium.webdriver.remote.webelement.WebElement (session=\"1b029c2e85bfcf9c20eae4c24ad0e820\", element=\"8314ec16-02ed-4371-b0a8-9d2cd5473e4c\")>,\n",
       " <selenium.webdriver.remote.webelement.WebElement (session=\"1b029c2e85bfcf9c20eae4c24ad0e820\", element=\"457678d7-c58c-4578-afa5-aae2e9686672\")>,\n",
       " <selenium.webdriver.remote.webelement.WebElement (session=\"1b029c2e85bfcf9c20eae4c24ad0e820\", element=\"c0ee1fbc-53de-4ebe-930e-11915c9494ee\")>,\n",
       " <selenium.webdriver.remote.webelement.WebElement (session=\"1b029c2e85bfcf9c20eae4c24ad0e820\", element=\"7fd09fbb-c87c-4079-8369-cbba38c14248\")>,\n",
       " <selenium.webdriver.remote.webelement.WebElement (session=\"1b029c2e85bfcf9c20eae4c24ad0e820\", element=\"472d910f-f5dd-417a-9119-ce29c456ba92\")>,\n",
       " <selenium.webdriver.remote.webelement.WebElement (session=\"1b029c2e85bfcf9c20eae4c24ad0e820\", element=\"8e3e1264-824a-4089-a16f-41871e2a7904\")>,\n",
       " <selenium.webdriver.remote.webelement.WebElement (session=\"1b029c2e85bfcf9c20eae4c24ad0e820\", element=\"55ee22c0-b0f6-42a7-a918-b5598ab22f68\")>,\n",
       " <selenium.webdriver.remote.webelement.WebElement (session=\"1b029c2e85bfcf9c20eae4c24ad0e820\", element=\"0f74229f-d51d-475a-a0ab-aa48909a7407\")>,\n",
       " <selenium.webdriver.remote.webelement.WebElement (session=\"1b029c2e85bfcf9c20eae4c24ad0e820\", element=\"edce7ccc-5031-4150-8262-a399acf93f3c\")>,\n",
       " <selenium.webdriver.remote.webelement.WebElement (session=\"1b029c2e85bfcf9c20eae4c24ad0e820\", element=\"fa8b1229-e402-4789-acb3-ff599c3f27f1\")>,\n",
       " <selenium.webdriver.remote.webelement.WebElement (session=\"1b029c2e85bfcf9c20eae4c24ad0e820\", element=\"f31e2c33-33c1-43ed-a794-76e6d5534fc1\")>,\n",
       " <selenium.webdriver.remote.webelement.WebElement (session=\"1b029c2e85bfcf9c20eae4c24ad0e820\", element=\"573dc985-b9da-44b1-8ecb-6e50a224753b\")>,\n",
       " <selenium.webdriver.remote.webelement.WebElement (session=\"1b029c2e85bfcf9c20eae4c24ad0e820\", element=\"9d76ad33-9a10-4b81-8bad-477d2e7bcb08\")>,\n",
       " <selenium.webdriver.remote.webelement.WebElement (session=\"1b029c2e85bfcf9c20eae4c24ad0e820\", element=\"4be35fe7-e486-4b96-8e34-8a6b409a73d6\")>,\n",
       " <selenium.webdriver.remote.webelement.WebElement (session=\"1b029c2e85bfcf9c20eae4c24ad0e820\", element=\"f1713938-b788-4934-b490-939e6f54812c\")>,\n",
       " <selenium.webdriver.remote.webelement.WebElement (session=\"1b029c2e85bfcf9c20eae4c24ad0e820\", element=\"99bd0ff3-6f04-487e-ae35-4f9b68ea4f0f\")>,\n",
       " <selenium.webdriver.remote.webelement.WebElement (session=\"1b029c2e85bfcf9c20eae4c24ad0e820\", element=\"a12eb699-b44d-4f84-8b94-6428279c6a36\")>,\n",
       " <selenium.webdriver.remote.webelement.WebElement (session=\"1b029c2e85bfcf9c20eae4c24ad0e820\", element=\"a94f2137-6ab9-49e2-845d-9d61c8823649\")>,\n",
       " <selenium.webdriver.remote.webelement.WebElement (session=\"1b029c2e85bfcf9c20eae4c24ad0e820\", element=\"de15c14e-c29d-4010-9f52-fb295cb5df0f\")>,\n",
       " <selenium.webdriver.remote.webelement.WebElement (session=\"1b029c2e85bfcf9c20eae4c24ad0e820\", element=\"1ff314ab-5bc4-4159-b21c-8f3194cc7972\")>,\n",
       " <selenium.webdriver.remote.webelement.WebElement (session=\"1b029c2e85bfcf9c20eae4c24ad0e820\", element=\"5129327a-ff47-4554-bbb3-1231c78d84df\")>,\n",
       " <selenium.webdriver.remote.webelement.WebElement (session=\"1b029c2e85bfcf9c20eae4c24ad0e820\", element=\"fcd47fc5-db6f-4500-8a65-c0451b9f5b75\")>,\n",
       " <selenium.webdriver.remote.webelement.WebElement (session=\"1b029c2e85bfcf9c20eae4c24ad0e820\", element=\"09ba0132-cbb0-458b-9ef2-999573d94668\")>,\n",
       " <selenium.webdriver.remote.webelement.WebElement (session=\"1b029c2e85bfcf9c20eae4c24ad0e820\", element=\"7c67946a-d43a-4786-a18a-d303c6ce0b4a\")>,\n",
       " <selenium.webdriver.remote.webelement.WebElement (session=\"1b029c2e85bfcf9c20eae4c24ad0e820\", element=\"84bda8c4-f614-49d5-8dc4-8ec784a70418\")>,\n",
       " <selenium.webdriver.remote.webelement.WebElement (session=\"1b029c2e85bfcf9c20eae4c24ad0e820\", element=\"e702c145-ec5e-42e9-9f2e-f1f1f5e8148c\")>,\n",
       " <selenium.webdriver.remote.webelement.WebElement (session=\"1b029c2e85bfcf9c20eae4c24ad0e820\", element=\"2ff9d022-c4c6-4020-be69-7bc645550fc2\")>,\n",
       " <selenium.webdriver.remote.webelement.WebElement (session=\"1b029c2e85bfcf9c20eae4c24ad0e820\", element=\"1b30bfe9-df68-4d0e-90c1-c51edf1a968d\")>,\n",
       " <selenium.webdriver.remote.webelement.WebElement (session=\"1b029c2e85bfcf9c20eae4c24ad0e820\", element=\"ea4d2103-4124-46f2-bec9-78670a58f55e\")>,\n",
       " <selenium.webdriver.remote.webelement.WebElement (session=\"1b029c2e85bfcf9c20eae4c24ad0e820\", element=\"8b3fd8d5-fa0e-4747-a99f-67d903120aa1\")>,\n",
       " <selenium.webdriver.remote.webelement.WebElement (session=\"1b029c2e85bfcf9c20eae4c24ad0e820\", element=\"31d9d694-00cc-474c-a188-4d2551f8a7d2\")>,\n",
       " <selenium.webdriver.remote.webelement.WebElement (session=\"1b029c2e85bfcf9c20eae4c24ad0e820\", element=\"72ddda00-ae4a-410f-8928-e318f2c34152\")>,\n",
       " <selenium.webdriver.remote.webelement.WebElement (session=\"1b029c2e85bfcf9c20eae4c24ad0e820\", element=\"6899d041-6f54-46fd-a447-948c4a5fa6b9\")>,\n",
       " <selenium.webdriver.remote.webelement.WebElement (session=\"1b029c2e85bfcf9c20eae4c24ad0e820\", element=\"2c3d181c-a578-4068-9eee-5d9e25d12bde\")>,\n",
       " <selenium.webdriver.remote.webelement.WebElement (session=\"1b029c2e85bfcf9c20eae4c24ad0e820\", element=\"d98925ba-fc5d-45de-820b-a577a7d2c01c\")>,\n",
       " <selenium.webdriver.remote.webelement.WebElement (session=\"1b029c2e85bfcf9c20eae4c24ad0e820\", element=\"caf9ab98-cb6a-4a41-8e3e-14c62d45c0c8\")>,\n",
       " <selenium.webdriver.remote.webelement.WebElement (session=\"1b029c2e85bfcf9c20eae4c24ad0e820\", element=\"1ef80fa3-0862-4024-bddc-f741ed31b001\")>,\n",
       " <selenium.webdriver.remote.webelement.WebElement (session=\"1b029c2e85bfcf9c20eae4c24ad0e820\", element=\"7fb0979c-b4bb-4ef9-83ec-48f8998f2df5\")>,\n",
       " <selenium.webdriver.remote.webelement.WebElement (session=\"1b029c2e85bfcf9c20eae4c24ad0e820\", element=\"800f4b52-38c9-4850-8ba0-2e5100e68fd8\")>,\n",
       " <selenium.webdriver.remote.webelement.WebElement (session=\"1b029c2e85bfcf9c20eae4c24ad0e820\", element=\"4738398b-220b-48e1-bae5-b2702103ec86\")>,\n",
       " <selenium.webdriver.remote.webelement.WebElement (session=\"1b029c2e85bfcf9c20eae4c24ad0e820\", element=\"9a56b71f-a2f1-48ce-b493-b477422bc2bc\")>,\n",
       " <selenium.webdriver.remote.webelement.WebElement (session=\"1b029c2e85bfcf9c20eae4c24ad0e820\", element=\"c107014f-674d-445d-8300-b6ac0f73d651\")>,\n",
       " <selenium.webdriver.remote.webelement.WebElement (session=\"1b029c2e85bfcf9c20eae4c24ad0e820\", element=\"678f22d8-2059-4b1e-9f7a-9d9490a33b31\")>,\n",
       " <selenium.webdriver.remote.webelement.WebElement (session=\"1b029c2e85bfcf9c20eae4c24ad0e820\", element=\"0967d41f-4908-4f0b-ba81-6bd57c69e653\")>,\n",
       " <selenium.webdriver.remote.webelement.WebElement (session=\"1b029c2e85bfcf9c20eae4c24ad0e820\", element=\"1ce62909-cadd-4b0e-8430-704f8805cc3b\")>,\n",
       " <selenium.webdriver.remote.webelement.WebElement (session=\"1b029c2e85bfcf9c20eae4c24ad0e820\", element=\"74d934d8-2ba4-4ef4-a38b-5653deca9f1c\")>,\n",
       " <selenium.webdriver.remote.webelement.WebElement (session=\"1b029c2e85bfcf9c20eae4c24ad0e820\", element=\"206176d1-b69f-4d8f-9614-dc6e3c3c03ad\")>,\n",
       " <selenium.webdriver.remote.webelement.WebElement (session=\"1b029c2e85bfcf9c20eae4c24ad0e820\", element=\"2dc88ff5-ee5d-46b3-9bd1-4168426c554f\")>,\n",
       " <selenium.webdriver.remote.webelement.WebElement (session=\"1b029c2e85bfcf9c20eae4c24ad0e820\", element=\"8491dcca-1cc8-4858-af06-8aa304de6503\")>,\n",
       " <selenium.webdriver.remote.webelement.WebElement (session=\"1b029c2e85bfcf9c20eae4c24ad0e820\", element=\"5d032944-13fc-43a1-abc3-436dde27765e\")>,\n",
       " <selenium.webdriver.remote.webelement.WebElement (session=\"1b029c2e85bfcf9c20eae4c24ad0e820\", element=\"6750baa3-69cb-4190-ba33-265e8de24999\")>,\n",
       " <selenium.webdriver.remote.webelement.WebElement (session=\"1b029c2e85bfcf9c20eae4c24ad0e820\", element=\"9a9d74b4-b3dc-4ab7-8bb1-726345bb956b\")>,\n",
       " <selenium.webdriver.remote.webelement.WebElement (session=\"1b029c2e85bfcf9c20eae4c24ad0e820\", element=\"7b77f9ae-4f2f-4d56-b205-229a097802fa\")>,\n",
       " <selenium.webdriver.remote.webelement.WebElement (session=\"1b029c2e85bfcf9c20eae4c24ad0e820\", element=\"6899391a-7f24-470a-8d4b-793c0b32e6c4\")>,\n",
       " <selenium.webdriver.remote.webelement.WebElement (session=\"1b029c2e85bfcf9c20eae4c24ad0e820\", element=\"ee3595bf-ac3f-4da3-9cbb-2fb70ce28b22\")>,\n",
       " <selenium.webdriver.remote.webelement.WebElement (session=\"1b029c2e85bfcf9c20eae4c24ad0e820\", element=\"ef0f058e-ab5f-404a-92da-a298a95251ab\")>,\n",
       " <selenium.webdriver.remote.webelement.WebElement (session=\"1b029c2e85bfcf9c20eae4c24ad0e820\", element=\"177dbb8b-c413-4c9d-9fe9-fe1fee027c95\")>,\n",
       " <selenium.webdriver.remote.webelement.WebElement (session=\"1b029c2e85bfcf9c20eae4c24ad0e820\", element=\"6240fc60-682d-43b7-8b40-7ceac15231b7\")>,\n",
       " <selenium.webdriver.remote.webelement.WebElement (session=\"1b029c2e85bfcf9c20eae4c24ad0e820\", element=\"1bff06a9-91d7-4de0-986f-621fef50b1f4\")>,\n",
       " <selenium.webdriver.remote.webelement.WebElement (session=\"1b029c2e85bfcf9c20eae4c24ad0e820\", element=\"af3f3047-7eb0-4a06-adab-4ef27ebcb304\")>,\n",
       " <selenium.webdriver.remote.webelement.WebElement (session=\"1b029c2e85bfcf9c20eae4c24ad0e820\", element=\"cca5bb46-8c60-433e-a0f1-0e17bf028d03\")>,\n",
       " <selenium.webdriver.remote.webelement.WebElement (session=\"1b029c2e85bfcf9c20eae4c24ad0e820\", element=\"91c7f36c-df91-42fb-8da6-ab9afc448770\")>,\n",
       " <selenium.webdriver.remote.webelement.WebElement (session=\"1b029c2e85bfcf9c20eae4c24ad0e820\", element=\"5c169e23-dc2a-480b-95cd-ff0c67bc3e37\")>,\n",
       " <selenium.webdriver.remote.webelement.WebElement (session=\"1b029c2e85bfcf9c20eae4c24ad0e820\", element=\"fa5ec747-e1a6-4b1c-ac77-8c8163e69fa7\")>,\n",
       " <selenium.webdriver.remote.webelement.WebElement (session=\"1b029c2e85bfcf9c20eae4c24ad0e820\", element=\"b446c8c3-07ba-46a0-8da3-0485de225160\")>,\n",
       " <selenium.webdriver.remote.webelement.WebElement (session=\"1b029c2e85bfcf9c20eae4c24ad0e820\", element=\"bff44adb-71a4-4b79-839a-b33efe2c8e8f\")>,\n",
       " <selenium.webdriver.remote.webelement.WebElement (session=\"1b029c2e85bfcf9c20eae4c24ad0e820\", element=\"786eba96-8470-48af-b9bf-47e49c28598b\")>,\n",
       " <selenium.webdriver.remote.webelement.WebElement (session=\"1b029c2e85bfcf9c20eae4c24ad0e820\", element=\"a5e352b6-c4b4-465b-b214-c4053ca7816a\")>]"
      ]
     },
     "execution_count": 99,
     "metadata": {},
     "output_type": "execute_result"
    }
   ],
   "source": [
    "range_salary_tags=driver.find_elements_by_xpath('//p[@class=\"m-0 css-1vkj9it\"]')\n",
    "range_salary_tags\n",
    "\n"
   ]
  },
  {
   "cell_type": "code",
   "execution_count": 112,
   "metadata": {},
   "outputs": [
    {
     "data": {
      "text/plain": [
       "['₹4L', '₹1L', '₹6L', '₹5L', '₹4L', '₹8L', '₹8L', '₹10L', '₹5L', '₹6L']"
      ]
     },
     "execution_count": 112,
     "metadata": {},
     "output_type": "execute_result"
    }
   ],
   "source": [
    "#now the text of the minimum salary  is inside the tag is extracted above.\n",
    "# so we run for loop  to extract data\n",
    "Min_salary=[]\n",
    "for i in range_salary_tags:\n",
    "    Min_salary.append(i.text)\n",
    "    \n",
    "\n",
    "#Min Salary\n",
    "Min_salary=Min_salary[19::3]\n",
    "Min_salary=Min_salary[:10]\n",
    "Min_salary\n",
    "\n",
    "\n"
   ]
  },
  {
   "cell_type": "code",
   "execution_count": 113,
   "metadata": {},
   "outputs": [
    {
     "data": {
      "text/plain": [
       "['₹13L',\n",
       " '₹28L',\n",
       " '₹22L',\n",
       " '₹1Cr',\n",
       " '₹16L',\n",
       " '₹15L',\n",
       " '₹20L',\n",
       " '₹17L',\n",
       " '₹15L',\n",
       " '₹15L']"
      ]
     },
     "execution_count": 113,
     "metadata": {},
     "output_type": "execute_result"
    }
   ],
   "source": [
    "#now the text of the maximum salary  is inside the tag is extracted above.\n",
    "# so we run for loop  to extract data\n",
    "Max_salary=[]\n",
    "for i in range_salary_tags:\n",
    "    Max_salary.append(i.text)\n",
    "    \n",
    "\n",
    "\n",
    "Max_salary=Max_salary[20::3]\n",
    "Max_salary=Max_salary[:10]\n",
    "Max_salary"
   ]
  },
  {
   "cell_type": "code",
   "execution_count": 115,
   "metadata": {},
   "outputs": [
    {
     "data": {
      "text/plain": [
       "['3.9', '3.9', '4.1', '3.8', '4', '3.7', '3.7', '3.9', '4.2', '3.6']"
      ]
     },
     "execution_count": 115,
     "metadata": {},
     "output_type": "execute_result"
    }
   ],
   "source": [
    "rating_tags=driver.find_elements_by_xpath('//span[@class=\"m-0 css-kyx745\"]')\n",
    "rating_tags\n",
    "\n",
    "#now the text of the rating is inside the tag is extracted above.\n",
    "# so we run for loop  to extract data\n",
    "rating=[]\n",
    "for i in rating_tags:\n",
    "    rating.append(i.text)\n",
    "\n",
    "rating=rating[:10]\n",
    "rating"
   ]
  },
  {
   "cell_type": "code",
   "execution_count": 121,
   "metadata": {},
   "outputs": [
    {
     "data": {
      "text/html": [
       "<div>\n",
       "<style scoped>\n",
       "    .dataframe tbody tr th:only-of-type {\n",
       "        vertical-align: middle;\n",
       "    }\n",
       "\n",
       "    .dataframe tbody tr th {\n",
       "        vertical-align: top;\n",
       "    }\n",
       "\n",
       "    .dataframe thead th {\n",
       "        text-align: right;\n",
       "    }\n",
       "</style>\n",
       "<table border=\"1\" class=\"dataframe\">\n",
       "  <thead>\n",
       "    <tr style=\"text-align: right;\">\n",
       "      <th></th>\n",
       "      <th>Company_name</th>\n",
       "      <th>Number_of_salaries</th>\n",
       "      <th>Avg_salary</th>\n",
       "      <th>Min_salary</th>\n",
       "      <th>Max_salary</th>\n",
       "      <th>Company Rating</th>\n",
       "    </tr>\n",
       "  </thead>\n",
       "  <tbody>\n",
       "    <tr>\n",
       "      <th>0</th>\n",
       "      <td>Tata Consultancy Services</td>\n",
       "      <td>21 salaries</td>\n",
       "      <td>₹6,19,349</td>\n",
       "      <td>₹4L</td>\n",
       "      <td>₹13L</td>\n",
       "      <td>3.9</td>\n",
       "    </tr>\n",
       "    <tr>\n",
       "      <th>1</th>\n",
       "      <td>IBM</td>\n",
       "      <td>20 salaries</td>\n",
       "      <td>₹9,00,000</td>\n",
       "      <td>₹1L</td>\n",
       "      <td>₹28L</td>\n",
       "      <td>3.9</td>\n",
       "    </tr>\n",
       "    <tr>\n",
       "      <th>2</th>\n",
       "      <td>Accenture</td>\n",
       "      <td>15 salaries</td>\n",
       "      <td>₹11,71,012</td>\n",
       "      <td>₹6L</td>\n",
       "      <td>₹22L</td>\n",
       "      <td>4.1</td>\n",
       "    </tr>\n",
       "    <tr>\n",
       "      <th>3</th>\n",
       "      <td>Delhivery</td>\n",
       "      <td>15 salaries</td>\n",
       "      <td>₹12,26,283</td>\n",
       "      <td>₹5L</td>\n",
       "      <td>₹1Cr</td>\n",
       "      <td>3.8</td>\n",
       "    </tr>\n",
       "    <tr>\n",
       "      <th>4</th>\n",
       "      <td>Ericsson-Worldwide</td>\n",
       "      <td>14 salaries</td>\n",
       "      <td>₹7,44,116</td>\n",
       "      <td>₹4L</td>\n",
       "      <td>₹16L</td>\n",
       "      <td>4</td>\n",
       "    </tr>\n",
       "    <tr>\n",
       "      <th>5</th>\n",
       "      <td>UnitedHealth Group</td>\n",
       "      <td>14 salaries</td>\n",
       "      <td>₹12,80,000</td>\n",
       "      <td>₹8L</td>\n",
       "      <td>₹15L</td>\n",
       "      <td>3.7</td>\n",
       "    </tr>\n",
       "    <tr>\n",
       "      <th>6</th>\n",
       "      <td>Optum</td>\n",
       "      <td>10 salaries</td>\n",
       "      <td>₹13,29,677</td>\n",
       "      <td>₹8L</td>\n",
       "      <td>₹20L</td>\n",
       "      <td>3.7</td>\n",
       "    </tr>\n",
       "    <tr>\n",
       "      <th>7</th>\n",
       "      <td>Optum Global Solutions</td>\n",
       "      <td>10 salaries</td>\n",
       "      <td>₹14,28,139</td>\n",
       "      <td>₹10L</td>\n",
       "      <td>₹17L</td>\n",
       "      <td>3.9</td>\n",
       "    </tr>\n",
       "    <tr>\n",
       "      <th>8</th>\n",
       "      <td>Valiance Solutions</td>\n",
       "      <td>10 salaries</td>\n",
       "      <td>₹8,69,449</td>\n",
       "      <td>₹5L</td>\n",
       "      <td>₹15L</td>\n",
       "      <td>4.2</td>\n",
       "    </tr>\n",
       "    <tr>\n",
       "      <th>9</th>\n",
       "      <td>EXL Service</td>\n",
       "      <td>9 salaries</td>\n",
       "      <td>₹11,10,000</td>\n",
       "      <td>₹6L</td>\n",
       "      <td>₹15L</td>\n",
       "      <td>3.6</td>\n",
       "    </tr>\n",
       "  </tbody>\n",
       "</table>\n",
       "</div>"
      ],
      "text/plain": [
       "                Company_name Number_of_salaries  Avg_salary Min_salary  \\\n",
       "0  Tata Consultancy Services        21 salaries   ₹6,19,349        ₹4L   \n",
       "1                        IBM        20 salaries   ₹9,00,000        ₹1L   \n",
       "2                  Accenture        15 salaries  ₹11,71,012        ₹6L   \n",
       "3                  Delhivery        15 salaries  ₹12,26,283        ₹5L   \n",
       "4         Ericsson-Worldwide        14 salaries   ₹7,44,116        ₹4L   \n",
       "5         UnitedHealth Group        14 salaries  ₹12,80,000        ₹8L   \n",
       "6                      Optum        10 salaries  ₹13,29,677        ₹8L   \n",
       "7     Optum Global Solutions        10 salaries  ₹14,28,139       ₹10L   \n",
       "8         Valiance Solutions        10 salaries   ₹8,69,449        ₹5L   \n",
       "9                EXL Service         9 salaries  ₹11,10,000        ₹6L   \n",
       "\n",
       "  Max_salary Company Rating  \n",
       "0       ₹13L            3.9  \n",
       "1       ₹28L            3.9  \n",
       "2       ₹22L            4.1  \n",
       "3       ₹1Cr            3.8  \n",
       "4       ₹16L              4  \n",
       "5       ₹15L            3.7  \n",
       "6       ₹20L            3.7  \n",
       "7       ₹17L            3.9  \n",
       "8       ₹15L            4.2  \n",
       "9       ₹15L            3.6  "
      ]
     },
     "execution_count": 121,
     "metadata": {},
     "output_type": "execute_result"
    }
   ],
   "source": [
    "import pandas as pd\n",
    "df=pd.DataFrame({})\n",
    "df['Company_name']=company_name\n",
    "df['Number_of_salaries']=salary_number\n",
    "df['Avg_salary']=Avg_salary\n",
    "df['Min_salary']=Min_salary\n",
    "df['Max_salary']=Max_salary\n",
    "df['Company Rating']=rating\n",
    "df"
   ]
  },
  {
   "cell_type": "markdown",
   "metadata": {},
   "source": [
    "# Q6 : Scrape data of first 100 sunglasses listings on flipkart.com. You have to scrape four attributes: 1. Brand 2. Product Description 3. Price 4. Discount % The attributes which you have to scrape is ticked marked in the below image. \n",
    " To scrape the data you have to go through following steps: \n",
    "1. Go to flipkart webpage by url   https://www.flipkart.com/ \n",
    "2. Enter “sunglasses” in the search field where “search for products, brands and more” is written and click the search icon \n",
    "3. after that you will reach to a webpage having a lot of sunglasses. From this page you can scrap the required data as usual.  4. after scraping data from the first page, go to the “Next” Button at the bottom of the page , then click on it \n",
    "\n",
    "5. Now scrape data from this page as usual \n",
    "6. repeat this until you get data for 100 sunglasses. Note that all of the above steps have to be done by coding only and not manually. "
   ]
  },
  {
   "cell_type": "code",
   "execution_count": 126,
   "metadata": {},
   "outputs": [],
   "source": [
    "url=' https://www.flipkart.com/'\n",
    "driver.get(url)\n",
    "search_job= driver.find_element_by_xpath('//input[@class=\"_3704LK\"]')\n",
    "search_job\n",
    "search_job.send_keys(\"sunglasses\")"
   ]
  },
  {
   "cell_type": "code",
   "execution_count": 127,
   "metadata": {},
   "outputs": [],
   "source": [
    "search_btn=driver.find_element_by_xpath('//button[@class=\"L0Z3Pu\"]')\n",
    "search_btn\n",
    "search_btn.click()\n"
   ]
  },
  {
   "cell_type": "code",
   "execution_count": 139,
   "metadata": {},
   "outputs": [
    {
     "data": {
      "text/plain": [
       "['AISLIN',\n",
       " 'ROYAL SON',\n",
       " 'Elligator',\n",
       " 'SHAAH COLLECTIONS',\n",
       " 'PIRASO',\n",
       " 'kingsunglasses',\n",
       " 'PIRASO',\n",
       " 'elegante',\n",
       " 'ROYAL SON',\n",
       " 'kingsunglasses',\n",
       " 'Fastrack',\n",
       " 'AISLIN',\n",
       " 'Fastrack',\n",
       " 'SHAAH COLLECTIONS',\n",
       " 'PIRASO',\n",
       " 'AISLIN',\n",
       " 'ROZZETTA CRAFT',\n",
       " 'ROZZETTA CRAFT',\n",
       " 'SUNBEE',\n",
       " 'AISLIN',\n",
       " 'Silver Kartz',\n",
       " 'PIRASO',\n",
       " 'SUNBEE',\n",
       " 'AISLIN',\n",
       " 'PHENOMENAL',\n",
       " 'SHAAH COLLECTIONS',\n",
       " 'Fastrack',\n",
       " 'AISLIN',\n",
       " 'NuVew',\n",
       " 'Elligator',\n",
       " 'DEIXELS',\n",
       " 'AISLIN',\n",
       " 'OCCARIO',\n",
       " 'ROYAL SON',\n",
       " 'Rich Club',\n",
       " 'AISLIN',\n",
       " 'Fastrack',\n",
       " 'GANSTA',\n",
       " 'ROZZETTA CRAFT',\n",
       " 'AISLIN']"
      ]
     },
     "execution_count": 139,
     "metadata": {},
     "output_type": "execute_result"
    }
   ],
   "source": [
    "brand_tags= driver.find_elements_by_xpath('//div[@class=\"_2WkVRV\"]')\n",
    "brand_tags\n",
    "\n",
    "#now the text of the Brand name is inside the tag is extracted above.\n",
    "# so we run for loop  to extract data\n",
    "brand_name=[]\n",
    "for i in brand_tags:\n",
    "    brand_name.append(i.text)\n",
    "    \n",
    "\n",
    "brand_name"
   ]
  },
  {
   "cell_type": "code",
   "execution_count": 140,
   "metadata": {},
   "outputs": [
    {
     "data": {
      "text/plain": [
       "40"
      ]
     },
     "execution_count": 140,
     "metadata": {},
     "output_type": "execute_result"
    }
   ],
   "source": [
    "len(brand_name)"
   ]
  },
  {
   "cell_type": "code",
   "execution_count": 141,
   "metadata": {},
   "outputs": [
    {
     "data": {
      "text/plain": [
       "['UV Protection, Gradient Wayfarer, Over-sized Sunglasses...',\n",
       " 'Polarized, UV Protection Round Sunglasses (49)',\n",
       " 'UV Protection Round Sunglasses (54)',\n",
       " 'UV Protection, Polarized, Mirrored Rectangular Sunglass...',\n",
       " 'UV Protection Aviator Sunglasses (54)',\n",
       " 'Mirrored, UV Protection Wayfarer Sunglasses (Free Size)',\n",
       " 'UV Protection Aviator Sunglasses (54)',\n",
       " 'UV Protection Oval Sunglasses (Free Size)',\n",
       " 'UV Protection Rectangular Sunglasses (58)',\n",
       " 'UV Protection Round Sunglasses (54)',\n",
       " 'UV Protection Wayfarer Sunglasses (Free Size)',\n",
       " 'UV Protection, Gradient Butterfly, Retro Square Sunglas...',\n",
       " 'Gradient, UV Protection Wayfarer Sunglasses (Free Size)',\n",
       " 'UV Protection, Polarized, Mirrored Rectangular Sunglass...',\n",
       " 'UV Protection Aviator Sunglasses (54)',\n",
       " 'Toughened Glass Lens, UV Protection Aviator, Wrap-aroun...',\n",
       " 'UV Protection Retro Square Sunglasses (Free Size)',\n",
       " 'UV Protection, Gradient Rectangular Sunglasses (Free Si...',\n",
       " 'UV Protection, Polarized, Mirrored Wayfarer Sunglasses ...',\n",
       " 'UV Protection, Gradient Wayfarer Sunglasses (57)',\n",
       " 'UV Protection Wayfarer Sunglasses (Free Size)',\n",
       " 'UV Protection Butterfly Sunglasses (65)',\n",
       " 'UV Protection, Polarized, Mirrored Wayfarer Sunglasses ...',\n",
       " 'UV Protection, Gradient Round, Cat-eye Sunglasses (60)',\n",
       " 'UV Protection Retro Square Sunglasses (Free Size)',\n",
       " 'UV Protection Round Sunglasses (Free Size)',\n",
       " 'UV Protection Aviator Sunglasses (Free Size)',\n",
       " 'UV Protection, Gradient Oval Sunglasses (58)',\n",
       " 'UV Protection, Mirrored Aviator Sunglasses (58)',\n",
       " 'Mirrored Round Sunglasses (53)',\n",
       " 'UV Protection Aviator, Wayfarer Sunglasses (Free Size)',\n",
       " 'UV Protection, Gradient Butterfly, Retro Square Sunglas...',\n",
       " 'Others Round Sunglasses (52)',\n",
       " 'Mirrored Aviator Sunglasses (55)',\n",
       " 'UV Protection, Mirrored, Gradient Round Sunglasses (51)',\n",
       " 'UV Protection Wayfarer, Retro Square Sunglasses (52)',\n",
       " 'UV Protection Wayfarer Sunglasses (57)',\n",
       " 'UV Protection, Night Vision, Riding Glasses Aviator Sun...',\n",
       " 'UV Protection, Gradient Round Sunglasses (Free Size)',\n",
       " 'Toughened Glass Lens, UV Protection Aviator Sunglasses ...']"
      ]
     },
     "execution_count": 141,
     "metadata": {},
     "output_type": "execute_result"
    }
   ],
   "source": [
    "product_desc_tags= driver.find_elements_by_xpath('//a[@class=\"IRpwTa\"]')\n",
    "product_desc_tags\n",
    "\n",
    "#now the text of the Brand name is inside the tag is extracted above.\n",
    "# so we run for loop  to extract data\n",
    "product_desc=[]\n",
    "for i in product_desc_tags:\n",
    "    product_desc.append(i.text)\n",
    "    \n",
    "\n",
    "product_desc"
   ]
  },
  {
   "cell_type": "code",
   "execution_count": 134,
   "metadata": {},
   "outputs": [
    {
     "data": {
      "text/plain": [
       "40"
      ]
     },
     "execution_count": 134,
     "metadata": {},
     "output_type": "execute_result"
    }
   ],
   "source": [
    "len(product_desc)"
   ]
  },
  {
   "cell_type": "code",
   "execution_count": 133,
   "metadata": {},
   "outputs": [
    {
     "data": {
      "text/plain": [
       "['₹625',\n",
       " '₹664',\n",
       " '₹329',\n",
       " '₹198',\n",
       " '₹237',\n",
       " '₹284',\n",
       " '₹237',\n",
       " '₹449',\n",
       " '₹474',\n",
       " '₹213',\n",
       " '₹758',\n",
       " '₹516',\n",
       " '₹509',\n",
       " '₹215',\n",
       " '₹237',\n",
       " '₹998',\n",
       " '₹499',\n",
       " '₹404',\n",
       " '₹265',\n",
       " '₹625',\n",
       " '₹259',\n",
       " '₹449',\n",
       " '₹284',\n",
       " '₹498',\n",
       " '₹379',\n",
       " '₹331',\n",
       " '₹546',\n",
       " '₹495',\n",
       " '₹186',\n",
       " '₹355',\n",
       " '₹229',\n",
       " '₹498',\n",
       " '₹179',\n",
       " '₹379',\n",
       " '₹215',\n",
       " '₹1,045',\n",
       " '₹503',\n",
       " '₹295',\n",
       " '₹449',\n",
       " '₹829']"
      ]
     },
     "execution_count": 133,
     "metadata": {},
     "output_type": "execute_result"
    }
   ],
   "source": [
    "price_tags= driver.find_elements_by_xpath('//div[@class=\"_30jeq3\"]')\n",
    "price_tags\n",
    "\n",
    "#now the text of the Brand name is inside the tag is extracted above.\n",
    "# so we run for loop  to extract data\n",
    "price=[]\n",
    "for i in price_tags:\n",
    "    price.append(i.text)\n",
    "    \n",
    "\n",
    "price"
   ]
  },
  {
   "cell_type": "code",
   "execution_count": 135,
   "metadata": {},
   "outputs": [
    {
     "data": {
      "text/plain": [
       "40"
      ]
     },
     "execution_count": 135,
     "metadata": {},
     "output_type": "execute_result"
    }
   ],
   "source": [
    "len(price)"
   ]
  },
  {
   "cell_type": "code",
   "execution_count": 137,
   "metadata": {},
   "outputs": [
    {
     "data": {
      "text/plain": [
       "['70% off',\n",
       " '66% off',\n",
       " '86% off',\n",
       " '88% off',\n",
       " '85% off',\n",
       " '89% off',\n",
       " '85% off',\n",
       " '70% off',\n",
       " '68% off',\n",
       " '80% off',\n",
       " '15% off',\n",
       " '66% off',\n",
       " '36% off',\n",
       " '78% off',\n",
       " '85% off',\n",
       " '73% off',\n",
       " '77% off',\n",
       " '79% off',\n",
       " '73% off',\n",
       " '70% off',\n",
       " '82% off',\n",
       " '82% off',\n",
       " '71% off',\n",
       " '70% off',\n",
       " '81% off',\n",
       " '80% off',\n",
       " '31% off',\n",
       " '67% off',\n",
       " '78% off',\n",
       " '85% off',\n",
       " '80% off',\n",
       " '67% off',\n",
       " '69% off',\n",
       " '74% off',\n",
       " '73% off',\n",
       " '73% off',\n",
       " '37% off',\n",
       " '85% off',\n",
       " '77% off',\n",
       " '77% off']"
      ]
     },
     "execution_count": 137,
     "metadata": {},
     "output_type": "execute_result"
    }
   ],
   "source": [
    "discount_tags= driver.find_elements_by_xpath('//div[@class=\"_3Ay6Sb\"]')\n",
    "discount_tags\n",
    "\n",
    "#now the text of the Brand name is inside the tag is extracted above.\n",
    "# so we run for loop  to extract data\n",
    "discount=[]\n",
    "for i in discount_tags:\n",
    "    discount.append(i.text)\n",
    "    \n",
    "\n",
    "discount"
   ]
  },
  {
   "cell_type": "code",
   "execution_count": 138,
   "metadata": {},
   "outputs": [
    {
     "data": {
      "text/plain": [
       "40"
      ]
     },
     "execution_count": 138,
     "metadata": {},
     "output_type": "execute_result"
    }
   ],
   "source": [
    "len(discount)"
   ]
  },
  {
   "cell_type": "code",
   "execution_count": 157,
   "metadata": {},
   "outputs": [],
   "source": [
    "search_btn=driver.find_element_by_xpath('//a[@class=\"ge-49M\"]')\n",
    "search_btn\n",
    "search_btn.click()"
   ]
  },
  {
   "cell_type": "code",
   "execution_count": 158,
   "metadata": {},
   "outputs": [
    {
     "data": {
      "text/plain": [
       "['Fastrack',\n",
       " 'OCCARIO',\n",
       " 'ROZZETTA CRAFT',\n",
       " 'AISLIN',\n",
       " 'SUNBEE',\n",
       " 'HIPPON',\n",
       " 'hipe',\n",
       " 'elegante',\n",
       " 'PIRASO',\n",
       " 'Singco India',\n",
       " 'kingsunglasses',\n",
       " 'AISLIN',\n",
       " 'kingsunglasses',\n",
       " 'hipe',\n",
       " 'Singco India',\n",
       " 'AISLIN',\n",
       " 'Fastrack',\n",
       " 'kingsunglasses',\n",
       " 'GANSTA',\n",
       " 'AISLIN',\n",
       " 'kingsunglasses',\n",
       " 'Singco',\n",
       " 'ROYAL SON',\n",
       " 'AISLIN',\n",
       " 'Elligator',\n",
       " 'GANSTA',\n",
       " 'PIRASO',\n",
       " 'AISLIN',\n",
       " 'ROYAL SON',\n",
       " 'ROYAL SON',\n",
       " 'ROYAL SON',\n",
       " 'AISLIN',\n",
       " 'AISLIN',\n",
       " 'Badfella',\n",
       " 'NuVew',\n",
       " 'AISLIN',\n",
       " 'ROZZETTA CRAFT',\n",
       " 'agera',\n",
       " 'DEIXELS',\n",
       " 'ROZZETTA CRAFT']"
      ]
     },
     "execution_count": 158,
     "metadata": {},
     "output_type": "execute_result"
    }
   ],
   "source": [
    "brand_tags= driver.find_elements_by_xpath('//div[@class=\"_2WkVRV\"]')\n",
    "brand_tags\n",
    "\n",
    "#now the text of the Brand name is inside the tag is extracted above.\n",
    "# so we run for loop  to extract data\n",
    "brand_name1=[]\n",
    "for i in brand_tags:\n",
    "    brand_name1.append(i.text)\n",
    "    \n",
    "\n",
    "brand_name1"
   ]
  },
  {
   "cell_type": "code",
   "execution_count": 144,
   "metadata": {},
   "outputs": [
    {
     "data": {
      "text/plain": [
       "40"
      ]
     },
     "execution_count": 144,
     "metadata": {},
     "output_type": "execute_result"
    }
   ],
   "source": [
    "len(brand_name1)"
   ]
  },
  {
   "cell_type": "code",
   "execution_count": 145,
   "metadata": {},
   "outputs": [
    {
     "data": {
      "text/plain": [
       "['UV Protection, Polarized, Mirrored Wayfarer Sunglasses ...',\n",
       " 'UV Protection, Gradient Round Sunglasses (Free Size)',\n",
       " 'Others Round Sunglasses (52)',\n",
       " 'UV Protection, Gradient Wayfarer, Over-sized Sunglasses...',\n",
       " 'UV Protection Aviator Sunglasses (58)',\n",
       " 'UV Protection Wayfarer Sunglasses (55)',\n",
       " 'UV Protection Wayfarer Sunglasses (Free Size)',\n",
       " 'UV Protection Oval Sunglasses (Free Size)',\n",
       " 'UV Protection, Gradient, Mirrored, Riding Glasses Aviat...',\n",
       " 'UV Protection Round Sunglasses (Free Size)',\n",
       " 'UV Protection Aviator Sunglasses (Free Size)',\n",
       " 'UV Protection, Gradient Butterfly, Retro Square Sunglas...',\n",
       " 'Night Vision, Riding Glasses Wayfarer Sunglasses (53)',\n",
       " 'Riding Glasses, Others, UV Protection Wrap-around Sungl...',\n",
       " 'UV Protection, Night Vision, Riding Glasses, Gradient, ...',\n",
       " 'UV Protection Aviator Sunglasses (57)',\n",
       " 'UV Protection Aviator Sunglasses (Free Size)',\n",
       " 'Mirrored Aviator Sunglasses (53)',\n",
       " 'UV Protection, Riding Glasses, Mirrored Wayfarer Sungla...',\n",
       " 'Toughened Glass Lens, UV Protection Aviator, Wrap-aroun...',\n",
       " 'UV Protection Retro Square Sunglasses (58)',\n",
       " 'UV Protection Aviator Sunglasses (Free Size)',\n",
       " 'UV Protection, Riding Glasses Rectangular, Retro Square...',\n",
       " 'UV Protection, Gradient Wayfarer Sunglasses (57)',\n",
       " 'UV Protection, Gradient Aviator Sunglasses (55)',\n",
       " 'UV Protection, Gradient Cat-eye Sunglasses (61)',\n",
       " 'Polarized, UV Protection Retro Square Sunglasses (53)',\n",
       " 'UV Protection, Gradient Butterfly, Retro Square Sunglas...',\n",
       " 'UV Protection, Mirrored Round Sunglasses (Free Size)',\n",
       " 'UV Protection Rectangular Sunglasses (55)',\n",
       " 'UV Protection Aviator Sunglasses (58)',\n",
       " 'UV Protection, Gradient Round, Cat-eye Sunglasses (60)',\n",
       " 'Polarized Rectangular Sunglasses (65)',\n",
       " 'UV Protection Retro Square Sunglasses (88)',\n",
       " 'UV Protection Wayfarer Sunglasses (55)',\n",
       " 'UV Protection Wayfarer, Retro Square Sunglasses (52)',\n",
       " 'Mirrored, UV Protection, Riding Glasses, Others Wrap-ar...',\n",
       " 'UV Protection, Mirrored Round Sunglasses (54)',\n",
       " 'Polarized, UV Protection, Riding Glasses Wayfarer Sungl...',\n",
       " 'UV Protection, Gradient Wayfarer, Clubmaster Sunglasses...']"
      ]
     },
     "execution_count": 145,
     "metadata": {},
     "output_type": "execute_result"
    }
   ],
   "source": [
    "product_desc_tags= driver.find_elements_by_xpath('//a[@class=\"IRpwTa\"]')\n",
    "product_desc_tags\n",
    "\n",
    "#now the text of the Brand name is inside the tag is extracted above.\n",
    "# so we run for loop  to extract data\n",
    "product_desc1=[]\n",
    "for i in product_desc_tags:\n",
    "    product_desc1.append(i.text)\n",
    "    \n",
    "\n",
    "product_desc1"
   ]
  },
  {
   "cell_type": "code",
   "execution_count": 146,
   "metadata": {},
   "outputs": [
    {
     "data": {
      "text/plain": [
       "40"
      ]
     },
     "execution_count": 146,
     "metadata": {},
     "output_type": "execute_result"
    }
   ],
   "source": [
    "len(product_desc1)"
   ]
  },
  {
   "cell_type": "code",
   "execution_count": 147,
   "metadata": {},
   "outputs": [
    {
     "data": {
      "text/plain": [
       "['₹314',\n",
       " '₹449',\n",
       " '₹179',\n",
       " '₹625',\n",
       " '₹399',\n",
       " '₹257',\n",
       " '₹689',\n",
       " '₹449',\n",
       " '₹209',\n",
       " '₹331',\n",
       " '₹334',\n",
       " '₹516',\n",
       " '₹209',\n",
       " '₹293',\n",
       " '₹199',\n",
       " '₹258',\n",
       " '₹695',\n",
       " '₹239',\n",
       " '₹217',\n",
       " '₹998',\n",
       " '₹474',\n",
       " '₹331',\n",
       " '₹443',\n",
       " '₹625',\n",
       " '₹289',\n",
       " '₹498',\n",
       " '₹255',\n",
       " '₹498',\n",
       " '₹274',\n",
       " '₹199',\n",
       " '₹202',\n",
       " '₹498',\n",
       " '₹664',\n",
       " '₹569',\n",
       " '₹248',\n",
       " '₹1,045',\n",
       " '₹331',\n",
       " '₹236',\n",
       " '₹249',\n",
       " '₹445']"
      ]
     },
     "execution_count": 147,
     "metadata": {},
     "output_type": "execute_result"
    }
   ],
   "source": [
    "price_tags= driver.find_elements_by_xpath('//div[@class=\"_30jeq3\"]')\n",
    "price_tags\n",
    "\n",
    "#now the text of the price name is inside the tag is extracted above.\n",
    "# so we run for loop  to extract data\n",
    "price1=[]\n",
    "for i in price_tags:\n",
    "    price1.append(i.text)\n",
    "    \n",
    "\n",
    "price1"
   ]
  },
  {
   "cell_type": "code",
   "execution_count": 148,
   "metadata": {},
   "outputs": [
    {
     "data": {
      "text/plain": [
       "40"
      ]
     },
     "execution_count": 148,
     "metadata": {},
     "output_type": "execute_result"
    }
   ],
   "source": [
    "len(price1)"
   ]
  },
  {
   "cell_type": "code",
   "execution_count": null,
   "metadata": {},
   "outputs": [],
   "source": []
  },
  {
   "cell_type": "code",
   "execution_count": 149,
   "metadata": {},
   "outputs": [
    {
     "data": {
      "text/plain": [
       "['75% off',\n",
       " '77% off',\n",
       " '69% off',\n",
       " '70% off',\n",
       " '84% off',\n",
       " '78% off',\n",
       " '23% off',\n",
       " '70% off',\n",
       " '79% off',\n",
       " '79% off',\n",
       " '72% off',\n",
       " '66% off',\n",
       " '88% off',\n",
       " '82% off',\n",
       " '84% off',\n",
       " '72% off',\n",
       " '13% off',\n",
       " '76% off',\n",
       " '81% off',\n",
       " '73% off',\n",
       " '68% off',\n",
       " '79% off',\n",
       " '70% off',\n",
       " '70% off',\n",
       " '85% off',\n",
       " '70% off',\n",
       " '74% off',\n",
       " '67% off',\n",
       " '83% off',\n",
       " '84% off',\n",
       " '74% off',\n",
       " '70% off',\n",
       " '66% off',\n",
       " '71% off',\n",
       " '80% off',\n",
       " '73% off',\n",
       " '83% off',\n",
       " '80% off',\n",
       " '58% off',\n",
       " '70% off']"
      ]
     },
     "execution_count": 149,
     "metadata": {},
     "output_type": "execute_result"
    }
   ],
   "source": [
    "discount_tags= driver.find_elements_by_xpath('//div[@class=\"_3Ay6Sb\"]')\n",
    "discount_tags\n",
    "\n",
    "#now the text of the discount is inside the tag is extracted above.\n",
    "# so we run for loop  to extract data\n",
    "discount1=[]\n",
    "for i in discount_tags:\n",
    "    discount1.append(i.text)\n",
    "    \n",
    "\n",
    "discount1"
   ]
  },
  {
   "cell_type": "code",
   "execution_count": 150,
   "metadata": {},
   "outputs": [
    {
     "data": {
      "text/plain": [
       "40"
      ]
     },
     "execution_count": 150,
     "metadata": {},
     "output_type": "execute_result"
    }
   ],
   "source": [
    "len(discount1)"
   ]
  },
  {
   "cell_type": "code",
   "execution_count": 159,
   "metadata": {},
   "outputs": [],
   "source": [
    "search_btn=driver.find_element_by_xpath('//a[@class=\"ge-49M\"]')\n",
    "search_btn\n",
    "search_btn.click()"
   ]
  },
  {
   "cell_type": "code",
   "execution_count": 161,
   "metadata": {},
   "outputs": [
    {
     "data": {
      "text/plain": [
       "['elegante',\n",
       " 'PIRASO',\n",
       " 'GANSTA',\n",
       " 'AISLIN',\n",
       " 'ROYAL SON',\n",
       " 'Silver Kartz',\n",
       " 'SUNBEE',\n",
       " 'AISLIN',\n",
       " 'Fastrack',\n",
       " 'NuVew',\n",
       " 'GANSTA',\n",
       " 'NuVew',\n",
       " 'ROYAL SON',\n",
       " 'Fravy',\n",
       " 'SUNBEE',\n",
       " 'AISLIN',\n",
       " 'NuVew',\n",
       " 'NuVew',\n",
       " 'AISLIN',\n",
       " 'AISLIN']"
      ]
     },
     "execution_count": 161,
     "metadata": {},
     "output_type": "execute_result"
    }
   ],
   "source": [
    "brand_tags= driver.find_elements_by_xpath('//div[@class=\"_2WkVRV\"]')\n",
    "brand_tags\n",
    "\n",
    "#now the text of the Brand name is inside the tag is extracted above.\n",
    "# so we run for loop  to extract data\n",
    "brand_name2=[]\n",
    "for i in brand_tags:\n",
    "    brand_name2.append(i.text)\n",
    "    \n",
    "\n",
    "brand_name2=brand_name2[:20]\n",
    "brand_name2"
   ]
  },
  {
   "cell_type": "code",
   "execution_count": 163,
   "metadata": {},
   "outputs": [
    {
     "data": {
      "text/plain": [
       "['Mirrored Round Sunglasses (Free Size)',\n",
       " 'UV Protection Wayfarer Sunglasses (32)',\n",
       " 'UV Protection Aviator Sunglasses (57)',\n",
       " 'UV Protection, Gradient Wayfarer, Round Sunglasses (63)',\n",
       " 'Mirrored Aviator Sunglasses (Free Size)',\n",
       " 'UV Protection Oval Sunglasses (56)',\n",
       " 'UV Protection, Polarized, Mirrored Wayfarer Sunglasses ...',\n",
       " 'UV Protection, Gradient Cat-eye Sunglasses (61)',\n",
       " 'UV Protection Wayfarer Sunglasses (Free Size)',\n",
       " 'UV Protection Wayfarer, Rectangular Sunglasses (57)',\n",
       " 'UV Protection Aviator Sunglasses (57)',\n",
       " 'UV Protection, Mirrored, Gradient Cat-eye Sunglasses (6...',\n",
       " 'UV Protection Round Sunglasses (47)',\n",
       " 'UV Protection Retro Square Sunglasses (Free Size)',\n",
       " 'UV Protection, Polarized, Mirrored Wayfarer Sunglasses ...',\n",
       " 'Polarized, UV Protection Rectangular Sunglasses (65)',\n",
       " 'UV Protection Cat-eye Sunglasses (60)',\n",
       " 'UV Protection Wayfarer Sunglasses (56)',\n",
       " 'UV Protection, Gradient Oval Sunglasses (58)',\n",
       " 'Polarized, UV Protection, Gradient Wayfarer, Rectangula...']"
      ]
     },
     "execution_count": 163,
     "metadata": {},
     "output_type": "execute_result"
    }
   ],
   "source": [
    "product_desc_tags= driver.find_elements_by_xpath('//a[@class=\"IRpwTa\"]')\n",
    "product_desc_tags\n",
    "\n",
    "#now the text of the Brand name is inside the tag is extracted above.\n",
    "# so we run for loop  to extract data\n",
    "product_desc2=[]\n",
    "for i in product_desc_tags:\n",
    "    product_desc2.append(i.text)\n",
    "    \n",
    "\n",
    "product_desc2=product_desc2[:20]\n",
    "product_desc2"
   ]
  },
  {
   "cell_type": "code",
   "execution_count": 166,
   "metadata": {},
   "outputs": [
    {
     "data": {
      "text/plain": [
       "['₹399',\n",
       " '₹237',\n",
       " '₹284',\n",
       " '₹795',\n",
       " '₹399',\n",
       " '₹299',\n",
       " '₹314',\n",
       " '₹545',\n",
       " '₹649',\n",
       " '₹375',\n",
       " '₹230',\n",
       " '₹325',\n",
       " '₹499',\n",
       " '₹299',\n",
       " '₹314',\n",
       " '₹567',\n",
       " '₹425',\n",
       " '₹186',\n",
       " '₹495',\n",
       " '₹1,125']"
      ]
     },
     "execution_count": 166,
     "metadata": {},
     "output_type": "execute_result"
    }
   ],
   "source": [
    "price_tags= driver.find_elements_by_xpath('//div[@class=\"_30jeq3\"]')\n",
    "price_tags\n",
    "\n",
    "#now the text of the price name is inside the tag is extracted above.\n",
    "# so we run for loop  to extract data\n",
    "price2=[]\n",
    "for i in price_tags:\n",
    "    price2.append(i.text)\n",
    "    \n",
    "\n",
    "price2=price2[:20]\n",
    "price2"
   ]
  },
  {
   "cell_type": "code",
   "execution_count": 167,
   "metadata": {},
   "outputs": [
    {
     "data": {
      "text/plain": [
       "['80% off',\n",
       " '85% off',\n",
       " '85% off',\n",
       " '75% off',\n",
       " '73% off',\n",
       " '75% off',\n",
       " '75% off',\n",
       " '67% off',\n",
       " '18% off',\n",
       " '64% off',\n",
       " '78% off',\n",
       " '78% off',\n",
       " '72% off',\n",
       " '80% off',\n",
       " '75% off',\n",
       " '73% off',\n",
       " '70% off',\n",
       " '72% off',\n",
       " '67% off',\n",
       " '73% off']"
      ]
     },
     "execution_count": 167,
     "metadata": {},
     "output_type": "execute_result"
    }
   ],
   "source": [
    "discount_tags= driver.find_elements_by_xpath('//div[@class=\"_3Ay6Sb\"]')\n",
    "discount_tags\n",
    "\n",
    "#now the text of the Brand name is inside the tag is extracted above.\n",
    "# so we run for loop  to extract data\n",
    "discount2=[]\n",
    "for i in discount_tags:\n",
    "    discount2.append(i.text)\n",
    "    \n",
    "\n",
    "discount2=discount2[:20]\n",
    "discount2"
   ]
  },
  {
   "cell_type": "code",
   "execution_count": 168,
   "metadata": {},
   "outputs": [],
   "source": [
    "final_name=brand_name+brand_name1+brand_name2"
   ]
  },
  {
   "cell_type": "code",
   "execution_count": 169,
   "metadata": {},
   "outputs": [
    {
     "data": {
      "text/plain": [
       "100"
      ]
     },
     "execution_count": 169,
     "metadata": {},
     "output_type": "execute_result"
    }
   ],
   "source": [
    "len(final_name)"
   ]
  },
  {
   "cell_type": "code",
   "execution_count": 170,
   "metadata": {},
   "outputs": [],
   "source": [
    "final_desc=product_desc+product_desc1+product_desc2"
   ]
  },
  {
   "cell_type": "code",
   "execution_count": 171,
   "metadata": {},
   "outputs": [
    {
     "data": {
      "text/plain": [
       "100"
      ]
     },
     "execution_count": 171,
     "metadata": {},
     "output_type": "execute_result"
    }
   ],
   "source": [
    "len(final_desc)"
   ]
  },
  {
   "cell_type": "code",
   "execution_count": 172,
   "metadata": {},
   "outputs": [],
   "source": [
    "final_price=price+price1+price2"
   ]
  },
  {
   "cell_type": "code",
   "execution_count": 173,
   "metadata": {},
   "outputs": [
    {
     "data": {
      "text/plain": [
       "100"
      ]
     },
     "execution_count": 173,
     "metadata": {},
     "output_type": "execute_result"
    }
   ],
   "source": [
    "len(final_price)"
   ]
  },
  {
   "cell_type": "code",
   "execution_count": 174,
   "metadata": {},
   "outputs": [],
   "source": [
    "final_discount=discount+discount1+discount2"
   ]
  },
  {
   "cell_type": "code",
   "execution_count": 175,
   "metadata": {},
   "outputs": [
    {
     "data": {
      "text/plain": [
       "100"
      ]
     },
     "execution_count": 175,
     "metadata": {},
     "output_type": "execute_result"
    }
   ],
   "source": [
    "len(final_discount)"
   ]
  },
  {
   "cell_type": "code",
   "execution_count": 178,
   "metadata": {},
   "outputs": [
    {
     "name": "stdout",
     "output_type": "stream",
     "text": [
      "|     | Brand_name        | Product_desc                                               | Price   | Discount   |\n",
      "|----:|:------------------|:-----------------------------------------------------------|:--------|:-----------|\n",
      "|   1 | AISLIN            | UV Protection, Gradient Wayfarer, Over-sized Sunglasses... | ₹625    | 70% off    |\n",
      "|   2 | ROYAL SON         | Polarized, UV Protection Round Sunglasses (49)             | ₹664    | 66% off    |\n",
      "|   3 | Elligator         | UV Protection Round Sunglasses (54)                        | ₹329    | 86% off    |\n",
      "|   4 | SHAAH COLLECTIONS | UV Protection, Polarized, Mirrored Rectangular Sunglass... | ₹198    | 88% off    |\n",
      "|   5 | PIRASO            | UV Protection Aviator Sunglasses (54)                      | ₹237    | 85% off    |\n",
      "|   6 | kingsunglasses    | Mirrored, UV Protection Wayfarer Sunglasses (Free Size)    | ₹284    | 89% off    |\n",
      "|   7 | PIRASO            | UV Protection Aviator Sunglasses (54)                      | ₹237    | 85% off    |\n",
      "|   8 | elegante          | UV Protection Oval Sunglasses (Free Size)                  | ₹449    | 70% off    |\n",
      "|   9 | ROYAL SON         | UV Protection Rectangular Sunglasses (58)                  | ₹474    | 68% off    |\n",
      "|  10 | kingsunglasses    | UV Protection Round Sunglasses (54)                        | ₹213    | 80% off    |\n",
      "|  11 | Fastrack          | UV Protection Wayfarer Sunglasses (Free Size)              | ₹758    | 15% off    |\n",
      "|  12 | AISLIN            | UV Protection, Gradient Butterfly, Retro Square Sunglas... | ₹516    | 66% off    |\n",
      "|  13 | Fastrack          | Gradient, UV Protection Wayfarer Sunglasses (Free Size)    | ₹509    | 36% off    |\n",
      "|  14 | SHAAH COLLECTIONS | UV Protection, Polarized, Mirrored Rectangular Sunglass... | ₹215    | 78% off    |\n",
      "|  15 | PIRASO            | UV Protection Aviator Sunglasses (54)                      | ₹237    | 85% off    |\n",
      "|  16 | AISLIN            | Toughened Glass Lens, UV Protection Aviator, Wrap-aroun... | ₹998    | 73% off    |\n",
      "|  17 | ROZZETTA CRAFT    | UV Protection Retro Square Sunglasses (Free Size)          | ₹499    | 77% off    |\n",
      "|  18 | ROZZETTA CRAFT    | UV Protection, Gradient Rectangular Sunglasses (Free Si... | ₹404    | 79% off    |\n",
      "|  19 | SUNBEE            | UV Protection, Polarized, Mirrored Wayfarer Sunglasses ... | ₹265    | 73% off    |\n",
      "|  20 | AISLIN            | UV Protection, Gradient Wayfarer Sunglasses (57)           | ₹625    | 70% off    |\n",
      "|  21 | Silver Kartz      | UV Protection Wayfarer Sunglasses (Free Size)              | ₹259    | 82% off    |\n",
      "|  22 | PIRASO            | UV Protection Butterfly Sunglasses (65)                    | ₹449    | 82% off    |\n",
      "|  23 | SUNBEE            | UV Protection, Polarized, Mirrored Wayfarer Sunglasses ... | ₹284    | 71% off    |\n",
      "|  24 | AISLIN            | UV Protection, Gradient Round, Cat-eye Sunglasses (60)     | ₹498    | 70% off    |\n",
      "|  25 | PHENOMENAL        | UV Protection Retro Square Sunglasses (Free Size)          | ₹379    | 81% off    |\n",
      "|  26 | SHAAH COLLECTIONS | UV Protection Round Sunglasses (Free Size)                 | ₹331    | 80% off    |\n",
      "|  27 | Fastrack          | UV Protection Aviator Sunglasses (Free Size)               | ₹546    | 31% off    |\n",
      "|  28 | AISLIN            | UV Protection, Gradient Oval Sunglasses (58)               | ₹495    | 67% off    |\n",
      "|  29 | NuVew             | UV Protection, Mirrored Aviator Sunglasses (58)            | ₹186    | 78% off    |\n",
      "|  30 | Elligator         | Mirrored Round Sunglasses (53)                             | ₹355    | 85% off    |\n",
      "|  31 | DEIXELS           | UV Protection Aviator, Wayfarer Sunglasses (Free Size)     | ₹229    | 80% off    |\n",
      "|  32 | AISLIN            | UV Protection, Gradient Butterfly, Retro Square Sunglas... | ₹498    | 67% off    |\n",
      "|  33 | OCCARIO           | Others Round Sunglasses (52)                               | ₹179    | 69% off    |\n",
      "|  34 | ROYAL SON         | Mirrored Aviator Sunglasses (55)                           | ₹379    | 74% off    |\n",
      "|  35 | Rich Club         | UV Protection, Mirrored, Gradient Round Sunglasses (51)    | ₹215    | 73% off    |\n",
      "|  36 | AISLIN            | UV Protection Wayfarer, Retro Square Sunglasses (52)       | ₹1,045  | 73% off    |\n",
      "|  37 | Fastrack          | UV Protection Wayfarer Sunglasses (57)                     | ₹503    | 37% off    |\n",
      "|  38 | GANSTA            | UV Protection, Night Vision, Riding Glasses Aviator Sun... | ₹295    | 85% off    |\n",
      "|  39 | ROZZETTA CRAFT    | UV Protection, Gradient Round Sunglasses (Free Size)       | ₹449    | 77% off    |\n",
      "|  40 | AISLIN            | Toughened Glass Lens, UV Protection Aviator Sunglasses ... | ₹829    | 77% off    |\n",
      "|  41 | Fastrack          | UV Protection, Polarized, Mirrored Wayfarer Sunglasses ... | ₹314    | 75% off    |\n",
      "|  42 | OCCARIO           | UV Protection, Gradient Round Sunglasses (Free Size)       | ₹449    | 77% off    |\n",
      "|  43 | ROZZETTA CRAFT    | Others Round Sunglasses (52)                               | ₹179    | 69% off    |\n",
      "|  44 | AISLIN            | UV Protection, Gradient Wayfarer, Over-sized Sunglasses... | ₹625    | 70% off    |\n",
      "|  45 | SUNBEE            | UV Protection Aviator Sunglasses (58)                      | ₹399    | 84% off    |\n",
      "|  46 | HIPPON            | UV Protection Wayfarer Sunglasses (55)                     | ₹257    | 78% off    |\n",
      "|  47 | hipe              | UV Protection Wayfarer Sunglasses (Free Size)              | ₹689    | 23% off    |\n",
      "|  48 | elegante          | UV Protection Oval Sunglasses (Free Size)                  | ₹449    | 70% off    |\n",
      "|  49 | PIRASO            | UV Protection, Gradient, Mirrored, Riding Glasses Aviat... | ₹209    | 79% off    |\n",
      "|  50 | Singco India      | UV Protection Round Sunglasses (Free Size)                 | ₹331    | 79% off    |\n",
      "|  51 | kingsunglasses    | UV Protection Aviator Sunglasses (Free Size)               | ₹334    | 72% off    |\n",
      "|  52 | AISLIN            | UV Protection, Gradient Butterfly, Retro Square Sunglas... | ₹516    | 66% off    |\n",
      "|  53 | kingsunglasses    | Night Vision, Riding Glasses Wayfarer Sunglasses (53)      | ₹209    | 88% off    |\n",
      "|  54 | hipe              | Riding Glasses, Others, UV Protection Wrap-around Sungl... | ₹293    | 82% off    |\n",
      "|  55 | Singco India      | UV Protection, Night Vision, Riding Glasses, Gradient, ... | ₹199    | 84% off    |\n",
      "|  56 | AISLIN            | UV Protection Aviator Sunglasses (57)                      | ₹258    | 72% off    |\n",
      "|  57 | Fastrack          | UV Protection Aviator Sunglasses (Free Size)               | ₹695    | 13% off    |\n",
      "|  58 | kingsunglasses    | Mirrored Aviator Sunglasses (53)                           | ₹239    | 76% off    |\n",
      "|  59 | GANSTA            | UV Protection, Riding Glasses, Mirrored Wayfarer Sungla... | ₹217    | 81% off    |\n",
      "|  60 | AISLIN            | Toughened Glass Lens, UV Protection Aviator, Wrap-aroun... | ₹998    | 73% off    |\n",
      "|  61 | kingsunglasses    | UV Protection Retro Square Sunglasses (58)                 | ₹474    | 68% off    |\n",
      "|  62 | Singco            | UV Protection Aviator Sunglasses (Free Size)               | ₹331    | 79% off    |\n",
      "|  63 | ROYAL SON         | UV Protection, Riding Glasses Rectangular, Retro Square... | ₹443    | 70% off    |\n",
      "|  64 | AISLIN            | UV Protection, Gradient Wayfarer Sunglasses (57)           | ₹625    | 70% off    |\n",
      "|  65 | Elligator         | UV Protection, Gradient Aviator Sunglasses (55)            | ₹289    | 85% off    |\n",
      "|  66 | GANSTA            | UV Protection, Gradient Cat-eye Sunglasses (61)            | ₹498    | 70% off    |\n",
      "|  67 | PIRASO            | Polarized, UV Protection Retro Square Sunglasses (53)      | ₹255    | 74% off    |\n",
      "|  68 | AISLIN            | UV Protection, Gradient Butterfly, Retro Square Sunglas... | ₹498    | 67% off    |\n",
      "|  69 | ROYAL SON         | UV Protection, Mirrored Round Sunglasses (Free Size)       | ₹274    | 83% off    |\n",
      "|  70 | ROYAL SON         | UV Protection Rectangular Sunglasses (55)                  | ₹199    | 84% off    |\n",
      "|  71 | ROYAL SON         | UV Protection Aviator Sunglasses (58)                      | ₹202    | 74% off    |\n",
      "|  72 | AISLIN            | UV Protection, Gradient Round, Cat-eye Sunglasses (60)     | ₹498    | 70% off    |\n",
      "|  73 | AISLIN            | Polarized Rectangular Sunglasses (65)                      | ₹664    | 66% off    |\n",
      "|  74 | Badfella          | UV Protection Retro Square Sunglasses (88)                 | ₹569    | 71% off    |\n",
      "|  75 | NuVew             | UV Protection Wayfarer Sunglasses (55)                     | ₹248    | 80% off    |\n",
      "|  76 | AISLIN            | UV Protection Wayfarer, Retro Square Sunglasses (52)       | ₹1,045  | 73% off    |\n",
      "|  77 | ROZZETTA CRAFT    | Mirrored, UV Protection, Riding Glasses, Others Wrap-ar... | ₹331    | 83% off    |\n",
      "|  78 | agera             | UV Protection, Mirrored Round Sunglasses (54)              | ₹236    | 80% off    |\n",
      "|  79 | DEIXELS           | Polarized, UV Protection, Riding Glasses Wayfarer Sungl... | ₹249    | 58% off    |\n",
      "|  80 | ROZZETTA CRAFT    | UV Protection, Gradient Wayfarer, Clubmaster Sunglasses... | ₹445    | 70% off    |\n",
      "|  81 | elegante          | Mirrored Round Sunglasses (Free Size)                      | ₹399    | 80% off    |\n",
      "|  82 | PIRASO            | UV Protection Wayfarer Sunglasses (32)                     | ₹237    | 85% off    |\n",
      "|  83 | GANSTA            | UV Protection Aviator Sunglasses (57)                      | ₹284    | 85% off    |\n",
      "|  84 | AISLIN            | UV Protection, Gradient Wayfarer, Round Sunglasses (63)    | ₹795    | 75% off    |\n",
      "|  85 | ROYAL SON         | Mirrored Aviator Sunglasses (Free Size)                    | ₹399    | 73% off    |\n",
      "|  86 | Silver Kartz      | UV Protection Oval Sunglasses (56)                         | ₹299    | 75% off    |\n",
      "|  87 | SUNBEE            | UV Protection, Polarized, Mirrored Wayfarer Sunglasses ... | ₹314    | 75% off    |\n",
      "|  88 | AISLIN            | UV Protection, Gradient Cat-eye Sunglasses (61)            | ₹545    | 67% off    |\n",
      "|  89 | Fastrack          | UV Protection Wayfarer Sunglasses (Free Size)              | ₹649    | 18% off    |\n",
      "|  90 | NuVew             | UV Protection Wayfarer, Rectangular Sunglasses (57)        | ₹375    | 64% off    |\n",
      "|  91 | GANSTA            | UV Protection Aviator Sunglasses (57)                      | ₹230    | 78% off    |\n",
      "|  92 | NuVew             | UV Protection, Mirrored, Gradient Cat-eye Sunglasses (6... | ₹325    | 78% off    |\n",
      "|  93 | ROYAL SON         | UV Protection Round Sunglasses (47)                        | ₹499    | 72% off    |\n",
      "|  94 | Fravy             | UV Protection Retro Square Sunglasses (Free Size)          | ₹299    | 80% off    |\n",
      "|  95 | SUNBEE            | UV Protection, Polarized, Mirrored Wayfarer Sunglasses ... | ₹314    | 75% off    |\n",
      "|  96 | AISLIN            | Polarized, UV Protection Rectangular Sunglasses (65)       | ₹567    | 73% off    |\n",
      "|  97 | NuVew             | UV Protection Cat-eye Sunglasses (60)                      | ₹425    | 70% off    |\n",
      "|  98 | NuVew             | UV Protection Wayfarer Sunglasses (56)                     | ₹186    | 72% off    |\n",
      "|  99 | AISLIN            | UV Protection, Gradient Oval Sunglasses (58)               | ₹495    | 67% off    |\n",
      "| 100 | AISLIN            | Polarized, UV Protection, Gradient Wayfarer, Rectangula... | ₹1,125  | 73% off    |\n"
     ]
    }
   ],
   "source": [
    "\n",
    "df=pd.DataFrame({})\n",
    "df['Brand_name']=final_name\n",
    "df['Product_desc']=final_desc\n",
    "df['Price']=final_price\n",
    "df['Discount']=final_discount\n",
    "df.reset_index(drop=True,inplace=True)\n",
    "df.index+=1\n",
    "print(df.to_markdown())\n",
    "#df"
   ]
  },
  {
   "cell_type": "markdown",
   "metadata": {},
   "source": [
    "# Q7: Scrape 100 reviews data from flipkart.com for iphone11 phone. You have to go the link: https://www.flipkart.com/apple-iphone-11-black-64-gb-includesearpods-poweradapter/p/itm0f37c2240b217?pid=MOBFKCTSVZAXUHGR&lid=LSTMOBFKCTSVZAXUHGREPBFGI&marketplace. \n",
    "When you will open the above link you will reach to the below shown webpage. \n",
    "As shown in the above page you have to scrape the tick marked attributes. \n",
    "These are \n",
    "1. Rating \n",
    "2. Review_summary\n",
    "3. Full review You have to scrape this data for first 100 reviews. "
   ]
  },
  {
   "cell_type": "code",
   "execution_count": 84,
   "metadata": {},
   "outputs": [],
   "source": [
    "url=' https://www.flipkart.com/apple-iphone-11-black-64-gb-includes-earpods-power-adapter/product-reviews/itm0f37c2240b217?pid=MOBFKCTSVZAXUHGR&lid=LSTMOBFKCTSVZAXUHGREPBFGI&marketplace=FLIPKART'\n",
    "driver.get(url)\n"
   ]
  },
  {
   "cell_type": "code",
   "execution_count": 85,
   "metadata": {},
   "outputs": [
    {
     "data": {
      "text/plain": [
       "['5', '5', '5', '5', '5', '5', '5', '4', '5', '5']"
      ]
     },
     "execution_count": 85,
     "metadata": {},
     "output_type": "execute_result"
    }
   ],
   "source": [
    "rating_tags1= driver.find_elements_by_xpath('//div[@class=\"_3LWZlK _1BLPMq\"]')\n",
    "rating_tags1\n",
    "\n",
    "\n",
    "\n",
    "#now the text of the rating is inside the tag is extracted above.\n",
    "# so we run for loop  to extract data\n",
    "rating1=[]\n",
    "for i in rating_tags1:\n",
    "    rating1.append(i.text)\n",
    "    \n",
    "\n",
    "rating1"
   ]
  },
  {
   "cell_type": "code",
   "execution_count": 86,
   "metadata": {},
   "outputs": [
    {
     "data": {
      "text/plain": [
       "['Brilliant',\n",
       " 'Simply awesome',\n",
       " 'Best in the market!',\n",
       " 'Perfect product!',\n",
       " 'Fabulous!',\n",
       " 'Worth every penny',\n",
       " 'Great product',\n",
       " 'Good choice',\n",
       " 'Worth every penny',\n",
       " 'Highly recommended']"
      ]
     },
     "execution_count": 86,
     "metadata": {},
     "output_type": "execute_result"
    }
   ],
   "source": [
    "review_summary_tags1= driver.find_elements_by_xpath('//p[@class=\"_2-N8zT\"]')\n",
    "review_summary_tags1\n",
    "\n",
    "\n",
    "\n",
    "#now the text of the rating is inside the tag is extracted above.\n",
    "# so we run for loop  to extract data\n",
    "review_summary1=[]\n",
    "for i in review_summary_tags1:\n",
    "    review_summary1.append(i.text)\n",
    "    \n",
    "\n",
    "review_summary1"
   ]
  },
  {
   "cell_type": "code",
   "execution_count": 87,
   "metadata": {},
   "outputs": [
    {
     "data": {
      "text/plain": [
       "['The Best Phone for the Money\\n\\nThe iPhone 11 offers superb cameras, a more durable design and excellent battery life for an affordable price.\\n\\nCompelling ultra-wide camera\\nNew Night mode is excellent\\nLong battery life',\n",
       " 'Really satisfied with the Product I received... It’s totally genuine and the packaging was also really good so if ur planning to buy just go for it.',\n",
       " 'Great iPhone very snappy experience as apple kind. Upgraded from iPhone 7.\\nPros\\n-Camera top class\\n- Battery top performed\\n-Chipset no need to say as apple kind\\n-Security as you expect from apple\\n- Display super bright industry leading colour\\naccuracy and super responsive\\n-Build quality as expect from apple sturdy\\npremium durable beautiful stylish.\\n-Os most stable os in smartphone industry\\n\\nCons\\n-No 5G\\n-Display is not based on OLED technology\\n-Charger headphones and 1 apple stic...\\nREAD MORE',\n",
       " 'Amazing phone with great cameras and better battery which gives you the best performance. I just love the camera .',\n",
       " 'This is my first iOS phone. I am very happy with this product. Very much satisfied with this. I love this phone.',\n",
       " 'Previously I was using one plus 3t it was a great phone\\nAnd then I decided to upgrade I am stuck between Samsung s10 plus or iPhone 11\\nI have seen the specs and everything were good except the display it’s somewhere between 720-1080 and it’s not even an amoled it’s an LCD display\\nBut I decided to go with iPhone because I have never used an IOS device I have Been an android user from the past 9 years I ordered IPhone 11 (128gb) product red\\nMy experience after using 3 weeks\\n1. The delivery ...\\nREAD MORE',\n",
       " 'Amazing Powerful and Durable Gadget.\\n\\nI’m am very happy with the camera picture quality, Amazing face id unlocked in dark room, Strong battery with perfect screen size as you can carry easily in pocket. This is my third iPhone.\\n\\nI shifted from android Samsung Note series to iPhone because of the strong build quality and peace of mind for next 3-4 years.\\n\\nDon’t think to much just go for it and I suggest you to go for minimum 128gb variant or more 256gb.\\n\\nI’ve attached my puppy pics and no fi...\\nREAD MORE',\n",
       " 'So far it’s been an AMAZING experience coming back to iOS after nearly a decade but it’s not as versatile as android though phone is sturdy dropped it accidentally a couple of times and nothing happened fortunately camera is awesome',\n",
       " 'i11 is worthy to buy, too much happy with the product. Thank u flipkart I received the item on time..loved it..',\n",
       " 'iphone 11 is a very good phone to buy only if you can compromise for the display. The display on this is device is pretty good but you can get other options with better displays in this price segment.\\nIf you can survive with an HD+ LCD panel with thicker bezels and a notch up top then this is a very good phone for you.\\nCameras are awesome, battery backup excellent, great performance and a decent premium look. Good job Apple !']"
      ]
     },
     "execution_count": 87,
     "metadata": {},
     "output_type": "execute_result"
    }
   ],
   "source": [
    "full_review_tags1= driver.find_elements_by_xpath('//div[@class=\"t-ZTKy\"]')\n",
    "full_review_tags1\n",
    "\n",
    "\n",
    "\n",
    "#now the text of the rating is inside the tag is extracted above.\n",
    "# so we run for loop  to extract data\n",
    "full_review=[]\n",
    "for i in full_review_tags1:\n",
    "    full_review.append(i.text)\n",
    "    \n",
    "\n",
    "full_review"
   ]
  },
  {
   "cell_type": "code",
   "execution_count": 88,
   "metadata": {},
   "outputs": [],
   "source": [
    "urls=[]\n",
    "for i in driver.find_elements_by_xpath('//a[@class=\"ge-49M\"]'):\n",
    "    urls.append(i.get_attribute('href'))"
   ]
  },
  {
   "cell_type": "code",
   "execution_count": 89,
   "metadata": {},
   "outputs": [
    {
     "data": {
      "text/plain": [
       "['https://www.flipkart.com/apple-iphone-11-black-64-gb-includes-earpods-power-adapter/product-reviews/itm0f37c2240b217?pid=MOBFKCTSVZAXUHGR&lid=LSTMOBFKCTSVZAXUHGREPBFGI&marketplace=FLIPKART&page=2',\n",
       " 'https://www.flipkart.com/apple-iphone-11-black-64-gb-includes-earpods-power-adapter/product-reviews/itm0f37c2240b217?pid=MOBFKCTSVZAXUHGR&lid=LSTMOBFKCTSVZAXUHGREPBFGI&marketplace=FLIPKART&page=3',\n",
       " 'https://www.flipkart.com/apple-iphone-11-black-64-gb-includes-earpods-power-adapter/product-reviews/itm0f37c2240b217?pid=MOBFKCTSVZAXUHGR&lid=LSTMOBFKCTSVZAXUHGREPBFGI&marketplace=FLIPKART&page=4',\n",
       " 'https://www.flipkart.com/apple-iphone-11-black-64-gb-includes-earpods-power-adapter/product-reviews/itm0f37c2240b217?pid=MOBFKCTSVZAXUHGR&lid=LSTMOBFKCTSVZAXUHGREPBFGI&marketplace=FLIPKART&page=5',\n",
       " 'https://www.flipkart.com/apple-iphone-11-black-64-gb-includes-earpods-power-adapter/product-reviews/itm0f37c2240b217?pid=MOBFKCTSVZAXUHGR&lid=LSTMOBFKCTSVZAXUHGREPBFGI&marketplace=FLIPKART&page=6',\n",
       " 'https://www.flipkart.com/apple-iphone-11-black-64-gb-includes-earpods-power-adapter/product-reviews/itm0f37c2240b217?pid=MOBFKCTSVZAXUHGR&lid=LSTMOBFKCTSVZAXUHGREPBFGI&marketplace=FLIPKART&page=7',\n",
       " 'https://www.flipkart.com/apple-iphone-11-black-64-gb-includes-earpods-power-adapter/product-reviews/itm0f37c2240b217?pid=MOBFKCTSVZAXUHGR&lid=LSTMOBFKCTSVZAXUHGREPBFGI&marketplace=FLIPKART&page=8',\n",
       " 'https://www.flipkart.com/apple-iphone-11-black-64-gb-includes-earpods-power-adapter/product-reviews/itm0f37c2240b217?pid=MOBFKCTSVZAXUHGR&lid=LSTMOBFKCTSVZAXUHGREPBFGI&marketplace=FLIPKART&page=9',\n",
       " 'https://www.flipkart.com/apple-iphone-11-black-64-gb-includes-earpods-power-adapter/product-reviews/itm0f37c2240b217?pid=MOBFKCTSVZAXUHGR&lid=LSTMOBFKCTSVZAXUHGREPBFGI&marketplace=FLIPKART&page=10']"
      ]
     },
     "execution_count": 89,
     "metadata": {},
     "output_type": "execute_result"
    }
   ],
   "source": [
    "urls"
   ]
  },
  {
   "cell_type": "code",
   "execution_count": 109,
   "metadata": {},
   "outputs": [],
   "source": [
    "rating=[]\n",
    "for i in urls:\n",
    "    \n",
    "    driver.get(i)\n",
    "    time.sleep(3)\n",
    "    #extracting rating of iphone\n",
    "    try:\n",
    "        rating_tags= driver.find_elements_by_xpath('//div[@class=\"_3LWZlK _1BLPMq\"]')\n",
    "        for j in rating_tags:\n",
    "            rating.append(j.text)          \n",
    "    except:\n",
    "            rating.append(\"-\")\n",
    "        \n",
    "        \n",
    "         \n",
    "        "
   ]
  },
  {
   "cell_type": "code",
   "execution_count": 110,
   "metadata": {},
   "outputs": [
    {
     "name": "stdout",
     "output_type": "stream",
     "text": [
      "88\n"
     ]
    }
   ],
   "source": [
    "print(len(rating))\n",
    "#print(len(review_summary))"
   ]
  },
  {
   "cell_type": "code",
   "execution_count": 104,
   "metadata": {},
   "outputs": [],
   "source": [
    "#rating"
   ]
  },
  {
   "cell_type": "code",
   "execution_count": 113,
   "metadata": {},
   "outputs": [
    {
     "data": {
      "text/plain": [
       "100"
      ]
     },
     "execution_count": 113,
     "metadata": {},
     "output_type": "execute_result"
    }
   ],
   "source": [
    "final_rating=rating1+rating\n",
    "\n",
    "final_rating.append(\"-\")\n",
    "final_rating.append(\"-\")\n",
    "len(final_rating)"
   ]
  },
  {
   "cell_type": "code",
   "execution_count": 98,
   "metadata": {},
   "outputs": [],
   "source": [
    "review_summary=[]\n",
    "for i in urls:\n",
    "    \n",
    "    driver.get(i)\n",
    "    time.sleep(3)\n",
    "    #extracting rating of iphone   \n",
    "        \n",
    "    try:\n",
    "        review_summary_tags= driver.find_elements_by_xpath('//p[@class=\"_2-N8zT\"]')\n",
    "        for k in review_summary_tags:\n",
    "            review_summary.append(k.text)\n",
    "        \n",
    "    except:\n",
    "        review_summary.append(\"-\")\n",
    "        "
   ]
  },
  {
   "cell_type": "code",
   "execution_count": 99,
   "metadata": {},
   "outputs": [
    {
     "name": "stdout",
     "output_type": "stream",
     "text": [
      "90\n"
     ]
    }
   ],
   "source": [
    "print(len(review_summary))"
   ]
  },
  {
   "cell_type": "code",
   "execution_count": 100,
   "metadata": {},
   "outputs": [
    {
     "data": {
      "text/plain": [
       "100"
      ]
     },
     "execution_count": 100,
     "metadata": {},
     "output_type": "execute_result"
    }
   ],
   "source": [
    "final_summary=review_summary1+review_summary\n",
    "len(final_summary)"
   ]
  },
  {
   "cell_type": "code",
   "execution_count": 101,
   "metadata": {},
   "outputs": [],
   "source": [
    "full_review1=[]\n",
    "for i in urls:\n",
    "    \n",
    "    driver.get(i)\n",
    "    time.sleep(3)\n",
    "    #extracting rating of iphone   \n",
    "        \n",
    "    try:\n",
    "        full_review_tags= driver.find_elements_by_xpath('//div[@class=\"t-ZTKy\"]')\n",
    "        for m in full_review_tags:\n",
    "            full_review1.append(m.text)\n",
    "        \n",
    "    except:\n",
    "        full_review1.append(\"-\")"
   ]
  },
  {
   "cell_type": "code",
   "execution_count": 102,
   "metadata": {},
   "outputs": [
    {
     "name": "stdout",
     "output_type": "stream",
     "text": [
      "90\n"
     ]
    }
   ],
   "source": [
    "print(len(full_review1))"
   ]
  },
  {
   "cell_type": "code",
   "execution_count": 103,
   "metadata": {},
   "outputs": [
    {
     "data": {
      "text/plain": [
       "100"
      ]
     },
     "execution_count": 103,
     "metadata": {},
     "output_type": "execute_result"
    }
   ],
   "source": [
    "final_full_review=full_review+full_review1\n",
    "len(final_full_review)"
   ]
  },
  {
   "cell_type": "code",
   "execution_count": 115,
   "metadata": {},
   "outputs": [
    {
     "data": {
      "text/html": [
       "<div>\n",
       "<style scoped>\n",
       "    .dataframe tbody tr th:only-of-type {\n",
       "        vertical-align: middle;\n",
       "    }\n",
       "\n",
       "    .dataframe tbody tr th {\n",
       "        vertical-align: top;\n",
       "    }\n",
       "\n",
       "    .dataframe thead th {\n",
       "        text-align: right;\n",
       "    }\n",
       "</style>\n",
       "<table border=\"1\" class=\"dataframe\">\n",
       "  <thead>\n",
       "    <tr style=\"text-align: right;\">\n",
       "      <th></th>\n",
       "      <th>Rating</th>\n",
       "      <th>Summary_review</th>\n",
       "      <th>Full_review</th>\n",
       "    </tr>\n",
       "  </thead>\n",
       "  <tbody>\n",
       "    <tr>\n",
       "      <th>0</th>\n",
       "      <td>5</td>\n",
       "      <td>Brilliant</td>\n",
       "      <td>The Best Phone for the Money\\n\\nThe iPhone 11 ...</td>\n",
       "    </tr>\n",
       "    <tr>\n",
       "      <th>1</th>\n",
       "      <td>5</td>\n",
       "      <td>Simply awesome</td>\n",
       "      <td>Really satisfied with the Product I received.....</td>\n",
       "    </tr>\n",
       "    <tr>\n",
       "      <th>2</th>\n",
       "      <td>5</td>\n",
       "      <td>Best in the market!</td>\n",
       "      <td>Great iPhone very snappy experience as apple k...</td>\n",
       "    </tr>\n",
       "    <tr>\n",
       "      <th>3</th>\n",
       "      <td>5</td>\n",
       "      <td>Perfect product!</td>\n",
       "      <td>Amazing phone with great cameras and better ba...</td>\n",
       "    </tr>\n",
       "    <tr>\n",
       "      <th>4</th>\n",
       "      <td>5</td>\n",
       "      <td>Fabulous!</td>\n",
       "      <td>This is my first iOS phone. I am very happy wi...</td>\n",
       "    </tr>\n",
       "    <tr>\n",
       "      <th>...</th>\n",
       "      <td>...</td>\n",
       "      <td>...</td>\n",
       "      <td>...</td>\n",
       "    </tr>\n",
       "    <tr>\n",
       "      <th>95</th>\n",
       "      <td>5</td>\n",
       "      <td>Just wow!</td>\n",
       "      <td>The ultimate performance\\nCamera is superb\\nTh...</td>\n",
       "    </tr>\n",
       "    <tr>\n",
       "      <th>96</th>\n",
       "      <td>3</td>\n",
       "      <td>Terrific purchase</td>\n",
       "      <td>I use a Note10+ and have been using both iOS a...</td>\n",
       "    </tr>\n",
       "    <tr>\n",
       "      <th>97</th>\n",
       "      <td>5</td>\n",
       "      <td>Awesome</td>\n",
       "      <td>The phone is completely good\\nAs far as camera...</td>\n",
       "    </tr>\n",
       "    <tr>\n",
       "      <th>98</th>\n",
       "      <td>-</td>\n",
       "      <td>Decent product</td>\n",
       "      <td>Everything u ll like it when u use this iPhone...</td>\n",
       "    </tr>\n",
       "    <tr>\n",
       "      <th>99</th>\n",
       "      <td>-</td>\n",
       "      <td>Awesome</td>\n",
       "      <td>Can’t beat the software and hardware integrati...</td>\n",
       "    </tr>\n",
       "  </tbody>\n",
       "</table>\n",
       "<p>100 rows × 3 columns</p>\n",
       "</div>"
      ],
      "text/plain": [
       "   Rating       Summary_review  \\\n",
       "0       5            Brilliant   \n",
       "1       5       Simply awesome   \n",
       "2       5  Best in the market!   \n",
       "3       5     Perfect product!   \n",
       "4       5            Fabulous!   \n",
       "..    ...                  ...   \n",
       "95      5            Just wow!   \n",
       "96      3    Terrific purchase   \n",
       "97      5              Awesome   \n",
       "98      -       Decent product   \n",
       "99      -              Awesome   \n",
       "\n",
       "                                          Full_review  \n",
       "0   The Best Phone for the Money\\n\\nThe iPhone 11 ...  \n",
       "1   Really satisfied with the Product I received.....  \n",
       "2   Great iPhone very snappy experience as apple k...  \n",
       "3   Amazing phone with great cameras and better ba...  \n",
       "4   This is my first iOS phone. I am very happy wi...  \n",
       "..                                                ...  \n",
       "95  The ultimate performance\\nCamera is superb\\nTh...  \n",
       "96  I use a Note10+ and have been using both iOS a...  \n",
       "97  The phone is completely good\\nAs far as camera...  \n",
       "98  Everything u ll like it when u use this iPhone...  \n",
       "99  Can’t beat the software and hardware integrati...  \n",
       "\n",
       "[100 rows x 3 columns]"
      ]
     },
     "execution_count": 115,
     "metadata": {},
     "output_type": "execute_result"
    }
   ],
   "source": [
    "df=pd.DataFrame({})\n",
    "df['Rating']=final_rating\n",
    "df['Summary_review']=final_summary\n",
    "df['Full_review']=final_full_review\n",
    "df\n",
    "#df.reset_index(drop=True,inplace=True)\n",
    "#df.index+=1\n",
    "#print(df.to_markdown())"
   ]
  },
  {
   "cell_type": "markdown",
   "metadata": {},
   "source": [
    "# Q8: Scrape data for first 100 sneakers you find when you visit flipkart.com and search for “sneakers” in the search field. You have to scrape 4 attributes of each sneaker :\n",
    "1. Brand \n",
    "2. Product Description\n",
    "3. Price\n",
    "4. discount % "
   ]
  },
  {
   "cell_type": "code",
   "execution_count": 116,
   "metadata": {},
   "outputs": [],
   "source": [
    "url=' https://www.flipkart.com/'\n",
    "driver.get(url)\n",
    "search_job= driver.find_element_by_xpath('//input[@class=\"_3704LK\"]')\n",
    "search_job\n",
    "search_job.send_keys(\"sneakers\")"
   ]
  },
  {
   "cell_type": "code",
   "execution_count": 117,
   "metadata": {},
   "outputs": [],
   "source": [
    "search_btn=driver.find_element_by_xpath('//button[@class=\"L0Z3Pu\"]')\n",
    "search_btn\n",
    "search_btn.click()"
   ]
  },
  {
   "cell_type": "code",
   "execution_count": 163,
   "metadata": {},
   "outputs": [],
   "source": [
    "urls=[]\n",
    "for i in driver.find_elements_by_xpath('//a[@class=\"ge-49M\"]'):\n",
    "    urls.append(i.get_attribute('href'))"
   ]
  },
  {
   "cell_type": "code",
   "execution_count": 164,
   "metadata": {},
   "outputs": [
    {
     "data": {
      "text/plain": [
       "['https://www.flipkart.com/search?q=sneakers&otracker=search&otracker1=search&marketplace=FLIPKART&as-show=on&as=off&page=2',\n",
       " 'https://www.flipkart.com/search?q=sneakers&otracker=search&otracker1=search&marketplace=FLIPKART&as-show=on&as=off&page=3',\n",
       " 'https://www.flipkart.com/search?q=sneakers&otracker=search&otracker1=search&marketplace=FLIPKART&as-show=on&as=off&page=4',\n",
       " 'https://www.flipkart.com/search?q=sneakers&otracker=search&otracker1=search&marketplace=FLIPKART&as-show=on&as=off&page=5',\n",
       " 'https://www.flipkart.com/search?q=sneakers&otracker=search&otracker1=search&marketplace=FLIPKART&as-show=on&as=off&page=6',\n",
       " 'https://www.flipkart.com/search?q=sneakers&otracker=search&otracker1=search&marketplace=FLIPKART&as-show=on&as=off&page=7',\n",
       " 'https://www.flipkart.com/search?q=sneakers&otracker=search&otracker1=search&marketplace=FLIPKART&as-show=on&as=off&page=8',\n",
       " 'https://www.flipkart.com/search?q=sneakers&otracker=search&otracker1=search&marketplace=FLIPKART&as-show=on&as=off&page=9',\n",
       " 'https://www.flipkart.com/search?q=sneakers&otracker=search&otracker1=search&marketplace=FLIPKART&as-show=on&as=off&page=10']"
      ]
     },
     "execution_count": 164,
     "metadata": {},
     "output_type": "execute_result"
    }
   ],
   "source": [
    "urls"
   ]
  },
  {
   "cell_type": "code",
   "execution_count": 165,
   "metadata": {},
   "outputs": [],
   "source": [
    "Brand=[]\n",
    "for i in urls:\n",
    "    \n",
    "    driver.get(i)\n",
    "    time.sleep(3)\n",
    "    #extracting rating of iphone\n",
    "    try:\n",
    "        brand_tags= driver.find_elements_by_xpath('//div[@class=\"_2WkVRV\"]')\n",
    "        for j in brand_tags:\n",
    "            Brand.append(j.text)          \n",
    "    except:\n",
    "            Brand.append(\"-\")"
   ]
  },
  {
   "cell_type": "code",
   "execution_count": 166,
   "metadata": {},
   "outputs": [
    {
     "data": {
      "text/plain": [
       "360"
      ]
     },
     "execution_count": 166,
     "metadata": {},
     "output_type": "execute_result"
    }
   ],
   "source": [
    "len(Brand)"
   ]
  },
  {
   "cell_type": "code",
   "execution_count": 184,
   "metadata": {},
   "outputs": [],
   "source": [
    "Prouct_desc=[]\n",
    "for i in urls:\n",
    "    \n",
    "    driver.get(i)\n",
    "    time.sleep(3)\n",
    "    #extracting rating of iphone\n",
    "    try:\n",
    "        Prouct_desc_tags= driver.find_elements_by_xpath('//a[@class=\"IRpwTa\"]')\n",
    "        for k in Prouct_desc_tags:\n",
    "            Prouct_desc.append(k.text.replace(\"\\n\",\"new line\"))  \n",
    "    except:\n",
    "            Prouct_desc.append(\"-\")\n"
   ]
  },
  {
   "cell_type": "code",
   "execution_count": 186,
   "metadata": {},
   "outputs": [
    {
     "data": {
      "text/plain": [
       "283"
      ]
     },
     "execution_count": 186,
     "metadata": {},
     "output_type": "execute_result"
    }
   ],
   "source": [
    "len(Prouct_desc)"
   ]
  },
  {
   "cell_type": "code",
   "execution_count": 171,
   "metadata": {},
   "outputs": [],
   "source": [
    "Price=[]\n",
    "for i in urls:\n",
    "    \n",
    "    driver.get(i)\n",
    "    time.sleep(3)\n",
    "    #extracting rating of iphone\n",
    "    try:\n",
    "        price_tags= driver.find_elements_by_xpath('//div[@class=\"_30jeq3\"]')\n",
    "        for j in price_tags:\n",
    "            Price.append(j.text)          \n",
    "    except:\n",
    "            Price.append(\"-\")"
   ]
  },
  {
   "cell_type": "code",
   "execution_count": 172,
   "metadata": {},
   "outputs": [
    {
     "data": {
      "text/plain": [
       "360"
      ]
     },
     "execution_count": 172,
     "metadata": {},
     "output_type": "execute_result"
    }
   ],
   "source": [
    "len(Price)"
   ]
  },
  {
   "cell_type": "code",
   "execution_count": 178,
   "metadata": {},
   "outputs": [],
   "source": [
    "Discount=[]\n",
    "for i in urls:\n",
    "    \n",
    "    driver.get(i)\n",
    "    time.sleep(3)\n",
    "    #extracting rating of iphone\n",
    "    try:\n",
    "        discount_tags= driver.find_elements_by_xpath('//div[@class=\"_3Ay6Sb\"]')\n",
    "        for l in discount_tags:\n",
    "            Discount.append(l.text)          \n",
    "    except:\n",
    "        Discount.append(\"-\")"
   ]
  },
  {
   "cell_type": "code",
   "execution_count": 179,
   "metadata": {},
   "outputs": [
    {
     "data": {
      "text/plain": [
       "360"
      ]
     },
     "execution_count": 179,
     "metadata": {},
     "output_type": "execute_result"
    }
   ],
   "source": [
    "len(Discount)"
   ]
  },
  {
   "cell_type": "code",
   "execution_count": 188,
   "metadata": {},
   "outputs": [
    {
     "data": {
      "text/html": [
       "<div>\n",
       "<style scoped>\n",
       "    .dataframe tbody tr th:only-of-type {\n",
       "        vertical-align: middle;\n",
       "    }\n",
       "\n",
       "    .dataframe tbody tr th {\n",
       "        vertical-align: top;\n",
       "    }\n",
       "\n",
       "    .dataframe thead th {\n",
       "        text-align: right;\n",
       "    }\n",
       "</style>\n",
       "<table border=\"1\" class=\"dataframe\">\n",
       "  <thead>\n",
       "    <tr style=\"text-align: right;\">\n",
       "      <th></th>\n",
       "      <th>Brand</th>\n",
       "      <th>Prouct_desc</th>\n",
       "      <th>Price</th>\n",
       "      <th>Discount</th>\n",
       "    </tr>\n",
       "  </thead>\n",
       "  <tbody>\n",
       "    <tr>\n",
       "      <th>1</th>\n",
       "      <td>bluemaker</td>\n",
       "      <td>Modern &amp; Trendy Collection Combo Pack of 02 Sh...</td>\n",
       "      <td>₹470</td>\n",
       "      <td>80% off</td>\n",
       "    </tr>\n",
       "    <tr>\n",
       "      <th>2</th>\n",
       "      <td>HOC</td>\n",
       "      <td>Men 5014 Latest Collection Stylish Casual Spor...</td>\n",
       "      <td>₹499</td>\n",
       "      <td>51% off</td>\n",
       "    </tr>\n",
       "    <tr>\n",
       "      <th>3</th>\n",
       "      <td>Magnolia</td>\n",
       "      <td>casual for men (blue 10) Sneakers For Men</td>\n",
       "      <td>₹240</td>\n",
       "      <td>50% off</td>\n",
       "    </tr>\n",
       "    <tr>\n",
       "      <th>4</th>\n",
       "      <td>India hub</td>\n",
       "      <td>Sneakers For Men</td>\n",
       "      <td>₹379</td>\n",
       "      <td>81% off</td>\n",
       "    </tr>\n",
       "    <tr>\n",
       "      <th>5</th>\n",
       "      <td>T-ROCK</td>\n",
       "      <td>Unique &amp; Perfect Collection Combo Pack of 02 S...</td>\n",
       "      <td>₹624</td>\n",
       "      <td>68% off</td>\n",
       "    </tr>\n",
       "    <tr>\n",
       "      <th>...</th>\n",
       "      <td>...</td>\n",
       "      <td>...</td>\n",
       "      <td>...</td>\n",
       "      <td>...</td>\n",
       "    </tr>\n",
       "    <tr>\n",
       "      <th>96</th>\n",
       "      <td>hzisbo</td>\n",
       "      <td>Sneakers For Men</td>\n",
       "      <td>₹399</td>\n",
       "      <td>80% off</td>\n",
       "    </tr>\n",
       "    <tr>\n",
       "      <th>97</th>\n",
       "      <td>SPARX</td>\n",
       "      <td>CLARKIN Sneakers For Men</td>\n",
       "      <td>₹284</td>\n",
       "      <td>55% off</td>\n",
       "    </tr>\n",
       "    <tr>\n",
       "      <th>98</th>\n",
       "      <td>Ktiz</td>\n",
       "      <td>Stylish &amp; Comfort Combo Pack of 02 Pair Shoes ...</td>\n",
       "      <td>₹410</td>\n",
       "      <td>61% off</td>\n",
       "    </tr>\n",
       "    <tr>\n",
       "      <th>99</th>\n",
       "      <td>PUMA</td>\n",
       "      <td>Sneakers For Men</td>\n",
       "      <td>₹660</td>\n",
       "      <td>32% off</td>\n",
       "    </tr>\n",
       "    <tr>\n",
       "      <th>100</th>\n",
       "      <td>luxury fashion</td>\n",
       "      <td>White Sneaker for Men Sneakers For Men</td>\n",
       "      <td>₹389</td>\n",
       "      <td>80% off</td>\n",
       "    </tr>\n",
       "  </tbody>\n",
       "</table>\n",
       "<p>100 rows × 4 columns</p>\n",
       "</div>"
      ],
      "text/plain": [
       "              Brand                                        Prouct_desc Price  \\\n",
       "1         bluemaker  Modern & Trendy Collection Combo Pack of 02 Sh...  ₹470   \n",
       "2               HOC  Men 5014 Latest Collection Stylish Casual Spor...  ₹499   \n",
       "3          Magnolia          casual for men (blue 10) Sneakers For Men  ₹240   \n",
       "4         India hub                                   Sneakers For Men  ₹379   \n",
       "5            T-ROCK  Unique & Perfect Collection Combo Pack of 02 S...  ₹624   \n",
       "..              ...                                                ...   ...   \n",
       "96           hzisbo                                   Sneakers For Men  ₹399   \n",
       "97            SPARX                           CLARKIN Sneakers For Men  ₹284   \n",
       "98             Ktiz  Stylish & Comfort Combo Pack of 02 Pair Shoes ...  ₹410   \n",
       "99             PUMA                                   Sneakers For Men  ₹660   \n",
       "100  luxury fashion             White Sneaker for Men Sneakers For Men  ₹389   \n",
       "\n",
       "    Discount  \n",
       "1    80% off  \n",
       "2    51% off  \n",
       "3    50% off  \n",
       "4    81% off  \n",
       "5    68% off  \n",
       "..       ...  \n",
       "96   80% off  \n",
       "97   55% off  \n",
       "98   61% off  \n",
       "99   32% off  \n",
       "100  80% off  \n",
       "\n",
       "[100 rows x 4 columns]"
      ]
     },
     "execution_count": 188,
     "metadata": {},
     "output_type": "execute_result"
    }
   ],
   "source": [
    "df=pd.DataFrame({})\n",
    "df['Brand']=Brand[:100]\n",
    "df['Prouct_desc']=Prouct_desc[:100]\n",
    "df['Price']=Price[:100]\n",
    "df['Discount']=Discount[:100]\n",
    "df\n",
    "df.reset_index(drop=True,inplace=True)\n",
    "df.index+=1\n",
    "df\n",
    "#print(df.to_markdown())"
   ]
  },
  {
   "cell_type": "markdown",
   "metadata": {},
   "source": [
    "# Q9: Go to the link - https://www.myntra.com/shoes  Set Price filter to “Rs. 6649 to Rs. 13099” , Color filter to “Black”, as shown in the below image \n",
    "        And then scrape First 100 shoes data you get. The data should include “Brand” of the shoes , Short Shoe description, price of the shoe as shown in the below image. \n",
    "        "
   ]
  },
  {
   "cell_type": "code",
   "execution_count": 27,
   "metadata": {},
   "outputs": [
    {
     "data": {
      "text/plain": [
       "<selenium.webdriver.remote.webelement.WebElement (session=\"fe3c73f4e9e4a03e968c1bce13baac79\", element=\"ea5bea31-a670-465c-94d4-af6857a494d8\")>"
      ]
     },
     "execution_count": 27,
     "metadata": {},
     "output_type": "execute_result"
    }
   ],
   "source": [
    "url=' https://www.myntra.com/shoes'\n",
    "driver.get(url)\n",
    "search_price= driver.find_element_by_xpath(\"//ul[@class='price-list']//li[2]//label\")\n",
    "search_price\n"
   ]
  },
  {
   "cell_type": "code",
   "execution_count": 28,
   "metadata": {},
   "outputs": [],
   "source": [
    "search_price.click()"
   ]
  },
  {
   "cell_type": "code",
   "execution_count": 29,
   "metadata": {},
   "outputs": [
    {
     "data": {
      "text/plain": [
       "<selenium.webdriver.remote.webelement.WebElement (session=\"fe3c73f4e9e4a03e968c1bce13baac79\", element=\"603cbbe4-a9db-41f8-a0f0-ffb402702008\")>"
      ]
     },
     "execution_count": 29,
     "metadata": {},
     "output_type": "execute_result"
    }
   ],
   "source": [
    "search_color= driver.find_element_by_xpath(\"//div[@class='vertical-filters-filters'][3]//li[1]\")\n",
    "search_color\n"
   ]
  },
  {
   "cell_type": "code",
   "execution_count": 30,
   "metadata": {},
   "outputs": [],
   "source": [
    "search_color.click()"
   ]
  },
  {
   "cell_type": "code",
   "execution_count": 37,
   "metadata": {},
   "outputs": [],
   "source": [
    "urls=[]\n",
    "for i in driver.find_elements_by_xpath('//li[@class=\"pagination-number\"]'):\n",
    "    urls.append(i.get_attribute('href'))"
   ]
  },
  {
   "cell_type": "code",
   "execution_count": 38,
   "metadata": {},
   "outputs": [
    {
     "data": {
      "text/plain": [
       "[None, None, None, None, None, None, None, None, None]"
      ]
     },
     "execution_count": 38,
     "metadata": {},
     "output_type": "execute_result"
    }
   ],
   "source": [
    "urls"
   ]
  },
  {
   "cell_type": "code",
   "execution_count": 39,
   "metadata": {},
   "outputs": [
    {
     "data": {
      "text/plain": [
       "['Puma',\n",
       " 'Hush Puppies',\n",
       " 'Nike',\n",
       " 'Puma',\n",
       " 'Nike',\n",
       " 'Puma',\n",
       " 'Puma',\n",
       " 'Nike',\n",
       " 'UNDER ARMOUR',\n",
       " 'ADIDAS',\n",
       " 'Nike',\n",
       " 'Nike',\n",
       " 'UNDER ARMOUR',\n",
       " 'Puma',\n",
       " 'UNDER ARMOUR',\n",
       " 'ASICS',\n",
       " 'Hush Puppies',\n",
       " 'Hush Puppies',\n",
       " 'Puma',\n",
       " 'Puma',\n",
       " 'Birkenstock',\n",
       " 'Calvin Klein',\n",
       " 'Hush Puppies',\n",
       " 'UNDER ARMOUR',\n",
       " 'Puma',\n",
       " 'UNDER ARMOUR',\n",
       " 'Hush Puppies',\n",
       " 'DAVINCHI',\n",
       " 'PUMA Motorsport',\n",
       " 'FORCLAZ By Decathlon',\n",
       " 'UNDER ARMOUR',\n",
       " 'ROSSO BRUNELLO',\n",
       " 'Heel & Buckle London',\n",
       " 'UNDER ARMOUR',\n",
       " 'ALDO',\n",
       " 'Puma',\n",
       " 'Puma',\n",
       " 'Geox',\n",
       " 'ROSSO BRUNELLO',\n",
       " 'PUMA Motorsport',\n",
       " 'UNDER ARMOUR',\n",
       " 'ASICS',\n",
       " 'ALDO',\n",
       " 'ASICS',\n",
       " 'Saint G',\n",
       " 'ALDO',\n",
       " 'ALDO',\n",
       " 'Puma',\n",
       " 'J.FONTINI',\n",
       " 'PUMA Motorsport']"
      ]
     },
     "execution_count": 39,
     "metadata": {},
     "output_type": "execute_result"
    }
   ],
   "source": [
    "\n",
    "brand_tags= driver.find_elements_by_xpath('//h3[@class=\"product-brand\"]')\n",
    "\n",
    "Brand=[]\n",
    "for j in brand_tags:\n",
    "    Brand.append(j.text)          \n",
    "    \n",
    "Brand"
   ]
  },
  {
   "cell_type": "code",
   "execution_count": 40,
   "metadata": {},
   "outputs": [
    {
     "data": {
      "text/plain": [
       "50"
      ]
     },
     "execution_count": 40,
     "metadata": {},
     "output_type": "execute_result"
    }
   ],
   "source": [
    "len(Brand)"
   ]
  },
  {
   "cell_type": "code",
   "execution_count": 41,
   "metadata": {},
   "outputs": [
    {
     "data": {
      "text/plain": [
       "['Men Cell Fraction Fade Running',\n",
       " 'Men Solid Leather Formal Slip-Ons',\n",
       " 'Men AIR MAX INFINITY Sneakers',\n",
       " 'Men BlackTraining or Gym Shoes',\n",
       " 'Men Vomero 16 Running Shoes',\n",
       " 'Mesh Hybrid Fuego Running',\n",
       " 'Men Velocity Nitro Running',\n",
       " 'Men ZOOM SPAN 3 Running Shoes',\n",
       " 'Men Charged Assert 8 Marble',\n",
       " 'Men Kaptir Super Sneakers',\n",
       " \"Men BlazerLow '77 Sneakers\",\n",
       " 'Women Air Zoom Running Shoes',\n",
       " 'Men HOVR Infinite Running',\n",
       " 'Men FUSE Training Shoes',\n",
       " 'Women HOVR Sonic 4 FnRn',\n",
       " 'Men Tennis Shoes',\n",
       " 'Men Solid Leather Formal Slip-Ons',\n",
       " 'Men Formal Derbys',\n",
       " 'Men Jamming 2.0 Running Shoes',\n",
       " 'Men Black Shoes',\n",
       " 'Men Patent Leather Sneakers',\n",
       " 'Men Loafers',\n",
       " 'Men Leather Slip-On Sneakers',\n",
       " 'Men HOVR Sonic STRT Tech Shoes',\n",
       " 'Men Liberate NITRO Running',\n",
       " 'GS SC 3Zero IV Basketball',\n",
       " 'Men Solid Leather Formal Derbys',\n",
       " 'Men Textured Formal Leather Loafers',\n",
       " 'Unisex Mercedes F1 Sneakers',\n",
       " 'TREKKING 100 Boots',\n",
       " 'Women Charged Vantage ClrShft',\n",
       " 'Men Solid Formal Monks Shoes',\n",
       " 'Women Solid Leather Gladiators',\n",
       " 'Women HOVR Sonic 4 Running',\n",
       " 'Women Woven Design Sneakers',\n",
       " 'Unisex Rebound Future Trainers',\n",
       " 'Men Football Shoes',\n",
       " 'Men Leather Flat Boots',\n",
       " 'Men Textured Leather Loafers',\n",
       " 'Women BMW M Motorsport Shoes',\n",
       " 'Women Charged Assert 8 Running',\n",
       " 'Men Running Shoes',\n",
       " 'Women Sneakers',\n",
       " 'Women GlideRide Running Shoes',\n",
       " 'Leather Block Sandals',\n",
       " 'Men Sneakers',\n",
       " 'Men Sneakers',\n",
       " 'Unisex Leather Trainers',\n",
       " 'Men Textured Leather Formal Loafers',\n",
       " 'Unisex FerrariRS-Fast Sneakers']"
      ]
     },
     "execution_count": 41,
     "metadata": {},
     "output_type": "execute_result"
    }
   ],
   "source": [
    "shoe_desc_tags= driver.find_elements_by_xpath('//h4[@class=\"product-product\"]')\n",
    "\n",
    "shoe_desc=[]\n",
    "for j in shoe_desc_tags:\n",
    "    shoe_desc.append(j.text)          \n",
    "    \n",
    "shoe_desc"
   ]
  },
  {
   "cell_type": "code",
   "execution_count": 42,
   "metadata": {},
   "outputs": [
    {
     "data": {
      "text/plain": [
       "50"
      ]
     },
     "execution_count": 42,
     "metadata": {},
     "output_type": "execute_result"
    }
   ],
   "source": [
    "len(shoe_desc)"
   ]
  },
  {
   "cell_type": "code",
   "execution_count": 43,
   "metadata": {},
   "outputs": [
    {
     "data": {
      "text/plain": [
       "['Rs. 6999',\n",
       " 'Rs. 8099Rs. 8999(10% OFF)',\n",
       " 'Rs. 8295',\n",
       " 'Rs. 6999',\n",
       " 'Rs. 13495',\n",
       " 'Rs. 6999',\n",
       " 'Rs. 10999',\n",
       " 'Rs. 7195',\n",
       " 'Rs. 6999',\n",
       " 'Rs. 8999',\n",
       " 'Rs. 7195',\n",
       " 'Rs. 10295',\n",
       " 'Rs. 11999',\n",
       " 'Rs. 7999',\n",
       " 'Rs. 10999',\n",
       " 'Rs. 9999',\n",
       " 'Rs. 8999Rs. 9999(10% OFF)',\n",
       " 'Rs. 8999Rs. 9999(10% OFF)',\n",
       " 'Rs. 12999',\n",
       " 'Rs. 6999',\n",
       " 'Rs. 12990',\n",
       " 'Rs. 7649Rs. 8999(15% OFF)',\n",
       " 'Rs. 6999Rs. 9999(30% OFF)',\n",
       " 'Rs. 9999',\n",
       " 'Rs. 9999',\n",
       " 'Rs. 7499',\n",
       " 'Rs. 8999Rs. 9999(10% OFF)',\n",
       " 'Rs. 8990',\n",
       " 'Rs. 7999',\n",
       " 'Rs. 6999',\n",
       " 'Rs. 7999',\n",
       " 'Rs. 12999',\n",
       " 'Rs. 6993Rs. 9990(30% OFF)',\n",
       " 'Rs. 7699Rs. 10999(30% OFF)',\n",
       " 'Rs. 7799Rs. 12999(40% OFF)',\n",
       " 'Rs. 6999',\n",
       " 'Rs. 12749Rs. 16999(25% OFF)',\n",
       " 'Rs. 11999',\n",
       " 'Rs. 11999',\n",
       " 'Rs. 6999',\n",
       " 'Rs. 6999',\n",
       " 'Rs. 10999',\n",
       " 'Rs. 11999',\n",
       " 'Rs. 11199Rs. 13999(20% OFF)',\n",
       " 'Rs. 10355Rs. 10900(5% OFF)',\n",
       " 'Rs. 9999',\n",
       " 'Rs. 9999',\n",
       " 'Rs. 9999',\n",
       " 'Rs. 8990',\n",
       " 'Rs. 9999']"
      ]
     },
     "execution_count": 43,
     "metadata": {},
     "output_type": "execute_result"
    }
   ],
   "source": [
    "price_tags= driver.find_elements_by_xpath('//div[@class=\"product-price\"]')\n",
    "\n",
    "price=[]\n",
    "for j in price_tags:\n",
    "    price.append(j.text)          \n",
    "    \n",
    "price"
   ]
  },
  {
   "cell_type": "code",
   "execution_count": 44,
   "metadata": {},
   "outputs": [
    {
     "data": {
      "text/plain": [
       "50"
      ]
     },
     "execution_count": 44,
     "metadata": {},
     "output_type": "execute_result"
    }
   ],
   "source": [
    "len(price)"
   ]
  },
  {
   "cell_type": "code",
   "execution_count": 45,
   "metadata": {},
   "outputs": [
    {
     "data": {
      "text/plain": [
       "<selenium.webdriver.remote.webelement.WebElement (session=\"fe3c73f4e9e4a03e968c1bce13baac79\", element=\"80c31c0a-0952-40ab-aaac-6880a8154a40\")>"
      ]
     },
     "execution_count": 45,
     "metadata": {},
     "output_type": "execute_result"
    }
   ],
   "source": [
    "search_next= driver.find_element_by_xpath(\"//li[@class='pagination-next']\")\n",
    "search_next\n"
   ]
  },
  {
   "cell_type": "code",
   "execution_count": 46,
   "metadata": {},
   "outputs": [],
   "source": [
    "search_next.click()"
   ]
  },
  {
   "cell_type": "code",
   "execution_count": 47,
   "metadata": {},
   "outputs": [
    {
     "data": {
      "text/plain": [
       "['ASICS',\n",
       " 'Clarks',\n",
       " 'J.FONTINI',\n",
       " 'ROSSO BRUNELLO',\n",
       " 'J.FONTINI',\n",
       " 'Saint G',\n",
       " 'Heel & Buckle London',\n",
       " 'Geox',\n",
       " 'KIPRUN By Decathlon',\n",
       " 'Puma',\n",
       " 'Puma',\n",
       " 'Cole Haan',\n",
       " 'Cole Haan',\n",
       " 'Quechua By Decathlon',\n",
       " 'Cole Haan',\n",
       " 'Ruosh',\n",
       " 'VIONIC',\n",
       " 'Nike',\n",
       " 'J.FONTINI',\n",
       " 'J.FONTINI',\n",
       " 'J.FONTINI',\n",
       " 'Geox',\n",
       " 'PUMA Motorsport',\n",
       " 'Heel & Buckle London',\n",
       " 'Kalenji By Decathlon',\n",
       " 'Puma',\n",
       " 'Bugatti',\n",
       " 'Bugatti',\n",
       " 'Bugatti',\n",
       " 'PUMA Hoops',\n",
       " 'Heel & Buckle London',\n",
       " 'Saint G',\n",
       " 'Saint G',\n",
       " 'Saint G',\n",
       " 'Geox',\n",
       " 'Kenneth Cole',\n",
       " 'ASICS',\n",
       " 'J.FONTINI',\n",
       " 'ALDO',\n",
       " 'Geox',\n",
       " 'Geox',\n",
       " 'ALDO',\n",
       " 'Cole Haan',\n",
       " 'Florsheim',\n",
       " 'Heel & Buckle London',\n",
       " 'J.FONTINI',\n",
       " 'ALDO',\n",
       " 'J.FONTINI',\n",
       " 'J.FONTINI',\n",
       " 'Kenneth Cole']"
      ]
     },
     "execution_count": 47,
     "metadata": {},
     "output_type": "execute_result"
    }
   ],
   "source": [
    "brand_tags1= driver.find_elements_by_xpath('//h3[@class=\"product-brand\"]')\n",
    "\n",
    "Brand1=[]\n",
    "for j in brand_tags1:\n",
    "    Brand1.append(j.text)          \n",
    "    \n",
    "Brand1"
   ]
  },
  {
   "cell_type": "code",
   "execution_count": 48,
   "metadata": {},
   "outputs": [
    {
     "data": {
      "text/plain": [
       "['Women GlideRide Running Shoes',\n",
       " 'Men Solid Formal Leather Derbys',\n",
       " 'Men Solid Leather Formal Derbys',\n",
       " 'Men Leather Formal Loafers',\n",
       " 'Men Black Leather Loafers',\n",
       " 'Women Leather Heeled Boots',\n",
       " 'Women Peep Toe Heels',\n",
       " 'Men Printed Slip-On Sneakers',\n",
       " 'Women Running Shoes',\n",
       " 'Women Liberate NITRO Running',\n",
       " 'Women Eternity NITRO Shoes',\n",
       " 'Men Wingtip Oxford Sneakers',\n",
       " 'Men GENERATION ZEROGRAND STITCHLITE',\n",
       " 'Men Trekking Shoes',\n",
       " 'Leather Sneakers',\n",
       " 'Men Solid Leather Formal Monks',\n",
       " 'Men Textured Sneakers',\n",
       " 'Women Air Zoom Running Shoes',\n",
       " 'Men Solid Leather Loafers',\n",
       " 'Men Textured Leather Loafers',\n",
       " 'Men Textured Leather Loafers',\n",
       " 'Men Leather Formal Slip-Ons',\n",
       " 'Unisex BMW MMS RS-FastSneakers',\n",
       " 'Men Leather Formal Loafers',\n",
       " 'Men KD500 Running Shoe',\n",
       " 'Men Running Shoes',\n",
       " 'Men Black Walking Shoes',\n",
       " 'Men Walking Shoes',\n",
       " 'Men Running Shoes',\n",
       " 'Unisex Clyde Basketball Shoes',\n",
       " 'Women Solid Leather Heels',\n",
       " 'Women Leather Heeled Boots',\n",
       " 'Women Leather Heeled Boots',\n",
       " 'Women Heeled Boots',\n",
       " 'Men Leather Formal Slip-Ons',\n",
       " 'Women Leather Pumps',\n",
       " 'Men Black Running Sports Shoes',\n",
       " 'Men Textured Leather Loafers',\n",
       " 'Textured Slim Heeled Sandals',\n",
       " 'Men Solid Sneakers',\n",
       " 'Men Leather Driving Shoes',\n",
       " 'Women Solid Sneakers',\n",
       " 'Women Open Toe Flats',\n",
       " 'Men Solid Leather Formal Derbys',\n",
       " 'Women Leather Pumps',\n",
       " 'Men Solid Leather Formal Slip-Ons',\n",
       " 'Women Woven Design Sneakers',\n",
       " 'Men Solid Leather Formal Slip-Ons',\n",
       " 'Men Leather Formal Loafers',\n",
       " 'Women LeatherSneakers']"
      ]
     },
     "execution_count": 48,
     "metadata": {},
     "output_type": "execute_result"
    }
   ],
   "source": [
    "shoe_desc_tags1= driver.find_elements_by_xpath('//h4[@class=\"product-product\"]')\n",
    "\n",
    "shoe_desc1=[]\n",
    "for j in shoe_desc_tags1:\n",
    "    shoe_desc1.append(j.text)          \n",
    "    \n",
    "shoe_desc1"
   ]
  },
  {
   "cell_type": "code",
   "execution_count": 49,
   "metadata": {},
   "outputs": [
    {
     "data": {
      "text/plain": [
       "['Rs. 11199Rs. 13999(20% OFF)',\n",
       " 'Rs. 9999',\n",
       " 'Rs. 6990',\n",
       " 'Rs. 11999',\n",
       " 'Rs. 8490',\n",
       " 'Rs. 7600',\n",
       " 'Rs. 7192Rs. 8990(20% OFF)',\n",
       " 'Rs. 10999',\n",
       " 'Rs. 7006Rs. 7149(2% OFF)',\n",
       " 'Rs. 9999',\n",
       " 'Rs. 12999',\n",
       " 'Rs. 12999',\n",
       " 'Rs. 11999',\n",
       " 'Rs. 9999',\n",
       " 'Rs. 10999',\n",
       " 'Rs. 8990',\n",
       " 'Rs. 7039Rs. 10999(36% OFF)',\n",
       " 'Rs. 10295',\n",
       " 'Rs. 7990',\n",
       " 'Rs. 7990',\n",
       " 'Rs. 7990',\n",
       " 'Rs. 8999',\n",
       " 'Rs. 7999Rs. 9999(20% OFF)',\n",
       " 'Rs. 6993Rs. 9990(30% OFF)',\n",
       " 'Rs. 7773Rs. 8449(8% OFF)',\n",
       " 'Rs. 12999',\n",
       " 'Rs. 8999',\n",
       " 'Rs. 8999',\n",
       " 'Rs. 9999',\n",
       " 'Rs. 8999',\n",
       " 'Rs. 6993Rs. 9990(30% OFF)',\n",
       " 'Rs. 8500',\n",
       " 'Rs. 8900',\n",
       " 'Rs. 8000',\n",
       " 'Rs. 11242Rs. 14990(25% OFF)',\n",
       " 'Rs. 10493Rs. 14990(30% OFF)',\n",
       " 'Rs. 7999',\n",
       " 'Rs. 6990',\n",
       " 'Rs. 7999',\n",
       " 'Rs. 10999',\n",
       " 'Rs. 9999',\n",
       " 'Rs. 7999',\n",
       " 'Rs. 11999',\n",
       " 'Rs. 6995',\n",
       " 'Rs. 7192Rs. 8990(20% OFF)',\n",
       " 'Rs. 7990',\n",
       " 'Rs. 8999',\n",
       " 'Rs. 7990',\n",
       " 'Rs. 6990',\n",
       " 'Rs. 7343Rs. 10490(30% OFF)']"
      ]
     },
     "execution_count": 49,
     "metadata": {},
     "output_type": "execute_result"
    }
   ],
   "source": [
    "price_tags1= driver.find_elements_by_xpath('//div[@class=\"product-price\"]')\n",
    "\n",
    "price1=[]\n",
    "for j in price_tags1:\n",
    "    price1.append(j.text)          \n",
    "    \n",
    "price1"
   ]
  },
  {
   "cell_type": "code",
   "execution_count": 50,
   "metadata": {},
   "outputs": [
    {
     "data": {
      "text/plain": [
       "100"
      ]
     },
     "execution_count": 50,
     "metadata": {},
     "output_type": "execute_result"
    }
   ],
   "source": [
    "final_brand=Brand+Brand1\n",
    "len(final_brand)"
   ]
  },
  {
   "cell_type": "code",
   "execution_count": 52,
   "metadata": {},
   "outputs": [
    {
     "data": {
      "text/plain": [
       "100"
      ]
     },
     "execution_count": 52,
     "metadata": {},
     "output_type": "execute_result"
    }
   ],
   "source": [
    "final_shoe_desc=shoe_desc+shoe_desc1\n",
    "len(final_shoe_desc)"
   ]
  },
  {
   "cell_type": "code",
   "execution_count": 53,
   "metadata": {},
   "outputs": [
    {
     "data": {
      "text/plain": [
       "100"
      ]
     },
     "execution_count": 53,
     "metadata": {},
     "output_type": "execute_result"
    }
   ],
   "source": [
    "final_price=price+price1\n",
    "len(final_price)"
   ]
  },
  {
   "cell_type": "code",
   "execution_count": 54,
   "metadata": {},
   "outputs": [
    {
     "data": {
      "text/html": [
       "<div>\n",
       "<style scoped>\n",
       "    .dataframe tbody tr th:only-of-type {\n",
       "        vertical-align: middle;\n",
       "    }\n",
       "\n",
       "    .dataframe tbody tr th {\n",
       "        vertical-align: top;\n",
       "    }\n",
       "\n",
       "    .dataframe thead th {\n",
       "        text-align: right;\n",
       "    }\n",
       "</style>\n",
       "<table border=\"1\" class=\"dataframe\">\n",
       "  <thead>\n",
       "    <tr style=\"text-align: right;\">\n",
       "      <th></th>\n",
       "      <th>Brand</th>\n",
       "      <th>Prouct_desc</th>\n",
       "      <th>Price</th>\n",
       "    </tr>\n",
       "  </thead>\n",
       "  <tbody>\n",
       "    <tr>\n",
       "      <th>1</th>\n",
       "      <td>Puma</td>\n",
       "      <td>Men Cell Fraction Fade Running</td>\n",
       "      <td>Rs. 6999</td>\n",
       "    </tr>\n",
       "    <tr>\n",
       "      <th>2</th>\n",
       "      <td>Hush Puppies</td>\n",
       "      <td>Men Solid Leather Formal Slip-Ons</td>\n",
       "      <td>Rs. 8099Rs. 8999(10% OFF)</td>\n",
       "    </tr>\n",
       "    <tr>\n",
       "      <th>3</th>\n",
       "      <td>Nike</td>\n",
       "      <td>Men AIR MAX INFINITY Sneakers</td>\n",
       "      <td>Rs. 8295</td>\n",
       "    </tr>\n",
       "    <tr>\n",
       "      <th>4</th>\n",
       "      <td>Puma</td>\n",
       "      <td>Men BlackTraining or Gym Shoes</td>\n",
       "      <td>Rs. 6999</td>\n",
       "    </tr>\n",
       "    <tr>\n",
       "      <th>5</th>\n",
       "      <td>Nike</td>\n",
       "      <td>Men Vomero 16 Running Shoes</td>\n",
       "      <td>Rs. 13495</td>\n",
       "    </tr>\n",
       "    <tr>\n",
       "      <th>...</th>\n",
       "      <td>...</td>\n",
       "      <td>...</td>\n",
       "      <td>...</td>\n",
       "    </tr>\n",
       "    <tr>\n",
       "      <th>96</th>\n",
       "      <td>J.FONTINI</td>\n",
       "      <td>Men Solid Leather Formal Slip-Ons</td>\n",
       "      <td>Rs. 7990</td>\n",
       "    </tr>\n",
       "    <tr>\n",
       "      <th>97</th>\n",
       "      <td>ALDO</td>\n",
       "      <td>Women Woven Design Sneakers</td>\n",
       "      <td>Rs. 8999</td>\n",
       "    </tr>\n",
       "    <tr>\n",
       "      <th>98</th>\n",
       "      <td>J.FONTINI</td>\n",
       "      <td>Men Solid Leather Formal Slip-Ons</td>\n",
       "      <td>Rs. 7990</td>\n",
       "    </tr>\n",
       "    <tr>\n",
       "      <th>99</th>\n",
       "      <td>J.FONTINI</td>\n",
       "      <td>Men Leather Formal Loafers</td>\n",
       "      <td>Rs. 6990</td>\n",
       "    </tr>\n",
       "    <tr>\n",
       "      <th>100</th>\n",
       "      <td>Kenneth Cole</td>\n",
       "      <td>Women LeatherSneakers</td>\n",
       "      <td>Rs. 7343Rs. 10490(30% OFF)</td>\n",
       "    </tr>\n",
       "  </tbody>\n",
       "</table>\n",
       "<p>100 rows × 3 columns</p>\n",
       "</div>"
      ],
      "text/plain": [
       "            Brand                        Prouct_desc  \\\n",
       "1            Puma     Men Cell Fraction Fade Running   \n",
       "2    Hush Puppies  Men Solid Leather Formal Slip-Ons   \n",
       "3            Nike      Men AIR MAX INFINITY Sneakers   \n",
       "4            Puma     Men BlackTraining or Gym Shoes   \n",
       "5            Nike        Men Vomero 16 Running Shoes   \n",
       "..            ...                                ...   \n",
       "96      J.FONTINI  Men Solid Leather Formal Slip-Ons   \n",
       "97           ALDO        Women Woven Design Sneakers   \n",
       "98      J.FONTINI  Men Solid Leather Formal Slip-Ons   \n",
       "99      J.FONTINI         Men Leather Formal Loafers   \n",
       "100  Kenneth Cole              Women LeatherSneakers   \n",
       "\n",
       "                          Price  \n",
       "1                      Rs. 6999  \n",
       "2     Rs. 8099Rs. 8999(10% OFF)  \n",
       "3                      Rs. 8295  \n",
       "4                      Rs. 6999  \n",
       "5                     Rs. 13495  \n",
       "..                          ...  \n",
       "96                     Rs. 7990  \n",
       "97                     Rs. 8999  \n",
       "98                     Rs. 7990  \n",
       "99                     Rs. 6990  \n",
       "100  Rs. 7343Rs. 10490(30% OFF)  \n",
       "\n",
       "[100 rows x 3 columns]"
      ]
     },
     "execution_count": 54,
     "metadata": {},
     "output_type": "execute_result"
    }
   ],
   "source": [
    "df=pd.DataFrame({})\n",
    "df['Brand']=final_brand\n",
    "df['Prouct_desc']=final_shoe_desc\n",
    "df['Price']=final_price\n",
    "df.reset_index(drop=True,inplace=True)\n",
    "df.index+=1\n",
    "df"
   ]
  },
  {
   "cell_type": "markdown",
   "metadata": {},
   "source": [
    "# Q10:  Go to webpage https://www.amazon.in/    Enter “Laptop” in the search field and then click the search icon.\n",
    "Then set CPU Type filter to “Intel Core i7” and “Intel Core i9” as shown in the below image\n",
    "After setting the filters scrape first 10 laptops data. You have to scrape 3 attributes for each laptop:\n",
    "1. title \n",
    "2. Ratings \n",
    "3. Price"
   ]
  },
  {
   "cell_type": "code",
   "execution_count": 62,
   "metadata": {},
   "outputs": [
    {
     "data": {
      "text/plain": [
       "<selenium.webdriver.remote.webelement.WebElement (session=\"fe3c73f4e9e4a03e968c1bce13baac79\", element=\"5695efe2-c8f3-4036-8b6c-3c2b6440ee70\")>"
      ]
     },
     "execution_count": 62,
     "metadata": {},
     "output_type": "execute_result"
    }
   ],
   "source": [
    "url=' https://www.amazon.in/'\n",
    "driver.get(url)\n",
    "search_keyword= driver.find_element_by_id(\"twotabsearchtextbox\")\n",
    "search_keyword"
   ]
  },
  {
   "cell_type": "code",
   "execution_count": 63,
   "metadata": {},
   "outputs": [],
   "source": [
    "search_keyword.send_keys(\"Laptop\")\n",
    "\n",
    "search_btn=driver.find_element_by_id(\"nav-search-submit-button\")\n",
    "#search_btn\n",
    "search_btn.click()"
   ]
  },
  {
   "cell_type": "code",
   "execution_count": 70,
   "metadata": {},
   "outputs": [],
   "source": [
    "#searching Intel Core i7\n",
    "filter_button=driver.find_elements_by_xpath('//a[@class=\"a-link-normal s-navigation-item\"]/span')\n",
    "for i in filter_button:\n",
    "    if i.text==\"Intel Core i7\":\n",
    "        i.click()\n",
    "        break\n"
   ]
  },
  {
   "cell_type": "code",
   "execution_count": 71,
   "metadata": {},
   "outputs": [],
   "source": [
    "#searching Intel Core i7\n",
    "filter_button=driver.find_elements_by_xpath('//a[@class=\"a-link-normal s-navigation-item\"]/span')\n",
    "for i in filter_button:\n",
    "    if i.text==\"Intel Core i9\":\n",
    "        i.click()\n",
    "        break"
   ]
  },
  {
   "cell_type": "code",
   "execution_count": 72,
   "metadata": {},
   "outputs": [],
   "source": [
    "urls=[]\n",
    "for i in driver.find_elements_by_xpath('//a[@class=\"a-link-normal a-text-normal\"]'):\n",
    "    urls.append(i.get_attribute('href'))"
   ]
  },
  {
   "cell_type": "code",
   "execution_count": 73,
   "metadata": {},
   "outputs": [
    {
     "data": {
      "text/plain": [
       "['https://www.amazon.in/gp/slredirect/picassoRedirect.html/ref=pa_sp_atf_computers_sr_pg1_1?ie=UTF8&adId=A10081262K6KZOZ37JXYV&url=%2FHP-Processor-13-3-inch-Touchscreen-13-ba1018TX%2Fdp%2FB091FJ13Q5%2Fref%3Dsr_1_1_sspa%3Fdchild%3D1%26keywords%3DLaptop%26qid%3D1631294774%26refinements%3Dp_n_feature_thirteen_browse-bin%253A12598163031%257C16757432031%26rnid%3D12598141031%26s%3Dcomputers%26sr%3D1-1-spons%26psc%3D1&qualifier=1631294774&id=8028637251795682&widgetName=sp_atf',\n",
       " 'https://www.amazon.in/Lenovo-IdeaPad-Windows-Graphics-82H1002CIN/dp/B094XJPQ6N/ref=sr_1_2?dchild=1&keywords=Laptop&qid=1631294774&refinements=p_n_feature_thirteen_browse-bin%3A12598163031%7C16757432031&rnid=12598141031&s=computers&sr=1-2',\n",
       " 'https://www.amazon.in/ASUS-Dash-F15-15-6-inch-i7-11370H-FX516PC-HN063T/dp/B096KVJ5PC/ref=sr_1_3?dchild=1&keywords=Laptop&qid=1631294774&refinements=p_n_feature_thirteen_browse-bin%3A12598163031%7C16757432031&rnid=12598141031&s=computers&sr=1-3',\n",
       " 'https://www.amazon.in/Notebook-Horizon-i7-10510U-Graphics-XMA1904-AF/dp/B089DFJHZ8/ref=sr_1_4?dchild=1&keywords=Laptop&qid=1631294774&refinements=p_n_feature_thirteen_browse-bin%3A12598163031%7C16757432031&rnid=12598141031&s=computers&sr=1-4',\n",
       " 'https://www.amazon.in/Lenovo-IdeaPad-250Nits-Graphics-81Y4019EIN/dp/B097TZMG7R/ref=sr_1_5?dchild=1&keywords=Laptop&qid=1631294774&refinements=p_n_feature_thirteen_browse-bin%3A12598163031%7C16757432031&rnid=12598141031&s=computers&sr=1-5',\n",
       " 'https://www.amazon.in/Asus-G703GI-E5148T-17-3-inch-i9-8950HK-Processor/dp/B07GRCW51K/ref=sr_1_6?dchild=1&keywords=Laptop&qid=1631294774&refinements=p_n_feature_thirteen_browse-bin%3A12598163031%7C16757432031&rnid=12598141031&s=computers&sr=1-6',\n",
       " 'https://www.amazon.in/ASUS-17-3-inch-i7-11800H-GeForce-RTX-3050-Ti-FX766HE-HX022T/dp/B0987S6PG1/ref=sr_1_7?dchild=1&keywords=Laptop&qid=1631294774&refinements=p_n_feature_thirteen_browse-bin%3A12598163031%7C16757432031&rnid=12598141031&s=computers&sr=1-7',\n",
       " 'https://www.amazon.in/Fujitsu-33-78cm-Convertible-Graphics-4ZR1D71993/dp/B098P4M233/ref=sr_1_8?dchild=1&keywords=Laptop&qid=1631294774&refinements=p_n_feature_thirteen_browse-bin%3A12598163031%7C16757432031&rnid=12598141031&s=computers&sr=1-8',\n",
       " 'https://www.amazon.in/MSI-i7-10750H-IPS-Level-Windows-10SCXR-654IN/dp/B093L8QGL7/ref=sr_1_9?dchild=1&keywords=Laptop&qid=1631294774&refinements=p_n_feature_thirteen_browse-bin%3A12598163031%7C16757432031&rnid=12598141031&s=computers&sr=1-9',\n",
       " 'https://www.amazon.in/HP-Pavilion-13-3-inch-Ceramic-13-bb0078TU/dp/B09839P9XB/ref=sr_1_10?dchild=1&keywords=Laptop&qid=1631294774&refinements=p_n_feature_thirteen_browse-bin%3A12598163031%7C16757432031&rnid=12598141031&s=computers&sr=1-10',\n",
       " 'https://www.amazon.in/Acer-39-62cms-Graphics-GeForce-AN515-57/dp/B09C8HZMW2/ref=sr_1_11?dchild=1&keywords=Laptop&qid=1631294774&refinements=p_n_feature_thirteen_browse-bin%3A12598163031%7C16757432031&rnid=12598141031&s=computers&sr=1-11',\n",
       " 'https://www.amazon.in/Fujitsu-33-78cm-Graphics-Fingerprint-4ZR1D67596/dp/B098P34QRL/ref=sr_1_12?dchild=1&keywords=Laptop&qid=1631294774&refinements=p_n_feature_thirteen_browse-bin%3A12598163031%7C16757432031&rnid=12598141031&s=computers&sr=1-12',\n",
       " 'https://www.amazon.in/ASUS-ZenBook-i7-1165G7-Graphics-UX425EA-BM701TS/dp/B08M4SWRR5/ref=sr_1_13?dchild=1&keywords=Laptop&qid=1631294774&refinements=p_n_feature_thirteen_browse-bin%3A12598163031%7C16757432031&rnid=12598141031&s=computers&sr=1-13',\n",
       " 'https://www.amazon.in/gp/slredirect/picassoRedirect.html/ref=pa_sp_mtf_computers_sr_pg1_1?ie=UTF8&adId=A00766773MSMG2AO2CGIQ&url=%2FAcer-Swift-Display-Touchscreen-Notebook%2Fdp%2FB08M41DHTV%2Fref%3Dsr_1_14_sspa%3Fdchild%3D1%26keywords%3DLaptop%26qid%3D1631294774%26refinements%3Dp_n_feature_thirteen_browse-bin%253A12598163031%257C16757432031%26rnid%3D12598141031%26s%3Dcomputers%26sr%3D1-14-spons%26psc%3D1&qualifier=1631294774&id=8028637251795682&widgetName=sp_mtf',\n",
       " 'https://www.amazon.in/15-6-inch-HP-ZBook-15-Workstation/dp/B09DQ2ZKRS/ref=sr_1_15?dchild=1&keywords=Laptop&qid=1631294774&refinements=p_n_feature_thirteen_browse-bin%3A12598163031%7C16757432031&rnid=12598141031&s=computers&sr=1-15',\n",
       " 'https://www.amazon.in/ASUS-ZenBook-i7-1165G7-Graphics-UX425EA-KI701TS/dp/B0983W8HR4/ref=sr_1_16?dchild=1&keywords=Laptop&qid=1631294774&refinements=p_n_feature_thirteen_browse-bin%3A12598163031%7C16757432031&rnid=12598141031&s=computers&sr=1-16',\n",
       " 'https://www.amazon.in/HP-Pavilion-15-6-inch-Graphics-15-dk2075tx/dp/B09BDBCRNZ/ref=sr_1_17?dchild=1&keywords=Laptop&qid=1631294774&refinements=p_n_feature_thirteen_browse-bin%3A12598163031%7C16757432031&rnid=12598141031&s=computers&sr=1-17',\n",
       " 'https://www.amazon.in/13-3-inch-TOUCHSCREEN-Integrated-Graphics-EliteBook/dp/B09CMZLGYG/ref=sr_1_18?dchild=1&keywords=Laptop&qid=1631294774&refinements=p_n_feature_thirteen_browse-bin%3A12598163031%7C16757432031&rnid=12598141031&s=computers&sr=1-18',\n",
       " 'https://www.amazon.in/ASUS-15-6-inch-i7-11800H-GeForce-RTX-3050-FX566HC-HN093T/dp/B0987SKPZ3/ref=sr_1_19?dchild=1&keywords=Laptop&qid=1631294774&refinements=p_n_feature_thirteen_browse-bin%3A12598163031%7C16757432031&rnid=12598141031&s=computers&sr=1-19',\n",
       " 'https://www.amazon.in/ASUS-i7-1165G7-35-56cms-Graphics-UX325EA-KG701TS/dp/B095C55Q7P/ref=sr_1_20?dchild=1&keywords=Laptop&qid=1631294774&refinements=p_n_feature_thirteen_browse-bin%3A12598163031%7C16757432031&rnid=12598141031&s=computers&sr=1-20',\n",
       " 'https://www.amazon.in/MSI-GF65-Thin-10SDR-Gaming/dp/B097JY1CDV/ref=sr_1_21?dchild=1&keywords=Laptop&qid=1631294774&refinements=p_n_feature_thirteen_browse-bin%3A12598163031%7C16757432031&rnid=12598141031&s=computers&sr=1-21',\n",
       " 'https://www.amazon.in/15-6-inch-HP-ZBook-15-Workstation/dp/B09DQ3FLRD/ref=sr_1_22?dchild=1&keywords=Laptop&qid=1631294774&refinements=p_n_feature_thirteen_browse-bin%3A12598163031%7C16757432031&rnid=12598141031&s=computers&sr=1-22',\n",
       " 'https://www.amazon.in/15-6-inch-HP-ZBook-15-Workstation/dp/B09DQ4DZ5N/ref=sr_1_23?dchild=1&keywords=Laptop&qid=1631294774&refinements=p_n_feature_thirteen_browse-bin%3A12598163031%7C16757432031&rnid=12598141031&s=computers&sr=1-23',\n",
       " 'https://www.amazon.in/ASUS-VivoBook-i7-1165G7-Graphics-S433EA-AM701TS/dp/B08PQTZB3Z/ref=sr_1_24?dchild=1&keywords=Laptop&qid=1631294774&refinements=p_n_feature_thirteen_browse-bin%3A12598163031%7C16757432031&rnid=12598141031&s=computers&sr=1-24',\n",
       " 'https://www.amazon.in/15-6-inch-HP-ZBook-15-Workstation/dp/B09DQ437H3/ref=sr_1_25?dchild=1&keywords=Laptop&qid=1631294774&refinements=p_n_feature_thirteen_browse-bin%3A12598163031%7C16757432031&rnid=12598141031&s=computers&sr=1-25',\n",
       " 'https://www.amazon.in/15-6-inch-HP-ZBook-15-Workstation/dp/B09DQ33KWV/ref=sr_1_26?dchild=1&keywords=Laptop&qid=1631294774&refinements=p_n_feature_thirteen_browse-bin%3A12598163031%7C16757432031&rnid=12598141031&s=computers&sr=1-26']"
      ]
     },
     "execution_count": 73,
     "metadata": {},
     "output_type": "execute_result"
    }
   ],
   "source": [
    "urls"
   ]
  },
  {
   "cell_type": "code",
   "execution_count": 74,
   "metadata": {},
   "outputs": [],
   "source": [
    "title=[]\n",
    "for i in urls:\n",
    "    \n",
    "    driver.get(i)\n",
    "    time.sleep(3)\n",
    "    #extracting rating of iphone\n",
    "    try:\n",
    "        title_tags= driver.find_elements_by_id('productTitle')\n",
    "        for j in title_tags:\n",
    "            title.append(j.text)          \n",
    "    except:\n",
    "            title.append(\"-\")"
   ]
  },
  {
   "cell_type": "code",
   "execution_count": 75,
   "metadata": {},
   "outputs": [
    {
     "data": {
      "text/plain": [
       "26"
      ]
     },
     "execution_count": 75,
     "metadata": {},
     "output_type": "execute_result"
    }
   ],
   "source": [
    "len(title)"
   ]
  },
  {
   "cell_type": "code",
   "execution_count": 86,
   "metadata": {},
   "outputs": [],
   "source": [
    "final_title=title[:10]"
   ]
  },
  {
   "cell_type": "code",
   "execution_count": 87,
   "metadata": {},
   "outputs": [
    {
     "data": {
      "text/plain": [
       "['HP Envy 11th Gen Core i7 Processor 13.3-inch (33.78 cms) FHD Touchscreen Laptop (16GB/1TB SSD/Win 10/NVIDIA MX450 2GB/Natural Silver/1.3 kg), 13-ba1018TX',\n",
       " 'Lenovo IdeaPad S540 11th Gen Intel Core i7 13.3\" QHD IPS Thin & Light Laptop (16GB/512GB SSD/Windows 10/MS Office 2019/Intel Iris Xe Graphics/Iron Grey/1.28Kg), 82H1002CIN',\n",
       " 'ASUS TUF Dash F15 (2021), 15.6-inch (39.62 cms) FHD 144Hz, Intel Core i7-11370H 11th Gen, RTX 3050 4GB Graphics Gaming Laptop (16GB RAM/512GB SSD/Windows 10/Gray/2 kg), FX516PC-HN063T',\n",
       " 'Mi Notebook Horizon Edition 14 Intel Core i7-10510U 10th Gen Thin and Light Laptop(8GB/512GB SSD/Windows 10/Nvidia MX350 2GB Graphics/Grey/1.35Kg)(Without Webcam) XMA1904-AF',\n",
       " 'Lenovo IdeaPad Gaming 3 Intel Core i7 10th Gen 15.6\" FHD IPS 250Nits Gaming Laptop (8GB/512GB SSD/Win10/NVIDIA GTX 1650 4GB GDDR6 Graphics/120Hz/Onyx Black/2.2Kg), 81Y4019EIN',\n",
       " 'ASUS ROG G703GI-E5148T 17.3\" (43.94 cms) FHD 144Hz/3ms Gaming Laptop (8th Gen Intel Core i9-8950HK/64GB/2TB SSHD + 1.5TB NVMe SSD/Windows 10/GTX 1080 8GB Graphics/4.70 Kg), Aluminum',\n",
       " 'ASUS TUF Gaming F17 (2021), 17.3-inch (43.94 cms) FHD 144Hz, Intel Core i7-11800H 11th Gen, GeForce RTX 3050 Ti 4GB Graphics, Gaming Laptop (16GB/1TB SSD/Windows 10/Eclipse Gray/2.6 Kg) FX766HE-HX022T',\n",
       " 'Fujitsu UH-X 11th Gen Intel Core i7 13.3” (33.78cm) FHD IPS 400Nits 2-in1 Touch Convertible Laptop (16GB/1TB SSD/Win10/Office/Iris Xe Graphics/Backlit Kb/Black/997gms), 4ZR1D71993',\n",
       " 'MSI GF75 Thin, Intel i7-10750H, 17.3\" (43.9 cm) FHD IPS-Level 144Hz Panel Laptop (8GB/512GB NVMe SSD/Windows 10 Home/Nvidia GTX1650 4GB GDDR6/Black/2.2Kg), 10SCXR-654IN',\n",
       " 'HP Pavilion 13(2021) 11th Gen Intel Core i7 Laptop, 16GB RAM, 1TB SSD, 13.3-inch(33.8 cm) FHD Screen, Win 10, MS Office, Ceramic White, 1.24 Kg (13-bb0078TU)']"
      ]
     },
     "execution_count": 87,
     "metadata": {},
     "output_type": "execute_result"
    }
   ],
   "source": [
    "final_title"
   ]
  },
  {
   "cell_type": "code",
   "execution_count": null,
   "metadata": {},
   "outputs": [],
   "source": []
  },
  {
   "cell_type": "code",
   "execution_count": 76,
   "metadata": {},
   "outputs": [],
   "source": [
    "rating=[]\n",
    "for i in urls:\n",
    "    \n",
    "    driver.get(i)\n",
    "    time.sleep(3)\n",
    "    #extracting rating of iphone\n",
    "    try:\n",
    "        rating_tags= driver.find_elements_by_id('acrCustomerReviewText')\n",
    "        for j in rating_tags:\n",
    "            rating.append(j.text)          \n",
    "    except:\n",
    "            rating.append(\"-\")"
   ]
  },
  {
   "cell_type": "code",
   "execution_count": 77,
   "metadata": {},
   "outputs": [
    {
     "data": {
      "text/plain": [
       "40"
      ]
     },
     "execution_count": 77,
     "metadata": {},
     "output_type": "execute_result"
    }
   ],
   "source": [
    "len(rating)"
   ]
  },
  {
   "cell_type": "code",
   "execution_count": 78,
   "metadata": {},
   "outputs": [
    {
     "data": {
      "text/plain": [
       "['231 ratings',\n",
       " '231 ratings',\n",
       " '100 ratings',\n",
       " '100 ratings',\n",
       " '4 ratings',\n",
       " '4 ratings',\n",
       " '813 ratings',\n",
       " '813 ratings',\n",
       " '65 ratings',\n",
       " '65 ratings',\n",
       " '31 ratings',\n",
       " '31 ratings',\n",
       " '27 ratings',\n",
       " '27 ratings',\n",
       " '18 ratings',\n",
       " '18 ratings',\n",
       " '4 ratings',\n",
       " '4 ratings',\n",
       " '1 rating',\n",
       " '1 rating',\n",
       " '29 ratings',\n",
       " '29 ratings',\n",
       " '387 ratings',\n",
       " '387 ratings',\n",
       " '34 ratings',\n",
       " '34 ratings',\n",
       " '3 ratings',\n",
       " '3 ratings',\n",
       " '29 ratings',\n",
       " '29 ratings',\n",
       " '3 ratings',\n",
       " '3 ratings',\n",
       " '5 ratings',\n",
       " '5 ratings',\n",
       " '3 ratings',\n",
       " '3 ratings',\n",
       " '1 rating',\n",
       " '1 rating',\n",
       " '257 ratings',\n",
       " '257 ratings']"
      ]
     },
     "execution_count": 78,
     "metadata": {},
     "output_type": "execute_result"
    }
   ],
   "source": [
    "rating"
   ]
  },
  {
   "cell_type": "code",
   "execution_count": 83,
   "metadata": {},
   "outputs": [
    {
     "data": {
      "text/plain": [
       "['231 ratings',\n",
       " '100 ratings',\n",
       " '4 ratings',\n",
       " '813 ratings',\n",
       " '65 ratings',\n",
       " '31 ratings',\n",
       " '27 ratings',\n",
       " '18 ratings',\n",
       " '4 ratings',\n",
       " '1 rating',\n",
       " '29 ratings',\n",
       " '387 ratings',\n",
       " '34 ratings',\n",
       " '3 ratings',\n",
       " '29 ratings',\n",
       " '3 ratings',\n",
       " '5 ratings',\n",
       " '3 ratings',\n",
       " '1 rating',\n",
       " '257 ratings']"
      ]
     },
     "execution_count": 83,
     "metadata": {},
     "output_type": "execute_result"
    }
   ],
   "source": [
    "rating1=rating[0::2]\n",
    "rating1"
   ]
  },
  {
   "cell_type": "code",
   "execution_count": 84,
   "metadata": {},
   "outputs": [
    {
     "data": {
      "text/plain": [
       "['231 ratings',\n",
       " '100 ratings',\n",
       " '4 ratings',\n",
       " '813 ratings',\n",
       " '65 ratings',\n",
       " '31 ratings',\n",
       " '27 ratings',\n",
       " '18 ratings',\n",
       " '4 ratings',\n",
       " '1 rating']"
      ]
     },
     "execution_count": 84,
     "metadata": {},
     "output_type": "execute_result"
    }
   ],
   "source": [
    "final_rating=rating1[:10]\n",
    "final_rating"
   ]
  },
  {
   "cell_type": "code",
   "execution_count": 88,
   "metadata": {},
   "outputs": [],
   "source": [
    "price=[]\n",
    "for i in urls:\n",
    "    \n",
    "    driver.get(i)\n",
    "    time.sleep(3)\n",
    "    #extracting rating of iphone\n",
    "    try:\n",
    "        price_tags= driver.find_elements_by_xpath('//span[@class=\"a-size-medium a-color-price priceBlockBuyingPriceString\"]')\n",
    "        for j in price_tags:\n",
    "            price.append(j.text)          \n",
    "    except:\n",
    "            price.append(\"-\")"
   ]
  },
  {
   "cell_type": "code",
   "execution_count": 89,
   "metadata": {},
   "outputs": [
    {
     "data": {
      "text/plain": [
       "24"
      ]
     },
     "execution_count": 89,
     "metadata": {},
     "output_type": "execute_result"
    }
   ],
   "source": [
    "len(price)"
   ]
  },
  {
   "cell_type": "code",
   "execution_count": 90,
   "metadata": {},
   "outputs": [
    {
     "data": {
      "text/plain": [
       "['₹1,23,550.00',\n",
       " '₹77,990.00',\n",
       " '₹87,990.00',\n",
       " '₹57,990.00',\n",
       " '₹73,990.00',\n",
       " '₹1,13,990.00',\n",
       " '₹1,07,990.00',\n",
       " '₹74,990.00',\n",
       " '₹92,990.00',\n",
       " '₹92,990.00',\n",
       " '₹99,990.00',\n",
       " '₹94,955.00',\n",
       " '₹47,999.00',\n",
       " '₹96,900.00',\n",
       " '₹93,190.00',\n",
       " '₹63,999.00',\n",
       " '₹96,990.00',\n",
       " '₹1,01,910.00',\n",
       " '₹92,890.00',\n",
       " '₹46,999.00',\n",
       " '₹52,999.00',\n",
       " '₹81,290.00',\n",
       " '₹41,999.00',\n",
       " '₹50,999.00']"
      ]
     },
     "execution_count": 90,
     "metadata": {},
     "output_type": "execute_result"
    }
   ],
   "source": [
    "price"
   ]
  },
  {
   "cell_type": "code",
   "execution_count": 91,
   "metadata": {},
   "outputs": [
    {
     "data": {
      "text/plain": [
       "['₹1,23,550.00',\n",
       " '₹77,990.00',\n",
       " '₹87,990.00',\n",
       " '₹57,990.00',\n",
       " '₹73,990.00',\n",
       " '₹1,13,990.00',\n",
       " '₹1,07,990.00',\n",
       " '₹74,990.00',\n",
       " '₹92,990.00',\n",
       " '₹92,990.00']"
      ]
     },
     "execution_count": 91,
     "metadata": {},
     "output_type": "execute_result"
    }
   ],
   "source": [
    "final_price=price[:10]\n",
    "final_price"
   ]
  },
  {
   "cell_type": "code",
   "execution_count": 92,
   "metadata": {},
   "outputs": [
    {
     "data": {
      "text/html": [
       "<div>\n",
       "<style scoped>\n",
       "    .dataframe tbody tr th:only-of-type {\n",
       "        vertical-align: middle;\n",
       "    }\n",
       "\n",
       "    .dataframe tbody tr th {\n",
       "        vertical-align: top;\n",
       "    }\n",
       "\n",
       "    .dataframe thead th {\n",
       "        text-align: right;\n",
       "    }\n",
       "</style>\n",
       "<table border=\"1\" class=\"dataframe\">\n",
       "  <thead>\n",
       "    <tr style=\"text-align: right;\">\n",
       "      <th></th>\n",
       "      <th>Title</th>\n",
       "      <th>Rating</th>\n",
       "      <th>Price</th>\n",
       "    </tr>\n",
       "  </thead>\n",
       "  <tbody>\n",
       "    <tr>\n",
       "      <th>1</th>\n",
       "      <td>HP Envy 11th Gen Core i7 Processor 13.3-inch (...</td>\n",
       "      <td>231 ratings</td>\n",
       "      <td>₹1,23,550.00</td>\n",
       "    </tr>\n",
       "    <tr>\n",
       "      <th>2</th>\n",
       "      <td>Lenovo IdeaPad S540 11th Gen Intel Core i7 13....</td>\n",
       "      <td>100 ratings</td>\n",
       "      <td>₹77,990.00</td>\n",
       "    </tr>\n",
       "    <tr>\n",
       "      <th>3</th>\n",
       "      <td>ASUS TUF Dash F15 (2021), 15.6-inch (39.62 cms...</td>\n",
       "      <td>4 ratings</td>\n",
       "      <td>₹87,990.00</td>\n",
       "    </tr>\n",
       "    <tr>\n",
       "      <th>4</th>\n",
       "      <td>Mi Notebook Horizon Edition 14 Intel Core i7-1...</td>\n",
       "      <td>813 ratings</td>\n",
       "      <td>₹57,990.00</td>\n",
       "    </tr>\n",
       "    <tr>\n",
       "      <th>5</th>\n",
       "      <td>Lenovo IdeaPad Gaming 3 Intel Core i7 10th Gen...</td>\n",
       "      <td>65 ratings</td>\n",
       "      <td>₹73,990.00</td>\n",
       "    </tr>\n",
       "    <tr>\n",
       "      <th>6</th>\n",
       "      <td>ASUS ROG G703GI-E5148T 17.3\" (43.94 cms) FHD 1...</td>\n",
       "      <td>31 ratings</td>\n",
       "      <td>₹1,13,990.00</td>\n",
       "    </tr>\n",
       "    <tr>\n",
       "      <th>7</th>\n",
       "      <td>ASUS TUF Gaming F17 (2021), 17.3-inch (43.94 c...</td>\n",
       "      <td>27 ratings</td>\n",
       "      <td>₹1,07,990.00</td>\n",
       "    </tr>\n",
       "    <tr>\n",
       "      <th>8</th>\n",
       "      <td>Fujitsu UH-X 11th Gen Intel Core i7 13.3” (33....</td>\n",
       "      <td>18 ratings</td>\n",
       "      <td>₹74,990.00</td>\n",
       "    </tr>\n",
       "    <tr>\n",
       "      <th>9</th>\n",
       "      <td>MSI GF75 Thin, Intel i7-10750H, 17.3\" (43.9 cm...</td>\n",
       "      <td>4 ratings</td>\n",
       "      <td>₹92,990.00</td>\n",
       "    </tr>\n",
       "    <tr>\n",
       "      <th>10</th>\n",
       "      <td>HP Pavilion 13(2021) 11th Gen Intel Core i7 La...</td>\n",
       "      <td>1 rating</td>\n",
       "      <td>₹92,990.00</td>\n",
       "    </tr>\n",
       "  </tbody>\n",
       "</table>\n",
       "</div>"
      ],
      "text/plain": [
       "                                                Title       Rating  \\\n",
       "1   HP Envy 11th Gen Core i7 Processor 13.3-inch (...  231 ratings   \n",
       "2   Lenovo IdeaPad S540 11th Gen Intel Core i7 13....  100 ratings   \n",
       "3   ASUS TUF Dash F15 (2021), 15.6-inch (39.62 cms...    4 ratings   \n",
       "4   Mi Notebook Horizon Edition 14 Intel Core i7-1...  813 ratings   \n",
       "5   Lenovo IdeaPad Gaming 3 Intel Core i7 10th Gen...   65 ratings   \n",
       "6   ASUS ROG G703GI-E5148T 17.3\" (43.94 cms) FHD 1...   31 ratings   \n",
       "7   ASUS TUF Gaming F17 (2021), 17.3-inch (43.94 c...   27 ratings   \n",
       "8   Fujitsu UH-X 11th Gen Intel Core i7 13.3” (33....   18 ratings   \n",
       "9   MSI GF75 Thin, Intel i7-10750H, 17.3\" (43.9 cm...    4 ratings   \n",
       "10  HP Pavilion 13(2021) 11th Gen Intel Core i7 La...     1 rating   \n",
       "\n",
       "           Price  \n",
       "1   ₹1,23,550.00  \n",
       "2     ₹77,990.00  \n",
       "3     ₹87,990.00  \n",
       "4     ₹57,990.00  \n",
       "5     ₹73,990.00  \n",
       "6   ₹1,13,990.00  \n",
       "7   ₹1,07,990.00  \n",
       "8     ₹74,990.00  \n",
       "9     ₹92,990.00  \n",
       "10    ₹92,990.00  "
      ]
     },
     "execution_count": 92,
     "metadata": {},
     "output_type": "execute_result"
    }
   ],
   "source": [
    "df=pd.DataFrame({})\n",
    "df['Title']=final_title\n",
    "df['Rating']=final_rating\n",
    "df['Price']=final_price\n",
    "df.reset_index(drop=True,inplace=True)\n",
    "df.index+=1\n",
    "df"
   ]
  },
  {
   "cell_type": "code",
   "execution_count": null,
   "metadata": {},
   "outputs": [],
   "source": []
  }
 ],
 "metadata": {
  "kernelspec": {
   "display_name": "Python 3",
   "language": "python",
   "name": "python3"
  },
  "language_info": {
   "codemirror_mode": {
    "name": "ipython",
    "version": 3
   },
   "file_extension": ".py",
   "mimetype": "text/x-python",
   "name": "python",
   "nbconvert_exporter": "python",
   "pygments_lexer": "ipython3",
   "version": "3.8.5"
  }
 },
 "nbformat": 4,
 "nbformat_minor": 4
}
