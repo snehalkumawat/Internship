{
 "cells": [
  {
   "cell_type": "markdown",
   "metadata": {},
   "source": [
    "# Selenium Web Scrapping Assignment -3"
   ]
  },
  {
   "cell_type": "code",
   "execution_count": 2,
   "metadata": {},
   "outputs": [],
   "source": [
    "import pandas as pd\n",
    "import selenium\n",
    "from selenium import webdriver\n",
    "import time\n",
    "import re\n",
    "import requests\n",
    "from selenium.common.exceptions import NoSuchElementException\n"
   ]
  },
  {
   "cell_type": "code",
   "execution_count": 3,
   "metadata": {},
   "outputs": [
    {
     "name": "stderr",
     "output_type": "stream",
     "text": [
      "<ipython-input-3-ad7386f855be>:1: DeprecationWarning: executable_path has been deprecated, please pass in a Service object\n",
      "  driver=webdriver.Chrome(r'C:\\Users\\lenovo\\Downloads\\chromedriver_win32 (2)\\chromedriver.exe')\n"
     ]
    }
   ],
   "source": [
    "driver=webdriver.Chrome(r'C:\\Users\\lenovo\\Downloads\\chromedriver_win32 (2)\\chromedriver.exe')"
   ]
  },
  {
   "cell_type": "markdown",
   "metadata": {},
   "source": [
    "# 1.Write a python program which searches all the product under a particular product vertical from www.amazon.in. The product verticals to be searched will be taken as input from user.\n",
    "For e.g. If user input is ‘guitar’. Then search for guitars"
   ]
  },
  {
   "cell_type": "code",
   "execution_count": 216,
   "metadata": {},
   "outputs": [
    {
     "data": {
      "text/plain": [
       "<selenium.webdriver.remote.webelement.WebElement (session=\"1fba7691e1809e0f50ea1a7ab1438323\", element=\"2cfac1c9-f881-4a60-9911-0d9cc7aa501e\")>"
      ]
     },
     "execution_count": 216,
     "metadata": {},
     "output_type": "execute_result"
    }
   ],
   "source": [
    "url=' https://www.amazon.in/'\n",
    "driver.get(url)\n",
    "search_keyword= driver.find_element_by_id(\"twotabsearchtextbox\")\n",
    "search_keyword"
   ]
  },
  {
   "cell_type": "code",
   "execution_count": 217,
   "metadata": {},
   "outputs": [],
   "source": [
    "search_keyword.send_keys(\"Guitar\")\n",
    "\n",
    "search_btn=driver.find_element_by_id(\"nav-search-submit-button\")\n",
    "#search_btn\n",
    "search_btn.click()"
   ]
  },
  {
   "cell_type": "markdown",
   "metadata": {},
   "source": [
    "# 2.In the above question, now scrape the following details of each product listed in first 3 pages of your search results and save it in a data frame and csv. In case if any product vertical has less than 3 pages in search results then scrape all the products available under that product vertical. \n",
    "Details to be scraped are: \"Brand Name\", \"Name of the Product\", \"Rating\", \"No. of \n",
    "Ratings\", \"Price\", \"Return/Exchange\", \"Expected Delivery\", \"Availability\", \"Other Details\" \n",
    "and “Product URL”. In case, if any of the details are missing for any of the product then \n",
    "replace it by “-“"
   ]
  },
  {
   "cell_type": "code",
   "execution_count": 5,
   "metadata": {},
   "outputs": [],
   "source": [
    "urls=[]\n",
    "for i in driver.find_elements_by_xpath('//a[@class=\"a-link-normal a-text-normal\"]'):\n",
    "    urls.append(i.get_attribute('href'))"
   ]
  },
  {
   "cell_type": "code",
   "execution_count": 12,
   "metadata": {},
   "outputs": [
    {
     "data": {
      "text/plain": [
       "['https://www.amazon.in/gp/slredirect/picassoRedirect.html/ref=pa_sp_atf_aps_sr_pg1_1?ie=UTF8&adId=A09285301NZJT1BBLJ0LW&url=%2FKadence-Frontier-Acoustic-Foldable-Strings%2Fdp%2FB01CJJGEVS%2Fref%3Dsr_1_1_sspa%3Fdchild%3D1%26keywords%3DGuitar%26qid%3D1632305920%26sr%3D8-1-spons%26psc%3D1%26smid%3DAM04Z7MH4HSDD&qualifier=1632305920&id=7140907281020937&widgetName=sp_atf',\n",
       " 'https://www.amazon.in/gp/slredirect/picassoRedirect.html/ref=pa_sp_atf_aps_sr_pg1_1?ie=UTF8&adId=A0046612372SWJAK5T57D&url=%2FKadence-Frontier-Acoustic-Equalizer-Strings%2Fdp%2FB01HRIHH9E%2Fref%3Dsr_1_2_sspa%3Fdchild%3D1%26keywords%3DGuitar%26qid%3D1632305920%26sr%3D8-2-spons%26psc%3D1&qualifier=1632305920&id=7140907281020937&widgetName=sp_atf',\n",
       " 'https://www.amazon.in/gp/slredirect/picassoRedirect.html/ref=pa_sp_atf_aps_sr_pg1_1?ie=UTF8&adId=A0528919Z76DI1ZWKTMU&url=%2FJuarez-Acoustic-Cutaway-038C-Strings%2Fdp%2FB017NPCSLI%2Fref%3Dsr_1_3_sspa%3Fdchild%3D1%26keywords%3DGuitar%26qid%3D1632305920%26sr%3D8-3-spons%26psc%3D1&qualifier=1632305920&id=7140907281020937&widgetName=sp_atf',\n",
       " 'https://www.amazon.in/gp/slredirect/picassoRedirect.html/ref=pa_sp_atf_aps_sr_pg1_1?ie=UTF8&adId=A042638325AAZDB9HJ8FF&url=%2FARCTIC-Guitar-Truss-String-Standard%2Fdp%2FB08F43MXBB%2Fref%3Dsr_1_4_sspa%3Fdchild%3D1%26keywords%3DGuitar%26qid%3D1632305920%26sr%3D8-4-spons%26psc%3D1&qualifier=1632305920&id=7140907281020937&widgetName=sp_atf',\n",
       " 'https://www.amazon.in/Juarez-Acoustic-Cutaway-038C-Strings/dp/B017NPCSLI/ref=sr_1_5?dchild=1&keywords=Guitar&qid=1632305920&sr=8-5',\n",
       " 'https://www.amazon.in/Intern-INT-38C-Acoustic-Guitar-Black/dp/B073B6TQQY/ref=sr_1_6?dchild=1&keywords=Guitar&qid=1632305920&sr=8-6',\n",
       " 'https://www.amazon.in/JUAREZ-JRZ38C-Acoustic-Sunburst-Strings/dp/B01FYYTDS6/ref=sr_1_7?dchild=1&keywords=Guitar&qid=1632305920&sr=8-7',\n",
       " 'https://aax-eu.amazon.in/x/c/QnJDY09FWJ41JNvTpndXCo4AAAF8DQO5VgMAAAH2AXhE8FE/https://www.amazon.in/dp/B0757H5P13?pd_rd_i=B0757H5P13&pd_rd_w=0mPuY&pf_rd_p=a75ba368-11d2-4ce4-98f8-b19ed03dc54e&pd_rd_wg=xriyr&pf_rd_r=46FGW3Z52X43N1GHFTT9&pd_rd_r=65dbf07a-7d05-4ddd-b63b-1c2939bf0ca3',\n",
       " 'https://www.amazon.in/Juarez-Acoustic-Cutaway-038C-Strings/dp/B017NPCSLI/ref=sxin_13?asc_contentid=amzn1.osa.60ae4b7d-e0a9-448c-9a85-59b559175a42.A21TJRUUN4KGV.en_IN&asc_contenttype=article&ascsubtag=amzn1.osa.60ae4b7d-e0a9-448c-9a85-59b559175a42.A21TJRUUN4KGV.en_IN&creativeASIN=B017NPCSLI&cv_ct_cx=Guitar&cv_ct_id=amzn1.osa.60ae4b7d-e0a9-448c-9a85-59b559175a42.A21TJRUUN4KGV.en_IN&cv_ct_pg=search&cv_ct_we=asin&cv_ct_wn=osp-single-source-earns-comm&dchild=1&keywords=Guitar&linkCode=oas&pd_rd_i=B017NPCSLI&pd_rd_r=65dbf07a-7d05-4ddd-b63b-1c2939bf0ca3&pd_rd_w=l17u2&pd_rd_wg=xriyr&pf_rd_p=0e89a72f-7500-4160-954f-faff18efeda5&pf_rd_r=46FGW3Z52X43N1GHFTT9&qid=1632305920&sr=1-1-61f4c597-7a45-4a97-bd75-c52903f8ee93&tag=toimsp-21',\n",
       " 'https://www.amazon.in/Intern-INT-38C-Acoustic-Guitar-Kit/dp/B073B6TF31/ref=sxin_13?asc_contentid=amzn1.osa.60ae4b7d-e0a9-448c-9a85-59b559175a42.A21TJRUUN4KGV.en_IN&asc_contenttype=article&ascsubtag=amzn1.osa.60ae4b7d-e0a9-448c-9a85-59b559175a42.A21TJRUUN4KGV.en_IN&creativeASIN=B073B6TF31&cv_ct_cx=Guitar&cv_ct_id=amzn1.osa.60ae4b7d-e0a9-448c-9a85-59b559175a42.A21TJRUUN4KGV.en_IN&cv_ct_pg=search&cv_ct_we=asin&cv_ct_wn=osp-single-source-earns-comm&dchild=1&keywords=Guitar&linkCode=oas&pd_rd_i=B073B6TF31&pd_rd_r=65dbf07a-7d05-4ddd-b63b-1c2939bf0ca3&pd_rd_w=l17u2&pd_rd_wg=xriyr&pf_rd_p=0e89a72f-7500-4160-954f-faff18efeda5&pf_rd_r=46FGW3Z52X43N1GHFTT9&qid=1632305920&sr=1-2-61f4c597-7a45-4a97-bd75-c52903f8ee93&tag=toimsp-21',\n",
       " 'https://www.amazon.in/Jixing-Strings-Acoustic-Guitars-Black/dp/B00V5ZCVQA/ref=sxin_13?asc_contentid=amzn1.osa.60ae4b7d-e0a9-448c-9a85-59b559175a42.A21TJRUUN4KGV.en_IN&asc_contenttype=article&ascsubtag=amzn1.osa.60ae4b7d-e0a9-448c-9a85-59b559175a42.A21TJRUUN4KGV.en_IN&creativeASIN=B00V5ZCVQA&cv_ct_cx=Guitar&cv_ct_id=amzn1.osa.60ae4b7d-e0a9-448c-9a85-59b559175a42.A21TJRUUN4KGV.en_IN&cv_ct_pg=search&cv_ct_we=asin&cv_ct_wn=osp-single-source-earns-comm&dchild=1&keywords=Guitar&linkCode=oas&pd_rd_i=B00V5ZCVQA&pd_rd_r=65dbf07a-7d05-4ddd-b63b-1c2939bf0ca3&pd_rd_w=l17u2&pd_rd_wg=xriyr&pf_rd_p=0e89a72f-7500-4160-954f-faff18efeda5&pf_rd_r=46FGW3Z52X43N1GHFTT9&qid=1632305920&sr=1-3-61f4c597-7a45-4a97-bd75-c52903f8ee93&tag=toimsp-21',\n",
       " 'https://www.amazon.in/Kadence-Acoustica-Ash-Wood-Equlizer/dp/B0757H5P13/ref=sxin_13?asc_contentid=amzn1.osa.60ae4b7d-e0a9-448c-9a85-59b559175a42.A21TJRUUN4KGV.en_IN&asc_contenttype=article&ascsubtag=amzn1.osa.60ae4b7d-e0a9-448c-9a85-59b559175a42.A21TJRUUN4KGV.en_IN&creativeASIN=B0757H5P13&cv_ct_cx=Guitar&cv_ct_id=amzn1.osa.60ae4b7d-e0a9-448c-9a85-59b559175a42.A21TJRUUN4KGV.en_IN&cv_ct_pg=search&cv_ct_we=asin&cv_ct_wn=osp-single-source-earns-comm&dchild=1&keywords=Guitar&linkCode=oas&pd_rd_i=B0757H5P13&pd_rd_r=65dbf07a-7d05-4ddd-b63b-1c2939bf0ca3&pd_rd_w=l17u2&pd_rd_wg=xriyr&pf_rd_p=0e89a72f-7500-4160-954f-faff18efeda5&pf_rd_r=46FGW3Z52X43N1GHFTT9&qid=1632305920&sr=1-4-61f4c597-7a45-4a97-bd75-c52903f8ee93&tag=toimsp-21',\n",
       " 'https://www.amazon.in/JUAREZ-JRZ38C-Acoustic-Sunburst-Strings/dp/B01FYYTDTU/ref=sr_1_8?dchild=1&keywords=Guitar&qid=1632305920&sr=8-8',\n",
       " 'https://www.amazon.in/Rosewood-Fretboard-Acoustic-Strings-K-Retail/dp/B07KLG8C4P/ref=sr_1_9?dchild=1&keywords=Guitar&qid=1632305920&sr=8-9',\n",
       " 'https://www.amazon.in/Acoustic-Cutaway-RDS-Strings-Sunburst/dp/B076QGY91P/ref=sr_1_10?dchild=1&keywords=Guitar&qid=1632305920&sr=8-10',\n",
       " 'https://www.amazon.in/Ju%C3%A2rez-JRZ38C-WH-Strings-Acoustic/dp/B072MFK4L6/ref=sr_1_11?dchild=1&keywords=Guitar&qid=1632305920&sr=8-11',\n",
       " 'https://www.amazon.in/Juarez-JRZ38C-ASH-Strings-Acoustic/dp/B072JTPNZC/ref=sr_1_12?dchild=1&keywords=Guitar&qid=1632305920&sr=8-12',\n",
       " 'https://www.amazon.in/Intern-INT-38C-RD-G-Guitar-Kit-Red/dp/B07K959RKX/ref=sr_1_13?dchild=1&keywords=Guitar&qid=1632305920&sr=8-13',\n",
       " 'https://www.amazon.in/Juarez-Acoustic-Cutaway-BK-Strings/dp/B076T3RHMG/ref=sr_1_14?dchild=1&keywords=Guitar&qid=1632305920&sr=8-14',\n",
       " 'https://www.amazon.in/JUAREZ-JRZ38C-Handed-Acoustic-Strings/dp/B01FYYTDX6/ref=sr_1_15?dchild=1&keywords=Guitar&qid=1632305920&sr=8-15',\n",
       " 'https://www.amazon.in/JRZ38C-Strings-Acoustic-Cutaway-Mahogany/dp/B071JM8C6T/ref=sr_1_16?dchild=1&keywords=Guitar&qid=1632305920&sr=8-16',\n",
       " 'https://www.amazon.in/JUAREZ-Acoustic-Cutaway-TBLS-Sunburst/dp/B098BCCY75/ref=sr_1_17?dchild=1&keywords=Guitar&qid=1632305920&sr=8-17',\n",
       " 'https://www.amazon.in/Juarez-Strings-Acoustic-Cutaway-Zebrawood/dp/B072Q9L8DG/ref=sr_1_18?dchild=1&keywords=Guitar&qid=1632305920&sr=8-18',\n",
       " 'https://www.amazon.in/Kordz-Luana-Natural-Rosewood-Fretboard/dp/B07V4Y1V9M/ref=sr_1_19?dchild=1&keywords=Guitar&qid=1632305920&sr=8-19',\n",
       " 'https://www.amazon.in/Henrix-Cutaway-Acoustic-Die-cast-Dual-action/dp/B07VHSCGCG/ref=sr_1_20?dchild=1&keywords=Guitar&qid=1632305920&sr=8-20',\n",
       " 'https://www.amazon.in/gp/slredirect/picassoRedirect.html/ref=pa_sp_mtf_aps_sr_pg1_1?ie=UTF8&adId=A05526033IRBM3EGN70OT&url=%2FJuarez-Acoustic-Guitar-Cutaway-Strings%2Fdp%2FB075XMRKMY%2Fref%3Dsr_1_21_sspa%3Fdchild%3D1%26keywords%3DGuitar%26qid%3D1632305920%26sr%3D8-21-spons%26psc%3D1&qualifier=1632305920&id=7140907281020937&widgetName=sp_mtf',\n",
       " 'https://www.amazon.in/gp/slredirect/picassoRedirect.html/ref=pa_sp_mtf_aps_sr_pg1_1?ie=UTF8&adId=A05529153ADPVPTMUHDPL&url=%2FJu%25C3%25A2rez-JRZ38C-WH-Strings-Acoustic%2Fdp%2FB072MFK4L6%2Fref%3Dsr_1_22_sspa%3Fdchild%3D1%26keywords%3DGuitar%26qid%3D1632305920%26sr%3D8-22-spons%26psc%3D1&qualifier=1632305920&id=7140907281020937&widgetName=sp_mtf',\n",
       " 'https://www.amazon.in/gp/slredirect/picassoRedirect.html/ref=pa_sp_mtf_aps_sr_pg1_1?ie=UTF8&adId=A09973261WA62YRALFVDD&url=%2FBlueberry-Acoustic-Guitar-inbuilt-Truss-rod%2Fdp%2FB08T8HW3K7%2Fref%3Dsr_1_23_sspa%3Fdchild%3D1%26keywords%3DGuitar%26qid%3D1632305920%26sr%3D8-23-spons%26psc%3D1&qualifier=1632305920&id=7140907281020937&widgetName=sp_mtf',\n",
       " 'https://www.amazon.in/Henrix-Acoustic-Guitar-Die-cast-Dual-action/dp/B07VHRWV4R/ref=sr_1_24?dchild=1&keywords=Guitar&qid=1632305920&sr=8-24',\n",
       " 'https://www.amazon.in/Kadence-Frontier-Acoustic-Guitar-Strings/dp/B01GDZ46AA/ref=sr_1_25?dchild=1&keywords=Guitar&qid=1632305920&sr=8-25',\n",
       " 'https://www.amazon.in/JUAREZ-Acoustic-3TS-Sunburst-JRZ38CL/dp/B098BD1MHM/ref=sr_1_26?dchild=1&keywords=Guitar&qid=1632305920&sr=8-26',\n",
       " 'https://www.amazon.in/Intern-INT-38C-Natural-Acoustic-Guitar/dp/B07X4LPJ6H/ref=sr_1_27?dchild=1&keywords=Guitar&qid=1632305920&sr=8-27',\n",
       " 'https://www.amazon.in/HYMET-4-String-Acoustic-Guitar-Learning/dp/B093QDX9MR/ref=sr_1_28?dchild=1&keywords=Guitar&qid=1632305920&sr=8-28',\n",
       " 'https://www.amazon.in/Mustang-Strings-Changing-Including-Beginner/dp/B07S19LGLR/ref=sr_1_29?dchild=1&keywords=Guitar&qid=1632305920&sr=8-29',\n",
       " 'https://www.amazon.in/chhogli-4-string-acoustic-learning-18-Multi/dp/B097ZJGFJ8/ref=sr_1_30?dchild=1&keywords=Guitar&qid=1632305920&sr=8-30',\n",
       " 'https://www.amazon.in/DEVICE-URBAN-INFOTECH-Acoustic-Semi-closed/dp/B08Y7LMRBR/ref=sr_1_31?dchild=1&keywords=Guitar&qid=1632305920&sr=8-31',\n",
       " 'https://www.amazon.in/Henrix-Cutaway-acoustic-guitar-Blueburst/dp/B097NCQFFM/ref=sr_1_32?dchild=1&keywords=Guitar&qid=1632305920&sr=8-32',\n",
       " 'https://www.amazon.in/Crizer-Childrens-Instrument-Educational-Instruments/dp/B08R7J8LLM/ref=sr_1_33?dchild=1&keywords=Guitar&qid=1632305920&sr=8-33',\n",
       " 'https://www.amazon.in/SAAN-Life-Science-Instrument-Educational/dp/B08QFQRRYV/ref=sr_1_34?dchild=1&keywords=Guitar&qid=1632305920&sr=8-34',\n",
       " 'https://www.amazon.in/Kordz-Luana-Rosewood-Fretboard-Acoustic/dp/B09FFM9VSH/ref=sr_1_35?dchild=1&keywords=Guitar&qid=1632305920&sr=8-35',\n",
       " 'https://www.amazon.in/DIKUJI-ENTERPRISE-Childrens-Instrument-Educational/dp/B09271DWCL/ref=sr_1_36?dchild=1&keywords=Guitar&qid=1632305920&sr=8-36',\n",
       " 'https://www.amazon.in/DAddario-EZ900-Acoustic-Guitar-Strings/dp/B016BPK3QI/ref=sr_1_37?dchild=1&keywords=Guitar&qid=1632305920&sr=8-37',\n",
       " 'https://www.amazon.in/Guitar-Ukulele-Chromatic-Rotating-Accurate/dp/B08XBN94LC/ref=sr_1_38?dchild=1&keywords=Guitar&qid=1632305920&sr=8-38',\n",
       " 'https://www.amazon.in/KREEPO-Fretboard-Fingerboard-Acoustic-Electric-Multicolor/dp/B09DWY4ZK2/ref=sr_1_39?dchild=1&keywords=Guitar&qid=1632305920&sr=8-39',\n",
       " 'https://www.amazon.in/Martin-Smith-W-101-N-PK-Acoustic-Natural/dp/B00UOUK4IE/ref=sr_1_40?dchild=1&keywords=Guitar&qid=1632305920&sr=8-40',\n",
       " 'https://www.amazon.in/JUAREZ-Acoustic-Cutaway-Rosewood-Fretboard/dp/B08GZZ6SQ2/ref=sr_1_41?dchild=1&keywords=Guitar&qid=1632305920&sr=8-41',\n",
       " 'https://www.amazon.in/Enterprise-Childrens-Instrument-Educational-Instruments/dp/B08XQMRVG8/ref=sr_1_42?dchild=1&keywords=Guitar&qid=1632305920&sr=8-42',\n",
       " 'https://www.amazon.in/JUAREZ-JRZ38CTR-BK-Acoustic-Guitar/dp/B08FTZK7H8/ref=sr_1_43?dchild=1&keywords=Guitar&qid=1632305920&sr=8-43',\n",
       " 'https://www.amazon.in/calldrishe-Acoustic-Adjustable-Classical-Instrument/dp/B099F74M78/ref=sr_1_44?dchild=1&keywords=Guitar&qid=1632305920&sr=8-44',\n",
       " 'https://www.amazon.in/SHAYONA-4-String-Acoustic-Guitar-Learning/dp/B08PFMZ3H3/ref=sr_1_45?dchild=1&keywords=Guitar&qid=1632305920&sr=8-45',\n",
       " 'https://www.amazon.in/Yamaha-Acoustic-Guitar-Tobacco-Sunburst/dp/B08VXR74Q2/ref=sr_1_46?dchild=1&keywords=Guitar&qid=1632305920&sr=8-46',\n",
       " 'https://www.amazon.in/OFKLADE-Portable-Practice-Trainer-Exerciser/dp/B09DKGPNZ7/ref=sr_1_47?dchild=1&keywords=Guitar&qid=1632305920&sr=8-47',\n",
       " 'https://www.amazon.in/Ibanez-IBA-MD39CNT-Acoustic-Guitar-MD39C-NT/dp/B07G4CCMYL/ref=sr_1_48?dchild=1&keywords=Guitar&qid=1632305920&sr=8-48',\n",
       " 'https://www.amazon.in/JUAREZ-Fi%C3%A9sta-Acoustic-Rosewood-Fretboard/dp/B08GZZVCB7/ref=sr_1_49?dchild=1&keywords=Guitar&qid=1632305920&sr=8-49',\n",
       " 'https://www.amazon.in/TECHBLAZE-Acoustic-Guitar-Strings-Accessory/dp/B0917488X1/ref=sr_1_50?dchild=1&keywords=Guitar&qid=1632305920&sr=8-50',\n",
       " 'https://www.amazon.in/Martin-Smith-W-101-BK-PK-Acoustic-Guitar/dp/B019MY0YE6/ref=sr_1_51?dchild=1&keywords=Guitar&qid=1632305920&sr=8-51',\n",
       " 'https://www.amazon.in/Yamaha-FS-100C-6-String-Acoustic-without/dp/B00PAS9CK6/ref=sr_1_52?dchild=1&keywords=Guitar&qid=1632305920&sr=8-52',\n",
       " 'https://www.amazon.in/Techblaze-Calibration-Accurate-Electronic-Specialized/dp/B08334S5FD/ref=sr_1_53?dchild=1&keywords=Guitar&qid=1632305920&sr=8-53',\n",
       " 'https://www.amazon.in/HRB-MUSICALS-Guitar-black-fitting/dp/B08KHS1F99/ref=sr_1_54?dchild=1&keywords=Guitar&qid=1632305920&sr=8-54',\n",
       " 'https://www.amazon.in/JUAREZ-GUITAR-JRZ41VG-BK-BLACK/dp/B08MWB6TG7/ref=sr_1_55?dchild=1&keywords=Guitar&qid=1632305920&sr=8-55',\n",
       " 'https://www.amazon.in/gp/slredirect/picassoRedirect.html/ref=pa_sp_btf_aps_sr_pg1_1?ie=UTF8&adId=A0528619304VOJHZ1ZW3A&url=%2FJUAREZ-JRZ38C-Handed-Acoustic-Strings%2Fdp%2FB01FYYTDW2%2Fref%3Dsr_1_56_sspa%3Fdchild%3D1%26keywords%3DGuitar%26qid%3D1632305920%26sr%3D8-56-spons%26psc%3D1&qualifier=1632305920&id=7140907281020937&widgetName=sp_btf',\n",
       " 'https://www.amazon.in/gp/slredirect/picassoRedirect.html/ref=pa_sp_btf_aps_sr_pg1_1?ie=UTF8&adId=A0529019Z4WI8URNKIKB&url=%2FJUAREZ-JRZ38C-Acoustic-Sunburst-Strings%2Fdp%2FB01FYYTDS6%2Fref%3Dsr_1_57_sspa%3Fdchild%3D1%26keywords%3DGuitar%26qid%3D1632305920%26sr%3D8-57-spons%26psc%3D1&qualifier=1632305920&id=7140907281020937&widgetName=sp_btf',\n",
       " 'https://www.amazon.in/gp/slredirect/picassoRedirect.html/ref=pa_sp_btf_aps_sr_pg1_1?ie=UTF8&adId=A05527032N9IT75WKKM1M&url=%2FJRZ38C-Strings-Acoustic-Cutaway-Mahogany%2Fdp%2FB071JM8C6T%2Fref%3Dsr_1_58_sspa%3Fdchild%3D1%26keywords%3DGuitar%26qid%3D1632305920%26sr%3D8-58-spons%26psc%3D1&qualifier=1632305920&id=7140907281020937&widgetName=sp_btf',\n",
       " 'https://www.amazon.in/gp/slredirect/picassoRedirect.html/ref=pa_sp_btf_aps_sr_pg1_1?ie=UTF8&adId=A0426203J75UKPQ05KNR&url=%2FARCTIC-Guitar-Truss-Picks-String%2Fdp%2FB08F43H4RZ%2Fref%3Dsr_1_59_sspa%3Fdchild%3D1%26keywords%3DGuitar%26qid%3D1632305920%26sr%3D8-59-spons%26psc%3D1&qualifier=1632305920&id=7140907281020937&widgetName=sp_btf',\n",
       " 'https://www.amazon.in/gp/slredirect/picassoRedirect.html/ref=pa_sp_btf_aps_sr_pg1_1?ie=UTF8&adId=A01675571SM9UNKQNW38K&url=%2FJUAREZ-Acoustic-Guitar-3TS-Sunburst%2Fdp%2FB08FV1KHTT%2Fref%3Dsr_1_60_sspa%3Fdchild%3D1%26keywords%3DGuitar%26qid%3D1632305920%26sr%3D8-60-spons%26psc%3D1&qualifier=1632305920&id=7140907281020937&widgetName=sp_btf']"
      ]
     },
     "execution_count": 12,
     "metadata": {},
     "output_type": "execute_result"
    }
   ],
   "source": [
    "urls"
   ]
  },
  {
   "cell_type": "code",
   "execution_count": 136,
   "metadata": {},
   "outputs": [],
   "source": [
    "title=[]\n",
    "for i in urls:\n",
    "    \n",
    "    driver.get(i)\n",
    "    time.sleep(3)\n",
    "    #extracting rating of iphone\n",
    "    try:\n",
    "        title_tags= driver.find_elements_by_id('productTitle')\n",
    "        for j in title_tags:\n",
    "            title.append(j.text)          \n",
    "    except:\n",
    "            title.append(\"-\")"
   ]
  },
  {
   "cell_type": "code",
   "execution_count": 137,
   "metadata": {},
   "outputs": [
    {
     "data": {
      "text/plain": [
       "65"
      ]
     },
     "execution_count": 137,
     "metadata": {},
     "output_type": "execute_result"
    }
   ],
   "source": [
    "len(title)"
   ]
  },
  {
   "cell_type": "code",
   "execution_count": 138,
   "metadata": {},
   "outputs": [
    {
     "data": {
      "text/plain": [
       "['Medellin 38in Premium All Wood Acoustic Guitar Starter Kit (Blue, Super Combo Combo with Bag, Strap, Picks, String Set, Tuner, Stand, Capo)',\n",
       " 'Kadence Guitar Frontier Series, Blue Acoustic Guitar with Die Cast Keys, Set of Strings, Strap, Picks, Guitar stand, Capo and Bag, Super Combo (Blue, Acoustic)',\n",
       " 'Kadence Frontier Jumbo Semi Acoustic Guitar With Die Cast Keys Super Combo (Bag, 1 pack Strings, Strap, Picks, Capo, Tuner (natural)',\n",
       " 'Juârez Acoustic Guitar, 38 Inch Cutaway, 038C with Bag, Strings, Pick and Strap, Black',\n",
       " 'Juârez Acoustic Guitar, 38 Inch Cutaway, 038C with Bag, Strings, Pick and Strap, Black',\n",
       " 'Intern INT-38C Acoustic Guitar Kit, With Bag, Strings, Pick And Strap, Black',\n",
       " 'Juarez JRZ38C Acoustic Guitar, 38 Inch Cutaway with Bag (TBS Transparent Blue Sunburst)',\n",
       " 'Kadence Guitar Acoustica Series, Electric Acoustic Guitar, Ash Wood with Pickup and Inbuilt tuner (Ash Wood, Electro Acoustic)',\n",
       " 'Fender CD 60 Dread V3 DS 6 String Acoustic Guitar - Walnut Fretboard-Black',\n",
       " 'Epiphone AJ-220S Acoustic Guitar, Vintage Sunburst',\n",
       " 'Ibanez V50NJP-NT Acoustic Guitar Pre Pack, Dreadnought, Natural High Gloss',\n",
       " 'Yamaha FS100C Acoustic Guitar, Black',\n",
       " 'JUAREZ JRZ38C Right Handed Acoustic Guitar (Sunburst, 6 Strings)',\n",
       " 'Hovner 215 Black F-Cut Rosewood Fretboard Acoustic Guitar With Bag,Strap,1 Set of Extra Strings and 2 Picks By K-Retail',\n",
       " 'Juarez Acoustic Guitar, 38 Inch Cutaway with Pick Guard, 38C/RDS with Bag, Strings, Pick and Strap, Red Sunburst',\n",
       " 'Juârez JRZ38C/WH 6 Strings Acoustic Guitar 38 Inch Cutaway, Right Handed, White with Bag, Strings, Picks and Strap',\n",
       " 'Juârez JRZ38C/ASH 6 Strings Acoustic Guitar 38 Inch Cutaway, Right Handed, Ash with Bag, Strings, Picks and Strap',\n",
       " \"D'Addario EZ900 Acoustic Guitar Strings, Pack of 2\",\n",
       " 'Juarez Acoustic Guitar, [ LEFT HANDED] 38 Inch Cutaway, 38CL/BK with Bag, Strings, Pick and Strap, Black',\n",
       " 'Juârez Acoustic Guitar, 38 Inch Cutaway, JRZ38C with Bag, Strings, Pick and Strap, Blue',\n",
       " 'Juârez JRZ38C/MAH 6 Strings Acoustic Guitar 38 Inch Cutaway, Right Handed, Mahogany with Bag, Strings, Picks and Strap',\n",
       " 'Medellin MED-BLU-C Linden Wood Acoustic Guitar',\n",
       " 'Intern INT-38C-RD-G Cutaway Right Handed Acoustic Guitar Kit, With Bag, Strings, Pick And Strap (Red, 6 Strings)',\n",
       " 'JUAREZ Acoustic Guitar, [LEFT HANDED] 38 Inch Cutaway, 38CL/TBLS with Bag, Strings, Pick and Strap, Blue Sunburst',\n",
       " 'Henrix 38 Acoustic Guitar with Die-cast Tuners and Dual-action Truss Rod - Includes Picks, Bag, Strings, Strap, Polishing Cloth and String Winder',\n",
       " 'Blueberry 38C IN Acoustic Guitar Kit with Bag,Belt & Picks inbuilt Truss-rod (Blue)',\n",
       " 'Juârez JRZ38C/MAH 6 Strings Acoustic Guitar 38 Inch Cutaway, Right Handed, Mahogany with Bag, Strings, Picks and Strap',\n",
       " 'Martin Smith W-101-N-PK Acoustic Guitar Super Kit with Stand (Natural)',\n",
       " 'HYMET 4-String Acoustic Guitar Learning Kids Toy, Brown 23\" (Brown)',\n",
       " 'Henrix 38 Acoustic Right Handed Guitar (Natural) with Die-cast Tuners and Dual-action Truss Rod - Includes Picks, Bag, Strings, Strap, Polishing Cloth and E-Book',\n",
       " 'Kadence Frontier Series, Acoustic Guitar With/Wihtout EQ Die Cast Keys Combo (Bag,strap,strings and 3 picks) (Brown, Acoustic)',\n",
       " 'JUAREZ Acoustic Guitar, [LEFT HANDED] 38 Inch Cutaway, 38CL/3TS with Bag, Strings, Pick and Strap, 3TS Sunburst (JRZ38CL/3TS)',\n",
       " 'Intern INT-38C Natural Acoustic Guitar kit with carry bag & picks',\n",
       " 'Henrix 38C Blue Burst Cutaway acoustic guitar with bag,strap, string set,4pcs picks, string winder, polish cloth, normal box (Blueburst)',\n",
       " 'DEVICE OF URBAN INFOTECH Tuning Peg Silver for Acoustic Guitar Parts Tuners Keys Semi-closed Guitar String Tuning Pegs Tuner Machine Heads Knobs Tuning Keys for Acoustic & Electric Guitar 3R+3L (6PCS)',\n",
       " \"Crizer 4 String Guitar Children's Musical Instrument Educational Toy Guitar Ukulele Instruments Beginner Musical Sound Toys Best Gift for Children\",\n",
       " 'SAAN Life Science 4-string Small Acoustic Guitar Musical Instrument Educational Learning kids Toy for Beginners - 23Inch',\n",
       " 'PSB Guitar for Kids - 4 String Guitar Musical Instrument Learning Kids Toy ( 17 Inches )',\n",
       " \"DIKUJI ENTERPRISE 6 String Decor Guitar Children's Musical Instrument Educational Toy Guitar for Beginners Kids Childs (Color May Vary)\",\n",
       " 'Toy Mall Kids Guitar Toys for Kids 4-String Acoustic Guitar Musical Instrument Learning Toy for Kids ( 17 inches )- Multi Color',\n",
       " 'Guitar Tuner Tuner Guitar Tuner Clip On for Guitar Ukulele Violin Viola Bass Chromatic Tuning Modes 360 Degree Rotating Fast & Accurate',\n",
       " 'Mustang 46 PCS Guitar Strings Changing Kit Guitar Tool Kit Including Guitar Strings Guitar Tuner Picks Capo Pins Guitar String Cutter and Winder for Beginner',\n",
       " 'KREEPO Guitar Fretboard Sticker Fingerboard Frets Note Chart Decals Stickers Beginner Learner Acoustic-Electric Guitar Multicolor(9.1cm X 14.5cm)',\n",
       " 'JUAREZ JRZ38CTR/BK 38 Inch Acoustic Guitar with Dual Action Truss Rod, Bag, Picks, Allen Key, Extra String Set, Black',\n",
       " 'JUAREZ Fiésta 41 Inch Acoustic Guitar with Dual Action Truss Rod, 21 Frets Rosewood Fretboard & Bridge, Padded 5mm Cotton Bag, Cotton Strap, 2 Picks, Allen Key, Extra String Set, Brown',\n",
       " \"Exegi Enterprise 4 String Guitar Children's Musical Instrument Educational Toy Guitar Ukulele Instruments Beginner Musical Sound Toys Best Gift for Children (Brown)\",\n",
       " 'Yamaha F280 Acoustic Guitar, Tobacco Brown Sunburst',\n",
       " 'JUAREZ Fiésta 41 Inch Acoustic Guitar Cutaway with Dual Action Truss Rod, 21 Frets Rosewood Fretboard & Bridge, Padded 5mm Cotton Bag, Cotton Strap, 2 Picks, Allen Key, Extra String Set, Black',\n",
       " 'Kordz Luana Blue 41 Inch Rosewood Fretboard Acoustic Guitar With Bag,Strap,1 Set of Extra Strings and 2 Picks',\n",
       " 'Juarez Acoustic Guitar, 38 Inch Cutaway with Pick Guard, 38CPG with Bag, Strings, Pick and Strap, Black',\n",
       " 'chhogli 4-string acoustic guitar learning kids toy, brown 18-Multi color',\n",
       " 'SHAYONA 4-String Acoustic Guitar Learning Kids Toy, Brown 18\"',\n",
       " 'calldrishe String Acoustic Guitar | Adjustable Tunning Knob | Classical Guitar Toy | Musical Instrument Learning Toy for Kids',\n",
       " 'OFKLADE Portable 6 Frets Wood Practice Pocket Guitar Trainer Tool Finger Exerciser',\n",
       " 'WAH NOTION® 4-String Acoustic Enthusiasm Battery Operated Rockband Guitar Walnut Guitar Learning Kids Toy,18\" Classic Model First Edition 2021',\n",
       " 'Kordz Luana Natural Wooden 41 Inch Rosewood Fretboard Acoustic Guitar With Bag,Strap,1 Set of Extra Strings and 2 Picks',\n",
       " 'TECHBLAZE Acoustic Guitar Strings, Guitar Wall Mount, Guitar Metal Capo with 5 picks Best Guitar Accessory Combo Pack',\n",
       " 'Ibanez MD39C-NT Acoustic Guitar (Natural)',\n",
       " 'HRB MUSICALS Guitar black Capo b4 + 2 Guitar Wall mount with fitting + Guitar black strap/Belt (4 Guitar Picks Free)',\n",
       " 'Juârez Acoustic Guitar, 38 Inch Cutaway, JRZ38C with Bag, Strings, Pick and Strap, Blue',\n",
       " 'Juarez JRZ38C Acoustic Guitar, 38 Inch Cutaway with Bag (TBS Transparent Blue Sunburst)',\n",
       " 'Juârez JRZ38C/WH 6 Strings Acoustic Guitar 38 Inch Cutaway, Right Handed, White with Bag, Strings, Picks and Strap',\n",
       " 'Juarez Acoustic Guitar, 38 Inch Cutaway with Pick Guard, 38CPG with Bag, Strings, Pick and Strap, Black',\n",
       " 'ARCTIC Sky series 39\" Guitar (with Truss Rod) with Bag, 3 Picks, Strap & String Set. Standard Pack Black',\n",
       " 'JUAREZ 38 Inch Acoustic Guitar with Dual Action Truss Rod, Bag, Picks, Allen Key, Extra String Set, 3TS Sunburst']"
      ]
     },
     "execution_count": 138,
     "metadata": {},
     "output_type": "execute_result"
    }
   ],
   "source": [
    "title"
   ]
  },
  {
   "cell_type": "code",
   "execution_count": 176,
   "metadata": {},
   "outputs": [
    {
     "data": {
      "text/plain": [
       "['Medellin 38in Premium All Wood Acoustic Guitar Starter Kit (Blue, Super Combo Combo with Bag, Strap, Picks, String Set, Tuner, Stand, Capo)',\n",
       " 'Kadence Guitar Frontier Series, Blue Acoustic Guitar with Die Cast Keys, Set of Strings, Strap, Picks, Guitar stand, Capo and Bag, Super Combo (Blue, Acoustic)',\n",
       " 'Kadence Frontier Jumbo Semi Acoustic Guitar With Die Cast Keys Super Combo (Bag, 1 pack Strings, Strap, Picks, Capo, Tuner (natural)',\n",
       " 'Juârez Acoustic Guitar, 38 Inch Cutaway, 038C with Bag, Strings, Pick and Strap, Black',\n",
       " 'Juârez Acoustic Guitar, 38 Inch Cutaway, 038C with Bag, Strings, Pick and Strap, Black',\n",
       " 'Intern INT-38C Acoustic Guitar Kit, With Bag, Strings, Pick And Strap, Black',\n",
       " 'Juarez JRZ38C Acoustic Guitar, 38 Inch Cutaway with Bag (TBS Transparent Blue Sunburst)',\n",
       " 'Kadence Guitar Acoustica Series, Electric Acoustic Guitar, Ash Wood with Pickup and Inbuilt tuner (Ash Wood, Electro Acoustic)',\n",
       " 'Fender CD 60 Dread V3 DS 6 String Acoustic Guitar - Walnut Fretboard-Black',\n",
       " 'Epiphone AJ-220S Acoustic Guitar, Vintage Sunburst',\n",
       " 'Ibanez V50NJP-NT Acoustic Guitar Pre Pack, Dreadnought, Natural High Gloss',\n",
       " 'Yamaha FS100C Acoustic Guitar, Black',\n",
       " 'JUAREZ JRZ38C Right Handed Acoustic Guitar (Sunburst, 6 Strings)',\n",
       " 'Hovner 215 Black F-Cut Rosewood Fretboard Acoustic Guitar With Bag,Strap,1 Set of Extra Strings and 2 Picks By K-Retail',\n",
       " 'Juarez Acoustic Guitar, 38 Inch Cutaway with Pick Guard, 38C/RDS with Bag, Strings, Pick and Strap, Red Sunburst',\n",
       " 'Juârez JRZ38C/WH 6 Strings Acoustic Guitar 38 Inch Cutaway, Right Handed, White with Bag, Strings, Picks and Strap',\n",
       " 'Juârez JRZ38C/ASH 6 Strings Acoustic Guitar 38 Inch Cutaway, Right Handed, Ash with Bag, Strings, Picks and Strap',\n",
       " \"D'Addario EZ900 Acoustic Guitar Strings, Pack of 2\",\n",
       " 'Juarez Acoustic Guitar, [ LEFT HANDED] 38 Inch Cutaway, 38CL/BK with Bag, Strings, Pick and Strap, Black',\n",
       " 'Juârez Acoustic Guitar, 38 Inch Cutaway, JRZ38C with Bag, Strings, Pick and Strap, Blue',\n",
       " 'Juârez JRZ38C/MAH 6 Strings Acoustic Guitar 38 Inch Cutaway, Right Handed, Mahogany with Bag, Strings, Picks and Strap',\n",
       " 'Medellin MED-BLU-C Linden Wood Acoustic Guitar',\n",
       " 'Intern INT-38C-RD-G Cutaway Right Handed Acoustic Guitar Kit, With Bag, Strings, Pick And Strap (Red, 6 Strings)',\n",
       " 'JUAREZ Acoustic Guitar, [LEFT HANDED] 38 Inch Cutaway, 38CL/TBLS with Bag, Strings, Pick and Strap, Blue Sunburst',\n",
       " 'Henrix 38 Acoustic Guitar with Die-cast Tuners and Dual-action Truss Rod - Includes Picks, Bag, Strings, Strap, Polishing Cloth and String Winder',\n",
       " 'Blueberry 38C IN Acoustic Guitar Kit with Bag,Belt & Picks inbuilt Truss-rod (Blue)',\n",
       " 'Juârez JRZ38C/MAH 6 Strings Acoustic Guitar 38 Inch Cutaway, Right Handed, Mahogany with Bag, Strings, Picks and Strap',\n",
       " 'Martin Smith W-101-N-PK Acoustic Guitar Super Kit with Stand (Natural)',\n",
       " 'HYMET 4-String Acoustic Guitar Learning Kids Toy, Brown 23\" (Brown)',\n",
       " 'Henrix 38 Acoustic Right Handed Guitar (Natural) with Die-cast Tuners and Dual-action Truss Rod - Includes Picks, Bag, Strings, Strap, Polishing Cloth and E-Book',\n",
       " 'Kadence Frontier Series, Acoustic Guitar With/Wihtout EQ Die Cast Keys Combo (Bag,strap,strings and 3 picks) (Brown, Acoustic)',\n",
       " 'JUAREZ Acoustic Guitar, [LEFT HANDED] 38 Inch Cutaway, 38CL/3TS with Bag, Strings, Pick and Strap, 3TS Sunburst (JRZ38CL/3TS)',\n",
       " 'Intern INT-38C Natural Acoustic Guitar kit with carry bag & picks']"
      ]
     },
     "execution_count": 176,
     "metadata": {},
     "output_type": "execute_result"
    }
   ],
   "source": [
    "title_n=title[:33:]\n",
    "title_n"
   ]
  },
  {
   "cell_type": "code",
   "execution_count": 140,
   "metadata": {},
   "outputs": [
    {
     "data": {
      "text/plain": [
       "29"
      ]
     },
     "execution_count": 140,
     "metadata": {},
     "output_type": "execute_result"
    }
   ],
   "source": [
    "len(title_n)"
   ]
  },
  {
   "cell_type": "code",
   "execution_count": 196,
   "metadata": {},
   "outputs": [],
   "source": [
    "rating=[]\n",
    "for i in urls:\n",
    "    \n",
    "    driver.get(i)\n",
    "    time.sleep(3)\n",
    "    #extracting rating of iphone\n",
    "    try:\n",
    "        rating_tags= driver.find_elements_by_id('averageCustomerReviews')\n",
    "        for j in rating_tags:\n",
    "            rating.append(j.text)          \n",
    "    except:\n",
    "            rating.append(\"-\")"
   ]
  },
  {
   "cell_type": "code",
   "execution_count": 197,
   "metadata": {},
   "outputs": [
    {
     "data": {
      "text/plain": [
       "114"
      ]
     },
     "execution_count": 197,
     "metadata": {},
     "output_type": "execute_result"
    }
   ],
   "source": [
    "len(rating)"
   ]
  },
  {
   "cell_type": "code",
   "execution_count": 198,
   "metadata": {},
   "outputs": [
    {
     "data": {
      "text/plain": [
       "['593 ratings',\n",
       " '593 ratings',\n",
       " '284 ratings',\n",
       " '284 ratings',\n",
       " '1,027 ratings',\n",
       " '1,027 ratings',\n",
       " '13,044 ratings',\n",
       " '13,044 ratings',\n",
       " '13,044 ratings',\n",
       " '13,044 ratings',\n",
       " '7,049 ratings',\n",
       " '7,049 ratings',\n",
       " '4,392 ratings',\n",
       " '4,392 ratings',\n",
       " '706 ratings',\n",
       " '706 ratings',\n",
       " '743 ratings',\n",
       " '743 ratings',\n",
       " '78 ratings',\n",
       " '78 ratings',\n",
       " '855 ratings',\n",
       " '855 ratings',\n",
       " '197 ratings',\n",
       " '197 ratings',\n",
       " '4,285 ratings',\n",
       " '4,285 ratings',\n",
       " '356 ratings',\n",
       " '356 ratings',\n",
       " '2,846 ratings',\n",
       " '2,846 ratings',\n",
       " '475 ratings',\n",
       " '475 ratings',\n",
       " '201 ratings',\n",
       " '201 ratings',\n",
       " '2,643 ratings',\n",
       " '2,643 ratings',\n",
       " '583 ratings',\n",
       " '583 ratings',\n",
       " '1,074 ratings',\n",
       " '1,074 ratings',\n",
       " '200 ratings',\n",
       " '200 ratings',\n",
       " '593 ratings',\n",
       " '593 ratings',\n",
       " '985 ratings',\n",
       " '985 ratings',\n",
       " '6 ratings',\n",
       " '6 ratings',\n",
       " '675 ratings',\n",
       " '675 ratings',\n",
       " '36 ratings',\n",
       " '36 ratings',\n",
       " '200 ratings',\n",
       " '200 ratings',\n",
       " '3,304 ratings',\n",
       " '3,304 ratings',\n",
       " '1 rating',\n",
       " '1 rating',\n",
       " '84 ratings',\n",
       " '84 ratings',\n",
       " '1,111 ratings',\n",
       " '1,111 ratings',\n",
       " '2 ratings',\n",
       " '2 ratings',\n",
       " '1,407 ratings',\n",
       " '1,407 ratings',\n",
       " '3 ratings',\n",
       " '3 ratings',\n",
       " '87 ratings',\n",
       " '87 ratings',\n",
       " '31 ratings',\n",
       " '31 ratings',\n",
       " '70 ratings',\n",
       " '70 ratings',\n",
       " '1 rating',\n",
       " '1 rating',\n",
       " '14 ratings',\n",
       " '14 ratings',\n",
       " '107 ratings',\n",
       " '107 ratings',\n",
       " '177 ratings',\n",
       " '177 ratings',\n",
       " '27 ratings',\n",
       " '27 ratings',\n",
       " '3 ratings',\n",
       " '3 ratings',\n",
       " '60 ratings',\n",
       " '60 ratings',\n",
       " '57 ratings',\n",
       " '57 ratings',\n",
       " '318 ratings',\n",
       " '318 ratings',\n",
       " '1 rating',\n",
       " '1 rating',\n",
       " '19 ratings',\n",
       " '19 ratings',\n",
       " '192 ratings',\n",
       " '192 ratings',\n",
       " '323 ratings',\n",
       " '323 ratings',\n",
       " '3 ratings',\n",
       " '3 ratings',\n",
       " '1,074 ratings',\n",
       " '1,074 ratings',\n",
       " '4,394 ratings',\n",
       " '4,394 ratings',\n",
       " '475 ratings',\n",
       " '475 ratings',\n",
       " '318 ratings',\n",
       " '318 ratings',\n",
       " '10 ratings',\n",
       " '10 ratings',\n",
       " '73 ratings',\n",
       " '73 ratings']"
      ]
     },
     "execution_count": 198,
     "metadata": {},
     "output_type": "execute_result"
    }
   ],
   "source": [
    "rating"
   ]
  },
  {
   "cell_type": "code",
   "execution_count": 199,
   "metadata": {},
   "outputs": [
    {
     "data": {
      "text/plain": [
       "['593 ratings',\n",
       " '284 ratings',\n",
       " '1,027 ratings',\n",
       " '13,044 ratings',\n",
       " '13,044 ratings',\n",
       " '7,049 ratings',\n",
       " '4,392 ratings',\n",
       " '706 ratings',\n",
       " '743 ratings',\n",
       " '78 ratings',\n",
       " '855 ratings',\n",
       " '197 ratings',\n",
       " '4,285 ratings',\n",
       " '356 ratings',\n",
       " '2,846 ratings',\n",
       " '475 ratings',\n",
       " '201 ratings',\n",
       " '2,643 ratings',\n",
       " '583 ratings',\n",
       " '1,074 ratings',\n",
       " '200 ratings',\n",
       " '593 ratings',\n",
       " '985 ratings',\n",
       " '6 ratings',\n",
       " '675 ratings',\n",
       " '36 ratings',\n",
       " '200 ratings',\n",
       " '3,304 ratings',\n",
       " '1 rating',\n",
       " '84 ratings',\n",
       " '1,111 ratings',\n",
       " '2 ratings',\n",
       " '1,407 ratings',\n",
       " '3 ratings',\n",
       " '87 ratings',\n",
       " '31 ratings',\n",
       " '70 ratings',\n",
       " '1 rating',\n",
       " '14 ratings',\n",
       " '107 ratings',\n",
       " '177 ratings',\n",
       " '27 ratings',\n",
       " '3 ratings',\n",
       " '60 ratings',\n",
       " '57 ratings',\n",
       " '318 ratings',\n",
       " '1 rating',\n",
       " '19 ratings',\n",
       " '192 ratings',\n",
       " '323 ratings',\n",
       " '3 ratings',\n",
       " '1,074 ratings',\n",
       " '4,394 ratings',\n",
       " '475 ratings',\n",
       " '318 ratings',\n",
       " '10 ratings',\n",
       " '73 ratings']"
      ]
     },
     "execution_count": 199,
     "metadata": {},
     "output_type": "execute_result"
    }
   ],
   "source": [
    "rating_ne=rating[0::2]\n",
    "rating_ne"
   ]
  },
  {
   "cell_type": "code",
   "execution_count": 200,
   "metadata": {},
   "outputs": [
    {
     "data": {
      "text/plain": [
       "57"
      ]
     },
     "execution_count": 200,
     "metadata": {},
     "output_type": "execute_result"
    }
   ],
   "source": [
    "len(rating_ne)\n"
   ]
  },
  {
   "cell_type": "code",
   "execution_count": 201,
   "metadata": {},
   "outputs": [
    {
     "data": {
      "text/plain": [
       "['593 ratings',\n",
       " '284 ratings',\n",
       " '1,027 ratings',\n",
       " '13,044 ratings',\n",
       " '13,044 ratings',\n",
       " '7,049 ratings',\n",
       " '4,392 ratings',\n",
       " '706 ratings',\n",
       " '743 ratings',\n",
       " '78 ratings',\n",
       " '855 ratings',\n",
       " '197 ratings',\n",
       " '4,285 ratings',\n",
       " '356 ratings',\n",
       " '2,846 ratings',\n",
       " '475 ratings',\n",
       " '201 ratings',\n",
       " '2,643 ratings',\n",
       " '583 ratings',\n",
       " '1,074 ratings',\n",
       " '200 ratings',\n",
       " '593 ratings',\n",
       " '985 ratings',\n",
       " '6 ratings',\n",
       " '675 ratings',\n",
       " '36 ratings',\n",
       " '200 ratings',\n",
       " '3,304 ratings',\n",
       " '1 rating',\n",
       " '84 ratings',\n",
       " '1,111 ratings',\n",
       " '2 ratings',\n",
       " '1,407 ratings']"
      ]
     },
     "execution_count": 201,
     "metadata": {},
     "output_type": "execute_result"
    }
   ],
   "source": [
    "rating_n=rating_ne[:33:]\n",
    "rating_n"
   ]
  },
  {
   "cell_type": "code",
   "execution_count": 31,
   "metadata": {},
   "outputs": [],
   "source": [
    "num_rating=[]\n",
    "for i in urls:\n",
    "    \n",
    "    driver.get(i)\n",
    "    time.sleep(3)\n",
    "    #extracting rating of iphone\n",
    "    try:\n",
    "        num_rating_tags= driver.find_elements_by_id('acrCustomerReviewText')\n",
    "        for j in num_rating_tags:\n",
    "            num_rating.append(j.text)          \n",
    "    except:\n",
    "            num_rating.append(\"-\")"
   ]
  },
  {
   "cell_type": "code",
   "execution_count": 32,
   "metadata": {},
   "outputs": [
    {
     "data": {
      "text/plain": [
       "116"
      ]
     },
     "execution_count": 32,
     "metadata": {},
     "output_type": "execute_result"
    }
   ],
   "source": [
    "len(num_rating)"
   ]
  },
  {
   "cell_type": "code",
   "execution_count": 33,
   "metadata": {},
   "outputs": [
    {
     "data": {
      "text/plain": [
       "['284 ratings',\n",
       " '284 ratings',\n",
       " '1,027 ratings',\n",
       " '1,027 ratings',\n",
       " '13,029 ratings',\n",
       " '13,029 ratings',\n",
       " '10 ratings',\n",
       " '10 ratings',\n",
       " '13,029 ratings',\n",
       " '13,029 ratings',\n",
       " '7,042 ratings',\n",
       " '7,042 ratings',\n",
       " '4,387 ratings',\n",
       " '4,387 ratings',\n",
       " '705 ratings',\n",
       " '705 ratings',\n",
       " '13,029 ratings',\n",
       " '13,029 ratings',\n",
       " '7,042 ratings',\n",
       " '7,042 ratings',\n",
       " '1,884 ratings',\n",
       " '1,884 ratings',\n",
       " '705 ratings',\n",
       " '705 ratings',\n",
       " '4,285 ratings',\n",
       " '4,285 ratings',\n",
       " '353 ratings',\n",
       " '353 ratings',\n",
       " '2,846 ratings',\n",
       " '2,846 ratings',\n",
       " '475 ratings',\n",
       " '475 ratings',\n",
       " '201 ratings',\n",
       " '201 ratings',\n",
       " '985 ratings',\n",
       " '985 ratings',\n",
       " '581 ratings',\n",
       " '581 ratings',\n",
       " '1,073 ratings',\n",
       " '1,073 ratings',\n",
       " '200 ratings',\n",
       " '200 ratings',\n",
       " '6 ratings',\n",
       " '6 ratings',\n",
       " '127 ratings',\n",
       " '127 ratings',\n",
       " '192 ratings',\n",
       " '192 ratings',\n",
       " '83 ratings',\n",
       " '83 ratings',\n",
       " '318 ratings',\n",
       " '318 ratings',\n",
       " '475 ratings',\n",
       " '475 ratings',\n",
       " '36 ratings',\n",
       " '36 ratings',\n",
       " '674 ratings',\n",
       " '674 ratings',\n",
       " '1,108 ratings',\n",
       " '1,108 ratings',\n",
       " '2 ratings',\n",
       " '2 ratings',\n",
       " '1,407 ratings',\n",
       " '1,407 ratings',\n",
       " '1 rating',\n",
       " '1 rating',\n",
       " '106 ratings',\n",
       " '106 ratings',\n",
       " '3 ratings',\n",
       " '3 ratings',\n",
       " '87 ratings',\n",
       " '87 ratings',\n",
       " '31 ratings',\n",
       " '31 ratings',\n",
       " '1 rating',\n",
       " '1 rating',\n",
       " '2,640 ratings',\n",
       " '2,640 ratings',\n",
       " '14 ratings',\n",
       " '14 ratings',\n",
       " '3,304 ratings',\n",
       " '3,304 ratings',\n",
       " '57 ratings',\n",
       " '57 ratings',\n",
       " '3 ratings',\n",
       " '3 ratings',\n",
       " '176 ratings',\n",
       " '176 ratings',\n",
       " '1 rating',\n",
       " '1 rating',\n",
       " '60 ratings',\n",
       " '60 ratings',\n",
       " '323 ratings',\n",
       " '323 ratings',\n",
       " '26 ratings',\n",
       " '26 ratings',\n",
       " '146 ratings',\n",
       " '146 ratings',\n",
       " '197 ratings',\n",
       " '197 ratings',\n",
       " '10 ratings',\n",
       " '10 ratings',\n",
       " '3 ratings',\n",
       " '3 ratings',\n",
       " '20 ratings',\n",
       " '20 ratings',\n",
       " '1,073 ratings',\n",
       " '1,073 ratings',\n",
       " '4,387 ratings',\n",
       " '4,387 ratings',\n",
       " '200 ratings',\n",
       " '200 ratings',\n",
       " '4 ratings',\n",
       " '4 ratings',\n",
       " '73 ratings',\n",
       " '73 ratings']"
      ]
     },
     "execution_count": 33,
     "metadata": {},
     "output_type": "execute_result"
    }
   ],
   "source": [
    "num_rating"
   ]
  },
  {
   "cell_type": "code",
   "execution_count": 37,
   "metadata": {},
   "outputs": [],
   "source": [
    "num_rating=num_rating[0::2]"
   ]
  },
  {
   "cell_type": "code",
   "execution_count": 39,
   "metadata": {},
   "outputs": [
    {
     "data": {
      "text/plain": [
       "['284 ratings',\n",
       " '1,027 ratings',\n",
       " '13,029 ratings',\n",
       " '10 ratings',\n",
       " '13,029 ratings',\n",
       " '7,042 ratings',\n",
       " '4,387 ratings',\n",
       " '705 ratings',\n",
       " '13,029 ratings',\n",
       " '7,042 ratings',\n",
       " '1,884 ratings',\n",
       " '705 ratings',\n",
       " '4,285 ratings',\n",
       " '353 ratings',\n",
       " '2,846 ratings',\n",
       " '475 ratings',\n",
       " '201 ratings',\n",
       " '985 ratings',\n",
       " '581 ratings',\n",
       " '1,073 ratings',\n",
       " '200 ratings',\n",
       " '6 ratings',\n",
       " '127 ratings',\n",
       " '192 ratings',\n",
       " '83 ratings',\n",
       " '318 ratings',\n",
       " '475 ratings',\n",
       " '36 ratings',\n",
       " '674 ratings',\n",
       " '1,108 ratings',\n",
       " '2 ratings',\n",
       " '1,407 ratings',\n",
       " '1 rating',\n",
       " '106 ratings',\n",
       " '3 ratings',\n",
       " '87 ratings',\n",
       " '31 ratings',\n",
       " '1 rating',\n",
       " '2,640 ratings',\n",
       " '14 ratings',\n",
       " '3,304 ratings',\n",
       " '57 ratings',\n",
       " '3 ratings',\n",
       " '176 ratings',\n",
       " '1 rating',\n",
       " '60 ratings',\n",
       " '323 ratings',\n",
       " '26 ratings',\n",
       " '146 ratings',\n",
       " '197 ratings',\n",
       " '10 ratings',\n",
       " '3 ratings',\n",
       " '20 ratings',\n",
       " '1,073 ratings',\n",
       " '4,387 ratings',\n",
       " '200 ratings',\n",
       " '4 ratings',\n",
       " '73 ratings']"
      ]
     },
     "execution_count": 39,
     "metadata": {},
     "output_type": "execute_result"
    }
   ],
   "source": [
    "num_rating"
   ]
  },
  {
   "cell_type": "code",
   "execution_count": 38,
   "metadata": {},
   "outputs": [
    {
     "data": {
      "text/plain": [
       "58"
      ]
     },
     "execution_count": 38,
     "metadata": {},
     "output_type": "execute_result"
    }
   ],
   "source": [
    "len(num_rating)"
   ]
  },
  {
   "cell_type": "code",
   "execution_count": 147,
   "metadata": {},
   "outputs": [],
   "source": [
    "price=[]\n",
    "for i in urls:\n",
    "    \n",
    "    driver.get(i)\n",
    "    time.sleep(3)\n",
    "    #extracting rating of iphone\n",
    "    try:\n",
    "        price_tags= driver.find_elements_by_xpath('//span[@class=\"a-size-medium a-color-price priceBlockBuyingPriceString\"]')\n",
    "        for j in price_tags:\n",
    "            price.append(j.text)          \n",
    "    except:\n",
    "            price.append(\"-\")"
   ]
  },
  {
   "cell_type": "code",
   "execution_count": 148,
   "metadata": {},
   "outputs": [
    {
     "data": {
      "text/plain": [
       "48"
      ]
     },
     "execution_count": 148,
     "metadata": {},
     "output_type": "execute_result"
    }
   ],
   "source": [
    "len(price)"
   ]
  },
  {
   "cell_type": "code",
   "execution_count": 149,
   "metadata": {},
   "outputs": [
    {
     "data": {
      "text/plain": [
       "['₹3,199.00',\n",
       " '₹5,999.00',\n",
       " '₹2,290.00',\n",
       " '₹13,354.00',\n",
       " '₹27,499.00',\n",
       " '₹11,851.00',\n",
       " '₹9,990.00',\n",
       " '₹2,649.00',\n",
       " '₹2,290.00',\n",
       " '₹675.00',\n",
       " '₹2,649.00',\n",
       " '₹2,290.00',\n",
       " '₹2,799.00',\n",
       " '₹2,499.00',\n",
       " '₹2,290.00',\n",
       " '₹2,649.00',\n",
       " '₹2,749.00',\n",
       " '₹2,895.00',\n",
       " '₹2,799.00',\n",
       " '₹789.00',\n",
       " '₹2,749.00',\n",
       " '₹2,649.00',\n",
       " '₹2,390.00',\n",
       " '₹2,749.00',\n",
       " '₹480.00',\n",
       " '₹1,011.00',\n",
       " '₹1,299.00',\n",
       " '₹549.00',\n",
       " '₹1,499.00',\n",
       " '₹332.00',\n",
       " '₹899.00',\n",
       " '₹299.00',\n",
       " '₹4,009.00',\n",
       " '₹999.00',\n",
       " '₹4,009.00',\n",
       " '₹3,690.00',\n",
       " '₹2,649.00',\n",
       " '₹754.00',\n",
       " '₹999.00',\n",
       " '₹899.00',\n",
       " '₹1,294.00',\n",
       " '₹6,990.00',\n",
       " '₹395.00',\n",
       " '₹2,290.00',\n",
       " '₹2,649.00',\n",
       " '₹2,649.00',\n",
       " '₹5,019.00',\n",
       " '₹3,179.00']"
      ]
     },
     "execution_count": 149,
     "metadata": {},
     "output_type": "execute_result"
    }
   ],
   "source": [
    "price"
   ]
  },
  {
   "cell_type": "code",
   "execution_count": 207,
   "metadata": {},
   "outputs": [
    {
     "data": {
      "text/plain": [
       "['₹3,199.00',\n",
       " '₹5,999.00',\n",
       " '₹2,290.00',\n",
       " '₹13,354.00',\n",
       " '₹27,499.00',\n",
       " '₹11,851.00',\n",
       " '₹9,990.00',\n",
       " '₹2,649.00',\n",
       " '₹2,290.00',\n",
       " '₹675.00',\n",
       " '₹2,649.00',\n",
       " '₹2,290.00',\n",
       " '₹2,799.00',\n",
       " '₹2,499.00',\n",
       " '₹2,290.00',\n",
       " '₹2,649.00',\n",
       " '₹2,749.00',\n",
       " '₹2,895.00',\n",
       " '₹2,799.00',\n",
       " '₹789.00',\n",
       " '₹2,749.00',\n",
       " '₹2,649.00',\n",
       " '₹2,390.00',\n",
       " '₹2,749.00',\n",
       " '₹480.00',\n",
       " '₹1,011.00',\n",
       " '₹1,299.00',\n",
       " '₹549.00',\n",
       " '₹1,499.00',\n",
       " '₹332.00',\n",
       " '₹899.00',\n",
       " '₹299.00',\n",
       " '₹4,009.00']"
      ]
     },
     "execution_count": 207,
     "metadata": {},
     "output_type": "execute_result"
    }
   ],
   "source": [
    "price_n=price[:33:]\n",
    "price_n"
   ]
  },
  {
   "cell_type": "code",
   "execution_count": 208,
   "metadata": {},
   "outputs": [
    {
     "data": {
      "text/plain": [
       "33"
      ]
     },
     "execution_count": 208,
     "metadata": {},
     "output_type": "execute_result"
    }
   ],
   "source": [
    "len(price_n)"
   ]
  },
  {
   "cell_type": "code",
   "execution_count": 151,
   "metadata": {},
   "outputs": [],
   "source": [
    "ret_exchange=[]\n",
    "for i in urls:\n",
    "    \n",
    "    driver.get(i)\n",
    "    time.sleep(3)\n",
    "    #extracting rating of iphone\n",
    "    try:\n",
    "        ret_exchange_tags= driver.find_elements_by_xpath('//a[@class=\"a-size-small a-link-normal a-text-normal\"]')\n",
    "        for j in ret_exchange_tags:\n",
    "            ret_exchange.append(j.text)          \n",
    "    except:\n",
    "            ret_exchange.append(\"-\")"
   ]
  },
  {
   "cell_type": "code",
   "execution_count": 152,
   "metadata": {},
   "outputs": [
    {
     "data": {
      "text/plain": [
       "244"
      ]
     },
     "execution_count": 152,
     "metadata": {},
     "output_type": "execute_result"
    }
   ],
   "source": [
    "len(ret_exchange)"
   ]
  },
  {
   "cell_type": "code",
   "execution_count": 153,
   "metadata": {},
   "outputs": [
    {
     "data": {
      "text/plain": [
       "['Pay on Delivery',\n",
       " '7 Days Replacement',\n",
       " 'Amazon Delivered',\n",
       " '6 Month Warranty',\n",
       " 'Pay on Delivery',\n",
       " '7 Days Replacement',\n",
       " 'Amazon Delivered',\n",
       " 'No-Contact Delivery',\n",
       " 'Pay on Delivery',\n",
       " '7 Days Replacement',\n",
       " 'Amazon Delivered',\n",
       " '6 Month Warranty',\n",
       " 'Pay on Delivery',\n",
       " '7 Days Replacement',\n",
       " 'Amazon Delivered',\n",
       " 'No-Contact Delivery',\n",
       " 'Pay on Delivery',\n",
       " '7 Days Replacement',\n",
       " 'Amazon Delivered',\n",
       " 'No-Contact Delivery',\n",
       " 'Pay on Delivery',\n",
       " '7 Days Replacement',\n",
       " 'Amazon Delivered',\n",
       " '1 Year Warranty',\n",
       " 'Pay on Delivery',\n",
       " '7 Days Replacement',\n",
       " 'Amazon Delivered',\n",
       " 'No-Contact Delivery',\n",
       " 'Pay on Delivery',\n",
       " '7 Days Replacement',\n",
       " 'Amazon Delivered',\n",
       " '1 Year Warranty',\n",
       " 'Pay on Delivery',\n",
       " '7 Days Replacement',\n",
       " 'Amazon Delivered',\n",
       " 'No-Contact Delivery',\n",
       " 'Pay on Delivery',\n",
       " '7 Days Replacement',\n",
       " 'Amazon Delivered',\n",
       " '1 Year Warranty',\n",
       " 'Pay on Delivery',\n",
       " '7 Days Replacement',\n",
       " 'Amazon Delivered',\n",
       " '1 Year Warranty',\n",
       " 'Pay on Delivery',\n",
       " '7 Days Replacement',\n",
       " 'Amazon Delivered',\n",
       " '1 Year Warranty',\n",
       " 'Pay on Delivery',\n",
       " '7 Days Replacement',\n",
       " 'Amazon Delivered',\n",
       " '1 Year Warranty',\n",
       " 'Pay on Delivery',\n",
       " '7 Days Replacement',\n",
       " 'Amazon Delivered',\n",
       " '1 Year Warranty',\n",
       " 'Pay on Delivery',\n",
       " '7 Days Replacement',\n",
       " 'Amazon Delivered',\n",
       " 'No-Contact Delivery',\n",
       " 'Pay on Delivery',\n",
       " '7 Days Replacement',\n",
       " 'Amazon Delivered',\n",
       " 'No-Contact Delivery',\n",
       " 'Pay on Delivery',\n",
       " '7 Days Replacement',\n",
       " 'Amazon Delivered',\n",
       " 'No-Contact Delivery',\n",
       " 'Pay on Delivery',\n",
       " '7 Days Replacement',\n",
       " 'Amazon Delivered',\n",
       " 'Warranty Policy',\n",
       " 'Pay on Delivery',\n",
       " '7 Days Replacement',\n",
       " 'Amazon Delivered',\n",
       " 'No-Contact Delivery',\n",
       " 'Pay on Delivery',\n",
       " '7 Days Replacement',\n",
       " 'Amazon Delivered',\n",
       " 'No-Contact Delivery',\n",
       " 'Pay on Delivery',\n",
       " '7 Days Replacement',\n",
       " 'Amazon Delivered',\n",
       " '1 Year Warranty',\n",
       " 'Pay on Delivery',\n",
       " '7 Days Replacement',\n",
       " 'Amazon Delivered',\n",
       " '6 Month Warranty',\n",
       " 'Pay on Delivery',\n",
       " '7 Days Replacement',\n",
       " 'Amazon Delivered',\n",
       " 'Warranty Policy',\n",
       " 'Pay on Delivery',\n",
       " '7 Days Replacement',\n",
       " 'Amazon Delivered',\n",
       " '1 Year Warranty',\n",
       " 'Pay on Delivery',\n",
       " '7 Days Replacement',\n",
       " 'Amazon Delivered',\n",
       " 'Warranty Policy',\n",
       " 'Pay on Delivery',\n",
       " '7 Days Replacement',\n",
       " 'Amazon Delivered',\n",
       " '1 Month Warranty',\n",
       " 'Pay on Delivery',\n",
       " '7 Days Replacement',\n",
       " 'Amazon Delivered',\n",
       " '1 Year Warranty',\n",
       " 'Pay on Delivery',\n",
       " '7 Days Replacement',\n",
       " 'Amazon Delivered',\n",
       " '1 Year Warranty',\n",
       " '7 Days Returnable',\n",
       " 'Amazon Delivered',\n",
       " 'No-Contact Delivery',\n",
       " 'Pay on Delivery',\n",
       " '7 Days Replacement',\n",
       " 'Amazon Delivered',\n",
       " 'Warranty Policy',\n",
       " 'Pay on Delivery',\n",
       " '7 Days Replacement',\n",
       " 'Amazon Delivered',\n",
       " '1 Year Warranty',\n",
       " 'Pay on Delivery',\n",
       " '7 Days Replacement',\n",
       " 'Amazon Delivered',\n",
       " '1 Year Warranty',\n",
       " 'Pay on Delivery',\n",
       " '7 Days Replacement',\n",
       " 'Amazon Delivered',\n",
       " '1 Year Warranty',\n",
       " 'Pay on Delivery',\n",
       " '7 Days Replacement',\n",
       " 'Amazon Delivered',\n",
       " 'Warranty Policy',\n",
       " 'Pay on Delivery',\n",
       " '7 Days Replacement',\n",
       " 'Amazon Delivered',\n",
       " 'Warranty Policy',\n",
       " '7 Days Replacement',\n",
       " 'Amazon Delivered',\n",
       " 'No-Contact Delivery',\n",
       " '7 Days Replacement',\n",
       " 'Amazon Delivered',\n",
       " 'No-Contact Delivery',\n",
       " '7 Days Returnable',\n",
       " 'Amazon Delivered',\n",
       " 'No-Contact Delivery',\n",
       " '7 Days Replacement',\n",
       " 'Amazon Delivered',\n",
       " 'No-Contact Delivery',\n",
       " '7 Days Returnable',\n",
       " '7 Days Replacement',\n",
       " 'Amazon Delivered',\n",
       " 'No-Contact Delivery',\n",
       " '7 Days Replacement',\n",
       " 'Amazon Delivered',\n",
       " 'Warranty Policy',\n",
       " 'No-Contact Delivery',\n",
       " '7 Days Replacement',\n",
       " 'Amazon Delivered',\n",
       " 'No-Contact Delivery',\n",
       " 'Pay on Delivery',\n",
       " '7 Days Replacement',\n",
       " 'Amazon Delivered',\n",
       " '1 Year Warranty',\n",
       " 'Pay on Delivery',\n",
       " '7 Days Replacement',\n",
       " 'Amazon Delivered',\n",
       " '1 Year Warranty',\n",
       " '7 Days Replacement',\n",
       " 'Amazon Delivered',\n",
       " 'Warranty Policy',\n",
       " 'No-Contact Delivery',\n",
       " '7 Days Replacement',\n",
       " '1 Year Warranty',\n",
       " 'Pay on Delivery',\n",
       " '7 Days Replacement',\n",
       " 'Amazon Delivered',\n",
       " '1 Year Warranty',\n",
       " 'Pay on Delivery',\n",
       " '7 Days Replacement',\n",
       " 'Amazon Delivered',\n",
       " '1 Year Warranty',\n",
       " 'Pay on Delivery',\n",
       " '7 Days Replacement',\n",
       " 'Amazon Delivered',\n",
       " 'No-Contact Delivery',\n",
       " '7 Days Replacement',\n",
       " 'Amazon Delivered',\n",
       " 'Warranty Policy',\n",
       " 'No-Contact Delivery',\n",
       " '7 Days Returnable',\n",
       " 'Amazon Delivered',\n",
       " 'No-Contact Delivery',\n",
       " '7 Days Replacement',\n",
       " 'Amazon Delivered',\n",
       " 'Warranty Policy',\n",
       " 'No-Contact Delivery',\n",
       " '7 Days Replacement',\n",
       " 'Warranty Policy',\n",
       " '7 Days Returnable',\n",
       " 'Amazon Delivered',\n",
       " 'No-Contact Delivery',\n",
       " 'Pay on Delivery',\n",
       " '7 Days Replacement',\n",
       " 'Amazon Delivered',\n",
       " '12 Month Warranty',\n",
       " 'Pay on Delivery',\n",
       " '7 Days Replacement',\n",
       " 'Amazon Delivered',\n",
       " 'Warranty Policy',\n",
       " 'Pay on Delivery',\n",
       " '7 Days Replacement',\n",
       " 'Amazon Delivered',\n",
       " '1 Year Warranty',\n",
       " '7 Days Replacement',\n",
       " 'Amazon Delivered',\n",
       " 'Warranty Policy',\n",
       " 'No-Contact Delivery',\n",
       " 'Pay on Delivery',\n",
       " '7 Days Replacement',\n",
       " 'Amazon Delivered',\n",
       " 'No-Contact Delivery',\n",
       " 'Pay on Delivery',\n",
       " '7 Days Replacement',\n",
       " 'Amazon Delivered',\n",
       " 'No-Contact Delivery',\n",
       " 'Pay on Delivery',\n",
       " '7 Days Replacement',\n",
       " 'Amazon Delivered',\n",
       " 'No-Contact Delivery',\n",
       " 'Pay on Delivery',\n",
       " '7 Days Replacement',\n",
       " 'Amazon Delivered',\n",
       " 'No-Contact Delivery',\n",
       " 'Pay on Delivery',\n",
       " '7 Days Replacement',\n",
       " 'Amazon Delivered',\n",
       " '1 Year Warranty',\n",
       " 'Pay on Delivery',\n",
       " '7 Days Replacement',\n",
       " 'Amazon Delivered',\n",
       " '1 Year Warranty']"
      ]
     },
     "execution_count": 153,
     "metadata": {},
     "output_type": "execute_result"
    }
   ],
   "source": [
    "ret_exchange"
   ]
  },
  {
   "cell_type": "code",
   "execution_count": 160,
   "metadata": {},
   "outputs": [
    {
     "data": {
      "text/plain": [
       "['7 Days Replacement',\n",
       " '7 Days Replacement',\n",
       " '7 Days Replacement',\n",
       " '7 Days Replacement',\n",
       " '7 Days Replacement',\n",
       " '7 Days Replacement',\n",
       " '7 Days Replacement',\n",
       " '7 Days Replacement',\n",
       " '7 Days Replacement',\n",
       " '7 Days Replacement',\n",
       " '7 Days Replacement',\n",
       " '7 Days Replacement',\n",
       " '7 Days Replacement',\n",
       " '7 Days Replacement',\n",
       " '7 Days Replacement',\n",
       " '7 Days Replacement',\n",
       " '7 Days Replacement',\n",
       " '7 Days Replacement',\n",
       " '7 Days Replacement',\n",
       " '7 Days Replacement',\n",
       " '7 Days Replacement',\n",
       " '7 Days Replacement',\n",
       " '7 Days Replacement',\n",
       " '7 Days Replacement',\n",
       " '7 Days Replacement',\n",
       " '7 Days Replacement',\n",
       " '7 Days Replacement',\n",
       " '7 Days Replacement']"
      ]
     },
     "execution_count": 160,
     "metadata": {},
     "output_type": "execute_result"
    }
   ],
   "source": [
    "ret_exchange1=ret_exchange[1:112:4]\n",
    "ret_exchange1"
   ]
  },
  {
   "cell_type": "code",
   "execution_count": 166,
   "metadata": {},
   "outputs": [
    {
     "data": {
      "text/plain": [
       "28"
      ]
     },
     "execution_count": 166,
     "metadata": {},
     "output_type": "execute_result"
    }
   ],
   "source": [
    "len(ret_exchange1)"
   ]
  },
  {
   "cell_type": "code",
   "execution_count": null,
   "metadata": {},
   "outputs": [],
   "source": []
  },
  {
   "cell_type": "code",
   "execution_count": 170,
   "metadata": {},
   "outputs": [
    {
     "data": {
      "text/plain": [
       "['7 Days Replacement',\n",
       " '7 Days Replacement',\n",
       " '7 Days Replacement',\n",
       " '7 Days Returnable',\n",
       " '7 Days Replacement']"
      ]
     },
     "execution_count": 170,
     "metadata": {},
     "output_type": "execute_result"
    }
   ],
   "source": [
    "ret_exchange2=ret_exchange[136:151:3]\n",
    "ret_exchange2"
   ]
  },
  {
   "cell_type": "code",
   "execution_count": 171,
   "metadata": {},
   "outputs": [
    {
     "data": {
      "text/plain": [
       "['7 Days Replacement',\n",
       " '7 Days Replacement',\n",
       " '7 Days Replacement',\n",
       " '7 Days Replacement',\n",
       " '7 Days Replacement',\n",
       " '7 Days Replacement',\n",
       " '7 Days Replacement',\n",
       " '7 Days Replacement',\n",
       " '7 Days Replacement',\n",
       " '7 Days Replacement',\n",
       " '7 Days Replacement',\n",
       " '7 Days Replacement',\n",
       " '7 Days Replacement',\n",
       " '7 Days Replacement',\n",
       " '7 Days Replacement',\n",
       " '7 Days Replacement',\n",
       " '7 Days Replacement',\n",
       " '7 Days Replacement',\n",
       " '7 Days Replacement',\n",
       " '7 Days Replacement',\n",
       " '7 Days Replacement',\n",
       " '7 Days Replacement',\n",
       " '7 Days Replacement',\n",
       " '7 Days Replacement',\n",
       " '7 Days Replacement',\n",
       " '7 Days Replacement',\n",
       " '7 Days Replacement',\n",
       " '7 Days Replacement',\n",
       " '7 Days Replacement',\n",
       " '7 Days Replacement',\n",
       " '7 Days Replacement',\n",
       " '7 Days Returnable',\n",
       " '7 Days Replacement']"
      ]
     },
     "execution_count": 171,
     "metadata": {},
     "output_type": "execute_result"
    }
   ],
   "source": [
    "ret_exchange3=ret_exchange1+ret_exchange2\n",
    "ret_exchange3"
   ]
  },
  {
   "cell_type": "code",
   "execution_count": 172,
   "metadata": {},
   "outputs": [
    {
     "data": {
      "text/plain": [
       "33"
      ]
     },
     "execution_count": 172,
     "metadata": {},
     "output_type": "execute_result"
    }
   ],
   "source": [
    "len(ret_exchange3)"
   ]
  },
  {
   "cell_type": "code",
   "execution_count": 6,
   "metadata": {},
   "outputs": [],
   "source": [
    "Expected_Delivery=[]\n",
    "for i in urls:\n",
    "    \n",
    "    driver.get(i)\n",
    "    time.sleep(3)\n",
    "    #extracting rating of iphone\n",
    "    try:\n",
    "        Expected_Delivery_tags= driver.find_elements_by_id('ddmDeliveryMessage')\n",
    "        for j in Expected_Delivery_tags:\n",
    "            Expected_Delivery.append(j.text.replace(\"\\n\",\",\"))          \n",
    "    except:\n",
    "            Expected_Delivery.append(\"-\")"
   ]
  },
  {
   "cell_type": "code",
   "execution_count": 173,
   "metadata": {},
   "outputs": [
    {
     "data": {
      "text/plain": [
       "64"
      ]
     },
     "execution_count": 173,
     "metadata": {},
     "output_type": "execute_result"
    }
   ],
   "source": [
    "len(Expected_Delivery)"
   ]
  },
  {
   "cell_type": "code",
   "execution_count": 9,
   "metadata": {},
   "outputs": [
    {
     "data": {
      "text/plain": [
       "['FREE delivery: Monday, Sep 27 Details,Fastest delivery: Sunday, Sep 26,Order within 23 hrs and 29 mins Details',\n",
       " 'FREE delivery: Monday, Sep 27 Details,Fastest delivery: Sunday, Sep 26,Order within 22 hrs and 59 mins Details',\n",
       " 'FREE delivery: Monday, Sep 27 Details,Fastest delivery: Sunday, Sep 26,Order within 22 hrs and 59 mins Details',\n",
       " 'FREE delivery: Saturday, Sep 25 Details,Fastest delivery: Tomorrow,Order within 9 hrs and 14 mins Details',\n",
       " 'FREE delivery: Saturday, Sep 25 Details,Fastest delivery: Tomorrow,Order within 9 hrs and 13 mins Details',\n",
       " 'FREE delivery: Saturday, Sep 25 Details,Fastest delivery: Tomorrow,Order within 9 hrs and 13 mins Details',\n",
       " 'FREE delivery: Saturday, Sep 25 Details,Fastest delivery: Tomorrow,Order within 9 hrs and 13 mins Details',\n",
       " 'FREE delivery: Monday, Sep 27 Details,Fastest delivery: Sunday, Sep 26,Order within 22 hrs and 58 mins Details',\n",
       " 'FREE delivery: Tuesday, Sep 28 Details',\n",
       " 'FREE delivery: Saturday, Sep 25 Details',\n",
       " 'FREE delivery: Saturday, Sep 25 Details,Fastest delivery: Tomorrow,Order within 9 hrs and 13 mins Details',\n",
       " 'FREE delivery: Sunday, Sep 26 Details',\n",
       " 'FREE delivery: Saturday, Sep 25 Details,Fastest delivery: Tomorrow,Order within 9 hrs and 12 mins Details',\n",
       " 'FREE delivery: Wednesday, Sep 29 Details',\n",
       " 'FREE delivery: Saturday, Sep 25 Details,Fastest delivery: Tomorrow,Order within 9 hrs and 12 mins Details',\n",
       " 'FREE delivery: Saturday, Sep 25 Details,Fastest delivery: Tomorrow,Order within 9 hrs and 12 mins Details',\n",
       " 'FREE delivery: Saturday, Sep 25 Details,Fastest delivery: Tomorrow,Order within 9 hrs and 12 mins Details',\n",
       " 'FREE delivery: Saturday, Sep 25 Details,Fastest delivery: Tomorrow,Order within 1 hr and 27 mins Details',\n",
       " 'FREE delivery: Saturday, Sep 25 Details,Fastest delivery: Tomorrow,Order within 9 hrs and 11 mins Details',\n",
       " 'FREE delivery: Saturday, Sep 25 Details,Fastest delivery: Tomorrow,Order within 9 hrs and 11 mins Details',\n",
       " 'FREE delivery: Saturday, Sep 25 Details,Fastest delivery: Tomorrow,Order within 9 hrs and 11 mins Details',\n",
       " 'FREE delivery: Monday, Sep 27 Details,Fastest delivery: Sunday, Sep 26,Order within 23 hrs and 26 mins Details',\n",
       " 'FREE delivery: Saturday, Sep 25 Details,Fastest delivery: Tomorrow,Order within 9 hrs and 11 mins Details',\n",
       " 'FREE delivery: Saturday, Sep 25 Details,Fastest delivery: Tomorrow,Order within 9 hrs and 11 mins Details',\n",
       " 'FREE delivery: Saturday, Sep 25 Details,Fastest delivery: Tomorrow,Order within 1 hr and 26 mins Details',\n",
       " 'FREE delivery: Tuesday, Sep 28 Details',\n",
       " 'FREE delivery: Saturday, Sep 25 Details,Fastest delivery: Tomorrow,Order within 9 hrs and 11 mins Details',\n",
       " 'FREE delivery: Saturday, Sep 25 Details,Fastest delivery: Tomorrow,Order within 9 hrs and 10 mins Details',\n",
       " 'FREE delivery: Tuesday, Sep 28 Details,Fastest delivery: Sunday, Sep 26',\n",
       " 'FREE delivery: Saturday, Sep 25 Details,Fastest delivery: Tomorrow,Order within 1 hr and 25 mins Details',\n",
       " 'FREE delivery: Monday, Sep 27 Details,Fastest delivery: Sunday, Sep 26,Order within 22 hrs and 55 mins Details',\n",
       " 'FREE delivery: Saturday, Sep 25 Details,Fastest delivery: Tomorrow,Order within 9 hrs and 10 mins Details',\n",
       " 'FREE delivery: Saturday, Sep 25 Details,Fastest delivery: Tomorrow,Order within 8 hrs and 55 mins Details',\n",
       " 'FREE delivery: Saturday, Sep 25 Details,Fastest delivery: Tomorrow,Order within 1 hr and 25 mins Details',\n",
       " 'FREE delivery: Thursday, Sep 30 on orders over ₹499 shipped by Amazon Details',\n",
       " 'FREE delivery: Tuesday, Sep 28 Details,Fastest delivery: Sunday, Sep 26',\n",
       " 'FREE delivery: Tuesday, Sep 28 Details,Fastest delivery: Sunday, Sep 26',\n",
       " 'FREE delivery: Saturday, Sep 25 Details',\n",
       " 'FREE delivery: Tuesday, Sep 28 Details,Fastest delivery: Sunday, Sep 26',\n",
       " '₹60.00 delivery: Sep 26 - 27 Details',\n",
       " 'FREE delivery: Wednesday, Sep 29 Details',\n",
       " 'FREE delivery: Wednesday, Sep 29 Details',\n",
       " 'FREE delivery: Wednesday, Sep 29 Details',\n",
       " 'FREE delivery: Saturday, Sep 25 Details,Fastest delivery: Tomorrow,Order within 9 hrs and 8 mins Details',\n",
       " 'FREE delivery: Saturday, Sep 25 Details,Fastest delivery: Tomorrow,Order within 9 hrs and 8 mins Details',\n",
       " 'FREE delivery: Sep 28 - 29 Details,Fastest delivery: Sunday, Sep 26',\n",
       " 'FREE delivery: Saturday, Sep 25 Details,Fastest delivery: Tomorrow,Order within 9 hrs and 8 mins Details',\n",
       " 'FREE delivery: Wednesday, Sep 29 Details',\n",
       " 'FREE delivery: Saturday, Sep 25 Details,Fastest delivery: Tomorrow,Order within 9 hrs and 7 mins Details',\n",
       " 'FREE delivery: Monday, Sep 27 Details,Fastest delivery: Sunday, Sep 26',\n",
       " '₹65.00 delivery: Sep 28 - 29 Details',\n",
       " 'FREE delivery: Tuesday, Sep 28 Details,Fastest delivery: Sunday, Sep 26',\n",
       " 'FREE delivery: Oct 1 - 9 Details',\n",
       " 'FREE delivery: Thursday, Sep 30 Details',\n",
       " 'FREE delivery: Wednesday, Sep 29 Details',\n",
       " 'FREE delivery: Thursday, Sep 30 on orders over ₹499 shipped by Amazon Details',\n",
       " 'FREE delivery: Saturday, Sep 25 Details,Fastest delivery: Tomorrow,Order within 1 hr and 21 mins Details',\n",
       " 'FREE delivery: Wednesday, Sep 29 Details',\n",
       " 'FREE delivery: Saturday, Sep 25 Details,Fastest delivery: Tomorrow,Order within 9 hrs and 6 mins Details',\n",
       " 'FREE delivery: Saturday, Sep 25 Details,Fastest delivery: Tomorrow,Order within 9 hrs and 6 mins Details',\n",
       " 'FREE delivery: Saturday, Sep 25 Details,Fastest delivery: Tomorrow,Order within 9 hrs and 6 mins Details',\n",
       " 'FREE delivery: Saturday, Sep 25 Details,Fastest delivery: Tomorrow,Order within 9 hrs and 6 mins Details',\n",
       " 'FREE delivery: Sunday, Sep 26 Details',\n",
       " 'FREE delivery: Saturday, Sep 25 Details,Fastest delivery: Tomorrow,Order within 9 hrs and 6 mins Details']"
      ]
     },
     "execution_count": 9,
     "metadata": {},
     "output_type": "execute_result"
    }
   ],
   "source": [
    "Expected_Delivery"
   ]
  },
  {
   "cell_type": "code",
   "execution_count": 177,
   "metadata": {},
   "outputs": [
    {
     "data": {
      "text/plain": [
       "['FREE delivery: Monday, Sep 27 Details,Fastest delivery: Sunday, Sep 26,Order within 23 hrs and 29 mins Details',\n",
       " 'FREE delivery: Monday, Sep 27 Details,Fastest delivery: Sunday, Sep 26,Order within 22 hrs and 59 mins Details',\n",
       " 'FREE delivery: Monday, Sep 27 Details,Fastest delivery: Sunday, Sep 26,Order within 22 hrs and 59 mins Details',\n",
       " 'FREE delivery: Saturday, Sep 25 Details,Fastest delivery: Tomorrow,Order within 9 hrs and 14 mins Details',\n",
       " 'FREE delivery: Saturday, Sep 25 Details,Fastest delivery: Tomorrow,Order within 9 hrs and 13 mins Details',\n",
       " 'FREE delivery: Saturday, Sep 25 Details,Fastest delivery: Tomorrow,Order within 9 hrs and 13 mins Details',\n",
       " 'FREE delivery: Saturday, Sep 25 Details,Fastest delivery: Tomorrow,Order within 9 hrs and 13 mins Details',\n",
       " 'FREE delivery: Monday, Sep 27 Details,Fastest delivery: Sunday, Sep 26,Order within 22 hrs and 58 mins Details',\n",
       " 'FREE delivery: Tuesday, Sep 28 Details',\n",
       " 'FREE delivery: Saturday, Sep 25 Details',\n",
       " 'FREE delivery: Saturday, Sep 25 Details,Fastest delivery: Tomorrow,Order within 9 hrs and 13 mins Details',\n",
       " 'FREE delivery: Sunday, Sep 26 Details',\n",
       " 'FREE delivery: Saturday, Sep 25 Details,Fastest delivery: Tomorrow,Order within 9 hrs and 12 mins Details',\n",
       " 'FREE delivery: Wednesday, Sep 29 Details',\n",
       " 'FREE delivery: Saturday, Sep 25 Details,Fastest delivery: Tomorrow,Order within 9 hrs and 12 mins Details',\n",
       " 'FREE delivery: Saturday, Sep 25 Details,Fastest delivery: Tomorrow,Order within 9 hrs and 12 mins Details',\n",
       " 'FREE delivery: Saturday, Sep 25 Details,Fastest delivery: Tomorrow,Order within 9 hrs and 12 mins Details',\n",
       " 'FREE delivery: Saturday, Sep 25 Details,Fastest delivery: Tomorrow,Order within 1 hr and 27 mins Details',\n",
       " 'FREE delivery: Saturday, Sep 25 Details,Fastest delivery: Tomorrow,Order within 9 hrs and 11 mins Details',\n",
       " 'FREE delivery: Saturday, Sep 25 Details,Fastest delivery: Tomorrow,Order within 9 hrs and 11 mins Details',\n",
       " 'FREE delivery: Saturday, Sep 25 Details,Fastest delivery: Tomorrow,Order within 9 hrs and 11 mins Details',\n",
       " 'FREE delivery: Monday, Sep 27 Details,Fastest delivery: Sunday, Sep 26,Order within 23 hrs and 26 mins Details',\n",
       " 'FREE delivery: Saturday, Sep 25 Details,Fastest delivery: Tomorrow,Order within 9 hrs and 11 mins Details',\n",
       " 'FREE delivery: Saturday, Sep 25 Details,Fastest delivery: Tomorrow,Order within 9 hrs and 11 mins Details',\n",
       " 'FREE delivery: Saturday, Sep 25 Details,Fastest delivery: Tomorrow,Order within 1 hr and 26 mins Details',\n",
       " 'FREE delivery: Tuesday, Sep 28 Details',\n",
       " 'FREE delivery: Saturday, Sep 25 Details,Fastest delivery: Tomorrow,Order within 9 hrs and 11 mins Details',\n",
       " 'FREE delivery: Saturday, Sep 25 Details,Fastest delivery: Tomorrow,Order within 9 hrs and 10 mins Details',\n",
       " 'FREE delivery: Tuesday, Sep 28 Details,Fastest delivery: Sunday, Sep 26',\n",
       " 'FREE delivery: Saturday, Sep 25 Details,Fastest delivery: Tomorrow,Order within 1 hr and 25 mins Details',\n",
       " 'FREE delivery: Monday, Sep 27 Details,Fastest delivery: Sunday, Sep 26,Order within 22 hrs and 55 mins Details',\n",
       " 'FREE delivery: Saturday, Sep 25 Details,Fastest delivery: Tomorrow,Order within 9 hrs and 10 mins Details',\n",
       " 'FREE delivery: Saturday, Sep 25 Details,Fastest delivery: Tomorrow,Order within 8 hrs and 55 mins Details']"
      ]
     },
     "execution_count": 177,
     "metadata": {},
     "output_type": "execute_result"
    }
   ],
   "source": [
    "Expected_Delivery=Expected_Delivery[:33:]\n",
    "Expected_Delivery"
   ]
  },
  {
   "cell_type": "code",
   "execution_count": 218,
   "metadata": {},
   "outputs": [
    {
     "data": {
      "text/plain": [
       "<selenium.webdriver.remote.webelement.WebElement (session=\"1fba7691e1809e0f50ea1a7ab1438323\", element=\"f3d44f9b-c8f2-4c24-af60-3116b04d6ed8\")>"
      ]
     },
     "execution_count": 218,
     "metadata": {},
     "output_type": "execute_result"
    }
   ],
   "source": [
    "search_next= driver.find_element_by_xpath('//li[@class=\"a-normal\"]')\n",
    "search_next"
   ]
  },
  {
   "cell_type": "code",
   "execution_count": 219,
   "metadata": {},
   "outputs": [],
   "source": [
    "search_next.click()"
   ]
  },
  {
   "cell_type": "code",
   "execution_count": 37,
   "metadata": {},
   "outputs": [],
   "source": [
    "title1=[]\n",
    "for i in urls:\n",
    "    \n",
    "    driver.get(i)\n",
    "    time.sleep(3)\n",
    "    #extracting rating of iphone\n",
    "    try:\n",
    "        title1_tags= driver.find_elements_by_id('productTitle')\n",
    "        for j in title1_tags:\n",
    "            title1.append(j.text)          \n",
    "    except:\n",
    "            title1.append(\"-\")"
   ]
  },
  {
   "cell_type": "code",
   "execution_count": 38,
   "metadata": {},
   "outputs": [
    {
     "data": {
      "text/plain": [
       "65"
      ]
     },
     "execution_count": 38,
     "metadata": {},
     "output_type": "execute_result"
    }
   ],
   "source": [
    "len(title1)"
   ]
  },
  {
   "cell_type": "code",
   "execution_count": 39,
   "metadata": {},
   "outputs": [
    {
     "data": {
      "text/plain": [
       "['Medellin 38in Premium All Wood Acoustic Guitar Starter Kit (Blue, Super Combo Combo with Bag, Strap, Picks, String Set, Tuner, Stand, Capo)',\n",
       " 'Kadence Guitar Frontier Series, Blue Acoustic Guitar with Die Cast Keys, Set of Strings, Strap, Picks, Guitar stand, Capo and Bag, Super Combo (Blue, Acoustic)',\n",
       " 'Kadence Frontier Jumbo Semi Acoustic Guitar With Die Cast Keys Super Combo (Bag, 1 pack Strings, Strap, Picks, Capo, Tuner (natural)',\n",
       " 'Juârez Acoustic Guitar, 38 Inch Cutaway, 038C with Bag, Strings, Pick and Strap, Black',\n",
       " 'Juârez Acoustic Guitar, 38 Inch Cutaway, 038C with Bag, Strings, Pick and Strap, Black',\n",
       " 'Intern INT-38C Acoustic Guitar Kit, With Bag, Strings, Pick And Strap, Black',\n",
       " 'Juarez JRZ38C Acoustic Guitar, 38 Inch Cutaway with Bag (TBS Transparent Blue Sunburst)',\n",
       " 'Kadence Guitar Acoustica Series, Electric Acoustic Guitar, Ash Wood with Pickup and Inbuilt tuner (Ash Wood, Electro Acoustic)',\n",
       " 'Fender CD 60 Dread V3 DS 6 String Acoustic Guitar - Walnut Fretboard-Black',\n",
       " 'Epiphone AJ-220S Acoustic Guitar, Vintage Sunburst',\n",
       " 'Ibanez V50NJP-NT Acoustic Guitar Pre Pack, Dreadnought, Natural High Gloss',\n",
       " 'Yamaha FS100C Acoustic Guitar, Black',\n",
       " 'JUAREZ JRZ38C Right Handed Acoustic Guitar (Sunburst, 6 Strings)',\n",
       " 'Hovner 215 Black F-Cut Rosewood Fretboard Acoustic Guitar With Bag,Strap,1 Set of Extra Strings and 2 Picks By K-Retail',\n",
       " 'Juarez Acoustic Guitar, 38 Inch Cutaway with Pick Guard, 38C/RDS with Bag, Strings, Pick and Strap, Red Sunburst',\n",
       " 'Juârez JRZ38C/WH 6 Strings Acoustic Guitar 38 Inch Cutaway, Right Handed, White with Bag, Strings, Picks and Strap',\n",
       " 'Juârez JRZ38C/ASH 6 Strings Acoustic Guitar 38 Inch Cutaway, Right Handed, Ash with Bag, Strings, Picks and Strap',\n",
       " \"D'Addario EZ900 Acoustic Guitar Strings, Pack of 2\",\n",
       " 'Juarez Acoustic Guitar, [ LEFT HANDED] 38 Inch Cutaway, 38CL/BK with Bag, Strings, Pick and Strap, Black',\n",
       " 'Juârez Acoustic Guitar, 38 Inch Cutaway, JRZ38C with Bag, Strings, Pick and Strap, Blue',\n",
       " 'Juârez JRZ38C/MAH 6 Strings Acoustic Guitar 38 Inch Cutaway, Right Handed, Mahogany with Bag, Strings, Picks and Strap',\n",
       " 'Medellin MED-BLU-C Linden Wood Acoustic Guitar',\n",
       " 'Intern INT-38C-RD-G Cutaway Right Handed Acoustic Guitar Kit, With Bag, Strings, Pick And Strap (Red, 6 Strings)',\n",
       " 'JUAREZ Acoustic Guitar, [LEFT HANDED] 38 Inch Cutaway, 38CL/TBLS with Bag, Strings, Pick and Strap, Blue Sunburst',\n",
       " 'Henrix 38 Acoustic Guitar with Die-cast Tuners and Dual-action Truss Rod - Includes Picks, Bag, Strings, Strap, Polishing Cloth and String Winder',\n",
       " 'Blueberry 38C IN Acoustic Guitar Kit with Bag,Belt & Picks inbuilt Truss-rod (Blue)',\n",
       " 'Juârez JRZ38C/MAH 6 Strings Acoustic Guitar 38 Inch Cutaway, Right Handed, Mahogany with Bag, Strings, Picks and Strap',\n",
       " 'Martin Smith W-101-N-PK Acoustic Guitar Super Kit with Stand (Natural)',\n",
       " 'HYMET 4-String Acoustic Guitar Learning Kids Toy, Brown 23\" (Brown)',\n",
       " 'Henrix 38 Acoustic Right Handed Guitar (Natural) with Die-cast Tuners and Dual-action Truss Rod - Includes Picks, Bag, Strings, Strap, Polishing Cloth and E-Book',\n",
       " 'Kadence Frontier Series, Acoustic Guitar With/Wihtout EQ Die Cast Keys Combo (Bag,strap,strings and 3 picks) (Brown, Acoustic)',\n",
       " 'JUAREZ Acoustic Guitar, [LEFT HANDED] 38 Inch Cutaway, 38CL/3TS with Bag, Strings, Pick and Strap, 3TS Sunburst (JRZ38CL/3TS)',\n",
       " 'Intern INT-38C Natural Acoustic Guitar kit with carry bag & picks',\n",
       " 'Henrix 38C Blue Burst Cutaway acoustic guitar with bag,strap, string set,4pcs picks, string winder, polish cloth, normal box (Blueburst)',\n",
       " 'DEVICE OF URBAN INFOTECH Tuning Peg Silver for Acoustic Guitar Parts Tuners Keys Semi-closed Guitar String Tuning Pegs Tuner Machine Heads Knobs Tuning Keys for Acoustic & Electric Guitar 3R+3L (6PCS)',\n",
       " \"Crizer 4 String Guitar Children's Musical Instrument Educational Toy Guitar Ukulele Instruments Beginner Musical Sound Toys Best Gift for Children\",\n",
       " 'SAAN Life Science 4-string Small Acoustic Guitar Musical Instrument Educational Learning kids Toy for Beginners - 23Inch',\n",
       " 'PSB Guitar for Kids - 4 String Guitar Musical Instrument Learning Kids Toy ( 17 Inches )',\n",
       " \"DIKUJI ENTERPRISE 6 String Decor Guitar Children's Musical Instrument Educational Toy Guitar for Beginners Kids Childs (Color May Vary)\",\n",
       " 'Toy Mall Kids Guitar Toys for Kids 4-String Acoustic Guitar Musical Instrument Learning Toy for Kids ( 17 inches )- Multi Color',\n",
       " 'Guitar Tuner Tuner Guitar Tuner Clip On for Guitar Ukulele Violin Viola Bass Chromatic Tuning Modes 360 Degree Rotating Fast & Accurate',\n",
       " 'Mustang 46 PCS Guitar Strings Changing Kit Guitar Tool Kit Including Guitar Strings Guitar Tuner Picks Capo Pins Guitar String Cutter and Winder for Beginner',\n",
       " 'KREEPO Guitar Fretboard Sticker Fingerboard Frets Note Chart Decals Stickers Beginner Learner Acoustic-Electric Guitar Multicolor(9.1cm X 14.5cm)',\n",
       " 'JUAREZ JRZ38CTR/BK 38 Inch Acoustic Guitar with Dual Action Truss Rod, Bag, Picks, Allen Key, Extra String Set, Black',\n",
       " 'JUAREZ Fiésta 41 Inch Acoustic Guitar with Dual Action Truss Rod, 21 Frets Rosewood Fretboard & Bridge, Padded 5mm Cotton Bag, Cotton Strap, 2 Picks, Allen Key, Extra String Set, Brown',\n",
       " \"Exegi Enterprise 4 String Guitar Children's Musical Instrument Educational Toy Guitar Ukulele Instruments Beginner Musical Sound Toys Best Gift for Children (Brown)\",\n",
       " 'Yamaha F280 Acoustic Guitar, Tobacco Brown Sunburst',\n",
       " 'JUAREZ Fiésta 41 Inch Acoustic Guitar Cutaway with Dual Action Truss Rod, 21 Frets Rosewood Fretboard & Bridge, Padded 5mm Cotton Bag, Cotton Strap, 2 Picks, Allen Key, Extra String Set, Black',\n",
       " 'Kordz Luana Blue 41 Inch Rosewood Fretboard Acoustic Guitar With Bag,Strap,1 Set of Extra Strings and 2 Picks',\n",
       " 'Juarez Acoustic Guitar, 38 Inch Cutaway with Pick Guard, 38CPG with Bag, Strings, Pick and Strap, Black',\n",
       " 'chhogli 4-string acoustic guitar learning kids toy, brown 18-Multi color',\n",
       " 'SHAYONA 4-String Acoustic Guitar Learning Kids Toy, Brown 18\"',\n",
       " 'calldrishe String Acoustic Guitar | Adjustable Tunning Knob | Classical Guitar Toy | Musical Instrument Learning Toy for Kids',\n",
       " 'OFKLADE Portable 6 Frets Wood Practice Pocket Guitar Trainer Tool Finger Exerciser',\n",
       " 'WAH NOTION® 4-String Acoustic Enthusiasm Battery Operated Rockband Guitar Walnut Guitar Learning Kids Toy,18\" Classic Model First Edition 2021',\n",
       " 'Kordz Luana Natural Wooden 41 Inch Rosewood Fretboard Acoustic Guitar With Bag,Strap,1 Set of Extra Strings and 2 Picks',\n",
       " 'TECHBLAZE Acoustic Guitar Strings, Guitar Wall Mount, Guitar Metal Capo with 5 picks Best Guitar Accessory Combo Pack',\n",
       " 'Ibanez MD39C-NT Acoustic Guitar (Natural)',\n",
       " 'HRB MUSICALS Guitar black Capo b4 + 2 Guitar Wall mount with fitting + Guitar black strap/Belt (4 Guitar Picks Free)',\n",
       " 'Juârez Acoustic Guitar, 38 Inch Cutaway, JRZ38C with Bag, Strings, Pick and Strap, Blue',\n",
       " 'Juarez JRZ38C Acoustic Guitar, 38 Inch Cutaway with Bag (TBS Transparent Blue Sunburst)',\n",
       " 'Juârez JRZ38C/WH 6 Strings Acoustic Guitar 38 Inch Cutaway, Right Handed, White with Bag, Strings, Picks and Strap',\n",
       " 'Juarez Acoustic Guitar, 38 Inch Cutaway with Pick Guard, 38CPG with Bag, Strings, Pick and Strap, Black',\n",
       " 'ARCTIC Sky series 39\" Guitar (with Truss Rod) with Bag, 3 Picks, Strap & String Set. Standard Pack Black',\n",
       " 'JUAREZ 38 Inch Acoustic Guitar with Dual Action Truss Rod, Bag, Picks, Allen Key, Extra String Set, 3TS Sunburst']"
      ]
     },
     "execution_count": 39,
     "metadata": {},
     "output_type": "execute_result"
    }
   ],
   "source": [
    "title1"
   ]
  },
  {
   "cell_type": "code",
   "execution_count": 178,
   "metadata": {},
   "outputs": [
    {
     "data": {
      "text/plain": [
       "65"
      ]
     },
     "execution_count": 178,
     "metadata": {},
     "output_type": "execute_result"
    }
   ],
   "source": [
    "len(title1)"
   ]
  },
  {
   "cell_type": "code",
   "execution_count": 179,
   "metadata": {},
   "outputs": [
    {
     "data": {
      "text/plain": [
       "['Medellin 38in Premium All Wood Acoustic Guitar Starter Kit (Blue, Super Combo Combo with Bag, Strap, Picks, String Set, Tuner, Stand, Capo)',\n",
       " 'Kadence Guitar Frontier Series, Blue Acoustic Guitar with Die Cast Keys, Set of Strings, Strap, Picks, Guitar stand, Capo and Bag, Super Combo (Blue, Acoustic)',\n",
       " 'Kadence Frontier Jumbo Semi Acoustic Guitar With Die Cast Keys Super Combo (Bag, 1 pack Strings, Strap, Picks, Capo, Tuner (natural)',\n",
       " 'Juârez Acoustic Guitar, 38 Inch Cutaway, 038C with Bag, Strings, Pick and Strap, Black',\n",
       " 'Juârez Acoustic Guitar, 38 Inch Cutaway, 038C with Bag, Strings, Pick and Strap, Black',\n",
       " 'Intern INT-38C Acoustic Guitar Kit, With Bag, Strings, Pick And Strap, Black',\n",
       " 'Juarez JRZ38C Acoustic Guitar, 38 Inch Cutaway with Bag (TBS Transparent Blue Sunburst)',\n",
       " 'Kadence Guitar Acoustica Series, Electric Acoustic Guitar, Ash Wood with Pickup and Inbuilt tuner (Ash Wood, Electro Acoustic)',\n",
       " 'Fender CD 60 Dread V3 DS 6 String Acoustic Guitar - Walnut Fretboard-Black',\n",
       " 'Epiphone AJ-220S Acoustic Guitar, Vintage Sunburst',\n",
       " 'Ibanez V50NJP-NT Acoustic Guitar Pre Pack, Dreadnought, Natural High Gloss',\n",
       " 'Yamaha FS100C Acoustic Guitar, Black',\n",
       " 'JUAREZ JRZ38C Right Handed Acoustic Guitar (Sunburst, 6 Strings)',\n",
       " 'Hovner 215 Black F-Cut Rosewood Fretboard Acoustic Guitar With Bag,Strap,1 Set of Extra Strings and 2 Picks By K-Retail',\n",
       " 'Juarez Acoustic Guitar, 38 Inch Cutaway with Pick Guard, 38C/RDS with Bag, Strings, Pick and Strap, Red Sunburst',\n",
       " 'Juârez JRZ38C/WH 6 Strings Acoustic Guitar 38 Inch Cutaway, Right Handed, White with Bag, Strings, Picks and Strap',\n",
       " 'Juârez JRZ38C/ASH 6 Strings Acoustic Guitar 38 Inch Cutaway, Right Handed, Ash with Bag, Strings, Picks and Strap',\n",
       " \"D'Addario EZ900 Acoustic Guitar Strings, Pack of 2\",\n",
       " 'Juarez Acoustic Guitar, [ LEFT HANDED] 38 Inch Cutaway, 38CL/BK with Bag, Strings, Pick and Strap, Black',\n",
       " 'Juârez Acoustic Guitar, 38 Inch Cutaway, JRZ38C with Bag, Strings, Pick and Strap, Blue',\n",
       " 'Juârez JRZ38C/MAH 6 Strings Acoustic Guitar 38 Inch Cutaway, Right Handed, Mahogany with Bag, Strings, Picks and Strap',\n",
       " 'Medellin MED-BLU-C Linden Wood Acoustic Guitar',\n",
       " 'Intern INT-38C-RD-G Cutaway Right Handed Acoustic Guitar Kit, With Bag, Strings, Pick And Strap (Red, 6 Strings)',\n",
       " 'JUAREZ Acoustic Guitar, [LEFT HANDED] 38 Inch Cutaway, 38CL/TBLS with Bag, Strings, Pick and Strap, Blue Sunburst',\n",
       " 'Henrix 38 Acoustic Guitar with Die-cast Tuners and Dual-action Truss Rod - Includes Picks, Bag, Strings, Strap, Polishing Cloth and String Winder',\n",
       " 'Blueberry 38C IN Acoustic Guitar Kit with Bag,Belt & Picks inbuilt Truss-rod (Blue)',\n",
       " 'Juârez JRZ38C/MAH 6 Strings Acoustic Guitar 38 Inch Cutaway, Right Handed, Mahogany with Bag, Strings, Picks and Strap',\n",
       " 'Martin Smith W-101-N-PK Acoustic Guitar Super Kit with Stand (Natural)',\n",
       " 'HYMET 4-String Acoustic Guitar Learning Kids Toy, Brown 23\" (Brown)',\n",
       " 'Henrix 38 Acoustic Right Handed Guitar (Natural) with Die-cast Tuners and Dual-action Truss Rod - Includes Picks, Bag, Strings, Strap, Polishing Cloth and E-Book',\n",
       " 'Kadence Frontier Series, Acoustic Guitar With/Wihtout EQ Die Cast Keys Combo (Bag,strap,strings and 3 picks) (Brown, Acoustic)',\n",
       " 'JUAREZ Acoustic Guitar, [LEFT HANDED] 38 Inch Cutaway, 38CL/3TS with Bag, Strings, Pick and Strap, 3TS Sunburst (JRZ38CL/3TS)',\n",
       " 'Intern INT-38C Natural Acoustic Guitar kit with carry bag & picks',\n",
       " 'Henrix 38C Blue Burst Cutaway acoustic guitar with bag,strap, string set,4pcs picks, string winder, polish cloth, normal box (Blueburst)',\n",
       " 'DEVICE OF URBAN INFOTECH Tuning Peg Silver for Acoustic Guitar Parts Tuners Keys Semi-closed Guitar String Tuning Pegs Tuner Machine Heads Knobs Tuning Keys for Acoustic & Electric Guitar 3R+3L (6PCS)',\n",
       " \"Crizer 4 String Guitar Children's Musical Instrument Educational Toy Guitar Ukulele Instruments Beginner Musical Sound Toys Best Gift for Children\",\n",
       " 'SAAN Life Science 4-string Small Acoustic Guitar Musical Instrument Educational Learning kids Toy for Beginners - 23Inch',\n",
       " 'PSB Guitar for Kids - 4 String Guitar Musical Instrument Learning Kids Toy ( 17 Inches )',\n",
       " \"DIKUJI ENTERPRISE 6 String Decor Guitar Children's Musical Instrument Educational Toy Guitar for Beginners Kids Childs (Color May Vary)\"]"
      ]
     },
     "execution_count": 179,
     "metadata": {},
     "output_type": "execute_result"
    }
   ],
   "source": [
    "title1=title[:39:]\n",
    "title1"
   ]
  },
  {
   "cell_type": "code",
   "execution_count": null,
   "metadata": {},
   "outputs": [],
   "source": []
  },
  {
   "cell_type": "code",
   "execution_count": null,
   "metadata": {},
   "outputs": [],
   "source": []
  },
  {
   "cell_type": "code",
   "execution_count": null,
   "metadata": {},
   "outputs": [],
   "source": []
  },
  {
   "cell_type": "code",
   "execution_count": 46,
   "metadata": {},
   "outputs": [],
   "source": [
    "rating1=[]\n",
    "for i in urls:\n",
    "    \n",
    "    driver.get(i)\n",
    "    time.sleep(3)\n",
    "    #extracting rating of iphone\n",
    "    try:\n",
    "        rating1_tags= driver.find_elements_by_id('acrCustomerReviewText')\n",
    "        for j in rating1_tags:\n",
    "            rating1.append(j.text)          \n",
    "    except:\n",
    "            rating1.append(\"-\")"
   ]
  },
  {
   "cell_type": "code",
   "execution_count": 47,
   "metadata": {},
   "outputs": [
    {
     "data": {
      "text/plain": [
       "114"
      ]
     },
     "execution_count": 47,
     "metadata": {},
     "output_type": "execute_result"
    }
   ],
   "source": [
    "len(rating1)"
   ]
  },
  {
   "cell_type": "code",
   "execution_count": 48,
   "metadata": {},
   "outputs": [
    {
     "data": {
      "text/plain": [
       "['588 ratings',\n",
       " '588 ratings',\n",
       " '284 ratings',\n",
       " '284 ratings',\n",
       " '1,027 ratings',\n",
       " '1,027 ratings',\n",
       " '13,029 ratings',\n",
       " '13,029 ratings',\n",
       " '13,029 ratings',\n",
       " '13,029 ratings',\n",
       " '7,043 ratings',\n",
       " '7,043 ratings',\n",
       " '4,387 ratings',\n",
       " '4,387 ratings',\n",
       " '705 ratings',\n",
       " '705 ratings',\n",
       " '743 ratings',\n",
       " '743 ratings',\n",
       " '78 ratings',\n",
       " '78 ratings',\n",
       " '855 ratings',\n",
       " '855 ratings',\n",
       " '197 ratings',\n",
       " '197 ratings',\n",
       " '4,285 ratings',\n",
       " '4,285 ratings',\n",
       " '353 ratings',\n",
       " '353 ratings',\n",
       " '2,846 ratings',\n",
       " '2,846 ratings',\n",
       " '475 ratings',\n",
       " '475 ratings',\n",
       " '201 ratings',\n",
       " '201 ratings',\n",
       " '2,640 ratings',\n",
       " '2,640 ratings',\n",
       " '581 ratings',\n",
       " '581 ratings',\n",
       " '1,073 ratings',\n",
       " '1,073 ratings',\n",
       " '200 ratings',\n",
       " '200 ratings',\n",
       " '588 ratings',\n",
       " '588 ratings',\n",
       " '985 ratings',\n",
       " '985 ratings',\n",
       " '6 ratings',\n",
       " '6 ratings',\n",
       " '674 ratings',\n",
       " '674 ratings',\n",
       " '36 ratings',\n",
       " '36 ratings',\n",
       " '200 ratings',\n",
       " '200 ratings',\n",
       " '3,304 ratings',\n",
       " '3,304 ratings',\n",
       " '1 rating',\n",
       " '1 rating',\n",
       " '84 ratings',\n",
       " '84 ratings',\n",
       " '1,108 ratings',\n",
       " '1,108 ratings',\n",
       " '2 ratings',\n",
       " '2 ratings',\n",
       " '1,407 ratings',\n",
       " '1,407 ratings',\n",
       " '3 ratings',\n",
       " '3 ratings',\n",
       " '87 ratings',\n",
       " '87 ratings',\n",
       " '31 ratings',\n",
       " '31 ratings',\n",
       " '70 ratings',\n",
       " '70 ratings',\n",
       " '1 rating',\n",
       " '1 rating',\n",
       " '14 ratings',\n",
       " '14 ratings',\n",
       " '106 ratings',\n",
       " '106 ratings',\n",
       " '176 ratings',\n",
       " '176 ratings',\n",
       " '27 ratings',\n",
       " '27 ratings',\n",
       " '3 ratings',\n",
       " '3 ratings',\n",
       " '60 ratings',\n",
       " '60 ratings',\n",
       " '57 ratings',\n",
       " '57 ratings',\n",
       " '318 ratings',\n",
       " '318 ratings',\n",
       " '1 rating',\n",
       " '1 rating',\n",
       " '19 ratings',\n",
       " '19 ratings',\n",
       " '192 ratings',\n",
       " '192 ratings',\n",
       " '323 ratings',\n",
       " '323 ratings',\n",
       " '3 ratings',\n",
       " '3 ratings',\n",
       " '1,073 ratings',\n",
       " '1,073 ratings',\n",
       " '4,387 ratings',\n",
       " '4,387 ratings',\n",
       " '475 ratings',\n",
       " '475 ratings',\n",
       " '318 ratings',\n",
       " '318 ratings',\n",
       " '10 ratings',\n",
       " '10 ratings',\n",
       " '73 ratings',\n",
       " '73 ratings']"
      ]
     },
     "execution_count": 48,
     "metadata": {},
     "output_type": "execute_result"
    }
   ],
   "source": [
    "rating1"
   ]
  },
  {
   "cell_type": "code",
   "execution_count": 49,
   "metadata": {},
   "outputs": [
    {
     "data": {
      "text/plain": [
       "['588 ratings',\n",
       " '284 ratings',\n",
       " '1,027 ratings',\n",
       " '13,029 ratings',\n",
       " '13,029 ratings',\n",
       " '7,043 ratings',\n",
       " '4,387 ratings',\n",
       " '705 ratings',\n",
       " '743 ratings',\n",
       " '78 ratings',\n",
       " '855 ratings',\n",
       " '197 ratings',\n",
       " '4,285 ratings',\n",
       " '353 ratings',\n",
       " '2,846 ratings',\n",
       " '475 ratings',\n",
       " '201 ratings',\n",
       " '2,640 ratings',\n",
       " '581 ratings',\n",
       " '1,073 ratings',\n",
       " '200 ratings',\n",
       " '588 ratings',\n",
       " '985 ratings',\n",
       " '6 ratings',\n",
       " '674 ratings',\n",
       " '36 ratings',\n",
       " '200 ratings',\n",
       " '3,304 ratings',\n",
       " '1 rating',\n",
       " '84 ratings',\n",
       " '1,108 ratings',\n",
       " '2 ratings',\n",
       " '1,407 ratings',\n",
       " '3 ratings',\n",
       " '87 ratings',\n",
       " '31 ratings',\n",
       " '70 ratings',\n",
       " '1 rating',\n",
       " '14 ratings',\n",
       " '106 ratings',\n",
       " '176 ratings',\n",
       " '27 ratings',\n",
       " '3 ratings',\n",
       " '60 ratings',\n",
       " '57 ratings',\n",
       " '318 ratings',\n",
       " '1 rating',\n",
       " '19 ratings',\n",
       " '192 ratings',\n",
       " '323 ratings',\n",
       " '3 ratings',\n",
       " '1,073 ratings',\n",
       " '4,387 ratings',\n",
       " '475 ratings',\n",
       " '318 ratings',\n",
       " '10 ratings',\n",
       " '73 ratings']"
      ]
     },
     "execution_count": 49,
     "metadata": {},
     "output_type": "execute_result"
    }
   ],
   "source": [
    "rating2=rating1[::2]\n",
    "rating2"
   ]
  },
  {
   "cell_type": "code",
   "execution_count": 50,
   "metadata": {},
   "outputs": [
    {
     "data": {
      "text/plain": [
       "57"
      ]
     },
     "execution_count": 50,
     "metadata": {},
     "output_type": "execute_result"
    }
   ],
   "source": [
    "len(rating2)"
   ]
  },
  {
   "cell_type": "code",
   "execution_count": 191,
   "metadata": {},
   "outputs": [
    {
     "data": {
      "text/plain": [
       "['588 ratings',\n",
       " '588 ratings',\n",
       " '284 ratings',\n",
       " '284 ratings',\n",
       " '1,027 ratings',\n",
       " '1,027 ratings',\n",
       " '13,030 ratings',\n",
       " '13,030 ratings',\n",
       " '13,030 ratings',\n",
       " '13,030 ratings',\n",
       " '7,044 ratings',\n",
       " '7,044 ratings',\n",
       " '4,387 ratings',\n",
       " '4,387 ratings',\n",
       " '705 ratings',\n",
       " '705 ratings',\n",
       " '743 ratings',\n",
       " '743 ratings',\n",
       " '78 ratings',\n",
       " '78 ratings',\n",
       " '855 ratings',\n",
       " '855 ratings',\n",
       " '197 ratings',\n",
       " '197 ratings',\n",
       " '4,285 ratings',\n",
       " '4,285 ratings',\n",
       " '353 ratings',\n",
       " '353 ratings',\n",
       " '2,846 ratings',\n",
       " '2,846 ratings',\n",
       " '475 ratings',\n",
       " '475 ratings',\n",
       " '201 ratings',\n",
       " '201 ratings',\n",
       " '2,640 ratings',\n",
       " '2,640 ratings',\n",
       " '581 ratings',\n",
       " '581 ratings',\n",
       " '1,073 ratings']"
      ]
     },
     "execution_count": 191,
     "metadata": {},
     "output_type": "execute_result"
    }
   ],
   "source": [
    "rating2_n=rating2[:39:]\n",
    "rating2_n"
   ]
  },
  {
   "cell_type": "code",
   "execution_count": 220,
   "metadata": {},
   "outputs": [],
   "source": [
    "price1=[]\n",
    "for i in urls:\n",
    "    \n",
    "    driver.get(i)\n",
    "    time.sleep(3)\n",
    "    #extracting rating of iphone\n",
    "    try:\n",
    "        price1_tags= driver.find_elements_by_xpath('//span[@class=\"a-size-medium a-color-price priceBlockBuyingPriceString\"]')\n",
    "        for j in price1_tags:\n",
    "            price1.append(j.text)          \n",
    "    except:\n",
    "            price1.append(\"-\")"
   ]
  },
  {
   "cell_type": "code",
   "execution_count": 221,
   "metadata": {},
   "outputs": [
    {
     "data": {
      "text/plain": [
       "47"
      ]
     },
     "execution_count": 221,
     "metadata": {},
     "output_type": "execute_result"
    }
   ],
   "source": [
    "len(price1)"
   ]
  },
  {
   "cell_type": "code",
   "execution_count": 222,
   "metadata": {},
   "outputs": [
    {
     "data": {
      "text/plain": [
       "['₹3,199.00',\n",
       " '₹5,999.00',\n",
       " '₹2,290.00',\n",
       " '₹13,354.00',\n",
       " '₹27,499.00',\n",
       " '₹11,851.00',\n",
       " '₹9,990.00',\n",
       " '₹2,649.00',\n",
       " '₹2,290.00',\n",
       " '₹675.00',\n",
       " '₹2,649.00',\n",
       " '₹2,290.00',\n",
       " '₹2,799.00',\n",
       " '₹2,499.00',\n",
       " '₹2,290.00',\n",
       " '₹2,649.00',\n",
       " '₹2,749.00',\n",
       " '₹2,895.00',\n",
       " '₹2,799.00',\n",
       " '₹2,749.00',\n",
       " '₹2,649.00',\n",
       " '₹2,390.00',\n",
       " '₹2,749.00',\n",
       " '₹480.00',\n",
       " '₹1,011.00',\n",
       " '₹1,299.00',\n",
       " '₹549.00',\n",
       " '₹1,499.00',\n",
       " '₹332.00',\n",
       " '₹899.00',\n",
       " '₹299.00',\n",
       " '₹4,009.00',\n",
       " '₹999.00',\n",
       " '₹4,009.00',\n",
       " '₹3,690.00',\n",
       " '₹2,649.00',\n",
       " '₹754.00',\n",
       " '₹999.00',\n",
       " '₹899.00',\n",
       " '₹1,294.00',\n",
       " '₹6,990.00',\n",
       " '₹395.00',\n",
       " '₹2,290.00',\n",
       " '₹2,649.00',\n",
       " '₹2,649.00',\n",
       " '₹5,019.00',\n",
       " '₹3,179.00']"
      ]
     },
     "execution_count": 222,
     "metadata": {},
     "output_type": "execute_result"
    }
   ],
   "source": [
    "price1"
   ]
  },
  {
   "cell_type": "code",
   "execution_count": 223,
   "metadata": {},
   "outputs": [
    {
     "data": {
      "text/plain": [
       "47"
      ]
     },
     "execution_count": 223,
     "metadata": {},
     "output_type": "execute_result"
    }
   ],
   "source": [
    "len(price1)"
   ]
  },
  {
   "cell_type": "code",
   "execution_count": null,
   "metadata": {},
   "outputs": [],
   "source": []
  },
  {
   "cell_type": "code",
   "execution_count": 224,
   "metadata": {},
   "outputs": [
    {
     "data": {
      "text/plain": [
       "['₹3,199.00',\n",
       " '₹5,999.00',\n",
       " '₹2,290.00',\n",
       " '₹13,354.00',\n",
       " '₹27,499.00',\n",
       " '₹11,851.00',\n",
       " '₹9,990.00',\n",
       " '₹2,649.00',\n",
       " '₹2,290.00',\n",
       " '₹675.00',\n",
       " '₹2,649.00',\n",
       " '₹2,290.00',\n",
       " '₹2,799.00',\n",
       " '₹2,499.00',\n",
       " '₹2,290.00',\n",
       " '₹2,649.00',\n",
       " '₹2,749.00',\n",
       " '₹2,895.00',\n",
       " '₹2,799.00',\n",
       " '₹2,749.00',\n",
       " '₹2,649.00',\n",
       " '₹2,390.00',\n",
       " '₹2,749.00',\n",
       " '₹480.00',\n",
       " '₹1,011.00',\n",
       " '₹1,299.00',\n",
       " '₹549.00',\n",
       " '₹1,499.00',\n",
       " '₹332.00',\n",
       " '₹899.00',\n",
       " '₹299.00',\n",
       " '₹4,009.00',\n",
       " '₹999.00',\n",
       " '₹4,009.00',\n",
       " '₹3,690.00',\n",
       " '₹2,649.00',\n",
       " '₹754.00',\n",
       " '₹999.00',\n",
       " '₹899.00']"
      ]
     },
     "execution_count": 224,
     "metadata": {},
     "output_type": "execute_result"
    }
   ],
   "source": [
    "price1_n=price1[:39:]\n",
    "price1_n"
   ]
  },
  {
   "cell_type": "code",
   "execution_count": 231,
   "metadata": {},
   "outputs": [
    {
     "data": {
      "text/plain": [
       "39"
      ]
     },
     "execution_count": 231,
     "metadata": {},
     "output_type": "execute_result"
    }
   ],
   "source": [
    "len(price1_n)"
   ]
  },
  {
   "cell_type": "code",
   "execution_count": null,
   "metadata": {},
   "outputs": [],
   "source": []
  },
  {
   "cell_type": "code",
   "execution_count": 55,
   "metadata": {},
   "outputs": [],
   "source": [
    "ret_exchange4=[]\n",
    "for i in urls:\n",
    "    \n",
    "    driver.get(i)\n",
    "    time.sleep(3)\n",
    "    #extracting rating of iphone\n",
    "    try:\n",
    "        ret_exchange4_tags= driver.find_elements_by_xpath('//a[@class=\"a-size-small a-link-normal a-text-normal\"]')\n",
    "        for j in ret_exchange4_tags:\n",
    "            ret_exchange4.append(j.text)          \n",
    "    except:\n",
    "            ret_exchange4.append(\"-\")"
   ]
  },
  {
   "cell_type": "code",
   "execution_count": null,
   "metadata": {},
   "outputs": [],
   "source": []
  },
  {
   "cell_type": "code",
   "execution_count": 56,
   "metadata": {},
   "outputs": [
    {
     "data": {
      "text/plain": [
       "242"
      ]
     },
     "execution_count": 56,
     "metadata": {},
     "output_type": "execute_result"
    }
   ],
   "source": [
    "len(ret_exchange4)"
   ]
  },
  {
   "cell_type": "code",
   "execution_count": 57,
   "metadata": {},
   "outputs": [
    {
     "data": {
      "text/plain": [
       "['Pay on Delivery',\n",
       " '7 Days Replacement',\n",
       " 'Amazon Delivered',\n",
       " '6 Month Warranty',\n",
       " 'Pay on Delivery',\n",
       " '7 Days Replacement',\n",
       " 'Amazon Delivered',\n",
       " 'No-Contact Delivery',\n",
       " 'Pay on Delivery',\n",
       " '7 Days Replacement',\n",
       " 'Amazon Delivered',\n",
       " '6 Month Warranty',\n",
       " 'Pay on Delivery',\n",
       " '7 Days Replacement',\n",
       " 'Amazon Delivered',\n",
       " 'No-Contact Delivery',\n",
       " 'Pay on Delivery',\n",
       " '7 Days Replacement',\n",
       " 'Amazon Delivered',\n",
       " 'No-Contact Delivery',\n",
       " 'Pay on Delivery',\n",
       " '7 Days Replacement',\n",
       " 'Amazon Delivered',\n",
       " '1 Year Warranty',\n",
       " 'Pay on Delivery',\n",
       " '7 Days Replacement',\n",
       " 'Amazon Delivered',\n",
       " 'No-Contact Delivery',\n",
       " 'Pay on Delivery',\n",
       " '7 Days Replacement',\n",
       " 'Amazon Delivered',\n",
       " '1 Year Warranty',\n",
       " 'Pay on Delivery',\n",
       " '7 Days Replacement',\n",
       " 'Amazon Delivered',\n",
       " 'No-Contact Delivery',\n",
       " 'Pay on Delivery',\n",
       " '7 Days Replacement',\n",
       " 'Amazon Delivered',\n",
       " '1 Year Warranty',\n",
       " 'Pay on Delivery',\n",
       " '7 Days Replacement',\n",
       " 'Amazon Delivered',\n",
       " '1 Year Warranty',\n",
       " 'Pay on Delivery',\n",
       " '7 Days Replacement',\n",
       " 'Amazon Delivered',\n",
       " '1 Year Warranty',\n",
       " 'Pay on Delivery',\n",
       " '7 Days Replacement',\n",
       " 'Amazon Delivered',\n",
       " '1 Year Warranty',\n",
       " 'Pay on Delivery',\n",
       " '7 Days Replacement',\n",
       " 'Amazon Delivered',\n",
       " '1 Year Warranty',\n",
       " 'Pay on Delivery',\n",
       " '7 Days Replacement',\n",
       " 'Amazon Delivered',\n",
       " 'No-Contact Delivery',\n",
       " 'Pay on Delivery',\n",
       " '7 Days Replacement',\n",
       " 'Amazon Delivered',\n",
       " 'No-Contact Delivery',\n",
       " 'Pay on Delivery',\n",
       " '7 Days Replacement',\n",
       " 'Amazon Delivered',\n",
       " 'No-Contact Delivery',\n",
       " 'Pay on Delivery',\n",
       " '7 Days Replacement',\n",
       " 'Amazon Delivered',\n",
       " 'Warranty Policy',\n",
       " 'Pay on Delivery',\n",
       " '7 Days Replacement',\n",
       " 'Amazon Delivered',\n",
       " 'No-Contact Delivery',\n",
       " 'Pay on Delivery',\n",
       " '7 Days Replacement',\n",
       " 'Amazon Delivered',\n",
       " 'No-Contact Delivery',\n",
       " 'Pay on Delivery',\n",
       " '7 Days Replacement',\n",
       " 'Amazon Delivered',\n",
       " '1 Year Warranty',\n",
       " 'Pay on Delivery',\n",
       " '7 Days Replacement',\n",
       " 'Amazon Delivered',\n",
       " '6 Month Warranty',\n",
       " 'Pay on Delivery',\n",
       " '7 Days Replacement',\n",
       " 'Amazon Delivered',\n",
       " 'Warranty Policy',\n",
       " 'Pay on Delivery',\n",
       " '7 Days Replacement',\n",
       " 'Amazon Delivered',\n",
       " '1 Year Warranty',\n",
       " 'Pay on Delivery',\n",
       " '7 Days Replacement',\n",
       " 'Amazon Delivered',\n",
       " 'Warranty Policy',\n",
       " 'Pay on Delivery',\n",
       " '7 Days Replacement',\n",
       " 'Amazon Delivered',\n",
       " '1 Month Warranty',\n",
       " 'Pay on Delivery',\n",
       " '7 Days Replacement',\n",
       " 'Amazon Delivered',\n",
       " '1 Year Warranty',\n",
       " 'Pay on Delivery',\n",
       " '7 Days Replacement',\n",
       " 'Amazon Delivered',\n",
       " '1 Year Warranty',\n",
       " '7 Days Returnable',\n",
       " 'Amazon Delivered',\n",
       " 'No-Contact Delivery',\n",
       " 'Pay on Delivery',\n",
       " '7 Days Replacement',\n",
       " 'Amazon Delivered',\n",
       " 'Warranty Policy',\n",
       " 'Pay on Delivery',\n",
       " '7 Days Replacement',\n",
       " 'Amazon Delivered',\n",
       " '1 Year Warranty',\n",
       " 'Pay on Delivery',\n",
       " '7 Days Replacement',\n",
       " 'Amazon Delivered',\n",
       " '1 Year Warranty',\n",
       " 'Pay on Delivery',\n",
       " '7 Days Replacement',\n",
       " 'Amazon Delivered',\n",
       " '1 Year Warranty',\n",
       " 'Pay on Delivery',\n",
       " '7 Days Replacement',\n",
       " 'Amazon Delivered',\n",
       " 'Warranty Policy',\n",
       " 'Pay on Delivery',\n",
       " '7 Days Replacement',\n",
       " 'Amazon Delivered',\n",
       " 'Warranty Policy',\n",
       " '7 Days Replacement',\n",
       " 'Amazon Delivered',\n",
       " 'No-Contact Delivery',\n",
       " '7 Days Replacement',\n",
       " 'Amazon Delivered',\n",
       " 'No-Contact Delivery',\n",
       " '7 Days Returnable',\n",
       " 'Amazon Delivered',\n",
       " 'No-Contact Delivery',\n",
       " '7 Days Replacement',\n",
       " 'Amazon Delivered',\n",
       " 'No-Contact Delivery',\n",
       " '7 Days Returnable',\n",
       " 'Amazon Delivered',\n",
       " 'No-Contact Delivery',\n",
       " '7 Days Replacement',\n",
       " 'Amazon Delivered',\n",
       " 'No-Contact Delivery',\n",
       " '7 Days Replacement',\n",
       " 'Amazon Delivered',\n",
       " 'Warranty Policy',\n",
       " 'No-Contact Delivery',\n",
       " '7 Days Replacement',\n",
       " 'Amazon Delivered',\n",
       " 'No-Contact Delivery',\n",
       " 'Pay on Delivery',\n",
       " '7 Days Replacement',\n",
       " 'Amazon Delivered',\n",
       " '1 Year Warranty',\n",
       " 'Pay on Delivery',\n",
       " '7 Days Replacement',\n",
       " 'Amazon Delivered',\n",
       " '1 Year Warranty',\n",
       " '7 Days Replacement',\n",
       " 'Amazon Delivered',\n",
       " 'Warranty Policy',\n",
       " 'No-Contact Delivery',\n",
       " '7 Days Replacement',\n",
       " '1 Year Warranty',\n",
       " 'Pay on Delivery',\n",
       " '7 Days Replacement',\n",
       " 'Amazon Delivered',\n",
       " '1 Year Warranty',\n",
       " 'Pay on Delivery',\n",
       " '7 Days Replacement',\n",
       " 'Amazon Delivered',\n",
       " '1 Year Warranty',\n",
       " 'Pay on Delivery',\n",
       " '7 Days Replacement',\n",
       " 'Amazon Delivered',\n",
       " 'No-Contact Delivery',\n",
       " '7 Days Replacement',\n",
       " 'Amazon Delivered',\n",
       " 'Warranty Policy',\n",
       " 'No-Contact Delivery',\n",
       " '7 Days Returnable',\n",
       " 'Amazon Delivered',\n",
       " 'No-Contact Delivery',\n",
       " '7 Days Replacement',\n",
       " 'Amazon Delivered',\n",
       " 'Warranty Policy',\n",
       " 'No-Contact Delivery',\n",
       " '7 Days Replacement',\n",
       " 'Warranty Policy',\n",
       " '7 Days Returnable',\n",
       " 'Amazon Delivered',\n",
       " 'No-Contact Delivery',\n",
       " 'Pay on Delivery',\n",
       " '7 Days Replacement',\n",
       " 'Amazon Delivered',\n",
       " '12 Month Warranty',\n",
       " 'Pay on Delivery',\n",
       " '7 Days Replacement',\n",
       " 'Amazon Delivered',\n",
       " 'Warranty Policy',\n",
       " 'Pay on Delivery',\n",
       " '7 Days Replacement',\n",
       " 'Amazon Delivered',\n",
       " '1 Year Warranty',\n",
       " '7 Days Replacement',\n",
       " 'Amazon Delivered',\n",
       " 'Warranty Policy',\n",
       " 'No-Contact Delivery',\n",
       " 'Pay on Delivery',\n",
       " '7 Days Replacement',\n",
       " 'Amazon Delivered',\n",
       " 'No-Contact Delivery',\n",
       " 'Pay on Delivery',\n",
       " '7 Days Replacement',\n",
       " 'Amazon Delivered',\n",
       " 'No-Contact Delivery',\n",
       " 'Pay on Delivery',\n",
       " '7 Days Replacement',\n",
       " 'Amazon Delivered',\n",
       " 'No-Contact Delivery',\n",
       " 'Pay on Delivery',\n",
       " '7 Days Replacement',\n",
       " 'Amazon Delivered',\n",
       " '1 Year Warranty',\n",
       " 'Pay on Delivery',\n",
       " '7 Days Replacement',\n",
       " 'Amazon Delivered',\n",
       " '1 Year Warranty']"
      ]
     },
     "execution_count": 57,
     "metadata": {},
     "output_type": "execute_result"
    }
   ],
   "source": [
    "ret_exchange4"
   ]
  },
  {
   "cell_type": "code",
   "execution_count": 65,
   "metadata": {},
   "outputs": [
    {
     "data": {
      "text/plain": [
       "['7 Days Replacement',\n",
       " '7 Days Replacement',\n",
       " '7 Days Replacement',\n",
       " '7 Days Replacement',\n",
       " '7 Days Replacement',\n",
       " '7 Days Replacement',\n",
       " '7 Days Replacement',\n",
       " '7 Days Replacement',\n",
       " '7 Days Replacement',\n",
       " '7 Days Replacement',\n",
       " '7 Days Replacement',\n",
       " '7 Days Replacement',\n",
       " '7 Days Replacement',\n",
       " '7 Days Replacement',\n",
       " '7 Days Replacement',\n",
       " '7 Days Replacement',\n",
       " '7 Days Replacement',\n",
       " '7 Days Replacement',\n",
       " '7 Days Replacement',\n",
       " '7 Days Replacement',\n",
       " '7 Days Replacement',\n",
       " '7 Days Replacement',\n",
       " '7 Days Replacement',\n",
       " '7 Days Replacement',\n",
       " '7 Days Replacement',\n",
       " '7 Days Replacement',\n",
       " '7 Days Replacement',\n",
       " '7 Days Replacement']"
      ]
     },
     "execution_count": 65,
     "metadata": {},
     "output_type": "execute_result"
    }
   ],
   "source": [
    "ret_exchange5=ret_exchange4[1:112:4]\n",
    "ret_exchange5"
   ]
  },
  {
   "cell_type": "code",
   "execution_count": 69,
   "metadata": {},
   "outputs": [
    {
     "data": {
      "text/plain": [
       "['7 Days Replacement',\n",
       " '7 Days Replacement',\n",
       " '7 Days Replacement',\n",
       " '7 Days Replacement',\n",
       " '7 Days Replacement',\n",
       " '7 Days Replacement']"
      ]
     },
     "execution_count": 69,
     "metadata": {},
     "output_type": "execute_result"
    }
   ],
   "source": [
    "ret_exchange6=ret_exchange4[116:140:4]\n",
    "ret_exchange6"
   ]
  },
  {
   "cell_type": "code",
   "execution_count": 80,
   "metadata": {},
   "outputs": [
    {
     "data": {
      "text/plain": [
       "['7 Days Returnable',\n",
       " '7 Days Replacement',\n",
       " '7 Days Returnable',\n",
       " '7 Days Replacement',\n",
       " '7 Days Replacement']"
      ]
     },
     "execution_count": 80,
     "metadata": {},
     "output_type": "execute_result"
    }
   ],
   "source": [
    "ret_exchange7=ret_exchange4[145:160:3]\n",
    "ret_exchange7"
   ]
  },
  {
   "cell_type": "code",
   "execution_count": 81,
   "metadata": {},
   "outputs": [
    {
     "data": {
      "text/plain": [
       "['7 Days Replacement',\n",
       " '7 Days Replacement',\n",
       " '7 Days Replacement',\n",
       " '7 Days Replacement',\n",
       " '7 Days Replacement',\n",
       " '7 Days Replacement',\n",
       " '7 Days Replacement',\n",
       " '7 Days Replacement',\n",
       " '7 Days Replacement',\n",
       " '7 Days Replacement',\n",
       " '7 Days Replacement',\n",
       " '7 Days Replacement',\n",
       " '7 Days Replacement',\n",
       " '7 Days Replacement',\n",
       " '7 Days Replacement',\n",
       " '7 Days Replacement',\n",
       " '7 Days Replacement',\n",
       " '7 Days Replacement',\n",
       " '7 Days Replacement',\n",
       " '7 Days Replacement',\n",
       " '7 Days Replacement',\n",
       " '7 Days Replacement',\n",
       " '7 Days Replacement',\n",
       " '7 Days Replacement',\n",
       " '7 Days Replacement',\n",
       " '7 Days Replacement',\n",
       " '7 Days Replacement',\n",
       " '7 Days Replacement',\n",
       " '7 Days Replacement',\n",
       " '7 Days Replacement',\n",
       " '7 Days Replacement',\n",
       " '7 Days Replacement',\n",
       " '7 Days Replacement',\n",
       " '7 Days Replacement',\n",
       " '7 Days Returnable',\n",
       " '7 Days Replacement',\n",
       " '7 Days Returnable',\n",
       " '7 Days Replacement',\n",
       " '7 Days Replacement']"
      ]
     },
     "execution_count": 81,
     "metadata": {},
     "output_type": "execute_result"
    }
   ],
   "source": [
    "ret_exchange8=ret_exchange5+ret_exchange6+ret_exchange7\n",
    "ret_exchange8"
   ]
  },
  {
   "cell_type": "code",
   "execution_count": 82,
   "metadata": {},
   "outputs": [
    {
     "data": {
      "text/plain": [
       "39"
      ]
     },
     "execution_count": 82,
     "metadata": {},
     "output_type": "execute_result"
    }
   ],
   "source": [
    "len(ret_exchange8)"
   ]
  },
  {
   "cell_type": "code",
   "execution_count": 83,
   "metadata": {},
   "outputs": [],
   "source": [
    "Expected_Delivery1=[]\n",
    "for i in urls:\n",
    "    \n",
    "    driver.get(i)\n",
    "    time.sleep(3)\n",
    "    #extracting rating of iphone\n",
    "    try:\n",
    "        Expected_Delivery1_tags= driver.find_elements_by_id('ddmDeliveryMessage')\n",
    "        for j in Expected_Delivery1_tags:\n",
    "            Expected_Delivery1.append(j.text.replace(\"\\n\",\",\"))          \n",
    "    except:\n",
    "            Expected_Delivery1.append(\"-\")"
   ]
  },
  {
   "cell_type": "code",
   "execution_count": 84,
   "metadata": {},
   "outputs": [
    {
     "data": {
      "text/plain": [
       "63"
      ]
     },
     "execution_count": 84,
     "metadata": {},
     "output_type": "execute_result"
    }
   ],
   "source": [
    "len(Expected_Delivery1)"
   ]
  },
  {
   "cell_type": "code",
   "execution_count": 85,
   "metadata": {},
   "outputs": [
    {
     "data": {
      "text/plain": [
       "['FREE delivery: Monday, Sep 27 Details,Fastest delivery: Sunday, Sep 26,Order within 21 hrs and 17 mins Details',\n",
       " 'FREE delivery: Monday, Sep 27 Details,Fastest delivery: Sunday, Sep 26,Order within 20 hrs and 47 mins Details',\n",
       " 'FREE delivery: Monday, Sep 27 Details,Fastest delivery: Sunday, Sep 26,Order within 20 hrs and 47 mins Details',\n",
       " 'FREE delivery: Saturday, Sep 25 Details,Fastest delivery: Tomorrow,Order within 7 hrs and 2 mins Details',\n",
       " 'FREE delivery: Saturday, Sep 25 Details,Fastest delivery: Tomorrow,Order within 7 hrs and 2 mins Details',\n",
       " 'FREE delivery: Saturday, Sep 25 Details,Fastest delivery: Tomorrow,Order within 7 hrs and 2 mins Details',\n",
       " 'FREE delivery: Saturday, Sep 25 Details,Fastest delivery: Tomorrow,Order within 7 hrs and 2 mins Details',\n",
       " 'FREE delivery: Monday, Sep 27 Details,Fastest delivery: Sunday, Sep 26,Order within 20 hrs and 47 mins Details',\n",
       " 'FREE delivery: Tuesday, Sep 28 Details',\n",
       " 'FREE delivery: Sunday, Sep 26 Details',\n",
       " 'FREE delivery: Saturday, Sep 25 Details,Fastest delivery: Tomorrow,Order within 7 hrs and 1 min Details',\n",
       " 'FREE delivery: Sunday, Sep 26 Details',\n",
       " 'FREE delivery: Saturday, Sep 25 Details,Fastest delivery: Tomorrow,Order within 7 hrs and 1 min Details',\n",
       " 'FREE delivery: Tuesday, Sep 28 Details',\n",
       " 'FREE delivery: Saturday, Sep 25 Details,Fastest delivery: Tomorrow,Order within 7 hrs and 1 min Details',\n",
       " 'FREE delivery: Saturday, Sep 25 Details,Fastest delivery: Tomorrow,Order within 7 hrs and 1 min Details',\n",
       " 'FREE delivery: Saturday, Sep 25 Details,Fastest delivery: Tomorrow,Order within 7 hrs and 1 min Details',\n",
       " 'FREE delivery: Sunday, Sep 26 Details,Fastest delivery: Saturday, Sep 25,Order within 7 hrs and 31 mins Details',\n",
       " 'FREE delivery: Saturday, Sep 25 Details,Fastest delivery: Tomorrow,Order within 7 hrs and 1 min Details',\n",
       " 'FREE delivery: Saturday, Sep 25 Details,Fastest delivery: Tomorrow,Order within 7 hrs and 1 min Details',\n",
       " 'FREE delivery: Saturday, Sep 25 Details,Fastest delivery: Tomorrow,Order within 7 hrs Details',\n",
       " 'FREE delivery: Monday, Sep 27 Details,Fastest delivery: Sunday, Sep 26,Order within 21 hrs and 15 mins Details',\n",
       " 'FREE delivery: Saturday, Sep 25 Details,Fastest delivery: Tomorrow,Order within 7 hrs Details',\n",
       " 'FREE delivery: Saturday, Sep 25 Details,Fastest delivery: Tomorrow,Order within 7 hrs Details',\n",
       " 'FREE delivery: Sunday, Sep 26 Details,Fastest delivery: Saturday, Sep 25,Order within 7 hrs and 30 mins Details',\n",
       " 'FREE delivery: Tuesday, Sep 28 Details',\n",
       " 'FREE delivery: Saturday, Sep 25 Details,Fastest delivery: Tomorrow,Order within 7 hrs Details',\n",
       " 'FREE delivery: Saturday, Sep 25 Details,Fastest delivery: Tomorrow,Order within 7 hrs Details',\n",
       " 'FREE delivery: Tuesday, Sep 28 Details,Fastest delivery: Sunday, Sep 26',\n",
       " 'FREE delivery: Sunday, Sep 26 Details,Fastest delivery: Saturday, Sep 25,Order within 7 hrs and 30 mins Details',\n",
       " 'FREE delivery: Monday, Sep 27 Details,Fastest delivery: Sunday, Sep 26,Order within 20 hrs and 45 mins Details',\n",
       " 'FREE delivery: Saturday, Sep 25 Details,Fastest delivery: Tomorrow,Order within 6 hrs and 59 mins Details',\n",
       " 'FREE delivery: Saturday, Sep 25 Details,Fastest delivery: Tomorrow,Order within 6 hrs and 44 mins Details',\n",
       " 'FREE delivery: Sunday, Sep 26 Details,Fastest delivery: Saturday, Sep 25,Order within 7 hrs and 29 mins Details',\n",
       " 'FREE delivery: Thursday, Sep 30 on orders over ₹499 shipped by Amazon Details,Fastest delivery: Saturday, Sep 25,Order within 6 hrs and 14 mins Details',\n",
       " 'FREE delivery: Tuesday, Sep 28 Details,Fastest delivery: Sunday, Sep 26',\n",
       " 'FREE delivery: Tuesday, Sep 28 Details,Fastest delivery: Sunday, Sep 26',\n",
       " 'FREE delivery: Saturday, Sep 25 Details',\n",
       " 'FREE delivery: Tuesday, Sep 28 Details,Fastest delivery: Sunday, Sep 26',\n",
       " 'FREE delivery: Wednesday, Sep 29 Details',\n",
       " 'FREE delivery: Wednesday, Sep 29 Details',\n",
       " 'FREE delivery: Wednesday, Sep 29 Details',\n",
       " 'FREE delivery: Saturday, Sep 25 Details,Fastest delivery: Tomorrow,Order within 6 hrs and 58 mins Details',\n",
       " 'FREE delivery: Saturday, Sep 25 Details,Fastest delivery: Tomorrow,Order within 6 hrs and 58 mins Details',\n",
       " 'FREE delivery: Sep 28 - 29 Details,Fastest delivery: Sunday, Sep 26',\n",
       " 'FREE delivery: Saturday, Sep 25 Details,Fastest delivery: Tomorrow,Order within 6 hrs and 58 mins Details',\n",
       " 'FREE delivery: Tuesday, Sep 28 Details',\n",
       " 'FREE delivery: Saturday, Sep 25 Details,Fastest delivery: Tomorrow,Order within 6 hrs and 58 mins Details',\n",
       " 'FREE delivery: Monday, Sep 27 Details,Fastest delivery: Sunday, Sep 26',\n",
       " '₹65.00 delivery: Sep 28 - 29 Details',\n",
       " 'FREE delivery: Tuesday, Sep 28 Details,Fastest delivery: Sunday, Sep 26',\n",
       " 'FREE delivery: Oct 1 - 9 Details',\n",
       " 'FREE delivery: Thursday, Sep 30 Details',\n",
       " 'FREE delivery: Tuesday, Sep 28 Details',\n",
       " 'FREE delivery: Thursday, Sep 30 on orders over ₹499 shipped by Amazon Details,Fastest delivery: Saturday, Sep 25,Order within 6 hrs and 12 mins Details',\n",
       " 'FREE delivery: Sunday, Sep 26 Details,Fastest delivery: Saturday, Sep 25,Order within 7 hrs and 27 mins Details',\n",
       " 'FREE delivery: Wednesday, Sep 29 Details',\n",
       " 'FREE delivery: Saturday, Sep 25 Details,Fastest delivery: Tomorrow,Order within 6 hrs and 57 mins Details',\n",
       " 'FREE delivery: Saturday, Sep 25 Details,Fastest delivery: Tomorrow,Order within 6 hrs and 57 mins Details',\n",
       " 'FREE delivery: Saturday, Sep 25 Details,Fastest delivery: Tomorrow,Order within 6 hrs and 57 mins Details',\n",
       " 'FREE delivery: Saturday, Sep 25 Details,Fastest delivery: Tomorrow,Order within 6 hrs and 57 mins Details',\n",
       " 'FREE delivery: Sunday, Sep 26 Details',\n",
       " 'FREE delivery: Saturday, Sep 25 Details,Fastest delivery: Tomorrow,Order within 6 hrs and 56 mins Details']"
      ]
     },
     "execution_count": 85,
     "metadata": {},
     "output_type": "execute_result"
    }
   ],
   "source": [
    "Expected_Delivery1"
   ]
  },
  {
   "cell_type": "code",
   "execution_count": 182,
   "metadata": {},
   "outputs": [
    {
     "data": {
      "text/plain": [
       "['FREE delivery: Monday, Sep 27 Details,Fastest delivery: Sunday, Sep 26,Order within 21 hrs and 17 mins Details',\n",
       " 'FREE delivery: Monday, Sep 27 Details,Fastest delivery: Sunday, Sep 26,Order within 20 hrs and 47 mins Details',\n",
       " 'FREE delivery: Monday, Sep 27 Details,Fastest delivery: Sunday, Sep 26,Order within 20 hrs and 47 mins Details',\n",
       " 'FREE delivery: Saturday, Sep 25 Details,Fastest delivery: Tomorrow,Order within 7 hrs and 2 mins Details',\n",
       " 'FREE delivery: Saturday, Sep 25 Details,Fastest delivery: Tomorrow,Order within 7 hrs and 2 mins Details',\n",
       " 'FREE delivery: Saturday, Sep 25 Details,Fastest delivery: Tomorrow,Order within 7 hrs and 2 mins Details',\n",
       " 'FREE delivery: Saturday, Sep 25 Details,Fastest delivery: Tomorrow,Order within 7 hrs and 2 mins Details',\n",
       " 'FREE delivery: Monday, Sep 27 Details,Fastest delivery: Sunday, Sep 26,Order within 20 hrs and 47 mins Details',\n",
       " 'FREE delivery: Tuesday, Sep 28 Details',\n",
       " 'FREE delivery: Sunday, Sep 26 Details',\n",
       " 'FREE delivery: Saturday, Sep 25 Details,Fastest delivery: Tomorrow,Order within 7 hrs and 1 min Details',\n",
       " 'FREE delivery: Sunday, Sep 26 Details',\n",
       " 'FREE delivery: Saturday, Sep 25 Details,Fastest delivery: Tomorrow,Order within 7 hrs and 1 min Details',\n",
       " 'FREE delivery: Tuesday, Sep 28 Details',\n",
       " 'FREE delivery: Saturday, Sep 25 Details,Fastest delivery: Tomorrow,Order within 7 hrs and 1 min Details',\n",
       " 'FREE delivery: Saturday, Sep 25 Details,Fastest delivery: Tomorrow,Order within 7 hrs and 1 min Details',\n",
       " 'FREE delivery: Saturday, Sep 25 Details,Fastest delivery: Tomorrow,Order within 7 hrs and 1 min Details',\n",
       " 'FREE delivery: Sunday, Sep 26 Details,Fastest delivery: Saturday, Sep 25,Order within 7 hrs and 31 mins Details',\n",
       " 'FREE delivery: Saturday, Sep 25 Details,Fastest delivery: Tomorrow,Order within 7 hrs and 1 min Details',\n",
       " 'FREE delivery: Saturday, Sep 25 Details,Fastest delivery: Tomorrow,Order within 7 hrs and 1 min Details',\n",
       " 'FREE delivery: Saturday, Sep 25 Details,Fastest delivery: Tomorrow,Order within 7 hrs Details',\n",
       " 'FREE delivery: Monday, Sep 27 Details,Fastest delivery: Sunday, Sep 26,Order within 21 hrs and 15 mins Details',\n",
       " 'FREE delivery: Saturday, Sep 25 Details,Fastest delivery: Tomorrow,Order within 7 hrs Details',\n",
       " 'FREE delivery: Saturday, Sep 25 Details,Fastest delivery: Tomorrow,Order within 7 hrs Details',\n",
       " 'FREE delivery: Sunday, Sep 26 Details,Fastest delivery: Saturday, Sep 25,Order within 7 hrs and 30 mins Details',\n",
       " 'FREE delivery: Tuesday, Sep 28 Details',\n",
       " 'FREE delivery: Saturday, Sep 25 Details,Fastest delivery: Tomorrow,Order within 7 hrs Details',\n",
       " 'FREE delivery: Saturday, Sep 25 Details,Fastest delivery: Tomorrow,Order within 7 hrs Details',\n",
       " 'FREE delivery: Tuesday, Sep 28 Details,Fastest delivery: Sunday, Sep 26',\n",
       " 'FREE delivery: Sunday, Sep 26 Details,Fastest delivery: Saturday, Sep 25,Order within 7 hrs and 30 mins Details',\n",
       " 'FREE delivery: Monday, Sep 27 Details,Fastest delivery: Sunday, Sep 26,Order within 20 hrs and 45 mins Details',\n",
       " 'FREE delivery: Saturday, Sep 25 Details,Fastest delivery: Tomorrow,Order within 6 hrs and 59 mins Details',\n",
       " 'FREE delivery: Saturday, Sep 25 Details,Fastest delivery: Tomorrow,Order within 6 hrs and 44 mins Details',\n",
       " 'FREE delivery: Sunday, Sep 26 Details,Fastest delivery: Saturday, Sep 25,Order within 7 hrs and 29 mins Details',\n",
       " 'FREE delivery: Thursday, Sep 30 on orders over ₹499 shipped by Amazon Details,Fastest delivery: Saturday, Sep 25,Order within 6 hrs and 14 mins Details',\n",
       " 'FREE delivery: Tuesday, Sep 28 Details,Fastest delivery: Sunday, Sep 26',\n",
       " 'FREE delivery: Tuesday, Sep 28 Details,Fastest delivery: Sunday, Sep 26',\n",
       " 'FREE delivery: Saturday, Sep 25 Details',\n",
       " 'FREE delivery: Tuesday, Sep 28 Details,Fastest delivery: Sunday, Sep 26']"
      ]
     },
     "execution_count": 182,
     "metadata": {},
     "output_type": "execute_result"
    }
   ],
   "source": [
    "Expected_Delivery1=Expected_Delivery1[:39:]\n",
    "Expected_Delivery1"
   ]
  },
  {
   "cell_type": "code",
   "execution_count": 91,
   "metadata": {},
   "outputs": [
    {
     "data": {
      "text/plain": [
       "<selenium.webdriver.remote.webelement.WebElement (session=\"1fba7691e1809e0f50ea1a7ab1438323\", element=\"c772ae75-7356-4f35-88f1-8021a555928d\")>"
      ]
     },
     "execution_count": 91,
     "metadata": {},
     "output_type": "execute_result"
    }
   ],
   "source": [
    "search_next= driver.find_element_by_xpath('//li[@class=\"a-normal\"]')\n",
    "search_next"
   ]
  },
  {
   "cell_type": "code",
   "execution_count": 92,
   "metadata": {},
   "outputs": [],
   "source": [
    "search_next.click()"
   ]
  },
  {
   "cell_type": "code",
   "execution_count": 93,
   "metadata": {},
   "outputs": [],
   "source": [
    "title2=[]\n",
    "for i in urls:\n",
    "    \n",
    "    driver.get(i)\n",
    "    time.sleep(3)\n",
    "    #extracting rating of iphone\n",
    "    try:\n",
    "        title2_tags= driver.find_elements_by_id('productTitle')\n",
    "        for j in title2_tags:\n",
    "            title2.append(j.text)          \n",
    "    except:\n",
    "            title2.append(\"-\")"
   ]
  },
  {
   "cell_type": "code",
   "execution_count": 94,
   "metadata": {},
   "outputs": [
    {
     "data": {
      "text/plain": [
       "65"
      ]
     },
     "execution_count": 94,
     "metadata": {},
     "output_type": "execute_result"
    }
   ],
   "source": [
    "len(title2)"
   ]
  },
  {
   "cell_type": "code",
   "execution_count": 95,
   "metadata": {},
   "outputs": [
    {
     "data": {
      "text/plain": [
       "['Medellin 38in Premium All Wood Acoustic Guitar Starter Kit (Blue, Super Combo Combo with Bag, Strap, Picks, String Set, Tuner, Stand, Capo)',\n",
       " 'Kadence Guitar Frontier Series, Blue Acoustic Guitar with Die Cast Keys, Set of Strings, Strap, Picks, Guitar stand, Capo and Bag, Super Combo (Blue, Acoustic)',\n",
       " 'Kadence Frontier Jumbo Semi Acoustic Guitar With Die Cast Keys Super Combo (Bag, 1 pack Strings, Strap, Picks, Capo, Tuner (natural)',\n",
       " 'Juârez Acoustic Guitar, 38 Inch Cutaway, 038C with Bag, Strings, Pick and Strap, Black',\n",
       " 'Juârez Acoustic Guitar, 38 Inch Cutaway, 038C with Bag, Strings, Pick and Strap, Black',\n",
       " 'Intern INT-38C Acoustic Guitar Kit, With Bag, Strings, Pick And Strap, Black',\n",
       " 'Juarez JRZ38C Acoustic Guitar, 38 Inch Cutaway with Bag (TBS Transparent Blue Sunburst)',\n",
       " 'Kadence Guitar Acoustica Series, Electric Acoustic Guitar, Ash Wood with Pickup and Inbuilt tuner (Ash Wood, Electro Acoustic)',\n",
       " 'Fender CD 60 Dread V3 DS 6 String Acoustic Guitar - Walnut Fretboard-Black',\n",
       " 'Epiphone AJ-220S Acoustic Guitar, Vintage Sunburst',\n",
       " 'Ibanez V50NJP-NT Acoustic Guitar Pre Pack, Dreadnought, Natural High Gloss',\n",
       " 'Yamaha FS100C Acoustic Guitar, Black',\n",
       " 'JUAREZ JRZ38C Right Handed Acoustic Guitar (Sunburst, 6 Strings)',\n",
       " 'Hovner 215 Black F-Cut Rosewood Fretboard Acoustic Guitar With Bag,Strap,1 Set of Extra Strings and 2 Picks By K-Retail',\n",
       " 'Juarez Acoustic Guitar, 38 Inch Cutaway with Pick Guard, 38C/RDS with Bag, Strings, Pick and Strap, Red Sunburst',\n",
       " 'Juârez JRZ38C/WH 6 Strings Acoustic Guitar 38 Inch Cutaway, Right Handed, White with Bag, Strings, Picks and Strap',\n",
       " 'Juârez JRZ38C/ASH 6 Strings Acoustic Guitar 38 Inch Cutaway, Right Handed, Ash with Bag, Strings, Picks and Strap',\n",
       " \"D'Addario EZ900 Acoustic Guitar Strings, Pack of 2\",\n",
       " 'Juarez Acoustic Guitar, [ LEFT HANDED] 38 Inch Cutaway, 38CL/BK with Bag, Strings, Pick and Strap, Black',\n",
       " 'Juârez Acoustic Guitar, 38 Inch Cutaway, JRZ38C with Bag, Strings, Pick and Strap, Blue',\n",
       " 'Juârez JRZ38C/MAH 6 Strings Acoustic Guitar 38 Inch Cutaway, Right Handed, Mahogany with Bag, Strings, Picks and Strap',\n",
       " 'Medellin MED-BLU-C Linden Wood Acoustic Guitar',\n",
       " 'Intern INT-38C-RD-G Cutaway Right Handed Acoustic Guitar Kit, With Bag, Strings, Pick And Strap (Red, 6 Strings)',\n",
       " 'JUAREZ Acoustic Guitar, [LEFT HANDED] 38 Inch Cutaway, 38CL/TBLS with Bag, Strings, Pick and Strap, Blue Sunburst',\n",
       " 'Henrix 38 Acoustic Guitar with Die-cast Tuners and Dual-action Truss Rod - Includes Picks, Bag, Strings, Strap, Polishing Cloth and String Winder',\n",
       " 'Blueberry 38C IN Acoustic Guitar Kit with Bag,Belt & Picks inbuilt Truss-rod (Blue)',\n",
       " 'Juârez JRZ38C/MAH 6 Strings Acoustic Guitar 38 Inch Cutaway, Right Handed, Mahogany with Bag, Strings, Picks and Strap',\n",
       " 'Martin Smith W-101-N-PK Acoustic Guitar Super Kit with Stand (Natural)',\n",
       " 'HYMET 4-String Acoustic Guitar Learning Kids Toy, Brown 23\" (Brown)',\n",
       " 'Henrix 38 Acoustic Right Handed Guitar (Natural) with Die-cast Tuners and Dual-action Truss Rod - Includes Picks, Bag, Strings, Strap, Polishing Cloth and E-Book',\n",
       " 'Kadence Frontier Series, Acoustic Guitar With/Wihtout EQ Die Cast Keys Combo (Bag,strap,strings and 3 picks) (Brown, Acoustic)',\n",
       " 'JUAREZ Acoustic Guitar, [LEFT HANDED] 38 Inch Cutaway, 38CL/3TS with Bag, Strings, Pick and Strap, 3TS Sunburst (JRZ38CL/3TS)',\n",
       " 'Intern INT-38C Natural Acoustic Guitar kit with carry bag & picks',\n",
       " 'Henrix 38C Blue Burst Cutaway acoustic guitar with bag,strap, string set,4pcs picks, string winder, polish cloth, normal box (Blueburst)',\n",
       " 'DEVICE OF URBAN INFOTECH Tuning Peg Silver for Acoustic Guitar Parts Tuners Keys Semi-closed Guitar String Tuning Pegs Tuner Machine Heads Knobs Tuning Keys for Acoustic & Electric Guitar 3R+3L (6PCS)',\n",
       " \"Crizer 4 String Guitar Children's Musical Instrument Educational Toy Guitar Ukulele Instruments Beginner Musical Sound Toys Best Gift for Children\",\n",
       " 'SAAN Life Science 4-string Small Acoustic Guitar Musical Instrument Educational Learning kids Toy for Beginners - 23Inch',\n",
       " 'PSB Guitar for Kids - 4 String Guitar Musical Instrument Learning Kids Toy ( 17 Inches )',\n",
       " \"DIKUJI ENTERPRISE 6 String Decor Guitar Children's Musical Instrument Educational Toy Guitar for Beginners Kids Childs (Color May Vary)\",\n",
       " 'Toy Mall Kids Guitar Toys for Kids 4-String Acoustic Guitar Musical Instrument Learning Toy for Kids ( 17 inches )- Multi Color',\n",
       " 'Guitar Tuner Tuner Guitar Tuner Clip On for Guitar Ukulele Violin Viola Bass Chromatic Tuning Modes 360 Degree Rotating Fast & Accurate',\n",
       " 'Mustang 46 PCS Guitar Strings Changing Kit Guitar Tool Kit Including Guitar Strings Guitar Tuner Picks Capo Pins Guitar String Cutter and Winder for Beginner',\n",
       " 'KREEPO Guitar Fretboard Sticker Fingerboard Frets Note Chart Decals Stickers Beginner Learner Acoustic-Electric Guitar Multicolor(9.1cm X 14.5cm)',\n",
       " 'JUAREZ JRZ38CTR/BK 38 Inch Acoustic Guitar with Dual Action Truss Rod, Bag, Picks, Allen Key, Extra String Set, Black',\n",
       " 'JUAREZ Fiésta 41 Inch Acoustic Guitar with Dual Action Truss Rod, 21 Frets Rosewood Fretboard & Bridge, Padded 5mm Cotton Bag, Cotton Strap, 2 Picks, Allen Key, Extra String Set, Brown',\n",
       " \"Exegi Enterprise 4 String Guitar Children's Musical Instrument Educational Toy Guitar Ukulele Instruments Beginner Musical Sound Toys Best Gift for Children (Brown)\",\n",
       " 'Yamaha F280 Acoustic Guitar, Tobacco Brown Sunburst',\n",
       " 'JUAREZ Fiésta 41 Inch Acoustic Guitar Cutaway with Dual Action Truss Rod, 21 Frets Rosewood Fretboard & Bridge, Padded 5mm Cotton Bag, Cotton Strap, 2 Picks, Allen Key, Extra String Set, Black',\n",
       " 'Kordz Luana Blue 41 Inch Rosewood Fretboard Acoustic Guitar With Bag,Strap,1 Set of Extra Strings and 2 Picks',\n",
       " 'Juarez Acoustic Guitar, 38 Inch Cutaway with Pick Guard, 38CPG with Bag, Strings, Pick and Strap, Black',\n",
       " 'chhogli 4-string acoustic guitar learning kids toy, brown 18-Multi color',\n",
       " 'SHAYONA 4-String Acoustic Guitar Learning Kids Toy, Brown 18\"',\n",
       " 'calldrishe String Acoustic Guitar | Adjustable Tunning Knob | Classical Guitar Toy | Musical Instrument Learning Toy for Kids',\n",
       " 'OFKLADE Portable 6 Frets Wood Practice Pocket Guitar Trainer Tool Finger Exerciser',\n",
       " 'WAH NOTION® 4-String Acoustic Enthusiasm Battery Operated Rockband Guitar Walnut Guitar Learning Kids Toy,18\" Classic Model First Edition 2021',\n",
       " 'Kordz Luana Natural Wooden 41 Inch Rosewood Fretboard Acoustic Guitar With Bag,Strap,1 Set of Extra Strings and 2 Picks',\n",
       " 'TECHBLAZE Acoustic Guitar Strings, Guitar Wall Mount, Guitar Metal Capo with 5 picks Best Guitar Accessory Combo Pack',\n",
       " 'Ibanez MD39C-NT Acoustic Guitar (Natural)',\n",
       " 'HRB MUSICALS Guitar black Capo b4 + 2 Guitar Wall mount with fitting + Guitar black strap/Belt (4 Guitar Picks Free)',\n",
       " 'Juârez Acoustic Guitar, 38 Inch Cutaway, JRZ38C with Bag, Strings, Pick and Strap, Blue',\n",
       " 'Juarez JRZ38C Acoustic Guitar, 38 Inch Cutaway with Bag (TBS Transparent Blue Sunburst)',\n",
       " 'Juârez JRZ38C/WH 6 Strings Acoustic Guitar 38 Inch Cutaway, Right Handed, White with Bag, Strings, Picks and Strap',\n",
       " 'Juarez Acoustic Guitar, 38 Inch Cutaway with Pick Guard, 38CPG with Bag, Strings, Pick and Strap, Black',\n",
       " 'ARCTIC Sky series 39\" Guitar (with Truss Rod) with Bag, 3 Picks, Strap & String Set. Standard Pack Black',\n",
       " 'JUAREZ 38 Inch Acoustic Guitar with Dual Action Truss Rod, Bag, Picks, Allen Key, Extra String Set, 3TS Sunburst']"
      ]
     },
     "execution_count": 95,
     "metadata": {},
     "output_type": "execute_result"
    }
   ],
   "source": [
    "title2"
   ]
  },
  {
   "cell_type": "code",
   "execution_count": 183,
   "metadata": {},
   "outputs": [
    {
     "data": {
      "text/plain": [
       "['Medellin 38in Premium All Wood Acoustic Guitar Starter Kit (Blue, Super Combo Combo with Bag, Strap, Picks, String Set, Tuner, Stand, Capo)',\n",
       " 'Kadence Guitar Frontier Series, Blue Acoustic Guitar with Die Cast Keys, Set of Strings, Strap, Picks, Guitar stand, Capo and Bag, Super Combo (Blue, Acoustic)',\n",
       " 'Kadence Frontier Jumbo Semi Acoustic Guitar With Die Cast Keys Super Combo (Bag, 1 pack Strings, Strap, Picks, Capo, Tuner (natural)',\n",
       " 'Juârez Acoustic Guitar, 38 Inch Cutaway, 038C with Bag, Strings, Pick and Strap, Black',\n",
       " 'Juârez Acoustic Guitar, 38 Inch Cutaway, 038C with Bag, Strings, Pick and Strap, Black',\n",
       " 'Intern INT-38C Acoustic Guitar Kit, With Bag, Strings, Pick And Strap, Black',\n",
       " 'Juarez JRZ38C Acoustic Guitar, 38 Inch Cutaway with Bag (TBS Transparent Blue Sunburst)',\n",
       " 'Kadence Guitar Acoustica Series, Electric Acoustic Guitar, Ash Wood with Pickup and Inbuilt tuner (Ash Wood, Electro Acoustic)',\n",
       " 'Fender CD 60 Dread V3 DS 6 String Acoustic Guitar - Walnut Fretboard-Black',\n",
       " 'Epiphone AJ-220S Acoustic Guitar, Vintage Sunburst',\n",
       " 'Ibanez V50NJP-NT Acoustic Guitar Pre Pack, Dreadnought, Natural High Gloss',\n",
       " 'Yamaha FS100C Acoustic Guitar, Black',\n",
       " 'JUAREZ JRZ38C Right Handed Acoustic Guitar (Sunburst, 6 Strings)',\n",
       " 'Hovner 215 Black F-Cut Rosewood Fretboard Acoustic Guitar With Bag,Strap,1 Set of Extra Strings and 2 Picks By K-Retail',\n",
       " 'Juarez Acoustic Guitar, 38 Inch Cutaway with Pick Guard, 38C/RDS with Bag, Strings, Pick and Strap, Red Sunburst',\n",
       " 'Juârez JRZ38C/WH 6 Strings Acoustic Guitar 38 Inch Cutaway, Right Handed, White with Bag, Strings, Picks and Strap',\n",
       " 'Juârez JRZ38C/ASH 6 Strings Acoustic Guitar 38 Inch Cutaway, Right Handed, Ash with Bag, Strings, Picks and Strap',\n",
       " \"D'Addario EZ900 Acoustic Guitar Strings, Pack of 2\",\n",
       " 'Juarez Acoustic Guitar, [ LEFT HANDED] 38 Inch Cutaway, 38CL/BK with Bag, Strings, Pick and Strap, Black',\n",
       " 'Juârez Acoustic Guitar, 38 Inch Cutaway, JRZ38C with Bag, Strings, Pick and Strap, Blue',\n",
       " 'Juârez JRZ38C/MAH 6 Strings Acoustic Guitar 38 Inch Cutaway, Right Handed, Mahogany with Bag, Strings, Picks and Strap',\n",
       " 'Medellin MED-BLU-C Linden Wood Acoustic Guitar',\n",
       " 'Intern INT-38C-RD-G Cutaway Right Handed Acoustic Guitar Kit, With Bag, Strings, Pick And Strap (Red, 6 Strings)',\n",
       " 'JUAREZ Acoustic Guitar, [LEFT HANDED] 38 Inch Cutaway, 38CL/TBLS with Bag, Strings, Pick and Strap, Blue Sunburst',\n",
       " 'Henrix 38 Acoustic Guitar with Die-cast Tuners and Dual-action Truss Rod - Includes Picks, Bag, Strings, Strap, Polishing Cloth and String Winder',\n",
       " 'Blueberry 38C IN Acoustic Guitar Kit with Bag,Belt & Picks inbuilt Truss-rod (Blue)',\n",
       " 'Juârez JRZ38C/MAH 6 Strings Acoustic Guitar 38 Inch Cutaway, Right Handed, Mahogany with Bag, Strings, Picks and Strap',\n",
       " 'Martin Smith W-101-N-PK Acoustic Guitar Super Kit with Stand (Natural)',\n",
       " 'HYMET 4-String Acoustic Guitar Learning Kids Toy, Brown 23\" (Brown)',\n",
       " 'Henrix 38 Acoustic Right Handed Guitar (Natural) with Die-cast Tuners and Dual-action Truss Rod - Includes Picks, Bag, Strings, Strap, Polishing Cloth and E-Book',\n",
       " 'Kadence Frontier Series, Acoustic Guitar With/Wihtout EQ Die Cast Keys Combo (Bag,strap,strings and 3 picks) (Brown, Acoustic)',\n",
       " 'JUAREZ Acoustic Guitar, [LEFT HANDED] 38 Inch Cutaway, 38CL/3TS with Bag, Strings, Pick and Strap, 3TS Sunburst (JRZ38CL/3TS)',\n",
       " 'Intern INT-38C Natural Acoustic Guitar kit with carry bag & picks',\n",
       " 'Henrix 38C Blue Burst Cutaway acoustic guitar with bag,strap, string set,4pcs picks, string winder, polish cloth, normal box (Blueburst)']"
      ]
     },
     "execution_count": 183,
     "metadata": {},
     "output_type": "execute_result"
    }
   ],
   "source": [
    "title2=title2[:34:]\n",
    "title2"
   ]
  },
  {
   "cell_type": "code",
   "execution_count": 96,
   "metadata": {},
   "outputs": [],
   "source": [
    "rating2=[]\n",
    "for i in urls:\n",
    "    \n",
    "    driver.get(i)\n",
    "    time.sleep(3)\n",
    "    #extracting rating of iphone\n",
    "    try:\n",
    "        rating2_tags= driver.find_elements_by_id('acrCustomerReviewText')\n",
    "        for j in rating2_tags:\n",
    "            rating2.append(j.text)          \n",
    "    except:\n",
    "            rating2.append(\"-\")"
   ]
  },
  {
   "cell_type": "code",
   "execution_count": 97,
   "metadata": {},
   "outputs": [
    {
     "data": {
      "text/plain": [
       "114"
      ]
     },
     "execution_count": 97,
     "metadata": {},
     "output_type": "execute_result"
    }
   ],
   "source": [
    "len(rating2)"
   ]
  },
  {
   "cell_type": "code",
   "execution_count": 99,
   "metadata": {},
   "outputs": [
    {
     "data": {
      "text/plain": [
       "['588 ratings',\n",
       " '588 ratings',\n",
       " '284 ratings',\n",
       " '284 ratings',\n",
       " '1,027 ratings',\n",
       " '1,027 ratings',\n",
       " '13,030 ratings',\n",
       " '13,030 ratings',\n",
       " '13,030 ratings',\n",
       " '13,030 ratings',\n",
       " '7,044 ratings',\n",
       " '7,044 ratings',\n",
       " '4,387 ratings',\n",
       " '4,387 ratings',\n",
       " '705 ratings',\n",
       " '705 ratings',\n",
       " '743 ratings',\n",
       " '743 ratings',\n",
       " '78 ratings',\n",
       " '78 ratings',\n",
       " '855 ratings',\n",
       " '855 ratings',\n",
       " '197 ratings',\n",
       " '197 ratings',\n",
       " '4,285 ratings',\n",
       " '4,285 ratings',\n",
       " '353 ratings',\n",
       " '353 ratings',\n",
       " '2,846 ratings',\n",
       " '2,846 ratings',\n",
       " '475 ratings',\n",
       " '475 ratings',\n",
       " '201 ratings',\n",
       " '201 ratings',\n",
       " '2,640 ratings',\n",
       " '2,640 ratings',\n",
       " '581 ratings',\n",
       " '581 ratings',\n",
       " '1,073 ratings',\n",
       " '1,073 ratings',\n",
       " '200 ratings',\n",
       " '200 ratings',\n",
       " '588 ratings',\n",
       " '588 ratings',\n",
       " '985 ratings',\n",
       " '985 ratings',\n",
       " '6 ratings',\n",
       " '6 ratings',\n",
       " '674 ratings',\n",
       " '674 ratings',\n",
       " '36 ratings',\n",
       " '36 ratings',\n",
       " '200 ratings',\n",
       " '200 ratings',\n",
       " '3,304 ratings',\n",
       " '3,304 ratings',\n",
       " '1 rating',\n",
       " '1 rating',\n",
       " '84 ratings',\n",
       " '84 ratings',\n",
       " '1,108 ratings',\n",
       " '1,108 ratings',\n",
       " '2 ratings',\n",
       " '2 ratings',\n",
       " '1,407 ratings',\n",
       " '1,407 ratings',\n",
       " '3 ratings',\n",
       " '3 ratings',\n",
       " '87 ratings',\n",
       " '87 ratings',\n",
       " '31 ratings',\n",
       " '31 ratings',\n",
       " '70 ratings',\n",
       " '70 ratings',\n",
       " '1 rating',\n",
       " '1 rating',\n",
       " '14 ratings',\n",
       " '14 ratings',\n",
       " '106 ratings',\n",
       " '106 ratings',\n",
       " '176 ratings',\n",
       " '176 ratings',\n",
       " '27 ratings',\n",
       " '27 ratings',\n",
       " '3 ratings',\n",
       " '3 ratings',\n",
       " '60 ratings',\n",
       " '60 ratings',\n",
       " '57 ratings',\n",
       " '57 ratings',\n",
       " '318 ratings',\n",
       " '318 ratings',\n",
       " '1 rating',\n",
       " '1 rating',\n",
       " '19 ratings',\n",
       " '19 ratings',\n",
       " '192 ratings',\n",
       " '192 ratings',\n",
       " '323 ratings',\n",
       " '323 ratings',\n",
       " '3 ratings',\n",
       " '3 ratings',\n",
       " '1,073 ratings',\n",
       " '1,073 ratings',\n",
       " '4,387 ratings',\n",
       " '4,387 ratings',\n",
       " '475 ratings',\n",
       " '475 ratings',\n",
       " '318 ratings',\n",
       " '318 ratings',\n",
       " '10 ratings',\n",
       " '10 ratings',\n",
       " '73 ratings',\n",
       " '73 ratings']"
      ]
     },
     "execution_count": 99,
     "metadata": {},
     "output_type": "execute_result"
    }
   ],
   "source": [
    "rating2"
   ]
  },
  {
   "cell_type": "code",
   "execution_count": 100,
   "metadata": {},
   "outputs": [
    {
     "data": {
      "text/plain": [
       "['588 ratings',\n",
       " '284 ratings',\n",
       " '1,027 ratings',\n",
       " '13,030 ratings',\n",
       " '13,030 ratings',\n",
       " '7,044 ratings',\n",
       " '4,387 ratings',\n",
       " '705 ratings',\n",
       " '743 ratings',\n",
       " '78 ratings',\n",
       " '855 ratings',\n",
       " '197 ratings',\n",
       " '4,285 ratings',\n",
       " '353 ratings',\n",
       " '2,846 ratings',\n",
       " '475 ratings',\n",
       " '201 ratings',\n",
       " '2,640 ratings',\n",
       " '581 ratings',\n",
       " '1,073 ratings',\n",
       " '200 ratings',\n",
       " '588 ratings',\n",
       " '985 ratings',\n",
       " '6 ratings',\n",
       " '674 ratings',\n",
       " '36 ratings',\n",
       " '200 ratings',\n",
       " '3,304 ratings',\n",
       " '1 rating',\n",
       " '84 ratings',\n",
       " '1,108 ratings',\n",
       " '2 ratings',\n",
       " '1,407 ratings',\n",
       " '3 ratings',\n",
       " '87 ratings',\n",
       " '31 ratings',\n",
       " '70 ratings',\n",
       " '1 rating',\n",
       " '14 ratings',\n",
       " '106 ratings',\n",
       " '176 ratings',\n",
       " '27 ratings',\n",
       " '3 ratings',\n",
       " '60 ratings',\n",
       " '57 ratings',\n",
       " '318 ratings',\n",
       " '1 rating',\n",
       " '19 ratings',\n",
       " '192 ratings',\n",
       " '323 ratings',\n",
       " '3 ratings',\n",
       " '1,073 ratings',\n",
       " '4,387 ratings',\n",
       " '475 ratings',\n",
       " '318 ratings',\n",
       " '10 ratings',\n",
       " '73 ratings']"
      ]
     },
     "execution_count": 100,
     "metadata": {},
     "output_type": "execute_result"
    }
   ],
   "source": [
    "rating3=rating2[::2]\n",
    "rating3"
   ]
  },
  {
   "cell_type": "code",
   "execution_count": 101,
   "metadata": {},
   "outputs": [
    {
     "data": {
      "text/plain": [
       "57"
      ]
     },
     "execution_count": 101,
     "metadata": {},
     "output_type": "execute_result"
    }
   ],
   "source": [
    "len(rating3)"
   ]
  },
  {
   "cell_type": "code",
   "execution_count": 192,
   "metadata": {},
   "outputs": [
    {
     "data": {
      "text/plain": [
       "['588 ratings',\n",
       " '284 ratings',\n",
       " '1,027 ratings',\n",
       " '13,030 ratings',\n",
       " '13,030 ratings',\n",
       " '7,044 ratings',\n",
       " '4,387 ratings',\n",
       " '705 ratings',\n",
       " '743 ratings',\n",
       " '78 ratings',\n",
       " '855 ratings',\n",
       " '197 ratings',\n",
       " '4,285 ratings',\n",
       " '353 ratings',\n",
       " '2,846 ratings',\n",
       " '475 ratings',\n",
       " '201 ratings',\n",
       " '2,640 ratings',\n",
       " '581 ratings',\n",
       " '1,073 ratings',\n",
       " '200 ratings',\n",
       " '588 ratings',\n",
       " '985 ratings',\n",
       " '6 ratings',\n",
       " '674 ratings',\n",
       " '36 ratings',\n",
       " '200 ratings',\n",
       " '3,304 ratings',\n",
       " '1 rating',\n",
       " '84 ratings',\n",
       " '1,108 ratings',\n",
       " '2 ratings',\n",
       " '1,407 ratings',\n",
       " '3 ratings']"
      ]
     },
     "execution_count": 192,
     "metadata": {},
     "output_type": "execute_result"
    }
   ],
   "source": [
    "rating3_n=rating3[:34:]\n",
    "rating3_n"
   ]
  },
  {
   "cell_type": "code",
   "execution_count": 227,
   "metadata": {},
   "outputs": [],
   "source": [
    "price2=[]\n",
    "for i in urls:\n",
    "    \n",
    "    driver.get(i)\n",
    "    time.sleep(3)\n",
    "    #extracting rating of iphone\n",
    "    try:\n",
    "        price2_tags= driver.find_elements_by_xpath('//span[@class=\"a-size-medium a-color-price priceBlockBuyingPriceString\"]')\n",
    "        for j in price2_tags:\n",
    "            price2.append(j.text)          \n",
    "    except:\n",
    "            price2.append(\"-\")"
   ]
  },
  {
   "cell_type": "code",
   "execution_count": 228,
   "metadata": {},
   "outputs": [
    {
     "data": {
      "text/plain": [
       "47"
      ]
     },
     "execution_count": 228,
     "metadata": {},
     "output_type": "execute_result"
    }
   ],
   "source": [
    "len(price2)"
   ]
  },
  {
   "cell_type": "code",
   "execution_count": 229,
   "metadata": {},
   "outputs": [
    {
     "data": {
      "text/plain": [
       "['₹3,199.00',\n",
       " '₹5,999.00',\n",
       " '₹2,290.00',\n",
       " '₹13,354.00',\n",
       " '₹27,499.00',\n",
       " '₹11,851.00',\n",
       " '₹9,990.00',\n",
       " '₹2,649.00',\n",
       " '₹2,290.00',\n",
       " '₹675.00',\n",
       " '₹2,649.00',\n",
       " '₹2,290.00',\n",
       " '₹2,799.00',\n",
       " '₹2,499.00',\n",
       " '₹2,290.00',\n",
       " '₹2,649.00',\n",
       " '₹2,749.00',\n",
       " '₹2,895.00',\n",
       " '₹2,799.00',\n",
       " '₹2,749.00',\n",
       " '₹2,649.00',\n",
       " '₹2,390.00',\n",
       " '₹2,749.00',\n",
       " '₹480.00',\n",
       " '₹1,011.00',\n",
       " '₹1,299.00',\n",
       " '₹549.00',\n",
       " '₹1,499.00',\n",
       " '₹332.00',\n",
       " '₹899.00',\n",
       " '₹299.00',\n",
       " '₹4,009.00',\n",
       " '₹999.00',\n",
       " '₹4,009.00',\n",
       " '₹3,690.00',\n",
       " '₹2,649.00',\n",
       " '₹754.00',\n",
       " '₹999.00',\n",
       " '₹899.00',\n",
       " '₹1,294.00',\n",
       " '₹6,990.00',\n",
       " '₹395.00',\n",
       " '₹2,290.00',\n",
       " '₹2,649.00',\n",
       " '₹2,649.00',\n",
       " '₹5,019.00',\n",
       " '₹3,179.00']"
      ]
     },
     "execution_count": 229,
     "metadata": {},
     "output_type": "execute_result"
    }
   ],
   "source": [
    "price2"
   ]
  },
  {
   "cell_type": "code",
   "execution_count": 230,
   "metadata": {},
   "outputs": [
    {
     "data": {
      "text/plain": [
       "['₹3,199.00',\n",
       " '₹5,999.00',\n",
       " '₹2,290.00',\n",
       " '₹13,354.00',\n",
       " '₹27,499.00',\n",
       " '₹11,851.00',\n",
       " '₹9,990.00',\n",
       " '₹2,649.00',\n",
       " '₹2,290.00',\n",
       " '₹675.00',\n",
       " '₹2,649.00',\n",
       " '₹2,290.00',\n",
       " '₹2,799.00',\n",
       " '₹2,499.00',\n",
       " '₹2,290.00',\n",
       " '₹2,649.00',\n",
       " '₹2,749.00',\n",
       " '₹2,895.00',\n",
       " '₹2,799.00',\n",
       " '₹2,749.00',\n",
       " '₹2,649.00',\n",
       " '₹2,390.00',\n",
       " '₹2,749.00',\n",
       " '₹480.00',\n",
       " '₹1,011.00',\n",
       " '₹1,299.00',\n",
       " '₹549.00',\n",
       " '₹1,499.00',\n",
       " '₹332.00',\n",
       " '₹899.00',\n",
       " '₹299.00',\n",
       " '₹4,009.00',\n",
       " '₹999.00',\n",
       " '₹4,009.00']"
      ]
     },
     "execution_count": 230,
     "metadata": {},
     "output_type": "execute_result"
    }
   ],
   "source": [
    "price2_n=price2[:34:]\n",
    "price2_n"
   ]
  },
  {
   "cell_type": "code",
   "execution_count": 106,
   "metadata": {},
   "outputs": [],
   "source": [
    "ret_exchange9=[]\n",
    "for i in urls:\n",
    "    \n",
    "    driver.get(i)\n",
    "    time.sleep(3)\n",
    "    #extracting rating of iphone\n",
    "    try:\n",
    "        ret_exchange9_tags= driver.find_elements_by_xpath('//a[@class=\"a-size-small a-link-normal a-text-normal\"]')\n",
    "        for j in ret_exchange9_tags:\n",
    "            ret_exchange9.append(j.text)          \n",
    "    except:\n",
    "            ret_exchange9.append(\"-\")"
   ]
  },
  {
   "cell_type": "code",
   "execution_count": 107,
   "metadata": {},
   "outputs": [
    {
     "data": {
      "text/plain": [
       "244"
      ]
     },
     "execution_count": 107,
     "metadata": {},
     "output_type": "execute_result"
    }
   ],
   "source": [
    "len(ret_exchange9)"
   ]
  },
  {
   "cell_type": "code",
   "execution_count": 111,
   "metadata": {},
   "outputs": [
    {
     "data": {
      "text/plain": [
       "['Pay on Delivery',\n",
       " '7 Days Replacement',\n",
       " 'Amazon Delivered',\n",
       " '6 Month Warranty',\n",
       " 'Pay on Delivery',\n",
       " '7 Days Replacement',\n",
       " 'Amazon Delivered',\n",
       " 'No-Contact Delivery',\n",
       " 'Pay on Delivery',\n",
       " '7 Days Replacement',\n",
       " 'Amazon Delivered',\n",
       " '6 Month Warranty',\n",
       " 'Pay on Delivery',\n",
       " '7 Days Replacement',\n",
       " 'Amazon Delivered',\n",
       " 'No-Contact Delivery',\n",
       " 'Pay on Delivery',\n",
       " '7 Days Replacement',\n",
       " 'Amazon Delivered',\n",
       " 'No-Contact Delivery',\n",
       " 'Pay on Delivery',\n",
       " '7 Days Replacement',\n",
       " 'Amazon Delivered',\n",
       " '1 Year Warranty',\n",
       " 'Pay on Delivery',\n",
       " '7 Days Replacement',\n",
       " 'Amazon Delivered',\n",
       " 'No-Contact Delivery',\n",
       " 'Pay on Delivery',\n",
       " '7 Days Replacement',\n",
       " 'Amazon Delivered',\n",
       " '1 Year Warranty',\n",
       " 'Pay on Delivery',\n",
       " '7 Days Replacement',\n",
       " 'Amazon Delivered',\n",
       " 'No-Contact Delivery',\n",
       " 'Pay on Delivery',\n",
       " '7 Days Replacement',\n",
       " 'Amazon Delivered',\n",
       " '1 Year Warranty',\n",
       " 'Pay on Delivery',\n",
       " '7 Days Replacement',\n",
       " 'Amazon Delivered',\n",
       " '1 Year Warranty',\n",
       " 'Pay on Delivery',\n",
       " '7 Days Replacement',\n",
       " 'Amazon Delivered',\n",
       " '1 Year Warranty',\n",
       " 'Pay on Delivery',\n",
       " '7 Days Replacement',\n",
       " 'Amazon Delivered',\n",
       " '1 Year Warranty',\n",
       " 'Pay on Delivery',\n",
       " '7 Days Replacement',\n",
       " 'Amazon Delivered',\n",
       " '1 Year Warranty',\n",
       " 'Pay on Delivery',\n",
       " '7 Days Replacement',\n",
       " 'Amazon Delivered',\n",
       " 'No-Contact Delivery',\n",
       " 'Pay on Delivery',\n",
       " '7 Days Replacement',\n",
       " 'Amazon Delivered',\n",
       " 'No-Contact Delivery',\n",
       " 'Pay on Delivery',\n",
       " '7 Days Replacement',\n",
       " 'Amazon Delivered',\n",
       " 'No-Contact Delivery',\n",
       " 'Pay on Delivery',\n",
       " '7 Days Replacement',\n",
       " 'Amazon Delivered',\n",
       " 'Warranty Policy',\n",
       " 'Pay on Delivery',\n",
       " '7 Days Replacement',\n",
       " 'Amazon Delivered',\n",
       " 'No-Contact Delivery',\n",
       " 'Pay on Delivery',\n",
       " '7 Days Replacement',\n",
       " 'Amazon Delivered',\n",
       " 'No-Contact Delivery',\n",
       " 'Pay on Delivery',\n",
       " '7 Days Replacement',\n",
       " 'Amazon Delivered',\n",
       " '1 Year Warranty',\n",
       " 'Pay on Delivery',\n",
       " '7 Days Replacement',\n",
       " 'Amazon Delivered',\n",
       " '6 Month Warranty',\n",
       " 'Pay on Delivery',\n",
       " '7 Days Replacement',\n",
       " 'Amazon Delivered',\n",
       " 'Warranty Policy',\n",
       " 'Pay on Delivery',\n",
       " '7 Days Replacement',\n",
       " 'Amazon Delivered',\n",
       " '1 Year Warranty',\n",
       " 'Pay on Delivery',\n",
       " '7 Days Replacement',\n",
       " 'Amazon Delivered',\n",
       " 'Warranty Policy',\n",
       " 'Pay on Delivery',\n",
       " '7 Days Replacement',\n",
       " 'Amazon Delivered',\n",
       " '1 Month Warranty',\n",
       " 'Pay on Delivery',\n",
       " '7 Days Replacement',\n",
       " 'Amazon Delivered',\n",
       " '1 Year Warranty',\n",
       " 'Pay on Delivery',\n",
       " '7 Days Replacement',\n",
       " 'Amazon Delivered',\n",
       " '1 Year Warranty',\n",
       " '7 Days Returnable',\n",
       " 'Amazon Delivered',\n",
       " 'No-Contact Delivery',\n",
       " 'Pay on Delivery',\n",
       " '7 Days Replacement',\n",
       " 'Amazon Delivered',\n",
       " 'Warranty Policy',\n",
       " 'Pay on Delivery',\n",
       " '7 Days Replacement',\n",
       " 'Amazon Delivered',\n",
       " '1 Year Warranty',\n",
       " 'Pay on Delivery',\n",
       " '7 Days Replacement',\n",
       " 'Amazon Delivered',\n",
       " '1 Year Warranty',\n",
       " 'Pay on Delivery',\n",
       " '7 Days Replacement',\n",
       " 'Amazon Delivered',\n",
       " '1 Year Warranty',\n",
       " 'Pay on Delivery',\n",
       " '7 Days Replacement',\n",
       " 'Amazon Delivered',\n",
       " 'Warranty Policy',\n",
       " 'Pay on Delivery',\n",
       " '7 Days Replacement',\n",
       " 'Amazon Delivered',\n",
       " 'Warranty Policy',\n",
       " '7 Days Replacement',\n",
       " 'Amazon Delivered',\n",
       " 'No-Contact Delivery',\n",
       " '7 Days Replacement',\n",
       " 'Amazon Delivered',\n",
       " 'No-Contact Delivery',\n",
       " '7 Days Returnable',\n",
       " 'Amazon Delivered',\n",
       " 'No-Contact Delivery',\n",
       " '7 Days Replacement',\n",
       " 'Amazon Delivered',\n",
       " 'No-Contact Delivery',\n",
       " '7 Days Returnable',\n",
       " '7 Days Replacement',\n",
       " 'Amazon Delivered',\n",
       " 'No-Contact Delivery',\n",
       " '7 Days Replacement',\n",
       " 'Amazon Delivered',\n",
       " 'Warranty Policy',\n",
       " 'No-Contact Delivery',\n",
       " '7 Days Replacement',\n",
       " 'Amazon Delivered',\n",
       " 'No-Contact Delivery',\n",
       " 'Pay on Delivery',\n",
       " '7 Days Replacement',\n",
       " 'Amazon Delivered',\n",
       " '1 Year Warranty',\n",
       " 'Pay on Delivery',\n",
       " '7 Days Replacement',\n",
       " 'Amazon Delivered',\n",
       " '1 Year Warranty',\n",
       " '7 Days Replacement',\n",
       " 'Amazon Delivered',\n",
       " 'Warranty Policy',\n",
       " 'No-Contact Delivery',\n",
       " '7 Days Replacement',\n",
       " '1 Year Warranty',\n",
       " 'Pay on Delivery',\n",
       " '7 Days Replacement',\n",
       " 'Amazon Delivered',\n",
       " '1 Year Warranty',\n",
       " 'Pay on Delivery',\n",
       " '7 Days Replacement',\n",
       " 'Amazon Delivered',\n",
       " '1 Year Warranty',\n",
       " 'Pay on Delivery',\n",
       " '7 Days Replacement',\n",
       " 'Amazon Delivered',\n",
       " 'No-Contact Delivery',\n",
       " '7 Days Replacement',\n",
       " 'Amazon Delivered',\n",
       " 'Warranty Policy',\n",
       " 'No-Contact Delivery',\n",
       " '7 Days Returnable',\n",
       " 'Amazon Delivered',\n",
       " 'No-Contact Delivery',\n",
       " '7 Days Replacement',\n",
       " 'Amazon Delivered',\n",
       " 'Warranty Policy',\n",
       " 'No-Contact Delivery',\n",
       " '7 Days Replacement',\n",
       " 'Warranty Policy',\n",
       " '7 Days Returnable',\n",
       " 'Amazon Delivered',\n",
       " 'No-Contact Delivery',\n",
       " 'Pay on Delivery',\n",
       " '7 Days Replacement',\n",
       " 'Amazon Delivered',\n",
       " '12 Month Warranty',\n",
       " 'Pay on Delivery',\n",
       " '7 Days Replacement',\n",
       " 'Amazon Delivered',\n",
       " 'Warranty Policy',\n",
       " 'Pay on Delivery',\n",
       " '7 Days Replacement',\n",
       " 'Amazon Delivered',\n",
       " '1 Year Warranty',\n",
       " '7 Days Replacement',\n",
       " 'Amazon Delivered',\n",
       " 'Warranty Policy',\n",
       " 'No-Contact Delivery',\n",
       " 'Pay on Delivery',\n",
       " '7 Days Replacement',\n",
       " 'Amazon Delivered',\n",
       " 'No-Contact Delivery',\n",
       " 'Pay on Delivery',\n",
       " '7 Days Replacement',\n",
       " 'Amazon Delivered',\n",
       " 'No-Contact Delivery',\n",
       " 'Pay on Delivery',\n",
       " '7 Days Replacement',\n",
       " 'Amazon Delivered',\n",
       " 'No-Contact Delivery',\n",
       " 'Pay on Delivery',\n",
       " '7 Days Replacement',\n",
       " 'Amazon Delivered',\n",
       " 'No-Contact Delivery',\n",
       " 'Pay on Delivery',\n",
       " '7 Days Replacement',\n",
       " 'Amazon Delivered',\n",
       " '1 Year Warranty',\n",
       " 'Pay on Delivery',\n",
       " '7 Days Replacement',\n",
       " 'Amazon Delivered',\n",
       " '1 Year Warranty']"
      ]
     },
     "execution_count": 111,
     "metadata": {},
     "output_type": "execute_result"
    }
   ],
   "source": [
    "ret_exchange9"
   ]
  },
  {
   "cell_type": "code",
   "execution_count": 115,
   "metadata": {},
   "outputs": [
    {
     "data": {
      "text/plain": [
       "['7 Days Replacement',\n",
       " '7 Days Replacement',\n",
       " '7 Days Replacement',\n",
       " '7 Days Replacement',\n",
       " '7 Days Replacement',\n",
       " '7 Days Replacement',\n",
       " '7 Days Replacement',\n",
       " '7 Days Replacement',\n",
       " '7 Days Replacement',\n",
       " '7 Days Replacement',\n",
       " '7 Days Replacement',\n",
       " '7 Days Replacement',\n",
       " '7 Days Replacement',\n",
       " '7 Days Replacement',\n",
       " '7 Days Replacement',\n",
       " '7 Days Replacement',\n",
       " '7 Days Replacement',\n",
       " '7 Days Replacement',\n",
       " '7 Days Replacement',\n",
       " '7 Days Replacement',\n",
       " '7 Days Replacement',\n",
       " '7 Days Replacement',\n",
       " '7 Days Replacement',\n",
       " '7 Days Replacement',\n",
       " '7 Days Replacement',\n",
       " '7 Days Replacement',\n",
       " '7 Days Replacement',\n",
       " '7 Days Replacement']"
      ]
     },
     "execution_count": 115,
     "metadata": {},
     "output_type": "execute_result"
    }
   ],
   "source": [
    "ret_exchange10=ret_exchange9[1:112:4]\n",
    "ret_exchange10"
   ]
  },
  {
   "cell_type": "code",
   "execution_count": 119,
   "metadata": {},
   "outputs": [
    {
     "data": {
      "text/plain": [
       "['7 Days Replacement',\n",
       " '7 Days Replacement',\n",
       " '7 Days Replacement',\n",
       " '7 Days Replacement',\n",
       " '7 Days Replacement',\n",
       " '7 Days Replacement']"
      ]
     },
     "execution_count": 119,
     "metadata": {},
     "output_type": "execute_result"
    }
   ],
   "source": [
    "ret_exchange11=ret_exchange9[116:140:4]\n",
    "ret_exchange11"
   ]
  },
  {
   "cell_type": "code",
   "execution_count": 126,
   "metadata": {},
   "outputs": [
    {
     "data": {
      "text/plain": [
       "['7 Days Replacement',\n",
       " '7 Days Replacement',\n",
       " '7 Days Replacement',\n",
       " '7 Days Replacement',\n",
       " '7 Days Replacement',\n",
       " '7 Days Replacement',\n",
       " '7 Days Replacement',\n",
       " '7 Days Replacement',\n",
       " '7 Days Replacement',\n",
       " '7 Days Replacement',\n",
       " '7 Days Replacement',\n",
       " '7 Days Replacement',\n",
       " '7 Days Replacement',\n",
       " '7 Days Replacement',\n",
       " '7 Days Replacement',\n",
       " '7 Days Replacement',\n",
       " '7 Days Replacement',\n",
       " '7 Days Replacement',\n",
       " '7 Days Replacement',\n",
       " '7 Days Replacement',\n",
       " '7 Days Replacement',\n",
       " '7 Days Replacement',\n",
       " '7 Days Replacement',\n",
       " '7 Days Replacement',\n",
       " '7 Days Replacement',\n",
       " '7 Days Replacement',\n",
       " '7 Days Replacement',\n",
       " '7 Days Replacement',\n",
       " '7 Days Replacement',\n",
       " '7 Days Replacement',\n",
       " '7 Days Replacement',\n",
       " '7 Days Replacement',\n",
       " '7 Days Replacement',\n",
       " '7 Days Replacement']"
      ]
     },
     "execution_count": 126,
     "metadata": {},
     "output_type": "execute_result"
    }
   ],
   "source": [
    "ret_exchange12=ret_exchange10+ret_exchange11\n",
    "ret_exchange12"
   ]
  },
  {
   "cell_type": "code",
   "execution_count": 127,
   "metadata": {},
   "outputs": [
    {
     "data": {
      "text/plain": [
       "34"
      ]
     },
     "execution_count": 127,
     "metadata": {},
     "output_type": "execute_result"
    }
   ],
   "source": [
    "len(ret_exchange12)"
   ]
  },
  {
   "cell_type": "code",
   "execution_count": 128,
   "metadata": {},
   "outputs": [],
   "source": [
    "Expected_Delivery2=[]\n",
    "for i in urls:\n",
    "    \n",
    "    driver.get(i)\n",
    "    time.sleep(3)\n",
    "    #extracting rating of iphone\n",
    "    try:\n",
    "        Expected_Delivery2_tags= driver.find_elements_by_id('ddmDeliveryMessage')\n",
    "        for j in Expected_Delivery2_tags:\n",
    "            Expected_Delivery2.append(j.text.replace(\"\\n\",\",\"))          \n",
    "    except:\n",
    "            Expected_Delivery2.append(\"-\")"
   ]
  },
  {
   "cell_type": "code",
   "execution_count": 129,
   "metadata": {},
   "outputs": [
    {
     "data": {
      "text/plain": [
       "63"
      ]
     },
     "execution_count": 129,
     "metadata": {},
     "output_type": "execute_result"
    }
   ],
   "source": [
    "len(Expected_Delivery2)"
   ]
  },
  {
   "cell_type": "code",
   "execution_count": 130,
   "metadata": {},
   "outputs": [
    {
     "data": {
      "text/plain": [
       "['FREE delivery: Monday, Sep 27 Details,Fastest delivery: Sunday, Sep 26,Order within 20 hrs and 5 mins Details',\n",
       " 'FREE delivery: Monday, Sep 27 Details,Fastest delivery: Sunday, Sep 26,Order within 19 hrs and 35 mins Details',\n",
       " 'FREE delivery: Monday, Sep 27 Details,Fastest delivery: Sunday, Sep 26,Order within 19 hrs and 34 mins Details',\n",
       " 'FREE delivery: Saturday, Sep 25 Details,Fastest delivery: Tomorrow,Order within 5 hrs and 49 mins Details',\n",
       " 'FREE delivery: Saturday, Sep 25 Details,Fastest delivery: Tomorrow,Order within 5 hrs and 49 mins Details',\n",
       " 'FREE delivery: Saturday, Sep 25 Details,Fastest delivery: Tomorrow,Order within 5 hrs and 49 mins Details',\n",
       " 'FREE delivery: Saturday, Sep 25 Details,Fastest delivery: Tomorrow,Order within 5 hrs and 49 mins Details',\n",
       " 'FREE delivery: Monday, Sep 27 Details,Fastest delivery: Sunday, Sep 26,Order within 19 hrs and 34 mins Details',\n",
       " 'FREE delivery: Tuesday, Sep 28 Details',\n",
       " 'FREE delivery: Sunday, Sep 26 Details',\n",
       " 'FREE delivery: Saturday, Sep 25 Details,Fastest delivery: Tomorrow,Order within 5 hrs and 49 mins Details',\n",
       " 'FREE delivery: Sunday, Sep 26 Details',\n",
       " 'FREE delivery: Saturday, Sep 25 Details,Fastest delivery: Tomorrow,Order within 5 hrs and 49 mins Details',\n",
       " 'FREE delivery: Wednesday, Sep 29 Details',\n",
       " 'FREE delivery: Saturday, Sep 25 Details,Fastest delivery: Tomorrow,Order within 5 hrs and 48 mins Details',\n",
       " 'FREE delivery: Saturday, Sep 25 Details,Fastest delivery: Tomorrow,Order within 5 hrs and 48 mins Details',\n",
       " 'FREE delivery: Saturday, Sep 25 Details,Fastest delivery: Tomorrow,Order within 5 hrs and 48 mins Details',\n",
       " 'FREE delivery: Sunday, Sep 26 Details,Fastest delivery: Saturday, Sep 25,Order within 6 hrs and 18 mins Details',\n",
       " 'FREE delivery: Saturday, Sep 25 Details,Fastest delivery: Tomorrow,Order within 5 hrs and 48 mins Details',\n",
       " 'FREE delivery: Saturday, Sep 25 Details,Fastest delivery: Tomorrow,Order within 5 hrs and 48 mins Details',\n",
       " 'FREE delivery: Saturday, Sep 25 Details,Fastest delivery: Tomorrow,Order within 5 hrs and 48 mins Details',\n",
       " 'FREE delivery: Monday, Sep 27 Details,Fastest delivery: Sunday, Sep 26,Order within 20 hrs and 3 mins Details',\n",
       " 'FREE delivery: Saturday, Sep 25 Details,Fastest delivery: Tomorrow,Order within 5 hrs and 48 mins Details',\n",
       " 'FREE delivery: Saturday, Sep 25 Details,Fastest delivery: Tomorrow,Order within 5 hrs and 47 mins Details',\n",
       " 'FREE delivery: Sunday, Sep 26 Details,Fastest delivery: Saturday, Sep 25,Order within 6 hrs and 17 mins Details',\n",
       " 'FREE delivery: Tuesday, Sep 28 Details',\n",
       " 'FREE delivery: Saturday, Sep 25 Details,Fastest delivery: Tomorrow,Order within 5 hrs and 47 mins Details',\n",
       " 'FREE delivery: Saturday, Sep 25 Details,Fastest delivery: Tomorrow,Order within 5 hrs and 47 mins Details',\n",
       " 'FREE delivery: Tuesday, Sep 28 Details,Fastest delivery: Sunday, Sep 26',\n",
       " 'FREE delivery: Sunday, Sep 26 Details,Fastest delivery: Saturday, Sep 25,Order within 6 hrs and 17 mins Details',\n",
       " 'FREE delivery: Monday, Sep 27 Details,Fastest delivery: Sunday, Sep 26,Order within 19 hrs and 31 mins Details',\n",
       " 'FREE delivery: Saturday, Sep 25 Details,Fastest delivery: Tomorrow,Order within 5 hrs and 46 mins Details',\n",
       " 'FREE delivery: Saturday, Sep 25 Details,Fastest delivery: Tomorrow,Order within 5 hrs and 31 mins Details',\n",
       " 'FREE delivery: Sunday, Sep 26 Details,Fastest delivery: Saturday, Sep 25,Order within 6 hrs and 16 mins Details',\n",
       " 'FREE delivery: Thursday, Sep 30 on orders over ₹499 shipped by Amazon Details,Fastest delivery: Saturday, Sep 25,Order within 5 hrs and 1 min Details',\n",
       " 'FREE delivery: Tuesday, Sep 28 Details,Fastest delivery: Sunday, Sep 26',\n",
       " 'FREE delivery: Tuesday, Sep 28 Details,Fastest delivery: Sunday, Sep 26',\n",
       " 'FREE delivery: Saturday, Sep 25 Details',\n",
       " 'FREE delivery: Tuesday, Sep 28 Details,Fastest delivery: Sunday, Sep 26',\n",
       " 'FREE delivery: Wednesday, Sep 29 Details',\n",
       " 'FREE delivery: Wednesday, Sep 29 Details',\n",
       " 'FREE delivery: Wednesday, Sep 29 Details',\n",
       " 'FREE delivery: Saturday, Sep 25 Details,Fastest delivery: Tomorrow,Order within 5 hrs and 45 mins Details',\n",
       " 'FREE delivery: Saturday, Sep 25 Details,Fastest delivery: Tomorrow,Order within 5 hrs and 45 mins Details',\n",
       " 'FREE delivery: Sep 28 - 29 Details,Fastest delivery: Sunday, Sep 26',\n",
       " 'FREE delivery: Saturday, Sep 25 Details,Fastest delivery: Tomorrow,Order within 5 hrs and 45 mins Details',\n",
       " 'FREE delivery: Wednesday, Sep 29 Details',\n",
       " 'FREE delivery: Saturday, Sep 25 Details,Fastest delivery: Tomorrow,Order within 5 hrs and 45 mins Details',\n",
       " 'FREE delivery: Monday, Sep 27 Details,Fastest delivery: Sunday, Sep 26',\n",
       " '₹65.00 delivery: Sep 28 - 29 Details',\n",
       " 'FREE delivery: Tuesday, Sep 28 Details,Fastest delivery: Sunday, Sep 26',\n",
       " 'FREE delivery: Oct 1 - 9 Details',\n",
       " 'FREE delivery: Thursday, Sep 30 Details',\n",
       " 'FREE delivery: Wednesday, Sep 29 Details',\n",
       " 'FREE delivery: Thursday, Sep 30 on orders over ₹499 shipped by Amazon Details,Fastest delivery: Saturday, Sep 25,Order within 4 hrs and 59 mins Details',\n",
       " 'FREE delivery: Sunday, Sep 26 Details,Fastest delivery: Saturday, Sep 25,Order within 6 hrs and 14 mins Details',\n",
       " 'FREE delivery: Wednesday, Sep 29 Details',\n",
       " 'FREE delivery: Saturday, Sep 25 Details,Fastest delivery: Tomorrow,Order within 5 hrs and 44 mins Details',\n",
       " 'FREE delivery: Saturday, Sep 25 Details,Fastest delivery: Tomorrow,Order within 5 hrs and 43 mins Details',\n",
       " 'FREE delivery: Saturday, Sep 25 Details,Fastest delivery: Tomorrow,Order within 5 hrs and 43 mins Details',\n",
       " 'FREE delivery: Saturday, Sep 25 Details,Fastest delivery: Tomorrow,Order within 5 hrs and 43 mins Details',\n",
       " 'FREE delivery: Sunday, Sep 26 Details',\n",
       " 'FREE delivery: Saturday, Sep 25 Details,Fastest delivery: Tomorrow,Order within 5 hrs and 43 mins Details']"
      ]
     },
     "execution_count": 130,
     "metadata": {},
     "output_type": "execute_result"
    }
   ],
   "source": [
    "Expected_Delivery2"
   ]
  },
  {
   "cell_type": "code",
   "execution_count": 186,
   "metadata": {},
   "outputs": [
    {
     "data": {
      "text/plain": [
       "['FREE delivery: Monday, Sep 27 Details,Fastest delivery: Sunday, Sep 26,Order within 20 hrs and 5 mins Details',\n",
       " 'FREE delivery: Monday, Sep 27 Details,Fastest delivery: Sunday, Sep 26,Order within 19 hrs and 35 mins Details',\n",
       " 'FREE delivery: Monday, Sep 27 Details,Fastest delivery: Sunday, Sep 26,Order within 19 hrs and 34 mins Details',\n",
       " 'FREE delivery: Saturday, Sep 25 Details,Fastest delivery: Tomorrow,Order within 5 hrs and 49 mins Details',\n",
       " 'FREE delivery: Saturday, Sep 25 Details,Fastest delivery: Tomorrow,Order within 5 hrs and 49 mins Details',\n",
       " 'FREE delivery: Saturday, Sep 25 Details,Fastest delivery: Tomorrow,Order within 5 hrs and 49 mins Details',\n",
       " 'FREE delivery: Saturday, Sep 25 Details,Fastest delivery: Tomorrow,Order within 5 hrs and 49 mins Details',\n",
       " 'FREE delivery: Monday, Sep 27 Details,Fastest delivery: Sunday, Sep 26,Order within 19 hrs and 34 mins Details',\n",
       " 'FREE delivery: Tuesday, Sep 28 Details',\n",
       " 'FREE delivery: Sunday, Sep 26 Details',\n",
       " 'FREE delivery: Saturday, Sep 25 Details,Fastest delivery: Tomorrow,Order within 5 hrs and 49 mins Details',\n",
       " 'FREE delivery: Sunday, Sep 26 Details',\n",
       " 'FREE delivery: Saturday, Sep 25 Details,Fastest delivery: Tomorrow,Order within 5 hrs and 49 mins Details',\n",
       " 'FREE delivery: Wednesday, Sep 29 Details',\n",
       " 'FREE delivery: Saturday, Sep 25 Details,Fastest delivery: Tomorrow,Order within 5 hrs and 48 mins Details',\n",
       " 'FREE delivery: Saturday, Sep 25 Details,Fastest delivery: Tomorrow,Order within 5 hrs and 48 mins Details',\n",
       " 'FREE delivery: Saturday, Sep 25 Details,Fastest delivery: Tomorrow,Order within 5 hrs and 48 mins Details',\n",
       " 'FREE delivery: Sunday, Sep 26 Details,Fastest delivery: Saturday, Sep 25,Order within 6 hrs and 18 mins Details',\n",
       " 'FREE delivery: Saturday, Sep 25 Details,Fastest delivery: Tomorrow,Order within 5 hrs and 48 mins Details',\n",
       " 'FREE delivery: Saturday, Sep 25 Details,Fastest delivery: Tomorrow,Order within 5 hrs and 48 mins Details',\n",
       " 'FREE delivery: Saturday, Sep 25 Details,Fastest delivery: Tomorrow,Order within 5 hrs and 48 mins Details',\n",
       " 'FREE delivery: Monday, Sep 27 Details,Fastest delivery: Sunday, Sep 26,Order within 20 hrs and 3 mins Details',\n",
       " 'FREE delivery: Saturday, Sep 25 Details,Fastest delivery: Tomorrow,Order within 5 hrs and 48 mins Details',\n",
       " 'FREE delivery: Saturday, Sep 25 Details,Fastest delivery: Tomorrow,Order within 5 hrs and 47 mins Details',\n",
       " 'FREE delivery: Sunday, Sep 26 Details,Fastest delivery: Saturday, Sep 25,Order within 6 hrs and 17 mins Details',\n",
       " 'FREE delivery: Tuesday, Sep 28 Details',\n",
       " 'FREE delivery: Saturday, Sep 25 Details,Fastest delivery: Tomorrow,Order within 5 hrs and 47 mins Details',\n",
       " 'FREE delivery: Saturday, Sep 25 Details,Fastest delivery: Tomorrow,Order within 5 hrs and 47 mins Details',\n",
       " 'FREE delivery: Tuesday, Sep 28 Details,Fastest delivery: Sunday, Sep 26',\n",
       " 'FREE delivery: Sunday, Sep 26 Details,Fastest delivery: Saturday, Sep 25,Order within 6 hrs and 17 mins Details',\n",
       " 'FREE delivery: Monday, Sep 27 Details,Fastest delivery: Sunday, Sep 26,Order within 19 hrs and 31 mins Details',\n",
       " 'FREE delivery: Saturday, Sep 25 Details,Fastest delivery: Tomorrow,Order within 5 hrs and 46 mins Details',\n",
       " 'FREE delivery: Saturday, Sep 25 Details,Fastest delivery: Tomorrow,Order within 5 hrs and 31 mins Details',\n",
       " 'FREE delivery: Sunday, Sep 26 Details,Fastest delivery: Saturday, Sep 25,Order within 6 hrs and 16 mins Details']"
      ]
     },
     "execution_count": 186,
     "metadata": {},
     "output_type": "execute_result"
    }
   ],
   "source": [
    "Expected_Delivery2=Expected_Delivery2[:34:]\n",
    "Expected_Delivery2"
   ]
  },
  {
   "cell_type": "code",
   "execution_count": 188,
   "metadata": {},
   "outputs": [
    {
     "data": {
      "text/plain": [
       "106"
      ]
     },
     "execution_count": 188,
     "metadata": {},
     "output_type": "execute_result"
    }
   ],
   "source": [
    "final_title=title_n+title1+title2\n",
    "len(final_title)"
   ]
  },
  {
   "cell_type": "code",
   "execution_count": 202,
   "metadata": {},
   "outputs": [
    {
     "data": {
      "text/plain": [
       "106"
      ]
     },
     "execution_count": 202,
     "metadata": {},
     "output_type": "execute_result"
    }
   ],
   "source": [
    "final_rating=rating_n+rating2_n+rating3_n\n",
    "len(final_rating)"
   ]
  },
  {
   "cell_type": "code",
   "execution_count": 232,
   "metadata": {},
   "outputs": [
    {
     "data": {
      "text/plain": [
       "106"
      ]
     },
     "execution_count": 232,
     "metadata": {},
     "output_type": "execute_result"
    }
   ],
   "source": [
    "final_price=price_n+price1_n+price2_n\n",
    "len(final_price)"
   ]
  },
  {
   "cell_type": "code",
   "execution_count": 233,
   "metadata": {},
   "outputs": [
    {
     "data": {
      "text/plain": [
       "106"
      ]
     },
     "execution_count": 233,
     "metadata": {},
     "output_type": "execute_result"
    }
   ],
   "source": [
    "final_ret_exchange=ret_exchange3+ret_exchange8+ret_exchange12\n",
    "len(final_ret_exchange)"
   ]
  },
  {
   "cell_type": "code",
   "execution_count": 234,
   "metadata": {},
   "outputs": [
    {
     "data": {
      "text/plain": [
       "106"
      ]
     },
     "execution_count": 234,
     "metadata": {},
     "output_type": "execute_result"
    }
   ],
   "source": [
    "final_Expected_Delivery=Expected_Delivery+Expected_Delivery1+Expected_Delivery2\n",
    "len(final_Expected_Delivery)"
   ]
  },
  {
   "cell_type": "code",
   "execution_count": 235,
   "metadata": {},
   "outputs": [
    {
     "data": {
      "text/html": [
       "<div>\n",
       "<style scoped>\n",
       "    .dataframe tbody tr th:only-of-type {\n",
       "        vertical-align: middle;\n",
       "    }\n",
       "\n",
       "    .dataframe tbody tr th {\n",
       "        vertical-align: top;\n",
       "    }\n",
       "\n",
       "    .dataframe thead th {\n",
       "        text-align: right;\n",
       "    }\n",
       "</style>\n",
       "<table border=\"1\" class=\"dataframe\">\n",
       "  <thead>\n",
       "    <tr style=\"text-align: right;\">\n",
       "      <th></th>\n",
       "      <th>Product_title</th>\n",
       "      <th>Rating</th>\n",
       "      <th>Price</th>\n",
       "      <th>Return_Exchange_time</th>\n",
       "      <th>Expected_delievery</th>\n",
       "    </tr>\n",
       "  </thead>\n",
       "  <tbody>\n",
       "    <tr>\n",
       "      <th>0</th>\n",
       "      <td>Medellin 38in Premium All Wood Acoustic Guitar...</td>\n",
       "      <td>593 ratings</td>\n",
       "      <td>₹3,199.00</td>\n",
       "      <td>7 Days Replacement</td>\n",
       "      <td>FREE delivery: Monday, Sep 27 Details,Fastest ...</td>\n",
       "    </tr>\n",
       "    <tr>\n",
       "      <th>1</th>\n",
       "      <td>Kadence Guitar Frontier Series, Blue Acoustic ...</td>\n",
       "      <td>284 ratings</td>\n",
       "      <td>₹5,999.00</td>\n",
       "      <td>7 Days Replacement</td>\n",
       "      <td>FREE delivery: Monday, Sep 27 Details,Fastest ...</td>\n",
       "    </tr>\n",
       "    <tr>\n",
       "      <th>2</th>\n",
       "      <td>Kadence Frontier Jumbo Semi Acoustic Guitar Wi...</td>\n",
       "      <td>1,027 ratings</td>\n",
       "      <td>₹2,290.00</td>\n",
       "      <td>7 Days Replacement</td>\n",
       "      <td>FREE delivery: Monday, Sep 27 Details,Fastest ...</td>\n",
       "    </tr>\n",
       "    <tr>\n",
       "      <th>3</th>\n",
       "      <td>Juârez Acoustic Guitar, 38 Inch Cutaway, 038C ...</td>\n",
       "      <td>13,044 ratings</td>\n",
       "      <td>₹13,354.00</td>\n",
       "      <td>7 Days Replacement</td>\n",
       "      <td>FREE delivery: Saturday, Sep 25 Details,Fastes...</td>\n",
       "    </tr>\n",
       "    <tr>\n",
       "      <th>4</th>\n",
       "      <td>Juârez Acoustic Guitar, 38 Inch Cutaway, 038C ...</td>\n",
       "      <td>13,044 ratings</td>\n",
       "      <td>₹27,499.00</td>\n",
       "      <td>7 Days Replacement</td>\n",
       "      <td>FREE delivery: Saturday, Sep 25 Details,Fastes...</td>\n",
       "    </tr>\n",
       "    <tr>\n",
       "      <th>...</th>\n",
       "      <td>...</td>\n",
       "      <td>...</td>\n",
       "      <td>...</td>\n",
       "      <td>...</td>\n",
       "      <td>...</td>\n",
       "    </tr>\n",
       "    <tr>\n",
       "      <th>101</th>\n",
       "      <td>Henrix 38 Acoustic Right Handed Guitar (Natura...</td>\n",
       "      <td>84 ratings</td>\n",
       "      <td>₹899.00</td>\n",
       "      <td>7 Days Replacement</td>\n",
       "      <td>FREE delivery: Sunday, Sep 26 Details,Fastest ...</td>\n",
       "    </tr>\n",
       "    <tr>\n",
       "      <th>102</th>\n",
       "      <td>Kadence Frontier Series, Acoustic Guitar With/...</td>\n",
       "      <td>1,108 ratings</td>\n",
       "      <td>₹299.00</td>\n",
       "      <td>7 Days Replacement</td>\n",
       "      <td>FREE delivery: Monday, Sep 27 Details,Fastest ...</td>\n",
       "    </tr>\n",
       "    <tr>\n",
       "      <th>103</th>\n",
       "      <td>JUAREZ Acoustic Guitar, [LEFT HANDED] 38 Inch ...</td>\n",
       "      <td>2 ratings</td>\n",
       "      <td>₹4,009.00</td>\n",
       "      <td>7 Days Replacement</td>\n",
       "      <td>FREE delivery: Saturday, Sep 25 Details,Fastes...</td>\n",
       "    </tr>\n",
       "    <tr>\n",
       "      <th>104</th>\n",
       "      <td>Intern INT-38C Natural Acoustic Guitar kit wit...</td>\n",
       "      <td>1,407 ratings</td>\n",
       "      <td>₹999.00</td>\n",
       "      <td>7 Days Replacement</td>\n",
       "      <td>FREE delivery: Saturday, Sep 25 Details,Fastes...</td>\n",
       "    </tr>\n",
       "    <tr>\n",
       "      <th>105</th>\n",
       "      <td>Henrix 38C Blue Burst Cutaway acoustic guitar ...</td>\n",
       "      <td>3 ratings</td>\n",
       "      <td>₹4,009.00</td>\n",
       "      <td>7 Days Replacement</td>\n",
       "      <td>FREE delivery: Sunday, Sep 26 Details,Fastest ...</td>\n",
       "    </tr>\n",
       "  </tbody>\n",
       "</table>\n",
       "<p>106 rows × 5 columns</p>\n",
       "</div>"
      ],
      "text/plain": [
       "                                         Product_title          Rating  \\\n",
       "0    Medellin 38in Premium All Wood Acoustic Guitar...     593 ratings   \n",
       "1    Kadence Guitar Frontier Series, Blue Acoustic ...     284 ratings   \n",
       "2    Kadence Frontier Jumbo Semi Acoustic Guitar Wi...   1,027 ratings   \n",
       "3    Juârez Acoustic Guitar, 38 Inch Cutaway, 038C ...  13,044 ratings   \n",
       "4    Juârez Acoustic Guitar, 38 Inch Cutaway, 038C ...  13,044 ratings   \n",
       "..                                                 ...             ...   \n",
       "101  Henrix 38 Acoustic Right Handed Guitar (Natura...      84 ratings   \n",
       "102  Kadence Frontier Series, Acoustic Guitar With/...   1,108 ratings   \n",
       "103  JUAREZ Acoustic Guitar, [LEFT HANDED] 38 Inch ...       2 ratings   \n",
       "104  Intern INT-38C Natural Acoustic Guitar kit wit...   1,407 ratings   \n",
       "105  Henrix 38C Blue Burst Cutaway acoustic guitar ...       3 ratings   \n",
       "\n",
       "          Price Return_Exchange_time  \\\n",
       "0     ₹3,199.00   7 Days Replacement   \n",
       "1     ₹5,999.00   7 Days Replacement   \n",
       "2     ₹2,290.00   7 Days Replacement   \n",
       "3    ₹13,354.00   7 Days Replacement   \n",
       "4    ₹27,499.00   7 Days Replacement   \n",
       "..          ...                  ...   \n",
       "101     ₹899.00   7 Days Replacement   \n",
       "102     ₹299.00   7 Days Replacement   \n",
       "103   ₹4,009.00   7 Days Replacement   \n",
       "104     ₹999.00   7 Days Replacement   \n",
       "105   ₹4,009.00   7 Days Replacement   \n",
       "\n",
       "                                    Expected_delievery  \n",
       "0    FREE delivery: Monday, Sep 27 Details,Fastest ...  \n",
       "1    FREE delivery: Monday, Sep 27 Details,Fastest ...  \n",
       "2    FREE delivery: Monday, Sep 27 Details,Fastest ...  \n",
       "3    FREE delivery: Saturday, Sep 25 Details,Fastes...  \n",
       "4    FREE delivery: Saturday, Sep 25 Details,Fastes...  \n",
       "..                                                 ...  \n",
       "101  FREE delivery: Sunday, Sep 26 Details,Fastest ...  \n",
       "102  FREE delivery: Monday, Sep 27 Details,Fastest ...  \n",
       "103  FREE delivery: Saturday, Sep 25 Details,Fastes...  \n",
       "104  FREE delivery: Saturday, Sep 25 Details,Fastes...  \n",
       "105  FREE delivery: Sunday, Sep 26 Details,Fastest ...  \n",
       "\n",
       "[106 rows x 5 columns]"
      ]
     },
     "execution_count": 235,
     "metadata": {},
     "output_type": "execute_result"
    }
   ],
   "source": [
    "import pandas as pd\n",
    "df=pd.DataFrame({})\n",
    "df['Product_title']=final_title\n",
    "df['Rating']=final_rating\n",
    "df['Price']=final_price\n",
    "df['Return_Exchange_time']=final_ret_exchange\n",
    "df['Expected_delievery']=final_Expected_Delivery\n",
    "df"
   ]
  },
  {
   "cell_type": "code",
   "execution_count": 236,
   "metadata": {},
   "outputs": [],
   "source": [
    "df.to_csv('Q2.csv')"
   ]
  },
  {
   "cell_type": "code",
   "execution_count": 237,
   "metadata": {},
   "outputs": [],
   "source": [
    "df=pd.read_csv('Q2.csv')"
   ]
  },
  {
   "cell_type": "code",
   "execution_count": 238,
   "metadata": {},
   "outputs": [
    {
     "data": {
      "text/html": [
       "<div>\n",
       "<style scoped>\n",
       "    .dataframe tbody tr th:only-of-type {\n",
       "        vertical-align: middle;\n",
       "    }\n",
       "\n",
       "    .dataframe tbody tr th {\n",
       "        vertical-align: top;\n",
       "    }\n",
       "\n",
       "    .dataframe thead th {\n",
       "        text-align: right;\n",
       "    }\n",
       "</style>\n",
       "<table border=\"1\" class=\"dataframe\">\n",
       "  <thead>\n",
       "    <tr style=\"text-align: right;\">\n",
       "      <th></th>\n",
       "      <th>Unnamed: 0</th>\n",
       "      <th>Product_title</th>\n",
       "      <th>Rating</th>\n",
       "      <th>Price</th>\n",
       "      <th>Return_Exchange_time</th>\n",
       "      <th>Expected_delievery</th>\n",
       "    </tr>\n",
       "  </thead>\n",
       "  <tbody>\n",
       "    <tr>\n",
       "      <th>0</th>\n",
       "      <td>0</td>\n",
       "      <td>Medellin 38in Premium All Wood Acoustic Guitar...</td>\n",
       "      <td>593 ratings</td>\n",
       "      <td>₹3,199.00</td>\n",
       "      <td>7 Days Replacement</td>\n",
       "      <td>FREE delivery: Monday, Sep 27 Details,Fastest ...</td>\n",
       "    </tr>\n",
       "    <tr>\n",
       "      <th>1</th>\n",
       "      <td>1</td>\n",
       "      <td>Kadence Guitar Frontier Series, Blue Acoustic ...</td>\n",
       "      <td>284 ratings</td>\n",
       "      <td>₹5,999.00</td>\n",
       "      <td>7 Days Replacement</td>\n",
       "      <td>FREE delivery: Monday, Sep 27 Details,Fastest ...</td>\n",
       "    </tr>\n",
       "    <tr>\n",
       "      <th>2</th>\n",
       "      <td>2</td>\n",
       "      <td>Kadence Frontier Jumbo Semi Acoustic Guitar Wi...</td>\n",
       "      <td>1,027 ratings</td>\n",
       "      <td>₹2,290.00</td>\n",
       "      <td>7 Days Replacement</td>\n",
       "      <td>FREE delivery: Monday, Sep 27 Details,Fastest ...</td>\n",
       "    </tr>\n",
       "    <tr>\n",
       "      <th>3</th>\n",
       "      <td>3</td>\n",
       "      <td>Juârez Acoustic Guitar, 38 Inch Cutaway, 038C ...</td>\n",
       "      <td>13,044 ratings</td>\n",
       "      <td>₹13,354.00</td>\n",
       "      <td>7 Days Replacement</td>\n",
       "      <td>FREE delivery: Saturday, Sep 25 Details,Fastes...</td>\n",
       "    </tr>\n",
       "    <tr>\n",
       "      <th>4</th>\n",
       "      <td>4</td>\n",
       "      <td>Juârez Acoustic Guitar, 38 Inch Cutaway, 038C ...</td>\n",
       "      <td>13,044 ratings</td>\n",
       "      <td>₹27,499.00</td>\n",
       "      <td>7 Days Replacement</td>\n",
       "      <td>FREE delivery: Saturday, Sep 25 Details,Fastes...</td>\n",
       "    </tr>\n",
       "    <tr>\n",
       "      <th>...</th>\n",
       "      <td>...</td>\n",
       "      <td>...</td>\n",
       "      <td>...</td>\n",
       "      <td>...</td>\n",
       "      <td>...</td>\n",
       "      <td>...</td>\n",
       "    </tr>\n",
       "    <tr>\n",
       "      <th>101</th>\n",
       "      <td>101</td>\n",
       "      <td>Henrix 38 Acoustic Right Handed Guitar (Natura...</td>\n",
       "      <td>84 ratings</td>\n",
       "      <td>₹899.00</td>\n",
       "      <td>7 Days Replacement</td>\n",
       "      <td>FREE delivery: Sunday, Sep 26 Details,Fastest ...</td>\n",
       "    </tr>\n",
       "    <tr>\n",
       "      <th>102</th>\n",
       "      <td>102</td>\n",
       "      <td>Kadence Frontier Series, Acoustic Guitar With/...</td>\n",
       "      <td>1,108 ratings</td>\n",
       "      <td>₹299.00</td>\n",
       "      <td>7 Days Replacement</td>\n",
       "      <td>FREE delivery: Monday, Sep 27 Details,Fastest ...</td>\n",
       "    </tr>\n",
       "    <tr>\n",
       "      <th>103</th>\n",
       "      <td>103</td>\n",
       "      <td>JUAREZ Acoustic Guitar, [LEFT HANDED] 38 Inch ...</td>\n",
       "      <td>2 ratings</td>\n",
       "      <td>₹4,009.00</td>\n",
       "      <td>7 Days Replacement</td>\n",
       "      <td>FREE delivery: Saturday, Sep 25 Details,Fastes...</td>\n",
       "    </tr>\n",
       "    <tr>\n",
       "      <th>104</th>\n",
       "      <td>104</td>\n",
       "      <td>Intern INT-38C Natural Acoustic Guitar kit wit...</td>\n",
       "      <td>1,407 ratings</td>\n",
       "      <td>₹999.00</td>\n",
       "      <td>7 Days Replacement</td>\n",
       "      <td>FREE delivery: Saturday, Sep 25 Details,Fastes...</td>\n",
       "    </tr>\n",
       "    <tr>\n",
       "      <th>105</th>\n",
       "      <td>105</td>\n",
       "      <td>Henrix 38C Blue Burst Cutaway acoustic guitar ...</td>\n",
       "      <td>3 ratings</td>\n",
       "      <td>₹4,009.00</td>\n",
       "      <td>7 Days Replacement</td>\n",
       "      <td>FREE delivery: Sunday, Sep 26 Details,Fastest ...</td>\n",
       "    </tr>\n",
       "  </tbody>\n",
       "</table>\n",
       "<p>106 rows × 6 columns</p>\n",
       "</div>"
      ],
      "text/plain": [
       "     Unnamed: 0                                      Product_title  \\\n",
       "0             0  Medellin 38in Premium All Wood Acoustic Guitar...   \n",
       "1             1  Kadence Guitar Frontier Series, Blue Acoustic ...   \n",
       "2             2  Kadence Frontier Jumbo Semi Acoustic Guitar Wi...   \n",
       "3             3  Juârez Acoustic Guitar, 38 Inch Cutaway, 038C ...   \n",
       "4             4  Juârez Acoustic Guitar, 38 Inch Cutaway, 038C ...   \n",
       "..          ...                                                ...   \n",
       "101         101  Henrix 38 Acoustic Right Handed Guitar (Natura...   \n",
       "102         102  Kadence Frontier Series, Acoustic Guitar With/...   \n",
       "103         103  JUAREZ Acoustic Guitar, [LEFT HANDED] 38 Inch ...   \n",
       "104         104  Intern INT-38C Natural Acoustic Guitar kit wit...   \n",
       "105         105  Henrix 38C Blue Burst Cutaway acoustic guitar ...   \n",
       "\n",
       "             Rating       Price Return_Exchange_time  \\\n",
       "0       593 ratings   ₹3,199.00   7 Days Replacement   \n",
       "1       284 ratings   ₹5,999.00   7 Days Replacement   \n",
       "2     1,027 ratings   ₹2,290.00   7 Days Replacement   \n",
       "3    13,044 ratings  ₹13,354.00   7 Days Replacement   \n",
       "4    13,044 ratings  ₹27,499.00   7 Days Replacement   \n",
       "..              ...         ...                  ...   \n",
       "101      84 ratings     ₹899.00   7 Days Replacement   \n",
       "102   1,108 ratings     ₹299.00   7 Days Replacement   \n",
       "103       2 ratings   ₹4,009.00   7 Days Replacement   \n",
       "104   1,407 ratings     ₹999.00   7 Days Replacement   \n",
       "105       3 ratings   ₹4,009.00   7 Days Replacement   \n",
       "\n",
       "                                    Expected_delievery  \n",
       "0    FREE delivery: Monday, Sep 27 Details,Fastest ...  \n",
       "1    FREE delivery: Monday, Sep 27 Details,Fastest ...  \n",
       "2    FREE delivery: Monday, Sep 27 Details,Fastest ...  \n",
       "3    FREE delivery: Saturday, Sep 25 Details,Fastes...  \n",
       "4    FREE delivery: Saturday, Sep 25 Details,Fastes...  \n",
       "..                                                 ...  \n",
       "101  FREE delivery: Sunday, Sep 26 Details,Fastest ...  \n",
       "102  FREE delivery: Monday, Sep 27 Details,Fastest ...  \n",
       "103  FREE delivery: Saturday, Sep 25 Details,Fastes...  \n",
       "104  FREE delivery: Saturday, Sep 25 Details,Fastes...  \n",
       "105  FREE delivery: Sunday, Sep 26 Details,Fastest ...  \n",
       "\n",
       "[106 rows x 6 columns]"
      ]
     },
     "execution_count": 238,
     "metadata": {},
     "output_type": "execute_result"
    }
   ],
   "source": [
    "df"
   ]
  },
  {
   "cell_type": "markdown",
   "metadata": {},
   "source": [
    "# 3. Write a python program to access the search bar and search button on images.google.com and scrape 100 images each for keywords ‘fruits’, ‘cars’ and ‘Machine Learning’"
   ]
  },
  {
   "cell_type": "code",
   "execution_count": 37,
   "metadata": {},
   "outputs": [
    {
     "name": "stderr",
     "output_type": "stream",
     "text": [
      "ERROR: Could not find a version that satisfies the requirement git (from versions: none)\n",
      "ERROR: No matching distribution found for git\n"
     ]
    }
   ],
   "source": [
    "!pip install git\n",
    "#!pip install git+https://github.com/Joeclinton1/google-images-download"
   ]
  },
  {
   "cell_type": "code",
   "execution_count": 38,
   "metadata": {},
   "outputs": [
    {
     "ename": "NameError",
     "evalue": "name 'git' is not defined",
     "output_type": "error",
     "traceback": [
      "\u001b[1;31m---------------------------------------------------------------------------\u001b[0m",
      "\u001b[1;31mNameError\u001b[0m                                 Traceback (most recent call last)",
      "\u001b[1;32m<ipython-input-38-ddf4a4a64727>\u001b[0m in \u001b[0;36m<module>\u001b[1;34m\u001b[0m\n\u001b[1;32m----> 1\u001b[1;33m \u001b[0mprint\u001b[0m\u001b[1;33m(\u001b[0m\u001b[0mgit\u001b[0m\u001b[1;33m.\u001b[0m\u001b[0m__version__\u001b[0m\u001b[1;33m)\u001b[0m\u001b[1;33m\u001b[0m\u001b[1;33m\u001b[0m\u001b[0m\n\u001b[0m",
      "\u001b[1;31mNameError\u001b[0m: name 'git' is not defined"
     ]
    }
   ],
   "source": [
    "print(git.__version__)"
   ]
  },
  {
   "cell_type": "code",
   "execution_count": 4,
   "metadata": {},
   "outputs": [],
   "source": [
    "url = 'https://www.google.com/imghp?hl=en'\n",
    "driver.get(url)"
   ]
  },
  {
   "cell_type": "code",
   "execution_count": null,
   "metadata": {},
   "outputs": [],
   "source": []
  },
  {
   "cell_type": "code",
   "execution_count": 5,
   "metadata": {},
   "outputs": [
    {
     "name": "stderr",
     "output_type": "stream",
     "text": [
      "C:\\Users\\lenovo\\anaconda3\\lib\\site-packages\\selenium\\webdriver\\remote\\webdriver.py:483: UserWarning: find_element_by_* commands are deprecated. Please use find_element() instead\n",
      "  warnings.warn(\"find_element_by_* commands are deprecated. Please use find_element() instead\")\n"
     ]
    }
   ],
   "source": [
    "btn = driver.find_element_by_xpath(\"//input[@class='gLFyf gsfi']\")"
   ]
  },
  {
   "cell_type": "code",
   "execution_count": 13,
   "metadata": {},
   "outputs": [],
   "source": [
    "btn.send_keys(\"fruits\")"
   ]
  },
  {
   "cell_type": "code",
   "execution_count": 14,
   "metadata": {},
   "outputs": [],
   "source": [
    "btnc = driver.find_element_by_xpath(\"//span[@class='z1asCe MZy1Rb']\")"
   ]
  },
  {
   "cell_type": "code",
   "execution_count": 15,
   "metadata": {},
   "outputs": [],
   "source": [
    "btnc.click()"
   ]
  },
  {
   "cell_type": "code",
   "execution_count": 33,
   "metadata": {},
   "outputs": [],
   "source": [
    "img_urls=[]\n",
    "for i in driver.find_elements_by_xpath('//a[@class=\"VFACy kGQAp sMi44c lNHeqe\"]'):\n",
    "    img_urls.append(i.get_attribute('href'))"
   ]
  },
  {
   "cell_type": "code",
   "execution_count": 34,
   "metadata": {},
   "outputs": [
    {
     "data": {
      "text/plain": [
       "['https://www.healthline.com/nutrition/healthy-fruit',\n",
       " 'https://www.sunset.com/garden/fruits-veggies/best-fruits-to-plant-in-cold-weather',\n",
       " 'https://www.freepik.com/premium-vector/fruits-collection_785792.htm',\n",
       " 'https://7esl.com/fruits-vocabulary-english/',\n",
       " 'https://www.runnersworld.com/nutrition-weight-loss/a24784787/healthiest-fruits/',\n",
       " 'https://nurserylive.com/products/top-5-fruits-plants-to-grow-in-pot',\n",
       " 'https://m.economictimes.com/news/how-to/10-fruits-diabetics-should-eat-and-why-that-are-important-for-you/articleshow/86506774.cms',\n",
       " 'https://unsplash.com/s/photos/fruit',\n",
       " 'https://www.eatthis.com/news-study-fruits-cause-migraine/',\n",
       " 'https://www.webmd.com/diet/ss/slideshow-fruit-sugar',\n",
       " 'https://www.insider.com/uncommon-fruits-and-vegetables-quiz-2020-5',\n",
       " 'https://stanfordmag.org/contents/bananas-are-berries',\n",
       " 'https://www.netmeds.com/health-library/post/durian-fruit-health-benefits-nutrition-uses-for-skin-and-hair-recipes-side-effects',\n",
       " 'https://www.fruitbouquets.com/fruit-blog/fruitbouquets/popular-fruits-around-world/',\n",
       " 'https://www.liveworksheets.com/worksheets/en/English_as_a_Second_Language_%28ESL%29/Fruits/Fruit_vocabulary_iq429846cv',\n",
       " 'https://www.123rf.com/stock-photo/mixed_fruit.html',\n",
       " 'https://www.cdc.gov/foodsafety/communication/steps-healthy-fruits-veggies.html',\n",
       " 'https://www.everydayhealth.com/diet-nutrition/top-hydrating-fruits/',\n",
       " 'https://www.istockphoto.com/vector/all-about-fruits-gm92721348-9265863',\n",
       " 'https://www.medicalnewstoday.com/articles/324431',\n",
       " 'https://www.cntraveler.com/galleries/2014-11-17/11-unusual-fruits-you-should-try-on-your-next-trip',\n",
       " 'https://www.youtube.com/watch?v=tCqTU6d4qls',\n",
       " 'https://www.spotlessfruits.com/',\n",
       " 'https://www.vectorstock.com/royalty-free-vector/different-of-fruits-realistic-vector-21566878',\n",
       " 'https://www.mountelizabeth.com.sg/healthplus/article/7-super-fruits-how-to-add-them-in-your-diet',\n",
       " 'https://www.nutritionadvance.com/healthy-foods/types-of-fruit/',\n",
       " 'https://www.knowledgelove.com/name/fruits-name/20-fruits-name-in-english-and-hindi/',\n",
       " 'https://www.verywellfit.com/low-carb-fruit-list-2242528',\n",
       " 'https://wonderopolis.org/wonder/how-are-seedless-fruits-made',\n",
       " 'https://www.vegrecipesofindia.com/glossary-of-indian-fruits-english-hindi/',\n",
       " 'https://www.amazon.in/Fruits-Chart-Vidya-Chitr-Prakashan/dp/B00VBOQ2PQ',\n",
       " 'https://www.bhg.com/gardening/vegetable/difference-between-fruits-vegetables/',\n",
       " 'https://www.gardenbetty.com/sleep-promoting-fruits-and-vegetables-that-help-you-spring-forward-easier/',\n",
       " 'https://growingearlyminds.org.au/tips/easy-ways-to-get-your-kids-enjoying-fruits-and-veg/',\n",
       " 'https://www.healthline.com/health/pregnancy/best-fruits-to-eat',\n",
       " 'https://www.ndtv.com/food/weight-loss-5-fruits-you-should-avoid-if-you-are-trying-to-lose-weight-1947339',\n",
       " 'https://pixabay.com/illustrations/fruits-icons-fruit-apple-orange-3654155/',\n",
       " 'https://pharmeasy.in/blog/list-of-5-summer-season-fruits-to-include-in-your-diet/',\n",
       " 'https://time.com/5234787/dirty-dozen-pesticides/',\n",
       " 'https://www.agric.wa.gov.au/fruit/storage-fresh-fruit-and-vegetables',\n",
       " 'https://holycrap.com/blogs/news/44164481-top-10-healthiest-fruits-and-vegetables',\n",
       " 'https://greatist.com/eat/fruits-for-diabetics',\n",
       " 'https://www.goodhousekeeping.com/health/diet-nutrition/g28511617/healthiest-fruits/',\n",
       " 'https://delishably.com/fruits/10-Fruits-Unique-to-Brazil',\n",
       " 'https://www.freshkartfarms.com/',\n",
       " 'https://www.delightmedical.com/wellness-guide/the-basics-of-healthy-eating/how-super-are-your-fruits',\n",
       " 'https://www.spotlessfruits.com/',\n",
       " 'https://www.prevention.com/food-nutrition/healthy-eating/g24663294/low-sugar-fruits/',\n",
       " 'https://www.pexels.com/search/fruits/',\n",
       " 'https://www.diabete.qc.ca/en/living-with-diabetes/diet/food-and-nutrients/fruit/',\n",
       " 'https://newschant.com/articles/nutrition/say-no-to-cut-fruits-and-vegetables-they-can-make-you-very-sick/',\n",
       " 'https://www.liveworksheets.com/ml1571605sx',\n",
       " 'https://asianinspirations.com.au/food-knowledge/10-most-expensive-asian-fruits/',\n",
       " 'https://www.freepik.com/photos/fruit',\n",
       " 'https://www.agmrc.org/commodities-products/fruits/dragon-fruit',\n",
       " 'https://www.healthifyme.com/blog/seasonal-fruits-in-india-and-its-benefits/',\n",
       " 'https://en.reunion.fr/discover/gastronomy/the-fruit-and-vegetables-of-reunion-island/fruits-and-vegetables-and-their-benefits/',\n",
       " 'https://stylesatlife.com/articles/types-of-fruits/',\n",
       " 'https://www.india.com/food/8-nutrient-rich-fruits-you-need-to-start-eating-240848/',\n",
       " 'https://www.womansday.com/food-recipes/food-drinks/a2381/10-exotic-fruits-youve-probably-never-tried-116713/',\n",
       " 'https://www.onmanorama.com/food/features/2020/06/08/right-time-to-consume-fruits.html',\n",
       " 'https://www.nytimes.com/2018/05/22/dining/best-summer-fruit.html',\n",
       " 'https://www.istockphoto.com/vector/fruits-vegetables-gm587904262-100943473',\n",
       " 'https://www.livescience.com/33991-difference-fruits-vegetables.html',\n",
       " 'https://www.treehugger.com/fruits-youve-probably-never-heard-of-4869359',\n",
       " 'https://stocksnap.io/search/fruits',\n",
       " 'https://www.pritikin.com/are-some-fruits-better-others',\n",
       " 'https://www.insider.com/no-fruits-are-unhealthy-according-to-nutritionists-2019-1',\n",
       " 'https://health.usnews.com/wellness/food/slideshows/how-16-fruits-boost-your-health',\n",
       " 'https://www.berries.com/blog/cut-fruits-and-veggies',\n",
       " 'https://unsplash.com/s/photos/citrus-fruit',\n",
       " 'https://www.eatthis.com/best-fruits-for-fat-loss/',\n",
       " 'https://www.iaea.org/newscenter/news/irradiation-secures-viet-nams-fruit-exports',\n",
       " 'https://parade.com/1238543/judykoutsky/healthiest-fruits/',\n",
       " 'https://www.atlasobscura.com/articles/unusual-fruits',\n",
       " 'https://www.hsph.harvard.edu/nutritionsource/what-should-you-eat/vegetables-and-fruits/',\n",
       " 'https://www.britannica.com/science/fruit-plant-reproductive-body',\n",
       " 'https://www.dietdoctor.com/low-carb/keto/fruits',\n",
       " 'https://www.purewow.com/food/high-protein-fruits',\n",
       " 'https://www.mindbodygreen.com/articles/healthiest-fruits-in-world',\n",
       " 'https://www.mydomaine.com/winter-fruits',\n",
       " 'https://www.timesnownews.com/health/article/5-delicious-winter-fruits-to-add-to-your-diabetes-diet-to-manage-blood-sugar-oranges-pears-kiwis-and-more/678243',\n",
       " 'https://www.youtube.com/watch?v=lTCIQsgZxNY',\n",
       " 'https://www.agmrc.org/commodities-products/fruits',\n",
       " 'https://en.wikipedia.org/wiki/Wikipedia:Featured_pictures/Plants/Fruits',\n",
       " 'https://www.everydayhealth.com/diet-nutrition-pictures/the-healthiest-power-fruits-next-door.aspx',\n",
       " 'https://timesofindia.indiatimes.com/life-style/food-news/worlds-most-expensive-fruits-that-are-worth-the-price/photostory/76087298.cms',\n",
       " 'https://www.myfooddata.com/articles/high-magnesium-fruits.php',\n",
       " 'https://www.medicalnewstoday.com/articles/325550',\n",
       " 'https://www.byrdie.com/high-fiber-fruits-5080822',\n",
       " 'https://holidappy.com/holidays/List-of-Round-or-Circular-Fruits',\n",
       " 'https://www.today.com/health/daily-diet-2-fruits-3-veggies-could-lead-longer-life-t210266',\n",
       " 'https://www.marthastewart.com/8040649/fruits-vegetables-storage-guide-countertop-refrigerator',\n",
       " 'https://hospitalityinsights.ehl.edu/slowest-perishable-vegetables-fruits',\n",
       " 'https://www.cbsnews.com/pictures/15-strange-fruits-and-vegetables/',\n",
       " 'https://health.clevelandclinic.org/5-fruits-that-deserve-the-buzz-your-dietitians-picks/',\n",
       " 'https://www.rainforestcruises.com/guides/amazon-rainforest-fruits',\n",
       " 'https://www.treehugger.com/poisonous-fruits-and-vegetables-avoid-4858734',\n",
       " 'https://www.bbc.com/pidgin/tori-51301905',\n",
       " 'http://www.biologyreference.com/Fo-Gr/Fruits.html',\n",
       " 'https://www.verywellfit.com/fruits-vegetables-cut-nutrients-lost-2506106',\n",
       " 'https://www.myfooddata.com/articles/fruits-high-in-fiber.php',\n",
       " 'https://www.cookinglight.com/eating-smart/nutrition-101/best-sweet-fruits-for-sugar-cravings',\n",
       " 'https://www.lalpathlabs.com/blog/fruits-and-vegetables-for-healthy-life/',\n",
       " 'https://foodsguy.com/fruits-that-start-with-a/',\n",
       " 'https://foodfornet.com/66-exotic-fruits-from-around-the-world-with-pictures/',\n",
       " 'https://www.pexels.com/search/fruit/',\n",
       " 'https://www.proflowers.com/blog/which-fruits-are-summer-fruits',\n",
       " 'https://www.theweek.in/news/health/2020/02/20/Eating-fruits-vegetables-linked-to-lessening-of-menopause-symptoms-Study.html',\n",
       " 'https://www.mountelizabeth.com.sg/healthplus/article/7-super-fruits-how-to-add-them-in-your-diet',\n",
       " 'https://www.keckmedicine.org/7-fruits-that-can-help-you-lose-or-maintain-your-weight/',\n",
       " 'https://greatist.com/health/seasonal-winter-produce-guide',\n",
       " 'https://www.shutterstock.com/search/fruit+stall',\n",
       " 'https://www.thehindubusinessline.com/news/science/wild-blood-fruit-a-source-of-natural-red-colourant-may-be-domesticated/article25389685.ece',\n",
       " 'https://veggiedesserts.com/fruit-platter/',\n",
       " 'https://www.colgate.com/en-in/oral-health/nutrition-and-oral-health/acidic-fruits-and-teeth-effects-0216',\n",
       " 'https://www.thespruceeats.com/the-cheapest-fruits-and-vegetables-month-by-month-1388345',\n",
       " 'https://www.foodrepublic.com/2016/01/14/15-exotic-fruits-rarely-seen-stateside-you-need-to-try/',\n",
       " 'https://www.foodsafetynews.com/2021/08/eu-report-shows-progress-on-fruit-and-vegetable-checks/',\n",
       " 'https://www.foodunfolded.com/article/perfectly-ripe-fruits-how-do-they-do-it',\n",
       " 'https://www.medicinenet.com/what_does_a_star_fruit_taste_like/article.htm',\n",
       " 'https://www.seniority.in/blog/15-water-rich-fruits-to-keep-you-hydrated-during-summers/',\n",
       " 'https://www.thebetterindia.com/71472/unique-rare-indian-fruits/',\n",
       " 'https://www.wcrf-uk.org/uk/recipes/alphabet-of-fruit',\n",
       " 'https://www.elsevier.com/books/fresh-cut-fruits-and-vegetables/siddiqui/978-0-12-816184-5',\n",
       " 'https://www.britannica.com/plant/mango-plant-and-fruit',\n",
       " 'https://www.ndtv.com/food/5-healthiest-fruits-for-weight-loss-digestion-and-immunity-1937502',\n",
       " 'https://www.firstpost.com/tech/news-analysis/consuming-375-to-500-grams-of-fruits-vegetables-and-pulses-per-day-reduces-risk-of-death-4201851.html',\n",
       " 'https://www.hsph.harvard.edu/nutritionsource/what-should-you-eat/vegetables-and-fruits/',\n",
       " 'https://www.theguardian.com/lifeandstyle/2017/feb/24/meet-people-eat-10-portions-fruit-vegetables-day',\n",
       " 'https://www.mensjournal.com/food-drink/the-best-8-fruits-for-better-health/',\n",
       " 'https://www.libertyprim.com/en/lexique-familles/54/passion-fruit-lexique-des-exotic-fruits.htm',\n",
       " 'https://www.thedailymeal.com/healthy-eating/11-fruits-and-vegetables-aren-t-all-great-you',\n",
       " 'https://www.everydayhealth.com/diet-nutrition/best-winter-fruits-to-help-keep-you-healthy/',\n",
       " 'https://www.modernbazaar.online/category/fruits-vegetables/fresh-fruits',\n",
       " 'https://delishably.com/fruits/list-of-different-kinds-of-fruits',\n",
       " 'https://timesofindia.indiatimes.com/life-style/health-fitness/diet/why-you-must-not-have-fruits-after-4-pm/photostory/85891157.cms',\n",
       " 'https://www.thatsmags.com/china/post/31802/the-best-and-worst-fruits-of-asia-ranked',\n",
       " 'https://www.slideshare.net/x1andres/fruits-vegetables-86883223',\n",
       " 'https://www.gponline.com/gps-prescribe-fruit-vegetables-national-food-strategy-proposals/article/1722269',\n",
       " 'https://www.chinahighlights.com/travelguide/chinese-food/strangest-fruits.htm',\n",
       " 'https://www.womenshealthmag.com/food/a19989522/high-low-sugar-fruits/',\n",
       " 'https://aces.nmsu.edu/pubs/_e/E141/welcome.html',\n",
       " 'https://www.cookinglight.com/healthy-living/healthy-habits/how-much-serving-fruits-vegetables',\n",
       " 'https://www.bicycling.com/news/a27754934/lack-of-fruits-and-vegetables-cardiovascular-death/',\n",
       " 'https://www.healthhub.sg/live-healthy/113/smart_ways_fill_up_fruits_veggies',\n",
       " 'https://indianexpress.com/article/parenting/nutrition/have-a-fussy-eater-at-home-add-these-colourful-fruits-and-veggies-to-their-diet-7351432/',\n",
       " 'https://www.healthifyme.com/blog/seasonal-fruits-in-india-and-its-benefits/',\n",
       " 'https://www.weightlossresources.co.uk/calories/calorie_counter/fruit.htm',\n",
       " 'https://sciencenordic.com/a/1452912',\n",
       " 'https://www.centarahotelsresorts.com/centaragrand/journal/5-delicious-fruits-that-make-thai-cuisine-special',\n",
       " 'https://www.heart.org/en/healthy-living/healthy-eating/add-color/how-to-eat-more-fruits-and-vegetables',\n",
       " 'https://www.nutritionaction.com/daily/what-to-eat/5-reasons-to-eat-more-fruit/',\n",
       " 'https://www.calories.info/food/fruits',\n",
       " 'https://www.eatingwell.com/article/290638/low-carb-fruits-ranked-from-lowest-to-highest-carbs/',\n",
       " 'https://www.today.com/series/one-small-thing/are-banana-peels-edible-4-fruits-you-should-be-eating-t151474',\n",
       " 'https://www.mysouthernhealth.com/9-refreshing-ways-use-seasonal-summer-fruits/',\n",
       " 'https://www.sahyadrifarms.com/fresh-f&v.html',\n",
       " 'https://www.mayoclinichealthsystem.org/hometown-health/speaking-of-health/123-approach-to-eating-fruits-and-vegetables',\n",
       " 'https://au.hotels.com/go/indonesia/best-bali-tropical-fruits',\n",
       " 'https://www.bhg.com/recipes/healthy/eating/fruits-good-for-the-heart/',\n",
       " 'https://www.tasteofhome.com/collection/exotic-fruit-guide/',\n",
       " 'http://www.fao.org/economic/est/issues/investment/building-responsible-value-chains-for-tropical-fruits/ar/',\n",
       " 'https://www.goodhousekeeping.com/health/diet-nutrition/g28511617/healthiest-fruits/',\n",
       " 'https://www.pexels.com/search/fruits/',\n",
       " 'https://www.thespruceeats.com/fall-fruits-and-vegetables-2217704',\n",
       " 'https://www.nytimes.com/2021/08/09/well/brain-health-fruits-vegetables.html',\n",
       " 'https://www.medicalnewstoday.com/articles/311220',\n",
       " 'https://investincolombia.com.co/en/sectors/agricultural-products-food-production/fruits-and-vegetables',\n",
       " 'https://en.wikipedia.org/wiki/Fruit',\n",
       " 'https://www.microsoft.com/en-in/p/fruits-name-quiz/9nblggh6c4fs',\n",
       " 'https://www.femina.in/beauty/skin/benefits-of-fruits-that-are-good-for-skin-192873.html',\n",
       " 'https://www.berries.com/blog/types-of-fruit',\n",
       " 'https://foodfornet.com/66-exotic-fruits-from-around-the-world-with-pictures/',\n",
       " 'https://www.adityabirlacapital.com/healthinsurance/active-together/2020/12/11/5-seasonal-winter-fruits-that-will-boost-your-immunity/',\n",
       " 'https://fit.thequint.com/health-news/fruits-for-diabetes-prevention-control',\n",
       " 'https://www.bhf.org.uk/informationsupport/heart-matters-magazine/nutrition/ask-the-expert/how-much-fruit',\n",
       " 'https://www.eatthis.com/news-eating-fruit-every-day-one-major-effect/',\n",
       " 'https://www.thehindu.com/life-and-style/food/exotic-fruits-are-being-increasingly-cultivated-in-india/article34045222.ece',\n",
       " 'https://www.bioversityinternational.org/e-library/databases/new-world-fruits/',\n",
       " 'https://www.youtube.com/watch?v=Od7sm59yJFk',\n",
       " 'https://www.nrtcfresh.com/',\n",
       " 'https://m.economictimes.com/news/economy/agriculture/exotic-fruits-become-scarce-and-costlier-as-bottlenecks-in-transportation-emerge/articleshow/75370162.cms',\n",
       " 'https://www.theluxurysignature.com/2015/03/30/top-12-tropical-fruits-to-eat-when-in-thailand/',\n",
       " 'https://www.thehindubusinessline.com/topic/fruits-and-vegetables-commodity/',\n",
       " 'https://www.everydayhealth.com/diet-nutrition-pictures/the-healthiest-power-fruits-next-door.aspx',\n",
       " 'https://www.verywellhealth.com/fruits-to-avoid-if-you-have-diabetes-1087587',\n",
       " 'https://www.myfooddata.com/articles/high-zinc-fruits.php',\n",
       " 'https://skinkraft.com/blogs/articles/fruits-to-eat-for-glowing-skin',\n",
       " 'https://www.britannica.com/list/8-fruits-to-try-before-you-die',\n",
       " 'https://www.businessinsider.com/what-foods-you-shouldnt-store-next-to-each-other-2016-8',\n",
       " 'https://unsplash.com/s/photos/fruit',\n",
       " 'https://www.knowledgelove.com/name/fruits-name/fruits-name-in-english/',\n",
       " 'https://www.shutterstock.com/search/fruits+names',\n",
       " 'https://www.delish.com/food/a28072385/best-fall-fruits-vegetables/',\n",
       " 'https://www.savinodelbene.com/en/markets/fresh-fruit-vegetable/',\n",
       " 'https://www.foodingredientsfirst.com/news/international-year-of-fruits-and-vegetables-2021-official-launched-as-fao-urges-fixes-to-food-systems.html',\n",
       " 'https://www.crosswalk.com/faith/spiritual-life/what-are-the-fruit-of-the-spirit.html',\n",
       " 'https://www.thebetterindia.com/71472/unique-rare-indian-fruits/',\n",
       " 'https://www.orlandohealth.com/content-hub/top-10-reasons-to-eat-more-fruits-and-vegetables',\n",
       " 'https://www.myfooddata.com/articles/high-zinc-fruits.php',\n",
       " 'https://www.dezeen.com/2019/12/07/meydan-levy-neo-fruit-4d-print-design/',\n",
       " 'https://www.fruitbouquets.com/fruit-blog/how-tos-fruit-tricks/18-strange-fruits/',\n",
       " 'https://www.thespruce.com/the-best-fruit-to-grow-4134299',\n",
       " 'https://www.eatfirst.com/en-gb/c/blog/fruit-to-eat-to-fight-winter-cold',\n",
       " 'https://www.shutterstock.com/search/fruit+stall',\n",
       " 'https://www.rainforestcruises.com/guides/amazon-rainforest-fruits',\n",
       " 'https://insanelygoodrecipes.com/fruits-that-start-with-i/',\n",
       " 'https://www.everydayhealth.com/diet-nutrition/best-winter-fruits-to-help-keep-you-healthy/',\n",
       " 'https://www.disabled-world.com/fitness/nutrition/fruits-veggies/',\n",
       " 'https://timesofindia.indiatimes.com/life-style/health-fitness/diet/why-you-must-not-have-fruits-after-4-pm/photostory/85891157.cms',\n",
       " 'https://www.prevention.com/food-nutrition/g26436302/citrus-fruits/',\n",
       " 'https://www.escoffieronline.com/how-to-core-fruits-and-vegetables/',\n",
       " 'https://exquisitefruits.com/en/',\n",
       " 'https://unsplash.com/s/photos/fruit',\n",
       " 'https://www.youtube.com/watch?v=Od7sm59yJFk',\n",
       " 'https://www.organicfacts.net/health-benefits/fruit',\n",
       " 'https://www.allrecipes.com/recipe/214947/perfect-summer-fruit-salad/',\n",
       " 'https://theconversation.com/a-diet-consisting-mainly-of-fruit-is-bad-for-you-166437',\n",
       " 'https://theveganatlas.com/12-unusual-exotic-fruits/',\n",
       " 'https://www.medicalnewstoday.com/articles/311220',\n",
       " 'https://www.hotels.com/go/thailand/amazing-thai-fruits',\n",
       " 'https://en.wikipedia.org/wiki/Fruit',\n",
       " 'https://www.eatforhealth.gov.au/food-essentials/five-food-groups/fruit',\n",
       " 'https://www.eatthis.com/news-eating-fruit-every-day-one-major-effect/',\n",
       " 'https://www.healthyfamiliesbc.ca/home/articles/what-makes-vegetables-and-fruit-so-special-0',\n",
       " 'https://www.delmontefresh.com/',\n",
       " 'https://www.creativehealthyfamily.com/top-10-reasons-why-you-need-to-eat-fruit/',\n",
       " 'https://www.latimes.com/food/story/2020-03-16/how-to-wash-fresh-vegetables-fruits-during-coronavirus-crisis',\n",
       " 'https://www.india.com/lifestyle/best-fruits-for-weight-loss-top-10-fruits-to-naturally-burn-fat-faster-1738489/',\n",
       " 'https://www.themanual.com/food-and-drink/best-fruits/',\n",
       " 'https://www.britannica.com/list/8-fruits-to-try-before-you-die',\n",
       " 'https://insanelygoodrecipes.com/fruits-that-start-with-i/',\n",
       " 'https://gardenerspath.com/plants/vegetables/unusual-fruits-vegetables/',\n",
       " 'https://www.bodyandsoul.com.au/nutrition/these-9-fruits-that-can-benefit-your-skin-inside-and-out/news-story/dec0e40352bb8b6d977ff153022864ac',\n",
       " 'https://www.cityexpress.com/en/travel-blog/5-exotic-fruits-from-mexico-to-try-on-your-next-trip',\n",
       " 'https://www.seriouseats.com/tropical-fruit-in-south-america-guide-colombia',\n",
       " 'https://www.myplate.gov/eat-healthy/fruits',\n",
       " 'https://www.verywellhealth.com/fruits-to-avoid-if-you-have-diabetes-1087587',\n",
       " 'https://www.today.com/food/feel-healthier-get-these-9-spring-vegetables-your-plate-t15776',\n",
       " 'https://www.cntraveler.com/galleries/2014-11-17/11-unusual-fruits-you-should-try-on-your-next-trip',\n",
       " 'https://www.visitguam.com/chamorro-culture/nature/fruits/',\n",
       " 'https://medicalxpress.com/news/2019-05-fruits-diet.html',\n",
       " 'https://www.hunimed.eu/news/fruit-eaten-meals/',\n",
       " 'https://www.thehealthsite.com/diseases-conditions/diabetes/suffering-from-diabetes-add-these-fruits-to-your-diet-to-keep-blood-sugar-under-control-839447/',\n",
       " 'https://sandinmysuitcase.com/fruit-in-mexico/',\n",
       " 'https://www.verywellfit.com/low-carb-fruit-list-2242528',\n",
       " 'https://www.cdc.gov/healthyweight/healthy_eating/fruits_vegetables.html',\n",
       " 'https://www.policygenius.com/blog/9-ways-to-save-money-on-fruits-vegetables/',\n",
       " 'https://www.bakeryandsnacks.com/Article/2019/10/30/Taura-Ingredients-to-star-fruit-based-fibers-for-snacks-at-FIE',\n",
       " 'https://www.webstaurantstore.com/blog/1706/what-fruits-and-vegetables-are-in-season-in-your-region.html',\n",
       " 'https://www.intracen.org/news/What-are-the-worlds-favourite-fruits/',\n",
       " 'https://www.fluentin3months.com/fruits-in-spanish/',\n",
       " 'https://www.foundationeducation.edu.au/articles/2018/10/6-high-protein-fruits',\n",
       " 'https://www.runnersworld.com/news/a31292368/fruit-vegetable-consumption-anxiety-study/',\n",
       " 'https://twistedsifter.com/2012/12/the-plants-that-fruits-come-from/',\n",
       " 'https://www.freepik.com/free-photo/vegetables-fruits-arrangement_13818371.htm',\n",
       " 'https://www.delish.com/cooking/recipe-ideas/a19609963/easy-fruit-salad-recipe/',\n",
       " 'https://foodinsight.org/fruits-in-all-forms/',\n",
       " 'https://www.myrecipes.com/how-to/cooking-questions/what-is-stone-fruit',\n",
       " 'https://www.twinkl.co.uk/resource/t-l-085-fruit-flashcards',\n",
       " 'https://www.freshproduceshoppe.com/',\n",
       " 'https://www.mountelizabeth.com.sg/healthplus/article/7-super-fruits-how-to-add-them-in-your-diet',\n",
       " 'https://www.keckmedicine.org/7-fruits-that-can-help-you-lose-or-maintain-your-weight/',\n",
       " 'https://chaldal.com/fruits-vegetables',\n",
       " 'https://www.independent.co.uk/life-style/food-and-drink/vegetables-fruits-where-grown-avocado-sweet-potato-courgette-iceberg-lettuce-a8765291.html',\n",
       " 'https://www.adityabirlacapital.com/healthinsurance/active-together/2020/12/11/5-seasonal-winter-fruits-that-will-boost-your-immunity/',\n",
       " 'https://www.nytimes.com/2021/08/09/well/brain-health-fruits-vegetables.html',\n",
       " 'https://www.savinodelbene.com/en/markets/fresh-fruit-vegetable/',\n",
       " 'https://www.gardentech.com/blog/gardening-and-healthy-living/8-easy-to-grow-fruits-and-veggies',\n",
       " 'https://www.thekohsamuiguide.com/thai-fruit/',\n",
       " 'https://www.dreamstime.com/photos-images/fruits.html',\n",
       " 'https://www.allaboutwomenmd.com/pregnancy-prenatal-care/fruits-during-pregnancy.html',\n",
       " 'https://www.troisfoisparjour.com/en/recipes/desserts/fruits/rainbow-coloured-fruit-salad/',\n",
       " 'https://www.cookinglight.com/healthy-living/healthy-habits/how-much-serving-fruits-vegetables',\n",
       " 'https://www.wcrf-uk.org/uk/recipes/alphabet-of-fruit',\n",
       " 'https://www.foundationeducation.edu.au/articles/2018/10/6-high-protein-fruits',\n",
       " 'https://www.quickanddirtytips.com/health-fitness/healthy-eating/are-some-fruits-more-fattening-than-others',\n",
       " 'https://www.shutterstock.com/search/fruits+names',\n",
       " 'http://www.fao.org/fruits-vegetables-2021/en/',\n",
       " 'https://www.webstaurantstore.com/blog/3624/tropical-fruits-list.html',\n",
       " 'https://www.everydayhealth.com/diet-nutrition-pictures/the-healthiest-power-fruits-next-door.aspx',\n",
       " 'https://www.sydneymarkets.com.au/blog/articles/2017/05/17/10-popular-fruits-and-vegetables-that-boost-your-mood/',\n",
       " 'https://www.justdial.com/Kasaragod/Ibrahim-Fruits-Vegetable/9999P4994-4994-181228203916-A8N7_BZDET',\n",
       " 'https://www.eatingwell.com/article/290369/the-best-and-worst-fruits-to-eat-if-you-have-diabetes/',\n",
       " 'https://www.medicalnewstoday.com/articles/311220',\n",
       " 'https://www.creativehealthyfamily.com/top-10-reasons-why-you-need-to-eat-fruit/',\n",
       " 'https://www.fluentu.com/blog/french/fruits-in-french/',\n",
       " 'https://www.womansworld.com/gallery/aging/fruits-for-anti-aging-170991',\n",
       " 'https://www.gettyimages.com/photos/fruit',\n",
       " 'https://www.elle.com/uk/life-and-culture/g32015526/fruits-vegetables-nutrition/',\n",
       " 'https://www.eater.com/2019/8/1/20750501/a-ranking-of-cute-fruits',\n",
       " 'https://www.accuweather.com/en/health-wellness/10-best-winter-fruits-you-should-eat-to-stay-healthy/686949',\n",
       " 'https://www.peacefulfruits.com/',\n",
       " 'https://www.exotic-fruit.com/',\n",
       " 'https://www.heart.org/en/healthy-living/healthy-eating/add-color/celebrate-fresh-fruit-and-vegetable-month',\n",
       " 'https://fruitsandveggies.org/',\n",
       " 'https://www.ahealthiermichigan.org/2011/03/22/using-color-as-a-guide-to-a-better-diet-9-health-benefits-of-red-fruits-and-vegetables/',\n",
       " 'https://www.canr.msu.edu/news/low_carb_fruits_15_grams_or_less_per_serving',\n",
       " 'https://www.tta.eu/sectors/soft-fruits',\n",
       " 'https://www.youtube.com/watch?v=lTCIQsgZxNY',\n",
       " 'https://www.canr.msu.edu/news/low_carb_fruits_15_grams_or_less_per_serving',\n",
       " 'https://www.tta.eu/sectors/soft-fruits',\n",
       " 'https://www.saveur.com/caribbean-produce-guide/',\n",
       " 'https://vietnam.travel/things-to-do/13-fantastic-fruits-vietnam',\n",
       " 'https://www.purewow.com/food/high-protein-fruits',\n",
       " 'https://www.sciencealert.com/here-s-why-a-tomato-is-actually-both-a-fruit-and-vegetable',\n",
       " 'https://www.thebetterindia.com/71472/unique-rare-indian-fruits/',\n",
       " 'https://topfruits.com.my/',\n",
       " 'https://www.akc.org/expert-advice/nutrition/fruits-vegetables-dogs-can-and-cant-eat/',\n",
       " 'https://www.cirad.fr/en/our-activities-our-impact/tropical-value-chains/fruit-and-vegetables/context-and-issues',\n",
       " 'https://www.thespruce.com/the-best-fruit-to-grow-4134299',\n",
       " 'https://www.burpee.com/fruit/',\n",
       " 'https://mgfruit.com/en/',\n",
       " 'https://blog.frontiersin.org/2021/07/20/tomato-fruits-send-electrical-warnings-to-the-rest-of-the-plant-when-attacked-by-insects/',\n",
       " 'https://www.amazon.in/Fruits-Vegetables-Educational-Pegasus-Team/dp/8131932907',\n",
       " 'https://www.wholefoodsmarket.com/tips-and-ideas/food-guides/fruit',\n",
       " 'https://www.berries.com/blog/what-fruits-are-in-season',\n",
       " 'https://sandinmysuitcase.com/fruit-in-mexico/',\n",
       " 'https://fruitguys.com/',\n",
       " 'https://www.allrecipes.com/article/what-is-stone-fruit/',\n",
       " 'https://strangefruits.net/',\n",
       " 'https://www.zameen.com/blog/popular-fruits-pakistan.html',\n",
       " 'https://www.123rf.com/stock-photo/fruit.html',\n",
       " 'https://unsplash.com/s/photos/fruit',\n",
       " 'https://www.onhealth.com/content/1/fruits_diet_sugar_nutrition',\n",
       " 'https://www.goodhousekeeping.com/health/diet-nutrition/g4455/summer-superfoods-list/',\n",
       " 'https://www.freepik.com/free-photos-vectors/fruit',\n",
       " 'https://theconversation.com/our-favourite-fruits-come-in-thousands-of-varieties-but-no-supermarket-will-ever-sell-them-26840',\n",
       " 'https://www.businessinsider.com/what-foods-you-shouldnt-store-next-to-each-other-2016-8',\n",
       " 'https://www.allaboutwomenmd.com/pregnancy-prenatal-care/fruits-during-pregnancy.html',\n",
       " 'https://www.bestasiatours.com/vietnamese-fruits-fruits-you-should-try-in-vietnam/',\n",
       " 'https://www.cdc.gov/healthyweight/healthy_eating/fruits_vegetables.html',\n",
       " 'https://vegnews.com/2020/4/6-citrus-fruits-that-could-help-turn-your-health-around',\n",
       " 'https://www.healthhub.sg/programmes/56/fruits-and-veggies',\n",
       " 'https://www.healthline.com/nutrition/best-weight-loss-fruits',\n",
       " 'https://www.creativehealthyfamily.com/top-10-reasons-why-you-need-to-eat-fruit/',\n",
       " 'https://www.healthywa.wa.gov.au/Healthy-living/Recipes/AZ-of-fruit',\n",
       " 'https://www.fruitsponent.com/en',\n",
       " 'https://californiaavocado.com/avocado101/avocado-fruit-or-vegetable/',\n",
       " 'https://fruits.karnataka.gov.in/',\n",
       " 'https://www.dietdoctor.com/low-carb/keto/fruits',\n",
       " 'https://www.yummymummykitchen.com/2021/03/exotic-fruits-to-try-asap.html',\n",
       " 'https://delishably.com/fruits/list-of-different-kinds-of-fruits',\n",
       " 'https://au.hotels.com/go/indonesia/best-bali-tropical-fruits',\n",
       " 'https://www.britannica.com/story/is-a-tomato-a-fruit-or-a-vegetable',\n",
       " 'https://www.myfooddata.com/articles/fruits-high-in-protein.php',\n",
       " 'https://www.microsoft.com/en-in/p/fruits-name-quiz/9nblggh6c4fs',\n",
       " 'https://depositphotos.com/stock-photos/set-of-fruits.html',\n",
       " 'https://www.gettyimages.com/photos/fruit',\n",
       " 'https://holidappy.com/holidays/List-of-Round-or-Circular-Fruits',\n",
       " 'https://www.eatthis.com/fruit-sugar/',\n",
       " 'https://www.fluentu.com/blog/german/fruits-in-german/',\n",
       " 'http://www.fao.org/fruits-vegetables-2021/en/',\n",
       " 'https://www.thespruceeats.com/summer-fruits-and-vegetables-2217706',\n",
       " 'https://doctor.ndtv.com/living-healthy/raw-fruits-6-healthiest-fruits-you-must-fill-up-on-this-summer-1840221',\n",
       " 'https://time.com/5029164/fruit-vegetable-diet/',\n",
       " 'https://www.cookingclassy.com/honey-lime-rainbow-fruit-salad/',\n",
       " 'https://www.medicalnewstoday.com/articles/best-fruits-for-weight-loss',\n",
       " 'https://www.webmd.com/food-recipes/video/video-powerhouse-fruits-and-veggies',\n",
       " 'https://www.thekohsamuiguide.com/thai-fruit/',\n",
       " 'https://www.ecowatch.com/spain-plastic-wrap-ban-2655092090.html',\n",
       " 'https://www.slideshare.net/x1andres/fruits-vegetables-86883223',\n",
       " 'https://www.gardeningchannel.com/list-of-fruits-from-a-to-z/',\n",
       " 'https://www.youtube.com/watch?v=AOPSPCDK39A',\n",
       " 'http://m.blog.naver.com/kokoolook7/220106338663',\n",
       " 'https://news.un.org/en/story/2020/12/1080492',\n",
       " 'https://www.eufic.org/en/explore-seasonal-fruit-and-vegetables-in-europe',\n",
       " 'https://guardian.ng/life/14-fruits-that-help-you-achieve-optimal-health/',\n",
       " 'https://www.nationalgeographic.com/culture/article/history-of-apples',\n",
       " 'https://www.wholefoodsmarket.com/tips-and-ideas/summer/summer-produce-guide',\n",
       " 'https://www.halfyourplate.ca/fruits-and-veggies/store-fruits-veggies/',\n",
       " 'https://www.bbcgoodfood.com/howto/guide/what-fruitarian-diet',\n",
       " 'https://en.wikipedia.org/wiki/Kiwifruit',\n",
       " 'https://www.intechopen.com/chapters/59450',\n",
       " 'https://youfrench.com/learn-fruits-and-vegetables-in-french/',\n",
       " 'https://anime-fighting-simulator.fandom.com/wiki/Fruits',\n",
       " 'https://blog.publix.com/publix/lets-get-tropical-tropical-fruits-at-publix/',\n",
       " 'https://www.eufic.org/en/healthy-living/article/is-a-tomato-a-fruit-or-a-vegetable-and-why',\n",
       " 'https://georgiagrown.com/find-georgia-grown/fruits-vegetables/',\n",
       " 'https://sandinmysuitcase.com/fruit-in-mexico/',\n",
       " 'https://www.coop.ch/en/food/fruit-vegetables/c/m_0001',\n",
       " 'https://www.insider.com/healthy-fruits-and-vegetables',\n",
       " 'https://www.rainforestcruises.com/guides/amazon-rainforest-fruits',\n",
       " 'https://www.yummytoddlerfood.com/fruits-for-kids/',\n",
       " 'https://greatist.com/health/healthy-snack-recipes-fruit',\n",
       " 'https://wall.alphacoders.com/by_collection.php?id=422',\n",
       " 'https://www.businessinsider.com/fruits-and-vegetables-difference-2018-6',\n",
       " 'https://unsplash.com/s/photos/fruit',\n",
       " 'https://www.fruitforall.com.au/fruits-and-vegies-that-help-boost-immunity/',\n",
       " 'https://southeastagnet.com/2017/08/22/summers-favorite-fruits-watermelon/',\n",
       " 'https://www.taste.com.au/quick-easy/articles/vine-fruits/qqby6jqp',\n",
       " 'https://vietnam.travel/things-to-do/13-fantastic-fruits-vietnam',\n",
       " 'https://www.ti-ora.com/our-blends/fruit-infusion-summer-fruits/',\n",
       " 'https://www.countryliving.com/food-drinks/g33668350/fall-fruits-vegetables/',\n",
       " 'https://theconversation.com/a-diet-consisting-mainly-of-fruit-is-bad-for-you-166437',\n",
       " 'https://timesofindia.indiatimes.com/life-style/health-fitness/diet/purple-coloured-fruits-and-vegetables-that-are-ideal-for-boosting-immunity-here-are-the-best-ones/photostory/77721387.cms',\n",
       " 'https://fruitshoot.com/gb/juicy-facts/',\n",
       " 'https://www.mountelizabeth.com.sg/healthplus/article/7-super-fruits-how-to-add-them-in-your-diet',\n",
       " 'https://asianinspirations.com.au/food-knowledge/10-most-expensive-asian-fruits/',\n",
       " 'https://www.jiomart.com/c/groceries/fruits-vegetables/219',\n",
       " 'https://www.europeandatajournalism.eu/eng/News/Data-news/Some-Europeans-don-t-eat-enough-fruit-and-vegetables',\n",
       " 'https://www.baconismagic.ca/philippines/filipino-fruits/',\n",
       " 'https://www.mentalfloss.com/article/643188/vegetables-that-are-actually-fruits',\n",
       " 'https://www.goodhousekeeping.com/health/diet-nutrition/g28511617/healthiest-fruits/',\n",
       " 'https://www.thekitchn.com/10-photos-that-show-you-your-daily-recommended-servings-of-fruits-vegetables-207261',\n",
       " 'https://www.allrecipes.com/recipe/214947/perfect-summer-fruit-salad/',\n",
       " 'https://www.youtube.com/watch?v=a6nKRTG-L4k',\n",
       " 'https://georgiagrown.com/find-georgia-grown/fruits-vegetables/',\n",
       " 'https://www.hotels.com/go/thailand/amazing-thai-fruits',\n",
       " 'https://www.healthline.com/health/food-nutrition/exotic-nutritious-fruits',\n",
       " 'http://www.enicbcmed.eu/presence-microplastics-fruit-and-vegetables-first-study-common-partners',\n",
       " 'https://agnetwest.com/fruit-and-vegetable-trade-increases-in-first-part-of-2021/',\n",
       " 'https://en.wikipedia.org/wiki/Breadfruit',\n",
       " 'https://www.thepalmsjamaica.com/enjoy-jamaicas-tastiest-fruits-visiting-sunset-palms/',\n",
       " 'https://www.katarocks.com/phuket-experiences/king-queen-fruits-phuket-durian-mangosteen/',\n",
       " 'http://www.fao.org/fruits-vegetables-2021/en/',\n",
       " 'https://www.loveandlemons.com/fruit-salad-recipe/',\n",
       " 'https://www.npr.org/sections/thesalt/2014/05/01/308708000/heres-the-scoop-on-jackfruit-a-ginormous-fruit-to-feed-the-world',\n",
       " 'https://www.countryliving.com/food-drinks/g33668350/fall-fruits-vegetables/',\n",
       " 'https://www.naturespath.com/en-ca/blog/5-mexican-fruits-youve-probably-never-heard/',\n",
       " 'https://www.treehugger.com/fruits-youve-probably-never-heard-of-4869359',\n",
       " 'https://www.hindustantimes.com/fitness/7-dry-fruits-you-should-include-in-your-diet-to-stay-healthy/story-bfwU4y1A6v7m33ZJQ2CplK.html',\n",
       " 'https://wall.alphacoders.com/by_collection.php?id=422',\n",
       " 'https://www.thebetterindia.com/71472/unique-rare-indian-fruits/',\n",
       " 'https://cafedelites.com/honey-lime-fruit-salad-recipe/',\n",
       " 'https://www.medicalnewstoday.com/articles/325550',\n",
       " 'https://www.britannica.com/plant/miracle-fruit',\n",
       " 'https://www.agrofresh.com/',\n",
       " 'https://www.freshfruitmart.ae/',\n",
       " 'https://strangefruits.net/',\n",
       " 'https://www.riverkwairesotel.net/kanchanaburi-blog/all-about-thai-fruits/',\n",
       " 'https://www.shutterstock.com/search/fruit',\n",
       " 'https://www.insider.com/healthy-fruits-and-vegetables',\n",
       " 'https://www.twinkl.com.kw/resource/t-m-1279-fruit-words-on-fruit-black-and-white',\n",
       " 'https://www.webstaurantstore.com/blog/1706/what-fruits-and-vegetables-are-in-season-in-your-region.html',\n",
       " 'https://sandinmysuitcase.com/fruit-in-hawaii/',\n",
       " 'https://www.webmd.com/diet/news/20210301/get-your-5-a-day-fruits-veggies-to-live-longer',\n",
       " 'https://www.epicurious.com/expert-advice/how-to-eat-star-fruit-article',\n",
       " 'https://www.onhealth.com/content/1/fruits_diet_sugar_nutrition',\n",
       " 'https://www.jamieoliver.com/features/9-british-fruits-cook/',\n",
       " 'https://californiaavocado.com/avocado101/avocado-fruit-or-vegetable/',\n",
       " 'https://www.healthline.com/nutrition/8-benefits-of-guavas',\n",
       " 'https://timesofindia.indiatimes.com/life-style/health-fitness/diet/the-best-and-worst-fruits-for-snacking/articleshow/8337807.cms',\n",
       " 'https://www.gettyimages.in/photos/citrus-fruit',\n",
       " 'https://www.freepik.com/vectors/fruit',\n",
       " 'https://www.iheartbrazil.com/brazilian-fruits/',\n",
       " 'https://market.todaypricerates.com/',\n",
       " 'https://www.berries.com/blog/types-of-fruit',\n",
       " 'https://www.eatthis.com/fruit-sugar/',\n",
       " 'https://twohealthykitchens.com/how-to-make-fruit-bouquets-and-fruit-kabobs/',\n",
       " 'https://www.realsimple.com/health/nutrition-diet/healthy-eating/banana-benefits',\n",
       " 'https://www.myfooddata.com/articles/high-sugar-fruits.php',\n",
       " 'https://veggiedesserts.com/fruit-platter/',\n",
       " 'https://www.halfyourplate.ca/fruits-and-veggies/store-fruits-veggies/',\n",
       " 'https://guardian.ng/life/14-fruits-that-help-you-achieve-optimal-health/',\n",
       " 'https://www.oecd.org/agriculture/fruit-vegetables/',\n",
       " 'https://www.eater.com/2019/8/1/20750501/a-ranking-of-cute-fruits',\n",
       " 'https://time.com/5301984/can-you-eat-too-much-fruit/',\n",
       " 'https://www.delmonte.com/products/fruits',\n",
       " 'https://www.finedininglovers.com/article/purple-fruits-and-vegetables',\n",
       " 'https://news.cgtn.com/news/2021-07-17/Reporter-s-Diary-in-Xinjiang-Fruits-for-days--11YmBCOdjEc/index.html',\n",
       " 'https://www.goodhousekeeping.com/health/diet-nutrition/g28511617/healthiest-fruits/',\n",
       " 'http://pngimagesfree.com/Fruit/mix-fruits-transparent-background-images.htm',\n",
       " 'https://chaldal.com/fruits-vegetables',\n",
       " 'https://unsplash.com/s/photos/fruit-salad',\n",
       " 'https://www.medicalnewstoday.com/articles/324383',\n",
       " 'https://www.youtube.com/watch?v=cthLdPrK4IU',\n",
       " 'https://www.webstaurantstore.com/blog/1706/what-fruits-and-vegetables-are-in-season-in-your-region.html',\n",
       " 'http://www.fao.org/fruits-vegetables-2021/en/',\n",
       " 'https://www.cityexpress.com/en/travel-blog/5-exotic-fruits-from-mexico-to-try-on-your-next-trip',\n",
       " 'https://timesofindia.indiatimes.com/life-style/health-fitness/diet/the-right-way-to-eat-fruits/articleshow/10915750.cms',\n",
       " 'https://www.healthline.com/health/food-safety-fruits-vegetables',\n",
       " 'https://www.cnn.com/2019/06/13/health/encephalitis-india-outbreak-deaths-lychee-intl/index.html',\n",
       " 'https://www.fruits-passion.com/',\n",
       " 'https://www.shutterstock.com/search/fruits?page=2',\n",
       " 'https://cincyshopper.com/creamy-fruit-salad/',\n",
       " 'https://www.facebook.com/strangefruitsmusic/',\n",
       " 'https://www.pngarts.com/explore/tag/mix-fruit',\n",
       " 'https://www.spar.lk/collections/fresh-fruit',\n",
       " 'https://www.thebetterindia.com/71472/unique-rare-indian-fruits/',\n",
       " 'https://dryfruithouse.com/',\n",
       " 'https://www.eatthis.com/fruit-sugar/',\n",
       " 'https://www.riverkwairesotel.net/kanchanaburi-blog/all-about-thai-fruits/',\n",
       " 'https://www.treehugger.com/fruits-youve-probably-never-heard-of-4869359',\n",
       " 'https://www.healthline.com/nutrition/best-weight-loss-fruits',\n",
       " 'https://www.seriouseats.com/what-are-pawpaws-wild-fruit-midwest-how-to-prep-and-eat-pawpaws',\n",
       " 'https://www.cookinglight.com/healthy-living/healthy-habits/how-much-serving-fruits-vegetables',\n",
       " 'https://www.youtube.com/watch?v=OB-P23lxgEE',\n",
       " 'https://interaksyon.philstar.com/breaking-news/2018/06/04/127991/peak-season-philippines-popular-fruits-chart/',\n",
       " 'https://unsplash.com/s/photos/fruit',\n",
       " 'https://www.hotels.com/go/thailand/amazing-thai-fruits',\n",
       " 'https://www.webmd.com/diet/ss/slideshow-fruits-with-most-protein',\n",
       " 'https://www.thebetterindia.com/71472/unique-rare-indian-fruits/',\n",
       " 'https://sandinmysuitcase.com/fruit-in-hawaii/',\n",
       " 'https://www.allrecipes.com/recipe/214947/perfect-summer-fruit-salad/',\n",
       " 'https://www.medicalnewstoday.com/articles/324431',\n",
       " 'https://www.maison-kayser.com/gb/individual-desserts/224-fruit-salad.html',\n",
       " 'https://www.halfyourplate.ca/fruits-and-veggies/fruits-a-z/',\n",
       " 'https://www.3thanwong.com/malaysian-fruits-local-fruits-malaysia/',\n",
       " 'https://www.berries.com/blog/types-of-fruit',\n",
       " 'http://www.fao.org/fao-stories/article/en/c/1364251/',\n",
       " 'https://www.gettyimages.com.au/photos/fruit',\n",
       " 'https://www.healthline.com/nutrition/blue-fruits',\n",
       " 'https://en.wikipedia.org/wiki/Orange_%28fruit%29',\n",
       " 'https://www.businessinsider.com/what-foods-looked-like-before-genetic-modification-2016-1',\n",
       " 'https://www.freepik.com/photos/fruit-banner',\n",
       " 'https://www.health.harvard.edu/staying-healthy/13-ways-to-add-fruits-and-vegetables-to-your-diet',\n",
       " 'https://www.countryliving.com/home-maintenance/cleaning/a27284947/how-to-get-rid-of-fruit-flies/',\n",
       " 'https://www.thebetterindia.com/71472/unique-rare-indian-fruits/',\n",
       " 'https://www.thepioneerwoman.com/food-cooking/cooking-tips-tutorials/a87616/stone-fruit-101/',\n",
       " 'https://www.purewow.com/food/high-protein-fruits',\n",
       " 'https://www.medicalnewstoday.com/articles/324431',\n",
       " 'https://www.everydayhealth.com/diet-nutrition/diet/dragon-fruit-how-eat-benefits-taste-more/',\n",
       " 'https://www.healthline.com/health/food-nutrition/exotic-nutritious-fruits',\n",
       " 'https://www.melissas.com/products/passion-fruit',\n",
       " 'https://en.wikipedia.org/wiki/Mango',\n",
       " 'https://www.businessinsider.com/fruits-and-vegetables-difference-2018-6',\n",
       " 'https://www.britannica.com/story/is-a-tomato-a-fruit-or-a-vegetable',\n",
       " 'https://www.eufic.org/en/healthy-living/article/is-a-pepper-a-fruit-or-a-vegetable-and-why',\n",
       " 'https://www.berries.com/blog/types-of-fruit',\n",
       " 'http://www.fao.org/documents/card/en/c/cb2395en/',\n",
       " 'https://www.purewow.com/food/high-protein-fruits',\n",
       " 'https://www.freepik.com/free-photo/fruit-bouqet-with-mixed-fruits-flowers_7302851.htm',\n",
       " 'https://bangaloremirror.indiatimes.com/opinion/you/mirrorlights-10-fruits-diabetics-must-eat/articleshow/86544360.cms',\n",
       " 'https://www.eatthis.com/fruit-sugar/',\n",
       " 'https://www.everydayhealth.com/diet-nutrition/diet/dragon-fruit-how-eat-benefits-taste-more/',\n",
       " 'https://www.healthline.com/health/fruit-combos-for-breakfast',\n",
       " 'https://www.berries.com/blog/types-of-fruit',\n",
       " 'https://food.ndtv.com/food-drinks/7-kiwi-fruit-benefits-from-a-powerhouse-of-antioxidants-to-inducing-sleep-1236599',\n",
       " 'http://www.fao.org/fruits-vegetables-2021/en/',\n",
       " 'https://sandinmysuitcase.com/fruit-in-mexico/',\n",
       " 'https://www.medicalnewstoday.com/articles/322757',\n",
       " 'https://timesofindia.indiatimes.com/life-style/food-news/fruits-for-diabetics-8-best-choices-for-you/photostory/86556266.cms',\n",
       " 'https://en.wikipedia.org/wiki/Cherimoya',\n",
       " 'https://www.healthline.com/health/food-nutrition/exotic-nutritious-fruits',\n",
       " 'https://timesofindia.indiatimes.com/life-style/health-fitness/diet/fruits-you-should-not-have-together/articleshow/58459356.cms',\n",
       " 'http://www.fao.org/fruits-vegetables-2021/en/',\n",
       " 'https://www.medicalnewstoday.com/articles/eating-dried-fruit-linked-to-better-overall-diet-and-health',\n",
       " 'https://www.healthline.com/nutrition/fruits-vs-vegetables',\n",
       " 'https://www.youtube.com/watch?v=ik3l4U_17bI',\n",
       " 'https://www.everydayhealth.com/diet-nutrition/diet/dragon-fruit-how-eat-benefits-taste-more/',\n",
       " 'https://en.wikipedia.org/wiki/Fruits_Basket',\n",
       " 'https://www.healthline.com/health/fruit-combos-for-breakfast',\n",
       " 'https://www.fruitsaladtrees.com/',\n",
       " 'https://www.medicalnewstoday.com/articles/324383',\n",
       " 'https://www.youtube.com/watch?v=1iu4RdCV2fg',\n",
       " 'https://www.healthline.com/nutrition/best-weight-loss-fruits',\n",
       " 'https://en.wikipedia.org/wiki/Wikipedia:Featured_pictures/Plants/Fruits',\n",
       " 'https://www.youtube.com/watch?v=VjINuQX4hbM',\n",
       " 'https://www.healthline.com/nutrition/citrus-fruit-benefits',\n",
       " 'https://www.youtube.com/watch?v=kcRzb1Be3wg',\n",
       " 'https://en.wikipedia.org/wiki/Wikipedia:Featured_pictures/Plants/Fruits',\n",
       " 'https://www.healthline.com/nutrition/durian-fruit',\n",
       " 'https://www.youtube.com/watch?v=epQShnbOo8U',\n",
       " 'https://www.healthline.com/nutrition/healthy-fruit',\n",
       " 'https://www.medicalnewstoday.com/articles/325550',\n",
       " 'https://www.healthline.com/health/food-nutrition/exotic-nutritious-fruits',\n",
       " 'https://www.healthline.com/health/food-nutrition/fruit-diet',\n",
       " 'https://www.healthline.com/nutrition/dragon-fruit-benefits',\n",
       " 'https://www.healthline.com/nutrition/fresh-vs-frozen-fruit-and-vegetables',\n",
       " 'http://obeki.com/notes.php?iid=117922362-fruit+fresh&cid=6',\n",
       " 'https://www.healthline.com/nutrition/fruits-vs-vegetables',\n",
       " 'http://www.kabileler.com/Home.aspx?iid=57425411&cid=42',\n",
       " 'https://www.healthline.com/health/fruit-combos-for-breakfast',\n",
       " 'https://www.healthline.com/nutrition/blue-fruits',\n",
       " 'https://www.healthline.com/health/fruit-combos-for-breakfast',\n",
       " 'https://www.healthline.com/nutrition/blue-fruits',\n",
       " 'https://www.healthline.com/health/food-nutrition/foods-that-boost-the-immune-system',\n",
       " 'https://www.healthline.com/nutrition/passion-fruit',\n",
       " 'https://www.healthline.com/nutrition/fresh-vs-frozen-fruit-and-vegetables',\n",
       " 'https://www.healthline.com/nutrition/durian-fruit',\n",
       " 'https://www.healthline.com/nutrition/vitamin-c-foods',\n",
       " 'https://www.healthline.com/nutrition/dried-fruit-good-or-bad',\n",
       " 'https://www.healthline.com/nutrition/how-much-fruit-per-day',\n",
       " 'https://www.healthline.com/nutrition/best-time-eat-fruit',\n",
       " 'https://www.healthline.com/health/food-nutrition/how-to-eat-passion-fruit',\n",
       " 'https://www.healthline.com/health/best-low-sugar-fruits',\n",
       " 'https://www.healthline.com/nutrition/citrus-fruit-benefits',\n",
       " 'https://www.healthline.com/nutrition/citrus-fruit-benefits',\n",
       " 'https://www.healthline.com/nutrition/star-fruit-101']"
      ]
     },
     "execution_count": 34,
     "metadata": {},
     "output_type": "execute_result"
    }
   ],
   "source": [
    "img_urls"
   ]
  },
  {
   "cell_type": "code",
   "execution_count": 35,
   "metadata": {},
   "outputs": [
    {
     "data": {
      "text/plain": [
       "581"
      ]
     },
     "execution_count": 35,
     "metadata": {},
     "output_type": "execute_result"
    }
   ],
   "source": [
    "len(img_urls)"
   ]
  },
  {
   "cell_type": "code",
   "execution_count": null,
   "metadata": {},
   "outputs": [
    {
     "name": "stdout",
     "output_type": "stream",
     "text": [
      "Downloading 0 of 100 images\n",
      "Downloading 1 of 100 images\n",
      "Downloading 2 of 100 images\n",
      "Downloading 3 of 100 images\n",
      "Downloading 4 of 100 images\n",
      "Downloading 5 of 100 images\n",
      "Downloading 6 of 100 images\n",
      "Downloading 7 of 100 images\n",
      "Downloading 8 of 100 images\n",
      "Downloading 9 of 100 images\n",
      "Downloading 10 of 100 images\n",
      "Downloading 11 of 100 images\n",
      "Downloading 12 of 100 images\n",
      "Downloading 13 of 100 images\n",
      "Downloading 14 of 100 images\n",
      "Downloading 15 of 100 images\n",
      "Downloading 16 of 100 images\n",
      "Downloading 17 of 100 images\n",
      "Downloading 18 of 100 images\n",
      "Downloading 19 of 100 images\n",
      "Downloading 20 of 100 images\n",
      "Downloading 21 of 100 images\n",
      "Downloading 22 of 100 images\n",
      "Downloading 23 of 100 images\n",
      "Downloading 24 of 100 images\n",
      "Downloading 25 of 100 images\n",
      "Downloading 26 of 100 images\n",
      "Downloading 27 of 100 images\n",
      "Downloading 28 of 100 images\n",
      "Downloading 29 of 100 images\n",
      "Downloading 30 of 100 images\n",
      "Downloading 31 of 100 images\n",
      "Downloading 32 of 100 images\n",
      "Downloading 33 of 100 images\n",
      "Downloading 34 of 100 images\n",
      "Downloading 35 of 100 images\n",
      "Downloading 36 of 100 images\n",
      "Downloading 37 of 100 images\n",
      "Downloading 38 of 100 images\n",
      "Downloading 39 of 100 images\n",
      "Downloading 40 of 100 images\n",
      "Downloading 41 of 100 images\n",
      "Downloading 42 of 100 images\n",
      "Downloading 43 of 100 images\n",
      "Downloading 44 of 100 images\n",
      "Downloading 45 of 100 images\n",
      "Downloading 46 of 100 images\n",
      "Downloading 47 of 100 images\n",
      "Downloading 48 of 100 images\n",
      "Downloading 49 of 100 images\n",
      "Downloading 50 of 100 images\n",
      "Downloading 51 of 100 images\n",
      "Downloading 52 of 100 images\n",
      "Downloading 53 of 100 images\n",
      "Downloading 54 of 100 images\n",
      "Downloading 55 of 100 images\n",
      "Downloading 56 of 100 images\n",
      "Downloading 57 of 100 images\n",
      "Downloading 58 of 100 images\n",
      "Downloading 59 of 100 images\n",
      "Downloading 60 of 100 images\n",
      "Downloading 61 of 100 images\n",
      "Downloading 62 of 100 images\n",
      "Downloading 63 of 100 images\n",
      "Downloading 64 of 100 images\n",
      "Downloading 65 of 100 images\n",
      "Downloading 66 of 100 images\n",
      "Downloading 67 of 100 images\n",
      "Downloading 68 of 100 images\n"
     ]
    }
   ],
   "source": [
    "for i in range(len(img_urls)):\n",
    "\n",
    "    if i >= 100:\n",
    "\n",
    "        break\n",
    "\n",
    "    print(\"Downloading {0} of {1} images\" .format(i, 100))\n",
    "\n",
    "    response= requests.get(img_urls[i])\n",
    "\n",
    "    file = open(r\"G:\\datatrained\\Fliprobo_intern\\fliprobo images\\fruits\"+str(i)+\".jpg\", \"wb\")\n",
    "\n",
    "    file.write(response.content)"
   ]
  },
  {
   "cell_type": "code",
   "execution_count": 3,
   "metadata": {},
   "outputs": [],
   "source": [
    "url = 'https://www.google.com/imghp?hl=en'\n",
    "driver.get(url)"
   ]
  },
  {
   "cell_type": "code",
   "execution_count": 4,
   "metadata": {},
   "outputs": [],
   "source": [
    "btn = driver.find_element_by_xpath(\"//input[@class='gLFyf gsfi']\")"
   ]
  },
  {
   "cell_type": "code",
   "execution_count": 5,
   "metadata": {},
   "outputs": [],
   "source": [
    "btn.send_keys(\"cars\")"
   ]
  },
  {
   "cell_type": "code",
   "execution_count": 6,
   "metadata": {},
   "outputs": [],
   "source": [
    "btnc = driver.find_element_by_xpath(\"//span[@class='z1asCe MZy1Rb']\")"
   ]
  },
  {
   "cell_type": "code",
   "execution_count": 7,
   "metadata": {},
   "outputs": [],
   "source": [
    "btnc.click()"
   ]
  },
  {
   "cell_type": "code",
   "execution_count": 8,
   "metadata": {},
   "outputs": [],
   "source": [
    "img_urls=[]\n",
    "for i in driver.find_elements_by_xpath('//a[@class=\"VFACy kGQAp sMi44c lNHeqe WGvvNb\"]'):\n",
    "    img_urls.append(i.get_attribute('href'))"
   ]
  },
  {
   "cell_type": "code",
   "execution_count": 9,
   "metadata": {},
   "outputs": [
    {
     "data": {
      "text/plain": [
       "100"
      ]
     },
     "execution_count": 9,
     "metadata": {},
     "output_type": "execute_result"
    }
   ],
   "source": [
    "len(img_urls)"
   ]
  },
  {
   "cell_type": "code",
   "execution_count": 10,
   "metadata": {},
   "outputs": [
    {
     "data": {
      "text/plain": [
       "['https://www.forbes.com/sites/jimgorzelany/2019/07/23/here-are-the-coolest-new-cars-for-2020/',\n",
       " 'https://www.popularmechanics.com/cars/a34824254/most-exciting-new-cars-2021/',\n",
       " 'https://www.motor1.com/car-lists/most-expensive-new-cars-ever/',\n",
       " 'https://www.shivamautozone.com/buy-maruti-suzuki-all-cars-onroad-prices-specifications-features-mumbai-palghar-thane',\n",
       " 'https://cars.usnews.com/cars-trucks/most-expensive-cars',\n",
       " 'https://www.autocar.co.uk/car-news/best-cars/top-10-best-luxury-cars',\n",
       " 'https://m.youtube.com/watch?v=jVbUtiZUvmU',\n",
       " 'https://www.motor1.com/car-lists/coolest-cars/',\n",
       " 'https://en.wikipedia.org/wiki/Cars_%28film%29',\n",
       " 'https://www.ft.com/content/8089bb56-30fe-11ea-9703-eea0cae3f0de',\n",
       " 'https://www.extremetech.com/extreme/303740-car-of-the-year-extremetechs-best-cars-for-2020',\n",
       " 'https://luxe.digital/lifestyle/cars/fastest-cars/',\n",
       " 'https://www.elitetraveler.com/luxury-transport/automotive/the-best-luxury-cars-of-2019',\n",
       " 'https://www.focus2move.com/world-brand-cars-rating/',\n",
       " 'https://www.gearpatrol.com/cars/g33835883/the-best-cars-to-buy-in-2020/',\n",
       " 'https://www.cardekho.com/cars/Maruti',\n",
       " 'https://www.wired.com/story/jd-power-korean-cars-beat-us-europe-quality/',\n",
       " 'https://unsplash.com/s/photos/cars',\n",
       " 'https://www.motortrend.com/features/the-15-most-important-cars-of-the-decade/',\n",
       " 'https://www.roadandtrack.com/car-culture/buying-maintenance/g6830/best-luxury-cars-brands/',\n",
       " 'https://www.imdb.com/title/tt0317219/',\n",
       " 'https://www.carwale.com/mercedes-benz-cars/',\n",
       " 'https://www.popularmechanics.com/cars/g93/the-100-hottest-cars-of-all-time/',\n",
       " 'https://www.youtube.com/watch?v=7PXLPzcIydw',\n",
       " 'https://www.wired.com/tag/cars/',\n",
       " 'https://www.nationalgeographic.com/environment/article/environmental-impact',\n",
       " 'https://www.jaguar.in/index.html',\n",
       " 'https://www.audi.com/en/experience-audi/models-and-technology/concept-cars.html',\n",
       " 'https://www.majorette.com/en/brands-products/street-cars-premium-cars/street-cars/street-cars-212053051/',\n",
       " 'https://www.amazon.com/Cars-Owen-Wilson/dp/B0049IWQJW',\n",
       " 'https://www.theguardian.com/environment/2020/oct/21/electric-cars-as-cheap-to-manufacture-as-regular-models-by-2024',\n",
       " 'https://www.motor1.com/features/224319/2020-future-cars-list/',\n",
       " 'https://cars.usnews.com/cars-trucks/rankings/luxury-sports-cars',\n",
       " 'https://cars.tatamotors.com/',\n",
       " 'https://www.zigwheels.com/newcars',\n",
       " 'https://pv-magazine-usa.com/2020/05/19/the-future-of-cars-is-electric-but-how-soon-is-this-future/',\n",
       " 'https://economictimes.indiatimes.com/wealth/spend/best-cars-for-different-budgets-to-buy-in-2021/articleshow/80420650.cms',\n",
       " 'https://www.cardekho.com/cars/Tata',\n",
       " 'https://www.businessinsider.com/the-most-beautiful-cars-on-sale-today-2015-3',\n",
       " 'https://www.rottentomatoes.com/m/cars',\n",
       " 'https://cars.disney.com/cars',\n",
       " 'https://www.financialexpress.com/auto/gallery/most-expensive-cars-in-the-world-ferrari-sergio-pininfarina-bugatti-rolls-royce-sweptail/photos/1930330/',\n",
       " 'https://www.cartrade.com/new-cars',\n",
       " 'https://www.hyundai.com/in/en',\n",
       " 'https://www.cnbc.com/2021/02/25/apple-car-whats-been-reported-so-far.html',\n",
       " 'https://theconversation.com/cars-will-change-more-in-the-next-decade-than-they-have-in-the-past-century-113585',\n",
       " 'https://www.indiatvnews.com/auto/top-10-cars-of-last-decade-574557',\n",
       " 'https://www.ford.com/new-cars/',\n",
       " 'https://www.mercedes-benz.co.in/',\n",
       " 'https://www.amazon.in/Cars-Disney-Pixar-Lightning-McQueen/dp/B01KNMFPCM',\n",
       " 'https://www.indiatoday.in/business/story/luxury-cars-sales-boom-india-covid-pandemic-blues-1817060-2021-06-20',\n",
       " 'https://www.roadandtrack.com/car-culture/buying-maintenance/g6830/best-luxury-cars-brands/',\n",
       " 'https://www.usatoday.com/story/money/2019/05/01/americas-most-eco-friendly-vehicles/39395389/',\n",
       " 'https://www.autocar.co.uk/car-news/best-cars/top-fastest-accelerating-cars-world',\n",
       " 'https://auto.hindustantimes.com/auto/cars/yearender-2020-special-10-cars-indians-loved-to-buy-this-year-41608552514426.html',\n",
       " 'https://www.alzashop.com/toys/cars-3-mini-cars-d5646288.htm',\n",
       " 'https://www.bbc.com/news/business/global_car_industry',\n",
       " 'https://luxe.digital/lifestyle/cars/most-expensive-cars/',\n",
       " 'https://www.mansory.com/cars-for-sale',\n",
       " 'https://www.caranddriver.com/features/g15383134/most-beautiful-cars/',\n",
       " 'https://cars.tatamotors.com/',\n",
       " 'https://www.bigboytoyz.com/coupe',\n",
       " 'https://www.press.rolls-roycemotorcars.com/rolls-royce-motor-cars-pressclub/article/detail/T0330111EN/collective-of-three-motor-cars-celebrate-the-breadth-of-contemporary-bespoke-craftsmanship-at-auto-china-shanghai?language=en',\n",
       " 'https://www.carsguide.com.au/car-advice/what-is-the-most-expensive-car-in-the-world-79929',\n",
       " 'https://www.bcg.com/publications/2020/impact-of-coronavirus-on-purchasing-new-cars-online',\n",
       " 'https://www.carwale.com/',\n",
       " 'https://www.popularmechanics.com/cars/g93/the-100-hottest-cars-of-all-time/',\n",
       " 'https://www.shutterstock.com/search/car',\n",
       " 'https://www.crazygames.com/t/car',\n",
       " 'https://kingsauto.in/',\n",
       " 'https://www.gq-magazine.co.uk/lifestyle/article/12-cars-for-2021',\n",
       " 'https://www.bbc.com/news/business-57253947',\n",
       " 'https://www.hondacarindia.com/',\n",
       " 'https://www.forbes.com/wheels/features/10-new-cars-to-look-for-2021/',\n",
       " 'https://www.hotstar.com/in/movies/cars-3/1260018162/watch',\n",
       " 'https://www.daimler.com/products/passenger-cars/',\n",
       " 'https://www.business-standard.com/article/automobile/financiers-buy-into-india-s-used-car-business-amid-uptick-in-demand-121041301382_1.html',\n",
       " 'https://www.topgear.com/car-news/electric/top-gears-top-20-electric-cars',\n",
       " 'https://www.europosters.eu/posters/cars-3-mcqueen-race-v41048',\n",
       " 'https://cars.usnews.com/cars-trucks/the-best-cars-buy-now',\n",
       " 'https://en.wikipedia.org/wiki/Model_car',\n",
       " 'https://www.kbb.com/car-news/new-redesigned-cars-trucks-suvs-2021/',\n",
       " 'https://www.youtube.com/watch?v=L9ZYdShgtPE',\n",
       " 'https://cars.mclaren.com/us-en',\n",
       " 'https://www.rolls-roycemotorcars.com/',\n",
       " 'https://movies.disney.com/cars-3',\n",
       " 'https://www.cnet.com/roadshow/best/automobiles/',\n",
       " 'https://www.cardekho.com/cars/Maserati',\n",
       " 'https://www.zigwheels.com/launches',\n",
       " 'https://www.autocar.co.uk/car-news/best-cars/top-10-best-sports-cars',\n",
       " 'https://www.nbcnews.com/mach/science/will-futuristic-flying-car-ever-get-ground-ncna859171',\n",
       " 'https://www.bentleymotors.com/en.html',\n",
       " 'https://autos.maxabout.com/cars/',\n",
       " 'https://www.aitrends.com/ai-insider/top-end-sports-cars-as-ai-autonomous-vehicles/',\n",
       " 'https://www.si.edu/spotlight/early-cars',\n",
       " 'https://www.renault.co.in/',\n",
       " 'https://phys.org/news/2018-12-cars-data-collection-highway.html',\n",
       " 'https://www.focus2move.com/world-best-selling-car/',\n",
       " 'https://www.americanprogress.org/issues/economy/reports/2020/05/28/481148/flying-cars-will-undermine-democracy-environment/',\n",
       " 'https://store.playstation.com/en-in/product/EP1018-CUSA07027_00-DISNEYPIXARCARS3']"
      ]
     },
     "execution_count": 10,
     "metadata": {},
     "output_type": "execute_result"
    }
   ],
   "source": [
    "img_urls"
   ]
  },
  {
   "cell_type": "code",
   "execution_count": null,
   "metadata": {},
   "outputs": [
    {
     "name": "stdout",
     "output_type": "stream",
     "text": [
      "Downloading 0 of 100 images\n",
      "Downloading 1 of 100 images\n",
      "Downloading 2 of 100 images\n",
      "Downloading 3 of 100 images\n",
      "Downloading 4 of 100 images\n"
     ]
    }
   ],
   "source": [
    "for i in range(len(img_urls)):\n",
    "\n",
    "    if i >= 100:\n",
    "\n",
    "        break\n",
    "\n",
    "    print(\"Downloading {0} of {1} images\" .format(i, 100))\n",
    "\n",
    "    response= requests.get(img_urls[i])\n",
    "\n",
    "    file = open(r\"G:\\datatrained\\Fliprobo_intern\\fliprobo images\\cars\"+str(i)+\".jpg\", \"wb\")\n",
    "\n",
    "    file.write(response.content)"
   ]
  },
  {
   "cell_type": "code",
   "execution_count": 6,
   "metadata": {},
   "outputs": [],
   "source": [
    "btn.send_keys(\"Machine Learning\")"
   ]
  },
  {
   "cell_type": "code",
   "execution_count": 7,
   "metadata": {},
   "outputs": [],
   "source": [
    "btnc = driver.find_element_by_xpath(\"//span[@class='z1asCe MZy1Rb']\")"
   ]
  },
  {
   "cell_type": "code",
   "execution_count": 8,
   "metadata": {},
   "outputs": [],
   "source": [
    "btnc.click()"
   ]
  },
  {
   "cell_type": "code",
   "execution_count": 9,
   "metadata": {},
   "outputs": [
    {
     "name": "stderr",
     "output_type": "stream",
     "text": [
      "C:\\Users\\lenovo\\anaconda3\\lib\\site-packages\\selenium\\webdriver\\remote\\webdriver.py:502: UserWarning: find_elements_by_* commands are deprecated. Please use find_elements() instead\n",
      "  warnings.warn(\"find_elements_by_* commands are deprecated. Please use find_elements() instead\")\n"
     ]
    }
   ],
   "source": [
    "img_urls=[]\n",
    "for i in driver.find_elements_by_xpath('//a[@class=\"VFACy kGQAp sMi44c lNHeqe WGvvNb\"]'):\n",
    "    img_urls.append(i.get_attribute('href'))"
   ]
  },
  {
   "cell_type": "code",
   "execution_count": 10,
   "metadata": {},
   "outputs": [
    {
     "data": {
      "text/plain": [
       "100"
      ]
     },
     "execution_count": 10,
     "metadata": {},
     "output_type": "execute_result"
    }
   ],
   "source": [
    "len(img_urls)"
   ]
  },
  {
   "cell_type": "code",
   "execution_count": 12,
   "metadata": {},
   "outputs": [
    {
     "name": "stdout",
     "output_type": "stream",
     "text": [
      "Downloading 0 of 100 images\n",
      "Downloading 1 of 100 images\n",
      "Downloading 2 of 100 images\n",
      "Downloading 3 of 100 images\n",
      "Downloading 4 of 100 images\n",
      "Downloading 5 of 100 images\n"
     ]
    },
    {
     "ename": "SSLError",
     "evalue": "HTTPSConnectionPool(host='www.informatec.com', port=443): Max retries exceeded with url: /en/machine-learning (Caused by SSLError(SSLCertVerificationError(1, '[SSL: CERTIFICATE_VERIFY_FAILED] certificate verify failed: unable to get local issuer certificate (_ssl.c:1123)')))",
     "output_type": "error",
     "traceback": [
      "\u001b[1;31m---------------------------------------------------------------------------\u001b[0m",
      "\u001b[1;31mSSLCertVerificationError\u001b[0m                  Traceback (most recent call last)",
      "\u001b[1;32m~\\anaconda3\\lib\\site-packages\\urllib3\\connectionpool.py\u001b[0m in \u001b[0;36murlopen\u001b[1;34m(self, method, url, body, headers, retries, redirect, assert_same_host, timeout, pool_timeout, release_conn, chunked, body_pos, **response_kw)\u001b[0m\n\u001b[0;32m    698\u001b[0m             \u001b[1;31m# Make the request on the httplib connection object.\u001b[0m\u001b[1;33m\u001b[0m\u001b[1;33m\u001b[0m\u001b[1;33m\u001b[0m\u001b[0m\n\u001b[1;32m--> 699\u001b[1;33m             httplib_response = self._make_request(\n\u001b[0m\u001b[0;32m    700\u001b[0m                 \u001b[0mconn\u001b[0m\u001b[1;33m,\u001b[0m\u001b[1;33m\u001b[0m\u001b[1;33m\u001b[0m\u001b[0m\n",
      "\u001b[1;32m~\\anaconda3\\lib\\site-packages\\urllib3\\connectionpool.py\u001b[0m in \u001b[0;36m_make_request\u001b[1;34m(self, conn, method, url, timeout, chunked, **httplib_request_kw)\u001b[0m\n\u001b[0;32m    381\u001b[0m         \u001b[1;32mtry\u001b[0m\u001b[1;33m:\u001b[0m\u001b[1;33m\u001b[0m\u001b[1;33m\u001b[0m\u001b[0m\n\u001b[1;32m--> 382\u001b[1;33m             \u001b[0mself\u001b[0m\u001b[1;33m.\u001b[0m\u001b[0m_validate_conn\u001b[0m\u001b[1;33m(\u001b[0m\u001b[0mconn\u001b[0m\u001b[1;33m)\u001b[0m\u001b[1;33m\u001b[0m\u001b[1;33m\u001b[0m\u001b[0m\n\u001b[0m\u001b[0;32m    383\u001b[0m         \u001b[1;32mexcept\u001b[0m \u001b[1;33m(\u001b[0m\u001b[0mSocketTimeout\u001b[0m\u001b[1;33m,\u001b[0m \u001b[0mBaseSSLError\u001b[0m\u001b[1;33m)\u001b[0m \u001b[1;32mas\u001b[0m \u001b[0me\u001b[0m\u001b[1;33m:\u001b[0m\u001b[1;33m\u001b[0m\u001b[1;33m\u001b[0m\u001b[0m\n",
      "\u001b[1;32m~\\anaconda3\\lib\\site-packages\\urllib3\\connectionpool.py\u001b[0m in \u001b[0;36m_validate_conn\u001b[1;34m(self, conn)\u001b[0m\n\u001b[0;32m   1009\u001b[0m         \u001b[1;32mif\u001b[0m \u001b[1;32mnot\u001b[0m \u001b[0mgetattr\u001b[0m\u001b[1;33m(\u001b[0m\u001b[0mconn\u001b[0m\u001b[1;33m,\u001b[0m \u001b[1;34m\"sock\"\u001b[0m\u001b[1;33m,\u001b[0m \u001b[1;32mNone\u001b[0m\u001b[1;33m)\u001b[0m\u001b[1;33m:\u001b[0m  \u001b[1;31m# AppEngine might not have  `.sock`\u001b[0m\u001b[1;33m\u001b[0m\u001b[1;33m\u001b[0m\u001b[0m\n\u001b[1;32m-> 1010\u001b[1;33m             \u001b[0mconn\u001b[0m\u001b[1;33m.\u001b[0m\u001b[0mconnect\u001b[0m\u001b[1;33m(\u001b[0m\u001b[1;33m)\u001b[0m\u001b[1;33m\u001b[0m\u001b[1;33m\u001b[0m\u001b[0m\n\u001b[0m\u001b[0;32m   1011\u001b[0m \u001b[1;33m\u001b[0m\u001b[0m\n",
      "\u001b[1;32m~\\anaconda3\\lib\\site-packages\\urllib3\\connection.py\u001b[0m in \u001b[0;36mconnect\u001b[1;34m(self)\u001b[0m\n\u001b[0;32m    415\u001b[0m \u001b[1;33m\u001b[0m\u001b[0m\n\u001b[1;32m--> 416\u001b[1;33m         self.sock = ssl_wrap_socket(\n\u001b[0m\u001b[0;32m    417\u001b[0m             \u001b[0msock\u001b[0m\u001b[1;33m=\u001b[0m\u001b[0mconn\u001b[0m\u001b[1;33m,\u001b[0m\u001b[1;33m\u001b[0m\u001b[1;33m\u001b[0m\u001b[0m\n",
      "\u001b[1;32m~\\anaconda3\\lib\\site-packages\\urllib3\\util\\ssl_.py\u001b[0m in \u001b[0;36mssl_wrap_socket\u001b[1;34m(sock, keyfile, certfile, cert_reqs, ca_certs, server_hostname, ssl_version, ciphers, ssl_context, ca_cert_dir, key_password, ca_cert_data, tls_in_tls)\u001b[0m\n\u001b[0;32m    448\u001b[0m     \u001b[1;32mif\u001b[0m \u001b[0msend_sni\u001b[0m\u001b[1;33m:\u001b[0m\u001b[1;33m\u001b[0m\u001b[1;33m\u001b[0m\u001b[0m\n\u001b[1;32m--> 449\u001b[1;33m         ssl_sock = _ssl_wrap_socket_impl(\n\u001b[0m\u001b[0;32m    450\u001b[0m             \u001b[0msock\u001b[0m\u001b[1;33m,\u001b[0m \u001b[0mcontext\u001b[0m\u001b[1;33m,\u001b[0m \u001b[0mtls_in_tls\u001b[0m\u001b[1;33m,\u001b[0m \u001b[0mserver_hostname\u001b[0m\u001b[1;33m=\u001b[0m\u001b[0mserver_hostname\u001b[0m\u001b[1;33m\u001b[0m\u001b[1;33m\u001b[0m\u001b[0m\n",
      "\u001b[1;32m~\\anaconda3\\lib\\site-packages\\urllib3\\util\\ssl_.py\u001b[0m in \u001b[0;36m_ssl_wrap_socket_impl\u001b[1;34m(sock, ssl_context, tls_in_tls, server_hostname)\u001b[0m\n\u001b[0;32m    492\u001b[0m     \u001b[1;32mif\u001b[0m \u001b[0mserver_hostname\u001b[0m\u001b[1;33m:\u001b[0m\u001b[1;33m\u001b[0m\u001b[1;33m\u001b[0m\u001b[0m\n\u001b[1;32m--> 493\u001b[1;33m         \u001b[1;32mreturn\u001b[0m \u001b[0mssl_context\u001b[0m\u001b[1;33m.\u001b[0m\u001b[0mwrap_socket\u001b[0m\u001b[1;33m(\u001b[0m\u001b[0msock\u001b[0m\u001b[1;33m,\u001b[0m \u001b[0mserver_hostname\u001b[0m\u001b[1;33m=\u001b[0m\u001b[0mserver_hostname\u001b[0m\u001b[1;33m)\u001b[0m\u001b[1;33m\u001b[0m\u001b[1;33m\u001b[0m\u001b[0m\n\u001b[0m\u001b[0;32m    494\u001b[0m     \u001b[1;32melse\u001b[0m\u001b[1;33m:\u001b[0m\u001b[1;33m\u001b[0m\u001b[1;33m\u001b[0m\u001b[0m\n",
      "\u001b[1;32m~\\anaconda3\\lib\\ssl.py\u001b[0m in \u001b[0;36mwrap_socket\u001b[1;34m(self, sock, server_side, do_handshake_on_connect, suppress_ragged_eofs, server_hostname, session)\u001b[0m\n\u001b[0;32m    499\u001b[0m         \u001b[1;31m# ctx._wrap_socket()\u001b[0m\u001b[1;33m\u001b[0m\u001b[1;33m\u001b[0m\u001b[1;33m\u001b[0m\u001b[0m\n\u001b[1;32m--> 500\u001b[1;33m         return self.sslsocket_class._create(\n\u001b[0m\u001b[0;32m    501\u001b[0m             \u001b[0msock\u001b[0m\u001b[1;33m=\u001b[0m\u001b[0msock\u001b[0m\u001b[1;33m,\u001b[0m\u001b[1;33m\u001b[0m\u001b[1;33m\u001b[0m\u001b[0m\n",
      "\u001b[1;32m~\\anaconda3\\lib\\ssl.py\u001b[0m in \u001b[0;36m_create\u001b[1;34m(cls, sock, server_side, do_handshake_on_connect, suppress_ragged_eofs, server_hostname, context, session)\u001b[0m\n\u001b[0;32m   1039\u001b[0m                         \u001b[1;32mraise\u001b[0m \u001b[0mValueError\u001b[0m\u001b[1;33m(\u001b[0m\u001b[1;34m\"do_handshake_on_connect should not be specified for non-blocking sockets\"\u001b[0m\u001b[1;33m)\u001b[0m\u001b[1;33m\u001b[0m\u001b[1;33m\u001b[0m\u001b[0m\n\u001b[1;32m-> 1040\u001b[1;33m                     \u001b[0mself\u001b[0m\u001b[1;33m.\u001b[0m\u001b[0mdo_handshake\u001b[0m\u001b[1;33m(\u001b[0m\u001b[1;33m)\u001b[0m\u001b[1;33m\u001b[0m\u001b[1;33m\u001b[0m\u001b[0m\n\u001b[0m\u001b[0;32m   1041\u001b[0m             \u001b[1;32mexcept\u001b[0m \u001b[1;33m(\u001b[0m\u001b[0mOSError\u001b[0m\u001b[1;33m,\u001b[0m \u001b[0mValueError\u001b[0m\u001b[1;33m)\u001b[0m\u001b[1;33m:\u001b[0m\u001b[1;33m\u001b[0m\u001b[1;33m\u001b[0m\u001b[0m\n",
      "\u001b[1;32m~\\anaconda3\\lib\\ssl.py\u001b[0m in \u001b[0;36mdo_handshake\u001b[1;34m(self, block)\u001b[0m\n\u001b[0;32m   1308\u001b[0m                 \u001b[0mself\u001b[0m\u001b[1;33m.\u001b[0m\u001b[0msettimeout\u001b[0m\u001b[1;33m(\u001b[0m\u001b[1;32mNone\u001b[0m\u001b[1;33m)\u001b[0m\u001b[1;33m\u001b[0m\u001b[1;33m\u001b[0m\u001b[0m\n\u001b[1;32m-> 1309\u001b[1;33m             \u001b[0mself\u001b[0m\u001b[1;33m.\u001b[0m\u001b[0m_sslobj\u001b[0m\u001b[1;33m.\u001b[0m\u001b[0mdo_handshake\u001b[0m\u001b[1;33m(\u001b[0m\u001b[1;33m)\u001b[0m\u001b[1;33m\u001b[0m\u001b[1;33m\u001b[0m\u001b[0m\n\u001b[0m\u001b[0;32m   1310\u001b[0m         \u001b[1;32mfinally\u001b[0m\u001b[1;33m:\u001b[0m\u001b[1;33m\u001b[0m\u001b[1;33m\u001b[0m\u001b[0m\n",
      "\u001b[1;31mSSLCertVerificationError\u001b[0m: [SSL: CERTIFICATE_VERIFY_FAILED] certificate verify failed: unable to get local issuer certificate (_ssl.c:1123)",
      "\nDuring handling of the above exception, another exception occurred:\n",
      "\u001b[1;31mMaxRetryError\u001b[0m                             Traceback (most recent call last)",
      "\u001b[1;32m~\\anaconda3\\lib\\site-packages\\requests\\adapters.py\u001b[0m in \u001b[0;36msend\u001b[1;34m(self, request, stream, timeout, verify, cert, proxies)\u001b[0m\n\u001b[0;32m    438\u001b[0m             \u001b[1;32mif\u001b[0m \u001b[1;32mnot\u001b[0m \u001b[0mchunked\u001b[0m\u001b[1;33m:\u001b[0m\u001b[1;33m\u001b[0m\u001b[1;33m\u001b[0m\u001b[0m\n\u001b[1;32m--> 439\u001b[1;33m                 resp = conn.urlopen(\n\u001b[0m\u001b[0;32m    440\u001b[0m                     \u001b[0mmethod\u001b[0m\u001b[1;33m=\u001b[0m\u001b[0mrequest\u001b[0m\u001b[1;33m.\u001b[0m\u001b[0mmethod\u001b[0m\u001b[1;33m,\u001b[0m\u001b[1;33m\u001b[0m\u001b[1;33m\u001b[0m\u001b[0m\n",
      "\u001b[1;32m~\\anaconda3\\lib\\site-packages\\urllib3\\connectionpool.py\u001b[0m in \u001b[0;36murlopen\u001b[1;34m(self, method, url, body, headers, retries, redirect, assert_same_host, timeout, pool_timeout, release_conn, chunked, body_pos, **response_kw)\u001b[0m\n\u001b[0;32m    754\u001b[0m \u001b[1;33m\u001b[0m\u001b[0m\n\u001b[1;32m--> 755\u001b[1;33m             retries = retries.increment(\n\u001b[0m\u001b[0;32m    756\u001b[0m                 \u001b[0mmethod\u001b[0m\u001b[1;33m,\u001b[0m \u001b[0murl\u001b[0m\u001b[1;33m,\u001b[0m \u001b[0merror\u001b[0m\u001b[1;33m=\u001b[0m\u001b[0me\u001b[0m\u001b[1;33m,\u001b[0m \u001b[0m_pool\u001b[0m\u001b[1;33m=\u001b[0m\u001b[0mself\u001b[0m\u001b[1;33m,\u001b[0m \u001b[0m_stacktrace\u001b[0m\u001b[1;33m=\u001b[0m\u001b[0msys\u001b[0m\u001b[1;33m.\u001b[0m\u001b[0mexc_info\u001b[0m\u001b[1;33m(\u001b[0m\u001b[1;33m)\u001b[0m\u001b[1;33m[\u001b[0m\u001b[1;36m2\u001b[0m\u001b[1;33m]\u001b[0m\u001b[1;33m\u001b[0m\u001b[1;33m\u001b[0m\u001b[0m\n",
      "\u001b[1;32m~\\anaconda3\\lib\\site-packages\\urllib3\\util\\retry.py\u001b[0m in \u001b[0;36mincrement\u001b[1;34m(self, method, url, response, error, _pool, _stacktrace)\u001b[0m\n\u001b[0;32m    573\u001b[0m         \u001b[1;32mif\u001b[0m \u001b[0mnew_retry\u001b[0m\u001b[1;33m.\u001b[0m\u001b[0mis_exhausted\u001b[0m\u001b[1;33m(\u001b[0m\u001b[1;33m)\u001b[0m\u001b[1;33m:\u001b[0m\u001b[1;33m\u001b[0m\u001b[1;33m\u001b[0m\u001b[0m\n\u001b[1;32m--> 574\u001b[1;33m             \u001b[1;32mraise\u001b[0m \u001b[0mMaxRetryError\u001b[0m\u001b[1;33m(\u001b[0m\u001b[0m_pool\u001b[0m\u001b[1;33m,\u001b[0m \u001b[0murl\u001b[0m\u001b[1;33m,\u001b[0m \u001b[0merror\u001b[0m \u001b[1;32mor\u001b[0m \u001b[0mResponseError\u001b[0m\u001b[1;33m(\u001b[0m\u001b[0mcause\u001b[0m\u001b[1;33m)\u001b[0m\u001b[1;33m)\u001b[0m\u001b[1;33m\u001b[0m\u001b[1;33m\u001b[0m\u001b[0m\n\u001b[0m\u001b[0;32m    575\u001b[0m \u001b[1;33m\u001b[0m\u001b[0m\n",
      "\u001b[1;31mMaxRetryError\u001b[0m: HTTPSConnectionPool(host='www.informatec.com', port=443): Max retries exceeded with url: /en/machine-learning (Caused by SSLError(SSLCertVerificationError(1, '[SSL: CERTIFICATE_VERIFY_FAILED] certificate verify failed: unable to get local issuer certificate (_ssl.c:1123)')))",
      "\nDuring handling of the above exception, another exception occurred:\n",
      "\u001b[1;31mSSLError\u001b[0m                                  Traceback (most recent call last)",
      "\u001b[1;32m<ipython-input-12-620e81e0d3d1>\u001b[0m in \u001b[0;36m<module>\u001b[1;34m\u001b[0m\n\u001b[0;32m      7\u001b[0m     \u001b[0mprint\u001b[0m\u001b[1;33m(\u001b[0m\u001b[1;34m\"Downloading {0} of {1} images\"\u001b[0m \u001b[1;33m.\u001b[0m\u001b[0mformat\u001b[0m\u001b[1;33m(\u001b[0m\u001b[0mi\u001b[0m\u001b[1;33m,\u001b[0m \u001b[1;36m100\u001b[0m\u001b[1;33m)\u001b[0m\u001b[1;33m)\u001b[0m\u001b[1;33m\u001b[0m\u001b[1;33m\u001b[0m\u001b[0m\n\u001b[0;32m      8\u001b[0m \u001b[1;33m\u001b[0m\u001b[0m\n\u001b[1;32m----> 9\u001b[1;33m     \u001b[0mresponse\u001b[0m\u001b[1;33m=\u001b[0m \u001b[0mrequests\u001b[0m\u001b[1;33m.\u001b[0m\u001b[0mget\u001b[0m\u001b[1;33m(\u001b[0m\u001b[0mimg_urls\u001b[0m\u001b[1;33m[\u001b[0m\u001b[0mi\u001b[0m\u001b[1;33m]\u001b[0m\u001b[1;33m)\u001b[0m\u001b[1;33m\u001b[0m\u001b[1;33m\u001b[0m\u001b[0m\n\u001b[0m\u001b[0;32m     10\u001b[0m \u001b[1;33m\u001b[0m\u001b[0m\n\u001b[0;32m     11\u001b[0m     \u001b[0mfile\u001b[0m \u001b[1;33m=\u001b[0m \u001b[0mopen\u001b[0m\u001b[1;33m(\u001b[0m\u001b[1;34mr\"G:\\datatrained\\Fliprobo_intern\\fliprobo images\\cars\"\u001b[0m\u001b[1;33m+\u001b[0m\u001b[0mstr\u001b[0m\u001b[1;33m(\u001b[0m\u001b[0mi\u001b[0m\u001b[1;33m)\u001b[0m\u001b[1;33m+\u001b[0m\u001b[1;34m\".jpg\"\u001b[0m\u001b[1;33m,\u001b[0m \u001b[1;34m\"wb\"\u001b[0m\u001b[1;33m)\u001b[0m\u001b[1;33m\u001b[0m\u001b[1;33m\u001b[0m\u001b[0m\n",
      "\u001b[1;32m~\\anaconda3\\lib\\site-packages\\requests\\api.py\u001b[0m in \u001b[0;36mget\u001b[1;34m(url, params, **kwargs)\u001b[0m\n\u001b[0;32m     74\u001b[0m \u001b[1;33m\u001b[0m\u001b[0m\n\u001b[0;32m     75\u001b[0m     \u001b[0mkwargs\u001b[0m\u001b[1;33m.\u001b[0m\u001b[0msetdefault\u001b[0m\u001b[1;33m(\u001b[0m\u001b[1;34m'allow_redirects'\u001b[0m\u001b[1;33m,\u001b[0m \u001b[1;32mTrue\u001b[0m\u001b[1;33m)\u001b[0m\u001b[1;33m\u001b[0m\u001b[1;33m\u001b[0m\u001b[0m\n\u001b[1;32m---> 76\u001b[1;33m     \u001b[1;32mreturn\u001b[0m \u001b[0mrequest\u001b[0m\u001b[1;33m(\u001b[0m\u001b[1;34m'get'\u001b[0m\u001b[1;33m,\u001b[0m \u001b[0murl\u001b[0m\u001b[1;33m,\u001b[0m \u001b[0mparams\u001b[0m\u001b[1;33m=\u001b[0m\u001b[0mparams\u001b[0m\u001b[1;33m,\u001b[0m \u001b[1;33m**\u001b[0m\u001b[0mkwargs\u001b[0m\u001b[1;33m)\u001b[0m\u001b[1;33m\u001b[0m\u001b[1;33m\u001b[0m\u001b[0m\n\u001b[0m\u001b[0;32m     77\u001b[0m \u001b[1;33m\u001b[0m\u001b[0m\n\u001b[0;32m     78\u001b[0m \u001b[1;33m\u001b[0m\u001b[0m\n",
      "\u001b[1;32m~\\anaconda3\\lib\\site-packages\\requests\\api.py\u001b[0m in \u001b[0;36mrequest\u001b[1;34m(method, url, **kwargs)\u001b[0m\n\u001b[0;32m     59\u001b[0m     \u001b[1;31m# cases, and look like a memory leak in others.\u001b[0m\u001b[1;33m\u001b[0m\u001b[1;33m\u001b[0m\u001b[1;33m\u001b[0m\u001b[0m\n\u001b[0;32m     60\u001b[0m     \u001b[1;32mwith\u001b[0m \u001b[0msessions\u001b[0m\u001b[1;33m.\u001b[0m\u001b[0mSession\u001b[0m\u001b[1;33m(\u001b[0m\u001b[1;33m)\u001b[0m \u001b[1;32mas\u001b[0m \u001b[0msession\u001b[0m\u001b[1;33m:\u001b[0m\u001b[1;33m\u001b[0m\u001b[1;33m\u001b[0m\u001b[0m\n\u001b[1;32m---> 61\u001b[1;33m         \u001b[1;32mreturn\u001b[0m \u001b[0msession\u001b[0m\u001b[1;33m.\u001b[0m\u001b[0mrequest\u001b[0m\u001b[1;33m(\u001b[0m\u001b[0mmethod\u001b[0m\u001b[1;33m=\u001b[0m\u001b[0mmethod\u001b[0m\u001b[1;33m,\u001b[0m \u001b[0murl\u001b[0m\u001b[1;33m=\u001b[0m\u001b[0murl\u001b[0m\u001b[1;33m,\u001b[0m \u001b[1;33m**\u001b[0m\u001b[0mkwargs\u001b[0m\u001b[1;33m)\u001b[0m\u001b[1;33m\u001b[0m\u001b[1;33m\u001b[0m\u001b[0m\n\u001b[0m\u001b[0;32m     62\u001b[0m \u001b[1;33m\u001b[0m\u001b[0m\n\u001b[0;32m     63\u001b[0m \u001b[1;33m\u001b[0m\u001b[0m\n",
      "\u001b[1;32m~\\anaconda3\\lib\\site-packages\\requests\\sessions.py\u001b[0m in \u001b[0;36mrequest\u001b[1;34m(self, method, url, params, data, headers, cookies, files, auth, timeout, allow_redirects, proxies, hooks, stream, verify, cert, json)\u001b[0m\n\u001b[0;32m    528\u001b[0m         }\n\u001b[0;32m    529\u001b[0m         \u001b[0msend_kwargs\u001b[0m\u001b[1;33m.\u001b[0m\u001b[0mupdate\u001b[0m\u001b[1;33m(\u001b[0m\u001b[0msettings\u001b[0m\u001b[1;33m)\u001b[0m\u001b[1;33m\u001b[0m\u001b[1;33m\u001b[0m\u001b[0m\n\u001b[1;32m--> 530\u001b[1;33m         \u001b[0mresp\u001b[0m \u001b[1;33m=\u001b[0m \u001b[0mself\u001b[0m\u001b[1;33m.\u001b[0m\u001b[0msend\u001b[0m\u001b[1;33m(\u001b[0m\u001b[0mprep\u001b[0m\u001b[1;33m,\u001b[0m \u001b[1;33m**\u001b[0m\u001b[0msend_kwargs\u001b[0m\u001b[1;33m)\u001b[0m\u001b[1;33m\u001b[0m\u001b[1;33m\u001b[0m\u001b[0m\n\u001b[0m\u001b[0;32m    531\u001b[0m \u001b[1;33m\u001b[0m\u001b[0m\n\u001b[0;32m    532\u001b[0m         \u001b[1;32mreturn\u001b[0m \u001b[0mresp\u001b[0m\u001b[1;33m\u001b[0m\u001b[1;33m\u001b[0m\u001b[0m\n",
      "\u001b[1;32m~\\anaconda3\\lib\\site-packages\\requests\\sessions.py\u001b[0m in \u001b[0;36msend\u001b[1;34m(self, request, **kwargs)\u001b[0m\n\u001b[0;32m    641\u001b[0m \u001b[1;33m\u001b[0m\u001b[0m\n\u001b[0;32m    642\u001b[0m         \u001b[1;31m# Send the request\u001b[0m\u001b[1;33m\u001b[0m\u001b[1;33m\u001b[0m\u001b[1;33m\u001b[0m\u001b[0m\n\u001b[1;32m--> 643\u001b[1;33m         \u001b[0mr\u001b[0m \u001b[1;33m=\u001b[0m \u001b[0madapter\u001b[0m\u001b[1;33m.\u001b[0m\u001b[0msend\u001b[0m\u001b[1;33m(\u001b[0m\u001b[0mrequest\u001b[0m\u001b[1;33m,\u001b[0m \u001b[1;33m**\u001b[0m\u001b[0mkwargs\u001b[0m\u001b[1;33m)\u001b[0m\u001b[1;33m\u001b[0m\u001b[1;33m\u001b[0m\u001b[0m\n\u001b[0m\u001b[0;32m    644\u001b[0m \u001b[1;33m\u001b[0m\u001b[0m\n\u001b[0;32m    645\u001b[0m         \u001b[1;31m# Total elapsed time of the request (approximately)\u001b[0m\u001b[1;33m\u001b[0m\u001b[1;33m\u001b[0m\u001b[1;33m\u001b[0m\u001b[0m\n",
      "\u001b[1;32m~\\anaconda3\\lib\\site-packages\\requests\\adapters.py\u001b[0m in \u001b[0;36msend\u001b[1;34m(self, request, stream, timeout, verify, cert, proxies)\u001b[0m\n\u001b[0;32m    512\u001b[0m             \u001b[1;32mif\u001b[0m \u001b[0misinstance\u001b[0m\u001b[1;33m(\u001b[0m\u001b[0me\u001b[0m\u001b[1;33m.\u001b[0m\u001b[0mreason\u001b[0m\u001b[1;33m,\u001b[0m \u001b[0m_SSLError\u001b[0m\u001b[1;33m)\u001b[0m\u001b[1;33m:\u001b[0m\u001b[1;33m\u001b[0m\u001b[1;33m\u001b[0m\u001b[0m\n\u001b[0;32m    513\u001b[0m                 \u001b[1;31m# This branch is for urllib3 v1.22 and later.\u001b[0m\u001b[1;33m\u001b[0m\u001b[1;33m\u001b[0m\u001b[1;33m\u001b[0m\u001b[0m\n\u001b[1;32m--> 514\u001b[1;33m                 \u001b[1;32mraise\u001b[0m \u001b[0mSSLError\u001b[0m\u001b[1;33m(\u001b[0m\u001b[0me\u001b[0m\u001b[1;33m,\u001b[0m \u001b[0mrequest\u001b[0m\u001b[1;33m=\u001b[0m\u001b[0mrequest\u001b[0m\u001b[1;33m)\u001b[0m\u001b[1;33m\u001b[0m\u001b[1;33m\u001b[0m\u001b[0m\n\u001b[0m\u001b[0;32m    515\u001b[0m \u001b[1;33m\u001b[0m\u001b[0m\n\u001b[0;32m    516\u001b[0m             \u001b[1;32mraise\u001b[0m \u001b[0mConnectionError\u001b[0m\u001b[1;33m(\u001b[0m\u001b[0me\u001b[0m\u001b[1;33m,\u001b[0m \u001b[0mrequest\u001b[0m\u001b[1;33m=\u001b[0m\u001b[0mrequest\u001b[0m\u001b[1;33m)\u001b[0m\u001b[1;33m\u001b[0m\u001b[1;33m\u001b[0m\u001b[0m\n",
      "\u001b[1;31mSSLError\u001b[0m: HTTPSConnectionPool(host='www.informatec.com', port=443): Max retries exceeded with url: /en/machine-learning (Caused by SSLError(SSLCertVerificationError(1, '[SSL: CERTIFICATE_VERIFY_FAILED] certificate verify failed: unable to get local issuer certificate (_ssl.c:1123)')))"
     ]
    }
   ],
   "source": [
    "for i in range(len(img_urls)):\n",
    "\n",
    "    if i >= 100:\n",
    "\n",
    "        break\n",
    "\n",
    "    print(\"Downloading {0} of {1} images\" .format(i, 100))\n",
    "\n",
    "    response= requests.get(img_urls[i])\n",
    "\n",
    "    file = open(r\"G:\\datatrained\\Fliprobo_intern\\fliprobo images\\cars\"+str(i)+\".jpg\", \"wb\")\n",
    "\n",
    "    file.write(response.content)"
   ]
  },
  {
   "cell_type": "markdown",
   "metadata": {},
   "source": [
    "# 4. Write a python program to search for a smartphone(e.g.: Oneplus Nord, pixel 4A, etc.) on www.flipkart.com and scrape following details for all the search results displayed on 1st page. \n",
    "Details to be scraped: “Brand Name”, “Smartphone name”, “Colour”, “RAM”, \n",
    "“Storage(ROM)”, “Primary Camera”, “Secondary Camera”, “Display Size”, “Display \n",
    "Resolution”, “Processor”, “Processor Cores”, “Battery Capacity”, “Price”, “Product URL”. \n",
    "Incase if any of the details is missing then replace it by “- “. Save your results in a dataframe \n",
    "and CSV."
   ]
  },
  {
   "cell_type": "code",
   "execution_count": 169,
   "metadata": {},
   "outputs": [
    {
     "data": {
      "text/plain": [
       "<selenium.webdriver.remote.webelement.WebElement (session=\"7fc6de9c61e7d44b51028d792d74dbf0\", element=\"49ce8720-6bf0-4142-98ae-e861c1954e6c\")>"
      ]
     },
     "execution_count": 169,
     "metadata": {},
     "output_type": "execute_result"
    }
   ],
   "source": [
    "url=' https://www.flipkart.com'\n",
    "driver.get(url)\n",
    "search_keyword= driver.find_element_by_xpath('//input[@class=\"_3704LK\"]')\n",
    "search_keyword"
   ]
  },
  {
   "cell_type": "code",
   "execution_count": null,
   "metadata": {},
   "outputs": [],
   "source": []
  },
  {
   "cell_type": "code",
   "execution_count": 170,
   "metadata": {},
   "outputs": [],
   "source": [
    "search_keyword.send_keys(\"redmi note 10\")\n",
    "\n",
    "search_btn=driver.find_element_by_id('container')\n",
    "#search_btn\n",
    "search_btn.click()\n",
    "#//*[@id=\"container\"]/div/div[1]/div[1]/div[2]/div[2]/form/div/button/svg"
   ]
  },
  {
   "cell_type": "code",
   "execution_count": 173,
   "metadata": {},
   "outputs": [],
   "source": [
    "urls=[]\n",
    "for i in driver.find_elements_by_xpath('//a[@class=\"_1fQZEK\"]'):\n",
    "    urls.append(i.get_attribute('href'))"
   ]
  },
  {
   "cell_type": "code",
   "execution_count": 174,
   "metadata": {},
   "outputs": [
    {
     "data": {
      "text/plain": [
       "['https://www.flipkart.com/redmi-note-10-frost-white-128-gb/p/itm23973bd36fd21?pid=MOBGF47CYZ85JYA8&lid=LSTMOBGF47CYZ85JYA8LSKKTB&marketplace=FLIPKART&q=redmi+note+10&store=tyy%2F4io&srno=s_1_1&otracker=AS_Query_HistoryAutoSuggest_2_0&otracker1=AS_Query_HistoryAutoSuggest_2_0&fm=SEARCH&iid=8f8236fc-9aa2-41ea-a4a5-579210cf30bc.MOBGF47CYZ85JYA8.SEARCH&ppt=browse&ppn=browse&ssid=06q9u6xntc0000001632501569420&qH=37347601431fd8b4',\n",
       " 'https://www.flipkart.com/redmi-note-10-aqua-green-64-gb/p/itm1820ea99832a9?pid=MOBGF47C9VZTMQPM&lid=LSTMOBGF47C9VZTMQPMHPIYJ8&marketplace=FLIPKART&q=redmi+note+10&store=tyy%2F4io&srno=s_1_2&otracker=AS_Query_HistoryAutoSuggest_2_0&otracker1=AS_Query_HistoryAutoSuggest_2_0&fm=SEARCH&iid=8f8236fc-9aa2-41ea-a4a5-579210cf30bc.MOBGF47C9VZTMQPM.SEARCH&ppt=browse&ppn=browse&ssid=06q9u6xntc0000001632501569420&qH=37347601431fd8b4',\n",
       " 'https://www.flipkart.com/redmi-note-10-shadow-black-64-gb/p/itm8a3f09e6da31b?pid=MOBGF47C73G8HMZX&lid=LSTMOBGF47C73G8HMZXKEP6F4&marketplace=FLIPKART&q=redmi+note+10&store=tyy%2F4io&srno=s_1_3&otracker=AS_Query_HistoryAutoSuggest_2_0&otracker1=AS_Query_HistoryAutoSuggest_2_0&fm=SEARCH&iid=8f8236fc-9aa2-41ea-a4a5-579210cf30bc.MOBGF47C73G8HMZX.SEARCH&ppt=browse&ppn=browse&ssid=06q9u6xntc0000001632501569420&qH=37347601431fd8b4',\n",
       " 'https://www.flipkart.com/redmi-note-10-frost-white-64-gb/p/itm23973bd36fd21?pid=MOBGF47CDJGHVX9Q&lid=LSTMOBGF47CDJGHVX9QJIO7HC&marketplace=FLIPKART&q=redmi+note+10&store=tyy%2F4io&srno=s_1_4&otracker=AS_Query_HistoryAutoSuggest_2_0&otracker1=AS_Query_HistoryAutoSuggest_2_0&fm=SEARCH&iid=8f8236fc-9aa2-41ea-a4a5-579210cf30bc.MOBGF47CDJGHVX9Q.SEARCH&ppt=browse&ppn=browse&ssid=06q9u6xntc0000001632501569420&qH=37347601431fd8b4',\n",
       " 'https://www.flipkart.com/redmi-note-10-aqua-green-128-gb/p/itm23973bd36fd21?pid=MOBGF47CCGXUZPAP&lid=LSTMOBGF47CCGXUZPAPMFD6X1&marketplace=FLIPKART&q=redmi+note+10&store=tyy%2F4io&srno=s_1_5&otracker=AS_Query_HistoryAutoSuggest_2_0&otracker1=AS_Query_HistoryAutoSuggest_2_0&fm=SEARCH&iid=8f8236fc-9aa2-41ea-a4a5-579210cf30bc.MOBGF47CCGXUZPAP.SEARCH&ppt=browse&ppn=browse&ssid=06q9u6xntc0000001632501569420&qH=37347601431fd8b4',\n",
       " 'https://www.flipkart.com/redmi-note-10-shadow-black-128-gb/p/itm23973bd36fd21?pid=MOBGF47CABQTQ6AT&lid=LSTMOBGF47CABQTQ6ATTXKPT4&marketplace=FLIPKART&q=redmi+note+10&store=tyy%2F4io&srno=s_1_6&otracker=AS_Query_HistoryAutoSuggest_2_0&otracker1=AS_Query_HistoryAutoSuggest_2_0&fm=SEARCH&iid=8f8236fc-9aa2-41ea-a4a5-579210cf30bc.MOBGF47CABQTQ6AT.SEARCH&ppt=browse&ppn=browse&ssid=06q9u6xntc0000001632501569420&qH=37347601431fd8b4',\n",
       " 'https://www.flipkart.com/redmi-note-10-frost-white-64-gb/p/itmbb7a045670202?pid=MOBGF47CVV8QQQSY&lid=LSTMOBGF47CVV8QQQSYG1MSD4&marketplace=FLIPKART&q=redmi+note+10&store=tyy%2F4io&srno=s_1_7&otracker=AS_Query_HistoryAutoSuggest_2_0&otracker1=AS_Query_HistoryAutoSuggest_2_0&fm=SEARCH&iid=8f8236fc-9aa2-41ea-a4a5-579210cf30bc.MOBGF47CVV8QQQSY.SEARCH&ppt=browse&ppn=browse&ssid=06q9u6xntc0000001632501569420&qH=37347601431fd8b4',\n",
       " 'https://www.flipkart.com/redmi-note-10-frost-white-128-gb/p/itmac997dff9f957?pid=MOBGF47C94GE6AHZ&lid=LSTMOBGF47C94GE6AHZPH48DV&marketplace=FLIPKART&q=redmi+note+10&store=tyy%2F4io&srno=s_1_8&otracker=AS_Query_HistoryAutoSuggest_2_0&otracker1=AS_Query_HistoryAutoSuggest_2_0&fm=SEARCH&iid=8f8236fc-9aa2-41ea-a4a5-579210cf30bc.MOBGF47C94GE6AHZ.SEARCH&ppt=browse&ppn=browse&ssid=06q9u6xntc0000001632501569420&qH=37347601431fd8b4',\n",
       " 'https://www.flipkart.com/redmi-note-10-aqua-green-128-gb/p/itm4b9b981ce8aee?pid=MOBGF47C2ZS6GN7H&lid=LSTMOBGF47C2ZS6GN7HWWXT29&marketplace=FLIPKART&q=redmi+note+10&store=tyy%2F4io&srno=s_1_9&otracker=AS_Query_HistoryAutoSuggest_2_0&otracker1=AS_Query_HistoryAutoSuggest_2_0&fm=SEARCH&iid=8f8236fc-9aa2-41ea-a4a5-579210cf30bc.MOBGF47C2ZS6GN7H.SEARCH&ppt=browse&ppn=browse&ssid=06q9u6xntc0000001632501569420&qH=37347601431fd8b4',\n",
       " 'https://www.flipkart.com/redmi-note-10-aqua-green-64-gb/p/itm4b9b981ce8aee?pid=MOBGF47CGR5KMKKG&lid=LSTMOBGF47CGR5KMKKGYSXODX&marketplace=FLIPKART&q=redmi+note+10&store=tyy%2F4io&srno=s_1_10&otracker=AS_Query_HistoryAutoSuggest_2_0&otracker1=AS_Query_HistoryAutoSuggest_2_0&fm=SEARCH&iid=8f8236fc-9aa2-41ea-a4a5-579210cf30bc.MOBGF47CGR5KMKKG.SEARCH&ppt=browse&ppn=browse&ssid=06q9u6xntc0000001632501569420&qH=37347601431fd8b4',\n",
       " 'https://www.flipkart.com/redmi-note-10-shadow-black-128-gb/p/itme39d26cf7eecc?pid=MOBGF47C87FNBZMG&lid=LSTMOBGF47C87FNBZMGGHFW6O&marketplace=FLIPKART&q=redmi+note+10&store=tyy%2F4io&srno=s_1_11&otracker=AS_Query_HistoryAutoSuggest_2_0&otracker1=AS_Query_HistoryAutoSuggest_2_0&fm=SEARCH&iid=8f8236fc-9aa2-41ea-a4a5-579210cf30bc.MOBGF47C87FNBZMG.SEARCH&ppt=browse&ppn=browse&ssid=06q9u6xntc0000001632501569420&qH=37347601431fd8b4',\n",
       " 'https://www.flipkart.com/redmi-note-10-shadow-black-64-gb/p/itme39d26cf7eecc?pid=MOBGF47CGHM8KF77&lid=LSTMOBGF47CGHM8KF77M36LOQ&marketplace=FLIPKART&q=redmi+note+10&store=tyy%2F4io&srno=s_1_12&otracker=AS_Query_HistoryAutoSuggest_2_0&otracker1=AS_Query_HistoryAutoSuggest_2_0&fm=SEARCH&iid=8f8236fc-9aa2-41ea-a4a5-579210cf30bc.MOBGF47CGHM8KF77.SEARCH&ppt=browse&ppn=browse&ssid=06q9u6xntc0000001632501569420&qH=37347601431fd8b4',\n",
       " 'https://www.flipkart.com/redmi-9-prime-matte-black-64-gb/p/itmeeb1764ec0fcf?pid=MOBFUSCC57HCZGKG&lid=LSTMOBFUSCC57HCZGKGDPTLQA&marketplace=FLIPKART&q=redmi+note+10&store=tyy%2F4io&srno=s_1_13&otracker=AS_Query_HistoryAutoSuggest_2_0&otracker1=AS_Query_HistoryAutoSuggest_2_0&fm=SEARCH&iid=8f8236fc-9aa2-41ea-a4a5-579210cf30bc.MOBFUSCC57HCZGKG.SEARCH&ppt=browse&ppn=browse&ssid=06q9u6xntc0000001632501569420&qH=37347601431fd8b4',\n",
       " 'https://www.flipkart.com/redmi-note-9-pebble-grey-64-gb/p/itmb9c65ffe0ee74?pid=MOBFU3ZFQ3GAGANG&lid=LSTMOBFU3ZFQ3GAGANG1QDSWB&marketplace=FLIPKART&q=redmi+note+10&store=tyy%2F4io&srno=s_1_14&otracker=AS_Query_HistoryAutoSuggest_2_0&otracker1=AS_Query_HistoryAutoSuggest_2_0&fm=SEARCH&iid=8f8236fc-9aa2-41ea-a4a5-579210cf30bc.MOBFU3ZFQ3GAGANG.SEARCH&ppt=browse&ppn=browse&ssid=06q9u6xntc0000001632501569420&qH=37347601431fd8b4',\n",
       " 'https://www.flipkart.com/redmi-note-9-shadow-black-64-gb/p/itm70628269ecd57?pid=MOBFXEPZM4DX89AQ&lid=LSTMOBFXEPZM4DX89AQLO98VX&marketplace=FLIPKART&q=redmi+note+10&store=tyy%2F4io&srno=s_1_15&otracker=AS_Query_HistoryAutoSuggest_2_0&otracker1=AS_Query_HistoryAutoSuggest_2_0&fm=SEARCH&iid=8f8236fc-9aa2-41ea-a4a5-579210cf30bc.MOBFXEPZM4DX89AQ.SEARCH&ppt=browse&ppn=browse&ssid=06q9u6xntc0000001632501569420&qH=37347601431fd8b4',\n",
       " 'https://www.flipkart.com/redmi-note-9-aqua-green-64-gb/p/itme8bb16e02dfa2?pid=MOBFU3ZFAB7VQJHY&lid=LSTMOBFU3ZFAB7VQJHY14W4ET&marketplace=FLIPKART&q=redmi+note+10&store=tyy%2F4io&srno=s_1_16&otracker=AS_Query_HistoryAutoSuggest_2_0&otracker1=AS_Query_HistoryAutoSuggest_2_0&fm=SEARCH&iid=8f8236fc-9aa2-41ea-a4a5-579210cf30bc.MOBFU3ZFAB7VQJHY.SEARCH&ppt=browse&ppn=browse&ssid=06q9u6xntc0000001632501569420&qH=37347601431fd8b4',\n",
       " 'https://www.flipkart.com/redmi-note-10t-5g-graphite-black-128-gb/p/itm0e4acec2951f6?pid=MOBG5GQZGARK5PWH&lid=LSTMOBG5GQZGARK5PWH0EQSUP&marketplace=FLIPKART&q=redmi+note+10&store=tyy%2F4io&srno=s_1_17&otracker=AS_Query_HistoryAutoSuggest_2_0&otracker1=AS_Query_HistoryAutoSuggest_2_0&fm=SEARCH&iid=8f8236fc-9aa2-41ea-a4a5-579210cf30bc.MOBG5GQZGARK5PWH.SEARCH&ppt=browse&ppn=browse&ssid=06q9u6xntc0000001632501569420&qH=37347601431fd8b4',\n",
       " 'https://www.flipkart.com/redmi-note-9-arctic-white-128-gb/p/itm5ff3c451940cc?pid=MOBFU3ZFPDTEAHHZ&lid=LSTMOBFU3ZFPDTEAHHZ22LH6S&marketplace=FLIPKART&q=redmi+note+10&store=tyy%2F4io&srno=s_1_18&otracker=AS_Query_HistoryAutoSuggest_2_0&otracker1=AS_Query_HistoryAutoSuggest_2_0&fm=SEARCH&iid=8f8236fc-9aa2-41ea-a4a5-579210cf30bc.MOBFU3ZFPDTEAHHZ.SEARCH&ppt=browse&ppn=browse&ssid=06q9u6xntc0000001632501569420&qH=37347601431fd8b4',\n",
       " 'https://www.flipkart.com/redmi-note-9-arctic-white-64-gb/p/itm4ab07b858925c?pid=MOBFU3ZFXMWJCSHP&lid=LSTMOBFU3ZFXMWJCSHPPW957G&marketplace=FLIPKART&q=redmi+note+10&store=tyy%2F4io&srno=s_1_19&otracker=AS_Query_HistoryAutoSuggest_2_0&otracker1=AS_Query_HistoryAutoSuggest_2_0&fm=SEARCH&iid=8f8236fc-9aa2-41ea-a4a5-579210cf30bc.MOBFU3ZFXMWJCSHP.SEARCH&ppt=browse&ppn=browse&ssid=06q9u6xntc0000001632501569420&qH=37347601431fd8b4',\n",
       " 'https://www.flipkart.com/redmi-note-8-neptune-blue-64-gb/p/itm873f03260c0a7?pid=MOBFHFFSG69TGSXQ&lid=LSTMOBFHFFSG69TGSXQU5MCK7&marketplace=FLIPKART&q=redmi+note+10&store=tyy%2F4io&srno=s_1_20&otracker=AS_Query_HistoryAutoSuggest_2_0&otracker1=AS_Query_HistoryAutoSuggest_2_0&fm=SEARCH&iid=8f8236fc-9aa2-41ea-a4a5-579210cf30bc.MOBFHFFSG69TGSXQ.SEARCH&ppt=browse&ppn=browse&ssid=06q9u6xntc0000001632501569420&qH=37347601431fd8b4',\n",
       " 'https://www.flipkart.com/redmi-note-9-pebble-grey-128-gb/p/itm5e86946653501?pid=MOBFU3ZFTEA5EWEV&lid=LSTMOBFU3ZFTEA5EWEVODNVJ8&marketplace=FLIPKART&q=redmi+note+10&store=tyy%2F4io&srno=s_1_21&otracker=AS_Query_HistoryAutoSuggest_2_0&otracker1=AS_Query_HistoryAutoSuggest_2_0&fm=SEARCH&iid=8f8236fc-9aa2-41ea-a4a5-579210cf30bc.MOBFU3ZFTEA5EWEV.SEARCH&ppt=browse&ppn=browse&ssid=06q9u6xntc0000001632501569420&qH=37347601431fd8b4',\n",
       " 'https://www.flipkart.com/redmi-note-9-scarlet-red-128-gb/p/itmb6507262c6c73?pid=MOBFUNP3DYNG7HX2&lid=LSTMOBFUNP3DYNG7HX24IVQFO&marketplace=FLIPKART&q=redmi+note+10&store=tyy%2F4io&srno=s_1_22&otracker=AS_Query_HistoryAutoSuggest_2_0&otracker1=AS_Query_HistoryAutoSuggest_2_0&fm=SEARCH&iid=8f8236fc-9aa2-41ea-a4a5-579210cf30bc.MOBFUNP3DYNG7HX2.SEARCH&ppt=browse&ppn=browse&ssid=06q9u6xntc0000001632501569420&qH=37347601431fd8b4',\n",
       " 'https://www.flipkart.com/redmi-note-9-aqua-green-128-gb/p/itme28e86170ace6?pid=MOBFU3ZFY6FGK4ZU&lid=LSTMOBFU3ZFY6FGK4ZUDZU44D&marketplace=FLIPKART&q=redmi+note+10&store=tyy%2F4io&srno=s_1_23&otracker=AS_Query_HistoryAutoSuggest_2_0&otracker1=AS_Query_HistoryAutoSuggest_2_0&fm=SEARCH&iid=8f8236fc-9aa2-41ea-a4a5-579210cf30bc.MOBFU3ZFY6FGK4ZU.SEARCH&ppt=browse&ppn=browse&ssid=06q9u6xntc0000001632501569420&qH=37347601431fd8b4',\n",
       " 'https://www.flipkart.com/redmi-note-7-pro-moonlight-white-128-gb/p/itm410bac3ec336c?pid=MOBFJFZDF6EZQRHH&lid=LSTMOBFJFZDF6EZQRHHBQVSH2&marketplace=FLIPKART&q=redmi+note+10&store=tyy%2F4io&srno=s_1_24&otracker=AS_Query_HistoryAutoSuggest_2_0&otracker1=AS_Query_HistoryAutoSuggest_2_0&fm=SEARCH&iid=8f8236fc-9aa2-41ea-a4a5-579210cf30bc.MOBFJFZDF6EZQRHH.SEARCH&ppt=browse&ppn=browse&ssid=06q9u6xntc0000001632501569420&qH=37347601431fd8b4']"
      ]
     },
     "execution_count": 174,
     "metadata": {},
     "output_type": "execute_result"
    }
   ],
   "source": [
    "urls"
   ]
  },
  {
   "cell_type": "code",
   "execution_count": 175,
   "metadata": {},
   "outputs": [
    {
     "data": {
      "text/plain": [
       "24"
      ]
     },
     "execution_count": 175,
     "metadata": {},
     "output_type": "execute_result"
    }
   ],
   "source": [
    "len(urls)"
   ]
  },
  {
   "cell_type": "code",
   "execution_count": null,
   "metadata": {},
   "outputs": [],
   "source": []
  },
  {
   "cell_type": "code",
   "execution_count": 10,
   "metadata": {},
   "outputs": [],
   "source": [
    "Brand_name=[]\n",
    "for i in urls:\n",
    "    \n",
    "    driver.get(i)\n",
    "    time.sleep(3)\n",
    "    #extracting rating of iphone\n",
    "    try:\n",
    "        Brand_name_tags= driver.find_elements_by_xpath('//a[@class=\"_2whKao\"]')\n",
    "        for j in Brand_name_tags:\n",
    "            Brand_name.append(j.text)          \n",
    "    except:\n",
    "            Brand_name.append(\"-\")"
   ]
  },
  {
   "cell_type": "code",
   "execution_count": 11,
   "metadata": {},
   "outputs": [
    {
     "data": {
      "text/plain": [
       "['Home',\n",
       " 'Mobiles & Accessories',\n",
       " 'Mobiles',\n",
       " 'REDMI Mobiles',\n",
       " 'Home',\n",
       " 'Mobiles & Accessories',\n",
       " 'Mobiles',\n",
       " 'REDMI Mobiles',\n",
       " 'Home',\n",
       " 'Mobiles & Accessories',\n",
       " 'Mobiles',\n",
       " 'REDMI Mobiles',\n",
       " 'Home',\n",
       " 'Mobiles & Accessories',\n",
       " 'Mobiles',\n",
       " 'REDMI Mobiles',\n",
       " 'Home',\n",
       " 'Mobiles & Accessories',\n",
       " 'Mobiles',\n",
       " 'REDMI Mobiles',\n",
       " 'Home',\n",
       " 'Mobiles & Accessories',\n",
       " 'Mobiles',\n",
       " 'REDMI Mobiles',\n",
       " 'Home',\n",
       " 'Mobiles & Accessories',\n",
       " 'Mobiles',\n",
       " 'REDMI Mobiles',\n",
       " 'Home',\n",
       " 'Mobiles & Accessories',\n",
       " 'Mobiles',\n",
       " 'REDMI Mobiles',\n",
       " 'Home',\n",
       " 'Mobiles & Accessories',\n",
       " 'Mobiles',\n",
       " 'REDMI Mobiles',\n",
       " 'Home',\n",
       " 'Mobiles & Accessories',\n",
       " 'Mobiles',\n",
       " 'REDMI Mobiles',\n",
       " 'Home',\n",
       " 'Mobiles & Accessories',\n",
       " 'Mobiles',\n",
       " 'REDMI Mobiles',\n",
       " 'Home',\n",
       " 'Mobiles & Accessories',\n",
       " 'Mobiles',\n",
       " 'Mi Mobiles',\n",
       " 'Home',\n",
       " 'Mobiles & Accessories',\n",
       " 'Mobiles',\n",
       " 'Mi Mobiles',\n",
       " 'Home',\n",
       " 'Mobiles & Accessories',\n",
       " 'Mobiles',\n",
       " 'Mi Mobiles',\n",
       " 'Home',\n",
       " 'Mobiles & Accessories',\n",
       " 'Mobiles',\n",
       " 'Mi Mobiles',\n",
       " 'Home',\n",
       " 'Mobiles & Accessories',\n",
       " 'Mobiles',\n",
       " 'Mi Mobiles',\n",
       " 'Home',\n",
       " 'Mobiles & Accessories',\n",
       " 'Mobiles',\n",
       " 'Mi Mobiles',\n",
       " 'Home',\n",
       " 'Mobiles & Accessories',\n",
       " 'Mobiles',\n",
       " 'Mi Mobiles',\n",
       " 'Home',\n",
       " 'Mobiles & Accessories',\n",
       " 'Mobiles',\n",
       " 'Mi Mobiles',\n",
       " 'Home',\n",
       " 'Mobiles & Accessories',\n",
       " 'Mobiles',\n",
       " 'Mi Mobiles',\n",
       " 'Home',\n",
       " 'Mobiles & Accessories',\n",
       " 'Mobiles',\n",
       " 'Mi Mobiles',\n",
       " 'Home',\n",
       " 'Mobiles & Accessories',\n",
       " 'Mobiles',\n",
       " 'Mi Mobiles',\n",
       " 'Home',\n",
       " 'Mobiles & Accessories',\n",
       " 'Mobiles',\n",
       " 'Mi Mobiles',\n",
       " 'Home',\n",
       " 'Mobiles & Accessories',\n",
       " 'Mobiles',\n",
       " 'Mi Mobiles']"
      ]
     },
     "execution_count": 11,
     "metadata": {},
     "output_type": "execute_result"
    }
   ],
   "source": [
    "Brand_name"
   ]
  },
  {
   "cell_type": "code",
   "execution_count": 12,
   "metadata": {},
   "outputs": [
    {
     "data": {
      "text/plain": [
       "['REDMI Mobiles',\n",
       " 'REDMI Mobiles',\n",
       " 'REDMI Mobiles',\n",
       " 'REDMI Mobiles',\n",
       " 'REDMI Mobiles',\n",
       " 'REDMI Mobiles',\n",
       " 'REDMI Mobiles',\n",
       " 'REDMI Mobiles',\n",
       " 'REDMI Mobiles',\n",
       " 'REDMI Mobiles',\n",
       " 'REDMI Mobiles',\n",
       " 'Mi Mobiles',\n",
       " 'Mi Mobiles',\n",
       " 'Mi Mobiles',\n",
       " 'Mi Mobiles',\n",
       " 'Mi Mobiles',\n",
       " 'Mi Mobiles',\n",
       " 'Mi Mobiles',\n",
       " 'Mi Mobiles',\n",
       " 'Mi Mobiles',\n",
       " 'Mi Mobiles',\n",
       " 'Mi Mobiles',\n",
       " 'Mi Mobiles',\n",
       " 'Mi Mobiles']"
      ]
     },
     "execution_count": 12,
     "metadata": {},
     "output_type": "execute_result"
    }
   ],
   "source": [
    "Brand_name1=Brand_name[3::4]\n",
    "Brand_name1"
   ]
  },
  {
   "cell_type": "code",
   "execution_count": 13,
   "metadata": {},
   "outputs": [
    {
     "data": {
      "text/plain": [
       "24"
      ]
     },
     "execution_count": 13,
     "metadata": {},
     "output_type": "execute_result"
    }
   ],
   "source": [
    "len(Brand_name1)"
   ]
  },
  {
   "cell_type": "code",
   "execution_count": 14,
   "metadata": {},
   "outputs": [],
   "source": [
    "smart_ph_name=[]\n",
    "for i in urls:\n",
    "    \n",
    "    driver.get(i)\n",
    "    time.sleep(3)\n",
    "    #extracting rating of iphone\n",
    "    try:\n",
    "        smart_ph_name_tags= driver.find_elements_by_xpath('//span[@class=\"B_NuCI\"]')\n",
    "        for j in smart_ph_name_tags:\n",
    "            smart_ph_name.append(j.text.replace(\"() \",\",\"))          \n",
    "    except:\n",
    "            smart_ph_name.append(\"-\")"
   ]
  },
  {
   "cell_type": "code",
   "execution_count": 15,
   "metadata": {},
   "outputs": [
    {
     "data": {
      "text/plain": [
       "['REDMI Note 10S (Cosmic Purple, 128 GB)  (6 GB RAM)',\n",
       " 'REDMI Note 10S (Shadow Black, 64 GB)  (6 GB RAM)',\n",
       " 'REDMI Note 10S (Deep Sea Blue, 64 GB)  (6 GB RAM)',\n",
       " 'REDMI Note 10S (Frost White, 64 GB)  (6 GB RAM)',\n",
       " 'REDMI Note 10S (Frost White, 128 GB)  (6 GB RAM)',\n",
       " 'REDMI Note 10S (Deep Sea Blue, 128 GB)  (6 GB RAM)',\n",
       " 'REDMI Note 10S (Shadow Black, 128 GB)  (6 GB RAM)',\n",
       " 'REDMI Note 10S (Cosmic Purple, 64 GB)  (6 GB RAM)',\n",
       " 'REDMI Note 10S (Deep Sea Blue, 128 GB)  (8 GB RAM)',\n",
       " 'REDMI Note 10S (Shadow Black, 128 GB)  (8 GB RAM)',\n",
       " 'REDMI Note 10S (Frost White, 128 GB)  (8 GB RAM)',\n",
       " 'Redmi Note 7 Pro (Moonlight White, 128 GB)  (6 GB RAM)',\n",
       " 'Redmi Note 7S (Astro Moonlight White, 64 GB)  (4 GB RAM)',\n",
       " 'Redmi Note 7 Pro (Blue, 64 GB)  (4 GB RAM)',\n",
       " 'Redmi Note 7S (Ruby Red, 64 GB)  (4 GB RAM)',\n",
       " 'Redmi Note 7S (Sapphire Blue, 64 GB)  (4 GB RAM)',\n",
       " 'Redmi Note 7 Pro (Nebula Red, 64 GB)  (4 GB RAM)',\n",
       " 'Redmi Note 7 Pro (Space Black, 64 GB)  (4 GB RAM)',\n",
       " 'Redmi Note 7S (Onyx Black, 64 GB)  (4 GB RAM)',\n",
       " 'Redmi Note 7S (Onyx Black, 32 GB)  (3 GB RAM)',\n",
       " 'Redmi Note 7S (Astro Moonlight White, 32 GB)  (3 GB RAM)',\n",
       " 'Redmi Note 7S (Sapphire Blue, 32 GB)  (3 GB RAM)',\n",
       " 'Redmi Note 7S (Onyx Black, 64 GB)  (4 GB RAM)',\n",
       " 'Redmi Note 7S (Ruby Red, 32 GB)  (3 GB RAM)']"
      ]
     },
     "execution_count": 15,
     "metadata": {},
     "output_type": "execute_result"
    }
   ],
   "source": [
    "smart_ph_name"
   ]
  },
  {
   "cell_type": "code",
   "execution_count": 16,
   "metadata": {},
   "outputs": [
    {
     "data": {
      "text/plain": [
       "24"
      ]
     },
     "execution_count": 16,
     "metadata": {},
     "output_type": "execute_result"
    }
   ],
   "source": [
    "#lensmart_ph_name1=smart_ph_name[::3]\n",
    "len(smart_ph_name)"
   ]
  },
  {
   "cell_type": "code",
   "execution_count": null,
   "metadata": {},
   "outputs": [],
   "source": []
  },
  {
   "cell_type": "code",
   "execution_count": null,
   "metadata": {},
   "outputs": [],
   "source": []
  },
  {
   "cell_type": "code",
   "execution_count": null,
   "metadata": {},
   "outputs": [],
   "source": []
  },
  {
   "cell_type": "code",
   "execution_count": 23,
   "metadata": {},
   "outputs": [],
   "source": [
    "storage_rom=[]\n",
    "for i in urls:\n",
    "    \n",
    "    driver.get(i)\n",
    "    time.sleep(3)\n",
    "    #extracting rating of iphone\n",
    "    try:\n",
    "        storage_rom_tags= driver.find_elements_by_xpath('//li[@class=\"_21Ahn-\"]')\n",
    "        for j in storage_rom_tags:\n",
    "            storage_rom.append(j.text.replace(\"| \",\",\"))          \n",
    "    except:\n",
    "            storage_rom.append(\"-\")"
   ]
  },
  {
   "cell_type": "code",
   "execution_count": 24,
   "metadata": {},
   "outputs": [
    {
     "data": {
      "text/plain": [
       "['6 GB RAM ,128 GB ROM',\n",
       " '16.33 cm (6.43 inch) Full HD+ Display',\n",
       " '64MP + 8MP + 2MP + 2MP ,13MP Front Camera',\n",
       " '5000 mAh Battery',\n",
       " 'MediaTek Helio G95 Processor',\n",
       " '6 GB RAM ,64 GB ROM',\n",
       " '16.33 cm (6.43 inch) Full HD+ Display',\n",
       " '64MP + 8MP + 2MP + 2MP ,13MP Front Camera',\n",
       " '5000 mAh Battery',\n",
       " 'MediaTek Helio G95 Processor',\n",
       " '6 GB RAM ,64 GB ROM',\n",
       " '16.33 cm (6.43 inch) Full HD+ Display',\n",
       " '64MP + 8MP + 2MP + 2MP ,13MP Front Camera',\n",
       " '5000 mAh Battery',\n",
       " 'MediaTek Helio G95 Processor',\n",
       " '6 GB RAM ,64 GB ROM',\n",
       " '16.33 cm (6.43 inch) Full HD+ Display',\n",
       " '64MP + 8MP + 2MP + 2MP ,13MP Front Camera',\n",
       " '5000 mAh Battery',\n",
       " 'MediaTek Helio G95 Processor',\n",
       " '6 GB RAM ,128 GB ROM',\n",
       " '16.33 cm (6.43 inch) Full HD+ Display',\n",
       " '64MP + 8MP + 2MP + 2MP ,13MP Front Camera',\n",
       " '5000 mAh Battery',\n",
       " 'MediaTek Helio G95 Processor',\n",
       " '6 GB RAM ,128 GB ROM',\n",
       " '16.33 cm (6.43 inch) Full HD+ Display',\n",
       " '64MP + 8MP + 2MP + 2MP ,13MP Front Camera',\n",
       " '5000 mAh Battery',\n",
       " 'MediaTek Helio G95 Processor',\n",
       " '6 GB RAM ,128 GB ROM',\n",
       " '16.33 cm (6.43 inch) Full HD+ Display',\n",
       " '64MP + 8MP + 2MP + 2MP ,13MP Front Camera',\n",
       " '5000 mAh Battery',\n",
       " 'MediaTek Helio G95 Processor',\n",
       " '6 GB RAM ,64 GB ROM',\n",
       " '16.33 cm (6.43 inch) Full HD+ Display',\n",
       " '64MP + 8MP + 2MP + 2MP ,13MP Front Camera',\n",
       " '5000 mAh Battery',\n",
       " 'MediaTek Helio G95 Processor',\n",
       " '8 GB RAM ,128 GB ROM',\n",
       " '16.33 cm (6.43 inch) Full HD+ Display',\n",
       " '64MP + 8MP + 2MP + 2MP ,13MP Front Camera',\n",
       " '5000 mAh Battery',\n",
       " 'MediaTek Helio G95 Processor',\n",
       " '8 GB RAM ,128 GB ROM',\n",
       " '16.33 cm (6.43 inch) Full HD+ Display',\n",
       " '64MP + 8MP + 2MP + 2MP ,13MP Front Camera',\n",
       " '5000 mAh Battery',\n",
       " 'MediaTek Helio G95 Processor',\n",
       " '8 GB RAM ,128 GB ROM',\n",
       " '16.33 cm (6.43 inch) Full HD+ Display',\n",
       " '64MP + 8MP + 2MP + 2MP ,13MP Front Camera',\n",
       " '5000 mAh Battery',\n",
       " 'MediaTek Helio G95 Processor',\n",
       " '6 GB RAM ,128 GB ROM ,Expandable Upto 256 GB',\n",
       " '16.0 cm (6.3 inch) Full HD+ Display',\n",
       " '48MP + 5MP ,13MP Front Camera',\n",
       " '4000 mAh Li-polymer Battery',\n",
       " 'Qualcomm Snapdragon 675 Processor',\n",
       " 'Quick Charge 4.0 Support',\n",
       " '4 GB RAM ,64 GB ROM ,Expandable Upto 256 GB',\n",
       " '16.0 cm (6.3 inch) Full HD+ Display',\n",
       " '48MP + 5MP ,13MP Front Camera',\n",
       " '4000 mAh Battery',\n",
       " 'Qualcomm Snapdragon 660 AIE Processor',\n",
       " 'Quick Charge 4.0 Support',\n",
       " '4 GB RAM ,64 GB ROM ,Expandable Upto 256 GB',\n",
       " '16.0 cm (6.3 inch) Full HD+ Display',\n",
       " '48MP + 5MP ,13MP Front Camera',\n",
       " '4000 mAh Li-polymer Battery',\n",
       " 'Qualcomm Snapdragon 675 Processor',\n",
       " 'Splash Proof - Protected by P2i',\n",
       " 'Quick Charge 4.0 Support',\n",
       " '4 GB RAM ,64 GB ROM ,Expandable Upto 256 GB',\n",
       " '16.0 cm (6.3 inch) Full HD+ Display',\n",
       " '48MP + 5MP ,13MP Front Camera',\n",
       " '4000 mAh Battery',\n",
       " 'Qualcomm Snapdragon 660 AIE Processor',\n",
       " 'Splash Proof - Protected by P2i',\n",
       " 'Quick Charge 4.0 Support',\n",
       " '4 GB RAM ,64 GB ROM ,Expandable Upto 256 GB',\n",
       " '16.0 cm (6.3 inch) Full HD+ Display',\n",
       " '48MP + 5MP ,13MP Front Camera',\n",
       " '4000 mAh Battery',\n",
       " 'Qualcomm Snapdragon 660 AIE Processor',\n",
       " 'Splash Proof - Protected by P2i',\n",
       " 'Quick Charge 4.0 Support',\n",
       " '4 GB RAM ,64 GB ROM ,Expandable Upto 256 GB',\n",
       " '16.0 cm (6.3 inch) Full HD+ Display',\n",
       " '48MP + 5MP ,13MP Front Camera',\n",
       " '4000 mAh Li-polymer Battery',\n",
       " 'Qualcomm Snapdragon 675 Processor',\n",
       " 'Splash Proof - Protected by P2i',\n",
       " 'Quick Charge 4.0 Support',\n",
       " '4 GB RAM ,64 GB ROM ,Expandable Upto 256 GB',\n",
       " '16.0 cm (6.3 inch) Full HD+ Display',\n",
       " '48MP + 5MP ,13MP Front Camera',\n",
       " '4000 mAh Li-polymer Battery',\n",
       " 'Qualcomm Snapdragon 675 Processor',\n",
       " 'Splash Proof - Protected by P2i',\n",
       " 'Quick Charge 4.0 Support',\n",
       " '4 GB RAM ,64 GB ROM',\n",
       " '16.0 cm (6.3 inch) Display',\n",
       " '48MP Rear Camera',\n",
       " '4000 mAh Battery',\n",
       " '3 GB RAM ,32 GB ROM ,Expandable Upto 256 GB',\n",
       " '16.0 cm (6.3 inch) Full HD+ Display',\n",
       " '48MP + 5MP ,13MP Front Camera',\n",
       " '4000 mAh Battery',\n",
       " 'Qualcomm Snapdragon 660 AIE Processor',\n",
       " 'Splash Proof - Protected by P2i',\n",
       " 'Quick Charge 4.0 Support',\n",
       " '3 GB RAM ,32 GB ROM ,Expandable Upto 256 GB',\n",
       " '16.0 cm (6.3 inch) Full HD+ Display',\n",
       " '48MP + 5MP ,13MP Front Camera',\n",
       " '4000 mAh Battery',\n",
       " 'Qualcomm Snapdragon 660 AIE Processor',\n",
       " 'Quick Charge 4.0 Support',\n",
       " '3 GB RAM ,32 GB ROM ,Expandable Upto 256 GB',\n",
       " '16.0 cm (6.3 inch) Full HD+ Display',\n",
       " '48MP + 5MP ,13MP Front Camera',\n",
       " '4000 mAh Battery',\n",
       " 'Qualcomm Snapdragon 660 AIE Processor',\n",
       " 'Splash Proof - Protected by P2i',\n",
       " 'Quick Charge 4.0 Support',\n",
       " '4 GB RAM ,64 GB ROM ,Expandable Upto 256 GB',\n",
       " '16.0 cm (6.3 inch) Full HD+ Display',\n",
       " '48MP + 5MP ,13MP Front Camera',\n",
       " '4000 mAh Battery',\n",
       " 'Qualcomm Snapdragon 660 AIE Processor',\n",
       " 'Splash Proof - Protected by P2i',\n",
       " 'Quick Charge 4.0 Support',\n",
       " '3 GB RAM ,32 GB ROM ,Expandable Upto 256 GB',\n",
       " '16.0 cm (6.3 inch) Full HD+ Display',\n",
       " '48MP + 5MP ,13MP Front Camera',\n",
       " '4000 mAh Battery',\n",
       " 'Qualcomm Snapdragon 660 AIE Processor',\n",
       " 'Splash Proof - Protected by P2i',\n",
       " 'Quick Charge 4.0 Support']"
      ]
     },
     "execution_count": 24,
     "metadata": {},
     "output_type": "execute_result"
    }
   ],
   "source": [
    "storage_rom"
   ]
  },
  {
   "cell_type": "code",
   "execution_count": 25,
   "metadata": {},
   "outputs": [
    {
     "data": {
      "text/plain": [
       "140"
      ]
     },
     "execution_count": 25,
     "metadata": {},
     "output_type": "execute_result"
    }
   ],
   "source": [
    "len(storage_rom)"
   ]
  },
  {
   "cell_type": "code",
   "execution_count": 51,
   "metadata": {},
   "outputs": [
    {
     "data": {
      "text/plain": [
       "['6 GB RAM ,128 GB ROM',\n",
       " '6 GB RAM ,64 GB ROM',\n",
       " '6 GB RAM ,64 GB ROM',\n",
       " '6 GB RAM ,64 GB ROM',\n",
       " '6 GB RAM ,128 GB ROM',\n",
       " '6 GB RAM ,128 GB ROM',\n",
       " '6 GB RAM ,128 GB ROM',\n",
       " '6 GB RAM ,64 GB ROM',\n",
       " '8 GB RAM ,128 GB ROM',\n",
       " '8 GB RAM ,128 GB ROM',\n",
       " '8 GB RAM ,128 GB ROM',\n",
       " '6 GB RAM ,128 GB ROM ,Expandable Upto 256 GB']"
      ]
     },
     "execution_count": 51,
     "metadata": {},
     "output_type": "execute_result"
    }
   ],
   "source": [
    "storage_mem=storage_rom[:60:5]\n",
    "storage_mem"
   ]
  },
  {
   "cell_type": "code",
   "execution_count": 59,
   "metadata": {},
   "outputs": [
    {
     "data": {
      "text/plain": [
       "['4 GB RAM ,64 GB ROM ,Expandable Upto 256 GB',\n",
       " '4 GB RAM ,64 GB ROM ,Expandable Upto 256 GB']"
      ]
     },
     "execution_count": 59,
     "metadata": {},
     "output_type": "execute_result"
    }
   ],
   "source": [
    "storage_mem1=storage_rom[61:73:6]\n",
    "storage_mem1"
   ]
  },
  {
   "cell_type": "code",
   "execution_count": 61,
   "metadata": {},
   "outputs": [
    {
     "data": {
      "text/plain": [
       "['4 GB RAM ,64 GB ROM ,Expandable Upto 256 GB',\n",
       " '4 GB RAM ,64 GB ROM ,Expandable Upto 256 GB',\n",
       " '4 GB RAM ,64 GB ROM ,Expandable Upto 256 GB',\n",
       " '4 GB RAM ,64 GB ROM ,Expandable Upto 256 GB']"
      ]
     },
     "execution_count": 61,
     "metadata": {},
     "output_type": "execute_result"
    }
   ],
   "source": [
    "storage_mem2=storage_rom[74:102:7]\n",
    "storage_mem2"
   ]
  },
  {
   "cell_type": "code",
   "execution_count": 71,
   "metadata": {},
   "outputs": [
    {
     "data": {
      "text/plain": [
       "['4 GB RAM ,64 GB ROM', '3 GB RAM ,32 GB ROM ,Expandable Upto 256 GB']"
      ]
     },
     "execution_count": 71,
     "metadata": {},
     "output_type": "execute_result"
    }
   ],
   "source": [
    "storage_mem3=storage_rom[102:109:4]\n",
    "storage_mem3"
   ]
  },
  {
   "cell_type": "code",
   "execution_count": 79,
   "metadata": {},
   "outputs": [
    {
     "data": {
      "text/plain": [
       "['3 GB RAM ,32 GB ROM ,Expandable Upto 256 GB']"
      ]
     },
     "execution_count": 79,
     "metadata": {},
     "output_type": "execute_result"
    }
   ],
   "source": [
    "storage_mem4=storage_rom[113:119:6]\n",
    "storage_mem4"
   ]
  },
  {
   "cell_type": "code",
   "execution_count": 80,
   "metadata": {},
   "outputs": [
    {
     "data": {
      "text/plain": [
       "['3 GB RAM ,32 GB ROM ,Expandable Upto 256 GB',\n",
       " '4 GB RAM ,64 GB ROM ,Expandable Upto 256 GB',\n",
       " '3 GB RAM ,32 GB ROM ,Expandable Upto 256 GB']"
      ]
     },
     "execution_count": 80,
     "metadata": {},
     "output_type": "execute_result"
    }
   ],
   "source": [
    "storage_mem5=storage_rom[119::7]\n",
    "storage_mem5"
   ]
  },
  {
   "cell_type": "code",
   "execution_count": 81,
   "metadata": {},
   "outputs": [
    {
     "data": {
      "text/plain": [
       "24"
      ]
     },
     "execution_count": 81,
     "metadata": {},
     "output_type": "execute_result"
    }
   ],
   "source": [
    "final_mem=storage_mem+storage_mem1+storage_mem2+storage_mem3+storage_mem4+storage_mem5\n",
    "len(final_mem)"
   ]
  },
  {
   "cell_type": "code",
   "execution_count": 86,
   "metadata": {},
   "outputs": [
    {
     "data": {
      "text/plain": [
       "['16.33 cm (6.43 inch) Full HD+ Display',\n",
       " '16.33 cm (6.43 inch) Full HD+ Display',\n",
       " '16.33 cm (6.43 inch) Full HD+ Display',\n",
       " '16.33 cm (6.43 inch) Full HD+ Display',\n",
       " '16.33 cm (6.43 inch) Full HD+ Display',\n",
       " '16.33 cm (6.43 inch) Full HD+ Display',\n",
       " '16.33 cm (6.43 inch) Full HD+ Display',\n",
       " '16.33 cm (6.43 inch) Full HD+ Display',\n",
       " '16.33 cm (6.43 inch) Full HD+ Display',\n",
       " '16.33 cm (6.43 inch) Full HD+ Display',\n",
       " '16.33 cm (6.43 inch) Full HD+ Display',\n",
       " '16.0 cm (6.3 inch) Full HD+ Display']"
      ]
     },
     "execution_count": 86,
     "metadata": {},
     "output_type": "execute_result"
    }
   ],
   "source": [
    "Display_Size=storage_rom[1:61:5]\n",
    "Display_Size"
   ]
  },
  {
   "cell_type": "code",
   "execution_count": 92,
   "metadata": {},
   "outputs": [
    {
     "data": {
      "text/plain": [
       "['16.0 cm (6.3 inch) Full HD+ Display', '16.0 cm (6.3 inch) Full HD+ Display']"
      ]
     },
     "execution_count": 92,
     "metadata": {},
     "output_type": "execute_result"
    }
   ],
   "source": [
    "Display_Size1=storage_rom[62:74:6]\n",
    "Display_Size1"
   ]
  },
  {
   "cell_type": "code",
   "execution_count": 93,
   "metadata": {},
   "outputs": [
    {
     "data": {
      "text/plain": [
       "['16.0 cm (6.3 inch) Full HD+ Display',\n",
       " '16.0 cm (6.3 inch) Full HD+ Display',\n",
       " '16.0 cm (6.3 inch) Full HD+ Display',\n",
       " '16.0 cm (6.3 inch) Full HD+ Display']"
      ]
     },
     "execution_count": 93,
     "metadata": {},
     "output_type": "execute_result"
    }
   ],
   "source": [
    "Display_Size2=storage_rom[75:103:7]\n",
    "Display_Size2"
   ]
  },
  {
   "cell_type": "code",
   "execution_count": 94,
   "metadata": {},
   "outputs": [
    {
     "data": {
      "text/plain": [
       "['16.0 cm (6.3 inch) Display', '16.0 cm (6.3 inch) Full HD+ Display']"
      ]
     },
     "execution_count": 94,
     "metadata": {},
     "output_type": "execute_result"
    }
   ],
   "source": [
    "Display_Size3=storage_rom[103:110:4]\n",
    "Display_Size3"
   ]
  },
  {
   "cell_type": "code",
   "execution_count": 95,
   "metadata": {},
   "outputs": [
    {
     "data": {
      "text/plain": [
       "['16.0 cm (6.3 inch) Full HD+ Display']"
      ]
     },
     "execution_count": 95,
     "metadata": {},
     "output_type": "execute_result"
    }
   ],
   "source": [
    "Display_Size4=storage_rom[114:120:6]\n",
    "Display_Size4"
   ]
  },
  {
   "cell_type": "code",
   "execution_count": 96,
   "metadata": {},
   "outputs": [
    {
     "data": {
      "text/plain": [
       "['16.0 cm (6.3 inch) Full HD+ Display',\n",
       " '16.0 cm (6.3 inch) Full HD+ Display',\n",
       " '16.0 cm (6.3 inch) Full HD+ Display']"
      ]
     },
     "execution_count": 96,
     "metadata": {},
     "output_type": "execute_result"
    }
   ],
   "source": [
    "Display_Size5=storage_rom[120::7]\n",
    "Display_Size5"
   ]
  },
  {
   "cell_type": "code",
   "execution_count": 99,
   "metadata": {},
   "outputs": [
    {
     "data": {
      "text/plain": [
       "24"
      ]
     },
     "execution_count": 99,
     "metadata": {},
     "output_type": "execute_result"
    }
   ],
   "source": [
    "final_Display_Size=Display_Size+Display_Size1+Display_Size2+Display_Size3+Display_Size4+Display_Size5\n",
    "len(final_Display_Size)"
   ]
  },
  {
   "cell_type": "code",
   "execution_count": 100,
   "metadata": {},
   "outputs": [
    {
     "data": {
      "text/plain": [
       "['64MP + 8MP + 2MP + 2MP ,13MP Front Camera',\n",
       " '64MP + 8MP + 2MP + 2MP ,13MP Front Camera',\n",
       " '64MP + 8MP + 2MP + 2MP ,13MP Front Camera',\n",
       " '64MP + 8MP + 2MP + 2MP ,13MP Front Camera',\n",
       " '64MP + 8MP + 2MP + 2MP ,13MP Front Camera',\n",
       " '64MP + 8MP + 2MP + 2MP ,13MP Front Camera',\n",
       " '64MP + 8MP + 2MP + 2MP ,13MP Front Camera',\n",
       " '64MP + 8MP + 2MP + 2MP ,13MP Front Camera',\n",
       " '64MP + 8MP + 2MP + 2MP ,13MP Front Camera',\n",
       " '64MP + 8MP + 2MP + 2MP ,13MP Front Camera',\n",
       " '64MP + 8MP + 2MP + 2MP ,13MP Front Camera',\n",
       " '48MP + 5MP ,13MP Front Camera']"
      ]
     },
     "execution_count": 100,
     "metadata": {},
     "output_type": "execute_result"
    }
   ],
   "source": [
    "camera=storage_rom[2:62:5]\n",
    "camera"
   ]
  },
  {
   "cell_type": "code",
   "execution_count": 101,
   "metadata": {},
   "outputs": [
    {
     "data": {
      "text/plain": [
       "['48MP + 5MP ,13MP Front Camera', '48MP + 5MP ,13MP Front Camera']"
      ]
     },
     "execution_count": 101,
     "metadata": {},
     "output_type": "execute_result"
    }
   ],
   "source": [
    "camera1=storage_rom[63:75:6]\n",
    "camera1"
   ]
  },
  {
   "cell_type": "code",
   "execution_count": 102,
   "metadata": {},
   "outputs": [
    {
     "data": {
      "text/plain": [
       "['48MP + 5MP ,13MP Front Camera',\n",
       " '48MP + 5MP ,13MP Front Camera',\n",
       " '48MP + 5MP ,13MP Front Camera',\n",
       " '48MP + 5MP ,13MP Front Camera']"
      ]
     },
     "execution_count": 102,
     "metadata": {},
     "output_type": "execute_result"
    }
   ],
   "source": [
    "camera2=storage_rom[76:104:7]\n",
    "camera2"
   ]
  },
  {
   "cell_type": "code",
   "execution_count": 103,
   "metadata": {},
   "outputs": [
    {
     "data": {
      "text/plain": [
       "['48MP Rear Camera', '48MP + 5MP ,13MP Front Camera']"
      ]
     },
     "execution_count": 103,
     "metadata": {},
     "output_type": "execute_result"
    }
   ],
   "source": [
    "camera3=storage_rom[104:111:4]\n",
    "camera3"
   ]
  },
  {
   "cell_type": "code",
   "execution_count": 104,
   "metadata": {},
   "outputs": [
    {
     "data": {
      "text/plain": [
       "['48MP + 5MP ,13MP Front Camera']"
      ]
     },
     "execution_count": 104,
     "metadata": {},
     "output_type": "execute_result"
    }
   ],
   "source": [
    "camera4=storage_rom[115:121:6]\n",
    "camera4"
   ]
  },
  {
   "cell_type": "code",
   "execution_count": 105,
   "metadata": {},
   "outputs": [
    {
     "data": {
      "text/plain": [
       "['48MP + 5MP ,13MP Front Camera',\n",
       " '48MP + 5MP ,13MP Front Camera',\n",
       " '48MP + 5MP ,13MP Front Camera']"
      ]
     },
     "execution_count": 105,
     "metadata": {},
     "output_type": "execute_result"
    }
   ],
   "source": [
    "camera5=storage_rom[121::7]\n",
    "camera5"
   ]
  },
  {
   "cell_type": "code",
   "execution_count": 107,
   "metadata": {},
   "outputs": [
    {
     "data": {
      "text/plain": [
       "24"
      ]
     },
     "execution_count": 107,
     "metadata": {},
     "output_type": "execute_result"
    }
   ],
   "source": [
    "front_cam=camera+camera1+camera2+camera3+camera4+camera5\n",
    "len(front_cam)"
   ]
  },
  {
   "cell_type": "code",
   "execution_count": 108,
   "metadata": {},
   "outputs": [
    {
     "data": {
      "text/plain": [
       "['5000 mAh Battery',\n",
       " '5000 mAh Battery',\n",
       " '5000 mAh Battery',\n",
       " '5000 mAh Battery',\n",
       " '5000 mAh Battery',\n",
       " '5000 mAh Battery',\n",
       " '5000 mAh Battery',\n",
       " '5000 mAh Battery',\n",
       " '5000 mAh Battery',\n",
       " '5000 mAh Battery',\n",
       " '5000 mAh Battery',\n",
       " '4000 mAh Li-polymer Battery']"
      ]
     },
     "execution_count": 108,
     "metadata": {},
     "output_type": "execute_result"
    }
   ],
   "source": [
    "battery=storage_rom[3:63:5]\n",
    "battery"
   ]
  },
  {
   "cell_type": "code",
   "execution_count": 109,
   "metadata": {},
   "outputs": [
    {
     "data": {
      "text/plain": [
       "['4000 mAh Battery', '4000 mAh Li-polymer Battery']"
      ]
     },
     "execution_count": 109,
     "metadata": {},
     "output_type": "execute_result"
    }
   ],
   "source": [
    "battery1=storage_rom[64:76:6]\n",
    "battery1"
   ]
  },
  {
   "cell_type": "code",
   "execution_count": 110,
   "metadata": {},
   "outputs": [
    {
     "data": {
      "text/plain": [
       "['4000 mAh Battery',\n",
       " '4000 mAh Battery',\n",
       " '4000 mAh Li-polymer Battery',\n",
       " '4000 mAh Li-polymer Battery']"
      ]
     },
     "execution_count": 110,
     "metadata": {},
     "output_type": "execute_result"
    }
   ],
   "source": [
    "battery2=storage_rom[77:105:7]\n",
    "battery2"
   ]
  },
  {
   "cell_type": "code",
   "execution_count": 111,
   "metadata": {},
   "outputs": [
    {
     "data": {
      "text/plain": [
       "['4000 mAh Battery', '4000 mAh Battery']"
      ]
     },
     "execution_count": 111,
     "metadata": {},
     "output_type": "execute_result"
    }
   ],
   "source": [
    "battery3=storage_rom[105:112:4]\n",
    "battery3"
   ]
  },
  {
   "cell_type": "code",
   "execution_count": 112,
   "metadata": {},
   "outputs": [
    {
     "data": {
      "text/plain": [
       "['4000 mAh Battery']"
      ]
     },
     "execution_count": 112,
     "metadata": {},
     "output_type": "execute_result"
    }
   ],
   "source": [
    "battery4=storage_rom[116:122:6]\n",
    "battery4"
   ]
  },
  {
   "cell_type": "code",
   "execution_count": 113,
   "metadata": {},
   "outputs": [
    {
     "data": {
      "text/plain": [
       "['4000 mAh Battery', '4000 mAh Battery', '4000 mAh Battery']"
      ]
     },
     "execution_count": 113,
     "metadata": {},
     "output_type": "execute_result"
    }
   ],
   "source": [
    "battery5=storage_rom[122::7]\n",
    "battery5"
   ]
  },
  {
   "cell_type": "code",
   "execution_count": 114,
   "metadata": {},
   "outputs": [
    {
     "data": {
      "text/plain": [
       "24"
      ]
     },
     "execution_count": 114,
     "metadata": {},
     "output_type": "execute_result"
    }
   ],
   "source": [
    "batt=battery+battery1+battery2+battery3+battery4+battery5\n",
    "len(batt)"
   ]
  },
  {
   "cell_type": "code",
   "execution_count": 115,
   "metadata": {},
   "outputs": [
    {
     "data": {
      "text/plain": [
       "['MediaTek Helio G95 Processor',\n",
       " 'MediaTek Helio G95 Processor',\n",
       " 'MediaTek Helio G95 Processor',\n",
       " 'MediaTek Helio G95 Processor',\n",
       " 'MediaTek Helio G95 Processor',\n",
       " 'MediaTek Helio G95 Processor',\n",
       " 'MediaTek Helio G95 Processor',\n",
       " 'MediaTek Helio G95 Processor',\n",
       " 'MediaTek Helio G95 Processor',\n",
       " 'MediaTek Helio G95 Processor',\n",
       " 'MediaTek Helio G95 Processor',\n",
       " 'Qualcomm Snapdragon 675 Processor']"
      ]
     },
     "execution_count": 115,
     "metadata": {},
     "output_type": "execute_result"
    }
   ],
   "source": [
    "processor=storage_rom[4:64:5]\n",
    "processor"
   ]
  },
  {
   "cell_type": "code",
   "execution_count": 116,
   "metadata": {},
   "outputs": [
    {
     "data": {
      "text/plain": [
       "['Qualcomm Snapdragon 660 AIE Processor', 'Qualcomm Snapdragon 675 Processor']"
      ]
     },
     "execution_count": 116,
     "metadata": {},
     "output_type": "execute_result"
    }
   ],
   "source": [
    "processor1=storage_rom[65:77:6]\n",
    "processor1"
   ]
  },
  {
   "cell_type": "code",
   "execution_count": 117,
   "metadata": {},
   "outputs": [
    {
     "data": {
      "text/plain": [
       "['Qualcomm Snapdragon 660 AIE Processor',\n",
       " 'Qualcomm Snapdragon 660 AIE Processor',\n",
       " 'Qualcomm Snapdragon 675 Processor',\n",
       " 'Qualcomm Snapdragon 675 Processor']"
      ]
     },
     "execution_count": 117,
     "metadata": {},
     "output_type": "execute_result"
    }
   ],
   "source": [
    "processor2=storage_rom[78:106:7]\n",
    "processor2"
   ]
  },
  {
   "cell_type": "code",
   "execution_count": 118,
   "metadata": {},
   "outputs": [
    {
     "data": {
      "text/plain": [
       "['3 GB RAM ,32 GB ROM ,Expandable Upto 256 GB',\n",
       " 'Qualcomm Snapdragon 660 AIE Processor']"
      ]
     },
     "execution_count": 118,
     "metadata": {},
     "output_type": "execute_result"
    }
   ],
   "source": [
    "processor3=storage_rom[106:113:4]\n",
    "processor3"
   ]
  },
  {
   "cell_type": "code",
   "execution_count": 119,
   "metadata": {},
   "outputs": [
    {
     "data": {
      "text/plain": [
       "['Qualcomm Snapdragon 660 AIE Processor']"
      ]
     },
     "execution_count": 119,
     "metadata": {},
     "output_type": "execute_result"
    }
   ],
   "source": [
    "processor4=storage_rom[117:123:6]\n",
    "processor4"
   ]
  },
  {
   "cell_type": "code",
   "execution_count": 120,
   "metadata": {},
   "outputs": [
    {
     "data": {
      "text/plain": [
       "['Qualcomm Snapdragon 660 AIE Processor',\n",
       " 'Qualcomm Snapdragon 660 AIE Processor',\n",
       " 'Qualcomm Snapdragon 660 AIE Processor']"
      ]
     },
     "execution_count": 120,
     "metadata": {},
     "output_type": "execute_result"
    }
   ],
   "source": [
    "processor5=storage_rom[123::7]\n",
    "processor5"
   ]
  },
  {
   "cell_type": "code",
   "execution_count": 121,
   "metadata": {},
   "outputs": [
    {
     "data": {
      "text/plain": [
       "24"
      ]
     },
     "execution_count": 121,
     "metadata": {},
     "output_type": "execute_result"
    }
   ],
   "source": [
    "final_processor=processor+processor1+processor2+processor3+processor4+processor5\n",
    "len(final_processor)"
   ]
  },
  {
   "cell_type": "code",
   "execution_count": 177,
   "metadata": {},
   "outputs": [],
   "source": [
    "res=[]\n",
    "\n",
    "for i in urls:\n",
    "    \n",
    "    driver.get(i)\n",
    "    time.sleep(3)\n",
    "    search_btn=driver.find_element_by_xpath('//button[@class=\"_2KpZ6l _1FH0tX\"]')\n",
    "    #search_btn\n",
    "    search_btn.click()\n",
    "    #extracting rating of iphone\n",
    "    try:\n",
    "        res_tags= driver.find_element_by_xpath(\"((//div[@class='_3k-BhJ'])[2]//li)[2]\")\n",
    "        res.append(res_tags.text)          \n",
    "    except:\n",
    "        res.append(\"-\")\n",
    "    "
   ]
  },
  {
   "cell_type": "code",
   "execution_count": 178,
   "metadata": {},
   "outputs": [
    {
     "name": "stdout",
     "output_type": "stream",
     "text": [
      "['2400 x 1080 Pixels', '2400 x 1080 Pixels', '2400 x 1080 Pixels', '2400 x 1080 Pixels', '2400 x 1080 Pixels', '2400 x 1080 Pixels', '2400 x 1080 Pixels', '2400 x 1080 Pixels', '2400 x 1080 Pixels', '2400 x 1080 Pixels', '2400 x 1080 Pixels', '2400 x 1080 Pixels', '2340 x 1080 Pixels', '2340 x 1080 Pixels', '2340 x 1080 Pixels', '2340 x 1080 Pixels', '2400 x 1080 Pixels', '2340 x 1080 Pixels', '2340 x 1080 Pixels', '2340 x 1080 Pixels', '2340 x 1080 Pixels', '2340 x 1080 Pixels', '2340 x 1080 Pixels', '2340 x 1080 pixels']\n"
     ]
    }
   ],
   "source": [
    "print(res)"
   ]
  },
  {
   "cell_type": "code",
   "execution_count": null,
   "metadata": {},
   "outputs": [],
   "source": []
  },
  {
   "cell_type": "code",
   "execution_count": 179,
   "metadata": {},
   "outputs": [],
   "source": [
    "pro_core=[]\n",
    "for i in urls:\n",
    "    \n",
    "    driver.get(i)\n",
    "    time.sleep(3)\n",
    "    search_btn=driver.find_element_by_xpath('//button[@class=\"_2KpZ6l _1FH0tX\"]')\n",
    "    #search_btn\n",
    "    search_btn.click()\n",
    "    try:\n",
    "        pro_core_tags= driver.find_element_by_xpath('((//div[@class=\"_3k-BhJ\"])[3]//li)[3]')\n",
    "        pro_core.append(pro_core_tags.text)          \n",
    "    except:\n",
    "        pro_core.append(\"-\")"
   ]
  },
  {
   "cell_type": "code",
   "execution_count": 180,
   "metadata": {},
   "outputs": [
    {
     "name": "stdout",
     "output_type": "stream",
     "text": [
      "['Octa Core', 'Octa Core', 'Octa Core', 'Octa Core', 'Octa Core', 'Octa Core', 'Octa Core', 'Octa Core', 'Octa Core', 'Octa Core', 'Octa Core', 'Octa Core', 'Octa Core', 'Octa Core', 'Octa Core', 'Octa Core', 'Octa Core', 'Octa Core', 'Octa Core', 'Octa Core', 'Octa Core', 'Octa Core', 'Octa Core', 'Octa Core']\n"
     ]
    }
   ],
   "source": [
    "print(pro_core)"
   ]
  },
  {
   "cell_type": "code",
   "execution_count": 181,
   "metadata": {},
   "outputs": [],
   "source": [
    "price=[]\n",
    "\n",
    "for i in urls:\n",
    "    \n",
    "    driver.get(i)\n",
    "    time.sleep(3)\n",
    "    \n",
    "    #extracting rating of iphone\n",
    "    try:\n",
    "        price_tags= driver.find_element_by_xpath(\"(//div[@class='_30jeq3 _16Jk6d'])\")\n",
    "        price.append(price_tags.text)          \n",
    "    except:\n",
    "        price.append(\"-\")\n",
    "    "
   ]
  },
  {
   "cell_type": "code",
   "execution_count": 182,
   "metadata": {},
   "outputs": [
    {
     "data": {
      "text/plain": [
       "['₹17,989',\n",
       " '₹15,178',\n",
       " '₹15,399',\n",
       " '₹15,188',\n",
       " '₹17,799',\n",
       " '₹17,799',\n",
       " '₹16,999',\n",
       " '₹16,999',\n",
       " '₹16,999',\n",
       " '₹16,999',\n",
       " '₹16,999',\n",
       " '₹16,999',\n",
       " '₹10,499',\n",
       " '₹11,999',\n",
       " '₹11,999',\n",
       " '₹11,999',\n",
       " '₹18,290',\n",
       " '₹16,977',\n",
       " '₹14,243',\n",
       " '₹13,999',\n",
       " '₹14,879',\n",
       " '₹14,999',\n",
       " '₹14,790',\n",
       " '₹15,485']"
      ]
     },
     "execution_count": 182,
     "metadata": {},
     "output_type": "execute_result"
    }
   ],
   "source": [
    "price"
   ]
  },
  {
   "cell_type": "code",
   "execution_count": 183,
   "metadata": {},
   "outputs": [
    {
     "data": {
      "text/html": [
       "<div>\n",
       "<style scoped>\n",
       "    .dataframe tbody tr th:only-of-type {\n",
       "        vertical-align: middle;\n",
       "    }\n",
       "\n",
       "    .dataframe tbody tr th {\n",
       "        vertical-align: top;\n",
       "    }\n",
       "\n",
       "    .dataframe thead th {\n",
       "        text-align: right;\n",
       "    }\n",
       "</style>\n",
       "<table border=\"1\" class=\"dataframe\">\n",
       "  <thead>\n",
       "    <tr style=\"text-align: right;\">\n",
       "      <th></th>\n",
       "      <th>Brand_name</th>\n",
       "      <th>smart_phone_name</th>\n",
       "      <th>Price</th>\n",
       "      <th>Memry</th>\n",
       "      <th>Display_size</th>\n",
       "      <th>Display_resolution</th>\n",
       "      <th>Camera</th>\n",
       "      <th>Battery</th>\n",
       "      <th>Processor</th>\n",
       "      <th>Processor_core</th>\n",
       "      <th>Product_url</th>\n",
       "    </tr>\n",
       "  </thead>\n",
       "  <tbody>\n",
       "    <tr>\n",
       "      <th>0</th>\n",
       "      <td>REDMI Mobiles</td>\n",
       "      <td>REDMI Note 10S (Cosmic Purple, 128 GB)  (6 GB ...</td>\n",
       "      <td>₹17,989</td>\n",
       "      <td>6 GB RAM ,128 GB ROM</td>\n",
       "      <td>16.33 cm (6.43 inch) Full HD+ Display</td>\n",
       "      <td>2400 x 1080 Pixels</td>\n",
       "      <td>64MP + 8MP + 2MP + 2MP ,13MP Front Camera</td>\n",
       "      <td>5000 mAh Battery</td>\n",
       "      <td>MediaTek Helio G95 Processor</td>\n",
       "      <td>Octa Core</td>\n",
       "      <td>https://www.flipkart.com/redmi-note-10-frost-w...</td>\n",
       "    </tr>\n",
       "    <tr>\n",
       "      <th>1</th>\n",
       "      <td>REDMI Mobiles</td>\n",
       "      <td>REDMI Note 10S (Shadow Black, 64 GB)  (6 GB RAM)</td>\n",
       "      <td>₹15,178</td>\n",
       "      <td>6 GB RAM ,64 GB ROM</td>\n",
       "      <td>16.33 cm (6.43 inch) Full HD+ Display</td>\n",
       "      <td>2400 x 1080 Pixels</td>\n",
       "      <td>64MP + 8MP + 2MP + 2MP ,13MP Front Camera</td>\n",
       "      <td>5000 mAh Battery</td>\n",
       "      <td>MediaTek Helio G95 Processor</td>\n",
       "      <td>Octa Core</td>\n",
       "      <td>https://www.flipkart.com/redmi-note-10-aqua-gr...</td>\n",
       "    </tr>\n",
       "    <tr>\n",
       "      <th>2</th>\n",
       "      <td>REDMI Mobiles</td>\n",
       "      <td>REDMI Note 10S (Deep Sea Blue, 64 GB)  (6 GB RAM)</td>\n",
       "      <td>₹15,399</td>\n",
       "      <td>6 GB RAM ,64 GB ROM</td>\n",
       "      <td>16.33 cm (6.43 inch) Full HD+ Display</td>\n",
       "      <td>2400 x 1080 Pixels</td>\n",
       "      <td>64MP + 8MP + 2MP + 2MP ,13MP Front Camera</td>\n",
       "      <td>5000 mAh Battery</td>\n",
       "      <td>MediaTek Helio G95 Processor</td>\n",
       "      <td>Octa Core</td>\n",
       "      <td>https://www.flipkart.com/redmi-note-10-shadow-...</td>\n",
       "    </tr>\n",
       "    <tr>\n",
       "      <th>3</th>\n",
       "      <td>REDMI Mobiles</td>\n",
       "      <td>REDMI Note 10S (Frost White, 64 GB)  (6 GB RAM)</td>\n",
       "      <td>₹15,188</td>\n",
       "      <td>6 GB RAM ,64 GB ROM</td>\n",
       "      <td>16.33 cm (6.43 inch) Full HD+ Display</td>\n",
       "      <td>2400 x 1080 Pixels</td>\n",
       "      <td>64MP + 8MP + 2MP + 2MP ,13MP Front Camera</td>\n",
       "      <td>5000 mAh Battery</td>\n",
       "      <td>MediaTek Helio G95 Processor</td>\n",
       "      <td>Octa Core</td>\n",
       "      <td>https://www.flipkart.com/redmi-note-10-frost-w...</td>\n",
       "    </tr>\n",
       "    <tr>\n",
       "      <th>4</th>\n",
       "      <td>REDMI Mobiles</td>\n",
       "      <td>REDMI Note 10S (Frost White, 128 GB)  (6 GB RAM)</td>\n",
       "      <td>₹17,799</td>\n",
       "      <td>6 GB RAM ,128 GB ROM</td>\n",
       "      <td>16.33 cm (6.43 inch) Full HD+ Display</td>\n",
       "      <td>2400 x 1080 Pixels</td>\n",
       "      <td>64MP + 8MP + 2MP + 2MP ,13MP Front Camera</td>\n",
       "      <td>5000 mAh Battery</td>\n",
       "      <td>MediaTek Helio G95 Processor</td>\n",
       "      <td>Octa Core</td>\n",
       "      <td>https://www.flipkart.com/redmi-note-10-aqua-gr...</td>\n",
       "    </tr>\n",
       "    <tr>\n",
       "      <th>5</th>\n",
       "      <td>REDMI Mobiles</td>\n",
       "      <td>REDMI Note 10S (Deep Sea Blue, 128 GB)  (6 GB ...</td>\n",
       "      <td>₹17,799</td>\n",
       "      <td>6 GB RAM ,128 GB ROM</td>\n",
       "      <td>16.33 cm (6.43 inch) Full HD+ Display</td>\n",
       "      <td>2400 x 1080 Pixels</td>\n",
       "      <td>64MP + 8MP + 2MP + 2MP ,13MP Front Camera</td>\n",
       "      <td>5000 mAh Battery</td>\n",
       "      <td>MediaTek Helio G95 Processor</td>\n",
       "      <td>Octa Core</td>\n",
       "      <td>https://www.flipkart.com/redmi-note-10-shadow-...</td>\n",
       "    </tr>\n",
       "    <tr>\n",
       "      <th>6</th>\n",
       "      <td>REDMI Mobiles</td>\n",
       "      <td>REDMI Note 10S (Shadow Black, 128 GB)  (6 GB RAM)</td>\n",
       "      <td>₹16,999</td>\n",
       "      <td>6 GB RAM ,128 GB ROM</td>\n",
       "      <td>16.33 cm (6.43 inch) Full HD+ Display</td>\n",
       "      <td>2400 x 1080 Pixels</td>\n",
       "      <td>64MP + 8MP + 2MP + 2MP ,13MP Front Camera</td>\n",
       "      <td>5000 mAh Battery</td>\n",
       "      <td>MediaTek Helio G95 Processor</td>\n",
       "      <td>Octa Core</td>\n",
       "      <td>https://www.flipkart.com/redmi-note-10-frost-w...</td>\n",
       "    </tr>\n",
       "    <tr>\n",
       "      <th>7</th>\n",
       "      <td>REDMI Mobiles</td>\n",
       "      <td>REDMI Note 10S (Cosmic Purple, 64 GB)  (6 GB RAM)</td>\n",
       "      <td>₹16,999</td>\n",
       "      <td>6 GB RAM ,64 GB ROM</td>\n",
       "      <td>16.33 cm (6.43 inch) Full HD+ Display</td>\n",
       "      <td>2400 x 1080 Pixels</td>\n",
       "      <td>64MP + 8MP + 2MP + 2MP ,13MP Front Camera</td>\n",
       "      <td>5000 mAh Battery</td>\n",
       "      <td>MediaTek Helio G95 Processor</td>\n",
       "      <td>Octa Core</td>\n",
       "      <td>https://www.flipkart.com/redmi-note-10-frost-w...</td>\n",
       "    </tr>\n",
       "    <tr>\n",
       "      <th>8</th>\n",
       "      <td>REDMI Mobiles</td>\n",
       "      <td>REDMI Note 10S (Deep Sea Blue, 128 GB)  (8 GB ...</td>\n",
       "      <td>₹16,999</td>\n",
       "      <td>8 GB RAM ,128 GB ROM</td>\n",
       "      <td>16.33 cm (6.43 inch) Full HD+ Display</td>\n",
       "      <td>2400 x 1080 Pixels</td>\n",
       "      <td>64MP + 8MP + 2MP + 2MP ,13MP Front Camera</td>\n",
       "      <td>5000 mAh Battery</td>\n",
       "      <td>MediaTek Helio G95 Processor</td>\n",
       "      <td>Octa Core</td>\n",
       "      <td>https://www.flipkart.com/redmi-note-10-aqua-gr...</td>\n",
       "    </tr>\n",
       "    <tr>\n",
       "      <th>9</th>\n",
       "      <td>REDMI Mobiles</td>\n",
       "      <td>REDMI Note 10S (Shadow Black, 128 GB)  (8 GB RAM)</td>\n",
       "      <td>₹16,999</td>\n",
       "      <td>8 GB RAM ,128 GB ROM</td>\n",
       "      <td>16.33 cm (6.43 inch) Full HD+ Display</td>\n",
       "      <td>2400 x 1080 Pixels</td>\n",
       "      <td>64MP + 8MP + 2MP + 2MP ,13MP Front Camera</td>\n",
       "      <td>5000 mAh Battery</td>\n",
       "      <td>MediaTek Helio G95 Processor</td>\n",
       "      <td>Octa Core</td>\n",
       "      <td>https://www.flipkart.com/redmi-note-10-aqua-gr...</td>\n",
       "    </tr>\n",
       "    <tr>\n",
       "      <th>10</th>\n",
       "      <td>REDMI Mobiles</td>\n",
       "      <td>REDMI Note 10S (Frost White, 128 GB)  (8 GB RAM)</td>\n",
       "      <td>₹16,999</td>\n",
       "      <td>8 GB RAM ,128 GB ROM</td>\n",
       "      <td>16.33 cm (6.43 inch) Full HD+ Display</td>\n",
       "      <td>2400 x 1080 Pixels</td>\n",
       "      <td>64MP + 8MP + 2MP + 2MP ,13MP Front Camera</td>\n",
       "      <td>5000 mAh Battery</td>\n",
       "      <td>MediaTek Helio G95 Processor</td>\n",
       "      <td>Octa Core</td>\n",
       "      <td>https://www.flipkart.com/redmi-note-10-shadow-...</td>\n",
       "    </tr>\n",
       "    <tr>\n",
       "      <th>11</th>\n",
       "      <td>Mi Mobiles</td>\n",
       "      <td>Redmi Note 7 Pro (Moonlight White, 128 GB)  (6...</td>\n",
       "      <td>₹16,999</td>\n",
       "      <td>6 GB RAM ,128 GB ROM ,Expandable Upto 256 GB</td>\n",
       "      <td>16.0 cm (6.3 inch) Full HD+ Display</td>\n",
       "      <td>2400 x 1080 Pixels</td>\n",
       "      <td>48MP + 5MP ,13MP Front Camera</td>\n",
       "      <td>4000 mAh Li-polymer Battery</td>\n",
       "      <td>Qualcomm Snapdragon 675 Processor</td>\n",
       "      <td>Octa Core</td>\n",
       "      <td>https://www.flipkart.com/redmi-note-10-shadow-...</td>\n",
       "    </tr>\n",
       "    <tr>\n",
       "      <th>12</th>\n",
       "      <td>Mi Mobiles</td>\n",
       "      <td>Redmi Note 7S (Astro Moonlight White, 64 GB)  ...</td>\n",
       "      <td>₹10,499</td>\n",
       "      <td>4 GB RAM ,64 GB ROM ,Expandable Upto 256 GB</td>\n",
       "      <td>16.0 cm (6.3 inch) Full HD+ Display</td>\n",
       "      <td>2340 x 1080 Pixels</td>\n",
       "      <td>48MP + 5MP ,13MP Front Camera</td>\n",
       "      <td>4000 mAh Battery</td>\n",
       "      <td>Qualcomm Snapdragon 660 AIE Processor</td>\n",
       "      <td>Octa Core</td>\n",
       "      <td>https://www.flipkart.com/redmi-9-prime-matte-b...</td>\n",
       "    </tr>\n",
       "    <tr>\n",
       "      <th>13</th>\n",
       "      <td>Mi Mobiles</td>\n",
       "      <td>Redmi Note 7 Pro (Blue, 64 GB)  (4 GB RAM)</td>\n",
       "      <td>₹11,999</td>\n",
       "      <td>4 GB RAM ,64 GB ROM ,Expandable Upto 256 GB</td>\n",
       "      <td>16.0 cm (6.3 inch) Full HD+ Display</td>\n",
       "      <td>2340 x 1080 Pixels</td>\n",
       "      <td>48MP + 5MP ,13MP Front Camera</td>\n",
       "      <td>4000 mAh Li-polymer Battery</td>\n",
       "      <td>Qualcomm Snapdragon 675 Processor</td>\n",
       "      <td>Octa Core</td>\n",
       "      <td>https://www.flipkart.com/redmi-note-9-pebble-g...</td>\n",
       "    </tr>\n",
       "    <tr>\n",
       "      <th>14</th>\n",
       "      <td>Mi Mobiles</td>\n",
       "      <td>Redmi Note 7S (Ruby Red, 64 GB)  (4 GB RAM)</td>\n",
       "      <td>₹11,999</td>\n",
       "      <td>4 GB RAM ,64 GB ROM ,Expandable Upto 256 GB</td>\n",
       "      <td>16.0 cm (6.3 inch) Full HD+ Display</td>\n",
       "      <td>2340 x 1080 Pixels</td>\n",
       "      <td>48MP + 5MP ,13MP Front Camera</td>\n",
       "      <td>4000 mAh Battery</td>\n",
       "      <td>Qualcomm Snapdragon 660 AIE Processor</td>\n",
       "      <td>Octa Core</td>\n",
       "      <td>https://www.flipkart.com/redmi-note-9-shadow-b...</td>\n",
       "    </tr>\n",
       "    <tr>\n",
       "      <th>15</th>\n",
       "      <td>Mi Mobiles</td>\n",
       "      <td>Redmi Note 7S (Sapphire Blue, 64 GB)  (4 GB RAM)</td>\n",
       "      <td>₹11,999</td>\n",
       "      <td>4 GB RAM ,64 GB ROM ,Expandable Upto 256 GB</td>\n",
       "      <td>16.0 cm (6.3 inch) Full HD+ Display</td>\n",
       "      <td>2340 x 1080 Pixels</td>\n",
       "      <td>48MP + 5MP ,13MP Front Camera</td>\n",
       "      <td>4000 mAh Battery</td>\n",
       "      <td>Qualcomm Snapdragon 660 AIE Processor</td>\n",
       "      <td>Octa Core</td>\n",
       "      <td>https://www.flipkart.com/redmi-note-9-aqua-gre...</td>\n",
       "    </tr>\n",
       "    <tr>\n",
       "      <th>16</th>\n",
       "      <td>Mi Mobiles</td>\n",
       "      <td>Redmi Note 7 Pro (Nebula Red, 64 GB)  (4 GB RAM)</td>\n",
       "      <td>₹18,290</td>\n",
       "      <td>4 GB RAM ,64 GB ROM ,Expandable Upto 256 GB</td>\n",
       "      <td>16.0 cm (6.3 inch) Full HD+ Display</td>\n",
       "      <td>2400 x 1080 Pixels</td>\n",
       "      <td>48MP + 5MP ,13MP Front Camera</td>\n",
       "      <td>4000 mAh Li-polymer Battery</td>\n",
       "      <td>Qualcomm Snapdragon 675 Processor</td>\n",
       "      <td>Octa Core</td>\n",
       "      <td>https://www.flipkart.com/redmi-note-10t-5g-gra...</td>\n",
       "    </tr>\n",
       "    <tr>\n",
       "      <th>17</th>\n",
       "      <td>Mi Mobiles</td>\n",
       "      <td>Redmi Note 7 Pro (Space Black, 64 GB)  (4 GB RAM)</td>\n",
       "      <td>₹16,977</td>\n",
       "      <td>4 GB RAM ,64 GB ROM ,Expandable Upto 256 GB</td>\n",
       "      <td>16.0 cm (6.3 inch) Full HD+ Display</td>\n",
       "      <td>2340 x 1080 Pixels</td>\n",
       "      <td>48MP + 5MP ,13MP Front Camera</td>\n",
       "      <td>4000 mAh Li-polymer Battery</td>\n",
       "      <td>Qualcomm Snapdragon 675 Processor</td>\n",
       "      <td>Octa Core</td>\n",
       "      <td>https://www.flipkart.com/redmi-note-9-arctic-w...</td>\n",
       "    </tr>\n",
       "    <tr>\n",
       "      <th>18</th>\n",
       "      <td>Mi Mobiles</td>\n",
       "      <td>Redmi Note 7S (Onyx Black, 64 GB)  (4 GB RAM)</td>\n",
       "      <td>₹14,243</td>\n",
       "      <td>4 GB RAM ,64 GB ROM</td>\n",
       "      <td>16.0 cm (6.3 inch) Display</td>\n",
       "      <td>2340 x 1080 Pixels</td>\n",
       "      <td>48MP Rear Camera</td>\n",
       "      <td>4000 mAh Battery</td>\n",
       "      <td>3 GB RAM ,32 GB ROM ,Expandable Upto 256 GB</td>\n",
       "      <td>Octa Core</td>\n",
       "      <td>https://www.flipkart.com/redmi-note-9-arctic-w...</td>\n",
       "    </tr>\n",
       "    <tr>\n",
       "      <th>19</th>\n",
       "      <td>Mi Mobiles</td>\n",
       "      <td>Redmi Note 7S (Onyx Black, 32 GB)  (3 GB RAM)</td>\n",
       "      <td>₹13,999</td>\n",
       "      <td>3 GB RAM ,32 GB ROM ,Expandable Upto 256 GB</td>\n",
       "      <td>16.0 cm (6.3 inch) Full HD+ Display</td>\n",
       "      <td>2340 x 1080 Pixels</td>\n",
       "      <td>48MP + 5MP ,13MP Front Camera</td>\n",
       "      <td>4000 mAh Battery</td>\n",
       "      <td>Qualcomm Snapdragon 660 AIE Processor</td>\n",
       "      <td>Octa Core</td>\n",
       "      <td>https://www.flipkart.com/redmi-note-8-neptune-...</td>\n",
       "    </tr>\n",
       "    <tr>\n",
       "      <th>20</th>\n",
       "      <td>Mi Mobiles</td>\n",
       "      <td>Redmi Note 7S (Astro Moonlight White, 32 GB)  ...</td>\n",
       "      <td>₹14,879</td>\n",
       "      <td>3 GB RAM ,32 GB ROM ,Expandable Upto 256 GB</td>\n",
       "      <td>16.0 cm (6.3 inch) Full HD+ Display</td>\n",
       "      <td>2340 x 1080 Pixels</td>\n",
       "      <td>48MP + 5MP ,13MP Front Camera</td>\n",
       "      <td>4000 mAh Battery</td>\n",
       "      <td>Qualcomm Snapdragon 660 AIE Processor</td>\n",
       "      <td>Octa Core</td>\n",
       "      <td>https://www.flipkart.com/redmi-note-9-pebble-g...</td>\n",
       "    </tr>\n",
       "    <tr>\n",
       "      <th>21</th>\n",
       "      <td>Mi Mobiles</td>\n",
       "      <td>Redmi Note 7S (Sapphire Blue, 32 GB)  (3 GB RAM)</td>\n",
       "      <td>₹14,999</td>\n",
       "      <td>3 GB RAM ,32 GB ROM ,Expandable Upto 256 GB</td>\n",
       "      <td>16.0 cm (6.3 inch) Full HD+ Display</td>\n",
       "      <td>2340 x 1080 Pixels</td>\n",
       "      <td>48MP + 5MP ,13MP Front Camera</td>\n",
       "      <td>4000 mAh Battery</td>\n",
       "      <td>Qualcomm Snapdragon 660 AIE Processor</td>\n",
       "      <td>Octa Core</td>\n",
       "      <td>https://www.flipkart.com/redmi-note-9-scarlet-...</td>\n",
       "    </tr>\n",
       "    <tr>\n",
       "      <th>22</th>\n",
       "      <td>Mi Mobiles</td>\n",
       "      <td>Redmi Note 7S (Onyx Black, 64 GB)  (4 GB RAM)</td>\n",
       "      <td>₹14,790</td>\n",
       "      <td>4 GB RAM ,64 GB ROM ,Expandable Upto 256 GB</td>\n",
       "      <td>16.0 cm (6.3 inch) Full HD+ Display</td>\n",
       "      <td>2340 x 1080 Pixels</td>\n",
       "      <td>48MP + 5MP ,13MP Front Camera</td>\n",
       "      <td>4000 mAh Battery</td>\n",
       "      <td>Qualcomm Snapdragon 660 AIE Processor</td>\n",
       "      <td>Octa Core</td>\n",
       "      <td>https://www.flipkart.com/redmi-note-9-aqua-gre...</td>\n",
       "    </tr>\n",
       "    <tr>\n",
       "      <th>23</th>\n",
       "      <td>Mi Mobiles</td>\n",
       "      <td>Redmi Note 7S (Ruby Red, 32 GB)  (3 GB RAM)</td>\n",
       "      <td>₹15,485</td>\n",
       "      <td>3 GB RAM ,32 GB ROM ,Expandable Upto 256 GB</td>\n",
       "      <td>16.0 cm (6.3 inch) Full HD+ Display</td>\n",
       "      <td>2340 x 1080 pixels</td>\n",
       "      <td>48MP + 5MP ,13MP Front Camera</td>\n",
       "      <td>4000 mAh Battery</td>\n",
       "      <td>Qualcomm Snapdragon 660 AIE Processor</td>\n",
       "      <td>Octa Core</td>\n",
       "      <td>https://www.flipkart.com/redmi-note-7-pro-moon...</td>\n",
       "    </tr>\n",
       "  </tbody>\n",
       "</table>\n",
       "</div>"
      ],
      "text/plain": [
       "       Brand_name                                   smart_phone_name    Price  \\\n",
       "0   REDMI Mobiles  REDMI Note 10S (Cosmic Purple, 128 GB)  (6 GB ...  ₹17,989   \n",
       "1   REDMI Mobiles   REDMI Note 10S (Shadow Black, 64 GB)  (6 GB RAM)  ₹15,178   \n",
       "2   REDMI Mobiles  REDMI Note 10S (Deep Sea Blue, 64 GB)  (6 GB RAM)  ₹15,399   \n",
       "3   REDMI Mobiles    REDMI Note 10S (Frost White, 64 GB)  (6 GB RAM)  ₹15,188   \n",
       "4   REDMI Mobiles   REDMI Note 10S (Frost White, 128 GB)  (6 GB RAM)  ₹17,799   \n",
       "5   REDMI Mobiles  REDMI Note 10S (Deep Sea Blue, 128 GB)  (6 GB ...  ₹17,799   \n",
       "6   REDMI Mobiles  REDMI Note 10S (Shadow Black, 128 GB)  (6 GB RAM)  ₹16,999   \n",
       "7   REDMI Mobiles  REDMI Note 10S (Cosmic Purple, 64 GB)  (6 GB RAM)  ₹16,999   \n",
       "8   REDMI Mobiles  REDMI Note 10S (Deep Sea Blue, 128 GB)  (8 GB ...  ₹16,999   \n",
       "9   REDMI Mobiles  REDMI Note 10S (Shadow Black, 128 GB)  (8 GB RAM)  ₹16,999   \n",
       "10  REDMI Mobiles   REDMI Note 10S (Frost White, 128 GB)  (8 GB RAM)  ₹16,999   \n",
       "11     Mi Mobiles  Redmi Note 7 Pro (Moonlight White, 128 GB)  (6...  ₹16,999   \n",
       "12     Mi Mobiles  Redmi Note 7S (Astro Moonlight White, 64 GB)  ...  ₹10,499   \n",
       "13     Mi Mobiles         Redmi Note 7 Pro (Blue, 64 GB)  (4 GB RAM)  ₹11,999   \n",
       "14     Mi Mobiles        Redmi Note 7S (Ruby Red, 64 GB)  (4 GB RAM)  ₹11,999   \n",
       "15     Mi Mobiles   Redmi Note 7S (Sapphire Blue, 64 GB)  (4 GB RAM)  ₹11,999   \n",
       "16     Mi Mobiles   Redmi Note 7 Pro (Nebula Red, 64 GB)  (4 GB RAM)  ₹18,290   \n",
       "17     Mi Mobiles  Redmi Note 7 Pro (Space Black, 64 GB)  (4 GB RAM)  ₹16,977   \n",
       "18     Mi Mobiles      Redmi Note 7S (Onyx Black, 64 GB)  (4 GB RAM)  ₹14,243   \n",
       "19     Mi Mobiles      Redmi Note 7S (Onyx Black, 32 GB)  (3 GB RAM)  ₹13,999   \n",
       "20     Mi Mobiles  Redmi Note 7S (Astro Moonlight White, 32 GB)  ...  ₹14,879   \n",
       "21     Mi Mobiles   Redmi Note 7S (Sapphire Blue, 32 GB)  (3 GB RAM)  ₹14,999   \n",
       "22     Mi Mobiles      Redmi Note 7S (Onyx Black, 64 GB)  (4 GB RAM)  ₹14,790   \n",
       "23     Mi Mobiles        Redmi Note 7S (Ruby Red, 32 GB)  (3 GB RAM)  ₹15,485   \n",
       "\n",
       "                                           Memry  \\\n",
       "0                           6 GB RAM ,128 GB ROM   \n",
       "1                            6 GB RAM ,64 GB ROM   \n",
       "2                            6 GB RAM ,64 GB ROM   \n",
       "3                            6 GB RAM ,64 GB ROM   \n",
       "4                           6 GB RAM ,128 GB ROM   \n",
       "5                           6 GB RAM ,128 GB ROM   \n",
       "6                           6 GB RAM ,128 GB ROM   \n",
       "7                            6 GB RAM ,64 GB ROM   \n",
       "8                           8 GB RAM ,128 GB ROM   \n",
       "9                           8 GB RAM ,128 GB ROM   \n",
       "10                          8 GB RAM ,128 GB ROM   \n",
       "11  6 GB RAM ,128 GB ROM ,Expandable Upto 256 GB   \n",
       "12   4 GB RAM ,64 GB ROM ,Expandable Upto 256 GB   \n",
       "13   4 GB RAM ,64 GB ROM ,Expandable Upto 256 GB   \n",
       "14   4 GB RAM ,64 GB ROM ,Expandable Upto 256 GB   \n",
       "15   4 GB RAM ,64 GB ROM ,Expandable Upto 256 GB   \n",
       "16   4 GB RAM ,64 GB ROM ,Expandable Upto 256 GB   \n",
       "17   4 GB RAM ,64 GB ROM ,Expandable Upto 256 GB   \n",
       "18                           4 GB RAM ,64 GB ROM   \n",
       "19   3 GB RAM ,32 GB ROM ,Expandable Upto 256 GB   \n",
       "20   3 GB RAM ,32 GB ROM ,Expandable Upto 256 GB   \n",
       "21   3 GB RAM ,32 GB ROM ,Expandable Upto 256 GB   \n",
       "22   4 GB RAM ,64 GB ROM ,Expandable Upto 256 GB   \n",
       "23   3 GB RAM ,32 GB ROM ,Expandable Upto 256 GB   \n",
       "\n",
       "                             Display_size  Display_resolution  \\\n",
       "0   16.33 cm (6.43 inch) Full HD+ Display  2400 x 1080 Pixels   \n",
       "1   16.33 cm (6.43 inch) Full HD+ Display  2400 x 1080 Pixels   \n",
       "2   16.33 cm (6.43 inch) Full HD+ Display  2400 x 1080 Pixels   \n",
       "3   16.33 cm (6.43 inch) Full HD+ Display  2400 x 1080 Pixels   \n",
       "4   16.33 cm (6.43 inch) Full HD+ Display  2400 x 1080 Pixels   \n",
       "5   16.33 cm (6.43 inch) Full HD+ Display  2400 x 1080 Pixels   \n",
       "6   16.33 cm (6.43 inch) Full HD+ Display  2400 x 1080 Pixels   \n",
       "7   16.33 cm (6.43 inch) Full HD+ Display  2400 x 1080 Pixels   \n",
       "8   16.33 cm (6.43 inch) Full HD+ Display  2400 x 1080 Pixels   \n",
       "9   16.33 cm (6.43 inch) Full HD+ Display  2400 x 1080 Pixels   \n",
       "10  16.33 cm (6.43 inch) Full HD+ Display  2400 x 1080 Pixels   \n",
       "11    16.0 cm (6.3 inch) Full HD+ Display  2400 x 1080 Pixels   \n",
       "12    16.0 cm (6.3 inch) Full HD+ Display  2340 x 1080 Pixels   \n",
       "13    16.0 cm (6.3 inch) Full HD+ Display  2340 x 1080 Pixels   \n",
       "14    16.0 cm (6.3 inch) Full HD+ Display  2340 x 1080 Pixels   \n",
       "15    16.0 cm (6.3 inch) Full HD+ Display  2340 x 1080 Pixels   \n",
       "16    16.0 cm (6.3 inch) Full HD+ Display  2400 x 1080 Pixels   \n",
       "17    16.0 cm (6.3 inch) Full HD+ Display  2340 x 1080 Pixels   \n",
       "18             16.0 cm (6.3 inch) Display  2340 x 1080 Pixels   \n",
       "19    16.0 cm (6.3 inch) Full HD+ Display  2340 x 1080 Pixels   \n",
       "20    16.0 cm (6.3 inch) Full HD+ Display  2340 x 1080 Pixels   \n",
       "21    16.0 cm (6.3 inch) Full HD+ Display  2340 x 1080 Pixels   \n",
       "22    16.0 cm (6.3 inch) Full HD+ Display  2340 x 1080 Pixels   \n",
       "23    16.0 cm (6.3 inch) Full HD+ Display  2340 x 1080 pixels   \n",
       "\n",
       "                                       Camera                      Battery  \\\n",
       "0   64MP + 8MP + 2MP + 2MP ,13MP Front Camera             5000 mAh Battery   \n",
       "1   64MP + 8MP + 2MP + 2MP ,13MP Front Camera             5000 mAh Battery   \n",
       "2   64MP + 8MP + 2MP + 2MP ,13MP Front Camera             5000 mAh Battery   \n",
       "3   64MP + 8MP + 2MP + 2MP ,13MP Front Camera             5000 mAh Battery   \n",
       "4   64MP + 8MP + 2MP + 2MP ,13MP Front Camera             5000 mAh Battery   \n",
       "5   64MP + 8MP + 2MP + 2MP ,13MP Front Camera             5000 mAh Battery   \n",
       "6   64MP + 8MP + 2MP + 2MP ,13MP Front Camera             5000 mAh Battery   \n",
       "7   64MP + 8MP + 2MP + 2MP ,13MP Front Camera             5000 mAh Battery   \n",
       "8   64MP + 8MP + 2MP + 2MP ,13MP Front Camera             5000 mAh Battery   \n",
       "9   64MP + 8MP + 2MP + 2MP ,13MP Front Camera             5000 mAh Battery   \n",
       "10  64MP + 8MP + 2MP + 2MP ,13MP Front Camera             5000 mAh Battery   \n",
       "11              48MP + 5MP ,13MP Front Camera  4000 mAh Li-polymer Battery   \n",
       "12              48MP + 5MP ,13MP Front Camera             4000 mAh Battery   \n",
       "13              48MP + 5MP ,13MP Front Camera  4000 mAh Li-polymer Battery   \n",
       "14              48MP + 5MP ,13MP Front Camera             4000 mAh Battery   \n",
       "15              48MP + 5MP ,13MP Front Camera             4000 mAh Battery   \n",
       "16              48MP + 5MP ,13MP Front Camera  4000 mAh Li-polymer Battery   \n",
       "17              48MP + 5MP ,13MP Front Camera  4000 mAh Li-polymer Battery   \n",
       "18                           48MP Rear Camera             4000 mAh Battery   \n",
       "19              48MP + 5MP ,13MP Front Camera             4000 mAh Battery   \n",
       "20              48MP + 5MP ,13MP Front Camera             4000 mAh Battery   \n",
       "21              48MP + 5MP ,13MP Front Camera             4000 mAh Battery   \n",
       "22              48MP + 5MP ,13MP Front Camera             4000 mAh Battery   \n",
       "23              48MP + 5MP ,13MP Front Camera             4000 mAh Battery   \n",
       "\n",
       "                                      Processor Processor_core  \\\n",
       "0                  MediaTek Helio G95 Processor      Octa Core   \n",
       "1                  MediaTek Helio G95 Processor      Octa Core   \n",
       "2                  MediaTek Helio G95 Processor      Octa Core   \n",
       "3                  MediaTek Helio G95 Processor      Octa Core   \n",
       "4                  MediaTek Helio G95 Processor      Octa Core   \n",
       "5                  MediaTek Helio G95 Processor      Octa Core   \n",
       "6                  MediaTek Helio G95 Processor      Octa Core   \n",
       "7                  MediaTek Helio G95 Processor      Octa Core   \n",
       "8                  MediaTek Helio G95 Processor      Octa Core   \n",
       "9                  MediaTek Helio G95 Processor      Octa Core   \n",
       "10                 MediaTek Helio G95 Processor      Octa Core   \n",
       "11            Qualcomm Snapdragon 675 Processor      Octa Core   \n",
       "12        Qualcomm Snapdragon 660 AIE Processor      Octa Core   \n",
       "13            Qualcomm Snapdragon 675 Processor      Octa Core   \n",
       "14        Qualcomm Snapdragon 660 AIE Processor      Octa Core   \n",
       "15        Qualcomm Snapdragon 660 AIE Processor      Octa Core   \n",
       "16            Qualcomm Snapdragon 675 Processor      Octa Core   \n",
       "17            Qualcomm Snapdragon 675 Processor      Octa Core   \n",
       "18  3 GB RAM ,32 GB ROM ,Expandable Upto 256 GB      Octa Core   \n",
       "19        Qualcomm Snapdragon 660 AIE Processor      Octa Core   \n",
       "20        Qualcomm Snapdragon 660 AIE Processor      Octa Core   \n",
       "21        Qualcomm Snapdragon 660 AIE Processor      Octa Core   \n",
       "22        Qualcomm Snapdragon 660 AIE Processor      Octa Core   \n",
       "23        Qualcomm Snapdragon 660 AIE Processor      Octa Core   \n",
       "\n",
       "                                          Product_url  \n",
       "0   https://www.flipkart.com/redmi-note-10-frost-w...  \n",
       "1   https://www.flipkart.com/redmi-note-10-aqua-gr...  \n",
       "2   https://www.flipkart.com/redmi-note-10-shadow-...  \n",
       "3   https://www.flipkart.com/redmi-note-10-frost-w...  \n",
       "4   https://www.flipkart.com/redmi-note-10-aqua-gr...  \n",
       "5   https://www.flipkart.com/redmi-note-10-shadow-...  \n",
       "6   https://www.flipkart.com/redmi-note-10-frost-w...  \n",
       "7   https://www.flipkart.com/redmi-note-10-frost-w...  \n",
       "8   https://www.flipkart.com/redmi-note-10-aqua-gr...  \n",
       "9   https://www.flipkart.com/redmi-note-10-aqua-gr...  \n",
       "10  https://www.flipkart.com/redmi-note-10-shadow-...  \n",
       "11  https://www.flipkart.com/redmi-note-10-shadow-...  \n",
       "12  https://www.flipkart.com/redmi-9-prime-matte-b...  \n",
       "13  https://www.flipkart.com/redmi-note-9-pebble-g...  \n",
       "14  https://www.flipkart.com/redmi-note-9-shadow-b...  \n",
       "15  https://www.flipkart.com/redmi-note-9-aqua-gre...  \n",
       "16  https://www.flipkart.com/redmi-note-10t-5g-gra...  \n",
       "17  https://www.flipkart.com/redmi-note-9-arctic-w...  \n",
       "18  https://www.flipkart.com/redmi-note-9-arctic-w...  \n",
       "19  https://www.flipkart.com/redmi-note-8-neptune-...  \n",
       "20  https://www.flipkart.com/redmi-note-9-pebble-g...  \n",
       "21  https://www.flipkart.com/redmi-note-9-scarlet-...  \n",
       "22  https://www.flipkart.com/redmi-note-9-aqua-gre...  \n",
       "23  https://www.flipkart.com/redmi-note-7-pro-moon...  "
      ]
     },
     "execution_count": 183,
     "metadata": {},
     "output_type": "execute_result"
    }
   ],
   "source": [
    "import pandas as pd\n",
    "df=pd.DataFrame({})\n",
    "df['Brand_name']=Brand_name1\n",
    "df['smart_phone_name']=smart_ph_name\n",
    "df['Price']=price\n",
    "df['Memry']=final_mem\n",
    "df['Display_size']=final_Display_Size\n",
    "df['Display_resolution']=res\n",
    "df['Camera']=front_cam\n",
    "df['Battery']=batt\n",
    "df['Camera']=front_cam\n",
    "df['Processor']=final_processor\n",
    "df['Processor_core']=pro_core\n",
    "df['Product_url']=urls\n",
    "df"
   ]
  },
  {
   "cell_type": "code",
   "execution_count": 184,
   "metadata": {},
   "outputs": [],
   "source": [
    "df.to_csv('Q4.csv')"
   ]
  },
  {
   "cell_type": "code",
   "execution_count": 185,
   "metadata": {},
   "outputs": [],
   "source": [
    "df=pd.read_csv('Q4.csv')"
   ]
  },
  {
   "cell_type": "code",
   "execution_count": 186,
   "metadata": {},
   "outputs": [
    {
     "data": {
      "text/html": [
       "<div>\n",
       "<style scoped>\n",
       "    .dataframe tbody tr th:only-of-type {\n",
       "        vertical-align: middle;\n",
       "    }\n",
       "\n",
       "    .dataframe tbody tr th {\n",
       "        vertical-align: top;\n",
       "    }\n",
       "\n",
       "    .dataframe thead th {\n",
       "        text-align: right;\n",
       "    }\n",
       "</style>\n",
       "<table border=\"1\" class=\"dataframe\">\n",
       "  <thead>\n",
       "    <tr style=\"text-align: right;\">\n",
       "      <th></th>\n",
       "      <th>Unnamed: 0</th>\n",
       "      <th>Brand_name</th>\n",
       "      <th>smart_phone_name</th>\n",
       "      <th>Price</th>\n",
       "      <th>Memry</th>\n",
       "      <th>Display_size</th>\n",
       "      <th>Display_resolution</th>\n",
       "      <th>Camera</th>\n",
       "      <th>Battery</th>\n",
       "      <th>Processor</th>\n",
       "      <th>Processor_core</th>\n",
       "      <th>Product_url</th>\n",
       "    </tr>\n",
       "  </thead>\n",
       "  <tbody>\n",
       "    <tr>\n",
       "      <th>0</th>\n",
       "      <td>0</td>\n",
       "      <td>REDMI Mobiles</td>\n",
       "      <td>REDMI Note 10S (Cosmic Purple, 128 GB)  (6 GB ...</td>\n",
       "      <td>₹17,989</td>\n",
       "      <td>6 GB RAM ,128 GB ROM</td>\n",
       "      <td>16.33 cm (6.43 inch) Full HD+ Display</td>\n",
       "      <td>2400 x 1080 Pixels</td>\n",
       "      <td>64MP + 8MP + 2MP + 2MP ,13MP Front Camera</td>\n",
       "      <td>5000 mAh Battery</td>\n",
       "      <td>MediaTek Helio G95 Processor</td>\n",
       "      <td>Octa Core</td>\n",
       "      <td>https://www.flipkart.com/redmi-note-10-frost-w...</td>\n",
       "    </tr>\n",
       "    <tr>\n",
       "      <th>1</th>\n",
       "      <td>1</td>\n",
       "      <td>REDMI Mobiles</td>\n",
       "      <td>REDMI Note 10S (Shadow Black, 64 GB)  (6 GB RAM)</td>\n",
       "      <td>₹15,178</td>\n",
       "      <td>6 GB RAM ,64 GB ROM</td>\n",
       "      <td>16.33 cm (6.43 inch) Full HD+ Display</td>\n",
       "      <td>2400 x 1080 Pixels</td>\n",
       "      <td>64MP + 8MP + 2MP + 2MP ,13MP Front Camera</td>\n",
       "      <td>5000 mAh Battery</td>\n",
       "      <td>MediaTek Helio G95 Processor</td>\n",
       "      <td>Octa Core</td>\n",
       "      <td>https://www.flipkart.com/redmi-note-10-aqua-gr...</td>\n",
       "    </tr>\n",
       "    <tr>\n",
       "      <th>2</th>\n",
       "      <td>2</td>\n",
       "      <td>REDMI Mobiles</td>\n",
       "      <td>REDMI Note 10S (Deep Sea Blue, 64 GB)  (6 GB RAM)</td>\n",
       "      <td>₹15,399</td>\n",
       "      <td>6 GB RAM ,64 GB ROM</td>\n",
       "      <td>16.33 cm (6.43 inch) Full HD+ Display</td>\n",
       "      <td>2400 x 1080 Pixels</td>\n",
       "      <td>64MP + 8MP + 2MP + 2MP ,13MP Front Camera</td>\n",
       "      <td>5000 mAh Battery</td>\n",
       "      <td>MediaTek Helio G95 Processor</td>\n",
       "      <td>Octa Core</td>\n",
       "      <td>https://www.flipkart.com/redmi-note-10-shadow-...</td>\n",
       "    </tr>\n",
       "    <tr>\n",
       "      <th>3</th>\n",
       "      <td>3</td>\n",
       "      <td>REDMI Mobiles</td>\n",
       "      <td>REDMI Note 10S (Frost White, 64 GB)  (6 GB RAM)</td>\n",
       "      <td>₹15,188</td>\n",
       "      <td>6 GB RAM ,64 GB ROM</td>\n",
       "      <td>16.33 cm (6.43 inch) Full HD+ Display</td>\n",
       "      <td>2400 x 1080 Pixels</td>\n",
       "      <td>64MP + 8MP + 2MP + 2MP ,13MP Front Camera</td>\n",
       "      <td>5000 mAh Battery</td>\n",
       "      <td>MediaTek Helio G95 Processor</td>\n",
       "      <td>Octa Core</td>\n",
       "      <td>https://www.flipkart.com/redmi-note-10-frost-w...</td>\n",
       "    </tr>\n",
       "    <tr>\n",
       "      <th>4</th>\n",
       "      <td>4</td>\n",
       "      <td>REDMI Mobiles</td>\n",
       "      <td>REDMI Note 10S (Frost White, 128 GB)  (6 GB RAM)</td>\n",
       "      <td>₹17,799</td>\n",
       "      <td>6 GB RAM ,128 GB ROM</td>\n",
       "      <td>16.33 cm (6.43 inch) Full HD+ Display</td>\n",
       "      <td>2400 x 1080 Pixels</td>\n",
       "      <td>64MP + 8MP + 2MP + 2MP ,13MP Front Camera</td>\n",
       "      <td>5000 mAh Battery</td>\n",
       "      <td>MediaTek Helio G95 Processor</td>\n",
       "      <td>Octa Core</td>\n",
       "      <td>https://www.flipkart.com/redmi-note-10-aqua-gr...</td>\n",
       "    </tr>\n",
       "    <tr>\n",
       "      <th>5</th>\n",
       "      <td>5</td>\n",
       "      <td>REDMI Mobiles</td>\n",
       "      <td>REDMI Note 10S (Deep Sea Blue, 128 GB)  (6 GB ...</td>\n",
       "      <td>₹17,799</td>\n",
       "      <td>6 GB RAM ,128 GB ROM</td>\n",
       "      <td>16.33 cm (6.43 inch) Full HD+ Display</td>\n",
       "      <td>2400 x 1080 Pixels</td>\n",
       "      <td>64MP + 8MP + 2MP + 2MP ,13MP Front Camera</td>\n",
       "      <td>5000 mAh Battery</td>\n",
       "      <td>MediaTek Helio G95 Processor</td>\n",
       "      <td>Octa Core</td>\n",
       "      <td>https://www.flipkart.com/redmi-note-10-shadow-...</td>\n",
       "    </tr>\n",
       "    <tr>\n",
       "      <th>6</th>\n",
       "      <td>6</td>\n",
       "      <td>REDMI Mobiles</td>\n",
       "      <td>REDMI Note 10S (Shadow Black, 128 GB)  (6 GB RAM)</td>\n",
       "      <td>₹16,999</td>\n",
       "      <td>6 GB RAM ,128 GB ROM</td>\n",
       "      <td>16.33 cm (6.43 inch) Full HD+ Display</td>\n",
       "      <td>2400 x 1080 Pixels</td>\n",
       "      <td>64MP + 8MP + 2MP + 2MP ,13MP Front Camera</td>\n",
       "      <td>5000 mAh Battery</td>\n",
       "      <td>MediaTek Helio G95 Processor</td>\n",
       "      <td>Octa Core</td>\n",
       "      <td>https://www.flipkart.com/redmi-note-10-frost-w...</td>\n",
       "    </tr>\n",
       "    <tr>\n",
       "      <th>7</th>\n",
       "      <td>7</td>\n",
       "      <td>REDMI Mobiles</td>\n",
       "      <td>REDMI Note 10S (Cosmic Purple, 64 GB)  (6 GB RAM)</td>\n",
       "      <td>₹16,999</td>\n",
       "      <td>6 GB RAM ,64 GB ROM</td>\n",
       "      <td>16.33 cm (6.43 inch) Full HD+ Display</td>\n",
       "      <td>2400 x 1080 Pixels</td>\n",
       "      <td>64MP + 8MP + 2MP + 2MP ,13MP Front Camera</td>\n",
       "      <td>5000 mAh Battery</td>\n",
       "      <td>MediaTek Helio G95 Processor</td>\n",
       "      <td>Octa Core</td>\n",
       "      <td>https://www.flipkart.com/redmi-note-10-frost-w...</td>\n",
       "    </tr>\n",
       "    <tr>\n",
       "      <th>8</th>\n",
       "      <td>8</td>\n",
       "      <td>REDMI Mobiles</td>\n",
       "      <td>REDMI Note 10S (Deep Sea Blue, 128 GB)  (8 GB ...</td>\n",
       "      <td>₹16,999</td>\n",
       "      <td>8 GB RAM ,128 GB ROM</td>\n",
       "      <td>16.33 cm (6.43 inch) Full HD+ Display</td>\n",
       "      <td>2400 x 1080 Pixels</td>\n",
       "      <td>64MP + 8MP + 2MP + 2MP ,13MP Front Camera</td>\n",
       "      <td>5000 mAh Battery</td>\n",
       "      <td>MediaTek Helio G95 Processor</td>\n",
       "      <td>Octa Core</td>\n",
       "      <td>https://www.flipkart.com/redmi-note-10-aqua-gr...</td>\n",
       "    </tr>\n",
       "    <tr>\n",
       "      <th>9</th>\n",
       "      <td>9</td>\n",
       "      <td>REDMI Mobiles</td>\n",
       "      <td>REDMI Note 10S (Shadow Black, 128 GB)  (8 GB RAM)</td>\n",
       "      <td>₹16,999</td>\n",
       "      <td>8 GB RAM ,128 GB ROM</td>\n",
       "      <td>16.33 cm (6.43 inch) Full HD+ Display</td>\n",
       "      <td>2400 x 1080 Pixels</td>\n",
       "      <td>64MP + 8MP + 2MP + 2MP ,13MP Front Camera</td>\n",
       "      <td>5000 mAh Battery</td>\n",
       "      <td>MediaTek Helio G95 Processor</td>\n",
       "      <td>Octa Core</td>\n",
       "      <td>https://www.flipkart.com/redmi-note-10-aqua-gr...</td>\n",
       "    </tr>\n",
       "    <tr>\n",
       "      <th>10</th>\n",
       "      <td>10</td>\n",
       "      <td>REDMI Mobiles</td>\n",
       "      <td>REDMI Note 10S (Frost White, 128 GB)  (8 GB RAM)</td>\n",
       "      <td>₹16,999</td>\n",
       "      <td>8 GB RAM ,128 GB ROM</td>\n",
       "      <td>16.33 cm (6.43 inch) Full HD+ Display</td>\n",
       "      <td>2400 x 1080 Pixels</td>\n",
       "      <td>64MP + 8MP + 2MP + 2MP ,13MP Front Camera</td>\n",
       "      <td>5000 mAh Battery</td>\n",
       "      <td>MediaTek Helio G95 Processor</td>\n",
       "      <td>Octa Core</td>\n",
       "      <td>https://www.flipkart.com/redmi-note-10-shadow-...</td>\n",
       "    </tr>\n",
       "    <tr>\n",
       "      <th>11</th>\n",
       "      <td>11</td>\n",
       "      <td>Mi Mobiles</td>\n",
       "      <td>Redmi Note 7 Pro (Moonlight White, 128 GB)  (6...</td>\n",
       "      <td>₹16,999</td>\n",
       "      <td>6 GB RAM ,128 GB ROM ,Expandable Upto 256 GB</td>\n",
       "      <td>16.0 cm (6.3 inch) Full HD+ Display</td>\n",
       "      <td>2400 x 1080 Pixels</td>\n",
       "      <td>48MP + 5MP ,13MP Front Camera</td>\n",
       "      <td>4000 mAh Li-polymer Battery</td>\n",
       "      <td>Qualcomm Snapdragon 675 Processor</td>\n",
       "      <td>Octa Core</td>\n",
       "      <td>https://www.flipkart.com/redmi-note-10-shadow-...</td>\n",
       "    </tr>\n",
       "    <tr>\n",
       "      <th>12</th>\n",
       "      <td>12</td>\n",
       "      <td>Mi Mobiles</td>\n",
       "      <td>Redmi Note 7S (Astro Moonlight White, 64 GB)  ...</td>\n",
       "      <td>₹10,499</td>\n",
       "      <td>4 GB RAM ,64 GB ROM ,Expandable Upto 256 GB</td>\n",
       "      <td>16.0 cm (6.3 inch) Full HD+ Display</td>\n",
       "      <td>2340 x 1080 Pixels</td>\n",
       "      <td>48MP + 5MP ,13MP Front Camera</td>\n",
       "      <td>4000 mAh Battery</td>\n",
       "      <td>Qualcomm Snapdragon 660 AIE Processor</td>\n",
       "      <td>Octa Core</td>\n",
       "      <td>https://www.flipkart.com/redmi-9-prime-matte-b...</td>\n",
       "    </tr>\n",
       "    <tr>\n",
       "      <th>13</th>\n",
       "      <td>13</td>\n",
       "      <td>Mi Mobiles</td>\n",
       "      <td>Redmi Note 7 Pro (Blue, 64 GB)  (4 GB RAM)</td>\n",
       "      <td>₹11,999</td>\n",
       "      <td>4 GB RAM ,64 GB ROM ,Expandable Upto 256 GB</td>\n",
       "      <td>16.0 cm (6.3 inch) Full HD+ Display</td>\n",
       "      <td>2340 x 1080 Pixels</td>\n",
       "      <td>48MP + 5MP ,13MP Front Camera</td>\n",
       "      <td>4000 mAh Li-polymer Battery</td>\n",
       "      <td>Qualcomm Snapdragon 675 Processor</td>\n",
       "      <td>Octa Core</td>\n",
       "      <td>https://www.flipkart.com/redmi-note-9-pebble-g...</td>\n",
       "    </tr>\n",
       "    <tr>\n",
       "      <th>14</th>\n",
       "      <td>14</td>\n",
       "      <td>Mi Mobiles</td>\n",
       "      <td>Redmi Note 7S (Ruby Red, 64 GB)  (4 GB RAM)</td>\n",
       "      <td>₹11,999</td>\n",
       "      <td>4 GB RAM ,64 GB ROM ,Expandable Upto 256 GB</td>\n",
       "      <td>16.0 cm (6.3 inch) Full HD+ Display</td>\n",
       "      <td>2340 x 1080 Pixels</td>\n",
       "      <td>48MP + 5MP ,13MP Front Camera</td>\n",
       "      <td>4000 mAh Battery</td>\n",
       "      <td>Qualcomm Snapdragon 660 AIE Processor</td>\n",
       "      <td>Octa Core</td>\n",
       "      <td>https://www.flipkart.com/redmi-note-9-shadow-b...</td>\n",
       "    </tr>\n",
       "    <tr>\n",
       "      <th>15</th>\n",
       "      <td>15</td>\n",
       "      <td>Mi Mobiles</td>\n",
       "      <td>Redmi Note 7S (Sapphire Blue, 64 GB)  (4 GB RAM)</td>\n",
       "      <td>₹11,999</td>\n",
       "      <td>4 GB RAM ,64 GB ROM ,Expandable Upto 256 GB</td>\n",
       "      <td>16.0 cm (6.3 inch) Full HD+ Display</td>\n",
       "      <td>2340 x 1080 Pixels</td>\n",
       "      <td>48MP + 5MP ,13MP Front Camera</td>\n",
       "      <td>4000 mAh Battery</td>\n",
       "      <td>Qualcomm Snapdragon 660 AIE Processor</td>\n",
       "      <td>Octa Core</td>\n",
       "      <td>https://www.flipkart.com/redmi-note-9-aqua-gre...</td>\n",
       "    </tr>\n",
       "    <tr>\n",
       "      <th>16</th>\n",
       "      <td>16</td>\n",
       "      <td>Mi Mobiles</td>\n",
       "      <td>Redmi Note 7 Pro (Nebula Red, 64 GB)  (4 GB RAM)</td>\n",
       "      <td>₹18,290</td>\n",
       "      <td>4 GB RAM ,64 GB ROM ,Expandable Upto 256 GB</td>\n",
       "      <td>16.0 cm (6.3 inch) Full HD+ Display</td>\n",
       "      <td>2400 x 1080 Pixels</td>\n",
       "      <td>48MP + 5MP ,13MP Front Camera</td>\n",
       "      <td>4000 mAh Li-polymer Battery</td>\n",
       "      <td>Qualcomm Snapdragon 675 Processor</td>\n",
       "      <td>Octa Core</td>\n",
       "      <td>https://www.flipkart.com/redmi-note-10t-5g-gra...</td>\n",
       "    </tr>\n",
       "    <tr>\n",
       "      <th>17</th>\n",
       "      <td>17</td>\n",
       "      <td>Mi Mobiles</td>\n",
       "      <td>Redmi Note 7 Pro (Space Black, 64 GB)  (4 GB RAM)</td>\n",
       "      <td>₹16,977</td>\n",
       "      <td>4 GB RAM ,64 GB ROM ,Expandable Upto 256 GB</td>\n",
       "      <td>16.0 cm (6.3 inch) Full HD+ Display</td>\n",
       "      <td>2340 x 1080 Pixels</td>\n",
       "      <td>48MP + 5MP ,13MP Front Camera</td>\n",
       "      <td>4000 mAh Li-polymer Battery</td>\n",
       "      <td>Qualcomm Snapdragon 675 Processor</td>\n",
       "      <td>Octa Core</td>\n",
       "      <td>https://www.flipkart.com/redmi-note-9-arctic-w...</td>\n",
       "    </tr>\n",
       "    <tr>\n",
       "      <th>18</th>\n",
       "      <td>18</td>\n",
       "      <td>Mi Mobiles</td>\n",
       "      <td>Redmi Note 7S (Onyx Black, 64 GB)  (4 GB RAM)</td>\n",
       "      <td>₹14,243</td>\n",
       "      <td>4 GB RAM ,64 GB ROM</td>\n",
       "      <td>16.0 cm (6.3 inch) Display</td>\n",
       "      <td>2340 x 1080 Pixels</td>\n",
       "      <td>48MP Rear Camera</td>\n",
       "      <td>4000 mAh Battery</td>\n",
       "      <td>3 GB RAM ,32 GB ROM ,Expandable Upto 256 GB</td>\n",
       "      <td>Octa Core</td>\n",
       "      <td>https://www.flipkart.com/redmi-note-9-arctic-w...</td>\n",
       "    </tr>\n",
       "    <tr>\n",
       "      <th>19</th>\n",
       "      <td>19</td>\n",
       "      <td>Mi Mobiles</td>\n",
       "      <td>Redmi Note 7S (Onyx Black, 32 GB)  (3 GB RAM)</td>\n",
       "      <td>₹13,999</td>\n",
       "      <td>3 GB RAM ,32 GB ROM ,Expandable Upto 256 GB</td>\n",
       "      <td>16.0 cm (6.3 inch) Full HD+ Display</td>\n",
       "      <td>2340 x 1080 Pixels</td>\n",
       "      <td>48MP + 5MP ,13MP Front Camera</td>\n",
       "      <td>4000 mAh Battery</td>\n",
       "      <td>Qualcomm Snapdragon 660 AIE Processor</td>\n",
       "      <td>Octa Core</td>\n",
       "      <td>https://www.flipkart.com/redmi-note-8-neptune-...</td>\n",
       "    </tr>\n",
       "    <tr>\n",
       "      <th>20</th>\n",
       "      <td>20</td>\n",
       "      <td>Mi Mobiles</td>\n",
       "      <td>Redmi Note 7S (Astro Moonlight White, 32 GB)  ...</td>\n",
       "      <td>₹14,879</td>\n",
       "      <td>3 GB RAM ,32 GB ROM ,Expandable Upto 256 GB</td>\n",
       "      <td>16.0 cm (6.3 inch) Full HD+ Display</td>\n",
       "      <td>2340 x 1080 Pixels</td>\n",
       "      <td>48MP + 5MP ,13MP Front Camera</td>\n",
       "      <td>4000 mAh Battery</td>\n",
       "      <td>Qualcomm Snapdragon 660 AIE Processor</td>\n",
       "      <td>Octa Core</td>\n",
       "      <td>https://www.flipkart.com/redmi-note-9-pebble-g...</td>\n",
       "    </tr>\n",
       "    <tr>\n",
       "      <th>21</th>\n",
       "      <td>21</td>\n",
       "      <td>Mi Mobiles</td>\n",
       "      <td>Redmi Note 7S (Sapphire Blue, 32 GB)  (3 GB RAM)</td>\n",
       "      <td>₹14,999</td>\n",
       "      <td>3 GB RAM ,32 GB ROM ,Expandable Upto 256 GB</td>\n",
       "      <td>16.0 cm (6.3 inch) Full HD+ Display</td>\n",
       "      <td>2340 x 1080 Pixels</td>\n",
       "      <td>48MP + 5MP ,13MP Front Camera</td>\n",
       "      <td>4000 mAh Battery</td>\n",
       "      <td>Qualcomm Snapdragon 660 AIE Processor</td>\n",
       "      <td>Octa Core</td>\n",
       "      <td>https://www.flipkart.com/redmi-note-9-scarlet-...</td>\n",
       "    </tr>\n",
       "    <tr>\n",
       "      <th>22</th>\n",
       "      <td>22</td>\n",
       "      <td>Mi Mobiles</td>\n",
       "      <td>Redmi Note 7S (Onyx Black, 64 GB)  (4 GB RAM)</td>\n",
       "      <td>₹14,790</td>\n",
       "      <td>4 GB RAM ,64 GB ROM ,Expandable Upto 256 GB</td>\n",
       "      <td>16.0 cm (6.3 inch) Full HD+ Display</td>\n",
       "      <td>2340 x 1080 Pixels</td>\n",
       "      <td>48MP + 5MP ,13MP Front Camera</td>\n",
       "      <td>4000 mAh Battery</td>\n",
       "      <td>Qualcomm Snapdragon 660 AIE Processor</td>\n",
       "      <td>Octa Core</td>\n",
       "      <td>https://www.flipkart.com/redmi-note-9-aqua-gre...</td>\n",
       "    </tr>\n",
       "    <tr>\n",
       "      <th>23</th>\n",
       "      <td>23</td>\n",
       "      <td>Mi Mobiles</td>\n",
       "      <td>Redmi Note 7S (Ruby Red, 32 GB)  (3 GB RAM)</td>\n",
       "      <td>₹15,485</td>\n",
       "      <td>3 GB RAM ,32 GB ROM ,Expandable Upto 256 GB</td>\n",
       "      <td>16.0 cm (6.3 inch) Full HD+ Display</td>\n",
       "      <td>2340 x 1080 pixels</td>\n",
       "      <td>48MP + 5MP ,13MP Front Camera</td>\n",
       "      <td>4000 mAh Battery</td>\n",
       "      <td>Qualcomm Snapdragon 660 AIE Processor</td>\n",
       "      <td>Octa Core</td>\n",
       "      <td>https://www.flipkart.com/redmi-note-7-pro-moon...</td>\n",
       "    </tr>\n",
       "  </tbody>\n",
       "</table>\n",
       "</div>"
      ],
      "text/plain": [
       "    Unnamed: 0     Brand_name  \\\n",
       "0            0  REDMI Mobiles   \n",
       "1            1  REDMI Mobiles   \n",
       "2            2  REDMI Mobiles   \n",
       "3            3  REDMI Mobiles   \n",
       "4            4  REDMI Mobiles   \n",
       "5            5  REDMI Mobiles   \n",
       "6            6  REDMI Mobiles   \n",
       "7            7  REDMI Mobiles   \n",
       "8            8  REDMI Mobiles   \n",
       "9            9  REDMI Mobiles   \n",
       "10          10  REDMI Mobiles   \n",
       "11          11     Mi Mobiles   \n",
       "12          12     Mi Mobiles   \n",
       "13          13     Mi Mobiles   \n",
       "14          14     Mi Mobiles   \n",
       "15          15     Mi Mobiles   \n",
       "16          16     Mi Mobiles   \n",
       "17          17     Mi Mobiles   \n",
       "18          18     Mi Mobiles   \n",
       "19          19     Mi Mobiles   \n",
       "20          20     Mi Mobiles   \n",
       "21          21     Mi Mobiles   \n",
       "22          22     Mi Mobiles   \n",
       "23          23     Mi Mobiles   \n",
       "\n",
       "                                     smart_phone_name    Price  \\\n",
       "0   REDMI Note 10S (Cosmic Purple, 128 GB)  (6 GB ...  ₹17,989   \n",
       "1    REDMI Note 10S (Shadow Black, 64 GB)  (6 GB RAM)  ₹15,178   \n",
       "2   REDMI Note 10S (Deep Sea Blue, 64 GB)  (6 GB RAM)  ₹15,399   \n",
       "3     REDMI Note 10S (Frost White, 64 GB)  (6 GB RAM)  ₹15,188   \n",
       "4    REDMI Note 10S (Frost White, 128 GB)  (6 GB RAM)  ₹17,799   \n",
       "5   REDMI Note 10S (Deep Sea Blue, 128 GB)  (6 GB ...  ₹17,799   \n",
       "6   REDMI Note 10S (Shadow Black, 128 GB)  (6 GB RAM)  ₹16,999   \n",
       "7   REDMI Note 10S (Cosmic Purple, 64 GB)  (6 GB RAM)  ₹16,999   \n",
       "8   REDMI Note 10S (Deep Sea Blue, 128 GB)  (8 GB ...  ₹16,999   \n",
       "9   REDMI Note 10S (Shadow Black, 128 GB)  (8 GB RAM)  ₹16,999   \n",
       "10   REDMI Note 10S (Frost White, 128 GB)  (8 GB RAM)  ₹16,999   \n",
       "11  Redmi Note 7 Pro (Moonlight White, 128 GB)  (6...  ₹16,999   \n",
       "12  Redmi Note 7S (Astro Moonlight White, 64 GB)  ...  ₹10,499   \n",
       "13         Redmi Note 7 Pro (Blue, 64 GB)  (4 GB RAM)  ₹11,999   \n",
       "14        Redmi Note 7S (Ruby Red, 64 GB)  (4 GB RAM)  ₹11,999   \n",
       "15   Redmi Note 7S (Sapphire Blue, 64 GB)  (4 GB RAM)  ₹11,999   \n",
       "16   Redmi Note 7 Pro (Nebula Red, 64 GB)  (4 GB RAM)  ₹18,290   \n",
       "17  Redmi Note 7 Pro (Space Black, 64 GB)  (4 GB RAM)  ₹16,977   \n",
       "18      Redmi Note 7S (Onyx Black, 64 GB)  (4 GB RAM)  ₹14,243   \n",
       "19      Redmi Note 7S (Onyx Black, 32 GB)  (3 GB RAM)  ₹13,999   \n",
       "20  Redmi Note 7S (Astro Moonlight White, 32 GB)  ...  ₹14,879   \n",
       "21   Redmi Note 7S (Sapphire Blue, 32 GB)  (3 GB RAM)  ₹14,999   \n",
       "22      Redmi Note 7S (Onyx Black, 64 GB)  (4 GB RAM)  ₹14,790   \n",
       "23        Redmi Note 7S (Ruby Red, 32 GB)  (3 GB RAM)  ₹15,485   \n",
       "\n",
       "                                           Memry  \\\n",
       "0                           6 GB RAM ,128 GB ROM   \n",
       "1                            6 GB RAM ,64 GB ROM   \n",
       "2                            6 GB RAM ,64 GB ROM   \n",
       "3                            6 GB RAM ,64 GB ROM   \n",
       "4                           6 GB RAM ,128 GB ROM   \n",
       "5                           6 GB RAM ,128 GB ROM   \n",
       "6                           6 GB RAM ,128 GB ROM   \n",
       "7                            6 GB RAM ,64 GB ROM   \n",
       "8                           8 GB RAM ,128 GB ROM   \n",
       "9                           8 GB RAM ,128 GB ROM   \n",
       "10                          8 GB RAM ,128 GB ROM   \n",
       "11  6 GB RAM ,128 GB ROM ,Expandable Upto 256 GB   \n",
       "12   4 GB RAM ,64 GB ROM ,Expandable Upto 256 GB   \n",
       "13   4 GB RAM ,64 GB ROM ,Expandable Upto 256 GB   \n",
       "14   4 GB RAM ,64 GB ROM ,Expandable Upto 256 GB   \n",
       "15   4 GB RAM ,64 GB ROM ,Expandable Upto 256 GB   \n",
       "16   4 GB RAM ,64 GB ROM ,Expandable Upto 256 GB   \n",
       "17   4 GB RAM ,64 GB ROM ,Expandable Upto 256 GB   \n",
       "18                           4 GB RAM ,64 GB ROM   \n",
       "19   3 GB RAM ,32 GB ROM ,Expandable Upto 256 GB   \n",
       "20   3 GB RAM ,32 GB ROM ,Expandable Upto 256 GB   \n",
       "21   3 GB RAM ,32 GB ROM ,Expandable Upto 256 GB   \n",
       "22   4 GB RAM ,64 GB ROM ,Expandable Upto 256 GB   \n",
       "23   3 GB RAM ,32 GB ROM ,Expandable Upto 256 GB   \n",
       "\n",
       "                             Display_size  Display_resolution  \\\n",
       "0   16.33 cm (6.43 inch) Full HD+ Display  2400 x 1080 Pixels   \n",
       "1   16.33 cm (6.43 inch) Full HD+ Display  2400 x 1080 Pixels   \n",
       "2   16.33 cm (6.43 inch) Full HD+ Display  2400 x 1080 Pixels   \n",
       "3   16.33 cm (6.43 inch) Full HD+ Display  2400 x 1080 Pixels   \n",
       "4   16.33 cm (6.43 inch) Full HD+ Display  2400 x 1080 Pixels   \n",
       "5   16.33 cm (6.43 inch) Full HD+ Display  2400 x 1080 Pixels   \n",
       "6   16.33 cm (6.43 inch) Full HD+ Display  2400 x 1080 Pixels   \n",
       "7   16.33 cm (6.43 inch) Full HD+ Display  2400 x 1080 Pixels   \n",
       "8   16.33 cm (6.43 inch) Full HD+ Display  2400 x 1080 Pixels   \n",
       "9   16.33 cm (6.43 inch) Full HD+ Display  2400 x 1080 Pixels   \n",
       "10  16.33 cm (6.43 inch) Full HD+ Display  2400 x 1080 Pixels   \n",
       "11    16.0 cm (6.3 inch) Full HD+ Display  2400 x 1080 Pixels   \n",
       "12    16.0 cm (6.3 inch) Full HD+ Display  2340 x 1080 Pixels   \n",
       "13    16.0 cm (6.3 inch) Full HD+ Display  2340 x 1080 Pixels   \n",
       "14    16.0 cm (6.3 inch) Full HD+ Display  2340 x 1080 Pixels   \n",
       "15    16.0 cm (6.3 inch) Full HD+ Display  2340 x 1080 Pixels   \n",
       "16    16.0 cm (6.3 inch) Full HD+ Display  2400 x 1080 Pixels   \n",
       "17    16.0 cm (6.3 inch) Full HD+ Display  2340 x 1080 Pixels   \n",
       "18             16.0 cm (6.3 inch) Display  2340 x 1080 Pixels   \n",
       "19    16.0 cm (6.3 inch) Full HD+ Display  2340 x 1080 Pixels   \n",
       "20    16.0 cm (6.3 inch) Full HD+ Display  2340 x 1080 Pixels   \n",
       "21    16.0 cm (6.3 inch) Full HD+ Display  2340 x 1080 Pixels   \n",
       "22    16.0 cm (6.3 inch) Full HD+ Display  2340 x 1080 Pixels   \n",
       "23    16.0 cm (6.3 inch) Full HD+ Display  2340 x 1080 pixels   \n",
       "\n",
       "                                       Camera                      Battery  \\\n",
       "0   64MP + 8MP + 2MP + 2MP ,13MP Front Camera             5000 mAh Battery   \n",
       "1   64MP + 8MP + 2MP + 2MP ,13MP Front Camera             5000 mAh Battery   \n",
       "2   64MP + 8MP + 2MP + 2MP ,13MP Front Camera             5000 mAh Battery   \n",
       "3   64MP + 8MP + 2MP + 2MP ,13MP Front Camera             5000 mAh Battery   \n",
       "4   64MP + 8MP + 2MP + 2MP ,13MP Front Camera             5000 mAh Battery   \n",
       "5   64MP + 8MP + 2MP + 2MP ,13MP Front Camera             5000 mAh Battery   \n",
       "6   64MP + 8MP + 2MP + 2MP ,13MP Front Camera             5000 mAh Battery   \n",
       "7   64MP + 8MP + 2MP + 2MP ,13MP Front Camera             5000 mAh Battery   \n",
       "8   64MP + 8MP + 2MP + 2MP ,13MP Front Camera             5000 mAh Battery   \n",
       "9   64MP + 8MP + 2MP + 2MP ,13MP Front Camera             5000 mAh Battery   \n",
       "10  64MP + 8MP + 2MP + 2MP ,13MP Front Camera             5000 mAh Battery   \n",
       "11              48MP + 5MP ,13MP Front Camera  4000 mAh Li-polymer Battery   \n",
       "12              48MP + 5MP ,13MP Front Camera             4000 mAh Battery   \n",
       "13              48MP + 5MP ,13MP Front Camera  4000 mAh Li-polymer Battery   \n",
       "14              48MP + 5MP ,13MP Front Camera             4000 mAh Battery   \n",
       "15              48MP + 5MP ,13MP Front Camera             4000 mAh Battery   \n",
       "16              48MP + 5MP ,13MP Front Camera  4000 mAh Li-polymer Battery   \n",
       "17              48MP + 5MP ,13MP Front Camera  4000 mAh Li-polymer Battery   \n",
       "18                           48MP Rear Camera             4000 mAh Battery   \n",
       "19              48MP + 5MP ,13MP Front Camera             4000 mAh Battery   \n",
       "20              48MP + 5MP ,13MP Front Camera             4000 mAh Battery   \n",
       "21              48MP + 5MP ,13MP Front Camera             4000 mAh Battery   \n",
       "22              48MP + 5MP ,13MP Front Camera             4000 mAh Battery   \n",
       "23              48MP + 5MP ,13MP Front Camera             4000 mAh Battery   \n",
       "\n",
       "                                      Processor Processor_core  \\\n",
       "0                  MediaTek Helio G95 Processor      Octa Core   \n",
       "1                  MediaTek Helio G95 Processor      Octa Core   \n",
       "2                  MediaTek Helio G95 Processor      Octa Core   \n",
       "3                  MediaTek Helio G95 Processor      Octa Core   \n",
       "4                  MediaTek Helio G95 Processor      Octa Core   \n",
       "5                  MediaTek Helio G95 Processor      Octa Core   \n",
       "6                  MediaTek Helio G95 Processor      Octa Core   \n",
       "7                  MediaTek Helio G95 Processor      Octa Core   \n",
       "8                  MediaTek Helio G95 Processor      Octa Core   \n",
       "9                  MediaTek Helio G95 Processor      Octa Core   \n",
       "10                 MediaTek Helio G95 Processor      Octa Core   \n",
       "11            Qualcomm Snapdragon 675 Processor      Octa Core   \n",
       "12        Qualcomm Snapdragon 660 AIE Processor      Octa Core   \n",
       "13            Qualcomm Snapdragon 675 Processor      Octa Core   \n",
       "14        Qualcomm Snapdragon 660 AIE Processor      Octa Core   \n",
       "15        Qualcomm Snapdragon 660 AIE Processor      Octa Core   \n",
       "16            Qualcomm Snapdragon 675 Processor      Octa Core   \n",
       "17            Qualcomm Snapdragon 675 Processor      Octa Core   \n",
       "18  3 GB RAM ,32 GB ROM ,Expandable Upto 256 GB      Octa Core   \n",
       "19        Qualcomm Snapdragon 660 AIE Processor      Octa Core   \n",
       "20        Qualcomm Snapdragon 660 AIE Processor      Octa Core   \n",
       "21        Qualcomm Snapdragon 660 AIE Processor      Octa Core   \n",
       "22        Qualcomm Snapdragon 660 AIE Processor      Octa Core   \n",
       "23        Qualcomm Snapdragon 660 AIE Processor      Octa Core   \n",
       "\n",
       "                                          Product_url  \n",
       "0   https://www.flipkart.com/redmi-note-10-frost-w...  \n",
       "1   https://www.flipkart.com/redmi-note-10-aqua-gr...  \n",
       "2   https://www.flipkart.com/redmi-note-10-shadow-...  \n",
       "3   https://www.flipkart.com/redmi-note-10-frost-w...  \n",
       "4   https://www.flipkart.com/redmi-note-10-aqua-gr...  \n",
       "5   https://www.flipkart.com/redmi-note-10-shadow-...  \n",
       "6   https://www.flipkart.com/redmi-note-10-frost-w...  \n",
       "7   https://www.flipkart.com/redmi-note-10-frost-w...  \n",
       "8   https://www.flipkart.com/redmi-note-10-aqua-gr...  \n",
       "9   https://www.flipkart.com/redmi-note-10-aqua-gr...  \n",
       "10  https://www.flipkart.com/redmi-note-10-shadow-...  \n",
       "11  https://www.flipkart.com/redmi-note-10-shadow-...  \n",
       "12  https://www.flipkart.com/redmi-9-prime-matte-b...  \n",
       "13  https://www.flipkart.com/redmi-note-9-pebble-g...  \n",
       "14  https://www.flipkart.com/redmi-note-9-shadow-b...  \n",
       "15  https://www.flipkart.com/redmi-note-9-aqua-gre...  \n",
       "16  https://www.flipkart.com/redmi-note-10t-5g-gra...  \n",
       "17  https://www.flipkart.com/redmi-note-9-arctic-w...  \n",
       "18  https://www.flipkart.com/redmi-note-9-arctic-w...  \n",
       "19  https://www.flipkart.com/redmi-note-8-neptune-...  \n",
       "20  https://www.flipkart.com/redmi-note-9-pebble-g...  \n",
       "21  https://www.flipkart.com/redmi-note-9-scarlet-...  \n",
       "22  https://www.flipkart.com/redmi-note-9-aqua-gre...  \n",
       "23  https://www.flipkart.com/redmi-note-7-pro-moon...  "
      ]
     },
     "execution_count": 186,
     "metadata": {},
     "output_type": "execute_result"
    }
   ],
   "source": [
    "df"
   ]
  },
  {
   "cell_type": "markdown",
   "metadata": {},
   "source": [
    "# 5. Write a program to scrap geospatial coordinates (latitude, longitude) of a city searched on google maps."
   ]
  },
  {
   "cell_type": "code",
   "execution_count": 128,
   "metadata": {},
   "outputs": [],
   "source": [
    "from time import sleep"
   ]
  },
  {
   "cell_type": "code",
   "execution_count": 129,
   "metadata": {},
   "outputs": [],
   "source": [
    "url = 'https://www.google.co.in/maps/place/Pune,+Maharashtra/@18.5245646,73.7225394,11z/data=!3m1!4b1!4m5!3m4!1s0x3bc2bf2e67461101:0x828d43bf9d9ee343!8m2!3d18.5204303!4d73.8567437'\n",
    "driver.get(url)\n",
    "\n",
    "#driver.get(\"https://www.google.com/maps/@18.8154265,76.7751434,7z\")\n",
    "sleep(2)"
   ]
  },
  {
   "cell_type": "code",
   "execution_count": 130,
   "metadata": {},
   "outputs": [],
   "source": [
    "search_box = driver.find_element_by_class_name(\"tactile-searchbox-input\")  # search bar"
   ]
  },
  {
   "cell_type": "code",
   "execution_count": 131,
   "metadata": {},
   "outputs": [
    {
     "name": "stdout",
     "output_type": "stream",
     "text": [
      "Enter City Name: Pune\n"
     ]
    }
   ],
   "source": [
    "city_name = str(input(\"Enter City Name: \"))  #Enter inputs to search for location"
   ]
  },
  {
   "cell_type": "code",
   "execution_count": 132,
   "metadata": {},
   "outputs": [],
   "source": [
    "search_box.send_keys(city_name)"
   ]
  },
  {
   "cell_type": "code",
   "execution_count": 133,
   "metadata": {},
   "outputs": [],
   "source": [
    "submit = driver.find_element_by_class_name(\"searchbox-searchbutton\")\n",
    "submit.click()\n",
    "#search button"
   ]
  },
  {
   "cell_type": "code",
   "execution_count": 134,
   "metadata": {},
   "outputs": [],
   "source": [
    "currenturl = driver.current_url   #Current URL"
   ]
  },
  {
   "cell_type": "code",
   "execution_count": 135,
   "metadata": {},
   "outputs": [],
   "source": [
    "Latitude = re.findall('(\\d+(\\.\\d*)?)', currenturl)[0]   # latitude\n",
    "Longitude = re.findall('(\\d+(\\.\\d*)?)', currenturl)[1]     # longitude"
   ]
  },
  {
   "cell_type": "code",
   "execution_count": 136,
   "metadata": {},
   "outputs": [
    {
     "name": "stdout",
     "output_type": "stream",
     "text": [
      "Geospatial coordinates of  Pune are as follow: \n",
      "Latitude : 18.5245649\n",
      "Longitude : 73.7228783\n"
     ]
    }
   ],
   "source": [
    "print(\"Geospatial coordinates of \", city_name + \" are as follow: \")\n",
    "print(\"Latitude :\", Latitude[0])\n",
    "print(\"Longitude :\", Longitude[0])"
   ]
  },
  {
   "cell_type": "markdown",
   "metadata": {},
   "source": [
    "# 6. Write a program to scrap details of all the funding deals for second quarter (i.e. July 20 –September 20) from trak.in"
   ]
  },
  {
   "cell_type": "code",
   "execution_count": 4,
   "metadata": {},
   "outputs": [],
   "source": [
    "url='https://trak.in/'\n",
    "driver.get(url)\n",
    "\n",
    "#driver.get(\"https://www.google.com/maps/@18.8154265,76.7751434,7z\")\n",
    "sleep(2)"
   ]
  },
  {
   "cell_type": "code",
   "execution_count": 5,
   "metadata": {},
   "outputs": [],
   "source": [
    "search_btn=driver.find_element_by_id('menu-item-51510')\n",
    "#search_btn\n",
    "search_btn.click()"
   ]
  },
  {
   "cell_type": "code",
   "execution_count": 39,
   "metadata": {},
   "outputs": [
    {
     "data": {
      "text/plain": [
       "[<selenium.webdriver.remote.webelement.WebElement (session=\"91aa4227913f9de61564604157f228d8\", element=\"2bf85f4a-11cf-4f54-9539-6b720329a8e8\")>]"
      ]
     },
     "execution_count": 39,
     "metadata": {},
     "output_type": "execute_result"
    }
   ],
   "source": [
    "Sept_tags= driver.find_elements_by_id('tablepress-50_wrapper')\n",
    "Sept_tags\n",
    "#//*[@id=\"content\"]/div/div/div/div[2]/div[1]/div/div/div/div[2]/div/h2[12]\n",
    "#//*[@id=\"tablepress-26-no-4_wrapper\"]\n",
    "#/html/body/div[1]/main/div/div/div/div[2]/div[1]/div/div/div/div[2]/div/div[6]\n",
    "#//*[@id=\"tablepress-50_wrapper\"]"
   ]
  },
  {
   "cell_type": "markdown",
   "metadata": {},
   "source": [
    "# September 2020"
   ]
  },
  {
   "cell_type": "code",
   "execution_count": 40,
   "metadata": {},
   "outputs": [
    {
     "data": {
      "text/plain": [
       "[\"Show,10,25,50,100,entries,Search:,Sr. No. Date (dd/mm/yyyy) Startup Name Industry / Vertical Sub-Vertical City / Location Investors' Name Investment Type Amount (In USD),1 08/09/2020 Byju’s EduTech Online Tutoring Bangalore Silver Lake, Tiger Global, General Atlantic and Owl Ventures,Private Equity 500,000,000,2 12/09/2020 mCaffeine Personal Care Skincare & Haircare Mumbai Amicus Capital Private Equity I LLP, Amicus Capital Partners India Fund I and RP-SG Venture Fund 1 Series B 3,000,000,3 09/09/2020 Qshala EduTech Online Curiosity Platform for Kids Bangalore Rainmatter Capital Angel 370,000,4 02/09/2020 Winzo Online Gaming Online Gaming New Delhi Kalaari Capital Partners, IndigoEdge Management Consultancy Series B 15,500,000,5 09/09/2020 Hippo Video Video Customer Experience(CX) Platform Video Customer Experience(CX) Platform Newark, Delaware, United States of Amercia Alpha Wave Incubation, Exfinity Venture Partners and existing backers.,Series A 4,500,000,6 07/09/2020 Melorra E-commerce Online Jewelry Store,Bangalore Shadow Holdings, Lightbox. Debt Financing upto 8,900,000,7 07/09/2020 1mg E-commerce Online Pharmacy Gurgaon Gaja Capital, Tata Capital, Partners Group In Progress 100,000,000,8 31/08/2020 mfine HealthTech On-Demand Healthcare Services Bangalore Caretech Pte Inc Series B 5,400,000,9 31/08/2020 Apna Human Resources Recruitment Platform Bangalore Lightspeed India and Sequoia Capital India Series A 8,000,000,10 03/09/2020 Railofy Transportation WL & RAC protection platform Mumbai Chiratae Ventures Seed 950,000,Showing 1 to 10 of 11 entries,PreviousNext\"]"
      ]
     },
     "execution_count": 40,
     "metadata": {},
     "output_type": "execute_result"
    }
   ],
   "source": [
    "Sept=[]\n",
    "\n",
    "for i in Sept_tags:\n",
    "    Sept.append(i.text.replace(\"\\n\",\",\"))\n",
    "          \n",
    "Sept"
   ]
  },
  {
   "cell_type": "code",
   "execution_count": 45,
   "metadata": {},
   "outputs": [
    {
     "data": {
      "text/plain": [
       "[<selenium.webdriver.remote.webelement.WebElement (session=\"91aa4227913f9de61564604157f228d8\", element=\"df8d1f08-0029-4a60-ba9e-f3811b42189b\")>,\n",
       " <selenium.webdriver.remote.webelement.WebElement (session=\"91aa4227913f9de61564604157f228d8\", element=\"3130ca13-37d1-4722-86f1-cf11c3ce1877\")>,\n",
       " <selenium.webdriver.remote.webelement.WebElement (session=\"91aa4227913f9de61564604157f228d8\", element=\"a39d73b2-20a9-45b4-a744-96f8a4528457\")>,\n",
       " <selenium.webdriver.remote.webelement.WebElement (session=\"91aa4227913f9de61564604157f228d8\", element=\"5261f4d0-af27-45c5-984f-c6cb1b13b1df\")>,\n",
       " <selenium.webdriver.remote.webelement.WebElement (session=\"91aa4227913f9de61564604157f228d8\", element=\"367000cb-535f-48f3-8528-38f2e7301502\")>,\n",
       " <selenium.webdriver.remote.webelement.WebElement (session=\"91aa4227913f9de61564604157f228d8\", element=\"86b40cf3-eea7-4da4-9d22-33d7990afd04\")>,\n",
       " <selenium.webdriver.remote.webelement.WebElement (session=\"91aa4227913f9de61564604157f228d8\", element=\"96e2e034-76de-49c1-8392-9f42f1299303\")>,\n",
       " <selenium.webdriver.remote.webelement.WebElement (session=\"91aa4227913f9de61564604157f228d8\", element=\"e1078cf1-13d4-41e1-ae4d-295100ea2189\")>,\n",
       " <selenium.webdriver.remote.webelement.WebElement (session=\"91aa4227913f9de61564604157f228d8\", element=\"4ae47151-3be2-42f9-b16a-7fac62d4ccda\")>,\n",
       " <selenium.webdriver.remote.webelement.WebElement (session=\"91aa4227913f9de61564604157f228d8\", element=\"43d7057d-550f-41f8-b9bf-85f38c9ecf68\")>,\n",
       " <selenium.webdriver.remote.webelement.WebElement (session=\"91aa4227913f9de61564604157f228d8\", element=\"662175ed-f45e-4e1c-af75-4098c5137e4b\")>,\n",
       " <selenium.webdriver.remote.webelement.WebElement (session=\"91aa4227913f9de61564604157f228d8\", element=\"64698f33-64f6-412e-92b0-dbdea387a009\")>,\n",
       " <selenium.webdriver.remote.webelement.WebElement (session=\"91aa4227913f9de61564604157f228d8\", element=\"1819a3ea-fa1a-4d60-b84a-f4715747ca2e\")>,\n",
       " <selenium.webdriver.remote.webelement.WebElement (session=\"91aa4227913f9de61564604157f228d8\", element=\"1a4613b6-c270-4407-a628-19ab0f257ec2\")>,\n",
       " <selenium.webdriver.remote.webelement.WebElement (session=\"91aa4227913f9de61564604157f228d8\", element=\"3feebe7f-4c93-43bd-afa6-5f91700433c2\")>,\n",
       " <selenium.webdriver.remote.webelement.WebElement (session=\"91aa4227913f9de61564604157f228d8\", element=\"46c96c82-1dba-4d38-8a8d-e5502702cddc\")>,\n",
       " <selenium.webdriver.remote.webelement.WebElement (session=\"91aa4227913f9de61564604157f228d8\", element=\"3e759772-af0e-4272-8f4e-c1d27c89cb28\")>,\n",
       " <selenium.webdriver.remote.webelement.WebElement (session=\"91aa4227913f9de61564604157f228d8\", element=\"0635377a-102c-4cb5-a676-ef094dc17d5f\")>,\n",
       " <selenium.webdriver.remote.webelement.WebElement (session=\"91aa4227913f9de61564604157f228d8\", element=\"a8c74141-2e87-4c37-8541-2f8a410cd515\")>,\n",
       " <selenium.webdriver.remote.webelement.WebElement (session=\"91aa4227913f9de61564604157f228d8\", element=\"40e378b5-68d9-4ed3-ae83-780faa1465a6\")>,\n",
       " <selenium.webdriver.remote.webelement.WebElement (session=\"91aa4227913f9de61564604157f228d8\", element=\"1d6af382-b737-475b-b4ef-9ffbae82cc21\")>,\n",
       " <selenium.webdriver.remote.webelement.WebElement (session=\"91aa4227913f9de61564604157f228d8\", element=\"7d1ca5c1-b814-44d6-9ad6-354d1c8e6e3e\")>,\n",
       " <selenium.webdriver.remote.webelement.WebElement (session=\"91aa4227913f9de61564604157f228d8\", element=\"3a80e43b-f7e9-479a-8300-f083e5538fed\")>,\n",
       " <selenium.webdriver.remote.webelement.WebElement (session=\"91aa4227913f9de61564604157f228d8\", element=\"b85fd4f9-1245-4d01-8865-f670f92412db\")>,\n",
       " <selenium.webdriver.remote.webelement.WebElement (session=\"91aa4227913f9de61564604157f228d8\", element=\"d7fa6e0b-dec1-45ed-8abb-bded7471ad71\")>,\n",
       " <selenium.webdriver.remote.webelement.WebElement (session=\"91aa4227913f9de61564604157f228d8\", element=\"1fb453e5-80cf-430f-9519-9a31ebd2747f\")>,\n",
       " <selenium.webdriver.remote.webelement.WebElement (session=\"91aa4227913f9de61564604157f228d8\", element=\"fa57c02c-a3e3-43f0-bee4-60664b87f3bb\")>,\n",
       " <selenium.webdriver.remote.webelement.WebElement (session=\"91aa4227913f9de61564604157f228d8\", element=\"994b86b3-9c0b-45a3-af2b-9ca3a6993b1d\")>,\n",
       " <selenium.webdriver.remote.webelement.WebElement (session=\"91aa4227913f9de61564604157f228d8\", element=\"f0508b01-061f-4d4a-ba30-51a7153b84c5\")>,\n",
       " <selenium.webdriver.remote.webelement.WebElement (session=\"91aa4227913f9de61564604157f228d8\", element=\"2c0d36f8-a07f-4cb4-97fb-be5f7be6f179\")>,\n",
       " <selenium.webdriver.remote.webelement.WebElement (session=\"91aa4227913f9de61564604157f228d8\", element=\"0d0809a5-0eb3-401f-8155-82b77d5b1327\")>,\n",
       " <selenium.webdriver.remote.webelement.WebElement (session=\"91aa4227913f9de61564604157f228d8\", element=\"3acdc662-35b6-4d62-8ec7-552819fbceb6\")>,\n",
       " <selenium.webdriver.remote.webelement.WebElement (session=\"91aa4227913f9de61564604157f228d8\", element=\"41a43012-cd4b-4867-9b92-fae9d5ac7e63\")>,\n",
       " <selenium.webdriver.remote.webelement.WebElement (session=\"91aa4227913f9de61564604157f228d8\", element=\"96092dcb-d86c-4958-abf2-60a20805f856\")>,\n",
       " <selenium.webdriver.remote.webelement.WebElement (session=\"91aa4227913f9de61564604157f228d8\", element=\"732f1ba1-a628-4904-a80e-b4782694c8d7\")>,\n",
       " <selenium.webdriver.remote.webelement.WebElement (session=\"91aa4227913f9de61564604157f228d8\", element=\"78f1862a-d295-457b-b4da-cf84e86e83a7\")>,\n",
       " <selenium.webdriver.remote.webelement.WebElement (session=\"91aa4227913f9de61564604157f228d8\", element=\"33236771-ca18-4816-9ce1-255d5aa5c1fc\")>,\n",
       " <selenium.webdriver.remote.webelement.WebElement (session=\"91aa4227913f9de61564604157f228d8\", element=\"ca1e920d-898f-4723-8195-da95dd108e98\")>,\n",
       " <selenium.webdriver.remote.webelement.WebElement (session=\"91aa4227913f9de61564604157f228d8\", element=\"cc72c724-335a-46be-8022-ae42a4b72ec4\")>,\n",
       " <selenium.webdriver.remote.webelement.WebElement (session=\"91aa4227913f9de61564604157f228d8\", element=\"bf11704c-beec-4a8a-8ba3-96959395126e\")>,\n",
       " <selenium.webdriver.remote.webelement.WebElement (session=\"91aa4227913f9de61564604157f228d8\", element=\"dd959bb7-e6d9-4717-9040-06d4aa47e115\")>,\n",
       " <selenium.webdriver.remote.webelement.WebElement (session=\"91aa4227913f9de61564604157f228d8\", element=\"c011fd62-06c2-4424-9ef7-6c4fcb6e2b17\")>,\n",
       " <selenium.webdriver.remote.webelement.WebElement (session=\"91aa4227913f9de61564604157f228d8\", element=\"3535a32b-5a7f-4951-84f6-60cf045e72d9\")>,\n",
       " <selenium.webdriver.remote.webelement.WebElement (session=\"91aa4227913f9de61564604157f228d8\", element=\"e9b7e1e4-e000-4c17-beea-7517c40691f1\")>,\n",
       " <selenium.webdriver.remote.webelement.WebElement (session=\"91aa4227913f9de61564604157f228d8\", element=\"34e926d2-e13f-4d84-b16d-1b4c3b26ab6b\")>,\n",
       " <selenium.webdriver.remote.webelement.WebElement (session=\"91aa4227913f9de61564604157f228d8\", element=\"dd255fc6-cda8-4738-85b7-5487098b36b5\")>,\n",
       " <selenium.webdriver.remote.webelement.WebElement (session=\"91aa4227913f9de61564604157f228d8\", element=\"961a5f53-7091-4df8-a2b9-e50cdc956ccb\")>,\n",
       " <selenium.webdriver.remote.webelement.WebElement (session=\"91aa4227913f9de61564604157f228d8\", element=\"d8b960ee-1e25-4a8d-81be-617ab84703e7\")>,\n",
       " <selenium.webdriver.remote.webelement.WebElement (session=\"91aa4227913f9de61564604157f228d8\", element=\"767fae91-8a95-47d0-877a-5be976c4e9dc\")>,\n",
       " <selenium.webdriver.remote.webelement.WebElement (session=\"91aa4227913f9de61564604157f228d8\", element=\"83dea65b-0b2e-4e0f-843e-87e7416ec290\")>,\n",
       " <selenium.webdriver.remote.webelement.WebElement (session=\"91aa4227913f9de61564604157f228d8\", element=\"0d81dc9c-5489-444c-9d55-9dfc81393e3a\")>,\n",
       " <selenium.webdriver.remote.webelement.WebElement (session=\"91aa4227913f9de61564604157f228d8\", element=\"03994c54-a301-4505-b90c-710a5c3fac10\")>,\n",
       " <selenium.webdriver.remote.webelement.WebElement (session=\"91aa4227913f9de61564604157f228d8\", element=\"a5a76855-a526-4c74-aa19-4fe17f1fb83e\")>,\n",
       " <selenium.webdriver.remote.webelement.WebElement (session=\"91aa4227913f9de61564604157f228d8\", element=\"b461fb8b-31b0-4227-a036-9a5bf116275b\")>,\n",
       " <selenium.webdriver.remote.webelement.WebElement (session=\"91aa4227913f9de61564604157f228d8\", element=\"5cef2741-338c-42d8-a53d-9489a065088c\")>,\n",
       " <selenium.webdriver.remote.webelement.WebElement (session=\"91aa4227913f9de61564604157f228d8\", element=\"90206152-346a-4261-ba51-3720ef93d6f6\")>,\n",
       " <selenium.webdriver.remote.webelement.WebElement (session=\"91aa4227913f9de61564604157f228d8\", element=\"c1bb560b-8dc8-4dff-b850-ce94583363fa\")>,\n",
       " <selenium.webdriver.remote.webelement.WebElement (session=\"91aa4227913f9de61564604157f228d8\", element=\"3a364f3c-38d6-430c-955b-35068c3be0e6\")>,\n",
       " <selenium.webdriver.remote.webelement.WebElement (session=\"91aa4227913f9de61564604157f228d8\", element=\"2c10220c-0751-4ac2-8285-b48bf7b1a7a6\")>,\n",
       " <selenium.webdriver.remote.webelement.WebElement (session=\"91aa4227913f9de61564604157f228d8\", element=\"86412488-3b2c-45a1-b56e-56b64ba69fa6\")>,\n",
       " <selenium.webdriver.remote.webelement.WebElement (session=\"91aa4227913f9de61564604157f228d8\", element=\"440100c1-621f-469c-acc4-86dc7e25f28d\")>,\n",
       " <selenium.webdriver.remote.webelement.WebElement (session=\"91aa4227913f9de61564604157f228d8\", element=\"e20ac56d-8c8d-47ef-837b-b0d8cca09f70\")>,\n",
       " <selenium.webdriver.remote.webelement.WebElement (session=\"91aa4227913f9de61564604157f228d8\", element=\"4a291aec-e5ad-4304-a3a8-92f54eb3e86e\")>,\n",
       " <selenium.webdriver.remote.webelement.WebElement (session=\"91aa4227913f9de61564604157f228d8\", element=\"d44c94e5-98ab-46a4-b6cc-30234303bd79\")>,\n",
       " <selenium.webdriver.remote.webelement.WebElement (session=\"91aa4227913f9de61564604157f228d8\", element=\"fbeabb51-2920-4da0-9e1b-94cb8d6a40c6\")>,\n",
       " <selenium.webdriver.remote.webelement.WebElement (session=\"91aa4227913f9de61564604157f228d8\", element=\"54f9a0d5-9d9e-4429-8e21-bc67863dd620\")>,\n",
       " <selenium.webdriver.remote.webelement.WebElement (session=\"91aa4227913f9de61564604157f228d8\", element=\"c1d3652a-a820-4b1b-a905-fb23278cddb7\")>,\n",
       " <selenium.webdriver.remote.webelement.WebElement (session=\"91aa4227913f9de61564604157f228d8\", element=\"41b9eb3b-ea37-47ce-94da-3176580c05a0\")>,\n",
       " <selenium.webdriver.remote.webelement.WebElement (session=\"91aa4227913f9de61564604157f228d8\", element=\"2e4bb224-bff3-4d43-82f3-8c7f6bdb30c7\")>,\n",
       " <selenium.webdriver.remote.webelement.WebElement (session=\"91aa4227913f9de61564604157f228d8\", element=\"eb803c37-59ab-4bdb-bf9c-9ce06cbfe658\")>,\n",
       " <selenium.webdriver.remote.webelement.WebElement (session=\"91aa4227913f9de61564604157f228d8\", element=\"6188844a-a1be-4a10-9e0c-b06103d5d0d2\")>,\n",
       " <selenium.webdriver.remote.webelement.WebElement (session=\"91aa4227913f9de61564604157f228d8\", element=\"66456025-763f-4376-ab60-0ba94299676f\")>,\n",
       " <selenium.webdriver.remote.webelement.WebElement (session=\"91aa4227913f9de61564604157f228d8\", element=\"d82eec1d-1834-4f74-864f-6ce4b59b7262\")>,\n",
       " <selenium.webdriver.remote.webelement.WebElement (session=\"91aa4227913f9de61564604157f228d8\", element=\"eae7994c-b5ed-4f0b-b3bf-40436498e8f5\")>,\n",
       " <selenium.webdriver.remote.webelement.WebElement (session=\"91aa4227913f9de61564604157f228d8\", element=\"10928174-a09e-4f20-a4b9-99709f11667a\")>,\n",
       " <selenium.webdriver.remote.webelement.WebElement (session=\"91aa4227913f9de61564604157f228d8\", element=\"2eaef888-759b-466a-8346-14d46f57f0ee\")>,\n",
       " <selenium.webdriver.remote.webelement.WebElement (session=\"91aa4227913f9de61564604157f228d8\", element=\"7c01a11f-8334-4e1c-8990-a840dd18de58\")>,\n",
       " <selenium.webdriver.remote.webelement.WebElement (session=\"91aa4227913f9de61564604157f228d8\", element=\"1e1e70fb-7abe-401d-8d39-880ebb40ec87\")>,\n",
       " <selenium.webdriver.remote.webelement.WebElement (session=\"91aa4227913f9de61564604157f228d8\", element=\"704a5140-20f1-47da-a605-d0f9b9d0af1a\")>,\n",
       " <selenium.webdriver.remote.webelement.WebElement (session=\"91aa4227913f9de61564604157f228d8\", element=\"76794f58-1c6f-42f0-9986-69bde0d1a8a2\")>,\n",
       " <selenium.webdriver.remote.webelement.WebElement (session=\"91aa4227913f9de61564604157f228d8\", element=\"b7a203b1-8d02-40d0-9061-a90daa9b9e88\")>,\n",
       " <selenium.webdriver.remote.webelement.WebElement (session=\"91aa4227913f9de61564604157f228d8\", element=\"b4a39eea-e801-4f52-afa7-7eb23fb19c18\")>,\n",
       " <selenium.webdriver.remote.webelement.WebElement (session=\"91aa4227913f9de61564604157f228d8\", element=\"3e954af8-6dd7-4f7d-a9b7-dd0888d51a29\")>,\n",
       " <selenium.webdriver.remote.webelement.WebElement (session=\"91aa4227913f9de61564604157f228d8\", element=\"4292ab9d-174a-44e6-bb3e-d7221680d49c\")>,\n",
       " <selenium.webdriver.remote.webelement.WebElement (session=\"91aa4227913f9de61564604157f228d8\", element=\"b0597809-2fb3-4cf9-82ff-fa7bac9b874c\")>,\n",
       " <selenium.webdriver.remote.webelement.WebElement (session=\"91aa4227913f9de61564604157f228d8\", element=\"458d4016-e69c-45fe-920f-a17008b89d16\")>,\n",
       " <selenium.webdriver.remote.webelement.WebElement (session=\"91aa4227913f9de61564604157f228d8\", element=\"0c26861f-0ed9-4458-92cb-a36f0005a45c\")>,\n",
       " <selenium.webdriver.remote.webelement.WebElement (session=\"91aa4227913f9de61564604157f228d8\", element=\"8520033f-ddf9-4c27-bf82-e8c731be0668\")>,\n",
       " <selenium.webdriver.remote.webelement.WebElement (session=\"91aa4227913f9de61564604157f228d8\", element=\"c3a76135-20a0-48cd-b251-4b2cb41cda53\")>,\n",
       " <selenium.webdriver.remote.webelement.WebElement (session=\"91aa4227913f9de61564604157f228d8\", element=\"72720aba-0b9a-40b6-a3b2-ffae621fd920\")>]"
      ]
     },
     "execution_count": 45,
     "metadata": {},
     "output_type": "execute_result"
    }
   ],
   "source": [
    "Sept_tags1= driver.find_elements_by_xpath(\"//tr[@class='row-1 odd']\")\n",
    "Sept_tags1"
   ]
  },
  {
   "cell_type": "code",
   "execution_count": 48,
   "metadata": {},
   "outputs": [
    {
     "data": {
      "text/plain": [
       "[\"Sr. No. Date (dd/mm/yyyy) Startup Name Industry / Vertical Sub-Vertical City / Location Investors' Name Investment Type Amount (In USD)\",\n",
       " '',\n",
       " \"Sr. No. Date (dd/mm/yyyy) Startup Name Industry / Vertical Sub-Vertical City / Location Investors' Name Investment Type Amount (In USD)\",\n",
       " '',\n",
       " \"Sr. No. Date (dd/mm/yyyy) Startup Name Industry / Vertical Sub-Vertical City / Location Investors' Name Investment Type Amount (In USD)\",\n",
       " '',\n",
       " \"Sr. No. Date (dd/mm/yyyy) Startup Name Industry / Vertical Sub-Vertical City / Location Investors' Name Investment Type Amount (In USD)\",\n",
       " '',\n",
       " \"Sr. No. Date (dd/mm/yyyy) Startup Name Industry / Vertical Sub-Vertical City / Location Investors' Name Investment Type Amount (In USD)\",\n",
       " '',\n",
       " \"Sr. No. Date (dd/mm/yyyy) Startup Name Industry / Vertical Sub-Vertical City / Location Investors' Name Investment Type Amount (In USD)\",\n",
       " '',\n",
       " \"Sr. No. Date (dd/mm/yyyy) Startup Name Industry / Vertical Sub-Vertical City / Location Investors' Name Investment Type Amount (In USD)\",\n",
       " '',\n",
       " \"Sr. No. Date (dd/mm/yyyy) Startup Name Industry / Vertical Sub-Vertical City / Location Investors' Name Investment Type Amount (In USD)\",\n",
       " '',\n",
       " \"Sr. No. Date (dd/mm/yyyy) Startup Name Industry / Vertical Sub-Vertical City / Location Investors' Name Investment Type Amount (In USD)\",\n",
       " '',\n",
       " \"Sr. No. Date (dd/mm/yyyy) Startup Name Industry / Vertical Sub-Vertical City / Location Investors' Name Investment Type Amount (In USD)\",\n",
       " '',\n",
       " \"Sr. No. Date (dd/mm/yyyy) Startup Name Industry / Vertical Sub-Vertical City / Location Investors' Name Investment Type Amount (In USD)\",\n",
       " '',\n",
       " \"Sr. No. Date (dd/mm/yyyy) Startup Name Industry / Vertical Sub-Vertical City / Location Investors' Name Investment Type Amount (In USD)\",\n",
       " '',\n",
       " \"Sr. No. Date (dd/mm/yyyy) Startup Name Industry / Vertical Sub-Vertical City / Location Investors' Name Investment Type Amount (In USD)\",\n",
       " '',\n",
       " \"Sr. No. Date (dd/mm/yyyy) Startup Name Industry / Vertical Sub-Vertical City / Location Investors' Name Investment Type Amount (In USD)\",\n",
       " '',\n",
       " \"Sr. No. Date (dd/mm/yyyy) Startup Name Industry / Vertical Sub-Vertical City / Location Investors' Name Investment Type Amount (In USD)\",\n",
       " '',\n",
       " \"Sr. No. Date (dd/mm/yyyy) Startup Name Industry / Vertical Sub-Vertical City / Location Investors' Name Investment Type Amount (In USD)\",\n",
       " '',\n",
       " \"Sr. No. Date (dd/mm/yyyy) Startup Name Industry / Vertical Sub-Vertical City / Location Investors' Name Investment Type Amount (In USD)\",\n",
       " '',\n",
       " \"Sr. No. Date (dd/mm/yyyy) Startup Name Industry / Vertical Sub-Vertical City / Location Investors' Name Investment Type Amount (In USD)\",\n",
       " '',\n",
       " \"Sr. No. Date (dd/mm/yyyy) Startup Name Industry / Vertical Sub-Vertical City / Location Investors' Name Investment Type Amount (In USD)\",\n",
       " '',\n",
       " \"Sr. No. Date (dd/mm/yyyy) Startup Name Industry / Vertical Sub-Vertical City / Location Investors' Name Investment Type Amount (In USD)  \",\n",
       " '',\n",
       " \"Sr. No. Date (dd/mm/yyyy) Startup Name Industry / Vertical Sub-Vertical City / Location Investors' Name Investment Type Amount (In USD)\",\n",
       " '',\n",
       " \"Sr. No. Date (dd/mm/yyyy) Startup Name Industry / Vertical Sub-Vertical City / Location Investors' Name Investment Type Amount (In USD)\",\n",
       " '',\n",
       " \"Sr. No. Date (dd/mm/yyyy) Startup Name Industry / Vertical Sub-Vertical City / Location Investors' Name Investment Type Amount (In USD)\",\n",
       " '',\n",
       " \"Sr. No. Date (dd/mm/yyyy) Startup Name Industry / Vertical Sub-Vertical City / Location Investors' Name Investment Type Amount (In USD)\",\n",
       " '',\n",
       " \"Sr. No. Date (dd/mm/yyyy) Startup Name Industry / Vertical Sub-Vertical City / Location Investors' Name Investment Type Amount (In USD)\",\n",
       " '',\n",
       " \"Sr. No. Date (dd/mm/yyyy) Startup Name Industry / Vertical Sub-Vertical City / Location Investors' Name Investment Type Amount (In USD)\",\n",
       " '',\n",
       " \"Sr. No. Date (dd/mm/yyyy) Startup Name Industry / Vertical Sub-Vertical City / Location Investors' Name Investment Type Amount (In USD)\",\n",
       " '',\n",
       " \"Sr. No. Date (dd/mm/yyyy) Startup Name Industry / Vertical Sub-Vertical City / Location Investors' Name Investment Type Amount (In USD)\",\n",
       " '',\n",
       " \"Sr. No. Date (dd/mm/yyyy) Startup Name Industry / Vertical Sub-Vertical City / Location Investors' Name Investment Type Amount (In USD)\",\n",
       " '',\n",
       " \"Sr. No. Date (dd/mm/yyyy) Startup Name Industry / Vertical Sub-Vertical City / Location Investors' Name Investment Type Amount (In USD)\",\n",
       " '',\n",
       " \"Sr. No. Date (dd/mm/yyyy) Startup Name Industry / Vertical Sub-Vertical City / Location Investors' Name Investment Type Amount (In USD)\",\n",
       " '',\n",
       " \"Sr. No. Date (dd/mm/yyyy) Startup Name Industry / Vertical Sub-Vertical City / Location Investors' Name Investment Type Amount (In USD)\",\n",
       " '',\n",
       " \"Sr. No. Date (dd/mm/yyyy) Startup Name Industry / Vertical Sub-Vertical City / Location Investors' Name Investment Type Amount (In USD)\",\n",
       " '',\n",
       " \"Sr. No. Date (dd/mm/yyyy) Startup Name Industry / Vertical Sub-Vertical City / Location Investors' Name Investment Type Amount (In USD)\",\n",
       " '',\n",
       " \"Sr. No. Date (dd/mm/yyyy) Startup Name Industry / Vertical Sub-Vertical City / Location Investors' Name Investment Type Amount (In USD)\",\n",
       " '',\n",
       " \"Sr. No. Date (dd/mm/yyyy) Startup Name Industry / Vertical Sub-Vertical City / Location Investors' Name Investment Type Amount (In USD)\",\n",
       " '',\n",
       " \"Sr. No. Date (dd/mm/yyyy) Startup Name Industry / Vertical Sub-Vertical City / Location Investors' Name Investment Type Amount (In USD)\",\n",
       " '',\n",
       " \"Sr. No. Date (dd/mm/yyyy) Startup Name Industry / Vertical Sub-Vertical City / Location Investors' Name Investment Type Amount (In USD)\",\n",
       " '',\n",
       " \"Sr. No. Date (dd/mm/yyyy) Startup Name Industry / Vertical Sub-Vertical City / Location Investors' Name Investment Type Amount (In USD)\",\n",
       " '',\n",
       " \"Sr. No. Date (dd/mm/yyyy) Startup Name Industry / Vertical Sub-Vertical City / Location Investors' Name Investment Type Amount (In USD)\",\n",
       " '',\n",
       " \"Sr. No. Date (dd/mm/yyyy) Startup Name Industry / Vertical Sub-Vertical City / Location Investors' Name Investment Type Amount (In USD)\",\n",
       " '',\n",
       " \"Sr. No. Date (dd/mm/yyyy) Startup Name Industry / Vertical Sub-Vertical City / Location Investors' Name Investment Type Amount (In USD)\",\n",
       " '',\n",
       " \"Sr. No. Date (dd/mm/yyyy) Startup Name Industry / Vertical Sub-Vertical City / Location Investors' Name Investment Type Amount (In USD)\",\n",
       " '',\n",
       " \"Sr. No. Date (dd/mm/yyyy) Startup Name Industry / Vertical Sub-Vertical City / Location Investors' Name Investment Type Amount (In USD)\",\n",
       " '',\n",
       " \"Sr. No. Date (dd/mm/yyyy) Startup Name Industry / Vertical Sub-Vertical City / Location Investors' Name Investment Type Amount (In USD)\",\n",
       " '']"
      ]
     },
     "execution_count": 48,
     "metadata": {},
     "output_type": "execute_result"
    }
   ],
   "source": [
    "Sept1=[]\n",
    "\n",
    "for i in Sept_tags1:\n",
    "    Sept1.append(i.text.replace(\"\\n\",\",\"))\n",
    "          \n",
    "Sept1"
   ]
  },
  {
   "cell_type": "code",
   "execution_count": 85,
   "metadata": {},
   "outputs": [
    {
     "data": {
      "text/plain": [
       "\"Sr. No. Date (dd/mm/yyyy) Startup Name Industry / Vertical Sub-Vertical City / Location Investors' Name Investment Type Amount (In USD)\""
      ]
     },
     "execution_count": 85,
     "metadata": {},
     "output_type": "execute_result"
    }
   ],
   "source": [
    "Sept0=Sept1[0]\n",
    "Sept0"
   ]
  },
  {
   "cell_type": "code",
   "execution_count": 95,
   "metadata": {},
   "outputs": [
    {
     "data": {
      "text/plain": [
       "['Sr. No.',\n",
       " 'Date (dd/mm/yyyy)',\n",
       " 'Startup Name',\n",
       " 'Industry / Vertical',\n",
       " 'Sub-Vertical',\n",
       " 'City / Location',\n",
       " 'Investors Name',\n",
       " 'Investment Type',\n",
       " 'Amount (In USD)']"
      ]
     },
     "execution_count": 95,
     "metadata": {},
     "output_type": "execute_result"
    }
   ],
   "source": [
    "l1=['Sr. No.', 'Date (dd/mm/yyyy)' ,'Startup Name', 'Industry / Vertical', 'Sub-Vertical', 'City / Location' ,'Investors Name' ,'Investment Type', 'Amount (In USD)']\n",
    "l1"
   ]
  },
  {
   "cell_type": "code",
   "execution_count": 50,
   "metadata": {},
   "outputs": [
    {
     "data": {
      "text/plain": [
       "[<selenium.webdriver.remote.webelement.WebElement (session=\"91aa4227913f9de61564604157f228d8\", element=\"47d0d946-1796-466f-aa29-955d7b58c521\")>,\n",
       " <selenium.webdriver.remote.webelement.WebElement (session=\"91aa4227913f9de61564604157f228d8\", element=\"49528d75-831e-4139-93a7-ac01481e2c1a\")>,\n",
       " <selenium.webdriver.remote.webelement.WebElement (session=\"91aa4227913f9de61564604157f228d8\", element=\"59d6aa5c-ad44-4bb1-9204-97e7cc041b9e\")>,\n",
       " <selenium.webdriver.remote.webelement.WebElement (session=\"91aa4227913f9de61564604157f228d8\", element=\"0d2776fb-5ee4-456b-8ba6-43a3e8638461\")>,\n",
       " <selenium.webdriver.remote.webelement.WebElement (session=\"91aa4227913f9de61564604157f228d8\", element=\"b8c98109-4d4d-44b9-9d12-5b9dd8179aa7\")>,\n",
       " <selenium.webdriver.remote.webelement.WebElement (session=\"91aa4227913f9de61564604157f228d8\", element=\"be935e08-45a8-416e-8a23-25f9327eeebe\")>,\n",
       " <selenium.webdriver.remote.webelement.WebElement (session=\"91aa4227913f9de61564604157f228d8\", element=\"032e0ac7-b7d3-4994-b96d-a9ba52e135ee\")>,\n",
       " <selenium.webdriver.remote.webelement.WebElement (session=\"91aa4227913f9de61564604157f228d8\", element=\"2d799db4-efe3-4890-9c1e-f4dec5cd3a6b\")>,\n",
       " <selenium.webdriver.remote.webelement.WebElement (session=\"91aa4227913f9de61564604157f228d8\", element=\"17c1a3d5-f143-4fd6-b4f6-8ea06d1fd356\")>,\n",
       " <selenium.webdriver.remote.webelement.WebElement (session=\"91aa4227913f9de61564604157f228d8\", element=\"1bedb7fa-ff02-4091-942f-bfe278847380\")>,\n",
       " <selenium.webdriver.remote.webelement.WebElement (session=\"91aa4227913f9de61564604157f228d8\", element=\"24db403d-aa35-4b51-975c-8c2b7f41f91f\")>,\n",
       " <selenium.webdriver.remote.webelement.WebElement (session=\"91aa4227913f9de61564604157f228d8\", element=\"521a1a35-3d89-47d6-804d-ee3eaa76ff15\")>,\n",
       " <selenium.webdriver.remote.webelement.WebElement (session=\"91aa4227913f9de61564604157f228d8\", element=\"410e4f7d-6de9-457c-b4e3-ca601e374b1d\")>,\n",
       " <selenium.webdriver.remote.webelement.WebElement (session=\"91aa4227913f9de61564604157f228d8\", element=\"d966fd03-d152-4c91-b690-78121d513f0b\")>,\n",
       " <selenium.webdriver.remote.webelement.WebElement (session=\"91aa4227913f9de61564604157f228d8\", element=\"1da22e10-dcc9-4be8-9e04-1cc30d95f84b\")>,\n",
       " <selenium.webdriver.remote.webelement.WebElement (session=\"91aa4227913f9de61564604157f228d8\", element=\"f58370e5-0680-42d6-83db-f129e1a98ed4\")>,\n",
       " <selenium.webdriver.remote.webelement.WebElement (session=\"91aa4227913f9de61564604157f228d8\", element=\"6f771a57-c417-49c2-98f0-f8fe6b15c205\")>,\n",
       " <selenium.webdriver.remote.webelement.WebElement (session=\"91aa4227913f9de61564604157f228d8\", element=\"e2d46ab1-ac72-4c04-9887-0f8eb243f969\")>,\n",
       " <selenium.webdriver.remote.webelement.WebElement (session=\"91aa4227913f9de61564604157f228d8\", element=\"a7066e98-3cc8-4662-92da-ff6cc49a3198\")>,\n",
       " <selenium.webdriver.remote.webelement.WebElement (session=\"91aa4227913f9de61564604157f228d8\", element=\"53c66cfd-1abb-4602-b2a7-4829ce553f1d\")>,\n",
       " <selenium.webdriver.remote.webelement.WebElement (session=\"91aa4227913f9de61564604157f228d8\", element=\"18d33070-f4a2-487c-836d-7e9c0f803d17\")>,\n",
       " <selenium.webdriver.remote.webelement.WebElement (session=\"91aa4227913f9de61564604157f228d8\", element=\"18b6f455-a322-4a5f-b954-85a8a439ca6f\")>,\n",
       " <selenium.webdriver.remote.webelement.WebElement (session=\"91aa4227913f9de61564604157f228d8\", element=\"996443d9-38e1-41a6-a30d-c16d6edc98a3\")>,\n",
       " <selenium.webdriver.remote.webelement.WebElement (session=\"91aa4227913f9de61564604157f228d8\", element=\"f5e81e1a-9ff3-4afc-8cc5-8e7fd757bc2d\")>,\n",
       " <selenium.webdriver.remote.webelement.WebElement (session=\"91aa4227913f9de61564604157f228d8\", element=\"62db97a7-0c85-4d57-8383-644a0ac596a6\")>,\n",
       " <selenium.webdriver.remote.webelement.WebElement (session=\"91aa4227913f9de61564604157f228d8\", element=\"9195b163-bdd1-423d-91b0-3fc7077c493e\")>,\n",
       " <selenium.webdriver.remote.webelement.WebElement (session=\"91aa4227913f9de61564604157f228d8\", element=\"a02fa325-7654-4f4c-ac7d-664a81656d3e\")>,\n",
       " <selenium.webdriver.remote.webelement.WebElement (session=\"91aa4227913f9de61564604157f228d8\", element=\"93ee6bf6-b98b-4c58-b7eb-4fb852b47c27\")>,\n",
       " <selenium.webdriver.remote.webelement.WebElement (session=\"91aa4227913f9de61564604157f228d8\", element=\"ec664e07-cf96-4fd4-a141-4aaa4f88584c\")>,\n",
       " <selenium.webdriver.remote.webelement.WebElement (session=\"91aa4227913f9de61564604157f228d8\", element=\"43c806e2-6a3b-4fed-b6d4-f76bdd498354\")>,\n",
       " <selenium.webdriver.remote.webelement.WebElement (session=\"91aa4227913f9de61564604157f228d8\", element=\"755c7c5a-fd07-4a9a-b129-9bb5636a7a00\")>,\n",
       " <selenium.webdriver.remote.webelement.WebElement (session=\"91aa4227913f9de61564604157f228d8\", element=\"a78cb455-43a3-469c-b739-af34306313c3\")>,\n",
       " <selenium.webdriver.remote.webelement.WebElement (session=\"91aa4227913f9de61564604157f228d8\", element=\"c42f9a8a-b852-4afe-b2e2-2bc4aaee195b\")>,\n",
       " <selenium.webdriver.remote.webelement.WebElement (session=\"91aa4227913f9de61564604157f228d8\", element=\"7f00726f-d241-4737-bc42-da8ea4b68134\")>,\n",
       " <selenium.webdriver.remote.webelement.WebElement (session=\"91aa4227913f9de61564604157f228d8\", element=\"e47db723-1047-4618-b4a5-12c20809a783\")>,\n",
       " <selenium.webdriver.remote.webelement.WebElement (session=\"91aa4227913f9de61564604157f228d8\", element=\"23725a0c-a84b-4e82-8bab-95020d1a8755\")>,\n",
       " <selenium.webdriver.remote.webelement.WebElement (session=\"91aa4227913f9de61564604157f228d8\", element=\"7e122cf6-9bd0-4d5d-913e-a3f6e4ecbd84\")>,\n",
       " <selenium.webdriver.remote.webelement.WebElement (session=\"91aa4227913f9de61564604157f228d8\", element=\"b4a1af02-9e85-4109-891d-15eb5cdfdcef\")>,\n",
       " <selenium.webdriver.remote.webelement.WebElement (session=\"91aa4227913f9de61564604157f228d8\", element=\"32eaf088-86dc-4bd8-af43-ab5e3bdd7c1f\")>,\n",
       " <selenium.webdriver.remote.webelement.WebElement (session=\"91aa4227913f9de61564604157f228d8\", element=\"310cca5e-3223-4c6a-ac18-e28dbb802bf9\")>,\n",
       " <selenium.webdriver.remote.webelement.WebElement (session=\"91aa4227913f9de61564604157f228d8\", element=\"66c241b9-53c6-48c1-80a8-ce6186994dca\")>,\n",
       " <selenium.webdriver.remote.webelement.WebElement (session=\"91aa4227913f9de61564604157f228d8\", element=\"1f9b7fc8-d5fc-47bb-b510-4a1f78070871\")>,\n",
       " <selenium.webdriver.remote.webelement.WebElement (session=\"91aa4227913f9de61564604157f228d8\", element=\"51e23187-7077-4d29-942b-51418faa8cfd\")>,\n",
       " <selenium.webdriver.remote.webelement.WebElement (session=\"91aa4227913f9de61564604157f228d8\", element=\"337e69f8-1c27-4ad5-8997-2a937f0eb7e1\")>,\n",
       " <selenium.webdriver.remote.webelement.WebElement (session=\"91aa4227913f9de61564604157f228d8\", element=\"8d08eb3e-28a8-4e20-9b00-cb5ed3a74dfd\")>]"
      ]
     },
     "execution_count": 50,
     "metadata": {},
     "output_type": "execute_result"
    }
   ],
   "source": [
    "Sept_tags2= driver.find_elements_by_xpath(\"//tr[@class='row-2 even']\")\n",
    "Sept_tags2"
   ]
  },
  {
   "cell_type": "code",
   "execution_count": 51,
   "metadata": {},
   "outputs": [
    {
     "data": {
      "text/plain": [
       "['1 01/04/2021 BYJU’S Edu-tech Online tutoring Bengaluru Innoven Capital Series F 460,000,000',\n",
       " '1 04/03/2021 DealShare E-commerce Online shopping platform Jaipur, Rajasthan Innoven Capital Debt Financing 250,000,000',\n",
       " '1 11/02/2021 Doubtnut Edu Tech E-Learning Platform Gurgaon SIG Global, Sequoia Capital, WaterBridge Ventures and ON Mauritius Series B 2,500,000',\n",
       " '1 15/01/2021 Digit Insurance Financial Services Insurance Services Bengaluru A91 Partners, Faering Capital, TVS Capital Funds Venture 1,80,00,000',\n",
       " '1 15/12/2020 Bira 91 Food and Beverage Craft Beer New Delhi Nishant Mittal, Pankaj Chaddah and Shikha Sunil Chandak Funding 1,273,634.07',\n",
       " '1 30/11/2020 Codingal EduTech Online coding platform Bengaluru Rebright Partners, Java Capital, and GSF Accelerator Seed 560,000',\n",
       " '1 28/10/2020 Nykaa E-commerce Beauty, Fashion, Lifestyle, Wellness Mumbai Alia Bhatt Personal Investment NA',\n",
       " '1 08/09/2020 Byju’s EduTech Online Tutoring Bangalore Silver Lake, Tiger Global, General Atlantic and Owl Ventures,Private Equity 500,000,000',\n",
       " '1 15/08/2020 Practo HealthTech Health care and Wellness Bangalore A1A Company,Series F 32,000,000',\n",
       " '1 15/07/2020 Flipkart E-commerce E-commerce Bangalore Walmart Inc,M&A 1,200,000,000',\n",
       " '1 18/06/2020 Drishti Technologies Technology Artificial Intelligence, Video Analytics Mumbai Sozo Ventures,Series B 25,000,000',\n",
       " '1 21/05/2020 leap.club Professional Network for Women Professional Network for Women Gurugram Whiteboard Capital (Sandeep Tandon’s VC fund), FirstCheque, Artha India Ventures, Sweta Rau (Founder, White Ventures), Amrish Rau (CEO Pinelabs, Founder Citrus Pay), Deepak Abbot (Former SVP, Paytm), and Harpreet Singh Grover (Co-founder, Co-Cubes) and others.,Pre Seed 340,000',\n",
       " '1 09/04/2020 Vedantu EduTech Online Tutoring Bengaluru Legend Capital Series C1 12,560,000',\n",
       " '1 04/03/2020 Soxytoes E-commerce Socks Noida Angel Networks Angel NA',\n",
       " '1 03/02/2020 1mg E-commerce Medicine Gurugram Bill & Melinda Gates Foundation Venture Series 10,000,000',\n",
       " '1 09/01/2020 BYJU’S E-Tech E-learning Bengaluru Tiger Global Management Private Equity Round 200,000,000',\n",
       " '1 12/12/2019 Ecozen Technology Agritech Pune Sathguru Catalyzer Advisors Series A 6,000,000',\n",
       " '1 13/11/2019 Freshworks Software Business and customer engagement tools San Francisco Sequoia, CapitalG, Accel Series H 15,000,0000',\n",
       " '1 04/10/2019 Dunzo Customer Service Delivery Service Bengaluru Lightbox Series D 4,50,00,000',\n",
       " '1 05/09/2019 FPL Technologies FinTech Financial Services Pune Matrix Partners India, Sequoia India Maiden Round 4,500,000',\n",
       " '1 01/08/2019 CarDekho E-Commerce Automotive Gurgaon SC GG India Mobility Holdings LLC Series C 20,000,000',\n",
       " '1 02/07/2019 RenewBuy Finance Auto Insurance Gurgaon Lok Capital, IIFL Wealth Series B 19,000,000',\n",
       " '1 05/06/2019 NoBroker E-Commerce Real Estate Bengaluru General Atlantic Series C 5,10,00,000',\n",
       " '1 06/05/2019 Ola Electric Transport Cabs Bengaluru Tata Sons Series A undisclosed',\n",
       " '1 16/04/2019 Kuvera Finance Wealth Management Bengaluru Eight Roads Series A 45,000,000',\n",
       " '1 1/02/2019 FleetX AI Logistics Gurgaon India Quotient and LetsVenture’s Angel Fund Pre Series A Undisclosed',\n",
       " '1 03/01/2019 CarDekho Automobile Online Marketplace Jaipur Sequoia India, Hillhouse Capital, Alphabet’s growth investment arm Capital G and Axis Bank Series C 110,000,000',\n",
       " '1 01/12/2018 UrbanClap Technologies Pvt. Ltd Services Platform Home services marketplace New Delhi Steadview Capital and Vy Capital. Series D 50,000,000',\n",
       " '1 01/11/2018 GoDesi Food and Beverage Regional Flavours Bengaluru Lead Angels Network Seed/ Angel Funding 1,38,995',\n",
       " '1 01/10/2018 Northmist Fashion Mens Wear Delhi Prashant Jaiswal Seed/ Angel Funding N/A',\n",
       " '1 01/09/2018 Netmeds Consumer Internet Online Pharmacy Chain Chennai Sistema Asia Fund, Sistema JSFC and Tanncam Investment Private Equity 35,000,000',\n",
       " '1 01/08/2018 dishq Food-Tech Personalisation Technology Firm Focusing On The Food And Beverage Industry Bengaluru Farm To Fork, Arts Alliance, The Syndicate Fund, Sven Hensen, Zeroth and Artesian Venture Partners Seed/ Angel Funding 400,000',\n",
       " '1 01/07/2018 Leena AI Technology HR Virtual Agent For Employees Gurugram Y Combinator Seed/ Angel Funding N/A',\n",
       " '1 01/10/2018 Northmist Fashion Mens Wear Delhi Prashant Jaiswal Seed/ Angel Funding N/A',\n",
       " '1 01/09/2018 Netmeds Consumer Internet Online Pharmacy Chain Chennai Sistema Asia Fund, Sistema JSFC and Tanncam Investment Private Equity 35,000,000',\n",
       " '1 01/08/2018 dishq Food-Tech Personalisation Technology Firm Focusing On The Food And Beverage Industry Bengaluru Farm To Fork, Arts Alliance, The Syndicate Fund, Sven Hensen, Zeroth and Artesian Venture Partners Seed/ Angel Funding 400,000',\n",
       " '1 01/07/2018 Leena AI Technology HR Virtual Agent For Employees Gurugram Y Combinator Seed/ Angel Funding N/A',\n",
       " '1 01/10/2018 Northmist Fashion Mens Wear Delhi Prashant Jaiswal Seed/ Angel Funding N/A',\n",
       " '1 01/09/2018 Netmeds Consumer Internet Online Pharmacy Chain Chennai Sistema Asia Fund, Sistema JSFC and Tanncam Investment Private Equity 35,000,000',\n",
       " '1 01/08/2018 dishq Food-Tech Personalisation Technology Firm Focusing On The Food And Beverage Industry Bengaluru Farm To Fork, Arts Alliance, The Syndicate Fund, Sven Hensen, Zeroth and Artesian Venture Partners Seed/ Angel Funding 400,000',\n",
       " '1 01/07/2018 Leena AI Technology HR Virtual Agent For Employees Gurugram Y Combinator Seed/ Angel Funding N/A',\n",
       " '1 01/10/2018 Northmist Fashion Mens Wear Delhi Prashant Jaiswal Seed/ Angel Funding N/A',\n",
       " '1 01/09/2018 Netmeds Consumer Internet Online Pharmacy Chain Chennai Sistema Asia Fund, Sistema JSFC and Tanncam Investment Private Equity 35,000,000',\n",
       " '1 01/08/2018 dishq Food-Tech Personalisation Technology Firm Focusing On The Food And Beverage Industry Bengaluru Farm To Fork, Arts Alliance, The Syndicate Fund, Sven Hensen, Zeroth and Artesian Venture Partners Seed/ Angel Funding 400,000',\n",
       " '1 01/07/2018 Leena AI Technology HR Virtual Agent For Employees Gurugram Y Combinator Seed/ Angel Funding N/A']"
      ]
     },
     "execution_count": 51,
     "metadata": {},
     "output_type": "execute_result"
    }
   ],
   "source": [
    "Sept2=[]\n",
    "\n",
    "for i in Sept_tags2:\n",
    "    Sept2.append(i.text.replace(\"\\n\",\",\"))\n",
    "          \n",
    "Sept2"
   ]
  },
  {
   "cell_type": "code",
   "execution_count": 86,
   "metadata": {},
   "outputs": [
    {
     "data": {
      "text/plain": [
       "'1 08/09/2020 Byju’s EduTech Online Tutoring Bangalore Silver Lake, Tiger Global, General Atlantic and Owl Ventures,Private Equity 500,000,000'"
      ]
     },
     "execution_count": 86,
     "metadata": {},
     "output_type": "execute_result"
    }
   ],
   "source": [
    "Sept20=Sept2[7]\n",
    "Sept20"
   ]
  },
  {
   "cell_type": "code",
   "execution_count": 96,
   "metadata": {},
   "outputs": [
    {
     "data": {
      "text/plain": [
       "['1',\n",
       " '08/09/2020',\n",
       " 'Byju’s',\n",
       " 'EduTech',\n",
       " 'Online Tutoring',\n",
       " 'Bangalore',\n",
       " 'Tiger Global, General Atlantic and Owl Ventures',\n",
       " 'Private Equity Type',\n",
       " '500,000,000']"
      ]
     },
     "execution_count": 96,
     "metadata": {},
     "output_type": "execute_result"
    }
   ],
   "source": [
    "l2=['1', '08/09/2020' ,'Byju’s', 'EduTech', 'Online Tutoring', 'Bangalore' ,'Tiger Global, General Atlantic and Owl Ventures' ,'Private Equity Type', '500,000,000']\n",
    "l2"
   ]
  },
  {
   "cell_type": "code",
   "execution_count": 60,
   "metadata": {},
   "outputs": [
    {
     "data": {
      "text/plain": [
       "[<selenium.webdriver.remote.webelement.WebElement (session=\"91aa4227913f9de61564604157f228d8\", element=\"88a89d8f-4e3c-46eb-9704-b0859dfad581\")>]"
      ]
     },
     "execution_count": 60,
     "metadata": {},
     "output_type": "execute_result"
    }
   ],
   "source": [
    "Sept_tags3= driver.find_elements_by_xpath('//table[@class=\"tablepress tablepress-id-50 dataTable no-footer\"]/tbody/tr[2]')\n",
    "Sept_tags3\n",
    "\n",
    "#//*[@id=\"tablepress-50\"]/tbody/tr[2]"
   ]
  },
  {
   "cell_type": "code",
   "execution_count": 61,
   "metadata": {},
   "outputs": [
    {
     "data": {
      "text/plain": [
       "['2 12/09/2020 mCaffeine Personal Care Skincare & Haircare Mumbai Amicus Capital Private Equity I LLP, Amicus Capital Partners India Fund I and RP-SG Venture Fund 1 Series B 3,000,000']"
      ]
     },
     "execution_count": 61,
     "metadata": {},
     "output_type": "execute_result"
    }
   ],
   "source": [
    "Sept3=[]\n",
    "\n",
    "for i in Sept_tags3:\n",
    "    Sept3.append(i.text.replace(\"\\n\",\",\"))\n",
    "          \n",
    "Sept3"
   ]
  },
  {
   "cell_type": "code",
   "execution_count": 97,
   "metadata": {},
   "outputs": [
    {
     "data": {
      "text/plain": [
       "[2,\n",
       " '12/09/2020',\n",
       " ' mCaffeine',\n",
       " ' Personal Care',\n",
       " ' Skincare & Haircare',\n",
       " ' Mumbai',\n",
       " ' Amicus Capital Private Equity I LLP, Amicus Capital Partners India Fund I and RP-SG Venture Fund 1',\n",
       " ' Series B',\n",
       " 3000000]"
      ]
     },
     "execution_count": 97,
     "metadata": {},
     "output_type": "execute_result"
    }
   ],
   "source": [
    "l3=[2, '12/09/2020',' mCaffeine',' Personal Care',' Skincare & Haircare',' Mumbai',' Amicus Capital Private Equity I LLP, Amicus Capital Partners India Fund I and RP-SG Venture Fund 1',' Series B', 3000000]\n",
    "l3"
   ]
  },
  {
   "cell_type": "code",
   "execution_count": 62,
   "metadata": {},
   "outputs": [
    {
     "data": {
      "text/plain": [
       "[<selenium.webdriver.remote.webelement.WebElement (session=\"91aa4227913f9de61564604157f228d8\", element=\"d4d0c53f-e77e-47e7-8245-ea67bc10ea7e\")>]"
      ]
     },
     "execution_count": 62,
     "metadata": {},
     "output_type": "execute_result"
    }
   ],
   "source": [
    "Sept_tags4= driver.find_elements_by_xpath('//table[@class=\"tablepress tablepress-id-50 dataTable no-footer\"]/tbody/tr[3]')\n",
    "Sept_tags4"
   ]
  },
  {
   "cell_type": "code",
   "execution_count": 63,
   "metadata": {},
   "outputs": [
    {
     "data": {
      "text/plain": [
       "['3 09/09/2020 Qshala EduTech Online Curiosity Platform for Kids Bangalore Rainmatter Capital Angel 370,000']"
      ]
     },
     "execution_count": 63,
     "metadata": {},
     "output_type": "execute_result"
    }
   ],
   "source": [
    "Sept4=[]\n",
    "\n",
    "for i in Sept_tags4:\n",
    "    Sept4.append(i.text.replace(\"\\n\",\",\"))\n",
    "          \n",
    "Sept4"
   ]
  },
  {
   "cell_type": "code",
   "execution_count": 100,
   "metadata": {},
   "outputs": [
    {
     "data": {
      "text/plain": [
       "[3,\n",
       " '09/09/2020',\n",
       " 'Qshala',\n",
       " 'EduTech',\n",
       " 'Online Curiosity Platform for Kids',\n",
       " 'Bangalore',\n",
       " 'Rainmatter Capital',\n",
       " 'Angel',\n",
       " 370000]"
      ]
     },
     "execution_count": 100,
     "metadata": {},
     "output_type": "execute_result"
    }
   ],
   "source": [
    "l4=[3,'09/09/2020','Qshala','EduTech', 'Online Curiosity Platform for Kids','Bangalore', 'Rainmatter Capital','Angel', 370000]\n",
    "l4"
   ]
  },
  {
   "cell_type": "code",
   "execution_count": 66,
   "metadata": {},
   "outputs": [
    {
     "data": {
      "text/plain": [
       "['4 02/09/2020 Winzo Online Gaming Online Gaming New Delhi Kalaari Capital Partners, IndigoEdge Management Consultancy Series B 15,500,000']"
      ]
     },
     "execution_count": 66,
     "metadata": {},
     "output_type": "execute_result"
    }
   ],
   "source": [
    "Sept_tags5= driver.find_elements_by_xpath('//table[@class=\"tablepress tablepress-id-50 dataTable no-footer\"]/tbody/tr[4]')\n",
    "#Sept_tags5\n",
    "Sept5=[]\n",
    "\n",
    "for i in Sept_tags5:\n",
    "    Sept5.append(i.text.replace(\"\\n\",\",\"))\n",
    "          \n",
    "Sept5"
   ]
  },
  {
   "cell_type": "code",
   "execution_count": 101,
   "metadata": {},
   "outputs": [
    {
     "data": {
      "text/plain": [
       "[4,\n",
       " '02/09/2020',\n",
       " 'Winzo',\n",
       " 'Online Gaming',\n",
       " 'Online Gaming',\n",
       " 'New Delhi',\n",
       " 'Kalaari Capital Partners, IndigoEdge Management Consultancy',\n",
       " ' Series B',\n",
       " 15500000]"
      ]
     },
     "execution_count": 101,
     "metadata": {},
     "output_type": "execute_result"
    }
   ],
   "source": [
    "l5=[4,'02/09/2020','Winzo','Online Gaming', 'Online Gaming', 'New Delhi','Kalaari Capital Partners, IndigoEdge Management Consultancy',' Series B', 15500000]\n",
    "l5"
   ]
  },
  {
   "cell_type": "code",
   "execution_count": 105,
   "metadata": {},
   "outputs": [
    {
     "data": {
      "text/plain": [
       "['5 09/09/2020 Hippo Video Video Customer Experience(CX) Platform Video Customer Experience(CX) Platform Newark, Delaware, United States of Amercia Alpha Wave Incubation, Exfinity Venture Partners and existing backers.,Series A 4,500,000']"
      ]
     },
     "execution_count": 105,
     "metadata": {},
     "output_type": "execute_result"
    }
   ],
   "source": [
    "Sept_tags6= driver.find_elements_by_xpath('//table[@class=\"tablepress tablepress-id-50 dataTable no-footer\"]/tbody/tr[5]')\n",
    "#Sept_tags5\n",
    "Sept6=[]\n",
    "\n",
    "for i in Sept_tags6:\n",
    "    Sept6.append(i.text.replace(\"\\n\",\",\"))\n",
    "          \n",
    "Sept6"
   ]
  },
  {
   "cell_type": "code",
   "execution_count": 106,
   "metadata": {},
   "outputs": [
    {
     "data": {
      "text/plain": [
       "[5,\n",
       " '09/09/2020',\n",
       " 'Hippo Video',\n",
       " 'Video Customer Experience(CX) Platform',\n",
       " 'Video Customer Experience(CX) Platform',\n",
       " ' Newark Delaware, United States of Amercia',\n",
       " ' Alpha Wave Incubation, Exfinity Venture Partners and existing backers.',\n",
       " 'Series A',\n",
       " 4500000]"
      ]
     },
     "execution_count": 106,
     "metadata": {},
     "output_type": "execute_result"
    }
   ],
   "source": [
    "l6=[5,'09/09/2020','Hippo Video','Video Customer Experience(CX) Platform','Video Customer Experience(CX) Platform',' Newark Delaware, United States of Amercia',' Alpha Wave Incubation, Exfinity Venture Partners and existing backers.','Series A', 4500000]\n",
    "l6"
   ]
  },
  {
   "cell_type": "code",
   "execution_count": null,
   "metadata": {},
   "outputs": [],
   "source": []
  },
  {
   "cell_type": "code",
   "execution_count": 68,
   "metadata": {},
   "outputs": [
    {
     "data": {
      "text/plain": [
       "['6 07/09/2020 Melorra E-commerce Online Jewelry Store,Bangalore Shadow Holdings, Lightbox. Debt Financing upto 8,900,000']"
      ]
     },
     "execution_count": 68,
     "metadata": {},
     "output_type": "execute_result"
    }
   ],
   "source": [
    "Sept_tags7= driver.find_elements_by_xpath('//table[@class=\"tablepress tablepress-id-50 dataTable no-footer\"]/tbody/tr[6]')\n",
    "#Sept_tags5\n",
    "Sept7=[]\n",
    "\n",
    "for i in Sept_tags7:\n",
    "    Sept7.append(i.text.replace(\"\\n\",\",\"))\n",
    "          \n",
    "Sept7"
   ]
  },
  {
   "cell_type": "code",
   "execution_count": 107,
   "metadata": {},
   "outputs": [
    {
     "data": {
      "text/plain": [
       "[6,\n",
       " '07/09/2020',\n",
       " 'Melorra',\n",
       " 'E-commerce',\n",
       " 'Online Jewelry Store',\n",
       " 'Bangalore',\n",
       " 'Shadow Holdings, Lightbox.',\n",
       " ' Debt Financing',\n",
       " 'upto 8900000']"
      ]
     },
     "execution_count": 107,
     "metadata": {},
     "output_type": "execute_result"
    }
   ],
   "source": [
    "l7=[6,'07/09/2020','Melorra','E-commerce','Online Jewelry Store','Bangalore', 'Shadow Holdings, Lightbox.',' Debt Financing','upto 8900000']\n",
    "l7"
   ]
  },
  {
   "cell_type": "code",
   "execution_count": 69,
   "metadata": {},
   "outputs": [
    {
     "data": {
      "text/plain": [
       "['7 07/09/2020 1mg E-commerce Online Pharmacy Gurgaon Gaja Capital, Tata Capital, Partners Group In Progress 100,000,000']"
      ]
     },
     "execution_count": 69,
     "metadata": {},
     "output_type": "execute_result"
    }
   ],
   "source": [
    "Sept_tags8= driver.find_elements_by_xpath('//table[@class=\"tablepress tablepress-id-50 dataTable no-footer\"]/tbody/tr[7]')\n",
    "#Sept_tags5\n",
    "Sept8=[]\n",
    "\n",
    "for i in Sept_tags8:\n",
    "    Sept8.append(i.text.replace(\"\\n\",\",\"))\n",
    "          \n",
    "Sept8"
   ]
  },
  {
   "cell_type": "code",
   "execution_count": 108,
   "metadata": {},
   "outputs": [
    {
     "data": {
      "text/plain": [
       "[7,\n",
       " '07/09/2020',\n",
       " '1mg',\n",
       " 'E-commerce',\n",
       " 'Online Pharmacy',\n",
       " 'Gurgaon',\n",
       " 'Gaja Capital, Tata Capital, Partners Group',\n",
       " 'In Progress',\n",
       " 100000000]"
      ]
     },
     "execution_count": 108,
     "metadata": {},
     "output_type": "execute_result"
    }
   ],
   "source": [
    "l8=[7,'07/09/2020','1mg','E-commerce','Online Pharmacy','Gurgaon','Gaja Capital, Tata Capital, Partners Group', 'In Progress',100000000]\n",
    "l8"
   ]
  },
  {
   "cell_type": "code",
   "execution_count": 71,
   "metadata": {},
   "outputs": [
    {
     "data": {
      "text/plain": [
       "['8 31/08/2020 mfine HealthTech On-Demand Healthcare Services Bangalore Caretech Pte Inc Series B 5,400,000']"
      ]
     },
     "execution_count": 71,
     "metadata": {},
     "output_type": "execute_result"
    }
   ],
   "source": [
    "Sept_tags9= driver.find_elements_by_xpath('//table[@class=\"tablepress tablepress-id-50 dataTable no-footer\"]/tbody/tr[8]')\n",
    "#Sept_tags5\n",
    "Sept9=[]\n",
    "\n",
    "for i in Sept_tags9:\n",
    "    Sept9.append(i.text.replace(\"\\n\",\",\"))\n",
    "          \n",
    "Sept9"
   ]
  },
  {
   "cell_type": "code",
   "execution_count": 109,
   "metadata": {},
   "outputs": [
    {
     "data": {
      "text/plain": [
       "[8,\n",
       " '31/08/2020',\n",
       " 'mfine',\n",
       " 'HealthTech',\n",
       " 'On-Demand Healthcare Services',\n",
       " 'Bangalore',\n",
       " 'Caretech Pte Inc',\n",
       " 'Series B',\n",
       " 5400000]"
      ]
     },
     "execution_count": 109,
     "metadata": {},
     "output_type": "execute_result"
    }
   ],
   "source": [
    "l9=[8,'31/08/2020','mfine','HealthTech', 'On-Demand Healthcare Services','Bangalore', 'Caretech Pte Inc','Series B',5400000]\n",
    "l9"
   ]
  },
  {
   "cell_type": "code",
   "execution_count": 72,
   "metadata": {},
   "outputs": [
    {
     "data": {
      "text/plain": [
       "['9 31/08/2020 Apna Human Resources Recruitment Platform Bangalore Lightspeed India and Sequoia Capital India Series A 8,000,000']"
      ]
     },
     "execution_count": 72,
     "metadata": {},
     "output_type": "execute_result"
    }
   ],
   "source": [
    "Sept_tags10= driver.find_elements_by_xpath('//table[@class=\"tablepress tablepress-id-50 dataTable no-footer\"]/tbody/tr[9]')\n",
    "#Sept_tags5\n",
    "Sept10=[]\n",
    "\n",
    "for i in Sept_tags10:\n",
    "    Sept10.append(i.text.replace(\"\\n\",\",\"))\n",
    "          \n",
    "Sept10"
   ]
  },
  {
   "cell_type": "code",
   "execution_count": 110,
   "metadata": {},
   "outputs": [
    {
     "data": {
      "text/plain": [
       "[9,\n",
       " '31/08/2020',\n",
       " 'Apna',\n",
       " ' Human Resources',\n",
       " 'Recruitment Platform',\n",
       " ' Bangalore',\n",
       " 'Lightspeed India and Sequoia Capital India',\n",
       " 'Series A',\n",
       " 8000000]"
      ]
     },
     "execution_count": 110,
     "metadata": {},
     "output_type": "execute_result"
    }
   ],
   "source": [
    "l10=[9,'31/08/2020','Apna',' Human Resources','Recruitment Platform',' Bangalore', 'Lightspeed India and Sequoia Capital India','Series A', 8000000]\n",
    "l10"
   ]
  },
  {
   "cell_type": "code",
   "execution_count": 73,
   "metadata": {},
   "outputs": [
    {
     "data": {
      "text/plain": [
       "['10 03/09/2020 Railofy Transportation WL & RAC protection platform Mumbai Chiratae Ventures Seed 950,000']"
      ]
     },
     "execution_count": 73,
     "metadata": {},
     "output_type": "execute_result"
    }
   ],
   "source": [
    "Sept_tags11= driver.find_elements_by_xpath('//table[@class=\"tablepress tablepress-id-50 dataTable no-footer\"]/tbody/tr[10]')\n",
    "#Sept_tags5\n",
    "Sept11=[]\n",
    "\n",
    "for i in Sept_tags11:\n",
    "    Sept11.append(i.text.replace(\"\\n\",\",\"))\n",
    "          \n",
    "Sept11"
   ]
  },
  {
   "cell_type": "code",
   "execution_count": 111,
   "metadata": {},
   "outputs": [
    {
     "data": {
      "text/plain": [
       "[10,\n",
       " '03/09/2020',\n",
       " 'Railofy',\n",
       " 'Transportation',\n",
       " 'WL & RAC protection platform',\n",
       " 'Mumbai',\n",
       " 'Chiratae Ventures',\n",
       " 'Seed',\n",
       " 950000]"
      ]
     },
     "execution_count": 111,
     "metadata": {},
     "output_type": "execute_result"
    }
   ],
   "source": [
    "l11=[10,'03/09/2020', 'Railofy','Transportation','WL & RAC protection platform', 'Mumbai', 'Chiratae Ventures', 'Seed', 950000]\n",
    "l11"
   ]
  },
  {
   "cell_type": "code",
   "execution_count": 77,
   "metadata": {},
   "outputs": [
    {
     "data": {
      "text/plain": [
       "<selenium.webdriver.remote.webelement.WebElement (session=\"91aa4227913f9de61564604157f228d8\", element=\"c6dfd2f4-9feb-485e-84e5-4bf011881993\")>"
      ]
     },
     "execution_count": 77,
     "metadata": {},
     "output_type": "execute_result"
    }
   ],
   "source": [
    "search_btn=driver.find_element_by_id('tablepress-50_next')\n",
    "search_btn\n",
    "#search_btn.click()"
   ]
  },
  {
   "cell_type": "code",
   "execution_count": 78,
   "metadata": {},
   "outputs": [],
   "source": [
    "search_btn.click()"
   ]
  },
  {
   "cell_type": "code",
   "execution_count": 83,
   "metadata": {},
   "outputs": [
    {
     "data": {
      "text/plain": [
       "['11 08/09/2020 Cell Propulsion Automobile Electric Mobility Solutions Bangalore growX Ventures and Micelio pre-Series A NA']"
      ]
     },
     "execution_count": 83,
     "metadata": {},
     "output_type": "execute_result"
    }
   ],
   "source": [
    "Sept_tags12= driver.find_elements_by_xpath('//table[@class=\"tablepress tablepress-id-50 dataTable no-footer\"]/tbody/tr[1]')\n",
    "#Sept_tags5\n",
    "Sept12=[]\n",
    "\n",
    "for i in Sept_tags12:\n",
    "    Sept12.append(i.text.replace(\"\\n\",\",\"))\n",
    "          \n",
    "Sept12\n",
    "#//*[@id=\"tablepress-50\"]/tbody/tr\n",
    "#//*[@id=\"tablepress-50\"]\n",
    "#//*[@id=\"tablepress-50\"]"
   ]
  },
  {
   "cell_type": "code",
   "execution_count": 112,
   "metadata": {},
   "outputs": [
    {
     "data": {
      "text/plain": [
       "[11,\n",
       " '08/09/2020',\n",
       " 'Cell Propulsion',\n",
       " 'Automobile',\n",
       " 'Electric Mobility Solutions',\n",
       " 'Bangalore',\n",
       " 'growX Ventures and Micelio',\n",
       " 'pre-Series A',\n",
       " 'NA']"
      ]
     },
     "execution_count": 112,
     "metadata": {},
     "output_type": "execute_result"
    }
   ],
   "source": [
    "l12=[11, '08/09/2020','Cell Propulsion', 'Automobile', 'Electric Mobility Solutions', 'Bangalore', 'growX Ventures and Micelio', 'pre-Series A', 'NA']\n",
    "l12"
   ]
  },
  {
   "cell_type": "code",
   "execution_count": 114,
   "metadata": {},
   "outputs": [
    {
     "data": {
      "text/html": [
       "<div>\n",
       "<style scoped>\n",
       "    .dataframe tbody tr th:only-of-type {\n",
       "        vertical-align: middle;\n",
       "    }\n",
       "\n",
       "    .dataframe tbody tr th {\n",
       "        vertical-align: top;\n",
       "    }\n",
       "\n",
       "    .dataframe thead th {\n",
       "        text-align: right;\n",
       "    }\n",
       "</style>\n",
       "<table border=\"1\" class=\"dataframe\">\n",
       "  <thead>\n",
       "    <tr style=\"text-align: right;\">\n",
       "      <th></th>\n",
       "      <th>Sr. No.</th>\n",
       "      <th>Date (dd/mm/yyyy)</th>\n",
       "      <th>Startup Name</th>\n",
       "      <th>Industry / Vertical</th>\n",
       "      <th>Sub-Vertical</th>\n",
       "      <th>City / Location</th>\n",
       "      <th>Investors Name</th>\n",
       "      <th>Investment Type</th>\n",
       "      <th>Amount (In USD)</th>\n",
       "    </tr>\n",
       "  </thead>\n",
       "  <tbody>\n",
       "    <tr>\n",
       "      <th>0</th>\n",
       "      <td>1</td>\n",
       "      <td>08/09/2020</td>\n",
       "      <td>Byju’s</td>\n",
       "      <td>EduTech</td>\n",
       "      <td>Online Tutoring</td>\n",
       "      <td>Bangalore</td>\n",
       "      <td>Tiger Global, General Atlantic and Owl Ventures</td>\n",
       "      <td>Private Equity Type</td>\n",
       "      <td>500,000,000</td>\n",
       "    </tr>\n",
       "    <tr>\n",
       "      <th>1</th>\n",
       "      <td>2</td>\n",
       "      <td>12/09/2020</td>\n",
       "      <td>mCaffeine</td>\n",
       "      <td>Personal Care</td>\n",
       "      <td>Skincare &amp; Haircare</td>\n",
       "      <td>Mumbai</td>\n",
       "      <td>Amicus Capital Private Equity I LLP, Amicus C...</td>\n",
       "      <td>Series B</td>\n",
       "      <td>3000000</td>\n",
       "    </tr>\n",
       "    <tr>\n",
       "      <th>2</th>\n",
       "      <td>3</td>\n",
       "      <td>09/09/2020</td>\n",
       "      <td>Qshala</td>\n",
       "      <td>EduTech</td>\n",
       "      <td>Online Curiosity Platform for Kids</td>\n",
       "      <td>Bangalore</td>\n",
       "      <td>Rainmatter Capital</td>\n",
       "      <td>Angel</td>\n",
       "      <td>370000</td>\n",
       "    </tr>\n",
       "    <tr>\n",
       "      <th>3</th>\n",
       "      <td>4</td>\n",
       "      <td>02/09/2020</td>\n",
       "      <td>Winzo</td>\n",
       "      <td>Online Gaming</td>\n",
       "      <td>Online Gaming</td>\n",
       "      <td>New Delhi</td>\n",
       "      <td>Kalaari Capital Partners, IndigoEdge Managemen...</td>\n",
       "      <td>Series B</td>\n",
       "      <td>15500000</td>\n",
       "    </tr>\n",
       "    <tr>\n",
       "      <th>4</th>\n",
       "      <td>5</td>\n",
       "      <td>09/09/2020</td>\n",
       "      <td>Hippo Video</td>\n",
       "      <td>Video Customer Experience(CX) Platform</td>\n",
       "      <td>Video Customer Experience(CX) Platform</td>\n",
       "      <td>Newark Delaware, United States of Amercia</td>\n",
       "      <td>Alpha Wave Incubation, Exfinity Venture Partn...</td>\n",
       "      <td>Series A</td>\n",
       "      <td>4500000</td>\n",
       "    </tr>\n",
       "    <tr>\n",
       "      <th>5</th>\n",
       "      <td>6</td>\n",
       "      <td>07/09/2020</td>\n",
       "      <td>Melorra</td>\n",
       "      <td>E-commerce</td>\n",
       "      <td>Online Jewelry Store</td>\n",
       "      <td>Bangalore</td>\n",
       "      <td>Shadow Holdings, Lightbox.</td>\n",
       "      <td>Debt Financing</td>\n",
       "      <td>upto 8900000</td>\n",
       "    </tr>\n",
       "    <tr>\n",
       "      <th>6</th>\n",
       "      <td>7</td>\n",
       "      <td>07/09/2020</td>\n",
       "      <td>1mg</td>\n",
       "      <td>E-commerce</td>\n",
       "      <td>Online Pharmacy</td>\n",
       "      <td>Gurgaon</td>\n",
       "      <td>Gaja Capital, Tata Capital, Partners Group</td>\n",
       "      <td>In Progress</td>\n",
       "      <td>100000000</td>\n",
       "    </tr>\n",
       "    <tr>\n",
       "      <th>7</th>\n",
       "      <td>8</td>\n",
       "      <td>31/08/2020</td>\n",
       "      <td>mfine</td>\n",
       "      <td>HealthTech</td>\n",
       "      <td>On-Demand Healthcare Services</td>\n",
       "      <td>Bangalore</td>\n",
       "      <td>Caretech Pte Inc</td>\n",
       "      <td>Series B</td>\n",
       "      <td>5400000</td>\n",
       "    </tr>\n",
       "    <tr>\n",
       "      <th>8</th>\n",
       "      <td>9</td>\n",
       "      <td>31/08/2020</td>\n",
       "      <td>Apna</td>\n",
       "      <td>Human Resources</td>\n",
       "      <td>Recruitment Platform</td>\n",
       "      <td>Bangalore</td>\n",
       "      <td>Lightspeed India and Sequoia Capital India</td>\n",
       "      <td>Series A</td>\n",
       "      <td>8000000</td>\n",
       "    </tr>\n",
       "    <tr>\n",
       "      <th>9</th>\n",
       "      <td>10</td>\n",
       "      <td>03/09/2020</td>\n",
       "      <td>Railofy</td>\n",
       "      <td>Transportation</td>\n",
       "      <td>WL &amp; RAC protection platform</td>\n",
       "      <td>Mumbai</td>\n",
       "      <td>Chiratae Ventures</td>\n",
       "      <td>Seed</td>\n",
       "      <td>950000</td>\n",
       "    </tr>\n",
       "    <tr>\n",
       "      <th>10</th>\n",
       "      <td>11</td>\n",
       "      <td>08/09/2020</td>\n",
       "      <td>Cell Propulsion</td>\n",
       "      <td>Automobile</td>\n",
       "      <td>Electric Mobility Solutions</td>\n",
       "      <td>Bangalore</td>\n",
       "      <td>growX Ventures and Micelio</td>\n",
       "      <td>pre-Series A</td>\n",
       "      <td>NA</td>\n",
       "    </tr>\n",
       "  </tbody>\n",
       "</table>\n",
       "</div>"
      ],
      "text/plain": [
       "   Sr. No. Date (dd/mm/yyyy)     Startup Name  \\\n",
       "0        1        08/09/2020           Byju’s   \n",
       "1        2        12/09/2020        mCaffeine   \n",
       "2        3        09/09/2020           Qshala   \n",
       "3        4        02/09/2020            Winzo   \n",
       "4        5        09/09/2020      Hippo Video   \n",
       "5        6        07/09/2020          Melorra   \n",
       "6        7        07/09/2020              1mg   \n",
       "7        8        31/08/2020            mfine   \n",
       "8        9        31/08/2020             Apna   \n",
       "9       10        03/09/2020          Railofy   \n",
       "10      11        08/09/2020  Cell Propulsion   \n",
       "\n",
       "                       Industry / Vertical  \\\n",
       "0                                  EduTech   \n",
       "1                            Personal Care   \n",
       "2                                  EduTech   \n",
       "3                            Online Gaming   \n",
       "4   Video Customer Experience(CX) Platform   \n",
       "5                               E-commerce   \n",
       "6                               E-commerce   \n",
       "7                               HealthTech   \n",
       "8                          Human Resources   \n",
       "9                           Transportation   \n",
       "10                              Automobile   \n",
       "\n",
       "                              Sub-Vertical  \\\n",
       "0                          Online Tutoring   \n",
       "1                      Skincare & Haircare   \n",
       "2       Online Curiosity Platform for Kids   \n",
       "3                            Online Gaming   \n",
       "4   Video Customer Experience(CX) Platform   \n",
       "5                     Online Jewelry Store   \n",
       "6                          Online Pharmacy   \n",
       "7            On-Demand Healthcare Services   \n",
       "8                     Recruitment Platform   \n",
       "9             WL & RAC protection platform   \n",
       "10             Electric Mobility Solutions   \n",
       "\n",
       "                               City / Location  \\\n",
       "0                                    Bangalore   \n",
       "1                                       Mumbai   \n",
       "2                                    Bangalore   \n",
       "3                                    New Delhi   \n",
       "4    Newark Delaware, United States of Amercia   \n",
       "5                                    Bangalore   \n",
       "6                                      Gurgaon   \n",
       "7                                    Bangalore   \n",
       "8                                    Bangalore   \n",
       "9                                       Mumbai   \n",
       "10                                   Bangalore   \n",
       "\n",
       "                                       Investors Name      Investment Type  \\\n",
       "0     Tiger Global, General Atlantic and Owl Ventures  Private Equity Type   \n",
       "1    Amicus Capital Private Equity I LLP, Amicus C...             Series B   \n",
       "2                                  Rainmatter Capital                Angel   \n",
       "3   Kalaari Capital Partners, IndigoEdge Managemen...             Series B   \n",
       "4    Alpha Wave Incubation, Exfinity Venture Partn...             Series A   \n",
       "5                          Shadow Holdings, Lightbox.       Debt Financing   \n",
       "6          Gaja Capital, Tata Capital, Partners Group          In Progress   \n",
       "7                                    Caretech Pte Inc             Series B   \n",
       "8          Lightspeed India and Sequoia Capital India             Series A   \n",
       "9                                   Chiratae Ventures                 Seed   \n",
       "10                         growX Ventures and Micelio         pre-Series A   \n",
       "\n",
       "   Amount (In USD)  \n",
       "0      500,000,000  \n",
       "1          3000000  \n",
       "2           370000  \n",
       "3         15500000  \n",
       "4          4500000  \n",
       "5     upto 8900000  \n",
       "6        100000000  \n",
       "7          5400000  \n",
       "8          8000000  \n",
       "9           950000  \n",
       "10              NA  "
      ]
     },
     "execution_count": 114,
     "metadata": {},
     "output_type": "execute_result"
    }
   ],
   "source": [
    "l13=[]\n",
    "l13.append(l2)\n",
    "l13.append(l3)\n",
    "l13.append(l4)\n",
    "l13.append(l5)\n",
    "l13.append(l6)\n",
    "l13.append(l7)\n",
    "l13.append(l8)\n",
    "l13.append(l9)\n",
    "l13.append(l10)\n",
    "l13.append(l11)\n",
    "l13.append(l12)\n",
    "\n",
    "\n",
    "df_n=pd.DataFrame(l13, columns=['Sr. No.', 'Date (dd/mm/yyyy)' ,'Startup Name', 'Industry / Vertical', 'Sub-Vertical', 'City / Location' ,'Investors Name' ,'Investment Type', 'Amount (In USD)'])\n",
    "df_n"
   ]
  },
  {
   "cell_type": "markdown",
   "metadata": {},
   "source": [
    "# August 2020"
   ]
  },
  {
   "cell_type": "code",
   "execution_count": 118,
   "metadata": {},
   "outputs": [
    {
     "data": {
      "text/plain": [
       "['1 15/08/2020 Practo HealthTech Health care and Wellness Bangalore A1A Company,Series F 32,000,000']"
      ]
     },
     "execution_count": 118,
     "metadata": {},
     "output_type": "execute_result"
    }
   ],
   "source": [
    "Aug_tags1= driver.find_elements_by_xpath('//table[@class=\"tablepress tablepress-id-49 dataTable no-footer\"]/tbody/tr[1]')\n",
    "#Aug_tags1\n",
    "\n",
    "\n",
    "Aug1=[]\n",
    "\n",
    "for i in Aug_tags1:\n",
    "    Aug1.append(i.text.replace(\"\\n\",\",\"))\n",
    "          \n",
    "Aug1\n",
    "#//*[@id=\"tablepress-49\"]/tbody/tr[1]\n",
    "#tablepress tablepress-id-49 dataTable no-footer"
   ]
  },
  {
   "cell_type": "code",
   "execution_count": 120,
   "metadata": {},
   "outputs": [
    {
     "data": {
      "text/plain": [
       "[1,\n",
       " '15/08/2020',\n",
       " 'Practo',\n",
       " 'HealthTech',\n",
       " 'Health care and Wellness',\n",
       " 'Bangalore',\n",
       " 'A1A Company',\n",
       " 'Series F',\n",
       " 32000000]"
      ]
     },
     "execution_count": 120,
     "metadata": {},
     "output_type": "execute_result"
    }
   ],
   "source": [
    "a1=[1, '15/08/2020', 'Practo', 'HealthTech', 'Health care and Wellness', 'Bangalore', 'A1A Company','Series F', 32000000]\n",
    "a1"
   ]
  },
  {
   "cell_type": "code",
   "execution_count": 119,
   "metadata": {},
   "outputs": [
    {
     "data": {
      "text/plain": [
       "['2 13/08/2020 Medlife E-commerce Online Pharmacy Bangalore Prasid Uno Family Trust and SC Credit Fund 23,000,000']"
      ]
     },
     "execution_count": 119,
     "metadata": {},
     "output_type": "execute_result"
    }
   ],
   "source": [
    "Aug_tags2= driver.find_elements_by_xpath('//table[@class=\"tablepress tablepress-id-49 dataTable no-footer\"]/tbody/tr[2]')\n",
    "#Aug_tags1\n",
    "\n",
    "\n",
    "Aug2=[]\n",
    "\n",
    "for i in Aug_tags2:\n",
    "    Aug2.append(i.text.replace(\"\\n\",\",\"))\n",
    "          \n",
    "Aug2"
   ]
  },
  {
   "cell_type": "code",
   "execution_count": 124,
   "metadata": {},
   "outputs": [
    {
     "data": {
      "text/plain": [
       "[2,\n",
       " '13/08/2020',\n",
       " 'Medlife',\n",
       " 'E-commerce',\n",
       " 'Online Pharmacy',\n",
       " 'Bangalore',\n",
       " 'Prasid Uno Family Trust and SC Credit Fund',\n",
       " '-',\n",
       " 23000000]"
      ]
     },
     "execution_count": 124,
     "metadata": {},
     "output_type": "execute_result"
    }
   ],
   "source": [
    "a2=[2, '13/08/2020', 'Medlife', 'E-commerce', 'Online Pharmacy', 'Bangalore', 'Prasid Uno Family Trust and SC Credit Fund','-', 23000000]\n",
    "a2 \n",
    "    "
   ]
  },
  {
   "cell_type": "code",
   "execution_count": 125,
   "metadata": {},
   "outputs": [
    {
     "data": {
      "text/plain": [
       "['3 13/08/2020 HungerBox,FoodTech Online Food Delivery Service Bangalore One97, Sabre Partners Trust, Pratithi Investment Trust, and Srihari Kumar Series D1 1,560,000']"
      ]
     },
     "execution_count": 125,
     "metadata": {},
     "output_type": "execute_result"
    }
   ],
   "source": [
    "Aug_tags3= driver.find_elements_by_xpath('//table[@class=\"tablepress tablepress-id-49 dataTable no-footer\"]/tbody/tr[3]')\n",
    "#Aug_tags1\n",
    "\n",
    "\n",
    "Aug3=[]\n",
    "\n",
    "for i in Aug_tags3:\n",
    "    Aug3.append(i.text.replace(\"\\n\",\",\"))\n",
    "          \n",
    "Aug3"
   ]
  },
  {
   "cell_type": "code",
   "execution_count": 126,
   "metadata": {},
   "outputs": [
    {
     "data": {
      "text/plain": [
       "[3,\n",
       " '13/08/2020',\n",
       " 'HungerBox',\n",
       " 'FoodTech',\n",
       " 'Online Food Delivery Service',\n",
       " 'Bangalore',\n",
       " 'One97, Sabre Partners Trust, Pratithi Investment Trust, and Srihari Kumar',\n",
       " 'Series D1',\n",
       " 1560000]"
      ]
     },
     "execution_count": 126,
     "metadata": {},
     "output_type": "execute_result"
    }
   ],
   "source": [
    "a3=[3, '13/08/2020', 'HungerBox','FoodTech', 'Online Food Delivery Service', 'Bangalore', 'One97, Sabre Partners Trust, Pratithi Investment Trust, and Srihari Kumar', 'Series D1', 1560000]\n",
    "a3"
   ]
  },
  {
   "cell_type": "code",
   "execution_count": 127,
   "metadata": {},
   "outputs": [
    {
     "data": {
      "text/plain": [
       "['4 04/08/2020 Dunzo Hyper-local Logistics Online Delivery Services Bangalore Existing Backers In Progress 30,000,000']"
      ]
     },
     "execution_count": 127,
     "metadata": {},
     "output_type": "execute_result"
    }
   ],
   "source": [
    "Aug_tags4= driver.find_elements_by_xpath('//table[@class=\"tablepress tablepress-id-49 dataTable no-footer\"]/tbody/tr[4]')\n",
    "#Aug_tags1\n",
    "\n",
    "\n",
    "Aug4=[]\n",
    "\n",
    "for i in Aug_tags4:\n",
    "    Aug4.append(i.text.replace(\"\\n\",\",\"))\n",
    "          \n",
    "Aug4"
   ]
  },
  {
   "cell_type": "code",
   "execution_count": 128,
   "metadata": {},
   "outputs": [
    {
     "data": {
      "text/plain": [
       "[4,\n",
       " '04/08/2020',\n",
       " 'Dunzo',\n",
       " 'Hyper-local Logistics',\n",
       " 'Online Delivery Services',\n",
       " 'Bangalore',\n",
       " 'Existing Backers',\n",
       " 'In Progress',\n",
       " 30000000]"
      ]
     },
     "execution_count": 128,
     "metadata": {},
     "output_type": "execute_result"
    }
   ],
   "source": [
    "a4=[4, '04/08/2020', 'Dunzo', 'Hyper-local Logistics', 'Online Delivery Services', 'Bangalore', 'Existing Backers', 'In Progress', 30000000]\n",
    "a4"
   ]
  },
  {
   "cell_type": "code",
   "execution_count": 129,
   "metadata": {},
   "outputs": [
    {
     "data": {
      "text/plain": [
       "['5 11/08/2020 Terra.do EduTech Online Climate School, E-learning Stanford, California, Stanford Angels and Entrepreneurs (India), BEENEXT Emerging Asia, Rainmatter Capital,,Seed 1,400,000']"
      ]
     },
     "execution_count": 129,
     "metadata": {},
     "output_type": "execute_result"
    }
   ],
   "source": [
    "Aug_tags5= driver.find_elements_by_xpath('//table[@class=\"tablepress tablepress-id-49 dataTable no-footer\"]/tbody/tr[5]')\n",
    "#Aug_tags1\n",
    "\n",
    "\n",
    "Aug5=[]\n",
    "\n",
    "for i in Aug_tags5:\n",
    "    Aug5.append(i.text.replace(\"\\n\",\",\"))\n",
    "          \n",
    "Aug5"
   ]
  },
  {
   "cell_type": "code",
   "execution_count": 130,
   "metadata": {},
   "outputs": [
    {
     "data": {
      "text/plain": [
       "[5,\n",
       " '11/08/2020',\n",
       " 'Terra.do',\n",
       " 'EduTech',\n",
       " 'Online Climate School, E-learning',\n",
       " 'Stanford, California',\n",
       " 'Stanford Angels and Entrepreneurs (India), BEENEXT Emerging Asia, Rainmatter Capital',\n",
       " 'Seed',\n",
       " 1400000]"
      ]
     },
     "execution_count": 130,
     "metadata": {},
     "output_type": "execute_result"
    }
   ],
   "source": [
    "a5=[5, '11/08/2020', 'Terra.do', 'EduTech', 'Online Climate School, E-learning', 'Stanford, California', 'Stanford Angels and Entrepreneurs (India), BEENEXT Emerging Asia, Rainmatter Capital','Seed', 1400000]\n",
    "a5"
   ]
  },
  {
   "cell_type": "code",
   "execution_count": 131,
   "metadata": {},
   "outputs": [
    {
     "data": {
      "text/plain": [
       "['6 12/08/2020 Classplus EduTech E-learning, Online Tutoring,,Noida Falcon Edge In Progress upto 15,000,000']"
      ]
     },
     "execution_count": 131,
     "metadata": {},
     "output_type": "execute_result"
    }
   ],
   "source": [
    "Aug_tags6= driver.find_elements_by_xpath('//table[@class=\"tablepress tablepress-id-49 dataTable no-footer\"]/tbody/tr[6]')\n",
    "#Aug_tags1\n",
    "\n",
    "\n",
    "Aug6=[]\n",
    "\n",
    "for i in Aug_tags6:\n",
    "    Aug6.append(i.text.replace(\"\\n\",\",\"))\n",
    "          \n",
    "Aug6"
   ]
  },
  {
   "cell_type": "code",
   "execution_count": 132,
   "metadata": {},
   "outputs": [
    {
     "data": {
      "text/plain": [
       "[6,\n",
       " '12/08/2020',\n",
       " 'Classplus',\n",
       " 'EduTech',\n",
       " 'E-learning, Online Tutoring',\n",
       " 'Noida',\n",
       " 'Falcon Edge',\n",
       " 'In Progress',\n",
       " 'upto 15,000,000']"
      ]
     },
     "execution_count": 132,
     "metadata": {},
     "output_type": "execute_result"
    }
   ],
   "source": [
    "a6=[6, '12/08/2020', 'Classplus', 'EduTech', 'E-learning, Online Tutoring','Noida', 'Falcon Edge', 'In Progress', 'upto 15,000,000']\n",
    "a6"
   ]
  },
  {
   "cell_type": "code",
   "execution_count": 133,
   "metadata": {},
   "outputs": [
    {
     "data": {
      "text/plain": [
       "['7 14/08/2020 Niyo FinTech Financial Services Bangalore Niyo Solutions Inc. 6,000,000']"
      ]
     },
     "execution_count": 133,
     "metadata": {},
     "output_type": "execute_result"
    }
   ],
   "source": [
    "Aug_tags7= driver.find_elements_by_xpath('//table[@class=\"tablepress tablepress-id-49 dataTable no-footer\"]/tbody/tr[7]')\n",
    "#Aug_tags1\n",
    "\n",
    "\n",
    "Aug7=[]\n",
    "\n",
    "for i in Aug_tags7:\n",
    "    Aug7.append(i.text.replace(\"\\n\",\",\"))\n",
    "          \n",
    "Aug7"
   ]
  },
  {
   "cell_type": "code",
   "execution_count": 134,
   "metadata": {},
   "outputs": [
    {
     "data": {
      "text/plain": [
       "[7,\n",
       " '14/08/2020',\n",
       " 'Niyo',\n",
       " 'FinTech',\n",
       " 'Financial Services',\n",
       " 'Bangalore',\n",
       " 'Niyo Solutions Inc.',\n",
       " ' -',\n",
       " 6000000]"
      ]
     },
     "execution_count": 134,
     "metadata": {},
     "output_type": "execute_result"
    }
   ],
   "source": [
    "a7=[7, '14/08/2020', 'Niyo', 'FinTech', 'Financial Services', 'Bangalore', 'Niyo Solutions Inc.',' -',6000000]\n",
    "a7"
   ]
  },
  {
   "cell_type": "code",
   "execution_count": 135,
   "metadata": {},
   "outputs": [
    {
     "data": {
      "text/plain": [
       "['8 10/08/2020 ZestMoney FinTech Financial Services Bangalore Primrose Hills Ventures 10,670,000']"
      ]
     },
     "execution_count": 135,
     "metadata": {},
     "output_type": "execute_result"
    }
   ],
   "source": [
    "Aug_tags8= driver.find_elements_by_xpath('//table[@class=\"tablepress tablepress-id-49 dataTable no-footer\"]/tbody/tr[8]')\n",
    "#Aug_tags1\n",
    "\n",
    "\n",
    "Aug8=[]\n",
    "\n",
    "for i in Aug_tags8:\n",
    "    Aug8.append(i.text.replace(\"\\n\",\",\"))\n",
    "          \n",
    "Aug8"
   ]
  },
  {
   "cell_type": "code",
   "execution_count": 136,
   "metadata": {},
   "outputs": [
    {
     "data": {
      "text/plain": [
       "[8,\n",
       " '10/08/2020',\n",
       " 'ZestMoney',\n",
       " 'FinTech',\n",
       " 'Financial Services',\n",
       " 'Bangalore',\n",
       " 'Primrose Hills Ventures',\n",
       " '-',\n",
       " 10670000]"
      ]
     },
     "execution_count": 136,
     "metadata": {},
     "output_type": "execute_result"
    }
   ],
   "source": [
    "a8=[8, '10/08/2020', 'ZestMoney', 'FinTech', 'Financial Services', 'Bangalore', 'Primrose Hills Ventures','-' ,10670000]\n",
    "a8"
   ]
  },
  {
   "cell_type": "code",
   "execution_count": 137,
   "metadata": {},
   "outputs": [
    {
     "data": {
      "text/plain": [
       "['9 07/08/2020 FreshToHome E-commerce Food Delivery Bangalore Ascent Capital Venture 16,200,000']"
      ]
     },
     "execution_count": 137,
     "metadata": {},
     "output_type": "execute_result"
    }
   ],
   "source": [
    "Aug_tags9= driver.find_elements_by_xpath('//table[@class=\"tablepress tablepress-id-49 dataTable no-footer\"]/tbody/tr[9]')\n",
    "#Aug_tags1\n",
    "\n",
    "\n",
    "Aug9=[]\n",
    "\n",
    "for i in Aug_tags9:\n",
    "    Aug9.append(i.text.replace(\"\\n\",\",\"))\n",
    "          \n",
    "Aug9"
   ]
  },
  {
   "cell_type": "code",
   "execution_count": 139,
   "metadata": {},
   "outputs": [
    {
     "data": {
      "text/plain": [
       "[9,\n",
       " '07/08/2020',\n",
       " 'FreshToHome',\n",
       " 'E-commerce',\n",
       " 'Food Delivery',\n",
       " 'Bangalore',\n",
       " 'Ascent Capital Venture',\n",
       " '-',\n",
       " 16200000]"
      ]
     },
     "execution_count": 139,
     "metadata": {},
     "output_type": "execute_result"
    }
   ],
   "source": [
    "a9=[9, '07/08/2020', 'FreshToHome', 'E-commerce', 'Food Delivery', 'Bangalore', 'Ascent Capital Venture','-', 16200000]\n",
    "a9"
   ]
  },
  {
   "cell_type": "code",
   "execution_count": 140,
   "metadata": {},
   "outputs": [
    {
     "data": {
      "text/plain": [
       "['10 13/08/2020 Eduvanz FinTech Financial Services Mumbai Sequoia India, Unitus Series A 5,000,000']"
      ]
     },
     "execution_count": 140,
     "metadata": {},
     "output_type": "execute_result"
    }
   ],
   "source": [
    "Aug_tags10= driver.find_elements_by_xpath('//table[@class=\"tablepress tablepress-id-49 dataTable no-footer\"]/tbody/tr[10]')\n",
    "#Aug_tags1\n",
    "\n",
    "\n",
    "Aug10=[]\n",
    "\n",
    "for i in Aug_tags10:\n",
    "    Aug10.append(i.text.replace(\"\\n\",\",\"))\n",
    "          \n",
    "Aug10"
   ]
  },
  {
   "cell_type": "code",
   "execution_count": 141,
   "metadata": {},
   "outputs": [
    {
     "data": {
      "text/plain": [
       "[10,\n",
       " '13/08/2020',\n",
       " 'Eduvanz',\n",
       " 'FinTech',\n",
       " 'Financial Services',\n",
       " 'Mumbai',\n",
       " 'Sequoia India, Unitus',\n",
       " 'Series A',\n",
       " 5000000]"
      ]
     },
     "execution_count": 141,
     "metadata": {},
     "output_type": "execute_result"
    }
   ],
   "source": [
    "a10=[10, '13/08/2020', 'Eduvanz', 'FinTech', 'Financial Services', 'Mumbai', 'Sequoia India, Unitus', 'Series A', 5000000]\n",
    "a10"
   ]
  },
  {
   "cell_type": "code",
   "execution_count": 142,
   "metadata": {},
   "outputs": [],
   "source": [
    "search_btn=driver.find_element_by_id('tablepress-49_next')\n",
    "search_btn\n",
    "search_btn.click()"
   ]
  },
  {
   "cell_type": "code",
   "execution_count": 143,
   "metadata": {},
   "outputs": [
    {
     "data": {
      "text/plain": [
       "['11 03/08/2020 CrowdPouch FinTech Financial Services Bangalore Elina Investments Pvt. Ltd Angel NA']"
      ]
     },
     "execution_count": 143,
     "metadata": {},
     "output_type": "execute_result"
    }
   ],
   "source": [
    "Aug_tags11= driver.find_elements_by_xpath('//table[@class=\"tablepress tablepress-id-49 dataTable no-footer\"]/tbody/tr[1]')\n",
    "#Aug_tags1\n",
    "\n",
    "\n",
    "Aug11=[]\n",
    "\n",
    "for i in Aug_tags11:\n",
    "    Aug11.append(i.text.replace(\"\\n\",\",\"))\n",
    "          \n",
    "Aug11"
   ]
  },
  {
   "cell_type": "code",
   "execution_count": 144,
   "metadata": {},
   "outputs": [
    {
     "data": {
      "text/plain": [
       "[11,\n",
       " '03/08/2020',\n",
       " 'CrowdPouch',\n",
       " 'FinTech',\n",
       " 'Financial Services',\n",
       " 'Bangalore',\n",
       " 'Elina Investments Pvt. Ltd',\n",
       " 'Angel',\n",
       " 'NA']"
      ]
     },
     "execution_count": 144,
     "metadata": {},
     "output_type": "execute_result"
    }
   ],
   "source": [
    "a11=[11, '03/08/2020', 'CrowdPouch', 'FinTech', 'Financial Services', 'Bangalore', 'Elina Investments Pvt. Ltd', 'Angel', 'NA']\n",
    "a11"
   ]
  },
  {
   "cell_type": "code",
   "execution_count": 145,
   "metadata": {},
   "outputs": [
    {
     "data": {
      "text/plain": [
       "['12 04/08/2020 DrinkPrime Water Purification Water Purification Bangalore Sequoia Surge, ON Mauritius Pre-Series A 2,880,000']"
      ]
     },
     "execution_count": 145,
     "metadata": {},
     "output_type": "execute_result"
    }
   ],
   "source": [
    "Aug_tags12= driver.find_elements_by_xpath('//table[@class=\"tablepress tablepress-id-49 dataTable no-footer\"]/tbody/tr[2]')\n",
    "#Aug_tags1\n",
    "\n",
    "\n",
    "Aug12=[]\n",
    "\n",
    "for i in Aug_tags12:\n",
    "    Aug12.append(i.text.replace(\"\\n\",\",\"))\n",
    "          \n",
    "Aug12"
   ]
  },
  {
   "cell_type": "code",
   "execution_count": 146,
   "metadata": {},
   "outputs": [
    {
     "data": {
      "text/plain": [
       "[12,\n",
       " '04/08/2020',\n",
       " 'DrinkPrime',\n",
       " 'Water Purification',\n",
       " 'Water Purification',\n",
       " 'Bangalore',\n",
       " 'Sequoia Surge, ON Mauritius',\n",
       " 'Pre-Series A',\n",
       " 2880000]"
      ]
     },
     "execution_count": 146,
     "metadata": {},
     "output_type": "execute_result"
    }
   ],
   "source": [
    "a12=[12, '04/08/2020', 'DrinkPrime', 'Water Purification', 'Water Purification', 'Bangalore', 'Sequoia Surge, ON Mauritius', 'Pre-Series A', 2880000]\n",
    "a12"
   ]
  },
  {
   "cell_type": "code",
   "execution_count": 148,
   "metadata": {},
   "outputs": [
    {
     "data": {
      "text/html": [
       "<div>\n",
       "<style scoped>\n",
       "    .dataframe tbody tr th:only-of-type {\n",
       "        vertical-align: middle;\n",
       "    }\n",
       "\n",
       "    .dataframe tbody tr th {\n",
       "        vertical-align: top;\n",
       "    }\n",
       "\n",
       "    .dataframe thead th {\n",
       "        text-align: right;\n",
       "    }\n",
       "</style>\n",
       "<table border=\"1\" class=\"dataframe\">\n",
       "  <thead>\n",
       "    <tr style=\"text-align: right;\">\n",
       "      <th></th>\n",
       "      <th>Sr. No.</th>\n",
       "      <th>Date (dd/mm/yyyy)</th>\n",
       "      <th>Startup Name</th>\n",
       "      <th>Industry / Vertical</th>\n",
       "      <th>Sub-Vertical</th>\n",
       "      <th>City / Location</th>\n",
       "      <th>Investors Name</th>\n",
       "      <th>Investment Type</th>\n",
       "      <th>Amount (In USD)</th>\n",
       "    </tr>\n",
       "  </thead>\n",
       "  <tbody>\n",
       "    <tr>\n",
       "      <th>0</th>\n",
       "      <td>1</td>\n",
       "      <td>15/08/2020</td>\n",
       "      <td>Practo</td>\n",
       "      <td>HealthTech</td>\n",
       "      <td>Health care and Wellness</td>\n",
       "      <td>Bangalore</td>\n",
       "      <td>A1A Company</td>\n",
       "      <td>Series F</td>\n",
       "      <td>32000000</td>\n",
       "    </tr>\n",
       "    <tr>\n",
       "      <th>1</th>\n",
       "      <td>2</td>\n",
       "      <td>13/08/2020</td>\n",
       "      <td>Medlife</td>\n",
       "      <td>E-commerce</td>\n",
       "      <td>Online Pharmacy</td>\n",
       "      <td>Bangalore</td>\n",
       "      <td>Prasid Uno Family Trust and SC Credit Fund</td>\n",
       "      <td>-</td>\n",
       "      <td>23000000</td>\n",
       "    </tr>\n",
       "    <tr>\n",
       "      <th>2</th>\n",
       "      <td>3</td>\n",
       "      <td>13/08/2020</td>\n",
       "      <td>HungerBox</td>\n",
       "      <td>FoodTech</td>\n",
       "      <td>Online Food Delivery Service</td>\n",
       "      <td>Bangalore</td>\n",
       "      <td>One97, Sabre Partners Trust, Pratithi Investme...</td>\n",
       "      <td>Series D1</td>\n",
       "      <td>1560000</td>\n",
       "    </tr>\n",
       "    <tr>\n",
       "      <th>3</th>\n",
       "      <td>4</td>\n",
       "      <td>04/08/2020</td>\n",
       "      <td>Dunzo</td>\n",
       "      <td>Hyper-local Logistics</td>\n",
       "      <td>Online Delivery Services</td>\n",
       "      <td>Bangalore</td>\n",
       "      <td>Existing Backers</td>\n",
       "      <td>In Progress</td>\n",
       "      <td>30000000</td>\n",
       "    </tr>\n",
       "    <tr>\n",
       "      <th>4</th>\n",
       "      <td>5</td>\n",
       "      <td>11/08/2020</td>\n",
       "      <td>Terra.do</td>\n",
       "      <td>EduTech</td>\n",
       "      <td>Online Climate School, E-learning</td>\n",
       "      <td>Stanford, California</td>\n",
       "      <td>Stanford Angels and Entrepreneurs (India), BEE...</td>\n",
       "      <td>Seed</td>\n",
       "      <td>1400000</td>\n",
       "    </tr>\n",
       "    <tr>\n",
       "      <th>5</th>\n",
       "      <td>6</td>\n",
       "      <td>12/08/2020</td>\n",
       "      <td>Classplus</td>\n",
       "      <td>EduTech</td>\n",
       "      <td>E-learning, Online Tutoring</td>\n",
       "      <td>Noida</td>\n",
       "      <td>Falcon Edge</td>\n",
       "      <td>In Progress</td>\n",
       "      <td>upto 15,000,000</td>\n",
       "    </tr>\n",
       "    <tr>\n",
       "      <th>6</th>\n",
       "      <td>7</td>\n",
       "      <td>14/08/2020</td>\n",
       "      <td>Niyo</td>\n",
       "      <td>FinTech</td>\n",
       "      <td>Financial Services</td>\n",
       "      <td>Bangalore</td>\n",
       "      <td>Niyo Solutions Inc.</td>\n",
       "      <td>-</td>\n",
       "      <td>6000000</td>\n",
       "    </tr>\n",
       "    <tr>\n",
       "      <th>7</th>\n",
       "      <td>8</td>\n",
       "      <td>10/08/2020</td>\n",
       "      <td>ZestMoney</td>\n",
       "      <td>FinTech</td>\n",
       "      <td>Financial Services</td>\n",
       "      <td>Bangalore</td>\n",
       "      <td>Primrose Hills Ventures</td>\n",
       "      <td>-</td>\n",
       "      <td>10670000</td>\n",
       "    </tr>\n",
       "    <tr>\n",
       "      <th>8</th>\n",
       "      <td>9</td>\n",
       "      <td>07/08/2020</td>\n",
       "      <td>FreshToHome</td>\n",
       "      <td>E-commerce</td>\n",
       "      <td>Food Delivery</td>\n",
       "      <td>Bangalore</td>\n",
       "      <td>Ascent Capital Venture</td>\n",
       "      <td>-</td>\n",
       "      <td>16200000</td>\n",
       "    </tr>\n",
       "    <tr>\n",
       "      <th>9</th>\n",
       "      <td>10</td>\n",
       "      <td>13/08/2020</td>\n",
       "      <td>Eduvanz</td>\n",
       "      <td>FinTech</td>\n",
       "      <td>Financial Services</td>\n",
       "      <td>Mumbai</td>\n",
       "      <td>Sequoia India, Unitus</td>\n",
       "      <td>Series A</td>\n",
       "      <td>5000000</td>\n",
       "    </tr>\n",
       "    <tr>\n",
       "      <th>10</th>\n",
       "      <td>11</td>\n",
       "      <td>03/08/2020</td>\n",
       "      <td>CrowdPouch</td>\n",
       "      <td>FinTech</td>\n",
       "      <td>Financial Services</td>\n",
       "      <td>Bangalore</td>\n",
       "      <td>Elina Investments Pvt. Ltd</td>\n",
       "      <td>Angel</td>\n",
       "      <td>NA</td>\n",
       "    </tr>\n",
       "    <tr>\n",
       "      <th>11</th>\n",
       "      <td>12</td>\n",
       "      <td>04/08/2020</td>\n",
       "      <td>DrinkPrime</td>\n",
       "      <td>Water Purification</td>\n",
       "      <td>Water Purification</td>\n",
       "      <td>Bangalore</td>\n",
       "      <td>Sequoia Surge, ON Mauritius</td>\n",
       "      <td>Pre-Series A</td>\n",
       "      <td>2880000</td>\n",
       "    </tr>\n",
       "  </tbody>\n",
       "</table>\n",
       "</div>"
      ],
      "text/plain": [
       "    Sr. No. Date (dd/mm/yyyy) Startup Name    Industry / Vertical  \\\n",
       "0         1        15/08/2020       Practo             HealthTech   \n",
       "1         2        13/08/2020      Medlife             E-commerce   \n",
       "2         3        13/08/2020    HungerBox               FoodTech   \n",
       "3         4        04/08/2020        Dunzo  Hyper-local Logistics   \n",
       "4         5        11/08/2020     Terra.do                EduTech   \n",
       "5         6        12/08/2020    Classplus                EduTech   \n",
       "6         7        14/08/2020         Niyo                FinTech   \n",
       "7         8        10/08/2020    ZestMoney                FinTech   \n",
       "8         9        07/08/2020  FreshToHome             E-commerce   \n",
       "9        10        13/08/2020      Eduvanz                FinTech   \n",
       "10       11        03/08/2020   CrowdPouch                FinTech   \n",
       "11       12        04/08/2020   DrinkPrime     Water Purification   \n",
       "\n",
       "                         Sub-Vertical       City / Location  \\\n",
       "0            Health care and Wellness             Bangalore   \n",
       "1                     Online Pharmacy             Bangalore   \n",
       "2        Online Food Delivery Service             Bangalore   \n",
       "3            Online Delivery Services             Bangalore   \n",
       "4   Online Climate School, E-learning  Stanford, California   \n",
       "5         E-learning, Online Tutoring                 Noida   \n",
       "6                  Financial Services             Bangalore   \n",
       "7                  Financial Services             Bangalore   \n",
       "8                       Food Delivery             Bangalore   \n",
       "9                  Financial Services                Mumbai   \n",
       "10                 Financial Services             Bangalore   \n",
       "11                 Water Purification             Bangalore   \n",
       "\n",
       "                                       Investors Name Investment Type  \\\n",
       "0                                         A1A Company        Series F   \n",
       "1          Prasid Uno Family Trust and SC Credit Fund               -   \n",
       "2   One97, Sabre Partners Trust, Pratithi Investme...       Series D1   \n",
       "3                                    Existing Backers     In Progress   \n",
       "4   Stanford Angels and Entrepreneurs (India), BEE...            Seed   \n",
       "5                                         Falcon Edge     In Progress   \n",
       "6                                 Niyo Solutions Inc.               -   \n",
       "7                             Primrose Hills Ventures               -   \n",
       "8                              Ascent Capital Venture               -   \n",
       "9                               Sequoia India, Unitus        Series A   \n",
       "10                         Elina Investments Pvt. Ltd           Angel   \n",
       "11                        Sequoia Surge, ON Mauritius    Pre-Series A   \n",
       "\n",
       "    Amount (In USD)  \n",
       "0          32000000  \n",
       "1          23000000  \n",
       "2           1560000  \n",
       "3          30000000  \n",
       "4           1400000  \n",
       "5   upto 15,000,000  \n",
       "6           6000000  \n",
       "7          10670000  \n",
       "8          16200000  \n",
       "9           5000000  \n",
       "10               NA  \n",
       "11          2880000  "
      ]
     },
     "execution_count": 148,
     "metadata": {},
     "output_type": "execute_result"
    }
   ],
   "source": [
    "a13=[]\n",
    "a13.append(a1)\n",
    "a13.append(a2)\n",
    "a13.append(a3)\n",
    "a13.append(a4)\n",
    "a13.append(a5)\n",
    "a13.append(a6)\n",
    "a13.append(a7)\n",
    "a13.append(a8)\n",
    "a13.append(a9)\n",
    "a13.append(a10)\n",
    "a13.append(a11)\n",
    "a13.append(a12)\n",
    "\n",
    "df_n1=pd.DataFrame(a13, columns=['Sr. No.', 'Date (dd/mm/yyyy)' ,'Startup Name', 'Industry / Vertical', 'Sub-Vertical', 'City / Location' ,'Investors Name' ,'Investment Type', 'Amount (In USD)'])\n",
    "df_n1"
   ]
  },
  {
   "cell_type": "markdown",
   "metadata": {},
   "source": [
    "# July-2020"
   ]
  },
  {
   "cell_type": "code",
   "execution_count": 151,
   "metadata": {},
   "outputs": [
    {
     "data": {
      "text/plain": [
       "['1 15/07/2020 Flipkart E-commerce E-commerce Bangalore Walmart Inc,M&A 1,200,000,000']"
      ]
     },
     "execution_count": 151,
     "metadata": {},
     "output_type": "execute_result"
    }
   ],
   "source": [
    "Jul_tags1= driver.find_elements_by_xpath('//table[@class=\"tablepress tablepress-id-48 dataTable no-footer\"]/tbody/tr[1]')\n",
    "#Aug_tags1\n",
    "\n",
    "\n",
    "Jul1=[]\n",
    "\n",
    "for i in Jul_tags1:\n",
    "    Jul1.append(i.text.replace(\"\\n\",\",\"))\n",
    "          \n",
    "Jul1"
   ]
  },
  {
   "cell_type": "code",
   "execution_count": 155,
   "metadata": {},
   "outputs": [
    {
     "data": {
      "text/plain": [
       "[1,\n",
       " '15/07/2020',\n",
       " 'Flipkart',\n",
       " 'E-commerce',\n",
       " 'E-commerce',\n",
       " 'Bangalore',\n",
       " 'Walmart Inc',\n",
       " 'M&A',\n",
       " 1200000000]"
      ]
     },
     "execution_count": 155,
     "metadata": {},
     "output_type": "execute_result"
    }
   ],
   "source": [
    "j1=[1, '15/07/2020', 'Flipkart', 'E-commerce', 'E-commerce', 'Bangalore', 'Walmart Inc','M&A', 1200000000]\n",
    "j1"
   ]
  },
  {
   "cell_type": "code",
   "execution_count": 153,
   "metadata": {},
   "outputs": [
    {
     "data": {
      "text/plain": [
       "['2 16/07/2020 Vedantu EduTech Online Tutoring Bangalore Coatue Management Series D 100,000,000']"
      ]
     },
     "execution_count": 153,
     "metadata": {},
     "output_type": "execute_result"
    }
   ],
   "source": [
    "Jul_tags2= driver.find_elements_by_xpath('//table[@class=\"tablepress tablepress-id-48 dataTable no-footer\"]/tbody/tr[2]')\n",
    "#Aug_tags1\n",
    "\n",
    "\n",
    "Jul2=[]\n",
    "\n",
    "for i in Jul_tags2:\n",
    "    Jul2.append(i.text.replace(\"\\n\",\",\"))\n",
    "          \n",
    "Jul2"
   ]
  },
  {
   "cell_type": "code",
   "execution_count": 154,
   "metadata": {},
   "outputs": [
    {
     "data": {
      "text/plain": [
       "[2,\n",
       " '16/07/2020',\n",
       " 'Vedantu',\n",
       " 'EduTech',\n",
       " 'Online Tutoring',\n",
       " 'Bangalore',\n",
       " 'Coatue Management',\n",
       " 'Series D',\n",
       " 100000000]"
      ]
     },
     "execution_count": 154,
     "metadata": {},
     "output_type": "execute_result"
    }
   ],
   "source": [
    "j2=[2, '16/07/2020', 'Vedantu', 'EduTech', 'Online Tutoring', 'Bangalore', 'Coatue Management', 'Series D', 100000000]\n",
    "j2"
   ]
  },
  {
   "cell_type": "code",
   "execution_count": 156,
   "metadata": {},
   "outputs": [
    {
     "data": {
      "text/plain": [
       "['3 16/07/2020 Crio EduTech Learning Platform for Developers Bangalore 021 Capital pre-Series A 934,160']"
      ]
     },
     "execution_count": 156,
     "metadata": {},
     "output_type": "execute_result"
    }
   ],
   "source": [
    "Jul_tags3= driver.find_elements_by_xpath('//table[@class=\"tablepress tablepress-id-48 dataTable no-footer\"]/tbody/tr[3]')\n",
    "#Aug_tags1\n",
    "\n",
    "\n",
    "Jul3=[]\n",
    "\n",
    "for i in Jul_tags3:\n",
    "    Jul3.append(i.text.replace(\"\\n\",\",\"))\n",
    "          \n",
    "Jul3"
   ]
  },
  {
   "cell_type": "code",
   "execution_count": 160,
   "metadata": {},
   "outputs": [
    {
     "data": {
      "text/plain": [
       "[3,\n",
       " '16/07/2020',\n",
       " 'Crio',\n",
       " 'EduTech',\n",
       " 'Learning Platform for Developers',\n",
       " 'Bangalore',\n",
       " '021 Capital',\n",
       " 'pre-Series A',\n",
       " 934160]"
      ]
     },
     "execution_count": 160,
     "metadata": {},
     "output_type": "execute_result"
    }
   ],
   "source": [
    "j3=[3, '16/07/2020', 'Crio', 'EduTech', 'Learning Platform for Developers', 'Bangalore', '021 Capital', 'pre-Series A', 934160]\n",
    "j3"
   ]
  },
  {
   "cell_type": "code",
   "execution_count": 159,
   "metadata": {},
   "outputs": [
    {
     "data": {
      "text/plain": [
       "['4 14/07/2020 goDutch FinTech Group Payments Mumbai Matrix India,Y Combinator, Global Founders Capital, Soma Capital, and VentureSouq. Seed 1,700,000']"
      ]
     },
     "execution_count": 159,
     "metadata": {},
     "output_type": "execute_result"
    }
   ],
   "source": [
    "Jul_tags4= driver.find_elements_by_xpath('//table[@class=\"tablepress tablepress-id-48 dataTable no-footer\"]/tbody/tr[4]')\n",
    "#Aug_tags1\n",
    "\n",
    "\n",
    "Jul4=[]\n",
    "\n",
    "for i in Jul_tags4:\n",
    "    Jul4.append(i.text.replace(\"\\n\",\",\"))\n",
    "          \n",
    "Jul4"
   ]
  },
  {
   "cell_type": "code",
   "execution_count": 161,
   "metadata": {},
   "outputs": [
    {
     "data": {
      "text/plain": [
       "[4,\n",
       " '14/07/2020',\n",
       " 'goDutch',\n",
       " 'FinTech',\n",
       " 'Group Payments',\n",
       " 'Mumbai',\n",
       " 'Matrix India,Y Combinator, Global Founders Capital, Soma Capital, and VentureSouq.',\n",
       " 'Seed',\n",
       " 1700000]"
      ]
     },
     "execution_count": 161,
     "metadata": {},
     "output_type": "execute_result"
    }
   ],
   "source": [
    "j4=[4, '14/07/2020', 'goDutch', 'FinTech', 'Group Payments', 'Mumbai', 'Matrix India,Y Combinator, Global Founders Capital, Soma Capital, and VentureSouq.','Seed', 1700000]\n",
    "j4"
   ]
  },
  {
   "cell_type": "code",
   "execution_count": 162,
   "metadata": {},
   "outputs": [
    {
     "data": {
      "text/plain": [
       "['5 13/07/2020 Mystifly,Airfare Marketplace Ticketing, Airline Retailing, and Post-Ticketing Services Singapore and Bangalore Recruit Co. Ltd.,,pre-Series B 3,300,000']"
      ]
     },
     "execution_count": 162,
     "metadata": {},
     "output_type": "execute_result"
    }
   ],
   "source": [
    "Jul_tags5= driver.find_elements_by_xpath('//table[@class=\"tablepress tablepress-id-48 dataTable no-footer\"]/tbody/tr[5]')\n",
    "#Aug_tags1\n",
    "\n",
    "\n",
    "Jul5=[]\n",
    "\n",
    "for i in Jul_tags5:\n",
    "    Jul5.append(i.text.replace(\"\\n\",\",\"))\n",
    "          \n",
    "Jul5"
   ]
  },
  {
   "cell_type": "code",
   "execution_count": 163,
   "metadata": {},
   "outputs": [
    {
     "data": {
      "text/plain": [
       "[5,\n",
       " '13/07/2020',\n",
       " 'Mystifly',\n",
       " 'Airfare Marketplace',\n",
       " 'Ticketing, Airline Retailing, and Post-Ticketing Services',\n",
       " 'Singapore and Bangalore',\n",
       " 'Recruit Co. Ltd.',\n",
       " 'pre-Series B',\n",
       " 3300000]"
      ]
     },
     "execution_count": 163,
     "metadata": {},
     "output_type": "execute_result"
    }
   ],
   "source": [
    "j5=[5, '13/07/2020', 'Mystifly','Airfare Marketplace', 'Ticketing, Airline Retailing, and Post-Ticketing Services', 'Singapore and Bangalore', 'Recruit Co. Ltd.','pre-Series B', 3300000]\n",
    "j5"
   ]
  },
  {
   "cell_type": "code",
   "execution_count": 164,
   "metadata": {},
   "outputs": [
    {
     "data": {
      "text/plain": [
       "['6 09/07/2020 JetSynthesys Gaming and Entertainment Gaming and Entertainment,,Pune Adar Poonawalla and Kris Gopalakrishnan.,Venture-Series Unknown 400,000']"
      ]
     },
     "execution_count": 164,
     "metadata": {},
     "output_type": "execute_result"
    }
   ],
   "source": [
    "Jul_tags6= driver.find_elements_by_xpath('//table[@class=\"tablepress tablepress-id-48 dataTable no-footer\"]/tbody/tr[6]')\n",
    "#Aug_tags1\n",
    "\n",
    "\n",
    "Jul6=[]\n",
    "\n",
    "for i in Jul_tags6:\n",
    "    Jul6.append(i.text.replace(\"\\n\",\",\"))\n",
    "          \n",
    "Jul6"
   ]
  },
  {
   "cell_type": "code",
   "execution_count": 166,
   "metadata": {},
   "outputs": [
    {
     "data": {
      "text/plain": [
       "[6,\n",
       " '09/07/2020',\n",
       " 'JetSynthesys',\n",
       " 'Gaming and Entertainment',\n",
       " 'Gaming and Entertainment',\n",
       " 'Pune',\n",
       " 'Adar Poonawalla and Kris Gopalakrishnan.',\n",
       " 'Venture-Series Unknown',\n",
       " 400000]"
      ]
     },
     "execution_count": 166,
     "metadata": {},
     "output_type": "execute_result"
    }
   ],
   "source": [
    "j6=[6, '09/07/2020', 'JetSynthesys', 'Gaming and Entertainment', 'Gaming and Entertainment','Pune', 'Adar Poonawalla and Kris Gopalakrishnan.','Venture-Series Unknown', 400000]\n",
    "j6"
   ]
  },
  {
   "cell_type": "code",
   "execution_count": 167,
   "metadata": {},
   "outputs": [
    {
     "data": {
      "text/plain": [
       "['7 10/07/2020 gigIndia,Marketplace Crowd Sourcing, Freelance Pune Incubate Fund India and Beyond Next Ventures pre-Series A 974,200']"
      ]
     },
     "execution_count": 167,
     "metadata": {},
     "output_type": "execute_result"
    }
   ],
   "source": [
    "Jul_tags7= driver.find_elements_by_xpath('//table[@class=\"tablepress tablepress-id-48 dataTable no-footer\"]/tbody/tr[7]')\n",
    "#Aug_tags1\n",
    "\n",
    "\n",
    "Jul7=[]\n",
    "\n",
    "for i in Jul_tags7:\n",
    "    Jul7.append(i.text.replace(\"\\n\",\",\"))\n",
    "      \n",
    "Jul7"
   ]
  },
  {
   "cell_type": "code",
   "execution_count": 179,
   "metadata": {},
   "outputs": [
    {
     "data": {
      "text/plain": [
       "[7,\n",
       " '10/07/2020',\n",
       " 'gigIndia',\n",
       " 'Marketplace',\n",
       " 'Crowd Sourcing Freelance',\n",
       " 'Pune',\n",
       " 'Incubate Fund India and Beyond Next Ventures',\n",
       " 'pre-Series A',\n",
       " 974200]"
      ]
     },
     "execution_count": 179,
     "metadata": {},
     "output_type": "execute_result"
    }
   ],
   "source": [
    "j7=[7, '10/07/2020', 'gigIndia','Marketplace', 'Crowd Sourcing Freelance', 'Pune', 'Incubate Fund India and Beyond Next Ventures', 'pre-Series A', 974200]\n",
    "j7"
   ]
  },
  {
   "cell_type": "code",
   "execution_count": 171,
   "metadata": {},
   "outputs": [
    {
     "data": {
      "text/plain": [
       "['8 15/07/2020 PumPumPum Automotive Rental Used Car-leasing platform Gurgaon Early Adapters Syndicate Seed 292,800']"
      ]
     },
     "execution_count": 171,
     "metadata": {},
     "output_type": "execute_result"
    }
   ],
   "source": [
    "Jul_tags8= driver.find_elements_by_xpath('//table[@class=\"tablepress tablepress-id-48 dataTable no-footer\"]/tbody/tr[8]')\n",
    "#Aug_tags1\n",
    "\n",
    "\n",
    "Jul8=[]\n",
    "\n",
    "for i in Jul_tags8:\n",
    "    Jul8.append(i.text.replace(\"\\n\",\",\"))\n",
    "      \n",
    "Jul8"
   ]
  },
  {
   "cell_type": "code",
   "execution_count": 172,
   "metadata": {},
   "outputs": [
    {
     "data": {
      "text/plain": [
       "[8,\n",
       " '15/07/2020',\n",
       " 'PumPumPum',\n",
       " 'Automotive Rental',\n",
       " 'Used Car-leasing platform',\n",
       " 'Gurgaon',\n",
       " 'Early Adapters Syndicate',\n",
       " 'Seed',\n",
       " 292800]"
      ]
     },
     "execution_count": 172,
     "metadata": {},
     "output_type": "execute_result"
    }
   ],
   "source": [
    "j8=[8, '15/07/2020', 'PumPumPum', 'Automotive Rental', 'Used Car-leasing platform', 'Gurgaon', 'Early Adapters Syndicate', 'Seed', 292800]\n",
    "j8"
   ]
  },
  {
   "cell_type": "code",
   "execution_count": 173,
   "metadata": {},
   "outputs": [
    {
     "data": {
      "text/plain": [
       "['9 14/07/2020 FLYX OTT Player Streaming Social Network New York and Delhi Raj Mishra, founder of AIT Global Inc pre-Seed 200,000']"
      ]
     },
     "execution_count": 173,
     "metadata": {},
     "output_type": "execute_result"
    }
   ],
   "source": [
    "Jul_tags9= driver.find_elements_by_xpath('//table[@class=\"tablepress tablepress-id-48 dataTable no-footer\"]/tbody/tr[9]')\n",
    "#Aug_tags1\n",
    "\n",
    "\n",
    "Jul9=[]\n",
    "\n",
    "for i in Jul_tags9:\n",
    "    Jul9.append(i.text.replace(\"\\n\",\",\"))\n",
    "      \n",
    "Jul9"
   ]
  },
  {
   "cell_type": "code",
   "execution_count": 175,
   "metadata": {},
   "outputs": [
    {
     "data": {
      "text/plain": [
       "[9,\n",
       " '14/07/2020',\n",
       " 'FLYX',\n",
       " 'OTT Player',\n",
       " 'Streaming Social Network',\n",
       " 'New York and Delhi',\n",
       " 'Raj Mishra, founder of AIT Global Inc',\n",
       " 'pre-Seed',\n",
       " 200000]"
      ]
     },
     "execution_count": 175,
     "metadata": {},
     "output_type": "execute_result"
    }
   ],
   "source": [
    "j9=[9, '14/07/2020', 'FLYX', 'OTT Player', 'Streaming Social Network', 'New York and Delhi', 'Raj Mishra, founder of AIT Global Inc', 'pre-Seed', 200000]\n",
    "j9"
   ]
  },
  {
   "cell_type": "code",
   "execution_count": 176,
   "metadata": {},
   "outputs": [
    {
     "data": {
      "text/plain": [
       "['10 13/07/2020 Open Appliances Pvt. Ltd. Information Technology Internet-of-Things Security Solutions Bangalore Unicorn India Ventures Venture-Series Unknown 500,000']"
      ]
     },
     "execution_count": 176,
     "metadata": {},
     "output_type": "execute_result"
    }
   ],
   "source": [
    "Jul_tags10= driver.find_elements_by_xpath('//table[@class=\"tablepress tablepress-id-48 dataTable no-footer\"]/tbody/tr[10]')\n",
    "#Aug_tags1\n",
    "\n",
    "\n",
    "Jul10=[]\n",
    "\n",
    "for i in Jul_tags10:\n",
    "    Jul10.append(i.text.replace(\"\\n\",\",\"))\n",
    "      \n",
    "Jul10"
   ]
  },
  {
   "cell_type": "code",
   "execution_count": 177,
   "metadata": {},
   "outputs": [
    {
     "data": {
      "text/plain": [
       "[10,\n",
       " '13/07/2020',\n",
       " 'Open Appliances Pvt. Ltd.',\n",
       " 'Information Technology',\n",
       " 'Internet-of-Things Security Solutions',\n",
       " 'Bangalore',\n",
       " 'Unicorn India Ventures',\n",
       " 'Venture-Series Unknown',\n",
       " 500000]"
      ]
     },
     "execution_count": 177,
     "metadata": {},
     "output_type": "execute_result"
    }
   ],
   "source": [
    "j10=[10, '13/07/2020', 'Open Appliances Pvt. Ltd.','Information Technology', 'Internet-of-Things Security Solutions', 'Bangalore', 'Unicorn India Ventures', 'Venture-Series Unknown', 500000]\n",
    "j10"
   ]
  },
  {
   "cell_type": "code",
   "execution_count": 180,
   "metadata": {},
   "outputs": [
    {
     "data": {
      "text/html": [
       "<div>\n",
       "<style scoped>\n",
       "    .dataframe tbody tr th:only-of-type {\n",
       "        vertical-align: middle;\n",
       "    }\n",
       "\n",
       "    .dataframe tbody tr th {\n",
       "        vertical-align: top;\n",
       "    }\n",
       "\n",
       "    .dataframe thead th {\n",
       "        text-align: right;\n",
       "    }\n",
       "</style>\n",
       "<table border=\"1\" class=\"dataframe\">\n",
       "  <thead>\n",
       "    <tr style=\"text-align: right;\">\n",
       "      <th></th>\n",
       "      <th>Sr. No.</th>\n",
       "      <th>Date (dd/mm/yyyy)</th>\n",
       "      <th>Startup Name</th>\n",
       "      <th>Industry / Vertical</th>\n",
       "      <th>Sub-Vertical</th>\n",
       "      <th>City / Location</th>\n",
       "      <th>Investors Name</th>\n",
       "      <th>Investment Type</th>\n",
       "      <th>Amount (In USD)</th>\n",
       "    </tr>\n",
       "  </thead>\n",
       "  <tbody>\n",
       "    <tr>\n",
       "      <th>0</th>\n",
       "      <td>1</td>\n",
       "      <td>15/07/2020</td>\n",
       "      <td>Flipkart</td>\n",
       "      <td>E-commerce</td>\n",
       "      <td>E-commerce</td>\n",
       "      <td>Bangalore</td>\n",
       "      <td>Walmart Inc</td>\n",
       "      <td>M&amp;A</td>\n",
       "      <td>1200000000</td>\n",
       "    </tr>\n",
       "    <tr>\n",
       "      <th>1</th>\n",
       "      <td>2</td>\n",
       "      <td>16/07/2020</td>\n",
       "      <td>Vedantu</td>\n",
       "      <td>EduTech</td>\n",
       "      <td>Online Tutoring</td>\n",
       "      <td>Bangalore</td>\n",
       "      <td>Coatue Management</td>\n",
       "      <td>Series D</td>\n",
       "      <td>100000000</td>\n",
       "    </tr>\n",
       "    <tr>\n",
       "      <th>2</th>\n",
       "      <td>3</td>\n",
       "      <td>16/07/2020</td>\n",
       "      <td>Crio</td>\n",
       "      <td>EduTech</td>\n",
       "      <td>Learning Platform for Developers</td>\n",
       "      <td>Bangalore</td>\n",
       "      <td>021 Capital</td>\n",
       "      <td>pre-Series A</td>\n",
       "      <td>934160</td>\n",
       "    </tr>\n",
       "    <tr>\n",
       "      <th>3</th>\n",
       "      <td>4</td>\n",
       "      <td>14/07/2020</td>\n",
       "      <td>goDutch</td>\n",
       "      <td>FinTech</td>\n",
       "      <td>Group Payments</td>\n",
       "      <td>Mumbai</td>\n",
       "      <td>Matrix India,Y Combinator, Global Founders Cap...</td>\n",
       "      <td>Seed</td>\n",
       "      <td>1700000</td>\n",
       "    </tr>\n",
       "    <tr>\n",
       "      <th>4</th>\n",
       "      <td>5</td>\n",
       "      <td>13/07/2020</td>\n",
       "      <td>Mystifly</td>\n",
       "      <td>Airfare Marketplace</td>\n",
       "      <td>Ticketing, Airline Retailing, and Post-Ticketi...</td>\n",
       "      <td>Singapore and Bangalore</td>\n",
       "      <td>Recruit Co. Ltd.</td>\n",
       "      <td>pre-Series B</td>\n",
       "      <td>3300000</td>\n",
       "    </tr>\n",
       "    <tr>\n",
       "      <th>5</th>\n",
       "      <td>6</td>\n",
       "      <td>09/07/2020</td>\n",
       "      <td>JetSynthesys</td>\n",
       "      <td>Gaming and Entertainment</td>\n",
       "      <td>Gaming and Entertainment</td>\n",
       "      <td>Pune</td>\n",
       "      <td>Adar Poonawalla and Kris Gopalakrishnan.</td>\n",
       "      <td>Venture-Series Unknown</td>\n",
       "      <td>400000</td>\n",
       "    </tr>\n",
       "    <tr>\n",
       "      <th>6</th>\n",
       "      <td>7</td>\n",
       "      <td>10/07/2020</td>\n",
       "      <td>gigIndia</td>\n",
       "      <td>Marketplace</td>\n",
       "      <td>Crowd Sourcing Freelance</td>\n",
       "      <td>Pune</td>\n",
       "      <td>Incubate Fund India and Beyond Next Ventures</td>\n",
       "      <td>pre-Series A</td>\n",
       "      <td>974200</td>\n",
       "    </tr>\n",
       "    <tr>\n",
       "      <th>7</th>\n",
       "      <td>8</td>\n",
       "      <td>15/07/2020</td>\n",
       "      <td>PumPumPum</td>\n",
       "      <td>Automotive Rental</td>\n",
       "      <td>Used Car-leasing platform</td>\n",
       "      <td>Gurgaon</td>\n",
       "      <td>Early Adapters Syndicate</td>\n",
       "      <td>Seed</td>\n",
       "      <td>292800</td>\n",
       "    </tr>\n",
       "    <tr>\n",
       "      <th>8</th>\n",
       "      <td>9</td>\n",
       "      <td>14/07/2020</td>\n",
       "      <td>FLYX</td>\n",
       "      <td>OTT Player</td>\n",
       "      <td>Streaming Social Network</td>\n",
       "      <td>New York and Delhi</td>\n",
       "      <td>Raj Mishra, founder of AIT Global Inc</td>\n",
       "      <td>pre-Seed</td>\n",
       "      <td>200000</td>\n",
       "    </tr>\n",
       "    <tr>\n",
       "      <th>9</th>\n",
       "      <td>10</td>\n",
       "      <td>13/07/2020</td>\n",
       "      <td>Open Appliances Pvt. Ltd.</td>\n",
       "      <td>Information Technology</td>\n",
       "      <td>Internet-of-Things Security Solutions</td>\n",
       "      <td>Bangalore</td>\n",
       "      <td>Unicorn India Ventures</td>\n",
       "      <td>Venture-Series Unknown</td>\n",
       "      <td>500000</td>\n",
       "    </tr>\n",
       "  </tbody>\n",
       "</table>\n",
       "</div>"
      ],
      "text/plain": [
       "   Sr. No. Date (dd/mm/yyyy)               Startup Name  \\\n",
       "0        1        15/07/2020                   Flipkart   \n",
       "1        2        16/07/2020                    Vedantu   \n",
       "2        3        16/07/2020                       Crio   \n",
       "3        4        14/07/2020                    goDutch   \n",
       "4        5        13/07/2020                   Mystifly   \n",
       "5        6        09/07/2020               JetSynthesys   \n",
       "6        7        10/07/2020                   gigIndia   \n",
       "7        8        15/07/2020                  PumPumPum   \n",
       "8        9        14/07/2020                       FLYX   \n",
       "9       10        13/07/2020  Open Appliances Pvt. Ltd.   \n",
       "\n",
       "        Industry / Vertical  \\\n",
       "0                E-commerce   \n",
       "1                   EduTech   \n",
       "2                   EduTech   \n",
       "3                   FinTech   \n",
       "4       Airfare Marketplace   \n",
       "5  Gaming and Entertainment   \n",
       "6               Marketplace   \n",
       "7         Automotive Rental   \n",
       "8                OTT Player   \n",
       "9    Information Technology   \n",
       "\n",
       "                                        Sub-Vertical          City / Location  \\\n",
       "0                                         E-commerce                Bangalore   \n",
       "1                                    Online Tutoring                Bangalore   \n",
       "2                   Learning Platform for Developers                Bangalore   \n",
       "3                                     Group Payments                   Mumbai   \n",
       "4  Ticketing, Airline Retailing, and Post-Ticketi...  Singapore and Bangalore   \n",
       "5                           Gaming and Entertainment                     Pune   \n",
       "6                           Crowd Sourcing Freelance                     Pune   \n",
       "7                          Used Car-leasing platform                  Gurgaon   \n",
       "8                           Streaming Social Network       New York and Delhi   \n",
       "9              Internet-of-Things Security Solutions                Bangalore   \n",
       "\n",
       "                                      Investors Name         Investment Type  \\\n",
       "0                                        Walmart Inc                     M&A   \n",
       "1                                  Coatue Management                Series D   \n",
       "2                                        021 Capital            pre-Series A   \n",
       "3  Matrix India,Y Combinator, Global Founders Cap...                    Seed   \n",
       "4                                   Recruit Co. Ltd.            pre-Series B   \n",
       "5           Adar Poonawalla and Kris Gopalakrishnan.  Venture-Series Unknown   \n",
       "6       Incubate Fund India and Beyond Next Ventures            pre-Series A   \n",
       "7                           Early Adapters Syndicate                    Seed   \n",
       "8              Raj Mishra, founder of AIT Global Inc                pre-Seed   \n",
       "9                             Unicorn India Ventures  Venture-Series Unknown   \n",
       "\n",
       "   Amount (In USD)  \n",
       "0       1200000000  \n",
       "1        100000000  \n",
       "2           934160  \n",
       "3          1700000  \n",
       "4          3300000  \n",
       "5           400000  \n",
       "6           974200  \n",
       "7           292800  \n",
       "8           200000  \n",
       "9           500000  "
      ]
     },
     "execution_count": 180,
     "metadata": {},
     "output_type": "execute_result"
    }
   ],
   "source": [
    "j13=[]\n",
    "j13.append(j1)\n",
    "j13.append(j2)\n",
    "j13.append(j3)\n",
    "j13.append(j4)\n",
    "j13.append(j5)\n",
    "j13.append(j6)\n",
    "j13.append(j7)\n",
    "j13.append(j8)\n",
    "j13.append(j9)\n",
    "j13.append(j10)\n",
    "\n",
    "\n",
    "df_n2=pd.DataFrame(j13, columns=['Sr. No.', 'Date (dd/mm/yyyy)' ,'Startup Name', 'Industry / Vertical', 'Sub-Vertical', 'City / Location' ,'Investors Name' ,'Investment Type', 'Amount (In USD)'])\n",
    "df_n2"
   ]
  },
  {
   "cell_type": "code",
   "execution_count": null,
   "metadata": {},
   "outputs": [],
   "source": []
  },
  {
   "cell_type": "markdown",
   "metadata": {},
   "source": [
    "# 7. Write a program to scrap all the available details of best gaming laptops from digit.in. "
   ]
  },
  {
   "cell_type": "code",
   "execution_count": 4,
   "metadata": {},
   "outputs": [],
   "source": [
    "url='https://www.digit.in/top-products/best-gaming-laptops-40.html'\n",
    "driver.get(url)\n",
    "\n",
    "#driver.get(\"https://www.google.com/maps/@18.8154265,76.7751434,7z\")\n",
    "#sleep(2)"
   ]
  },
  {
   "cell_type": "code",
   "execution_count": 5,
   "metadata": {},
   "outputs": [],
   "source": [
    "urls=[]\n",
    "for i in driver.find_elements_by_xpath(\"//div[@class='TopNumbeHeading active sticky-footer']/a\"):\n",
    "    urls.append(i.get_attribute('href'))"
   ]
  },
  {
   "cell_type": "code",
   "execution_count": 6,
   "metadata": {},
   "outputs": [
    {
     "data": {
      "text/plain": [
       "['https://www.digit.in/laptops/alienware-area-51m-r2-price-228193.html',\n",
       " 'https://www.digit.in/laptops/alienware-m15-r3-price-228207.html',\n",
       " 'https://www.digit.in/laptops/asus-rog-strix-scar-15-price-228221.html',\n",
       " 'https://www.digit.in/laptops/asus-rog-zephyrus-g14-price-209173.html',\n",
       " 'https://www.digit.in/laptops/lenovo-legion-5i-price-228235.html',\n",
       " 'https://www.digit.in/laptops/asus-rog-zephyrus-duo-15-price-215799.html',\n",
       " 'https://www.digit.in/laptops/acer-aspire-7-gaming-price-223781.html']"
      ]
     },
     "execution_count": 6,
     "metadata": {},
     "output_type": "execute_result"
    }
   ],
   "source": [
    "urls"
   ]
  },
  {
   "cell_type": "code",
   "execution_count": 7,
   "metadata": {},
   "outputs": [
    {
     "data": {
      "text/plain": [
       "7"
      ]
     },
     "execution_count": 7,
     "metadata": {},
     "output_type": "execute_result"
    }
   ],
   "source": [
    "len(urls)"
   ]
  },
  {
   "cell_type": "code",
   "execution_count": 8,
   "metadata": {},
   "outputs": [],
   "source": [
    "title=[]\n",
    "\n",
    "for i in urls:\n",
    "    \n",
    "    driver.get(i)\n",
    "    time.sleep(3)\n",
    "    \n",
    "    #extracting rating of iphone\n",
    "    try:\n",
    "        title_tags= driver.find_element_by_xpath(\"//div[@class='heading-wraper']/h1\")\n",
    "        title.append(title_tags.text)          \n",
    "    except:\n",
    "        title.append(\"-\")\n",
    "    "
   ]
  },
  {
   "cell_type": "code",
   "execution_count": 9,
   "metadata": {},
   "outputs": [
    {
     "data": {
      "text/plain": [
       "['Alienware Area 51M R2',\n",
       " 'Alienware m15 R3',\n",
       " 'ASUS ROG Strix Scar 15',\n",
       " 'Asus ROG Zephyrus G14',\n",
       " 'Lenovo Legion 5i',\n",
       " 'Asus ROG Zephyrus Duo 15',\n",
       " 'Acer Aspire 7 Gaming']"
      ]
     },
     "execution_count": 9,
     "metadata": {},
     "output_type": "execute_result"
    }
   ],
   "source": [
    "title"
   ]
  },
  {
   "cell_type": "code",
   "execution_count": 10,
   "metadata": {},
   "outputs": [
    {
     "data": {
      "text/plain": [
       "7"
      ]
     },
     "execution_count": 10,
     "metadata": {},
     "output_type": "execute_result"
    }
   ],
   "source": [
    "len(title)"
   ]
  },
  {
   "cell_type": "code",
   "execution_count": 11,
   "metadata": {},
   "outputs": [],
   "source": [
    "spec=[]\n",
    "\n",
    "for i in urls:\n",
    "    \n",
    "    driver.get(i)\n",
    "    time.sleep(3)\n",
    "    \n",
    "    #extracting rating of iphone\n",
    "    try:\n",
    "        spec_tags= driver.find_element_by_xpath(\"//div[@class='product_details']/div[3]/div[3]/div/ul/li[1]/div\")\n",
    "        spec.append(spec_tags.text.replace(\"\\n\",\" ,\"))          \n",
    "    except:\n",
    "        spec.append(\"-\")"
   ]
  },
  {
   "cell_type": "code",
   "execution_count": 12,
   "metadata": {},
   "outputs": [
    {
     "name": "stdout",
     "output_type": "stream",
     "text": [
      "['OS ,Windows 10 Home', 'OS ,Windows 10 Home', 'OS ,Windows 10 Home', 'OS ,Windows 10 Home', 'OS ,Windows 10 Pro', 'OS ,Windows 10', 'OS ,Windows 10 Home']\n"
     ]
    }
   ],
   "source": [
    "print(spec)"
   ]
  },
  {
   "cell_type": "code",
   "execution_count": 13,
   "metadata": {},
   "outputs": [
    {
     "data": {
      "text/plain": [
       "7"
      ]
     },
     "execution_count": 13,
     "metadata": {},
     "output_type": "execute_result"
    }
   ],
   "source": [
    "len(spec)"
   ]
  },
  {
   "cell_type": "code",
   "execution_count": 14,
   "metadata": {},
   "outputs": [],
   "source": [
    "display=[]\n",
    "\n",
    "for i in urls:\n",
    "    \n",
    "    driver.get(i)\n",
    "    time.sleep(3)\n",
    "    \n",
    "    #extracting rating of iphone\n",
    "    try:\n",
    "        display_tags= driver.find_element_by_xpath(\"//div[@class='product_details']/div[3]/div[3]/div/ul/li[2]/div/p[2]\")\n",
    "        display.append(display_tags.text.replace(\"\\n\",\" ,\"))          \n",
    "    except:\n",
    "        display.append(\"-\")\n",
    "#//*[@id=\"overview\"]/div[3]/div[3]/div/ul/li[2]/div/p[1]"
   ]
  },
  {
   "cell_type": "code",
   "execution_count": 15,
   "metadata": {},
   "outputs": [
    {
     "name": "stdout",
     "output_type": "stream",
     "text": [
      "['17.3\" (1920 X 1080)', '15.6\" (3840 X 2160)', '15.6\" (1920 X 1080)', '14\" (1920 X 1080)', '15.6\" (1920 X 1080)', '15.6\" (3840 X 1100)', '15.6\" (1920 X 1080)']\n"
     ]
    }
   ],
   "source": [
    "print(display)"
   ]
  },
  {
   "cell_type": "code",
   "execution_count": 16,
   "metadata": {},
   "outputs": [
    {
     "data": {
      "text/plain": [
       "7"
      ]
     },
     "execution_count": 16,
     "metadata": {},
     "output_type": "execute_result"
    }
   ],
   "source": [
    "len(display)"
   ]
  },
  {
   "cell_type": "code",
   "execution_count": 17,
   "metadata": {},
   "outputs": [],
   "source": [
    "#//*[@id=\"overview\"]/div[3]/div[3]/div/ul/li[3]/div/p[1]\n",
    "#//*[@id=\"overview\"]/div[3]/div[3]/div/ul/li[3]/div/p[1]\n",
    "pro=[]\n",
    "\n",
    "for i in urls:\n",
    "    \n",
    "    driver.get(i)\n",
    "    time.sleep(3)\n",
    "    \n",
    "    #extracting rating of iphone\n",
    "    try:\n",
    "        pro_tags= driver.find_element_by_xpath(\"//div[@class='product_details']/div[3]/div[3]/div/ul/li[3]/div/p[2]\")\n",
    "        pro.append(pro_tags.text.replace(\"\\n\",\" ,\"))          \n",
    "    except:\n",
    "        pro.append(\"-\")"
   ]
  },
  {
   "cell_type": "code",
   "execution_count": 18,
   "metadata": {},
   "outputs": [
    {
     "name": "stdout",
     "output_type": "stream",
     "text": [
      "['10th Generation Intel® Core™ I7-10700 | 2.90 GHz', '10th Generation Intel® Core™ I9-10980HK | NA', 'AMD Ryzen™ 9 5900HX | 3.3 GHz', 'AMD 3rd Generation Ryzen 9 | 3.3 GHz', '10th Generation Intel® Core™ I5-10300H | 2.50 GHz', 'Intel Core I7 10th Gen 10875H | NA', 'AMD Ryzen™ 5-5500U Hexa-Core | NA']\n"
     ]
    }
   ],
   "source": [
    "print(pro)"
   ]
  },
  {
   "cell_type": "code",
   "execution_count": 19,
   "metadata": {},
   "outputs": [
    {
     "data": {
      "text/plain": [
       "7"
      ]
     },
     "execution_count": 19,
     "metadata": {},
     "output_type": "execute_result"
    }
   ],
   "source": [
    "len(pro)"
   ]
  },
  {
   "cell_type": "code",
   "execution_count": 20,
   "metadata": {},
   "outputs": [],
   "source": [
    "mem=[]\n",
    "\n",
    "for i in urls:\n",
    "    \n",
    "    driver.get(i)\n",
    "    time.sleep(3)\n",
    "    \n",
    "    #extracting rating of iphone\n",
    "    try:\n",
    "        mem_tags= driver.find_element_by_xpath(\"//div[@class='product_details']/div[3]/div[3]/div/ul/li[4]/div/p[2]\")\n",
    "        mem.append(mem_tags.text.replace(\"\\n\",\" ,\"))          \n",
    "    except:\n",
    "        mem.append(\"-\")\n",
    "        \n"
   ]
  },
  {
   "cell_type": "code",
   "execution_count": 21,
   "metadata": {},
   "outputs": [
    {
     "name": "stdout",
     "output_type": "stream",
     "text": [
      "['1 TB SSD/16 GBGB DDR4', '1 TB SSD/16 GBGB DDR4', '1 TB SSD/16 GBGB DDR4', '1 TB SSD/16 GBGB DDR4', '1 TB SSD/16 GBGB DDR4', '512 GB SSD/4 GBGB DDR4', '512 GB SSD/8 GBGB DDR4']\n"
     ]
    }
   ],
   "source": [
    "print(mem)"
   ]
  },
  {
   "cell_type": "code",
   "execution_count": 22,
   "metadata": {},
   "outputs": [
    {
     "data": {
      "text/plain": [
       "7"
      ]
     },
     "execution_count": 22,
     "metadata": {},
     "output_type": "execute_result"
    }
   ],
   "source": [
    "len(mem)"
   ]
  },
  {
   "cell_type": "code",
   "execution_count": 23,
   "metadata": {},
   "outputs": [
    {
     "data": {
      "text/html": [
       "<div>\n",
       "<style scoped>\n",
       "    .dataframe tbody tr th:only-of-type {\n",
       "        vertical-align: middle;\n",
       "    }\n",
       "\n",
       "    .dataframe tbody tr th {\n",
       "        vertical-align: top;\n",
       "    }\n",
       "\n",
       "    .dataframe thead th {\n",
       "        text-align: right;\n",
       "    }\n",
       "</style>\n",
       "<table border=\"1\" class=\"dataframe\">\n",
       "  <thead>\n",
       "    <tr style=\"text-align: right;\">\n",
       "      <th></th>\n",
       "      <th>Laptop_name</th>\n",
       "      <th>OS</th>\n",
       "      <th>Display</th>\n",
       "      <th>Processor</th>\n",
       "      <th>Memory</th>\n",
       "      <th>Product_url</th>\n",
       "    </tr>\n",
       "  </thead>\n",
       "  <tbody>\n",
       "    <tr>\n",
       "      <th>0</th>\n",
       "      <td>Alienware Area 51M R2</td>\n",
       "      <td>OS ,Windows 10 Home</td>\n",
       "      <td>17.3\" (1920 X 1080)</td>\n",
       "      <td>10th Generation Intel® Core™ I7-10700 | 2.90 GHz</td>\n",
       "      <td>1 TB SSD/16 GBGB DDR4</td>\n",
       "      <td>https://www.digit.in/laptops/alienware-area-51...</td>\n",
       "    </tr>\n",
       "    <tr>\n",
       "      <th>1</th>\n",
       "      <td>Alienware m15 R3</td>\n",
       "      <td>OS ,Windows 10 Home</td>\n",
       "      <td>15.6\" (3840 X 2160)</td>\n",
       "      <td>10th Generation Intel® Core™ I9-10980HK | NA</td>\n",
       "      <td>1 TB SSD/16 GBGB DDR4</td>\n",
       "      <td>https://www.digit.in/laptops/alienware-m15-r3-...</td>\n",
       "    </tr>\n",
       "    <tr>\n",
       "      <th>2</th>\n",
       "      <td>ASUS ROG Strix Scar 15</td>\n",
       "      <td>OS ,Windows 10 Home</td>\n",
       "      <td>15.6\" (1920 X 1080)</td>\n",
       "      <td>AMD Ryzen™ 9 5900HX | 3.3 GHz</td>\n",
       "      <td>1 TB SSD/16 GBGB DDR4</td>\n",
       "      <td>https://www.digit.in/laptops/asus-rog-strix-sc...</td>\n",
       "    </tr>\n",
       "    <tr>\n",
       "      <th>3</th>\n",
       "      <td>Asus ROG Zephyrus G14</td>\n",
       "      <td>OS ,Windows 10 Home</td>\n",
       "      <td>14\" (1920 X 1080)</td>\n",
       "      <td>AMD 3rd Generation Ryzen 9 | 3.3 GHz</td>\n",
       "      <td>1 TB SSD/16 GBGB DDR4</td>\n",
       "      <td>https://www.digit.in/laptops/asus-rog-zephyrus...</td>\n",
       "    </tr>\n",
       "    <tr>\n",
       "      <th>4</th>\n",
       "      <td>Lenovo Legion 5i</td>\n",
       "      <td>OS ,Windows 10 Pro</td>\n",
       "      <td>15.6\" (1920 X 1080)</td>\n",
       "      <td>10th Generation Intel® Core™ I5-10300H | 2.50 GHz</td>\n",
       "      <td>1 TB SSD/16 GBGB DDR4</td>\n",
       "      <td>https://www.digit.in/laptops/lenovo-legion-5i-...</td>\n",
       "    </tr>\n",
       "    <tr>\n",
       "      <th>5</th>\n",
       "      <td>Asus ROG Zephyrus Duo 15</td>\n",
       "      <td>OS ,Windows 10</td>\n",
       "      <td>15.6\" (3840 X 1100)</td>\n",
       "      <td>Intel Core I7 10th Gen 10875H | NA</td>\n",
       "      <td>512 GB SSD/4 GBGB DDR4</td>\n",
       "      <td>https://www.digit.in/laptops/asus-rog-zephyrus...</td>\n",
       "    </tr>\n",
       "    <tr>\n",
       "      <th>6</th>\n",
       "      <td>Acer Aspire 7 Gaming</td>\n",
       "      <td>OS ,Windows 10 Home</td>\n",
       "      <td>15.6\" (1920 X 1080)</td>\n",
       "      <td>AMD Ryzen™ 5-5500U Hexa-Core | NA</td>\n",
       "      <td>512 GB SSD/8 GBGB DDR4</td>\n",
       "      <td>https://www.digit.in/laptops/acer-aspire-7-gam...</td>\n",
       "    </tr>\n",
       "  </tbody>\n",
       "</table>\n",
       "</div>"
      ],
      "text/plain": [
       "                Laptop_name                   OS              Display  \\\n",
       "0     Alienware Area 51M R2  OS ,Windows 10 Home  17.3\" (1920 X 1080)   \n",
       "1          Alienware m15 R3  OS ,Windows 10 Home  15.6\" (3840 X 2160)   \n",
       "2    ASUS ROG Strix Scar 15  OS ,Windows 10 Home  15.6\" (1920 X 1080)   \n",
       "3     Asus ROG Zephyrus G14  OS ,Windows 10 Home    14\" (1920 X 1080)   \n",
       "4          Lenovo Legion 5i   OS ,Windows 10 Pro  15.6\" (1920 X 1080)   \n",
       "5  Asus ROG Zephyrus Duo 15       OS ,Windows 10  15.6\" (3840 X 1100)   \n",
       "6      Acer Aspire 7 Gaming  OS ,Windows 10 Home  15.6\" (1920 X 1080)   \n",
       "\n",
       "                                           Processor                  Memory  \\\n",
       "0   10th Generation Intel® Core™ I7-10700 | 2.90 GHz   1 TB SSD/16 GBGB DDR4   \n",
       "1       10th Generation Intel® Core™ I9-10980HK | NA   1 TB SSD/16 GBGB DDR4   \n",
       "2                      AMD Ryzen™ 9 5900HX | 3.3 GHz   1 TB SSD/16 GBGB DDR4   \n",
       "3               AMD 3rd Generation Ryzen 9 | 3.3 GHz   1 TB SSD/16 GBGB DDR4   \n",
       "4  10th Generation Intel® Core™ I5-10300H | 2.50 GHz   1 TB SSD/16 GBGB DDR4   \n",
       "5                 Intel Core I7 10th Gen 10875H | NA  512 GB SSD/4 GBGB DDR4   \n",
       "6                  AMD Ryzen™ 5-5500U Hexa-Core | NA  512 GB SSD/8 GBGB DDR4   \n",
       "\n",
       "                                         Product_url  \n",
       "0  https://www.digit.in/laptops/alienware-area-51...  \n",
       "1  https://www.digit.in/laptops/alienware-m15-r3-...  \n",
       "2  https://www.digit.in/laptops/asus-rog-strix-sc...  \n",
       "3  https://www.digit.in/laptops/asus-rog-zephyrus...  \n",
       "4  https://www.digit.in/laptops/lenovo-legion-5i-...  \n",
       "5  https://www.digit.in/laptops/asus-rog-zephyrus...  \n",
       "6  https://www.digit.in/laptops/acer-aspire-7-gam...  "
      ]
     },
     "execution_count": 23,
     "metadata": {},
     "output_type": "execute_result"
    }
   ],
   "source": [
    "df=pd.DataFrame({})\n",
    "df['Laptop_name']=title\n",
    "df['OS']=spec\n",
    "df['Display']=display\n",
    "df['Processor']=pro\n",
    "df['Memory']=mem\n",
    "df['Product_url']=urls\n",
    "df"
   ]
  },
  {
   "cell_type": "code",
   "execution_count": 24,
   "metadata": {},
   "outputs": [],
   "source": [
    "df.to_csv('Q7.csv')"
   ]
  },
  {
   "cell_type": "code",
   "execution_count": 25,
   "metadata": {},
   "outputs": [
    {
     "data": {
      "text/html": [
       "<div>\n",
       "<style scoped>\n",
       "    .dataframe tbody tr th:only-of-type {\n",
       "        vertical-align: middle;\n",
       "    }\n",
       "\n",
       "    .dataframe tbody tr th {\n",
       "        vertical-align: top;\n",
       "    }\n",
       "\n",
       "    .dataframe thead th {\n",
       "        text-align: right;\n",
       "    }\n",
       "</style>\n",
       "<table border=\"1\" class=\"dataframe\">\n",
       "  <thead>\n",
       "    <tr style=\"text-align: right;\">\n",
       "      <th></th>\n",
       "      <th>Unnamed: 0</th>\n",
       "      <th>Laptop_name</th>\n",
       "      <th>OS</th>\n",
       "      <th>Display</th>\n",
       "      <th>Processor</th>\n",
       "      <th>Memory</th>\n",
       "      <th>Product_url</th>\n",
       "    </tr>\n",
       "  </thead>\n",
       "  <tbody>\n",
       "    <tr>\n",
       "      <th>0</th>\n",
       "      <td>0</td>\n",
       "      <td>Alienware Area 51M R2</td>\n",
       "      <td>OS ,Windows 10 Home</td>\n",
       "      <td>17.3\" (1920 X 1080)</td>\n",
       "      <td>10th Generation Intel® Core™ I7-10700 | 2.90 GHz</td>\n",
       "      <td>1 TB SSD/16 GBGB DDR4</td>\n",
       "      <td>https://www.digit.in/laptops/alienware-area-51...</td>\n",
       "    </tr>\n",
       "    <tr>\n",
       "      <th>1</th>\n",
       "      <td>1</td>\n",
       "      <td>Alienware m15 R3</td>\n",
       "      <td>OS ,Windows 10 Home</td>\n",
       "      <td>15.6\" (3840 X 2160)</td>\n",
       "      <td>10th Generation Intel® Core™ I9-10980HK | NA</td>\n",
       "      <td>1 TB SSD/16 GBGB DDR4</td>\n",
       "      <td>https://www.digit.in/laptops/alienware-m15-r3-...</td>\n",
       "    </tr>\n",
       "    <tr>\n",
       "      <th>2</th>\n",
       "      <td>2</td>\n",
       "      <td>ASUS ROG Strix Scar 15</td>\n",
       "      <td>OS ,Windows 10 Home</td>\n",
       "      <td>15.6\" (1920 X 1080)</td>\n",
       "      <td>AMD Ryzen™ 9 5900HX | 3.3 GHz</td>\n",
       "      <td>1 TB SSD/16 GBGB DDR4</td>\n",
       "      <td>https://www.digit.in/laptops/asus-rog-strix-sc...</td>\n",
       "    </tr>\n",
       "    <tr>\n",
       "      <th>3</th>\n",
       "      <td>3</td>\n",
       "      <td>Asus ROG Zephyrus G14</td>\n",
       "      <td>OS ,Windows 10 Home</td>\n",
       "      <td>14\" (1920 X 1080)</td>\n",
       "      <td>AMD 3rd Generation Ryzen 9 | 3.3 GHz</td>\n",
       "      <td>1 TB SSD/16 GBGB DDR4</td>\n",
       "      <td>https://www.digit.in/laptops/asus-rog-zephyrus...</td>\n",
       "    </tr>\n",
       "    <tr>\n",
       "      <th>4</th>\n",
       "      <td>4</td>\n",
       "      <td>Lenovo Legion 5i</td>\n",
       "      <td>OS ,Windows 10 Pro</td>\n",
       "      <td>15.6\" (1920 X 1080)</td>\n",
       "      <td>10th Generation Intel® Core™ I5-10300H | 2.50 GHz</td>\n",
       "      <td>1 TB SSD/16 GBGB DDR4</td>\n",
       "      <td>https://www.digit.in/laptops/lenovo-legion-5i-...</td>\n",
       "    </tr>\n",
       "    <tr>\n",
       "      <th>5</th>\n",
       "      <td>5</td>\n",
       "      <td>Asus ROG Zephyrus Duo 15</td>\n",
       "      <td>OS ,Windows 10</td>\n",
       "      <td>15.6\" (3840 X 1100)</td>\n",
       "      <td>Intel Core I7 10th Gen 10875H | NA</td>\n",
       "      <td>512 GB SSD/4 GBGB DDR4</td>\n",
       "      <td>https://www.digit.in/laptops/asus-rog-zephyrus...</td>\n",
       "    </tr>\n",
       "    <tr>\n",
       "      <th>6</th>\n",
       "      <td>6</td>\n",
       "      <td>Acer Aspire 7 Gaming</td>\n",
       "      <td>OS ,Windows 10 Home</td>\n",
       "      <td>15.6\" (1920 X 1080)</td>\n",
       "      <td>AMD Ryzen™ 5-5500U Hexa-Core | NA</td>\n",
       "      <td>512 GB SSD/8 GBGB DDR4</td>\n",
       "      <td>https://www.digit.in/laptops/acer-aspire-7-gam...</td>\n",
       "    </tr>\n",
       "  </tbody>\n",
       "</table>\n",
       "</div>"
      ],
      "text/plain": [
       "   Unnamed: 0               Laptop_name                   OS  \\\n",
       "0           0     Alienware Area 51M R2  OS ,Windows 10 Home   \n",
       "1           1          Alienware m15 R3  OS ,Windows 10 Home   \n",
       "2           2    ASUS ROG Strix Scar 15  OS ,Windows 10 Home   \n",
       "3           3     Asus ROG Zephyrus G14  OS ,Windows 10 Home   \n",
       "4           4          Lenovo Legion 5i   OS ,Windows 10 Pro   \n",
       "5           5  Asus ROG Zephyrus Duo 15       OS ,Windows 10   \n",
       "6           6      Acer Aspire 7 Gaming  OS ,Windows 10 Home   \n",
       "\n",
       "               Display                                          Processor  \\\n",
       "0  17.3\" (1920 X 1080)   10th Generation Intel® Core™ I7-10700 | 2.90 GHz   \n",
       "1  15.6\" (3840 X 2160)       10th Generation Intel® Core™ I9-10980HK | NA   \n",
       "2  15.6\" (1920 X 1080)                      AMD Ryzen™ 9 5900HX | 3.3 GHz   \n",
       "3    14\" (1920 X 1080)               AMD 3rd Generation Ryzen 9 | 3.3 GHz   \n",
       "4  15.6\" (1920 X 1080)  10th Generation Intel® Core™ I5-10300H | 2.50 GHz   \n",
       "5  15.6\" (3840 X 1100)                 Intel Core I7 10th Gen 10875H | NA   \n",
       "6  15.6\" (1920 X 1080)                  AMD Ryzen™ 5-5500U Hexa-Core | NA   \n",
       "\n",
       "                   Memory                                        Product_url  \n",
       "0   1 TB SSD/16 GBGB DDR4  https://www.digit.in/laptops/alienware-area-51...  \n",
       "1   1 TB SSD/16 GBGB DDR4  https://www.digit.in/laptops/alienware-m15-r3-...  \n",
       "2   1 TB SSD/16 GBGB DDR4  https://www.digit.in/laptops/asus-rog-strix-sc...  \n",
       "3   1 TB SSD/16 GBGB DDR4  https://www.digit.in/laptops/asus-rog-zephyrus...  \n",
       "4   1 TB SSD/16 GBGB DDR4  https://www.digit.in/laptops/lenovo-legion-5i-...  \n",
       "5  512 GB SSD/4 GBGB DDR4  https://www.digit.in/laptops/asus-rog-zephyrus...  \n",
       "6  512 GB SSD/8 GBGB DDR4  https://www.digit.in/laptops/acer-aspire-7-gam...  "
      ]
     },
     "execution_count": 25,
     "metadata": {},
     "output_type": "execute_result"
    }
   ],
   "source": [
    "df_7=pd.read_csv('Q7.csv')\n",
    "df_7"
   ]
  },
  {
   "cell_type": "markdown",
   "metadata": {},
   "source": [
    "# 8. Write a python program to scrape the details for all billionaires from www.forbes.com. \n",
    "Details to be scrapped: “Rank”, “Name”, “Net worth”, “Age”, “Citizenship”, “Source”, “Industry”."
   ]
  },
  {
   "cell_type": "code",
   "execution_count": 3,
   "metadata": {},
   "outputs": [],
   "source": [
    "url='https://www.forbes.com/billionaires/'\n",
    "driver.get(url)"
   ]
  },
  {
   "cell_type": "code",
   "execution_count": 5,
   "metadata": {},
   "outputs": [
    {
     "data": {
      "text/plain": [
       "['1.',\n",
       " '2.',\n",
       " '3.',\n",
       " '4.',\n",
       " '5.',\n",
       " '6.',\n",
       " '7.',\n",
       " '8.',\n",
       " '9.',\n",
       " '10.',\n",
       " '11.',\n",
       " '12.',\n",
       " '13.',\n",
       " '14.',\n",
       " '15.',\n",
       " '16.',\n",
       " '17.',\n",
       " '18.',\n",
       " '19.',\n",
       " '20.',\n",
       " '21.',\n",
       " '22.',\n",
       " '23.',\n",
       " '24.',\n",
       " '25.',\n",
       " '26.',\n",
       " '27.',\n",
       " '27.',\n",
       " '29.',\n",
       " '30.',\n",
       " '31.',\n",
       " '32.',\n",
       " '33.',\n",
       " '34.',\n",
       " '35.',\n",
       " '36.',\n",
       " '37.',\n",
       " '38.',\n",
       " '39.',\n",
       " '40.',\n",
       " '41.',\n",
       " '41.',\n",
       " '43.',\n",
       " '44.',\n",
       " '45.',\n",
       " '46.',\n",
       " '47.',\n",
       " '48.',\n",
       " '48.',\n",
       " '50.',\n",
       " '51.',\n",
       " '52.',\n",
       " '53.',\n",
       " '53.',\n",
       " '55.',\n",
       " '56.',\n",
       " '57.',\n",
       " '58.',\n",
       " '59.',\n",
       " '60.',\n",
       " '61.',\n",
       " '62.',\n",
       " '62.',\n",
       " '64.',\n",
       " '65.',\n",
       " '66.',\n",
       " '66.',\n",
       " '68.',\n",
       " '69.',\n",
       " '70.',\n",
       " '71.',\n",
       " '71.',\n",
       " '73.',\n",
       " '74.',\n",
       " '75.',\n",
       " '75.',\n",
       " '77.',\n",
       " '78.',\n",
       " '79.',\n",
       " '80.',\n",
       " '81.',\n",
       " '82.',\n",
       " '83.',\n",
       " '84.',\n",
       " '85.',\n",
       " '86.',\n",
       " '87.',\n",
       " '88.',\n",
       " '89.',\n",
       " '89.',\n",
       " '89.',\n",
       " '92.',\n",
       " '93.',\n",
       " '94.',\n",
       " '95.',\n",
       " '96.',\n",
       " '96.',\n",
       " '98.',\n",
       " '99.',\n",
       " '100.',\n",
       " '100.',\n",
       " '102.',\n",
       " '103.',\n",
       " '104.',\n",
       " '105.',\n",
       " '105.',\n",
       " '107.',\n",
       " '107.',\n",
       " '109.',\n",
       " '110.',\n",
       " '111.',\n",
       " '112.',\n",
       " '113.',\n",
       " '114.',\n",
       " '115.',\n",
       " '116.',\n",
       " '117.',\n",
       " '118.',\n",
       " '119.',\n",
       " '119.',\n",
       " '121.',\n",
       " '121.',\n",
       " '121.',\n",
       " '124.',\n",
       " '124.',\n",
       " '126.',\n",
       " '127.',\n",
       " '128.',\n",
       " '128.',\n",
       " '128.',\n",
       " '131.',\n",
       " '132.',\n",
       " '133.',\n",
       " '133.',\n",
       " '133.',\n",
       " '133.',\n",
       " '137.',\n",
       " '138.',\n",
       " '138.',\n",
       " '140.',\n",
       " '140.',\n",
       " '142.',\n",
       " '142.',\n",
       " '144.',\n",
       " '145.',\n",
       " '145.',\n",
       " '145.',\n",
       " '148.',\n",
       " '148.',\n",
       " '150.',\n",
       " '151.',\n",
       " '151.',\n",
       " '151.',\n",
       " '154.',\n",
       " '155.',\n",
       " '156.',\n",
       " '156.',\n",
       " '158.',\n",
       " '158.',\n",
       " '158.',\n",
       " '161.',\n",
       " '161.',\n",
       " '163.',\n",
       " '164.',\n",
       " '164.',\n",
       " '166.',\n",
       " '166.',\n",
       " '168.',\n",
       " '169.',\n",
       " '169.',\n",
       " '171.',\n",
       " '171.',\n",
       " '173.',\n",
       " '173.',\n",
       " '173.',\n",
       " '173.',\n",
       " '177.',\n",
       " '177.',\n",
       " '177.',\n",
       " '177.',\n",
       " '181.',\n",
       " '182.',\n",
       " '182.',\n",
       " '184.',\n",
       " '185.',\n",
       " '186.',\n",
       " '186.',\n",
       " '186.',\n",
       " '189.',\n",
       " '189.',\n",
       " '191.',\n",
       " '191.',\n",
       " '193.',\n",
       " '194.',\n",
       " '195.',\n",
       " '195.',\n",
       " '197.',\n",
       " '197.',\n",
       " '197.',\n",
       " '200.']"
      ]
     },
     "execution_count": 5,
     "metadata": {},
     "output_type": "execute_result"
    }
   ],
   "source": [
    "rank1_tag= driver.find_elements_by_xpath('//div[@class=\"rank\"]')\n",
    "#Aug_tags1\n",
    "\n",
    "\n",
    "rank1=[]\n",
    "\n",
    "for i in rank1_tag:\n",
    "    rank1.append(i.text.replace(\"\\n\",\",\"))\n",
    "      \n",
    "rank1"
   ]
  },
  {
   "cell_type": "code",
   "execution_count": 6,
   "metadata": {},
   "outputs": [
    {
     "data": {
      "text/plain": [
       "['Jeff Bezos',\n",
       " 'Elon Musk',\n",
       " 'Bernard Arnault & family',\n",
       " 'Bill Gates',\n",
       " 'Mark Zuckerberg',\n",
       " 'Warren Buffett',\n",
       " 'Larry Ellison',\n",
       " 'Larry Page',\n",
       " 'Sergey Brin',\n",
       " 'Mukesh Ambani',\n",
       " 'Amancio Ortega',\n",
       " 'Francoise Bettencourt Meyers & family',\n",
       " 'Zhong Shanshan',\n",
       " 'Steve Ballmer',\n",
       " 'Ma Huateng',\n",
       " 'Carlos Slim Helu & family',\n",
       " 'Alice Walton',\n",
       " 'Jim Walton',\n",
       " 'Rob Walton',\n",
       " 'Michael Bloomberg',\n",
       " 'Colin Zheng Huang',\n",
       " 'MacKenzie Scott',\n",
       " 'Daniel Gilbert',\n",
       " 'Gautam Adani & family',\n",
       " 'Phil Knight & family',\n",
       " 'Jack Ma',\n",
       " 'Charles Koch',\n",
       " 'Julia Koch & family',\n",
       " 'Masayoshi Son',\n",
       " 'Michael Dell',\n",
       " 'Tadashi Yanai & family',\n",
       " 'François Pinault & family',\n",
       " 'David Thomson & family',\n",
       " 'Beate Heister & Karl Albrecht Jr.',\n",
       " 'Wang Wei',\n",
       " 'Miriam Adelson',\n",
       " 'He Xiangjian',\n",
       " 'Dieter Schwarz',\n",
       " 'Zhang Yiming',\n",
       " 'Giovanni Ferrero',\n",
       " 'Alain Wertheimer',\n",
       " 'Gerard Wertheimer',\n",
       " 'Li Ka-shing',\n",
       " 'Qin Yinglin & family',\n",
       " 'William Lei Ding',\n",
       " 'Len Blavatnik',\n",
       " 'Lee Shau Kee',\n",
       " 'Jacqueline Mars',\n",
       " 'John Mars',\n",
       " 'Yang Huiyan & family',\n",
       " 'Alexey Mordashov & family',\n",
       " 'Robin Zeng',\n",
       " 'Hui Ka Yan',\n",
       " 'Susanne Klatten',\n",
       " 'Vladimir Potanin',\n",
       " 'Dietrich Mateschitz',\n",
       " 'Pang Kang',\n",
       " 'Klaus-Michael Kuehne',\n",
       " 'Vladimir Lisin',\n",
       " 'Wang Xing',\n",
       " 'German Larrea Mota Velasco & family',\n",
       " 'Leonardo Del Vecchio & family',\n",
       " 'Takemitsu Takizaki',\n",
       " 'Leonard Lauder',\n",
       " 'Thomas Peterffy',\n",
       " 'Vagit Alekperov',\n",
       " 'Leonid Mikhelson',\n",
       " 'Jim Simons',\n",
       " 'Jiang Rensheng & family',\n",
       " 'Gina Rinehart',\n",
       " 'Rupert Murdoch & family',\n",
       " 'Shiv Nadar',\n",
       " 'Zhang Zhidong',\n",
       " 'Iris Fontbona & family',\n",
       " 'Lei Jun',\n",
       " 'Zhang Yong',\n",
       " 'Richard Qiangdong Liu',\n",
       " 'Gennady Timchenko',\n",
       " 'Stephen Schwarzman',\n",
       " 'Goh Cheng Liang',\n",
       " 'Stefan Quandt',\n",
       " 'Li Xiting',\n",
       " 'Pierre Omidyar',\n",
       " 'Stefan Persson',\n",
       " 'Abigail Johnson',\n",
       " 'R. Budi Hartono',\n",
       " 'Andrew Forrest',\n",
       " 'Ray Dalio',\n",
       " 'Michael Hartono',\n",
       " 'Li Shufu',\n",
       " 'Zhong Huijuan',\n",
       " 'Xu Hang',\n",
       " 'Lui Che Woo & family',\n",
       " 'Emmanuel Besnier',\n",
       " 'Laurene Powell Jobs & family',\n",
       " 'Eric Schmidt',\n",
       " 'Sun Piaoyang',\n",
       " 'Theo Albrecht, Jr. & family',\n",
       " 'Alisher Usmanov',\n",
       " 'Robert Pera',\n",
       " 'Wu Yajun',\n",
       " 'Fan Hongwei & family',\n",
       " 'Dhanin Chearavanont',\n",
       " 'Peter Woo',\n",
       " 'Chen Bang',\n",
       " 'Andrey Melnichenko',\n",
       " 'Dustin Moskovitz',\n",
       " 'Su Hua',\n",
       " 'Donald Newhouse',\n",
       " 'Petr Kellner',\n",
       " 'Lee Man Tat',\n",
       " 'Pavel Durov',\n",
       " 'James Ratcliffe',\n",
       " 'Jorge Paulo Lemann & family',\n",
       " 'Reinhold Wuerth & family',\n",
       " 'Charlene de Carvalho-Heineken & family',\n",
       " 'Radhakishan Damani',\n",
       " 'Wang Chuanfu',\n",
       " 'Steve Cohen',\n",
       " 'Ken Griffin',\n",
       " 'Chen Zhiping',\n",
       " 'Ernest Garcia, II.',\n",
       " 'Uday Kotak',\n",
       " 'Carl Icahn',\n",
       " 'Suleiman Kerimov & family',\n",
       " 'Thomas Frist, Jr. & family',\n",
       " 'Lukas Walton',\n",
       " 'Mikhail Fridman',\n",
       " 'Wei Jianjun & family',\n",
       " 'Zuo Hui',\n",
       " 'Zhou Qunfei & family',\n",
       " 'Donald Bren',\n",
       " 'Hinduja brothers',\n",
       " 'Lakshmi Mittal',\n",
       " 'Georg Schaeffler',\n",
       " 'Eric Yuan & family',\n",
       " 'Wang Jianlin',\n",
       " 'Kwong Siu-hing',\n",
       " 'Robin Li',\n",
       " 'Pallonji Mistry',\n",
       " 'Eduardo Saverin',\n",
       " 'Roman Abramovich',\n",
       " 'David Tepper',\n",
       " 'Gong Hongjia & family',\n",
       " 'Mike Cannon-Brookes',\n",
       " 'John Menard, Jr.',\n",
       " 'Seo Jung-jin',\n",
       " 'Cheng Yixiao',\n",
       " 'Liang Wengen',\n",
       " 'Scott Farquhar',\n",
       " 'Finn Rausing',\n",
       " 'Jorn Rausing',\n",
       " 'Kirsten Rausing',\n",
       " 'Brian Chesky',\n",
       " 'Joseph Lau',\n",
       " 'David Duffield',\n",
       " 'Charoen Sirivadhanabhakdi',\n",
       " 'Kim Jung-ju',\n",
       " 'Robert & Philip Ng',\n",
       " 'Zhang Bangxin',\n",
       " 'Anders Holch Povlsen',\n",
       " 'Wang Wenyin',\n",
       " 'Wang Liping & family',\n",
       " 'Tatyana Bakalchuk',\n",
       " 'Michael Platt',\n",
       " 'Huang Shilin',\n",
       " 'Ricardo Salinas Pliego & family',\n",
       " 'Kumar Birla',\n",
       " 'Dang Yanbao',\n",
       " 'Cyrus Poonawalla',\n",
       " 'Robert Kuok',\n",
       " 'Hank & Doug Meijer',\n",
       " 'Jack Dorsey',\n",
       " 'Lu Zhongfang',\n",
       " 'Ma Jianrong & family',\n",
       " 'Zhang Tao',\n",
       " 'Nathan Blecharczyk',\n",
       " 'John Doerr',\n",
       " 'Joe Gebbia',\n",
       " 'Forrest Li',\n",
       " 'Yu Renrong',\n",
       " 'Liu Yonghao & family',\n",
       " 'Gordon Moore',\n",
       " 'Jeff Yass',\n",
       " 'Bobby Murphy',\n",
       " 'Patrick Drahi',\n",
       " 'Jensen Huang',\n",
       " 'Alexander Otto',\n",
       " 'Cen Junda',\n",
       " 'Joseph Tsai',\n",
       " 'Aliko Dangote',\n",
       " 'Marcel Herrmann Telles',\n",
       " 'Mikhail Prokhorov',\n",
       " 'Jorge Moll Filho & family',\n",
       " 'Viktor Rashnikov',\n",
       " 'Harry Triguboff',\n",
       " 'Leonid Fedun & family',\n",
       " 'Eyal Ofer',\n",
       " 'Evan Spiegel',\n",
       " 'Luis Carlos Sarmiento']"
      ]
     },
     "execution_count": 6,
     "metadata": {},
     "output_type": "execute_result"
    }
   ],
   "source": [
    "name_tag= driver.find_elements_by_xpath('//div[@class=\"personName\"]')\n",
    "#Aug_tags1\n",
    "\n",
    "\n",
    "name=[]\n",
    "\n",
    "for i in name_tag:\n",
    "    name.append(i.text.replace(\"\\n\",\",\"))\n",
    "      \n",
    "name"
   ]
  },
  {
   "cell_type": "code",
   "execution_count": 7,
   "metadata": {},
   "outputs": [
    {
     "data": {
      "text/plain": [
       "['$177 B',\n",
       " '$151 B',\n",
       " '$150 B',\n",
       " '$124 B',\n",
       " '$97 B',\n",
       " '$96 B',\n",
       " '$93 B',\n",
       " '$91.5 B',\n",
       " '$89 B',\n",
       " '$84.5 B',\n",
       " '$77 B',\n",
       " '$73.6 B',\n",
       " '$68.9 B',\n",
       " '$68.7 B',\n",
       " '$65.8 B',\n",
       " '$62.8 B',\n",
       " '$61.8 B',\n",
       " '$60.2 B',\n",
       " '$59.5 B',\n",
       " '$59 B',\n",
       " '$55.3 B',\n",
       " '$53 B',\n",
       " '$51.9 B',\n",
       " '$50.5 B',\n",
       " '$49.9 B',\n",
       " '$48.4 B',\n",
       " '$46.4 B',\n",
       " '$46.4 B',\n",
       " '$45.4 B',\n",
       " '$45.1 B',\n",
       " '$44.1 B',\n",
       " '$42.3 B',\n",
       " '$41.8 B',\n",
       " '$39.2 B',\n",
       " '$39 B',\n",
       " '$38.2 B',\n",
       " '$37.7 B',\n",
       " '$36.9 B',\n",
       " '$35.6 B',\n",
       " '$35.1 B',\n",
       " '$34.5 B',\n",
       " '$34.5 B',\n",
       " '$33.7 B',\n",
       " '$33.5 B',\n",
       " '$33 B',\n",
       " '$32 B',\n",
       " '$31.7 B',\n",
       " '$31.3 B',\n",
       " '$31.3 B',\n",
       " '$29.6 B',\n",
       " '$29.1 B',\n",
       " '$28.4 B',\n",
       " '$27.7 B',\n",
       " '$27.7 B',\n",
       " '$27 B',\n",
       " '$26.9 B',\n",
       " '$26.4 B',\n",
       " '$26.3 B',\n",
       " '$26.2 B',\n",
       " '$26.1 B',\n",
       " '$25.9 B',\n",
       " '$25.8 B',\n",
       " '$25.8 B',\n",
       " '$25.5 B',\n",
       " '$25 B',\n",
       " '$24.9 B',\n",
       " '$24.9 B',\n",
       " '$24.6 B',\n",
       " '$24.4 B',\n",
       " '$23.6 B',\n",
       " '$23.5 B',\n",
       " '$23.5 B',\n",
       " '$23.4 B',\n",
       " '$23.3 B',\n",
       " '$23 B',\n",
       " '$23 B',\n",
       " '$22.4 B',\n",
       " '$22 B',\n",
       " '$21.9 B',\n",
       " '$21.7 B',\n",
       " '$21.6 B',\n",
       " '$21.5 B',\n",
       " '$21.4 B',\n",
       " '$21.3 B',\n",
       " '$20.9 B',\n",
       " '$20.5 B',\n",
       " '$20.4 B',\n",
       " '$20.3 B',\n",
       " '$19.7 B',\n",
       " '$19.7 B',\n",
       " '$19.7 B',\n",
       " '$19.5 B',\n",
       " '$19.4 B',\n",
       " '$19.1 B',\n",
       " '$19 B',\n",
       " '$18.9 B',\n",
       " '$18.9 B',\n",
       " '$18.8 B',\n",
       " '$18.4 B',\n",
       " '$18.3 B',\n",
       " '$18.3 B',\n",
       " '$18.2 B',\n",
       " '$18.1 B',\n",
       " '$18 B',\n",
       " '$17.9 B',\n",
       " '$17.9 B',\n",
       " '$17.8 B',\n",
       " '$17.8 B',\n",
       " '$17.6 B',\n",
       " '$17.5 B',\n",
       " '$17.4 B',\n",
       " '$17.2 B',\n",
       " '$17 B',\n",
       " '$16.9 B',\n",
       " '$16.8 B',\n",
       " '$16.7 B',\n",
       " '$16.5 B',\n",
       " '$16.3 B',\n",
       " '$16 B',\n",
       " '$16 B',\n",
       " '$15.9 B',\n",
       " '$15.9 B',\n",
       " '$15.9 B',\n",
       " '$15.8 B',\n",
       " '$15.8 B',\n",
       " '$15.7 B',\n",
       " '$15.6 B',\n",
       " '$15.5 B',\n",
       " '$15.5 B',\n",
       " '$15.5 B',\n",
       " '$15.4 B',\n",
       " '$15.3 B',\n",
       " '$14.9 B',\n",
       " '$14.9 B',\n",
       " '$14.9 B',\n",
       " '$14.9 B',\n",
       " '$14.8 B',\n",
       " '$14.7 B',\n",
       " '$14.7 B',\n",
       " '$14.6 B',\n",
       " '$14.6 B',\n",
       " '$14.5 B',\n",
       " '$14.5 B',\n",
       " '$14.4 B',\n",
       " '$14.2 B',\n",
       " '$14.2 B',\n",
       " '$14.2 B',\n",
       " '$14.1 B',\n",
       " '$14.1 B',\n",
       " '$14 B',\n",
       " '$13.9 B',\n",
       " '$13.9 B',\n",
       " '$13.9 B',\n",
       " '$13.7 B',\n",
       " '$13.6 B',\n",
       " '$13.5 B',\n",
       " '$13.5 B',\n",
       " '$13.3 B',\n",
       " '$13.3 B',\n",
       " '$13.3 B',\n",
       " '$13.2 B',\n",
       " '$13.2 B',\n",
       " '$13.1 B',\n",
       " '$13 B',\n",
       " '$13 B',\n",
       " '$12.9 B',\n",
       " '$12.9 B',\n",
       " '$12.8 B',\n",
       " '$12.7 B',\n",
       " '$12.7 B',\n",
       " '$12.6 B',\n",
       " '$12.6 B',\n",
       " '$12.5 B',\n",
       " '$12.5 B',\n",
       " '$12.5 B',\n",
       " '$12.5 B',\n",
       " '$12.4 B',\n",
       " '$12.4 B',\n",
       " '$12.4 B',\n",
       " '$12.4 B',\n",
       " '$12.3 B',\n",
       " '$12.1 B',\n",
       " '$12.1 B',\n",
       " '$12 B',\n",
       " '$11.9 B',\n",
       " '$11.8 B',\n",
       " '$11.8 B',\n",
       " '$11.8 B',\n",
       " '$11.6 B',\n",
       " '$11.6 B',\n",
       " '$11.5 B',\n",
       " '$11.5 B',\n",
       " '$11.4 B',\n",
       " '$11.3 B',\n",
       " '$11.2 B',\n",
       " '$11.2 B',\n",
       " '$11.1 B',\n",
       " '$11.1 B',\n",
       " '$11.1 B',\n",
       " '$11 B']"
      ]
     },
     "execution_count": 7,
     "metadata": {},
     "output_type": "execute_result"
    }
   ],
   "source": [
    "net_tag= driver.find_elements_by_xpath('//div[@class=\"netWorth\"]')\n",
    "#Aug_tags1\n",
    "\n",
    "\n",
    "net=[]\n",
    "\n",
    "for i in net_tag:\n",
    "    net.append(i.text.replace(\"\\n\",\",\"))\n",
    "      \n",
    "net"
   ]
  },
  {
   "cell_type": "code",
   "execution_count": 11,
   "metadata": {},
   "outputs": [
    {
     "data": {
      "text/plain": [
       "['57',\n",
       " '49',\n",
       " '72',\n",
       " '65',\n",
       " '36',\n",
       " '90',\n",
       " '76',\n",
       " '48',\n",
       " '47',\n",
       " '63',\n",
       " '85',\n",
       " '67',\n",
       " '66',\n",
       " '65',\n",
       " '49',\n",
       " '81',\n",
       " '71',\n",
       " '72',\n",
       " '76',\n",
       " '79',\n",
       " '41',\n",
       " '50',\n",
       " '59',\n",
       " '58',\n",
       " '83',\n",
       " '56',\n",
       " '85',\n",
       " '58',\n",
       " '63',\n",
       " '56',\n",
       " '72',\n",
       " '84',\n",
       " '63',\n",
       " 'N/A',\n",
       " '50',\n",
       " '75',\n",
       " '78',\n",
       " '81',\n",
       " '37',\n",
       " '56',\n",
       " '72',\n",
       " '70',\n",
       " '92',\n",
       " '55',\n",
       " '49',\n",
       " '63',\n",
       " '93',\n",
       " '81',\n",
       " '85',\n",
       " '39',\n",
       " '55',\n",
       " '52',\n",
       " '62',\n",
       " '58',\n",
       " '60',\n",
       " '76',\n",
       " '65',\n",
       " '83',\n",
       " '64',\n",
       " '42',\n",
       " '67',\n",
       " '85',\n",
       " '75',\n",
       " '88',\n",
       " '76',\n",
       " '70',\n",
       " '65',\n",
       " '82',\n",
       " '67',\n",
       " '67',\n",
       " '90',\n",
       " '75',\n",
       " '49',\n",
       " '78',\n",
       " '51',\n",
       " '50',\n",
       " '47',\n",
       " '68',\n",
       " '74',\n",
       " '93',\n",
       " '54',\n",
       " '70',\n",
       " '53',\n",
       " '73',\n",
       " '59',\n",
       " '80',\n",
       " '59',\n",
       " '71',\n",
       " '81',\n",
       " '57',\n",
       " '60',\n",
       " '54',\n",
       " '92',\n",
       " '50',\n",
       " '57',\n",
       " '65',\n",
       " '62',\n",
       " '70',\n",
       " '67',\n",
       " '43',\n",
       " '57',\n",
       " '54',\n",
       " '81',\n",
       " '74',\n",
       " '55',\n",
       " '49',\n",
       " '36',\n",
       " '39',\n",
       " '91',\n",
       " '56',\n",
       " '91',\n",
       " '36',\n",
       " '68',\n",
       " '81',\n",
       " '85',\n",
       " '66',\n",
       " '66',\n",
       " '55',\n",
       " '64',\n",
       " '52',\n",
       " '45',\n",
       " '63',\n",
       " '62',\n",
       " '85',\n",
       " '55',\n",
       " '82',\n",
       " '34',\n",
       " '56',\n",
       " '57',\n",
       " '50',\n",
       " '51',\n",
       " '88',\n",
       " 'N/A',\n",
       " '70',\n",
       " '56',\n",
       " '51',\n",
       " '66',\n",
       " '91',\n",
       " '52',\n",
       " '91',\n",
       " '39',\n",
       " '54',\n",
       " '63',\n",
       " '56',\n",
       " '41',\n",
       " '81',\n",
       " '63',\n",
       " '37',\n",
       " '64',\n",
       " '41',\n",
       " '66',\n",
       " '61',\n",
       " '68',\n",
       " '39',\n",
       " '69',\n",
       " '80',\n",
       " '76',\n",
       " '53',\n",
       " 'N/A',\n",
       " '41',\n",
       " '48',\n",
       " '53',\n",
       " '55',\n",
       " '45',\n",
       " '53',\n",
       " '54',\n",
       " '65',\n",
       " '53',\n",
       " '48',\n",
       " '79',\n",
       " '97',\n",
       " 'N/A',\n",
       " '44',\n",
       " '78',\n",
       " '57',\n",
       " '48',\n",
       " '37',\n",
       " '69',\n",
       " '39',\n",
       " '43',\n",
       " '55',\n",
       " '69',\n",
       " '92',\n",
       " '62',\n",
       " '32',\n",
       " '57',\n",
       " '58',\n",
       " '53',\n",
       " '56',\n",
       " '57',\n",
       " '63',\n",
       " '71',\n",
       " '55',\n",
       " '76',\n",
       " '72',\n",
       " '88',\n",
       " '65',\n",
       " '70',\n",
       " '30',\n",
       " '88']"
      ]
     },
     "execution_count": 11,
     "metadata": {},
     "output_type": "execute_result"
    }
   ],
   "source": [
    "age_tag= driver.find_elements_by_xpath('//div[@class=\"age\"]')\n",
    "#Aug_tags1\n",
    "\n",
    "\n",
    "age=[]\n",
    "\n",
    "for i in age_tag:\n",
    "    age.append(i.text.replace(\"\\n\",\",\"))\n",
    "      \n",
    "age"
   ]
  },
  {
   "cell_type": "code",
   "execution_count": 8,
   "metadata": {},
   "outputs": [
    {
     "data": {
      "text/plain": [
       "['United States',\n",
       " 'United States',\n",
       " 'France',\n",
       " 'United States',\n",
       " 'United States',\n",
       " 'United States',\n",
       " 'United States',\n",
       " 'United States',\n",
       " 'United States',\n",
       " 'India',\n",
       " 'Spain',\n",
       " 'France',\n",
       " 'China',\n",
       " 'United States',\n",
       " 'China',\n",
       " 'Mexico',\n",
       " 'United States',\n",
       " 'United States',\n",
       " 'United States',\n",
       " 'United States',\n",
       " 'China',\n",
       " 'United States',\n",
       " 'United States',\n",
       " 'India',\n",
       " 'United States',\n",
       " 'China',\n",
       " 'United States',\n",
       " 'United States',\n",
       " 'Japan',\n",
       " 'United States',\n",
       " 'Japan',\n",
       " 'France',\n",
       " 'Canada',\n",
       " 'Germany',\n",
       " 'China',\n",
       " 'United States',\n",
       " 'China',\n",
       " 'Germany',\n",
       " 'China',\n",
       " 'Italy',\n",
       " 'France',\n",
       " 'France',\n",
       " 'Hong Kong',\n",
       " 'China',\n",
       " 'China',\n",
       " 'United States',\n",
       " 'Hong Kong',\n",
       " 'United States',\n",
       " 'United States',\n",
       " 'China',\n",
       " 'Russia',\n",
       " 'Hong Kong',\n",
       " 'China',\n",
       " 'Germany',\n",
       " 'Russia',\n",
       " 'Austria',\n",
       " 'China',\n",
       " 'Germany',\n",
       " 'Russia',\n",
       " 'China',\n",
       " 'Mexico',\n",
       " 'Italy',\n",
       " 'Japan',\n",
       " 'United States',\n",
       " 'United States',\n",
       " 'Russia',\n",
       " 'Russia',\n",
       " 'United States',\n",
       " 'China',\n",
       " 'Australia',\n",
       " 'United States',\n",
       " 'India',\n",
       " 'China',\n",
       " 'Chile',\n",
       " 'China',\n",
       " 'Singapore',\n",
       " 'China',\n",
       " 'Russia',\n",
       " 'United States',\n",
       " 'Singapore',\n",
       " 'Germany',\n",
       " 'Singapore',\n",
       " 'United States',\n",
       " 'Sweden',\n",
       " 'United States',\n",
       " 'Indonesia',\n",
       " 'Australia',\n",
       " 'United States',\n",
       " 'Indonesia',\n",
       " 'China',\n",
       " 'China',\n",
       " 'Hong Kong',\n",
       " 'Hong Kong',\n",
       " 'France',\n",
       " 'United States',\n",
       " 'United States',\n",
       " 'China',\n",
       " 'Germany',\n",
       " 'Russia',\n",
       " 'United States',\n",
       " 'China',\n",
       " 'China',\n",
       " 'Thailand',\n",
       " 'Hong Kong',\n",
       " 'China',\n",
       " 'Russia',\n",
       " 'United States',\n",
       " 'China',\n",
       " 'United States',\n",
       " 'Czechia',\n",
       " 'Hong Kong',\n",
       " 'Russia',\n",
       " 'United Kingdom',\n",
       " 'Brazil',\n",
       " 'Germany',\n",
       " 'Netherlands',\n",
       " 'India',\n",
       " 'China',\n",
       " 'United States',\n",
       " 'United States',\n",
       " 'China',\n",
       " 'United States',\n",
       " 'India',\n",
       " 'United States',\n",
       " 'Russia',\n",
       " 'United States',\n",
       " 'United States',\n",
       " 'Russia',\n",
       " 'China',\n",
       " 'China',\n",
       " 'Hong Kong',\n",
       " 'United States',\n",
       " 'United Kingdom',\n",
       " 'India',\n",
       " 'Germany',\n",
       " 'United States',\n",
       " 'China',\n",
       " 'Hong Kong',\n",
       " 'China',\n",
       " 'Ireland',\n",
       " 'Brazil',\n",
       " 'Russia',\n",
       " 'United States',\n",
       " 'Hong Kong',\n",
       " 'Australia',\n",
       " 'United States',\n",
       " 'South Korea',\n",
       " 'China',\n",
       " 'China',\n",
       " 'Australia',\n",
       " 'Sweden',\n",
       " 'Sweden',\n",
       " 'Sweden',\n",
       " 'United States',\n",
       " 'Hong Kong',\n",
       " 'United States',\n",
       " 'Thailand',\n",
       " 'South Korea',\n",
       " 'Singapore',\n",
       " 'China',\n",
       " 'Denmark',\n",
       " 'China',\n",
       " 'China',\n",
       " 'Russia',\n",
       " 'United Kingdom',\n",
       " 'China',\n",
       " 'Mexico',\n",
       " 'India',\n",
       " 'China',\n",
       " 'India',\n",
       " 'Malaysia',\n",
       " 'United States',\n",
       " 'United States',\n",
       " 'China',\n",
       " 'China',\n",
       " 'China',\n",
       " 'United States',\n",
       " 'United States',\n",
       " 'United States',\n",
       " 'Singapore',\n",
       " 'China',\n",
       " 'China',\n",
       " 'United States',\n",
       " 'United States',\n",
       " 'United States',\n",
       " 'France',\n",
       " 'United States',\n",
       " 'Germany',\n",
       " 'China',\n",
       " 'Canada',\n",
       " 'Nigeria',\n",
       " 'Brazil',\n",
       " 'Russia',\n",
       " 'Brazil',\n",
       " 'Russia',\n",
       " 'Australia',\n",
       " 'Russia',\n",
       " 'Israel',\n",
       " 'United States',\n",
       " 'Colombia']"
      ]
     },
     "execution_count": 8,
     "metadata": {},
     "output_type": "execute_result"
    }
   ],
   "source": [
    "country_tag= driver.find_elements_by_xpath('//div[@class=\"countryOfCitizenship\"]')\n",
    "#Aug_tags1\n",
    "\n",
    "\n",
    "country=[]\n",
    "\n",
    "for i in country_tag:\n",
    "    country.append(i.text.replace(\"\\n\",\",\"))\n",
    "      \n",
    "country"
   ]
  },
  {
   "cell_type": "code",
   "execution_count": 9,
   "metadata": {},
   "outputs": [
    {
     "data": {
      "text/plain": [
       "['Amazon',\n",
       " 'Tesla, SpaceX',\n",
       " 'LVMH',\n",
       " 'Microsoft',\n",
       " 'Facebook',\n",
       " 'Berkshire Hathaway',\n",
       " 'software',\n",
       " 'Google',\n",
       " 'Google',\n",
       " 'diversified',\n",
       " 'Zara',\n",
       " \"L'Oréal\",\n",
       " 'beverages, pharmaceuticals',\n",
       " 'Microsoft',\n",
       " 'internet media',\n",
       " 'telecom',\n",
       " 'Walmart',\n",
       " 'Walmart',\n",
       " 'Walmart',\n",
       " 'Bloomberg LP',\n",
       " 'e-commerce',\n",
       " 'Amazon',\n",
       " 'Quicken Loans',\n",
       " 'infrastructure, commodities',\n",
       " 'Nike',\n",
       " 'e-commerce',\n",
       " 'Koch Industries',\n",
       " 'Koch Industries',\n",
       " 'internet, telecom',\n",
       " 'Dell computers',\n",
       " 'fashion retail',\n",
       " 'luxury goods',\n",
       " 'media',\n",
       " 'supermarkets',\n",
       " 'package delivery',\n",
       " 'casinos',\n",
       " 'home appliances',\n",
       " 'retail',\n",
       " 'TikTok',\n",
       " 'Nutella, chocolates',\n",
       " 'Chanel',\n",
       " 'Chanel',\n",
       " 'diversified',\n",
       " 'pig breeding',\n",
       " 'online games',\n",
       " 'music, chemicals',\n",
       " 'real estate',\n",
       " 'candy, pet food',\n",
       " 'candy, pet food',\n",
       " 'real estate',\n",
       " 'steel, investments',\n",
       " 'batteries',\n",
       " 'real estate',\n",
       " 'BMW, pharmaceuticals',\n",
       " 'metals',\n",
       " 'Red Bull',\n",
       " 'soy sauce',\n",
       " 'shipping',\n",
       " 'steel, transport',\n",
       " 'e-commerce',\n",
       " 'mining',\n",
       " 'eyeglasses',\n",
       " 'sensors',\n",
       " 'Estee Lauder',\n",
       " 'discount brokerage',\n",
       " 'oil',\n",
       " 'gas, chemicals',\n",
       " 'hedge funds',\n",
       " 'vaccines',\n",
       " 'mining',\n",
       " 'newspapers, TV network',\n",
       " 'software services',\n",
       " 'internet media',\n",
       " 'mining',\n",
       " 'smartphones',\n",
       " 'restaurants',\n",
       " 'e-commerce',\n",
       " 'oil, gas',\n",
       " 'investments',\n",
       " 'paints',\n",
       " 'BMW',\n",
       " 'medical devices',\n",
       " 'eBay, PayPal',\n",
       " 'H&M',\n",
       " 'money management',\n",
       " 'banking, tobacco',\n",
       " 'mining',\n",
       " 'hedge funds',\n",
       " 'banking, tobacco',\n",
       " 'automobiles',\n",
       " 'pharmaceuticals',\n",
       " 'medical devices',\n",
       " 'casinos/hotels',\n",
       " 'cheese',\n",
       " 'Apple, Disney',\n",
       " 'Google',\n",
       " 'pharmaceuticals',\n",
       " \"Aldi, Trader Joe's\",\n",
       " 'steel, telecom, investments',\n",
       " 'wireless networking gear',\n",
       " 'real estate',\n",
       " 'petrochemicals',\n",
       " 'diversified',\n",
       " 'real estate',\n",
       " 'hospitals',\n",
       " 'coal, fertilizers',\n",
       " 'Facebook',\n",
       " 'video streaming',\n",
       " 'media',\n",
       " 'finance, telecommunications',\n",
       " 'food',\n",
       " 'messaging app',\n",
       " 'chemicals',\n",
       " 'beer',\n",
       " 'fasteners',\n",
       " 'Heineken',\n",
       " 'retail, investments',\n",
       " 'batteries, automobiles',\n",
       " 'hedge funds',\n",
       " 'hedge funds',\n",
       " 'e-cigarettes',\n",
       " 'used cars',\n",
       " 'banking',\n",
       " 'investments',\n",
       " 'investments',\n",
       " 'hospitals',\n",
       " 'Walmart',\n",
       " 'oil, banking, telecom',\n",
       " 'automobiles',\n",
       " 'real estate services',\n",
       " 'smartphone screens',\n",
       " 'real estate',\n",
       " 'diversified',\n",
       " 'steel',\n",
       " 'auto parts',\n",
       " 'video conferencing',\n",
       " 'real estate',\n",
       " 'real estate',\n",
       " 'internet search',\n",
       " 'construction',\n",
       " 'Facebook',\n",
       " 'steel, investments',\n",
       " 'hedge funds',\n",
       " 'video surveillance',\n",
       " 'software',\n",
       " 'home improvement stores',\n",
       " 'biotech',\n",
       " 'video streaming app',\n",
       " 'construction equipment',\n",
       " 'software',\n",
       " 'packaging',\n",
       " 'packaging',\n",
       " 'packaging',\n",
       " 'Airbnb',\n",
       " 'real estate',\n",
       " 'business software',\n",
       " 'alcohol, real estate',\n",
       " 'online games',\n",
       " 'real estate',\n",
       " 'education',\n",
       " 'fashion retail',\n",
       " 'mining, copper products',\n",
       " 'hydraulic machinery',\n",
       " 'ecommerce',\n",
       " 'hedge funds',\n",
       " 'batteries',\n",
       " 'retail, media',\n",
       " 'commodities',\n",
       " 'coal',\n",
       " 'vaccines',\n",
       " 'palm oil, shipping, property',\n",
       " 'supermarkets',\n",
       " 'Twitter, Square',\n",
       " 'education',\n",
       " 'textiles, apparel',\n",
       " 'e-commerce',\n",
       " 'Airbnb',\n",
       " 'venture capital',\n",
       " 'Airbnb',\n",
       " 'gaming',\n",
       " 'semiconductors',\n",
       " 'agribusiness',\n",
       " 'Intel',\n",
       " 'trading, investments',\n",
       " 'Snapchat',\n",
       " 'telecom',\n",
       " 'semiconductors',\n",
       " 'real estate',\n",
       " 'pharmaceuticals',\n",
       " 'e-commerce',\n",
       " 'cement, sugar',\n",
       " 'beer',\n",
       " 'investments',\n",
       " 'hospitals',\n",
       " 'steel',\n",
       " 'real estate',\n",
       " 'oil',\n",
       " 'real estate, shipping',\n",
       " 'Snapchat',\n",
       " 'banking']"
      ]
     },
     "execution_count": 9,
     "metadata": {},
     "output_type": "execute_result"
    }
   ],
   "source": [
    "source_tag= driver.find_elements_by_xpath('//div[@class=\"source-column\"]')\n",
    "#Aug_tags1\n",
    "\n",
    "\n",
    "source=[]\n",
    "\n",
    "for i in source_tag:\n",
    "    source.append(i.text.replace(\"\\n\",\",\"))\n",
    "      \n",
    "source"
   ]
  },
  {
   "cell_type": "code",
   "execution_count": 10,
   "metadata": {},
   "outputs": [
    {
     "data": {
      "text/plain": [
       "['Technology',\n",
       " 'Automotive',\n",
       " 'Fashion & Retail',\n",
       " 'Technology',\n",
       " 'Technology',\n",
       " 'Finance & Investments',\n",
       " 'Technology',\n",
       " 'Technology',\n",
       " 'Technology',\n",
       " 'Diversified',\n",
       " 'Fashion & Retail',\n",
       " 'Fashion & Retail',\n",
       " 'Food & Beverage',\n",
       " 'Technology',\n",
       " 'Technology',\n",
       " 'Telecom',\n",
       " 'Fashion & Retail',\n",
       " 'Fashion & Retail',\n",
       " 'Fashion & Retail',\n",
       " 'Media & Entertainment',\n",
       " 'Technology',\n",
       " 'Technology',\n",
       " 'Finance & Investments',\n",
       " 'Diversified',\n",
       " 'Fashion & Retail',\n",
       " 'Technology',\n",
       " 'Diversified',\n",
       " 'Diversified',\n",
       " 'Telecom',\n",
       " 'Technology',\n",
       " 'Fashion & Retail',\n",
       " 'Fashion & Retail',\n",
       " 'Media & Entertainment',\n",
       " 'Fashion & Retail',\n",
       " 'Service',\n",
       " 'Gambling & Casinos',\n",
       " 'Manufacturing',\n",
       " 'Fashion & Retail',\n",
       " 'Technology',\n",
       " 'Food & Beverage',\n",
       " 'Fashion & Retail',\n",
       " 'Fashion & Retail',\n",
       " 'Diversified',\n",
       " 'Food & Beverage',\n",
       " 'Technology',\n",
       " 'Diversified',\n",
       " 'Real Estate',\n",
       " 'Food & Beverage',\n",
       " 'Food & Beverage',\n",
       " 'Real Estate',\n",
       " 'Metals & Mining',\n",
       " 'Energy',\n",
       " 'Real Estate',\n",
       " 'Automotive',\n",
       " 'Metals & Mining',\n",
       " 'Food & Beverage',\n",
       " 'Food & Beverage',\n",
       " 'Logistics',\n",
       " 'Metals & Mining',\n",
       " 'Technology',\n",
       " 'Metals & Mining',\n",
       " 'Fashion & Retail',\n",
       " 'Manufacturing',\n",
       " 'Fashion & Retail',\n",
       " 'Finance & Investments',\n",
       " 'Energy',\n",
       " 'Energy',\n",
       " 'Finance & Investments',\n",
       " 'Healthcare',\n",
       " 'Metals & Mining',\n",
       " 'Media & Entertainment',\n",
       " 'Technology',\n",
       " 'Technology',\n",
       " 'Metals & Mining',\n",
       " 'Technology',\n",
       " 'Food & Beverage',\n",
       " 'Technology',\n",
       " 'Energy',\n",
       " 'Finance & Investments',\n",
       " 'Manufacturing',\n",
       " 'Automotive',\n",
       " 'Healthcare',\n",
       " 'Technology',\n",
       " 'Fashion & Retail',\n",
       " 'Finance & Investments',\n",
       " 'Finance & Investments',\n",
       " 'Metals & Mining',\n",
       " 'Finance & Investments',\n",
       " 'Manufacturing',\n",
       " 'Automotive',\n",
       " 'Healthcare',\n",
       " 'Healthcare',\n",
       " 'Gambling & Casinos',\n",
       " 'Food & Beverage',\n",
       " 'Technology',\n",
       " 'Technology',\n",
       " 'Healthcare',\n",
       " 'Fashion & Retail',\n",
       " 'Metals & Mining',\n",
       " 'Technology',\n",
       " 'Real Estate',\n",
       " 'Energy',\n",
       " 'Diversified',\n",
       " 'Real Estate',\n",
       " 'Healthcare',\n",
       " 'Energy',\n",
       " 'Technology',\n",
       " 'Media & Entertainment',\n",
       " 'Media & Entertainment',\n",
       " 'Finance & Investments',\n",
       " 'Food & Beverage',\n",
       " 'Technology',\n",
       " 'Manufacturing',\n",
       " 'Food & Beverage',\n",
       " 'Manufacturing',\n",
       " 'Food & Beverage',\n",
       " 'Fashion & Retail',\n",
       " 'Automotive',\n",
       " 'Finance & Investments',\n",
       " 'Finance & Investments',\n",
       " 'Manufacturing',\n",
       " 'Automotive',\n",
       " 'Finance & Investments',\n",
       " 'Finance & Investments',\n",
       " 'Finance & Investments',\n",
       " 'Healthcare',\n",
       " 'Fashion & Retail',\n",
       " 'Energy',\n",
       " 'Automotive',\n",
       " 'Real Estate',\n",
       " 'Technology',\n",
       " 'Real Estate',\n",
       " 'Diversified',\n",
       " 'Metals & Mining',\n",
       " 'Automotive',\n",
       " 'Technology',\n",
       " 'Real Estate',\n",
       " 'Real Estate',\n",
       " 'Technology',\n",
       " 'Construction & Engineering',\n",
       " 'Technology',\n",
       " 'Diversified',\n",
       " 'Finance & Investments',\n",
       " 'Finance & Investments',\n",
       " 'Technology',\n",
       " 'Fashion & Retail',\n",
       " 'Healthcare',\n",
       " 'Media & Entertainment',\n",
       " 'Manufacturing',\n",
       " 'Technology',\n",
       " 'Food & Beverage',\n",
       " 'Food & Beverage',\n",
       " 'Food & Beverage',\n",
       " 'Technology',\n",
       " 'Real Estate',\n",
       " 'Technology',\n",
       " 'Food & Beverage',\n",
       " 'Technology',\n",
       " 'Real Estate',\n",
       " 'Service',\n",
       " 'Fashion & Retail',\n",
       " 'Metals & Mining',\n",
       " 'Manufacturing',\n",
       " 'Fashion & Retail',\n",
       " 'Finance & Investments',\n",
       " 'Energy',\n",
       " 'Fashion & Retail',\n",
       " 'Diversified',\n",
       " 'Metals & Mining',\n",
       " 'Healthcare',\n",
       " 'Diversified',\n",
       " 'Fashion & Retail',\n",
       " 'Technology',\n",
       " 'Automotive',\n",
       " 'Fashion & Retail',\n",
       " 'Fashion & Retail',\n",
       " 'Technology',\n",
       " 'Technology',\n",
       " 'Technology',\n",
       " 'Media & Entertainment',\n",
       " 'Manufacturing',\n",
       " 'Service',\n",
       " 'Technology',\n",
       " 'Finance & Investments',\n",
       " 'Technology',\n",
       " 'Telecom',\n",
       " 'Technology',\n",
       " 'Real Estate',\n",
       " 'Healthcare',\n",
       " 'Technology',\n",
       " 'Manufacturing',\n",
       " 'Food & Beverage',\n",
       " 'Finance & Investments',\n",
       " 'Healthcare',\n",
       " 'Manufacturing',\n",
       " 'Real Estate',\n",
       " 'Energy',\n",
       " 'Diversified',\n",
       " 'Technology',\n",
       " 'Finance & Investments']"
      ]
     },
     "execution_count": 10,
     "metadata": {},
     "output_type": "execute_result"
    }
   ],
   "source": [
    "inustry_tag= driver.find_elements_by_xpath('//div[@class=\"category\"]')\n",
    "#Aug_tags1\n",
    "\n",
    "\n",
    "inustry=[]\n",
    "\n",
    "for i in inustry_tag:\n",
    "    inustry.append(i.text.replace(\"\\n\",\",\"))\n",
    "      \n",
    "inustry"
   ]
  },
  {
   "cell_type": "code",
   "execution_count": 13,
   "metadata": {},
   "outputs": [
    {
     "data": {
      "text/html": [
       "<div>\n",
       "<style scoped>\n",
       "    .dataframe tbody tr th:only-of-type {\n",
       "        vertical-align: middle;\n",
       "    }\n",
       "\n",
       "    .dataframe tbody tr th {\n",
       "        vertical-align: top;\n",
       "    }\n",
       "\n",
       "    .dataframe thead th {\n",
       "        text-align: right;\n",
       "    }\n",
       "</style>\n",
       "<table border=\"1\" class=\"dataframe\">\n",
       "  <thead>\n",
       "    <tr style=\"text-align: right;\">\n",
       "      <th></th>\n",
       "      <th>Rank</th>\n",
       "      <th>Name</th>\n",
       "      <th>Net_worth</th>\n",
       "      <th>Age</th>\n",
       "      <th>Citizenship</th>\n",
       "      <th>Source</th>\n",
       "      <th>Industry</th>\n",
       "    </tr>\n",
       "  </thead>\n",
       "  <tbody>\n",
       "    <tr>\n",
       "      <th>0</th>\n",
       "      <td>1.</td>\n",
       "      <td>Jeff Bezos</td>\n",
       "      <td>$177 B</td>\n",
       "      <td>57</td>\n",
       "      <td>United States</td>\n",
       "      <td>Amazon</td>\n",
       "      <td>Technology</td>\n",
       "    </tr>\n",
       "    <tr>\n",
       "      <th>1</th>\n",
       "      <td>2.</td>\n",
       "      <td>Elon Musk</td>\n",
       "      <td>$151 B</td>\n",
       "      <td>49</td>\n",
       "      <td>United States</td>\n",
       "      <td>Tesla, SpaceX</td>\n",
       "      <td>Automotive</td>\n",
       "    </tr>\n",
       "    <tr>\n",
       "      <th>2</th>\n",
       "      <td>3.</td>\n",
       "      <td>Bernard Arnault &amp; family</td>\n",
       "      <td>$150 B</td>\n",
       "      <td>72</td>\n",
       "      <td>France</td>\n",
       "      <td>LVMH</td>\n",
       "      <td>Fashion &amp; Retail</td>\n",
       "    </tr>\n",
       "    <tr>\n",
       "      <th>3</th>\n",
       "      <td>4.</td>\n",
       "      <td>Bill Gates</td>\n",
       "      <td>$124 B</td>\n",
       "      <td>65</td>\n",
       "      <td>United States</td>\n",
       "      <td>Microsoft</td>\n",
       "      <td>Technology</td>\n",
       "    </tr>\n",
       "    <tr>\n",
       "      <th>4</th>\n",
       "      <td>5.</td>\n",
       "      <td>Mark Zuckerberg</td>\n",
       "      <td>$97 B</td>\n",
       "      <td>36</td>\n",
       "      <td>United States</td>\n",
       "      <td>Facebook</td>\n",
       "      <td>Technology</td>\n",
       "    </tr>\n",
       "    <tr>\n",
       "      <th>...</th>\n",
       "      <td>...</td>\n",
       "      <td>...</td>\n",
       "      <td>...</td>\n",
       "      <td>...</td>\n",
       "      <td>...</td>\n",
       "      <td>...</td>\n",
       "      <td>...</td>\n",
       "    </tr>\n",
       "    <tr>\n",
       "      <th>195</th>\n",
       "      <td>195.</td>\n",
       "      <td>Harry Triguboff</td>\n",
       "      <td>$11.2 B</td>\n",
       "      <td>88</td>\n",
       "      <td>Australia</td>\n",
       "      <td>real estate</td>\n",
       "      <td>Real Estate</td>\n",
       "    </tr>\n",
       "    <tr>\n",
       "      <th>196</th>\n",
       "      <td>197.</td>\n",
       "      <td>Leonid Fedun &amp; family</td>\n",
       "      <td>$11.1 B</td>\n",
       "      <td>65</td>\n",
       "      <td>Russia</td>\n",
       "      <td>oil</td>\n",
       "      <td>Energy</td>\n",
       "    </tr>\n",
       "    <tr>\n",
       "      <th>197</th>\n",
       "      <td>197.</td>\n",
       "      <td>Eyal Ofer</td>\n",
       "      <td>$11.1 B</td>\n",
       "      <td>70</td>\n",
       "      <td>Israel</td>\n",
       "      <td>real estate, shipping</td>\n",
       "      <td>Diversified</td>\n",
       "    </tr>\n",
       "    <tr>\n",
       "      <th>198</th>\n",
       "      <td>197.</td>\n",
       "      <td>Evan Spiegel</td>\n",
       "      <td>$11.1 B</td>\n",
       "      <td>30</td>\n",
       "      <td>United States</td>\n",
       "      <td>Snapchat</td>\n",
       "      <td>Technology</td>\n",
       "    </tr>\n",
       "    <tr>\n",
       "      <th>199</th>\n",
       "      <td>200.</td>\n",
       "      <td>Luis Carlos Sarmiento</td>\n",
       "      <td>$11 B</td>\n",
       "      <td>88</td>\n",
       "      <td>Colombia</td>\n",
       "      <td>banking</td>\n",
       "      <td>Finance &amp; Investments</td>\n",
       "    </tr>\n",
       "  </tbody>\n",
       "</table>\n",
       "<p>200 rows × 7 columns</p>\n",
       "</div>"
      ],
      "text/plain": [
       "     Rank                      Name Net_worth Age    Citizenship  \\\n",
       "0      1.                Jeff Bezos    $177 B  57  United States   \n",
       "1      2.                 Elon Musk    $151 B  49  United States   \n",
       "2      3.  Bernard Arnault & family    $150 B  72         France   \n",
       "3      4.                Bill Gates    $124 B  65  United States   \n",
       "4      5.           Mark Zuckerberg     $97 B  36  United States   \n",
       "..    ...                       ...       ...  ..            ...   \n",
       "195  195.           Harry Triguboff   $11.2 B  88      Australia   \n",
       "196  197.     Leonid Fedun & family   $11.1 B  65         Russia   \n",
       "197  197.                 Eyal Ofer   $11.1 B  70         Israel   \n",
       "198  197.              Evan Spiegel   $11.1 B  30  United States   \n",
       "199  200.     Luis Carlos Sarmiento     $11 B  88       Colombia   \n",
       "\n",
       "                    Source               Industry  \n",
       "0                   Amazon             Technology  \n",
       "1            Tesla, SpaceX             Automotive  \n",
       "2                     LVMH       Fashion & Retail  \n",
       "3                Microsoft             Technology  \n",
       "4                 Facebook             Technology  \n",
       "..                     ...                    ...  \n",
       "195            real estate            Real Estate  \n",
       "196                    oil                 Energy  \n",
       "197  real estate, shipping            Diversified  \n",
       "198               Snapchat             Technology  \n",
       "199                banking  Finance & Investments  \n",
       "\n",
       "[200 rows x 7 columns]"
      ]
     },
     "execution_count": 13,
     "metadata": {},
     "output_type": "execute_result"
    }
   ],
   "source": [
    "df=pd.DataFrame({})\n",
    "df['Rank']=rank1\n",
    "df['Name']=name\n",
    "df['Net_worth']=net\n",
    "df['Age']=age\n",
    "df['Citizenship']=country\n",
    "df['Source']=source\n",
    "df['Industry']=inustry\n",
    "df"
   ]
  },
  {
   "cell_type": "code",
   "execution_count": 14,
   "metadata": {},
   "outputs": [],
   "source": [
    "df.to_csv(\"Q_8.csv\")"
   ]
  },
  {
   "cell_type": "code",
   "execution_count": 17,
   "metadata": {},
   "outputs": [
    {
     "data": {
      "text/html": [
       "<div>\n",
       "<style scoped>\n",
       "    .dataframe tbody tr th:only-of-type {\n",
       "        vertical-align: middle;\n",
       "    }\n",
       "\n",
       "    .dataframe tbody tr th {\n",
       "        vertical-align: top;\n",
       "    }\n",
       "\n",
       "    .dataframe thead th {\n",
       "        text-align: right;\n",
       "    }\n",
       "</style>\n",
       "<table border=\"1\" class=\"dataframe\">\n",
       "  <thead>\n",
       "    <tr style=\"text-align: right;\">\n",
       "      <th></th>\n",
       "      <th>Unnamed: 0</th>\n",
       "      <th>Rank</th>\n",
       "      <th>Name</th>\n",
       "      <th>Net_worth</th>\n",
       "      <th>Age</th>\n",
       "      <th>Citizenship</th>\n",
       "      <th>Source</th>\n",
       "      <th>Industry</th>\n",
       "    </tr>\n",
       "  </thead>\n",
       "  <tbody>\n",
       "    <tr>\n",
       "      <th>0</th>\n",
       "      <td>0</td>\n",
       "      <td>1.0</td>\n",
       "      <td>Jeff Bezos</td>\n",
       "      <td>$177 B</td>\n",
       "      <td>57.0</td>\n",
       "      <td>United States</td>\n",
       "      <td>Amazon</td>\n",
       "      <td>Technology</td>\n",
       "    </tr>\n",
       "    <tr>\n",
       "      <th>1</th>\n",
       "      <td>1</td>\n",
       "      <td>2.0</td>\n",
       "      <td>Elon Musk</td>\n",
       "      <td>$151 B</td>\n",
       "      <td>49.0</td>\n",
       "      <td>United States</td>\n",
       "      <td>Tesla, SpaceX</td>\n",
       "      <td>Automotive</td>\n",
       "    </tr>\n",
       "    <tr>\n",
       "      <th>2</th>\n",
       "      <td>2</td>\n",
       "      <td>3.0</td>\n",
       "      <td>Bernard Arnault &amp; family</td>\n",
       "      <td>$150 B</td>\n",
       "      <td>72.0</td>\n",
       "      <td>France</td>\n",
       "      <td>LVMH</td>\n",
       "      <td>Fashion &amp; Retail</td>\n",
       "    </tr>\n",
       "    <tr>\n",
       "      <th>3</th>\n",
       "      <td>3</td>\n",
       "      <td>4.0</td>\n",
       "      <td>Bill Gates</td>\n",
       "      <td>$124 B</td>\n",
       "      <td>65.0</td>\n",
       "      <td>United States</td>\n",
       "      <td>Microsoft</td>\n",
       "      <td>Technology</td>\n",
       "    </tr>\n",
       "    <tr>\n",
       "      <th>4</th>\n",
       "      <td>4</td>\n",
       "      <td>5.0</td>\n",
       "      <td>Mark Zuckerberg</td>\n",
       "      <td>$97 B</td>\n",
       "      <td>36.0</td>\n",
       "      <td>United States</td>\n",
       "      <td>Facebook</td>\n",
       "      <td>Technology</td>\n",
       "    </tr>\n",
       "    <tr>\n",
       "      <th>...</th>\n",
       "      <td>...</td>\n",
       "      <td>...</td>\n",
       "      <td>...</td>\n",
       "      <td>...</td>\n",
       "      <td>...</td>\n",
       "      <td>...</td>\n",
       "      <td>...</td>\n",
       "      <td>...</td>\n",
       "    </tr>\n",
       "    <tr>\n",
       "      <th>195</th>\n",
       "      <td>195</td>\n",
       "      <td>195.0</td>\n",
       "      <td>Harry Triguboff</td>\n",
       "      <td>$11.2 B</td>\n",
       "      <td>88.0</td>\n",
       "      <td>Australia</td>\n",
       "      <td>real estate</td>\n",
       "      <td>Real Estate</td>\n",
       "    </tr>\n",
       "    <tr>\n",
       "      <th>196</th>\n",
       "      <td>196</td>\n",
       "      <td>197.0</td>\n",
       "      <td>Leonid Fedun &amp; family</td>\n",
       "      <td>$11.1 B</td>\n",
       "      <td>65.0</td>\n",
       "      <td>Russia</td>\n",
       "      <td>oil</td>\n",
       "      <td>Energy</td>\n",
       "    </tr>\n",
       "    <tr>\n",
       "      <th>197</th>\n",
       "      <td>197</td>\n",
       "      <td>197.0</td>\n",
       "      <td>Eyal Ofer</td>\n",
       "      <td>$11.1 B</td>\n",
       "      <td>70.0</td>\n",
       "      <td>Israel</td>\n",
       "      <td>real estate, shipping</td>\n",
       "      <td>Diversified</td>\n",
       "    </tr>\n",
       "    <tr>\n",
       "      <th>198</th>\n",
       "      <td>198</td>\n",
       "      <td>197.0</td>\n",
       "      <td>Evan Spiegel</td>\n",
       "      <td>$11.1 B</td>\n",
       "      <td>30.0</td>\n",
       "      <td>United States</td>\n",
       "      <td>Snapchat</td>\n",
       "      <td>Technology</td>\n",
       "    </tr>\n",
       "    <tr>\n",
       "      <th>199</th>\n",
       "      <td>199</td>\n",
       "      <td>200.0</td>\n",
       "      <td>Luis Carlos Sarmiento</td>\n",
       "      <td>$11 B</td>\n",
       "      <td>88.0</td>\n",
       "      <td>Colombia</td>\n",
       "      <td>banking</td>\n",
       "      <td>Finance &amp; Investments</td>\n",
       "    </tr>\n",
       "  </tbody>\n",
       "</table>\n",
       "<p>200 rows × 8 columns</p>\n",
       "</div>"
      ],
      "text/plain": [
       "     Unnamed: 0   Rank                      Name Net_worth   Age  \\\n",
       "0             0    1.0                Jeff Bezos    $177 B  57.0   \n",
       "1             1    2.0                 Elon Musk    $151 B  49.0   \n",
       "2             2    3.0  Bernard Arnault & family    $150 B  72.0   \n",
       "3             3    4.0                Bill Gates    $124 B  65.0   \n",
       "4             4    5.0           Mark Zuckerberg     $97 B  36.0   \n",
       "..          ...    ...                       ...       ...   ...   \n",
       "195         195  195.0           Harry Triguboff   $11.2 B  88.0   \n",
       "196         196  197.0     Leonid Fedun & family   $11.1 B  65.0   \n",
       "197         197  197.0                 Eyal Ofer   $11.1 B  70.0   \n",
       "198         198  197.0              Evan Spiegel   $11.1 B  30.0   \n",
       "199         199  200.0     Luis Carlos Sarmiento     $11 B  88.0   \n",
       "\n",
       "       Citizenship                 Source               Industry  \n",
       "0    United States                 Amazon             Technology  \n",
       "1    United States          Tesla, SpaceX             Automotive  \n",
       "2           France                   LVMH       Fashion & Retail  \n",
       "3    United States              Microsoft             Technology  \n",
       "4    United States               Facebook             Technology  \n",
       "..             ...                    ...                    ...  \n",
       "195      Australia            real estate            Real Estate  \n",
       "196         Russia                    oil                 Energy  \n",
       "197         Israel  real estate, shipping            Diversified  \n",
       "198  United States               Snapchat             Technology  \n",
       "199       Colombia                banking  Finance & Investments  \n",
       "\n",
       "[200 rows x 8 columns]"
      ]
     },
     "execution_count": 17,
     "metadata": {},
     "output_type": "execute_result"
    }
   ],
   "source": [
    "df_8=pd.read_csv(\"Q_8.csv\")\n",
    "df_8"
   ]
  },
  {
   "cell_type": "markdown",
   "metadata": {},
   "source": [
    "# 9. Write a program to extract at least 500 Comments, Comment upvote and time when comment was posted from any YouTube Video."
   ]
  },
  {
   "cell_type": "code",
   "execution_count": 4,
   "metadata": {},
   "outputs": [],
   "source": [
    "url = \"https://www.youtube.com/\"\n",
    "driver.get(url)"
   ]
  },
  {
   "cell_type": "code",
   "execution_count": 5,
   "metadata": {},
   "outputs": [],
   "source": [
    "video = driver.find_element_by_xpath(\"(//a[@class='yt-simple-endpoint style-scope ytd-rich-grid-media'])[70]\")"
   ]
  },
  {
   "cell_type": "code",
   "execution_count": 6,
   "metadata": {},
   "outputs": [],
   "source": [
    "video.click()"
   ]
  },
  {
   "cell_type": "code",
   "execution_count": 7,
   "metadata": {},
   "outputs": [],
   "source": [
    "menu = driver.find_element_by_xpath(\"//div[@class='style-scope tp-yt-paper-menu-button']\")\n",
    "menu.click()"
   ]
  },
  {
   "cell_type": "code",
   "execution_count": 24,
   "metadata": {},
   "outputs": [
    {
     "ename": "ElementNotInteractableException",
     "evalue": "Message: element not interactable\n  (Session info: chrome=94.0.4606.61)\nStacktrace:\nBacktrace:\n\tOrdinal0 [0x00F1B9D3+2472403]\n\tOrdinal0 [0x00EB6961+2058593]\n\tOrdinal0 [0x00DC2180+1057152]\n\tOrdinal0 [0x00DED417+1233943]\n\tOrdinal0 [0x00DE3417+1192983]\n\tOrdinal0 [0x00E05593+1332627]\n\tOrdinal0 [0x00DE3236+1192502]\n\tOrdinal0 [0x00E0567A+1332858]\n\tOrdinal0 [0x00E1495F+1395039]\n\tOrdinal0 [0x00E0545B+1332315]\n\tOrdinal0 [0x00DE1FB4+1187764]\n\tOrdinal0 [0x00DE2E09+1191433]\n\tGetHandleVerifier [0x010A3396+1551078]\n\tGetHandleVerifier [0x0114D53A+2247818]\n\tGetHandleVerifier [0x00FA7FBB+521995]\n\tGetHandleVerifier [0x00FA7079+518089]\n\tOrdinal0 [0x00EBBD4D+2080077]\n\tOrdinal0 [0x00EBFC18+2096152]\n\tOrdinal0 [0x00EBFD52+2096466]\n\tOrdinal0 [0x00EC94B1+2135217]\n\tBaseThreadInitThunk [0x769CFA29+25]\n\tRtlGetAppContainerNamedObjectPath [0x77E57A9E+286]\n\tRtlGetAppContainerNamedObjectPath [0x77E57A6E+238]\n",
     "output_type": "error",
     "traceback": [
      "\u001b[1;31m---------------------------------------------------------------------------\u001b[0m",
      "\u001b[1;31mElementNotInteractableException\u001b[0m           Traceback (most recent call last)",
      "\u001b[1;32m<ipython-input-24-3693ae5f63b0>\u001b[0m in \u001b[0;36m<module>\u001b[1;34m\u001b[0m\n\u001b[0;32m      1\u001b[0m \u001b[0mnew\u001b[0m \u001b[1;33m=\u001b[0m \u001b[0mdriver\u001b[0m\u001b[1;33m.\u001b[0m\u001b[0mfind_element_by_xpath\u001b[0m\u001b[1;33m(\u001b[0m\u001b[1;34m\"(//div[@class='item style-scope yt-dropdown-menu'])[2]\"\u001b[0m\u001b[1;33m)\u001b[0m\u001b[1;33m\u001b[0m\u001b[1;33m\u001b[0m\u001b[0m\n\u001b[1;32m----> 2\u001b[1;33m \u001b[0mnew\u001b[0m\u001b[1;33m.\u001b[0m\u001b[0mclick\u001b[0m\u001b[1;33m(\u001b[0m\u001b[1;33m)\u001b[0m\u001b[1;33m\u001b[0m\u001b[1;33m\u001b[0m\u001b[0m\n\u001b[0m",
      "\u001b[1;32m~\\anaconda3\\lib\\site-packages\\selenium\\webdriver\\remote\\webelement.py\u001b[0m in \u001b[0;36mclick\u001b[1;34m(self)\u001b[0m\n\u001b[0;32m     78\u001b[0m     \u001b[1;32mdef\u001b[0m \u001b[0mclick\u001b[0m\u001b[1;33m(\u001b[0m\u001b[0mself\u001b[0m\u001b[1;33m)\u001b[0m \u001b[1;33m->\u001b[0m \u001b[1;32mNone\u001b[0m\u001b[1;33m:\u001b[0m\u001b[1;33m\u001b[0m\u001b[1;33m\u001b[0m\u001b[0m\n\u001b[0;32m     79\u001b[0m         \u001b[1;34m\"\"\"Clicks the element.\"\"\"\u001b[0m\u001b[1;33m\u001b[0m\u001b[1;33m\u001b[0m\u001b[0m\n\u001b[1;32m---> 80\u001b[1;33m         \u001b[0mself\u001b[0m\u001b[1;33m.\u001b[0m\u001b[0m_execute\u001b[0m\u001b[1;33m(\u001b[0m\u001b[0mCommand\u001b[0m\u001b[1;33m.\u001b[0m\u001b[0mCLICK_ELEMENT\u001b[0m\u001b[1;33m)\u001b[0m\u001b[1;33m\u001b[0m\u001b[1;33m\u001b[0m\u001b[0m\n\u001b[0m\u001b[0;32m     81\u001b[0m \u001b[1;33m\u001b[0m\u001b[0m\n\u001b[0;32m     82\u001b[0m     \u001b[1;32mdef\u001b[0m \u001b[0msubmit\u001b[0m\u001b[1;33m(\u001b[0m\u001b[0mself\u001b[0m\u001b[1;33m)\u001b[0m\u001b[1;33m:\u001b[0m\u001b[1;33m\u001b[0m\u001b[1;33m\u001b[0m\u001b[0m\n",
      "\u001b[1;32m~\\anaconda3\\lib\\site-packages\\selenium\\webdriver\\remote\\webelement.py\u001b[0m in \u001b[0;36m_execute\u001b[1;34m(self, command, params)\u001b[0m\n\u001b[0;32m    691\u001b[0m             \u001b[0mparams\u001b[0m \u001b[1;33m=\u001b[0m \u001b[1;33m{\u001b[0m\u001b[1;33m}\u001b[0m\u001b[1;33m\u001b[0m\u001b[1;33m\u001b[0m\u001b[0m\n\u001b[0;32m    692\u001b[0m         \u001b[0mparams\u001b[0m\u001b[1;33m[\u001b[0m\u001b[1;34m'id'\u001b[0m\u001b[1;33m]\u001b[0m \u001b[1;33m=\u001b[0m \u001b[0mself\u001b[0m\u001b[1;33m.\u001b[0m\u001b[0m_id\u001b[0m\u001b[1;33m\u001b[0m\u001b[1;33m\u001b[0m\u001b[0m\n\u001b[1;32m--> 693\u001b[1;33m         \u001b[1;32mreturn\u001b[0m \u001b[0mself\u001b[0m\u001b[1;33m.\u001b[0m\u001b[0m_parent\u001b[0m\u001b[1;33m.\u001b[0m\u001b[0mexecute\u001b[0m\u001b[1;33m(\u001b[0m\u001b[0mcommand\u001b[0m\u001b[1;33m,\u001b[0m \u001b[0mparams\u001b[0m\u001b[1;33m)\u001b[0m\u001b[1;33m\u001b[0m\u001b[1;33m\u001b[0m\u001b[0m\n\u001b[0m\u001b[0;32m    694\u001b[0m \u001b[1;33m\u001b[0m\u001b[0m\n\u001b[0;32m    695\u001b[0m     \u001b[1;32mdef\u001b[0m \u001b[0mfind_element\u001b[0m\u001b[1;33m(\u001b[0m\u001b[0mself\u001b[0m\u001b[1;33m,\u001b[0m \u001b[0mby\u001b[0m\u001b[1;33m=\u001b[0m\u001b[0mBy\u001b[0m\u001b[1;33m.\u001b[0m\u001b[0mID\u001b[0m\u001b[1;33m,\u001b[0m \u001b[0mvalue\u001b[0m\u001b[1;33m=\u001b[0m\u001b[1;32mNone\u001b[0m\u001b[1;33m)\u001b[0m\u001b[1;33m:\u001b[0m\u001b[1;33m\u001b[0m\u001b[1;33m\u001b[0m\u001b[0m\n",
      "\u001b[1;32m~\\anaconda3\\lib\\site-packages\\selenium\\webdriver\\remote\\webdriver.py\u001b[0m in \u001b[0;36mexecute\u001b[1;34m(self, driver_command, params)\u001b[0m\n\u001b[0;32m    398\u001b[0m         \u001b[0mresponse\u001b[0m \u001b[1;33m=\u001b[0m \u001b[0mself\u001b[0m\u001b[1;33m.\u001b[0m\u001b[0mcommand_executor\u001b[0m\u001b[1;33m.\u001b[0m\u001b[0mexecute\u001b[0m\u001b[1;33m(\u001b[0m\u001b[0mdriver_command\u001b[0m\u001b[1;33m,\u001b[0m \u001b[0mparams\u001b[0m\u001b[1;33m)\u001b[0m\u001b[1;33m\u001b[0m\u001b[1;33m\u001b[0m\u001b[0m\n\u001b[0;32m    399\u001b[0m         \u001b[1;32mif\u001b[0m \u001b[0mresponse\u001b[0m\u001b[1;33m:\u001b[0m\u001b[1;33m\u001b[0m\u001b[1;33m\u001b[0m\u001b[0m\n\u001b[1;32m--> 400\u001b[1;33m             \u001b[0mself\u001b[0m\u001b[1;33m.\u001b[0m\u001b[0merror_handler\u001b[0m\u001b[1;33m.\u001b[0m\u001b[0mcheck_response\u001b[0m\u001b[1;33m(\u001b[0m\u001b[0mresponse\u001b[0m\u001b[1;33m)\u001b[0m\u001b[1;33m\u001b[0m\u001b[1;33m\u001b[0m\u001b[0m\n\u001b[0m\u001b[0;32m    401\u001b[0m             response['value'] = self._unwrap_value(\n\u001b[0;32m    402\u001b[0m                 response.get('value', None))\n",
      "\u001b[1;32m~\\anaconda3\\lib\\site-packages\\selenium\\webdriver\\remote\\errorhandler.py\u001b[0m in \u001b[0;36mcheck_response\u001b[1;34m(self, response)\u001b[0m\n\u001b[0;32m    234\u001b[0m                 \u001b[0malert_text\u001b[0m \u001b[1;33m=\u001b[0m \u001b[0mvalue\u001b[0m\u001b[1;33m[\u001b[0m\u001b[1;34m'alert'\u001b[0m\u001b[1;33m]\u001b[0m\u001b[1;33m.\u001b[0m\u001b[0mget\u001b[0m\u001b[1;33m(\u001b[0m\u001b[1;34m'text'\u001b[0m\u001b[1;33m)\u001b[0m\u001b[1;33m\u001b[0m\u001b[1;33m\u001b[0m\u001b[0m\n\u001b[0;32m    235\u001b[0m             \u001b[1;32mraise\u001b[0m \u001b[0mexception_class\u001b[0m\u001b[1;33m(\u001b[0m\u001b[0mmessage\u001b[0m\u001b[1;33m,\u001b[0m \u001b[0mscreen\u001b[0m\u001b[1;33m,\u001b[0m \u001b[0mstacktrace\u001b[0m\u001b[1;33m,\u001b[0m \u001b[0malert_text\u001b[0m\u001b[1;33m)\u001b[0m\u001b[1;33m\u001b[0m\u001b[1;33m\u001b[0m\u001b[0m\n\u001b[1;32m--> 236\u001b[1;33m         \u001b[1;32mraise\u001b[0m \u001b[0mexception_class\u001b[0m\u001b[1;33m(\u001b[0m\u001b[0mmessage\u001b[0m\u001b[1;33m,\u001b[0m \u001b[0mscreen\u001b[0m\u001b[1;33m,\u001b[0m \u001b[0mstacktrace\u001b[0m\u001b[1;33m)\u001b[0m\u001b[1;33m\u001b[0m\u001b[1;33m\u001b[0m\u001b[0m\n\u001b[0m\u001b[0;32m    237\u001b[0m \u001b[1;33m\u001b[0m\u001b[0m\n\u001b[0;32m    238\u001b[0m     \u001b[1;32mdef\u001b[0m \u001b[0m_value_or_default\u001b[0m\u001b[1;33m(\u001b[0m\u001b[0mself\u001b[0m\u001b[1;33m,\u001b[0m \u001b[0mobj\u001b[0m\u001b[1;33m,\u001b[0m \u001b[0mkey\u001b[0m\u001b[1;33m,\u001b[0m \u001b[0mdefault\u001b[0m\u001b[1;33m)\u001b[0m\u001b[1;33m:\u001b[0m\u001b[1;33m\u001b[0m\u001b[1;33m\u001b[0m\u001b[0m\n",
      "\u001b[1;31mElementNotInteractableException\u001b[0m: Message: element not interactable\n  (Session info: chrome=94.0.4606.61)\nStacktrace:\nBacktrace:\n\tOrdinal0 [0x00F1B9D3+2472403]\n\tOrdinal0 [0x00EB6961+2058593]\n\tOrdinal0 [0x00DC2180+1057152]\n\tOrdinal0 [0x00DED417+1233943]\n\tOrdinal0 [0x00DE3417+1192983]\n\tOrdinal0 [0x00E05593+1332627]\n\tOrdinal0 [0x00DE3236+1192502]\n\tOrdinal0 [0x00E0567A+1332858]\n\tOrdinal0 [0x00E1495F+1395039]\n\tOrdinal0 [0x00E0545B+1332315]\n\tOrdinal0 [0x00DE1FB4+1187764]\n\tOrdinal0 [0x00DE2E09+1191433]\n\tGetHandleVerifier [0x010A3396+1551078]\n\tGetHandleVerifier [0x0114D53A+2247818]\n\tGetHandleVerifier [0x00FA7FBB+521995]\n\tGetHandleVerifier [0x00FA7079+518089]\n\tOrdinal0 [0x00EBBD4D+2080077]\n\tOrdinal0 [0x00EBFC18+2096152]\n\tOrdinal0 [0x00EBFD52+2096466]\n\tOrdinal0 [0x00EC94B1+2135217]\n\tBaseThreadInitThunk [0x769CFA29+25]\n\tRtlGetAppContainerNamedObjectPath [0x77E57A9E+286]\n\tRtlGetAppContainerNamedObjectPath [0x77E57A6E+238]\n"
     ]
    }
   ],
   "source": [
    "new = driver.find_element_by_xpath(\"(//div[@class='item style-scope yt-dropdown-menu'])[2]\")\n",
    "new.click()"
   ]
  },
  {
   "cell_type": "code",
   "execution_count": 32,
   "metadata": {},
   "outputs": [
    {
     "data": {
      "text/plain": [
       "579"
      ]
     },
     "execution_count": 32,
     "metadata": {},
     "output_type": "execute_result"
    }
   ],
   "source": [
    "comments = []\n",
    "for i in driver.find_elements_by_xpath(\"//div[@class='style-scope ytd-expander']\"):\n",
    "    \n",
    "    comments.append(i.text.replace(\"\\n\",\"  \"))\n",
    "len(comments)\n",
    "#yt-simple-endpoint style-scope yt-formatted-string"
   ]
  },
  {
   "cell_type": "code",
   "execution_count": 33,
   "metadata": {},
   "outputs": [
    {
     "name": "stdout",
     "output_type": "stream",
     "text": [
      "['', \"Australia's record 26-match ODI winning streak is over after suffering a dramatic two-wicket loss in Mackay, where India held their nerve in another final-over thriller\", 'Indian women were taking the harder catches and dropping the easiest ones', 'BCCI really needs to fund well on 360° coaching including fielding. This team deserves it equally.', 'Thank you Cricket Australia for uploading theses top class highlights, that too just hours after the match. Much love from India!', 'God damn that was awesome . Except a lot of missed catches.', 'Watched this game all the way through and another fantastic finish, well done to the Indian team. The series has been excellent so far with some incredible performances across both sides.', 'Yastika giving this indian batting lineup the much needed strength', 'Sneh rana playing very well in middle  & Also giving strength to bowling 🔥', 'Before I used to be a fan, now after this masterpiece I’m a whole air conditioner', 'Improve your fielding skill girls, all things apart , awesome performance. 👏', 'Missed this thriller😖..gave goosebumps🤯..what a match!', 'With Yastika, the middle order is strengthened like never before ( hopefully ). And Shifali Verma doing Shifali Verma things. Being the reasonable and adjustable opener that India needs. The adjustment between the young and the veterans is just too good :)', 'Gonna Appreciate Yastika The Way She Played   Her Strike Rate 🔥🔥🔥  And Sneh in Last', 'Best moments of the Match - 1:01 & 7:53  Jhulu Di😍💙', 'I was counting the number of catches dropped in the match, anyway wonderful batting by 🇮🇳', 'What an exciting match! Our team performed well. Just fielding need to be improved', 'Just look at Australian catches,fielding & Indian drop catches,missfieldings. If Indian fielding improves then India can beat Australia easily. Yastika is a star for me', 'Started becoming fan of this women cricket team.. They are simply amazing 💪🏻👏🏻', 'Sneh played imo. Inning in both batting and bowling😍', 'Woah! Those catches by AW were outstanding 😍', \"It's a great match though ind need to focus more on fielding n catching\", 'BCCI should focus on indias fielding, they dropped alot of catches in this series and it costed them the series win', 'What a Contribution by the batting Coach S.S. Das...!!!  Two great batting performances in consecutive matches... Incredible run chase this time...', 'What a thrilling match it was ❤️🔥💯', 'Way to go girls! Kudos! 😃❤️', 'Well done girls, fantastic batting performance, need to work on the fielding and bowling 👍🏼', 'Those catches by Australian women were outstanding', 'Jhulan Goswami still going strong.   What a legend !!', 'Jhulan needed that last boundary very much 🔥', 'To everyone saying that India could have won the series 2-1 with an improvement in fielding, be proud that we are the only team that are able to be beat Australia at the moment.', 'What a show! 🙌🏻', \"So so proud of our woman's team. Never die never give up spirit awsome.\", 'What a match ❤️❤️❤️❤️  Well played girls 💪💪', 'australia fielding at a different level though pleased about the win', 'Well done... Proud of them. Fielding need to improve though.', 'Whole Wing! 💫🔥', \"All things aside we need to improve our fielding. This level of fielding at an international level just doesn't cut it.\", 'Yastika is very classy player 🔥🔥🔥', 'One of the best match❤️', 'Every big Cricket board uploads these match highlights and on the other side, our BCCI never uploads a single clip. Ashamed', 'Indian fielding coach needs round of applause on his back.', 'Impressed with how Yastika smashed the balls!!! Some powerful strokes by her, happy to see such player in our Indian team!!!', 'So proud of you ladies ☺️', 'Omg what an awesome match love it.', 'What a match. Plenty of drop catches. may be 6-7 from both sides. Stunning shots as well.', 'What a epic match 🤩😍🌐🤳📺🎧🤑😎🤓🔥', 'Mind-blowing Chase... Had goose bumps by the finish from Jhulan.. Cheers Team...  You all made us proud... ♥️🎖️🙌', 'This match was an exhibition of drop catches.   Btw congratulations team india🇮🇳', 'Each and every ball..  Le every one - \"\" NHI YRR\"\" AREE YRR\"\" YRR\"\"\"!!😂', 'I m amazed of the performance of both teams .. really  really good ..', \"Australian's fielding 🔥🔥\", 'It would have been a easy win if they caught the catches. Well played both teams', \"Superb victory women's 🔥🔥\", 'What a match 😍 well done girls👏', 'Superb , amazing effort  Many many Congratulations to the Indian team 🥳🥳🥳', 'Wow what a win ❤️', \"It's always the Aussies with these kind of winning streaks be it the men or the women big Respect ❤️\", 'Excellent i mean i do have any words for this victory amazing all womens like unity i like that sprit', 'India won, despite dropping sitters   Yashika silver lining!  Great luck!', 'Goosebumps 🔥 proud of you girls 🖤', 'Much more improvement needed🥰', 'Seems only India can check the Oz juggernaut. Great show girls.', \"Damn!! Some of the catches taken by aussies were top notch..we need to work on them ..batting..we're the best !!\", \"Seems like it is similar to men's tour of aus earlier this year first lost the odi series but then bounced back and won both the test and T20 series 😁😁\", 'What a match !! Super strength from both the sides. So proud of our Indian team. Keep rocking !!', 'Fielding & catching needs to improve a LOT', \"Australian players were brilliant in the field. Indian women's team needs to focus on fielding. Though well played.\", 'they manage to win with that much drop cathes and miss field, GG', 'Tremendous catching & Fielding by aus', '🙏🙏🙏🔥🔥🔥😇 no words to say', 'Never have any highlights made me shred my nails till there was nothing...what a match', 'Difference between AUS w and Ind w is only fielding 🇮🇳❤️', \"Smriti has Saurav's body language and batting style, shot selection\", 'Majority of geopolitical mistakes in history have been related to violent combat. They either occur in the high tension period leading up to the conflict or they occur during the actual conflict with another nation state. This is a story as old as time.', 'Great stroke play from Yastika Bhatia, looks a good one for the future if she builds on this performance', 'Batting Masterclass!!!! What a performance!!! But fielding is a big big issue in the side', 'Jhulan just how much mental strength you have still leaves me astounded.', 'So many catch drops by the Indian side. Anyways well played. Congratulations 🎊', 'Team India girls seems like beginners in fielding 5 drop catches 😂😂', 'Love this chase.', 'Congrats ladies..  ❤️ U all', \"It was Australia's turn this time. 2 back to back drop catches. Caught out on no ball. They made same mistakes India made in last match. This proves the importance of discipline on the field even for the most dominating force.  Congrats India for breaking streak.\", ', , , , \"Yesterday is History\"  \"Tomorrow is mystery\"  \"Today is gift\"  \"That\\'s why is called present\" 5K 👍', 'Wow what a match more thrilling than IPL....Keep going girls....', 'Our strong batting line up.... ❤️❤️🇮🇳🇮🇳', 'Congratulations Indians  and need little bit of fielding improvements👍', \"Indian fielding remind me of Pakistan men's team of the mid 2000s. They will drop literally anything coming their way..\", \"There's room for improvement in  Fielding dept\", 'mashallah Incredible performance', 'Experience always helps to win', '5:56 take a look at the result, we Indians never forget to pay back😉', \"Finally India end Aussie's 27 match winning streak.Congratulations Mithali and her girls in blue.much love from srilanka ❤🔥\", 'In early 2000’s it was men’s team who ended oz winning streak', 'Catch ...catch....catch............catch.!  Although we won but need to improve fielding techniques 🙏🏼❣️', 'India needs to work on their fielding. But man, that was a great match', 'Too many dropped catches and midfields, but at the end of the day results are the only thing that matters. Congratulations team India!', 'Yastika played osm innings,deepti and sneh match winning knock   Congrats women team🇮🇳✌✌✌', 'These highlights were like you have to catch the train within 8 mins and you are 15 mins away from the station🙄', 'What a game, girls! so fluent and clinical! Well founght and well led by Mithali!', 'Both teams dropped catches but maximum by Indian team. Hope we rectify & win more matches. Congrats India for winning the match & Australia for the series.', 'Surprising that India won evem after dropping 6 7 easiest of the catches!', 'They won... but Miss fields and drop catches made it difficult otherwise they would have win easily', 'The fielding fitness is really a concern', 'Goosebumps . What a match wohhhh', 'dravid please coach this team❤', \"Not the first time india ending australia's streak though🤣🤣🔥🔥\", 'Congratulations team india girls...!! i think they should improve in fielding. They dropped a couple of catches today.', \"Waahhh!!!  Jhulan Goswami's celebration was something shared feeling both men's and women's team have against Aussies. Batting talent is outstanding.    Australian teams athleticism was exceptional.\", 'Just one improvement in fielding we can save runs and take catches then we can be good side ...', \"I loved the way sneh Rana batted she played many Innovative shots which I haven't seen much in women's cricket particularly from Indian team\", \"Mithali's Strike rate and Fielding are the only concern for Indian Team. Hope They work on it. They will surely win an icc Event Soon.\", 'So many mistakes by our team but at the end result matters! Great cricket all around!', 'oh my god they dropped 10 catches and take 5-6 wow.', 'Needs best fitness & fielding coach', '1:15 When bad fielding leads to wickets', 'Catches by Australian Women💥💥  Yastika and Sneh Done Their Job Well', 'Great great performance!! But much more improvement in fielding is required.', 'Great match... well done Team India ❤️🎉🎉🎉🎉🎊', 'So proud 👏❤💙 well done', 'the commentary box was so biased and what amazing fielding by the aussies', 'If ending winning streaks is an art, Indian teams are the picasso of it 👌', 'Well played, Team India!!!     The fielding and catching can be made better with a little more effort.', 'Amazing 🔥❤️🔥❤️ love you', 'Goswami an absolute Legend ...', 'That was interesting till the end....😃', 'it was so funny to mis fielding , drop catches , slides lol ;) , well done India', \"With this kind of fielding if they won... That's awsm... Hv never seen worst fielding team\", 'Well played wonderful match', 'Well played girls.. Great show..!!', \"Wow that 360 degree sweeps by Indian Women's team...really impressed 🤎👍\", 'Great win👍❤️ but was a bad day in fielding dapartment 😭they need to improve their fielding   But at the same time indian team have players who are really good in fielding jemimah, Harleen deol,radha Yadav and Harman 🙂🙂but they were not playing the match', \"What an amazing streak! Massive props to Meg Lanning and her girls. Goes to show what happens when you actually put your money where your mouth is and invest in the women's game.\", 'We proud of our Durga s🙏', 'Congratulations team India, well played!!', 'They are superb just need a more endurance and fielding exercises...', 'What a match super thank u for uploading', \"Team India's batting line-up really good, but they need to practice on their filding skills.\", 'Dropping far too many catches, would have easily made difference of 40 runs @Bcci', 'Well played 👏', 'Nice to watching the match sitting in the 5th floor of sarena hotel(kabul)😆', 'So proud of our team 😊 congrats Team India', \"Just watching this after RCB's win against MI....both these victories made my day ❤️🇮🇳\", 'Happy world tourist day to all ❤️', 'Congratulations girls 🤗', 'Fielding standard is too low  They should improve to win world cup   Best of luck champs 🤞🤙', 'Sneh rana...new crush 😍', 'The difference in level of fielding is like day and night!!! but congrats ,india👍❤️', 'Proud of you india.. but have to appreciate Australian fielding 😍😍😍', 'Awesome team work all players...best of luck next matches', 'With due respect \"fitness is to be improved of team india\" if you want to conquer the world cricket. Good Luck for T20 matches. 🇮🇳🇮🇳🇮🇳🇮🇳', 'What a win 😘😘😘', 'Superb performance. A great series full of drama and excitement. 2 good teams and some amazing players 👏👏', \"Awesome performance by Indian women's team.  Very proud\", 'Overall best performance by both women teams. Really impressive tournament. All women players deserve respect.', \"What a great fieldwork by Australian's but the way Indians had batted commendable each n every has its own contribution.. What A Match 🇮🇳👌🏻\", 'Australian Players Feilding Are One of the best Feilding site in all over the world...Even In Women and man Both ,they just outstanding Feilders 👌👌', 'Yastika played a brilliant inning... 🔥🔥🔥🔥🔥🔥🔥', \"Women's cricket appears like we are watching it in SLOW MOTION!\", 'What a thrilling♥♥♥ i love my indian womens team♥♥♥', 'indian team needs to improve ground fielding 5 dropped catches where aussies took 3 superb catches. thats why they are the best.', 'Wow great effort by both teams well done', \"Never thought Mithali's wicket would be a good thing for us. She needs to improve so much more. As does our fielding.    But big congratulations to our girls. Ending a strong team's streak ain't easy and they did it\", 'Good job team india we all indian proud of you 🙏👍❤', 'They need a good coach like Kumble, they would be at top in no time', 'Yastika played very well.. 👌👌', 'Yastika is here to present a glimpse of Nicholas pooran !! ❤️❤️', 'Apart from congratulating Indians I guess we should congratulate Australia also as they won the series / 2 - 1', 'goosebumps', 'India might have won but their fielding needs a lot of improvement \\U0001f972', 'Yastika. What a player.  Verma- mandana & yastika . 👍', 'Really great proud moment for an Indian team', 'India need to improve a lot more in fielding. Dropping a sitter with gloves and few more in the same match is unacceptable in international cricket.', \"Yastika's pull short were just outstanding.\", 'INDIA NEEDS TO IMPROVE IN FIELDING AND ATHLETICALLY', \"The smaller boundary line feels suffocating apart from that it's great\", 'OmG the fielding standard is very low.  It look like they are playing gully cricket. Astralian fielding is up to mark.  Hope to see improvement in next game', 'Sneh pulling off an ABD cameo ❤️', 'Well played, but definitely need improvement in Indian fielding.    Too many dropped catches', 'Australian fielding was the main difference between the two teams...', 'Proud of you jhulan di❤️❤️', 'Congrates both teams..both played well', 'Fielding needs some improvement. Dropped few valuable catches. Great fightback girls.', 'Droping 10 catches and still winning the game its unbelievable', 'Jhulan takes the revenge of previous match. What a way to reply 🔥🔥', 'Congratulation for your great victory', \"Proud of my sister's ❤️🇮🇳❤️\", 'Love how former players are involved in commentary...😀😀', 'Yastika batting style looks like yuvraj 🙂💪', 'As they said never underestimate indians 😂😂', 'Ind should have won this series 😞. Ind should improve their fielding really very poor fielding', 'Yastika too good....powerful strocks..lady yuvraj', 'This should go trending!!! 🔥', 'The fielding standards of australian women way too high....👍👍  Well played India❤️❤️🇮🇳', 'Excellent win girls..💙💙💙💙.   the streak is broken.', 'our team just knows how to bat and bowl, our fielding was just not well ( they were dropping catches that even my younger sister can easily catch) and the australian side on the other hand was just exceptionally well.', 'Amazing performance by Indian team', 'Proud of you team India 🇮🇳🇮🇳', 'What a game played by IND WOMENS team Congrats 👍 team WINDIA 🎉🎉🎉🎉', 'India need to work on their fielding and fast bowling department', 'Remember this India breaks the Australians  27th consecutive win.', \"Greatest Women's Odi Ever Till Now 🔥🔥🔥\", \"Oz women's fielding looks outstanding! Indian women's teams needs a good coach. ( I mean Ramesh Powar seriously?!)Dravid, Dhoni or Shastri could help as mentors.\", 'The aunties have won, finally!!!!', 'Team India : Drops catches and misfields   Meanwhile Pakistan : First Time..!🙂', 'Match for the ages.', 'Catches dropped in dozenss 😀.  .still managed to win. .. team india great .. but need to work hard in fielding department', 'They deserve both Vin.... Really well played 👏', 'Inshallah boys played well.🤚', 'Smriti best shots 23 runs!', \"We missed the series just by a whisker 🙂 Well Done Indian Women's Cricket Team...\", 'Our fielding is absolutely horrible! But so proud of these girls❤️', 'Well done girls u show that u can do it congratulations for break the win streak ❤️❤️❤️❤️', 'Australia: THE UNDERTAKER 😍    INDIA: Brock Lesnar😎', 'That brought tears. Regardless of the gender cricket is cricket and we take take pride.', '😍😍', 'So we Break that 26 straight winning streak 😅🇮🇳🙏🏼', 'What a match it has been❤️.....proud of you girls , and thanks to this channel for best highlights 🙏', 'Great job champs..', \"It's strange seeing Shafali bats this slow\", 'Fantastic Chase!', 'Well played 🇮🇳❤', 'INDIA womens what a match😀❤️\\u200d🔥', 'wow yastika...I think we got a gem of classy player in the middle order.', 'Poor umpiring played an important role, when india lost the 2nd odi', 'Mate we want post winning celebrations too.. a few more seconds aussies., Wanted to see our girls celebrating', 'Excellent match ...', 'Superb performance and a perfect match for Sunday 🤩', 'India breaking Aussies winning streak is just so vintage, and we seriously need to improve our fielding m', \"What a match  What a play by both teams  Greater thrilling than men's cricket  😍\", 'Well played girls 👧👏', 'Great play Indian queens 👸', 'Electrifying performance from Indian team 👏🎉👏 , thrilling win 😀', 'Wow... congratulations 🎉', 'Catch and Fielding Practice Required', 'Australia 🇦🇺ఫీలింగ్  salute 🙌', 'Well done 👍', '\"Tuta he 27  winning strict ka ghamand \"  Well done indian women   Proud of our team 😎💪🇮🇳🇮🇳', 'Hire Kaif as a firlding coach!!', 'Wow..The fearless batting.. love it', 'Wow what a great match.....', 'I like this channel bcoz it is equal for all.', 'whatta performance by yastika🔥', '❤️❤️❤️👍', 'Wow😍😍😍', \"What a match 😍😍😍❤❤❤ congratulations both Australia & Indian women's for give us such a entertaining match 😃😃😃😇😇😇🤗🤗🤗❤😢❤\", 'Is it a match ?? Or CATCH DROPPING FEST.😂', 'How india played nearly 10 catches dropped 🤔🤔🤔 and aus taken stunning catches', 'Australian Fielding was outstanding', 'India needs to work on their fielding otherwise it may cost them dearly. Batting and bowling were outstanding 👏👌.', 'Congrats Mithali n teams', 'Love the aggression', 'good stuff from india.... should hold on to more catches. love from SL', 'Happy For Women In Blue ! 😌🙌🏻😉', 'What a wonderful catch Shefali Verma has caught, a like is made?', 'Congratulations to all', 'left more than caught.  But takes harder.', 'So many dropped catches is not acceptable at this level 🤣🤣🤣', 'proud of India ♥️', \"If sneh rana wouldn't smash those three boundaries it will be difficult to win\", 'Goswami and Pollard🔥😂👍🏻', 'We really need to improve our fielding.Last match also we lost because of poor fielding', 'Cmon girls  if we match the fielding we will be dominate like the Aussies we have got the batting and the bowling..  Also BCCI could pls start the WIPL..', 'Good batting, outstanding bowling and a truly superb win! However, the one thing that truly requires to be worked upon is fielding. Once that improves, these women will be unstoppable.', 'Worst fielding still won 👍🔥🎉', 'Shefali Verma really needs to improve her fielding......lots of drop catches , lots of misfields.....That is not acceptable at international level, always hurts the team morale', 'Awsm❤️', 'Well played India, proud of you girls and kudos to Australia for the series win...great series 🔥', '4:34 proves why Australia are always on top..', 'Fielding needs to seriously improve..', 'Change immediately  fielding coach', 'Waw ❤️', 'This win made me remember the match when viru score hundred in srilanka against new zealand while chasing around the same target!! We got many talents at that time in mens cricket.. now things turning for women cricket hopefully many talents will be seen soon!!', 'Charge Shld be taken on fielding coach.. We dint see dropping catches more than this.. It seems like gully match.', 'Indian women cricket team is probably equal to district level men team🤣😂', 'Yastika played like a champion', 'Gosh Indian fielding has been super poor to say the least, they easily give 50-100 extra runs every match.', 'Mrs Alice Foster is legit and her method works like magic I keep on earning every single week with her new strategy', \"It's time that our Indian cricket team focus a lot towards feeling.   Australia was excellent in this regard.\", 'Very poor fielding and so many dolly catches dropped by Indian players. :(    We got lucky with that no ball else result would have been different. :|', \"Don't underestimate India ❤️\", 'I laughed a lot while indoa fielding..', 'The difference in fielding standards between two teams reminds me of early 90s', 'Indian batters line up always collapses after getting a good start. They have already thrown away many big matches due to the incapability in holding nerves, else we have got a very good side.', 'After a long time 🙏🙏', 'Great match', 'Fielding and bowling fitness improve  requires team India', 'Jhulan at 40 bowling at this speed my god even men cant', 'Batting is good  Balling is good  Team India plz improve Fielding 🙃', 'This reminded me of the old Pakistan team. Dreadful fielding but still able to win the match because of good wicket taking bowling and strong batting.', 'Fantastic       😎    amezing       😳  Outstanding  😀  Jai Hind 🇮🇳🇮🇳🇮🇳', 'Great effort 🙏🙏🙏INDIAN TEAM', 'Congratulations to Team India for wonderful win. But we need to improve in fielding. Our fielding has been a great let down in this series. Nonetheless a series well fought', 'I am here only to see the celebration of the Indian team after the previous match.🙃But it is missing at the end.    Excellent comeback ', \"Yastika looks a player ,doesn't she? Meanwhile Shefali needs to improve her fielding\", 'Congratulations 👏 🥳🇮🇳, but fielding is very poor', \"Pathetic fielding unit reminds me 80-90's India...  Much to improve\", 'AUSIES WIN BY A NO BALL AND THIS TIME IT FAVOURED IN INDIANS WAY :) WELL PLAYED BOTH TEAMS', 'Jhulan di... Tumi best ❤️❤️❤️', 'Actually we had wonnthe last match too it was just touch and go so over all a very competitive series ....well done Indian Women team', 'After watching this I can tell kamran akmal is the perfect person to play for India women.', 'Yasthika gives more confidence to chase', 'Austraila has made one big mistake.... They taken mithali wicket... It is advantage Indian team🇮🇳🇮🇳😍😍😍', 'Maja aa gaya   what a match', 'CONGRATS IRON LADIES OF INDIA', 'Well Done both teams.', 'The fielding by Indian side was really poor, I think I know the answer to why Australian team dominates', 'Oh my those catch drop...oops catches dropped. Thank you Aussie for a consolation win.', 'Only difference between these two teams is catches.', 'Catching and fielding.. have to improve lot', 'Fielding needs to be improved', 'Yastika and Sneh, two superstars in the making. But India has a long way to go in fielding and we need to invest in that area.', \"Congrats India . Well played Australia as well.. Perhaps it was too much to do for them after Yastika's and Shafali's partnership. Their streak is over thanks to India's superb cricket but that doesn't mean Australia aren't the best side in the world. Looking forward to the Test on Thursday.\", 'mass♥️', \"Good that we won but we need to be more fit coz fielding didn't look that great.\", 'I am impressed to see how there are 95% Indian viewers on Australian channel when it was IND vs AUS', 'Fielding is only difference !!', 'Decided to watch the second last match of the series and the level of fielding and catching gave me headache. So, I promised myself to never watch a full one day match of Indian womens team.', 'Nice fielding 🤣🤣🤣🤣🤣🤣🤣', 'Brilliant 🖖', 'Real indian tigers ❤️', '❤️🇮🇳', 'the india and Aussies matches are always tight, really fun to watch', 'Fund for fielding coach hired better then Ramesh pawar change coach for this also most important thing to build strong team we see lack of misunderstanding between Indian player in field first building mutual understanding then you played well otherwise you look like lower class team', 'What a fielding🤣', 'Include Jamimah Rodrigues and Harmanpreet kaur in middle order, it will strenthen the batting line up of India', '🔥🔥🔥', 'That girl with short hair really needs to work hard on her fielding and catches! The batting line up of Indian team saved the match and broke the Australian winning streak record! ❤️', '👏👏', 'Did they want to create record for maximum drop catches in a match?? 🙄🙄😅😅', 'If we can win with this kind of average fielding then guess our strength with improved fielding. May be it was a bad day in fielding however it can be improved. I am really happy for our team.. Real team effort..', '👏👏👏👏', 'imagine grunting that loud and only bowling 60 mph', 'Deepti - Yuvi  Sneh - Abd 😁', 'Outstanding fight in batting but bad fielding cost india 20-25 runs extra.', 'Wowww what a great day  What a great match women team India 🇮🇳  Contract negotiation 👍', 'Woo fantastic match   Well done team india congratulations', 'Dil khush ho gaya', 'Woow awesome match', 'Our batters certainly are very superior in technique the bowlers almost took 15 wickets ..need to work very very hard on fielding ... We gotta appreciate those catches taken by the Australian and also take inspiration from them', 'Our girls need to improve in fielding, australia could hardly make 220 if all catches were taken.', 'Fielding and catching are same as ramesh powar', 'Fielding wise there is a lot to improve, looks  they are too lazy to stop boundaries and no effort/skill in catching. Improving fielding will increase winning chances.', \"These continuous dropping of catches make me hate women cricket. Don't know why.\", 'Poor Fielding by Indian Team 🙄 ! They need to improve a lot 👍', 'Wow..... 😍', 'So proud of our girls. They had come so close of winning the second ODI and sealing the series. Nevertheless, they have shown great commitment and character. I hope they take forward this confidence in the upcoming Day and Night Test. 😊😊', 'Very nice', 'Deepti Sharma. Saifali verma nd specialy smriti is my favourite 🤗🤗 jay hind 🇮🇳🇮🇳🙏', '😍😍🤩🤩 great win by team india 💥💥', 'They deserve to win the previous match also', '💪👊🙏', '\"\"Let\\'s pray for the those children who doesn\\'t have their parents they are real legend\"\"\"\"❤️❤️❤️🙏🙏🙏jjj', 'Brave these indian  ladies  are ❤️', 'jemmimah presence will make india more stronger', 'Australia is a hermit continent now, they’re becoming irrelevant to the world, nobody agrees with their tyranny', 'Not trying to bash anyone, but the fielding was way below international level', 'Oh well, we can’t win them all. 26 win streak is still pretty good. Congrats India, that was hella of odi match. Both teams played well', 'Great run chase from India to break our winning streak.  Congratulations and full credit from Australia.', 'India Cricket usually ends the Australia streaks 😅', 'Our girls needs some words from  yuvaraj , Suresh Raina.....', '🎉💝', 'Two thrillers today  India vs Australia_INDIA win🇮🇳🇮🇳  IPL_CSK vs KKR_CSK win 💛💛  Both my favorite teams win 💯💯', 'Sheniyaaaa 🔥🐅', 'Worst fielding and yet won the match 😂', 'Yashtika  and sneh Rana have the mentality of playing innovative shorts which is the need of limited overs cricket.', 'What a thrilling match kasam lajavab', 'India needs to improve the fielding and catching. Its time to kick mithali raaj out and bring some young talent, there are so many.', \"Good team work but have to improve our Indian woman's team in running, catching the ball and the Fielding. All the best for future matches.\", 'Team India needs to work on fielding. They failed to get easy catches, to stop boundaries. This is not a winning team for a long run', 'First the men’s test, ODI, t20 then the IPL and now similarly for women god how much cricket can we watch', '👏👏👏👏👏  - Daniel Alexander', \"India's fielding standards are very very very low😭😭😭😭\", 'Yastika wonderful batting she gave strong batting lineup', 'One day i will play for my nation.... Duplicate virat kohli.. 👁👁', 'Mojj aa gyi hyee chalo ajj din me kuch to acha mila dekhne ko.  Love you our team India 🇮🇳🇮🇳🙏', 'Catch chhodhne me to master h master 🤣🤣🤣😂😂😂😂', 'Well played girls', 'Only work need on fielding.👍🏼👍🏼👍🏼', 'Big question why mithali is still part of squad. Slowest player of the world no foot work no quick reflection', 'Indian player need to improve fielding and catching', 'Fielding needs to be improved 👍👍👍    Worst fielding ever in international cricket, if u want equal respect as men then u need to work equally as hard as men 👍', 'More entertaining than any IPL match. However, our fielding was very off.', 'Alarming no. of catches dropped and misfields from the indian team...  Gr8 chase though.. yastika looks good!!', 'Indian team needs to work on fielding', '👏👏👏👏👏🇮🇳', 'One thing is for sure, our girls (most) need to improve their fitness to Move more swiftly and obviously catching practice.', 'Need more catching practice', 'S.verma play really well', 'Athleticism of the England tour has disappeared in Australia. Absolutely no excuses for dropping catches or not stopping boundaries near the rope or diving over balls. I thought they had a dedicated fielding coach & trainer. Had they fielded well & taken most of their coaches Indian women would have won the series.', \"Such a wonderful thing to watch Women's cricket. Idk why but when these batsman hit a ball I feel like catching that ball in my sleeping in my bed😂\", 'FACT : Yesterday indian Woman and thala 🔥🔥 CSK 🔥🔥 Both Won by ✌ Wickets 🎉🎉 Congratulations to both Teams Played Well', '🔥🔥🔥🔥🔥', 'Love Australian team', \"Toota hai Australia ki Win Streak kaa Ghamand❤️ Jeet Gayi Hamaari Women's Team❤️\", '\"\"\"When life gives 100 reasons to cry show  life gives 1000 reasons to smile\"\"\"❤\"😃\"\"\"', '❤️', '❤️', 'Yastika ❤️', 'Now aus can play freely without thinking about streak.', '❤️❤️❤️', 'Proud to u Indian girls power 🍺💪', 'The only thing we need to improve is fielding....hope girls will do better next time 🔥  Yastika was superb 🔥🔥  Sneh Rana too last time we saw against England in tests and now 30(26) 👍', 'So we can all admit, the series score is actually 2-1 India.   That no ball the other night was a rubbish, biased call!   Well done India!', 'Great effort by Indian team. Clean bowleds are simple wickets.', 'Mithali pls retire gracefully!!!!', 'ramesh pawar the legendary fielder,👆', \"The men high school player are equal to Indian women's team.\", 'Indian Women fielding - 2:15 , 3:08    Australian Women fielding - 4:32 , 6:21 , 7:48', 'More catching and fielding practice required by girls. Otherwise well done!!!', 'India need to work on theirs fielding and catching I mean just look at australian fielding and catching.', 'Team india.. ♥🔥💥', 'Yastika batting so good.', 'Well done....', 'Awesome India🥰🥰', '🔥🔥🔥🔥🔥', 'India girl team dropped cathchs =my whole carrier drops 😂🥱', 'Mithali should retire now from ODI, consuming so much Deliveries.', 'First ever batter to hit a double century in limited overs Odi cricket Dec 1997 Belinda Clark in Mumbai, also the first team to score 400 plus in an Odi, same match and now the most consecutive wins in limited overs cricket 26 consecutive matches.  All 3 times Australia and Aussie woman. Take a bow 👍', 'Fielding m improvement chaiye thoda 👌', '💙', 'What a shameful fielding at this international level...', 'Commentary 😍', 'australian fielders should apply for fielding coach position in Pakitani men cricket team', 'Excellent stuff', \"This game felt like 2000s Australia Vs India men's team\", 'Such poor fielding lost count of dropped catches', \"Bravo Team!!  Indian women cricket need to focus a lot on their fielding department.  Need to learn from Australia women team.  I'm mesmerized by fielding skill displayed by Australia\", 'Congratulations', \"0:55 1:55 2:32😅😂😂  Watching women's cricket be like watching gully Cricket...noobde sale 😂😂😂 ...first time watching and probably lastone also...😂😂\", 'A lot of improvement in eequired in fielding  But well played both the teams.', 'Fielding is pathetic. Shifali verma ko practice krayo field main Yar 😂😂😂', 'Please india you only focus on fielding and catch. Really work on these .well played india battles are dominant on australia  .only difference fielding and catch', 'Very well played team india,need some improvements in fielding  Well done  We r ready for d/n test', 'if Indian fielding macthes the Aussies then they will never comes close in the game', 'australian fielding is top class. india needs to up theirs', '❤️🇮🇳❤️', 'When Aussies on streaks ; its India who breaks it...', 'Well played   So proud of u jai hind', 'Yastika New Batting Sensation for Indian Women Team.. Her Striking Was Really Good..🏏🏏🏏🇮🇳🇮🇳❤', 'fielding really needs to improve..', 'Yastika played like washington sundar', 'Wowwwwwww', 'A strong Indian team and could win 3-0 against mighty Ausie but drastically need some catching practice, fielding is an area that needs improvement. Well done and congratulations.', \"Anybody getting Micheal Hussey vibes in Yastika's batting?\", 'Yastika & Sneha has really strengthen the Indian batting line up', 'I literally thought it was Prithwi shaw on thumnnail!!🖐🏻️😃', \"Cheers to Indian Women's Team... 🇮🇳 👍🏻 But They Have to really work on their fielding. So much Work.\", 'We won the match and it is ok   But we cannot go through with this kind of fielding india seriously needs to improve fielding standards', 'Only... Few countries can break Aussies streak.   Diamonds cut diamonds,goes the saying.', 'Where is the boundary line....   In the centre of the ground?', '❤️❤️❤️❤️', 'Great wins', 'Jitne catch drop kiya isse Tu Aus liya team do bar all out ho jata🤣🤣🤣😆😅', 'What a short4⃣ jhulan 😊😍', 'Shorter boundaries, wonder why? 🙂 Never mind.', 'Grt job girls we proud off u', 'Lucky escape for Indians with poor fielding,  four drop catches and many missed boundaries..', 'Sneh rana is a good allrounder!', 'Australia lost the game when they got mithali raj who was playing sincerely for them out . Gosh she is really MSD playing toktok when rr is over 6 an over.indian team pls get rid if her', 'What A Match', 'Sneh Rana was great in England , now in Australia', 'Really  amazing victory of India', 'Great indian cricket team congratulations', 'Yashtika 🔥🔥', 'Most brilliant performy of India in this tournament, jemimah not play she is also brilliant batter but yastika , richa, and sneh is good finisher good to see experienced goswami', 'Jhulan didi 😍😍', \"The fitness levels of Indian women's team are really poor. Probably gave away an extra 10-15 runs in the outfield besides dropping a host of catches, albeit some of which were difficult.\", \"But the real is shafali play different game with mature and responsible ,that's I like,she is our lady Virender Sehwag, love you great indian women cricket team.\", 'Best wishes iron girls  . And proud about you👍👍🙏🙏🎁🎁', 'Started with india ends with india but a marvellous Winning streak well done aus women', 'Hum series bhi jeet jaate agar woh 2nd match ke last over mai 2 no-balls nhi hote toh☹️☹️☹️👍', 'This is the best match played between India and Australia', 'I love these girls...... Proud of india', 'I thought mens cricket is most thrilling......but they proved me wrong😮  what a match🔥🔥', 'Incredible batting ever👍👍👍👌👌', 'What a match👏', 'India deserved this series!!', 'How many time you will say Over The Top?  Commentator- Yes', 'series was ours if not for that no ball being given well played girls onto  the day night test', 'What Indian fielding coach doing with the team ?', 'Always record brokers', 'Yeeee so funny', ':D how many catches they missed not even equal to roadside matches , worst', 'Super 👌👌', 'Still they need to focus in fielding and batting ,,,but it was a good chase congts', 'INDIAN WOMEN cricket team should try to improve their fielding and catching because catches win matches   CONGRATULATIONS WOMEN CRICKET TEAM INDIA keep it up well done', '💥💥', 'Yes! Yes! Yes! 😇', 'A remarkable win by India considering their poor fielding display. And lots of wailing from the spectators too...', '👍👍👍👍👍👍👍', 'The STREAK has ended !!!!!!!!!', 'Awesome', 'Fielding must be improve....indian team losing in this department', 'Congratulations super womenes', 'Well done', 'Well done', 'there is the huge huge diffrence in fielding between both the sides .........', 'England cricket should learn how to make highlights from Cricket Australia', 'Interesting match', 'So many dropped catches & misfield from Indian players!!', 'Fearless sneh..🙏🙏🇮🇳🇮🇳', 'i dont know why but this had a gabba feeling to it', 'In every department india is good, but fielding it seems like 2 diffrent league are playing', 'soo many catch dropped', '🔥', 'Kisi single player ki fitness nahi hai india team main koi catch nhi pakad paa reha .... Bhagwaan bharose jeet rehee', 'yastika great work', 'A little bit less biryani will go a long way in improving the Indian fielding.', 'India need to improve fielding if they can then they able to restrict any team under 250', 'Jhulan finishes off🎉', 'Ooh aah of commentrators when theres misfield from Aussies 😁😀', 'Jhulan mam😍', 'Most of the catches are missed by Indian team …wasted', 'First time I see a keeper misses a catch in an international match', 'India ❤️', 'IWC ( fitness is necessary)', '2nd odi also just miss our team mistakes series kuda gelichedhi', 'It’s the right time for Mithali to step down ..', 'Haha...Nice catching😂😂', 'The fielding display by Indian team is embarrassing 😅', 'Catches win matches rule does not apply here 😊', 'Brave heart Indian ladies', 'Fielding me improvement chahiye ...', '🇮🇳🇮🇳❤️❤️🇮🇳🇮🇳', 'Please give me the current result of this series', 'India❤️', 'Fielding is very big concern for our team', 'I respect each team , and also doesnot oppose the women playing cricket     But in reality, Mens cricket matches are exciting and interesting to watch as of now .  Hope women cricket match may reach to that standard in future 😁', 'India ❤️', 'Sluggish fielding', 'Why jemima Rodriguez not playing ? 🤷🏻\\u200d♂️😣', \"A big congrats to our women's cricket team but they really need to improve their fielding if they want to win the world cup\", \"Its team india, always break Australia's winning streak. Be it world champion mens test side or undefeated womens ODI. The new super power in cricket..\", 'Start womens ipl as well. India should also start making 50:50 ratio rules for men and women. Gender equality is important for economic and social development. Goodluck to team india', \"I know it's hard to believe this but even the Indian men fielding started this way. The Aussies, English & the Carribeans used to badly mock at them for that. Back in those days in the Indian subcontinent, only pak as a team used to do some top notch fielding. We haven't invested more in these gals like the Aussies have, their pay package is nothing when compared to the men & there were times when they aren't even paid. Eventually they will get there both physique wise & the fielding too. But they're properly cruising through the learning curve.\", 'Bhale hi ye match india jeeta ho .lekin jab tak middle order ke batsman sahi se nahi khelenge tab tak indai series harta rahega👍', '❤Indian woman cricket team is growing but I think They need to improve their fielding', 'Sneh Rana well played 👍', 'Lets go india🇮🇳❤️', 'Indian girls hitting like never before in Australia.👌  Pleased to see this aggression😊.', 'Excellent', 'Ab Womens Of India Apna Record Banayegi👊👊', 'TEST BEST.. all the best for tommorrow', \"If BCCI appoint best coaches like rahul dravid from state level and select players basis on talent not money indian womens team will be no 1 as india mens team...Australia will not be always no 1 because mens team was destroyed today they are in 5 position...so any thing can happen ...Australia don't under estimate others\", 'Commentors seems like one side commentary ;)', 'Awsmmmm', 'why they not show the celebration 🥳🎉', 'Nicola Carey gives me Abella Danger vibes 😆😆😆😆😆', 'We’re commentators for Australia ???', 'Yesterday villian to today heroine  Guess who?', 'Awesome', 'YASTIKA U R SUPERB', '🔥🔥🔥🔥', \"Both the teams played well. It's good advertising for women cricket.\", 'Congrats india.but appalause goes to Aussie fielding, unbelievable catches', 'Well played', 'Well played', 'Come on yaar, to much catchs drop', 'I thought it was prithwi Shaw in the thumbnail 😂', 'Badhai mam', 'For me sneh rana is the player of the match', 'भारतीय महिलाओ को जीत की बधाई ।  लेकिन क्षेत्ररक्षण में सुधार की जरूरत है।', 'Mithali has done, should retire. Give the chance some young talented players like Jemima,priya', 'How many of you know 2nd last match win by Australia women  with umpire effort', 'Yastika what a batting you will made a great impact in india cricket', 'Amazing girls u just rocked and destroyed Australia it was a collective and great win maza aa gaya..', '1.1K dislike.. common australia.. Give some credit to winning team--:)', 'India🇮🇳 🙌💖', 'Indian fielding standards are need to be improved', \"Indian (be it men or women) team, fielding has always been a problem on big stage. Batting will never be a question. If India had invested in fielding 20 years ago we would have won many trophies and probably couple of more WC's. Poor fielding and dropped catches shows poor team management and focus.\", 'kaur should replace mithali raj.', 'Outstanding catches by Australian players', 'indian fielding is disaster, if our fielding was atleast on good level aussie can bundle out in 200.... nevertheless we won so very happy for team', 'Superb', 'Dropped catches🧐', 'india team needs a fielding coach', 'Proud to see our girls shining. A VERY INTENSE. \"AUSSIES\" YOU GIRLS ALSO DID GREAT WITHOUT YOU THIS AND EVERYTHING WAS NOT POSSIBLE. You all fought like a Lion. Proud to be INDIAN. Nothing but RESPECT.', 'What a finesd the game.. I proud him India woman cricket team 😘😘😘😘😘😘😘😘😘😘😘😘']\n"
     ]
    }
   ],
   "source": [
    "print(comments)"
   ]
  },
  {
   "cell_type": "code",
   "execution_count": 26,
   "metadata": {},
   "outputs": [
    {
     "data": {
      "text/plain": [
       "560"
      ]
     },
     "execution_count": 26,
     "metadata": {},
     "output_type": "execute_result"
    }
   ],
   "source": [
    "comments_upvote = []\n",
    "likes = driver.find_elements_by_xpath(\"//span[@class='style-scope ytd-comment-action-buttons-renderer']\")\n",
    "for i in likes:\n",
    "    \n",
    "    comments_upvote.append(i.text)\n",
    "    \n",
    "len(comments_upvote)"
   ]
  },
  {
   "cell_type": "code",
   "execution_count": 14,
   "metadata": {},
   "outputs": [],
   "source": [
    "#comments_upvote.clear()"
   ]
  },
  {
   "cell_type": "code",
   "execution_count": 27,
   "metadata": {},
   "outputs": [
    {
     "name": "stdout",
     "output_type": "stream",
     "text": [
      "['', '792', '', '456', '', '328', '', '82', '', '30', '', '1.5K', '', '13', '', '3', '', '16', '', '5', '', '36', '', '4', '', '32', '', '4', '', '2', '', '536', '', '3', '', '5', '', '11', '', '3', '', '622', '', '1', '', '', '', '2', '', '1', '', '802', '', '1', '', '1', '', '83', '', '', '', '299', '', '', '', '', '', '', '', '', '', '830', '', '2', '', '', '', '1', '', '6', '', '374', '', '', '', '1', '', '', '', '1', '', '90', '', '1', '', '2', '', '', '', '', '', '458', '', '', '', '', '', '', '', '', '', '33', '', '', '', '', '', '4', '', '', '', '780', '', '', '', '', '', '', '', '1', '', '67', '', '', '', '', '', '', '', '', '', '68', '', '', '', '33', '', '', '', '', '', '287', '', '', '', '1', '', '', '', '', '', '110', '', '', '', '', '', '', '', '', '', '237', '', '', '', '', '', '1', '', '', '', '193', '', '', '', '', '', '', '', '1', '', '24', '', '', '', '4', '', '1', '', '', '', '22', '', '', '', '', '', '', '', '1', '', '32', '', '5', '', '', '', '', '', '1', '', '47', '', '', '', '1', '', '', '', '', '', '20', '', '', '', '', '', '', '', '', '', '112', '', '1', '', '', '', '1', '', '', '', '139', '', '', '', '', '', '', '', '', '', '8', '', '', '', '', '', '', '', '', '', '10', '', '', '', '', '', '', '', '', '', '19', '', '', '', '', '', '1', '', '1', '', '34', '', '', '', '', '', '', '', '1', '', '18', '', '', '', '', '', '', '', '', '', '16', '', '1', '', '', '', '', '', '', '', '84', '', '', '', '1', '', '', '', '', '', '51', '', '', '', '', '', '', '', '', '', '23', '', '', '', '', '', '1', '', '', '', '34', '', '', '', '', '', '', '', '', '', '6', '', '', '', '', '', '', '', '', '', '5', '', '', '', '', '', '', '', '1', '', '9', '', '', '', '', '', '', '', '1', '', '51', '', '', '', '', '', '1', '', '', '', '47', '', '', '', '', '', '', '', '', '', '3', '', '', '', '', '', '', '', '', '', '5', '', '', '', '', '', '', '', '', '', '3', '', '', '', '', '', '', '', '', '', '8', '', '', '', '', '', '', '', '', '', '3', '', '', '', '', '', '', '', '', '', '17', '', '', '', '', '', '', '', '1', '', '7', '', '', '', '', '', '', '', '', '', '3', '', '', '', '', '', '', '', '', '', '5', '', '', '', '', '', '1', '', '', '', '3', '', '1', '', '', '', '', '', '', '', '23', '', '', '', '', '', '1', '', '', '', '50', '', '3', '', '', '', '', '', '', '', '3', '', '', '', '', '', '1', '', '', '', '5', '', '', '', '1', '', '', '', '1', '', '29', '', '', '', '', '', '', '', '']\n"
     ]
    }
   ],
   "source": [
    "print(comments_upvote)"
   ]
  },
  {
   "cell_type": "code",
   "execution_count": 28,
   "metadata": {},
   "outputs": [
    {
     "data": {
      "text/plain": [
       "620"
      ]
     },
     "execution_count": 28,
     "metadata": {},
     "output_type": "execute_result"
    }
   ],
   "source": [
    "Time = []\n",
    "date = driver.find_elements_by_xpath(\"//a[@class='yt-simple-endpoint style-scope yt-formatted-string']\")\n",
    "for i in date:\n",
    "    try:\n",
    "        Time.append(i.text)\n",
    "    except:\n",
    "        Time.apped(\"--\")\n",
    "len(Time)"
   ]
  },
  {
   "cell_type": "code",
   "execution_count": 29,
   "metadata": {},
   "outputs": [
    {
     "name": "stdout",
     "output_type": "stream",
     "text": [
      "['', '', '', '', '', '', '', '', '', '', '', '', '', '', '', '', '', '', '', '', '', '', '', '', '', '', '', '', '', '', '', '', '', '', '', '', '', '', '', '', '', '', '', '', '', '', '', '', '', '', '', '', '', '', 'cricket.com.au', '1 day ago', '', '2 days ago', '', '2 days ago', '', '2 days ago', '', '1 day ago', '', '2 days ago', '', '2 days ago', '', '6 hours ago', '', '2 days ago', '', '2 days ago', '', '2 days ago', '', '5 hours ago (edited)', '', '2 days ago (edited)', '1:01', '7:53', '', '1 day ago (edited)', '', '1 day ago', '', '2 days ago', '', '2 days ago', '', '1 day ago', '', '1 day ago', '', '1 day ago', '', '2 days ago', '', '1 day ago', '', '2 hours ago', '', '1 day ago', '', '2 days ago', '', '2 days ago', '', '10 hours ago', '', '1 day ago', '', '2 days ago (edited)', '', '14 hours ago', '', '2 days ago', '', '13 hours ago', '', '53 minutes ago', '', '12 hours ago', '', '1 day ago', '', '2 days ago', '', '1 day ago', '', '1 day ago (edited)', '', '25 minutes ago', '', '1 day ago', '', '2 days ago', '', '4 hours ago', '', '2 days ago', '', '22 hours ago', '', '1 hour ago', '', '2 days ago (edited)', '', '5 hours ago', '', '23 hours ago', '', '2 days ago', '', '4 hours ago', '', '2 days ago', '', '1 day ago', '', '2 days ago', '', '1 day ago', '', '2 days ago', '', '2 days ago', '', '1 day ago', '', '2 days ago (edited)', '', '2 days ago', '', '17 hours ago', '', '2 days ago', '', '1 day ago', '', '2 days ago', '', '2 days ago', '', '1 day ago', '', '2 days ago', '', '6 hours ago', '', '3 hours ago', '', '1 day ago', '', '1 day ago', '', '2 days ago', '', '1 day ago', '', '2 days ago', '', '2 days ago', '', '2 days ago', '', '2 days ago', '', '1 day ago', '', '1 day ago', '', '5 hours ago', '', '1 day ago', '', '2 days ago', '', '23 hours ago', '', '1 day ago', '', '2 days ago', '', '4 hours ago', '', '2 days ago', '', '1 day ago', '', '2 days ago', '', '38 minutes ago', '', '18 hours ago', '5:56', '', '2 days ago', '', '2 days ago', '', '2 days ago', '', '1 day ago', '', '2 days ago', '', '2 days ago', '', '2 days ago', '', '1 day ago', '', '1 day ago', '', '5 hours ago', '', '2 days ago (edited)', '', '2 days ago', '', '2 days ago', '', '26 minutes ago', '', '2 days ago', '', '2 days ago', '', '2 days ago', '', '2 days ago', '', '2 days ago', '', '1 day ago (edited)', '', '2 days ago', '', '2 days ago', '', '47 minutes ago', '', '2 days ago', '1:15', '', '2 days ago (edited)', '', '2 days ago', '', '2 days ago', '', '2 days ago', '', '1 day ago', '', '1 day ago', '', '2 days ago', '', '1 day ago', '', '1 day ago', '', '1 hour ago', '', '2 days ago', '', '2 days ago', '', '1 day ago', '', '2 days ago', '', '2 days ago', '', '1 day ago', '', '2 days ago', '', '2 days ago', '', '13 hours ago', '', '5 hours ago', '', '5 hours ago', '', '2 days ago', '', '1 day ago', '', '1 day ago', '', '1 day ago', '', '2 days ago', '', '2 days ago', '', '1 day ago', '', '8 hours ago', '', '23 hours ago', '', '6 hours ago', '', '2 days ago', '', '1 day ago', '', '11 hours ago', '', '2 days ago (edited)', '', '2 days ago', '', '2 days ago', '', '1 day ago', '', '2 days ago', '', '2 days ago', '', '2 days ago', '', '2 days ago', '', '1 day ago', '', '5 hours ago', '', '2 days ago', '', '3 hours ago', '', '2 days ago', '', '2 days ago', '', '1 day ago', '', '1 hour ago', '', '2 days ago', '', '2 days ago (edited)', '', '3 hours ago', '', '2 days ago', '', '2 days ago', '', '1 day ago', '', '2 days ago', '', '1 day ago', '', '1 day ago', '', '1 day ago', '', '2 days ago', '', '2 days ago (edited)', '', '2 days ago', '', '2 days ago', '', '1 day ago', '', '2 days ago', '', '2 days ago', '', '8 hours ago', '', '2 days ago', '', '1 day ago', '', '1 day ago', '', '2 days ago', '', '2 days ago', '', '2 days ago', '', '2 days ago (edited)', '', '23 hours ago', '', '2 days ago', '', '1 day ago', '', '6 hours ago', '', '2 days ago', '', '2 days ago', '', '2 days ago', '', '1 hour ago', '', '2 days ago', '', '2 days ago', '', '2 days ago', '', '2 days ago (edited)', '', '2 days ago', '', '37 minutes ago (edited)', '', '1 day ago', '', '1 day ago', '', '2 days ago', '', '17 hours ago', '', '14 hours ago', '', '19 hours ago', '', '2 days ago', '', '2 days ago', '', '1 day ago', '', '2 days ago', '', '1 day ago', '', '2 days ago', '', '2 days ago', '', '2 days ago', '', '1 day ago', '', '1 day ago', '', '2 days ago', '', '2 days ago', '', '1 day ago', '', '36 minutes ago', '', '18 hours ago', '', '6 hours ago', '', '2 days ago', '', '2 days ago', '', '2 days ago', '', '1 day ago', '', '2 days ago', '', '2 days ago', '', '6 hours ago', '', '13 hours ago', '', '1 hour ago', '', '2 days ago', '', '2 days ago (edited)', '', '1 day ago', '', '1 day ago', '', '2 days ago', '', '4 hours ago', '', '2 days ago', '', '1 day ago', '', '1 day ago', '', '2 days ago (edited)', '', '2 days ago', '', '2 days ago (edited)', '', '1 day ago', '', '2 days ago', '', '2 days ago', '', '2 days ago', '', '2 days ago', '', '2 days ago', '', '1 day ago', '', '19 hours ago', '', '1 day ago (edited)', '', '2 days ago', '', '1 day ago', '', '2 days ago', '', '2 days ago', '', '2 days ago', '', '2 days ago', '', '2 days ago', '', '6 hours ago', '', '2 days ago', '', '1 day ago', '', '2 days ago', '', '2 days ago', '4:34', '', '1 day ago', '', '2 days ago', '', '1 day ago', '', '2 days ago', '', '2 days ago', '', '2 hours ago', '', '2 days ago', '', '2 hours ago', '', '2 days ago', '', '17 hours ago', '', '1 day ago (edited)', '', '2 days ago', '', '2 days ago', '']\n"
     ]
    }
   ],
   "source": [
    "print(Time)"
   ]
  },
  {
   "cell_type": "code",
   "execution_count": 35,
   "metadata": {},
   "outputs": [
    {
     "data": {
      "text/html": [
       "<div>\n",
       "<style scoped>\n",
       "    .dataframe tbody tr th:only-of-type {\n",
       "        vertical-align: middle;\n",
       "    }\n",
       "\n",
       "    .dataframe tbody tr th {\n",
       "        vertical-align: top;\n",
       "    }\n",
       "\n",
       "    .dataframe thead th {\n",
       "        text-align: right;\n",
       "    }\n",
       "</style>\n",
       "<table border=\"1\" class=\"dataframe\">\n",
       "  <thead>\n",
       "    <tr style=\"text-align: right;\">\n",
       "      <th></th>\n",
       "      <th>Comments</th>\n",
       "      <th>Comment upvotes</th>\n",
       "      <th>Date</th>\n",
       "    </tr>\n",
       "  </thead>\n",
       "  <tbody>\n",
       "    <tr>\n",
       "      <th>0</th>\n",
       "      <td></td>\n",
       "      <td></td>\n",
       "      <td></td>\n",
       "    </tr>\n",
       "    <tr>\n",
       "      <th>1</th>\n",
       "      <td>Australia's record 26-match ODI winning streak...</td>\n",
       "      <td>792</td>\n",
       "      <td></td>\n",
       "    </tr>\n",
       "    <tr>\n",
       "      <th>2</th>\n",
       "      <td>Indian women were taking the harder catches an...</td>\n",
       "      <td></td>\n",
       "      <td></td>\n",
       "    </tr>\n",
       "    <tr>\n",
       "      <th>3</th>\n",
       "      <td>BCCI really needs to fund well on 360° coachin...</td>\n",
       "      <td>456</td>\n",
       "      <td></td>\n",
       "    </tr>\n",
       "    <tr>\n",
       "      <th>4</th>\n",
       "      <td>Thank you Cricket Australia for uploading thes...</td>\n",
       "      <td></td>\n",
       "      <td></td>\n",
       "    </tr>\n",
       "    <tr>\n",
       "      <th>...</th>\n",
       "      <td>...</td>\n",
       "      <td>...</td>\n",
       "      <td>...</td>\n",
       "    </tr>\n",
       "    <tr>\n",
       "      <th>495</th>\n",
       "      <td>Well done</td>\n",
       "      <td></td>\n",
       "      <td>1 day ago</td>\n",
       "    </tr>\n",
       "    <tr>\n",
       "      <th>496</th>\n",
       "      <td>Well done</td>\n",
       "      <td></td>\n",
       "      <td></td>\n",
       "    </tr>\n",
       "    <tr>\n",
       "      <th>497</th>\n",
       "      <td>there is the huge huge diffrence in fielding b...</td>\n",
       "      <td>1</td>\n",
       "      <td>2 days ago</td>\n",
       "    </tr>\n",
       "    <tr>\n",
       "      <th>498</th>\n",
       "      <td>England cricket should learn how to make highl...</td>\n",
       "      <td></td>\n",
       "      <td></td>\n",
       "    </tr>\n",
       "    <tr>\n",
       "      <th>499</th>\n",
       "      <td>Interesting match</td>\n",
       "      <td></td>\n",
       "      <td>2 days ago</td>\n",
       "    </tr>\n",
       "  </tbody>\n",
       "</table>\n",
       "<p>500 rows × 3 columns</p>\n",
       "</div>"
      ],
      "text/plain": [
       "                                              Comments Comment upvotes  \\\n",
       "0                                                                        \n",
       "1    Australia's record 26-match ODI winning streak...             792   \n",
       "2    Indian women were taking the harder catches an...                   \n",
       "3    BCCI really needs to fund well on 360° coachin...             456   \n",
       "4    Thank you Cricket Australia for uploading thes...                   \n",
       "..                                                 ...             ...   \n",
       "495                                          Well done                   \n",
       "496                                          Well done                   \n",
       "497  there is the huge huge diffrence in fielding b...               1   \n",
       "498  England cricket should learn how to make highl...                   \n",
       "499                                  Interesting match                   \n",
       "\n",
       "           Date  \n",
       "0                \n",
       "1                \n",
       "2                \n",
       "3                \n",
       "4                \n",
       "..          ...  \n",
       "495   1 day ago  \n",
       "496              \n",
       "497  2 days ago  \n",
       "498              \n",
       "499  2 days ago  \n",
       "\n",
       "[500 rows x 3 columns]"
      ]
     },
     "execution_count": 35,
     "metadata": {},
     "output_type": "execute_result"
    }
   ],
   "source": [
    "df_youtube = pd.DataFrame({})\n",
    "df_youtube[\"Comments\"] = comments[:500]\n",
    "df_youtube[\"Comment upvotes\"] = comments_upvote[:500]\n",
    "df_youtube[\"Date\"] = Time[:500]\n",
    "df_youtube"
   ]
  },
  {
   "cell_type": "code",
   "execution_count": null,
   "metadata": {},
   "outputs": [],
   "source": []
  },
  {
   "cell_type": "code",
   "execution_count": null,
   "metadata": {},
   "outputs": [],
   "source": []
  },
  {
   "cell_type": "code",
   "execution_count": null,
   "metadata": {},
   "outputs": [],
   "source": []
  },
  {
   "cell_type": "markdown",
   "metadata": {},
   "source": [
    "# 10. Write a python program to scrape a data for all available Hostels from  https://www.hostelworld.com/ in “London” location.\n",
    "You have to scrape hostel name, distance from city centre, ratings, total reviews, overall reviews, privates from price, dorms \n",
    "from price, facilities and property description."
   ]
  },
  {
   "cell_type": "code",
   "execution_count": 78,
   "metadata": {},
   "outputs": [],
   "source": [
    "url='https://www.hostelworld.com/'\n",
    "driver.get(url)"
   ]
  },
  {
   "cell_type": "code",
   "execution_count": 86,
   "metadata": {},
   "outputs": [
    {
     "data": {
      "text/plain": [
       "<selenium.webdriver.remote.webelement.WebElement (session=\"ba2c147fc38d9fd018141bc5ae12c7f5\", element=\"7a34c82b-8ca7-49ad-a397-bbcd40258f70\")>"
      ]
     },
     "execution_count": 86,
     "metadata": {},
     "output_type": "execute_result"
    }
   ],
   "source": [
    "search_keyword= driver.find_element_by_id(\"search-input-field\")\n",
    "search_keyword\n",
    "#//*[@id=\"search-input-field\"]"
   ]
  },
  {
   "cell_type": "code",
   "execution_count": 87,
   "metadata": {},
   "outputs": [],
   "source": [
    "search_keyword.send_keys(\"london\")\n",
    "\n"
   ]
  },
  {
   "cell_type": "code",
   "execution_count": 88,
   "metadata": {},
   "outputs": [],
   "source": [
    "search_btn=driver.find_element_by_id('search-button')\n",
    "#search_btn\n",
    "search_btn.click()\n",
    "#search.send_keys(\"london\")"
   ]
  },
  {
   "cell_type": "code",
   "execution_count": 89,
   "metadata": {},
   "outputs": [],
   "source": [
    "urls=[]\n",
    "for i in driver.find_elements_by_xpath(\"//h2[@class='title title-6']/a\"):\n",
    "    urls.append(i.get_attribute('href'))"
   ]
  },
  {
   "cell_type": "code",
   "execution_count": 90,
   "metadata": {},
   "outputs": [
    {
     "data": {
      "text/plain": [
       "['https://www.hostelworld.com/pwa/hosteldetails.php/London-Waterloo-Hostel/London/39493?from=2021-09-27&to=2021-09-30&guests=2',\n",
       " 'https://www.hostelworld.com/pwa/hosteldetails.php/St-Christopher-s-Inn-London-Bridge/London/503?from=2021-09-27&to=2021-09-30&guests=2',\n",
       " 'https://www.hostelworld.com/pwa/hosteldetails.php/Barmy-Badger-Backpackers/London/64746?from=2021-09-27&to=2021-09-30&guests=2',\n",
       " 'https://www.hostelworld.com/pwa/hosteldetails.php/Wombat-s-The-City-Hostel-London/London/88047?from=2021-09-27&to=2021-09-30&guests=2',\n",
       " 'https://www.hostelworld.com/pwa/hosteldetails.php/Prime-Backpackers-Angel/London/93902?from=2021-09-27&to=2021-09-30&guests=2',\n",
       " 'https://www.hostelworld.com/pwa/hosteldetails.php/St-Christopher-s-Village/London/502?from=2021-09-27&to=2021-09-30&guests=2',\n",
       " 'https://www.hostelworld.com/pwa/hosteldetails.php/PubLove-The-Steam-Engine-Waterloo/London/29389?from=2021-09-27&to=2021-09-30&guests=2',\n",
       " 'https://www.hostelworld.com/pwa/hosteldetails.php/Smart-Camden-Inn-Hostel/London/596?from=2021-09-27&to=2021-09-30&guests=2',\n",
       " 'https://www.hostelworld.com/pwa/hosteldetails.php/PubLove-The-Crown-Battersea/London/60336?from=2021-09-27&to=2021-09-30&guests=2',\n",
       " 'https://www.hostelworld.com/pwa/hosteldetails.php/Safestay-London-Elephant-Castle/London/55551?from=2021-09-27&to=2021-09-30&guests=2',\n",
       " 'https://www.hostelworld.com/pwa/hosteldetails.php/Urbany-Hostel-London/London/303427?from=2021-09-27&to=2021-09-30&guests=2',\n",
       " 'https://www.hostelworld.com/pwa/hosteldetails.php/PubLove-The-Green-Man-Paddington/London/21953?from=2021-09-27&to=2021-09-30&guests=2',\n",
       " 'https://www.hostelworld.com/pwa/hosteldetails.php/Mornington-Camden/London/285882?from=2021-09-27&to=2021-09-30&guests=2',\n",
       " 'https://www.hostelworld.com/pwa/hosteldetails.php/St-Christopher-s-Inn-Liverpool-Street/London/271698?from=2021-09-27&to=2021-09-30&guests=2',\n",
       " 'https://www.hostelworld.com/pwa/hosteldetails.php/PubLove-The-Rose-Crown/London/297123?from=2021-09-27&to=2021-09-30&guests=2',\n",
       " 'https://www.hostelworld.com/pwa/hosteldetails.php/New-Cross-Inn-Hostel/London/15204?from=2021-09-27&to=2021-09-30&guests=2',\n",
       " 'https://www.hostelworld.com/pwa/hosteldetails.php/Strand-Continental/London/51118?from=2021-09-27&to=2021-09-30&guests=2',\n",
       " 'https://www.hostelworld.com/pwa/hosteldetails.php/St-Christopher-s-Oasis-Female-Only/London/504?from=2021-09-27&to=2021-09-30&guests=2',\n",
       " 'https://www.hostelworld.com/pwa/hosteldetails.php/St-Christopher-s-Camden/London/505?from=2021-09-27&to=2021-09-30&guests=2',\n",
       " 'https://www.hostelworld.com/pwa/hosteldetails.php/Astor-Museum-Inn/London/520?from=2021-09-27&to=2021-09-30&guests=2',\n",
       " 'https://www.hostelworld.com/pwa/hosteldetails.php/Astor-Kensington/London/523?from=2021-09-27&to=2021-09-30&guests=2',\n",
       " 'https://www.hostelworld.com/pwa/hosteldetails.php/Mapesbury-Hostel/London/19667?from=2021-09-27&to=2021-09-30&guests=2',\n",
       " 'https://www.hostelworld.com/pwa/hosteldetails.php/Hootananny-Hostel/London/24068?from=2021-09-27&to=2021-09-30&guests=2',\n",
       " 'https://www.hostelworld.com/pwa/hosteldetails.php/Astor-Hyde-Park/London/25678?from=2021-09-27&to=2021-09-30&guests=2',\n",
       " 'https://www.hostelworld.com/pwa/hosteldetails.php/Phoenix-Hostel/London/48221?from=2021-09-27&to=2021-09-30&guests=2',\n",
       " 'https://www.hostelworld.com/pwa/hosteldetails.php/247london-Hostel-and-Private-Rooms/London/64523?from=2021-09-27&to=2021-09-30&guests=2',\n",
       " 'https://www.hostelworld.com/pwa/hosteldetails.php/Burlington-Residence/London/306383?from=2021-09-27&to=2021-09-30&guests=2',\n",
       " 'https://www.hostelworld.com/pwa/hosteldetails.php/SoHostel/London/92473?from=2021-09-27&to=2021-09-30&guests=2',\n",
       " 'https://www.hostelworld.com/pwa/hosteldetails.php/Clink261/London/516?from=2021-09-27&to=2021-09-30&guests=2',\n",
       " 'https://www.hostelworld.com/pwa/hosteldetails.php/Generator-London/London/510?from=2021-09-27&to=2021-09-30&guests=2']"
      ]
     },
     "execution_count": 90,
     "metadata": {},
     "output_type": "execute_result"
    }
   ],
   "source": [
    "urls"
   ]
  },
  {
   "cell_type": "code",
   "execution_count": 91,
   "metadata": {},
   "outputs": [
    {
     "data": {
      "text/plain": [
       "['London Waterloo Hostel',\n",
       " \"St Christopher's Inn - London Bridge\",\n",
       " 'Barmy Badger Backpackers',\n",
       " \"Wombat's The City Hostel London\",\n",
       " 'Prime Backpackers Angel',\n",
       " \"St Christopher's Village\",\n",
       " 'PubLove @ The Steam Engine, Waterloo',\n",
       " 'Smart Camden Inn Hostel',\n",
       " 'PubLove @ The Crown, Battersea',\n",
       " 'Safestay London Elephant & Castle',\n",
       " 'Urbany Hostel London',\n",
       " 'PubLove @ The Green Man, Paddington',\n",
       " 'Mornington Camden',\n",
       " \"St Christopher's Inn - Liverpool Street\",\n",
       " 'PubLove @ The Rose & Crown',\n",
       " 'New Cross Inn Hostel',\n",
       " 'Strand Continental',\n",
       " \"St Christopher's Oasis-Female Only\",\n",
       " \"St Christopher's Camden\",\n",
       " 'Astor Museum Inn',\n",
       " 'Astor Kensington',\n",
       " 'Mapesbury Hostel',\n",
       " 'Hootananny Hostel',\n",
       " 'Astor Hyde Park',\n",
       " 'Phoenix Hostel',\n",
       " '247london Hostel and Private Rooms',\n",
       " 'Burlington Residence',\n",
       " 'SoHostel',\n",
       " 'Clink261',\n",
       " 'Generator London']"
      ]
     },
     "execution_count": 91,
     "metadata": {},
     "output_type": "execute_result"
    }
   ],
   "source": [
    "name_tags = driver.find_elements_by_xpath(\"//h2[@class='title title-6']\")\n",
    "\n",
    "name = []\n",
    "for i in name_tags:\n",
    "    name.append(i.text)\n",
    "    \n",
    "name"
   ]
  },
  {
   "cell_type": "code",
   "execution_count": 92,
   "metadata": {},
   "outputs": [
    {
     "data": {
      "text/plain": [
       "30"
      ]
     },
     "execution_count": 92,
     "metadata": {},
     "output_type": "execute_result"
    }
   ],
   "source": [
    "len(name)"
   ]
  },
  {
   "cell_type": "code",
   "execution_count": 94,
   "metadata": {},
   "outputs": [
    {
     "data": {
      "text/plain": [
       "['Hostel - 0.7km from city centre',\n",
       " 'Hostel - 1.8km from city centre',\n",
       " 'Hostel - 5.5km from city centre',\n",
       " 'Hostel - 3.6km from city centre',\n",
       " 'Hostel - 3.6km from city centre',\n",
       " 'Hostel - 1.8km from city centre',\n",
       " 'Hostel - 0.5km from city centre',\n",
       " 'Hostel - 4.4km from city centre',\n",
       " 'Hostel - 4.7km from city centre',\n",
       " 'Hostel - 1.7km from city centre',\n",
       " 'Hostel - 5.4km from city centre',\n",
       " 'Hostel - 4.3km from city centre',\n",
       " 'Hostel - 4.1km from city centre',\n",
       " 'Hostel - 3.2km from city centre',\n",
       " 'Hostel - 1.6km from city centre',\n",
       " 'Hostel - 6.1km from city centre',\n",
       " 'Hostel - 1.3km from city centre',\n",
       " 'Hostel - 1.8km from city centre',\n",
       " 'Hostel - 4.3km from city centre',\n",
       " 'Hostel - 2.2km from city centre',\n",
       " 'Hostel - 4.9km from city centre',\n",
       " 'Hostel - 8.2km from city centre',\n",
       " 'Hostel - 5km from city centre',\n",
       " 'Hostel - 4.3km from city centre',\n",
       " 'Hostel - 4.2km from city centre',\n",
       " 'Hostel - 8.2km from city centre',\n",
       " 'Hostel - 7.1km from city centre',\n",
       " 'Hostel - 2km from city centre',\n",
       " 'Hostel - 3.2km from city centre',\n",
       " 'Hostel - 3km from city centre']"
      ]
     },
     "execution_count": 94,
     "metadata": {},
     "output_type": "execute_result"
    }
   ],
   "source": [
    "dist_tags = driver.find_elements_by_xpath(\"//span[@class='description']\")\n",
    "dist = []\n",
    "for i in dist_tags:\n",
    "    dist.append(i.text)\n",
    "dist"
   ]
  },
  {
   "cell_type": "code",
   "execution_count": 99,
   "metadata": {},
   "outputs": [
    {
     "data": {
      "text/plain": [
       "30"
      ]
     },
     "execution_count": 99,
     "metadata": {},
     "output_type": "execute_result"
    }
   ],
   "source": [
    "len(dist)"
   ]
  },
  {
   "cell_type": "code",
   "execution_count": 95,
   "metadata": {},
   "outputs": [
    {
     "data": {
      "text/plain": [
       "['7.2',\n",
       " '7.0',\n",
       " '9.7',\n",
       " '8.8',\n",
       " '10',\n",
       " '8.7',\n",
       " '8.5',\n",
       " '7.6',\n",
       " '6.8',\n",
       " '8.0',\n",
       " '9.8',\n",
       " '6.2',\n",
       " '10',\n",
       " '10',\n",
       " '7.9',\n",
       " '6.9',\n",
       " '7.8',\n",
       " '8.1',\n",
       " '9.0',\n",
       " '9.4',\n",
       " '7.7',\n",
       " '6.3',\n",
       " '8.3',\n",
       " '9.1',\n",
       " '7.9',\n",
       " '6.6',\n",
       " '9.3',\n",
       " '8.4',\n",
       " '7.6',\n",
       " '7.6']"
      ]
     },
     "execution_count": 95,
     "metadata": {},
     "output_type": "execute_result"
    }
   ],
   "source": [
    "rating_tags = driver.find_elements_by_xpath(\"//div[@class='score orange big']\")\n",
    "rating = []\n",
    "for i in rating_tags:\n",
    "    rating.append(i.text)\n",
    "rating"
   ]
  },
  {
   "cell_type": "code",
   "execution_count": 100,
   "metadata": {},
   "outputs": [
    {
     "data": {
      "text/plain": [
       "30"
      ]
     },
     "execution_count": 100,
     "metadata": {},
     "output_type": "execute_result"
    }
   ],
   "source": [
    "len(rating)"
   ]
  },
  {
   "cell_type": "code",
   "execution_count": 98,
   "metadata": {},
   "outputs": [
    {
     "data": {
      "text/plain": [
       "['Fabulous',\n",
       " 'Superb',\n",
       " 'Fabulous',\n",
       " 'Very Good',\n",
       " 'Very Good',\n",
       " 'Superb',\n",
       " 'Fabulous',\n",
       " 'Superb',\n",
       " 'Fabulous',\n",
       " 'Fabulous',\n",
       " 'Very Good',\n",
       " 'Good',\n",
       " 'Fabulous',\n",
       " 'Superb',\n",
       " 'Good',\n",
       " 'Superb',\n",
       " 'Superb',\n",
       " 'Very Good',\n",
       " 'Good',\n",
       " 'Very Good',\n",
       " 'Fabulous',\n",
       " 'Superb',\n",
       " 'Superb',\n",
       " 'Very Good',\n",
       " 'Good',\n",
       " 'Fabulous',\n",
       " 'Superb',\n",
       " 'Very Good',\n",
       " 'Good',\n",
       " 'Superb',\n",
       " 'Fabulous',\n",
       " 'Very Good',\n",
       " 'Very Good']"
      ]
     },
     "execution_count": 98,
     "metadata": {},
     "output_type": "execute_result"
    }
   ],
   "source": [
    "ovr_rev_tags = driver.find_elements_by_xpath(\"//div[@class='keyword']\")\n",
    "ovr_rev = []\n",
    "for i in ovr_rev_tags:\n",
    "    ovr_rev.append(i.text)\n",
    "ovr_rev"
   ]
  },
  {
   "cell_type": "code",
   "execution_count": 101,
   "metadata": {},
   "outputs": [
    {
     "data": {
      "text/plain": [
       "33"
      ]
     },
     "execution_count": 101,
     "metadata": {},
     "output_type": "execute_result"
    }
   ],
   "source": [
    "len(ovr_rev)"
   ]
  },
  {
   "cell_type": "code",
   "execution_count": 102,
   "metadata": {},
   "outputs": [
    {
     "data": {
      "text/plain": [
       "['Very Good',\n",
       " 'Very Good',\n",
       " 'Superb',\n",
       " 'Fabulous',\n",
       " 'Superb',\n",
       " 'Fabulous',\n",
       " 'Fabulous',\n",
       " 'Very Good',\n",
       " 'Good',\n",
       " 'Fabulous',\n",
       " 'Superb',\n",
       " 'Good',\n",
       " 'Superb',\n",
       " 'Superb',\n",
       " 'Very Good',\n",
       " 'Good',\n",
       " 'Very Good',\n",
       " 'Fabulous',\n",
       " 'Superb',\n",
       " 'Superb',\n",
       " 'Very Good',\n",
       " 'Good',\n",
       " 'Fabulous',\n",
       " 'Superb',\n",
       " 'Very Good',\n",
       " 'Good',\n",
       " 'Superb',\n",
       " 'Fabulous',\n",
       " 'Very Good',\n",
       " 'Very Good']"
      ]
     },
     "execution_count": 102,
     "metadata": {},
     "output_type": "execute_result"
    }
   ],
   "source": [
    "new_ovr_rev=ovr_rev[3::]\n",
    "new_ovr_rev"
   ]
  },
  {
   "cell_type": "code",
   "execution_count": 103,
   "metadata": {},
   "outputs": [
    {
     "data": {
      "text/plain": [
       "30"
      ]
     },
     "execution_count": 103,
     "metadata": {},
     "output_type": "execute_result"
    }
   ],
   "source": [
    "len(new_ovr_rev)"
   ]
  },
  {
   "cell_type": "code",
   "execution_count": 104,
   "metadata": {},
   "outputs": [
    {
     "data": {
      "text/plain": [
       "['2419 Total Reviews',\n",
       " '3237 Total Reviews',\n",
       " '1659 Total Reviews',\n",
       " '13191 Total Reviews',\n",
       " '514 Total Reviews',\n",
       " '10854 Total Reviews',\n",
       " '194 Total Reviews',\n",
       " '2687 Total Reviews',\n",
       " '214 Total Reviews',\n",
       " '3958 Total Reviews',\n",
       " '124 Total Reviews',\n",
       " '394 Total Reviews',\n",
       " '41 Total Reviews',\n",
       " '357 Total Reviews',\n",
       " '101 Total Reviews',\n",
       " '1015 Total Reviews',\n",
       " '781 Total Reviews',\n",
       " '598 Total Reviews',\n",
       " '3709 Total Reviews',\n",
       " '8728 Total Reviews',\n",
       " '6329 Total Reviews',\n",
       " '357 Total Reviews',\n",
       " '1410 Total Reviews',\n",
       " '11339 Total Reviews',\n",
       " '3434 Total Reviews',\n",
       " '443 Total Reviews',\n",
       " '30 Total Reviews',\n",
       " '3985 Total Reviews',\n",
       " '3178 Total Reviews',\n",
       " '6745 Total Reviews']"
      ]
     },
     "execution_count": 104,
     "metadata": {},
     "output_type": "execute_result"
    }
   ],
   "source": [
    "tot_rev_tags = driver.find_elements_by_xpath(\"//div[@class='reviews']\")\n",
    "tot_rev = []\n",
    "for i in tot_rev_tags:\n",
    "    tot_rev.append(i.text)\n",
    "tot_rev"
   ]
  },
  {
   "cell_type": "code",
   "execution_count": 105,
   "metadata": {},
   "outputs": [
    {
     "data": {
      "text/plain": [
       "30"
      ]
     },
     "execution_count": 105,
     "metadata": {},
     "output_type": "execute_result"
    }
   ],
   "source": [
    "len(tot_rev)"
   ]
  },
  {
   "cell_type": "code",
   "execution_count": 108,
   "metadata": {},
   "outputs": [
    {
     "data": {
      "text/plain": [
       "['No Privates Available',\n",
       " 'Dorms From,Rs1365',\n",
       " 'Privates From,Rs5461',\n",
       " 'Dorms From,Rs1254',\n",
       " 'Privates From,Rs6068',\n",
       " 'Dorms From,Rs2124',\n",
       " 'Privates From,Rs9039',\n",
       " 'Dorms From,Rs1851',\n",
       " 'Privates From,Rs8790',\n",
       " 'Dorms From,Rs2393',\n",
       " 'Privates From,Rs7686',\n",
       " 'Dorms From,Rs1305',\n",
       " 'No Privates Available',\n",
       " 'Dorms From,Rs1618',\n",
       " 'No Privates Available',\n",
       " 'Dorms From,Rs1293',\n",
       " 'Privates From,Rs14867',\n",
       " 'Dorms From,Rs1551',\n",
       " 'Privates From,Rs6372',\n",
       " 'Dorms From,Rs1820',\n",
       " 'No Privates Available',\n",
       " 'Dorms From,Rs1790',\n",
       " 'Privates From,Rs10923',\n",
       " 'Dorms From,Rs1618',\n",
       " 'No Privates Available',\n",
       " 'Dorms From,Rs3171',\n",
       " 'No Privates Available',\n",
       " 'Dorms From,Rs1878',\n",
       " 'No Privates Available',\n",
       " 'Dorms From,Rs1719',\n",
       " 'Privates From,Rs3113',\n",
       " 'Dorms From,Rs1211',\n",
       " 'Privates From,Rs5916',\n",
       " 'Dorms From,Rs2276',\n",
       " 'Privates From,Rs6034',\n",
       " 'Dorms From,Rs1507',\n",
       " 'No Privates Available',\n",
       " 'Dorms From,Rs1709',\n",
       " 'No Privates Available',\n",
       " 'Dorms From,Rs1618',\n",
       " 'No Privates Available',\n",
       " 'Dorms From,Rs1416',\n",
       " 'Privates From,Rs4551',\n",
       " 'No Dorms Available',\n",
       " 'No Privates Available',\n",
       " 'Dorms From,Rs1633',\n",
       " 'No Privates Available',\n",
       " 'Dorms From,Rs1517',\n",
       " 'No Privates Available',\n",
       " 'Dorms From,Rs1238',\n",
       " 'Privates From,Rs5158',\n",
       " 'No Dorms Available',\n",
       " 'Privates From,Rs7118',\n",
       " 'Dorms From,Rs2063',\n",
       " 'No Privates Available',\n",
       " 'Dorms From,Rs2023',\n",
       " 'Privates From,Rs7039',\n",
       " 'Dorms From,Rs1438',\n",
       " 'Privates From,Rs9001',\n",
       " 'Dorms From,Rs2851']"
      ]
     },
     "execution_count": 108,
     "metadata": {},
     "output_type": "execute_result"
    }
   ],
   "source": [
    "privates_from_price_tags = driver.find_elements_by_xpath(\"//div[@class='price-col']\")\n",
    "privates_from_price = []\n",
    "for i in privates_from_price_tags:\n",
    "    privates_from_price.append(i.text.replace(\"\\n\",\",\"))\n",
    "privates_from_price"
   ]
  },
  {
   "cell_type": "code",
   "execution_count": 109,
   "metadata": {},
   "outputs": [
    {
     "data": {
      "text/plain": [
       "['No Privates Available',\n",
       " 'Privates From,Rs5461',\n",
       " 'Privates From,Rs6068',\n",
       " 'Privates From,Rs9039',\n",
       " 'Privates From,Rs8790',\n",
       " 'Privates From,Rs7686',\n",
       " 'No Privates Available',\n",
       " 'No Privates Available',\n",
       " 'Privates From,Rs14867',\n",
       " 'Privates From,Rs6372',\n",
       " 'No Privates Available',\n",
       " 'Privates From,Rs10923',\n",
       " 'No Privates Available',\n",
       " 'No Privates Available',\n",
       " 'No Privates Available',\n",
       " 'Privates From,Rs3113',\n",
       " 'Privates From,Rs5916',\n",
       " 'Privates From,Rs6034',\n",
       " 'No Privates Available',\n",
       " 'No Privates Available',\n",
       " 'No Privates Available',\n",
       " 'Privates From,Rs4551',\n",
       " 'No Privates Available',\n",
       " 'No Privates Available',\n",
       " 'No Privates Available',\n",
       " 'Privates From,Rs5158',\n",
       " 'Privates From,Rs7118',\n",
       " 'No Privates Available',\n",
       " 'Privates From,Rs7039',\n",
       " 'Privates From,Rs9001']"
      ]
     },
     "execution_count": 109,
     "metadata": {},
     "output_type": "execute_result"
    }
   ],
   "source": [
    "privates_from_price1=privates_from_price[0::2]\n",
    "privates_from_price1"
   ]
  },
  {
   "cell_type": "code",
   "execution_count": 111,
   "metadata": {},
   "outputs": [
    {
     "data": {
      "text/plain": [
       "30"
      ]
     },
     "execution_count": 111,
     "metadata": {},
     "output_type": "execute_result"
    }
   ],
   "source": [
    "len(privates_from_price1)"
   ]
  },
  {
   "cell_type": "code",
   "execution_count": 112,
   "metadata": {},
   "outputs": [
    {
     "data": {
      "text/plain": [
       "['Dorms From,Rs1365',\n",
       " 'Dorms From,Rs1254',\n",
       " 'Dorms From,Rs2124',\n",
       " 'Dorms From,Rs1851',\n",
       " 'Dorms From,Rs2393',\n",
       " 'Dorms From,Rs1305',\n",
       " 'Dorms From,Rs1618',\n",
       " 'Dorms From,Rs1293',\n",
       " 'Dorms From,Rs1551',\n",
       " 'Dorms From,Rs1820',\n",
       " 'Dorms From,Rs1790',\n",
       " 'Dorms From,Rs1618',\n",
       " 'Dorms From,Rs3171',\n",
       " 'Dorms From,Rs1878',\n",
       " 'Dorms From,Rs1719',\n",
       " 'Dorms From,Rs1211',\n",
       " 'Dorms From,Rs2276',\n",
       " 'Dorms From,Rs1507',\n",
       " 'Dorms From,Rs1709',\n",
       " 'Dorms From,Rs1618',\n",
       " 'Dorms From,Rs1416',\n",
       " 'No Dorms Available',\n",
       " 'Dorms From,Rs1633',\n",
       " 'Dorms From,Rs1517',\n",
       " 'Dorms From,Rs1238',\n",
       " 'No Dorms Available',\n",
       " 'Dorms From,Rs2063',\n",
       " 'Dorms From,Rs2023',\n",
       " 'Dorms From,Rs1438',\n",
       " 'Dorms From,Rs2851']"
      ]
     },
     "execution_count": 112,
     "metadata": {},
     "output_type": "execute_result"
    }
   ],
   "source": [
    "dorms_from_price1=privates_from_price[1::2]\n",
    "dorms_from_price1"
   ]
  },
  {
   "cell_type": "code",
   "execution_count": 113,
   "metadata": {},
   "outputs": [
    {
     "data": {
      "text/plain": [
       "30"
      ]
     },
     "execution_count": 113,
     "metadata": {},
     "output_type": "execute_result"
    }
   ],
   "source": [
    "len(dorms_from_price1)"
   ]
  },
  {
   "cell_type": "code",
   "execution_count": 116,
   "metadata": {},
   "outputs": [],
   "source": [
    "facility=[]\n",
    "\n",
    "for i in urls:\n",
    "    \n",
    "    driver.get(i)\n",
    "    time.sleep(3)\n",
    "    search_btn=driver.find_element_by_id('nav-facilities')\n",
    "    #search_btn\n",
    "    search_btn.click()\n",
    "    #extracting rating of iphone\n",
    "    try:\n",
    "        facility_tags= driver.find_element_by_xpath('//ul[@class=\"facilities\"]')\n",
    "        facility.append(facility_tags.text.replace(\"\\n\",\",\"))          \n",
    "    except:\n",
    "        facility.append(\"-\")\n",
    "    "
   ]
  },
  {
   "cell_type": "code",
   "execution_count": 118,
   "metadata": {},
   "outputs": [
    {
     "data": {
      "text/plain": [
       "['Free Breakfast Linen Included Free City Maps Free WiFi Free Internet Access Free City Tour',\n",
       " 'Linen Included Free City Maps Free WiFi Free Internet Access',\n",
       " 'Free Breakfast Linen Included Free City Maps Free WiFi',\n",
       " 'Linen Included Free City Maps Towels Included Free WiFi Free Internet Access Free City Tour',\n",
       " 'Linen Included Free City Maps Towels Included Free WiFi Free Internet Access Free City Tour',\n",
       " 'Linen Included Free City Maps Free WiFi Free Internet Access Free City Tour',\n",
       " 'Linen Included Free City Maps Free WiFi',\n",
       " 'Linen Included Free City Maps Free WiFi',\n",
       " 'Linen Included Free City Maps Free WiFi',\n",
       " 'Linen Included Free City Maps Free WiFi',\n",
       " 'Linen Included Free WiFi',\n",
       " 'Linen Included Free City Maps Free WiFi',\n",
       " 'Linen Included Free City Maps Towels Included Free WiFi Free Internet Access',\n",
       " 'Linen Included Free City Maps Free WiFi',\n",
       " 'Linen Included Free City Maps Free WiFi',\n",
       " 'Free Breakfast Linen Included Free Parking Free City Maps Towels Included Free WiFi',\n",
       " 'Free Breakfast',\n",
       " 'Linen Included Free City Maps Towels Included Free WiFi Free Internet Access Free City Tour',\n",
       " 'Linen Included Free City Maps Free WiFi Free Internet Access',\n",
       " 'Linen Included Free City Maps Free WiFi',\n",
       " 'Linen Included Free City Maps Free WiFi',\n",
       " 'Linen Included Free WiFi Free Internet Access',\n",
       " 'Free Breakfast Linen Included Free City Maps Free WiFi Free Internet Access',\n",
       " 'Linen Included Free City Maps Free WiFi Free Internet Access',\n",
       " 'Linen Included Free City Maps Free WiFi Free Internet Access',\n",
       " 'Linen Included Free WiFi Free Internet Access',\n",
       " 'Free Breakfast Linen Included Free City Maps Free WiFi Free Internet Access Free City Tour',\n",
       " 'Linen Included Free City Maps Free WiFi Free Internet Access',\n",
       " 'Linen Included Free City Maps Free WiFi',\n",
       " 'Linen Included Free City Maps Free WiFi Free Internet Access']"
      ]
     },
     "execution_count": 118,
     "metadata": {},
     "output_type": "execute_result"
    }
   ],
   "source": [
    "facility"
   ]
  },
  {
   "cell_type": "code",
   "execution_count": 119,
   "metadata": {},
   "outputs": [
    {
     "data": {
      "text/plain": [
       "30"
      ]
     },
     "execution_count": 119,
     "metadata": {},
     "output_type": "execute_result"
    }
   ],
   "source": [
    "len(facility)"
   ]
  },
  {
   "cell_type": "code",
   "execution_count": 117,
   "metadata": {},
   "outputs": [],
   "source": [
    "desc=[]\n",
    "\n",
    "for i in urls:\n",
    "    \n",
    "    driver.get(i)\n",
    "    time.sleep(3)\n",
    "    \n",
    "    #extracting rating of iphone\n",
    "    try:\n",
    "        desc_tags= driver.find_element_by_xpath('//div[@class=\"content collapse-content\"]')\n",
    "        desc.append(desc_tags.text.replace(\"\\n\",\",\"))          \n",
    "    except:\n",
    "        desc.append(\"-\")"
   ]
  },
  {
   "cell_type": "code",
   "execution_count": 120,
   "metadata": {},
   "outputs": [
    {
     "data": {
      "text/plain": [
       "[\"COVID-19 Policy Update,,In response to Coronavirus (COVID-19), additional safety and sanitation measures are currently in effect at this property, including social distancing and in-house disinfection. ,,All guest receive Free WIFI, Free lockers, Free linen and FREE BREAKFAST...Located in zone 1 and only 15 minutes walk from Big Ben and Westminster Abbey with the rest of London closeby.,,Stop press........each bed now has a double UK PLUG socket as well as 2 USB sockets ...so you can now charge your phone/tablet etc from the comfort of your own bed.,,We also have a kitchen with microwave, hob as well as 2 fridges and freezer to store any food that you buy.,,We have the honor of being the closest dedicated tourist hostel to Big Bien, Westminster as well as The London Eye itself. Our location is perfect.,,Free super-fast wi-fi throughout the entire building,Free lockers.. ,Free internet cafe with pc,Free tea and coffee 24/7,Free earplugs,Free city maps,Free london walking tour,Free bed linen,,Check in times are restricted to 18:00 to 21:00 hrs due to covid-19 protocols. If you think you will arrive outside of these times it is not a problem and please email us at info@londonwaterloohostel.com to arrange for a late or early check in.,,There are no hidden costs,,Our nearest underground train station (Lambeth North..ZONE 1) is only 5 minutes walk from us and from here you can be in Piccadilly Circus and Oxford Street in less than 15 minutes. ,,As we are located in the centre of London you can walk all around the city without having to use the buses or London underground trains saving yourself the cost of an Oyster Card,,Our team are on hand to ensure every traveler has a uniquely memorable stay and a fantastic London experience. ,,Guests can socialize in our lively communal areas and our lobby bar, serving drinks, snacks and beer all day. The common room has a large-screen 50 inch TV. There's also a large guest kitchen with both microwave and hob, dining room and Free Internet Cafe.,,There is a bicycle docking station around the corner and a 24-hour bus stop at the end of the road. Lambeth north tube station is only a five-minute walk from the hostel.,,Our location near the banks of the river Thames puts us only yards from London's famous South Bank. A short stroll takes you into Westminster and the city's top attractions, including Big Ben, Westminster Abbey and Trafalgar Square. Our hostel is also handy for a spot of culture - visit the Tate modern or the imperial war museum nearby. With Waterloo rail station or Lambeth north tube station a short walk away it is the ideal starting point for your London adventure.,,Please see our reception for luggage storage lockers, tickets and tour bookings, maps and information about London. Our vibrant staff are passionate about making your stay a memorable one.,,We are unable to accommodate under-16's in our dormitories. Guests under the age of 16 are welcome to stay in one of our private rooms as long as they are accompanied by a adult parent or guardian.,,A Â£10 per person (cash only) refundable deposit will be collected on arrival.,Photo ID required upon check-in. (no ID, no stay, no exception),,,Please read our things to note below before making a booking.\",\n",
       " 'COVID 19 Policy Update.,In response to Coronavirus (COVID-19), additional safety and sanitation measures are currently in effect at this property, including social distancing and in-house disinfection. ,,Base yourself in the electric area of London Bridge at our flagship hostel St Christopher’s at The Inn. Here, you’ll get the best of both worlds with modern bath and bedrooms whilst having a traditional but lively 16th century English pub right downstairs with live music every day. Enjoy your morning breakfast in amongst the charm of The Inn. ,,Within just a short walk of our hostel you can reach the London Eye, Tower Bridge and London’s oldest and most famous food market, Borough Market. Getting about by tube couldn’t be easier as we’re located 2 minutes walk from both London Bridge AND Borough tube stations. ,,*Please note that we require an in date government approved - drivers license, passport or national ID card at check-in.,,**Guests under the age of 18 must stay in a private room with guardians. They cannot share in general dormitory rooms with people who are not part of their own group or family. Under-18s are not allowed in the bars or pubs.',\n",
       " \"The Badger is unique for London in that we have 2 dogs that come in with the hostel owners! ,Welcoming over 18 year olds, we have NO HIDDEN COSTS. Included in the price of your stay are the following:,,120 megabyte WiFi in all rooms, communal areas and the garden,Breakfast (cornflakes, muesli, toast, a selection of spreads & a selection of fruit,Use of personal locker with a pin coded laptop safe inside (bring your own padlock),2 x USB ports per bunk bed,Reading Light per bunk bed,2 x power sockets per bunk bed,Use of the fully equipped kitchen,Use of the bbq and help yourself to our herbs and fruit grown in the garden,Luggage storage on the day of arrival and departure if needed,Tea and coffee all day,A good night's sleep on our new memory foam mattresses and pillows.,Taxi bookings,London Maps,Boardgames,Cable TV,Book exchange,Travel advice,Boarding pass print out (one per person),,Extra fees:,Towels: Â£2 per towel hire, Â£1 of which goes to charity,Self Service Laundry ,Padlocks for sale,,BEFORE YOU BOOK we urge people to read all of our Hostel Conditions, Age Restriction policy, Payment policy, Cancellation policy and Things To Note.,,MINIMUM AGE RESTRICTION is 18 years old. We do not accept bookings for anyone under the age of 18. There is no upper age limit.,,Please note:,- Cancellation policy: 48 hours notice before 10am GMT on the day of intended arrival is required to cancel a booking. Failure to cancel within this time will result in a cancellation charge equal to the first night of your stay.,,Guest NO SHOWS will result in the WHOLE of the reservation being charged.,,- Office Hours: Monday to Saturday: 7.30am - 11.00pm Sundays: 8.00am - 6pm. Sunday nights from 6 pm the office is totally closed until 7.30 Monday morning.,,Payment in cash is preferred.,,Bookings may be subjected to a pre-authorisation on the card given - if this is declined, then we will cancel your booking and notify you immediately.,,The Badger does not have a lift and our 6 person dorms have triple bunks. We cannot always guarantee a lower level room or a lower bunk.,,If you arrive before 10.30am, your room may not be ready, but you can leave your bags in the office for free until the room is ready.,,Check-out 10 am at the latest.\",\n",
       " \"Wombat's The City Hostel London is definitely the place to stay if you want to experience all that London has to offer. Only minutes away from sights such as the Tower Bridge, the Tower of London, and the City Hall, it's next to Wilton’s Music Hall and an easy walk from the buzzing nightlife of Shoreditch. The location is ideal for young travellers. Not only is the location awesome, the building itself is breath-taking. Formerly a seamen's hostel, the building was converted to an amazing travellers' oasis featuring a huge bar, a courtyard, a cosy hangout area in the lobby, and all the amenities a backpacker could wish for.,,Wombat's The City Hostel is proud to be one of the most experienced hostel chains (over 20 years of hostel expertise!) with a history of award-winning properties all over Europe: Budapest, London, Munich, and Vienna.,,Wombat’s The City Hostel offers safe, clean, quality accommodation in either (1) a spacious dorm room with an ensuite bathroom and individual lockers for personal belongings or (2) a private room with two twin beds/one queen bed and private bathroom.,,Included,,+ bedding,+ fast WIFI in the entire building,+ our own Wombat’s city maps ,+ fully-equipped guest kitchen (plus: free food section, including free noodles and rice),+ luggage room,+ welcome drink,,Additional features,,+ our lively womBar serves affordable drinks/cocktails/snacks and offers happy hours and regular events,+ coin-operated laundry facilities (washing and crying – oops, sorry about the typo, of course we mean drying), so you can re-vitalize your clothes ;),+ bike rental,,Cleanliness is something not to be taken for granted, and we take it very seriously. We’ve even won the 'cleanest hostel worldwide' award multiple times.,,,By travellers for travellers,,We have travelled the world ourselves - so we know firsthand what travelling is like and what you expect from us. We care about you and listen to your feedback.,,We provide an inviting, safe atmosphere for you to retreat to at the end of the day. After you've been on the road, seeing sights and walking until your feet ache, it's good to know you've got a comfy place waiting for you at our hostel, where you can chill, drink beer, exchange travel wisdom, and make new friends.,,Among all these extras and details, there’s one thing that makes Wombat’s truly stand out. It’s the hostel atmosphere that we all love: travellers sharing not only a space, but an experience.,,Your stay is bound to be a memorable one! ,,,(Minimum age: 18.)\",\n",
       " \"The hostel is housed in a historic building in beautiful Angel (borough of Islington). ,,Our goal is to create a space for travellers to explore the exciting fast paced life of London, and, at the same time, have a safe environment to relax and recharge, meet likeminded people and share unique experiences.,,We are just moments from the bars, restaurants and nightlife of Upper Street and Shoreditch, and 150 metres (5 minute walk) from Angel tube station which gets you to all of the best parts of London in minutes. ,Angel is a vibrant part of London. On the edge of the City centre, and yet still a traditional local community. ,Islington has been the home to reformists for centuries, so behind that elegant facade lies the beating heart of change. Islington is home to many local attractions that will let you see a different side of London than the normal tourist haunts.,,You can enjoy free unlimited high speed WiFi in all areas, a massive fully equipped kitchen for you to cook (we know how expensive London is to eat out), and a chill-out lounge to while away the hours and make new friends. ,,We don’t have a bar on site, so you can either sample the many local pubs or bring your own drinks back. We host lots of fun events, movie nights, games evenings and delicious dinners which all can enjoy - to name a few.,,There’s free tea and coffee all day, a free computer, TV, board games, book exchange, hairdryers, towels, travel advice, and more for you to enjoy. ,Feel safe at Prime Angel with 24 hour security and CCTV. We have lockers (bring your own padlock) and luggage storage on the day of arrival and departure.,,Also, please note that since the building is almost 200 years old there is no elevator (free work out).,,Prime Backpackers Angel Policies & Conditions:,,Strictly no Hen or Stag parties, or group bookings for more than 8 people. ,If we suspect that you are a Hen or Stag party when you arrive then we reserve the right to cancel your booking and not refund any monies paid. ,Same goes for groups bigger than 8 that come in two (or more) separate reservations but actually are one group (we really don't want to do that).,,Check in from 15:00 to 21:00 . ,Check out before 11:00,,Cancellation policy: ,Standard reservation = 48hours before arrival,,Payment upon arrival by credit cards and/or debit cards. We do not accept cash payments. ,This property may pre-authorise your card before arrival.,,Non-refundable reservations may be charged in full at any point after the reservation has been made. (Please have the credit card you used for the reservation at check in).,,Taxes included. ,Breakfast not included.,,General: ,No curfew. ,Our reception is open from 9am to 9pm, seven days a week. If you plan on arriving outside of these times, please let us know.,,Guests under the age of 18 can only be accommodated in the private rooms. Please remember that we do not accommodate groups of 8 people or more. Any reservations made for more than 8 people will be cancelled. We have maximum stay of 14 nights per guest (not reservation but person). Any reservations exceeding these 14 nights will be cancelled.,,Mandatory Requirements:,,Guest must arrive from within the UK or after 2 weeks of quarantine elsewhere before their arrival here during COVID-19 pandemic.,The card owner to be present with their id during check in.,Have the guest pay using the PDQ machine (with a pin).,Pay via bank transfer\",\n",
       " 'COVID 19 Policy Update.,In response to Coronavirus (COVID-19), additional safety and sanitation measures are currently in effect at this property, including social distancing and in-house disinfection. ,,St Christopher’s Inns at The Village in London Bridge is the UK’s first capsule hostel. Its brand new rooms have been specially designed for our guests to get the best night sleep possible before they wake up in amongst one of London’s most vibrant areas. ,,Voted as one of the best party hostels in the world, our multi-award winning hostel offers guests Japanese-style capsule beds with USB ports, cool mood lighting and curtains for privacy. We even have new private rooms with one having an awesome view of the Shard right outside!,,Step out the door and you’ll be just a short walk away from the London Eye, Tower Bridge and the oldest food market in the city, Borough Market. We’re also only a two minute walk from TWO tube stations so getting anywhere in London couldn’t be easier. ,,Party into the night in our hostel party bar Belushi’s, head down to the Dugout to watch live sports and indulge in our legendary burgers with a discount for all our guests.,,*Please note that we require an in date government approved - drivers license, passport or national ID card at check-in.,,**Guests under the age of 18 must stay in a private room with guardians. They cannot share in general dormitory rooms with people who are not part of their own group or family. Under-18s are not allowed in the bars or pubs.,,***The maximum stay policy is 14 days',\n",
       " 'The heart & soul of London backpacking,Pull up a bar stool and talk until morning at PubLove’s most sociable Hostel-Pub. As well as being on the doorstep of London’s biggest tourist attractions, the Steam Engine is beautifully soulful and life-afﬁrming - you’ll feel at home as soon as you step through the door. Warning: you’ll never want to leave. ,Perfect for travellers looking to meet new people to share their London adventure.,,Legendary London adventures start at PubLove.,All our Hostel-Pubs are welcoming, small and social - the perfect places to get to know your fellow travellers. The best thing about staying with us? Your common room is the great British pub! We have 24hr bars specialising in craft beer & gin. Get social with the locals or swap stories over a drink with your fellow backpackers.,,Our dorms are modern, cool and spotlessly clean. Our bunks have hygiene/privacy screens, dedicated power sockets, great free Wi-Fi and crisp white linen. Our top-class washrooms are private and offer shampoo, shower gel and plenty of hot water.,,Every Hostel-Pub has an award-winning Burger Craft kitchen serving up burgers, loaded fries and brunch, with vegetarian and vegan options. They open daily from 12pm until 10pm.,,BOOK NOW to start your own London adventure.',\n",
       " 'Located in the middle of Camden Town, we’re the closest hostel to Camden Markets and if you’re angling for access to all the partying and good times you could want, without compromising on security, comfort, and cleanliness, then we’re where you want to be! Smart Camden Inn’s superb location makes for the perfect home base while you explore London.,,The hostel is a five-minute walk from Camden Town underground station, making it a convenient location for getting to any attraction. A short walk brings you to Regent’s Park, home of Primrose Hill and offering beautiful views of downtown London from its highest natural point. A ten-minute train ride to Oxford Street will bring you to the heart of the city and modern London’s centre for shopping and nightlife. Another short trip will bring you to the heart of ancient London, with the Tower of London and Tower Bridge, London’s most famous river crossing. Everything you need is at your fingertips when you stay with us!,,Bedding and Linen are included with all bookings',\n",
       " 'Do London like a local.,Stay just outside the hustle of the city in a leafy London suburb at our neighbourhood Hostel-Pub, The Crown. Hang out with the friendliest locals in town and enjoy the banter over live sports on our big screens, watch the world go by on the terrace, or get comfortable with new friends in our courtyard garden.,Perfect for travellers looking to experience real London with real Londoners.,,Legendary London adventures start at PubLove.,All our Hostel-Pubs are welcoming, small and social - the perfect places to get to know your fellow travellers. The best thing about staying with us? Your common room is the great British pub! We have 24hr bars specialising in craft beer & gin. Get social with the locals or swap stories over a drink with your fellow backpackers.,,Our dorms are modern, cool and spotlessly clean. Our bunks have hygiene/privacy screens, dedicated power sockets, great free Wi-Fi and crisp white linen. Our top-class washrooms are private and offer shampoo, shower gel and plenty of hot water.,,Every Hostel-Pub has an award-winning Burger Craft kitchen serving up burgers, loaded fries and brunch, with vegetarian and vegan options. They open daily from 12pm until 10pm.,,BOOK NOW to start your own London adventure.',\n",
       " \"Safestay at Elephant & Castle is ideal if you are looking for budget accommodation in London, whether you see the sights in this amazing city or travelling with your family. If Tate Modern, the National Theatre, The Imperial War Museum, the London Aquarium, the London Dungeon, a cricket match at the Kia Oval or clubbing at the world-famous Ministry of Sound are on your must-do list, Safestay London Elephant & Castle is perfectly located.,,Our beautiful 18th-century Georgian building is centrally located, close to London’s mighty River Thames and the restaurants, bars and cafes the Southbank is famed for, along with the London Eye, Borough Market and Shakespeare's Globe Theatre. It's secure, stylish, comfortable and fun, with an illuminated garden for you to relax in.,,So if you're after budget accommodation in London, bringing a group of school children to study the sights or want something different from the usual options in London, why not try this fantastic hostel out for size.,,Close to all the big London tourist attractions, our staff will happily help you plan your visit and give you top tips on what is happening in London during your stay.,,See these London landmarks within 6 stops of the hostel using the Underground:,• Oxford Street,• Piccadilly Circus,• Leicester Square,• Covent Garden,• Westminster Abbey,• Big Ben & the Houses of Parliament,• Buckingham Palace,• St Paul’s Cathedral,• The Tower of London and Tower Bridge ,,FREE WI-FI,Free across all areas,,BREAKFAST,Enjoy our packed breakfast served between 7:00 am – 10:00 am for only £4.50,,Travelling with children? Cots are available on request. Please contact the hostel in advance to arrange.,,Attractions: We sell discounted and fast track entrance tickets to some of London’s most famous sights and best kept secrets. Including the London Eye, Madame Tussauds, The Tower of London, Walking tours, Bike tours, boat trips, and many more.,,Hostel Activities: We organise fun stuff for you to do nearly every day of the week! Such as Free Walking tours, top-rated Pub Crawls, Group trips to famous West End Shows, Jet boating on the Thames\",\n",
       " \"Welcome to Urbany Hostel London, our first international adventure! We offer you a perfect spot to explore the city, we are a social backpacker hostel, a place where you can make friends & feel at home.,,We are located in Notting Hill, a cosmopolitan and multicultural neighbourhood, in a typical Victorian terraced house built in the 1800s. From Urbany Hostel, you can easily walk to Portobello Market and Hyde Park, two of the most popular sites in London.,,Our staff members are just like our guests, friendly, sociable, international and incredibly helpful - They will make sure you know your way around the city.,,-Before booking with us, please ensure you are travelling from countries, territories or regions on the UK Government travel quarantine exempt list. For the safety and comfort of current guests and staff, reservations of those travelling from areas requiring self isolation/quarantine will be cancelled.,,-Temporarily our reception hours have varied; to ensure someone will be here to welcome you, please ensure your arrival time is between 8 AM - 11 PM. Alternatively please let us know if you will be arriving outside these hours.,,-Check in to rooms is from 15:00 to 23:00,-Check out before 11 AM,,FEEL THE URBANY VIBE:,,We have a variety of shared mixed dormitories, whilst also offering private rooms for those who prefer not to share.,,Free high-speed Wi-Fi is available everywhere, even in your room.,,Luggage storage is also available for free if you arrive before check-in or are leaving after check-out (only for the day).,,We offer: towel rental (2 GBP) and basic laundry service wash/dry (5 GBP).,,24/7 CCTV throughout the whole building for added security.,,We do require a £10 cash key deposit (which you will receive back upon return). Ours key's have 24/7 access so there is no curfew - you can get in and out as much as you like.,,A physical VALID government issued ID is required to stay with us and ALL guests must be between 18 - 40 years.,,It's also important to note that there are 4 floors in our hostel and there is no elevator.,,We can't wait to welcome you to our wonderful home and enjoy this amazing city!\",\n",
       " 'Where it all began - PubLove was born here in 2007. ,Loved by backpackers for well over a decade, The Green Man is the original Hostel-Pub and the ideal base for your London adventure. Visit the legendary Wembley Stadium & Lords Cricket ground, hit the shops on the world-famous Oxford Street, then dive into the warm glow of the West End & Theatre-Land. Head back to the bar to check your photos over a pint & a burger. London baby!,Perfect for the travellers looking to experience the London that the whole world loves.,,Legendary London adventures start at PubLove.,All our Hostel-Pubs are welcoming, small and social - the perfect places to get to know your fellow travellers. The best thing about staying with us? Your common room is the great British pub! We have 24hr bars specialising in craft beer & gin. Get social with the locals or swap stories over a drink with your fellow backpackers.,,Our dorms are modern, cool and spotlessly clean. Our bunks have hygiene/privacy screens, dedicated power sockets, great free Wi-Fi and crisp white linen. Our top-class washrooms are private and offer shampoo, shower gel and plenty of hot water.,,Every Hostel-Pub has an award-winning Burger Craft kitchen serving up burgers, loaded fries and brunch, with vegetarian and vegan options. They open daily from 12pm until 10pm.,,BOOK NOW to start your own London adventure.',\n",
       " 'Mornington Camden Hostel is a high class spacious town house with a lovely warm atmosphere. Everything is new. ,The staff are very friendly and helpful. We have a nice lounge with a TV, and a Bar, and restaurant with cheap high quality food. ,,Many restaurants, traditional pubs and bars are nearby and breakfast and snacks can be purchased next door in our sister building, the Crescent Cafe, at a discount. The renowned Camden market, Regents Park, London Zoo and Fitzrovia are within walking distance. Kings Cross, Euston and St Pancras (Eurostar) are within easy reach. ,,All beds have,USB charging points on the electrical sockets. ,Free Linen and Towels. ,Free Lockers,Full Privacy,Personal Lamp,Full use of a private garden,Free Coffee and Tea,Free Washing Machine use,Free bag storage,24 hour access if arranged with us beforehand,,,The Hurdwick policies & conditions;,,Cancellation policy: 24h before arrival 6 PM,,Check in from 13:00 to 23:00 .,Check out before 12:00 .,Payment upon arrival by cash, credit cards, debit cards. This property may pre-authorise your card before arrival.,Please let us know your arrival time in advance,Taxes included.,Breakfast not included.,,General;,No curfew.,Minimum age = You must be 16 or over to stay in a dormitory / group room.,We operate a no-smoking policy throughout the building.,The maximum period of stay is of 30 days.',\n",
       " 'COVID 19 Policy Update.,In response to Coronavirus (COVID-19), additional safety and sanitation measures are currently in effect at this property, including social distancing and in-house disinfection. ,,Our Liverpool Street hostel is the newest of our London hostels, built only in 2017. Just a stroll away from London’s coolest neighbourhood Shoreditch, we’re perfectly located if you’re looking for a fun mix of young locals, businessmen and partying travellers. Wake up surrounded by skyscrapers with The Gherkin on your doorstep, plus you’ll only be a 5 minute walk from Moorgate AND Liverpool Street tube stations. We’re set right above a traditional and charming British pub, where our guests can enjoy breakfast in the morning for just £4. ,,You won’t have to wander far before you reach Shoreditch and its abundance of amazing rooftop bars, the famous street art of Brick Lane and the awesome Old Spitalfields Market street food stalls. There’s no place better to base yourself than in London’s most bustling neighbourhood.,,*Please note that we require an in date government approved - drivers license, passport or national ID card at check-in.,,**Guests under the age of 18 must stay in a private room with guardians. They cannot share in general dormitory rooms with people who are not part of their own group or family. Under-18s are not allowed in the bars or pubs.',\n",
       " 'Food & culture lovers, assemble!,The Rose & Crown is the perfect base to wander the incredible streets of London’s effortlessly cool Southbank. Walk the Thames path to see the majestic sights or head off on a self-guided exploration to discover unseen London. The surrounding area is bursting with vibrancy and culture making it the city’s current food & drink hotspot. The world-famous Borough Market is just around the corner and Flat Iron street food market is opposite our lovely little Hostel-Pub. ,Perfect for discovering the beating heart of London’s food & drink and creative scene.,,Legendary London adventures start at PubLove.,All our Hostel-Pubs are welcoming, small and social - the perfect places to get to know your fellow travellers. The best thing about staying with us? Your common room is the great British pub! We have 24hr bars specialising in craft beer & gin. Get social with the locals or swap stories over a drink with your fellow backpackers.,,Our dorms are modern, cool and spotlessly clean. Our bunks have hygiene/privacy screens, dedicated power sockets, great free Wi-Fi and crisp white linen. Our top-class washrooms are private and offer shampoo, shower gel and plenty of hot water.,,Every Hostel-Pub has an award-winning Burger Craft kitchen serving up burgers, loaded fries and brunch, with vegetarian and vegan options. They open daily from 9am until 10pm.,,BOOK NOW to start your own London adventure.',\n",
       " 'Welcome to New Cross Inn Hostel!,,A Friendly backpackers hostel offering budget style rooms,Situated in SE London, close to New Cross Gate or New Cross Tube/ Train lines with easy access to London Bridge or connection to the Jubilee Line. We are also a short bus ride (15 minutes) away to the O2, if you are coming to London for a concert or event.,,We offer a variety of rooms, including small dormitory rooms and private rooms suitable for Individuals, small groups and families.,,FACILITIES Inc. :-,Self Catering Kitchens.,Common Room with DigitalT V.,Free Wi-Fi throughout the hostel.,Secure Lockers (Chargeable),Free ear plugs (For light sleepers),24 hour reception,Complimentary continental breakfast,,The Bar next door to the hostel also offers discounts and free shots for our guests and often have live music / DJs. The bar has a pool table and shows all major sports events live. (Please let us know if you need a quiet room).,,Whether you are coming to London to visit the sights, study or work, we look forward to welcoming you to the New Cross Inn Hostel., ,ADDITIONAL INFORMATION,*We do not accept customers under 18 years old and over 40 years old unless they are part of a group staying in a private room. We reserve the right to refuse your accommodation at any stage according to the manager discretion. *,,*We require 72 hours notice for a cancellation, if you do not give us 72 hours notice you will be charged in full.,,*Groups of 8 guests or more will be charged 50% deposit on the day of booking. The remaining 50% is due 14 prior arrival. ,,* Non-refundable reservations will be charged anytime after booking, standard bookings will be pre-authorized any time after reserving and shall be treated as non refundable reservations at the end of their free cancelation period (72 hours prior to arrival). UNPAID NON REFUNDABLE RESERVATIONS WILL BE SUBJECT TO AVAILABILITY AND MIGHT INCUR A 20% SURCHARGE IF PAID UPON ARRIVAL.,,*The check-in time is from 2pm-11pm. Guests arriving after 11:00pm need to email at least 24hrs in advance to confirm their reservation, process payment and fill up check in form online to receive code, otherwise will be considered a no show and subject to availability and no show fees.,,We DO require a valid ID for all arrivals including UK/EU residents. Expired ones or without a clear or damaged photo are not valid to check-in.',\n",
       " \"Welcome to one of London's cheapest, friendliest and well-located hostels! Situated in the heart of the West End, opposite Covent Garden, and 10 minutes walk from Trafalgar Square and the London Eye. There are theatres, restaurants and nightlife all on your doorstep!,,Offering both mixed dormitories and single, double and family rooms. All rooms are equipped with washbasins, and have shared bathroom facilities. There is also a 1940s bar and restaurant which are great for meeting other travellers. ,,Guests can enjoy:,No curfew,Free Continental Breakfast ,Free WI-FI in the lounge,24 hour reception,Linen included ,Towels included in private rooms (not in dorms). You can bring your own or rent them for £2 each towel,Tea/Coffee making facilities (in private rooms),Safe luggage storage free of charge,Multilingual staff: English, Spanish, French, Hindi, Polish,Sorry, no lift!,,Check in time: 2:00 pm,Check out: 10:00 am,Cash or credit/debit cards accepted.,,Cancellation policy:,Guests can cancel their bookings free of charge uptil 24 hours prior to arrival. Failure to give a 24 hour cancellation notice will result in a charge of first night's rate.,,Please note that a £10 key deposit will be charged on arrival, and returned to guests when they return their room key on departure.,,In order to confirm the booking, you need to provide us with the CVC/CVV/Security number on the back of the card used to book on this site. Please send this to our email address. Failure to comply with this can result in your booking being cancelled.,,For guest staying over 31st December the following applies: 2 nights minimum stay. Payment is taken at the time of booking. Bookings are non-refundable.\",\n",
       " 'COVID 19 Policy Update.,In response to Coronavirus (COVID-19), additional safety and sanitation measures are currently in effect at this property, including social distancing and in-house disinfection. ,,Find comfort and tranquility in our female-only hostel rooms and bathrooms in the heart of London at The Oasis. Head to the second floor of the newly transformed St Christopher’s At The Village in London Bridge where only special key cards will allow you ladies access. ,London Bridge really is a fantastic place to base yourself with the London Eye, Tower Bridge and the oldest food market in London, Borough Market being just minutes away from the hostel. We’re also just a 2 minute walk from not one but TWO tube stations. ,,By staying at the Oasis you’ll benefit from a few little luxuries to make you feel at home. Included in every room or bathroom are cosy pillows, hair-dryers, towels, fresh bed linen and long mirrors. A lovely place of peace for our female travellers. ,,*Please note that we require an in date government approved - drivers license, passport or national ID card at check-in.,,**Guests under the age of 18 must stay in a private room with guardians. They cannot share in general dormitory rooms with people who are not part of their own group or family. Under-18s are not allowed in the bars or pubs.',\n",
       " 'COVID 19 Policy Update.,In response to Coronavirus (COVID-19), additional safety and sanitation measures are currently in effect at this property, including social distancing and in-house disinfection. ,,Find our Camden hostel in London’s north, smack bang in the middle of one of the city’s coolest neighbourhoods. Camden is covered with some of the world’s best street art plus its live music scene is iconic. Just a short walk from St Christopher’s is the famous Camden Market serving up some of the best street food in London as well as vintage clothes, antiques and loads more. Once you’re done exploring the local attractions, head to Belushi’s where you’ll meet other travellers while rockin’ out to live bands or taking part in a daily pub crawl! ,,Some of London’s most famous live music venues are just a couple of minutes walk from our hostel. We also have Regents Park and Primrose Hill just a stone’s throw away so you can benefit from seeing two different sides of the city within a few minutes. ,,*Please note that we require an in date government approved - drivers license, passport or national ID card at check-in.,,**Guests under the age of 18 must stay in a private room with guardians. They cannot share in general dormitory rooms with people who are not part of their own group or family. Under-18s are not allowed in the bars or pubs.',\n",
       " 'With the British Museum literally on its doorstep, it is impossible to beat this hostel’s location! Located in the very heart of Central London you are a short walk from iconic attractions like Piccadilly Circus, Trafalgar Square and Covent Garden. ,It doesn’t matter if you are shopping down the legendary Oxford Street, watching a play in Leicester Square’s world-famous theatre district, having dinner in China Town, drinks in Soho, or partying in the West End you are always a short walk home to a nice and quiet street in an amazing neighbourhood!,,The moment you walk through our doors you become part of our family and we want you to have an incredible experience! We want every detail - from our super clean bathrooms and comfortable pillows to our unforgettable social events - to be perfect, giving you a London adventure that is 10 out of 10!,,VALID government issued ID required to stay with us, and ALL guests must be between 18-40 YEARS, ,At our amazing hostel you will have full access to:,,• Free Fast Wi-Fi throughout the building as well as Free PC Access,• 24-hour reception for anything you may need (including late check-in/early check-out),• CCTV in operation 24 hours a day,• Storage Lockers available for your valuables £1 per locker, per day (max 14 days).,• Luggage room is free to use on day of arrival! You can leave your items from £2 per bag on day of departure (£7.50 per bag for everyday thereafter). ,• Laundry facilities available 24-hours. Hairdryers and ironing facilities free to use,• Dining room and common area to enjoy a meal or meet fellow travellers,• Beautiful lounge area with comfy sofas and enormous projector screen for movies and sports! ,,Although the government has removed many restrictions, we will continue to do everything we can to keep you safe while you stay with us! ,,Here is a little info on stuff that will be a little bit different than normal - ,,Reception hours,• Check-out is between 8am and 10am. ,• Check-in is available between 2pm and 10pm (please let us know your arrival time to ensure someone is there to greet you with a masked smile!),,(A staff member is available 24 hours a day for emergencies, a number will be provided if you have any issues, or you can call the hostel number directly).?? ,,Charity Breakfast,• Breakfast will not be available until fully safe to do so, we will have a special London map for you to scan, so you can find a delicious feast and other top tips around the city! ,,Common Areas,• Kitchen and common areas are all back open! Whoop Whoop! (Kitchen and lounges will be shut at midnight and reopening at 8am).,,Self-Isolation - Guests who wish to self-isolate in the hostel must do so in a private room, guests must not perform the self-isolation period if coming from abroad in shared dorms. , ,Please Note - For the safety of others, anyone exhibiting symptoms of Covid-19 will be unable to stay at the hostel. We recommend you return home if traveling domestically, or to use specialist self-isolation accommodation.,,,Helpful Extras (Hidden costs are a pain! If we can give it to you for free, we will, if we cannot do it as cheap possible!). ,,• Free City Maps ,• Tourist Information, walking tours and advice on local attractions and transport (24hrs),• Daily events organized for our guests,• Room key is a £5 cash deposit,• Padlocks and Adaptors available for £5 cash deposit,• Discounts at local restaurants and coffee shops,• Towels are available for hire at £2.50,• Free printing facilities (boarding passes, tickets etc),• Clean, crisp linen on your bed ready to sleep on!,• Late Check-Out available to sleep in a little more until Midday (book in advance at reception)!,• ATM (Cash Machine),,Please note our “Basic” room types allow you access to all our amazing facilities! However, the building is located a short walk (1 minute) away from the main building, but if you need anything there is a direct telephone which will connect you with our reception.,,Winner of No.1 Small Hostel Group Worldwide, and a Lifetime Achievement Award for excellence in the Hostel Industry. We thrive on ensuring every guest comes satisfied and if you have any problems along the way we are always there ready to help! For this and many other reasons staying at Astor Hostels is the top choice for anyone exploring London on a budget! ,,Reservations must be made for guests over the age of 18. Any reservations made for those under the minimum age will be cancelled and you will not receive a refund. The hostel organises daily events aimed at backpackers between the ages of 18-30, it is therefore suggested that guests under the age of 40 would enjoy the hostel the most., ,Proof of identification must be shown on arrival and can include a passport, driving license and national identity cards. We cannot accept paper driving licences, student, or employee IDs as proof of identity and failure to show proof or a copy upon arrival will result in the cancellation of a reservation without a refund. Get in touch with us for further clarification., ,When booking for 10 persons or more, different policies and additional supplements will apply.',\n",
       " 'Located a short walk from Notting Hill, Hyde Park and Kensington Palace (home of William, Kate, and the Royal Babies!) it is easy to see why so many people fall in love with this neighbourhood. With three Underground Lines and countless 24hr buses, Astor Kensington is the perfect hub from which to explore London. A short walk around the neighbourhood will take you through the world-famous Portobello Market, Kensington Gardens and London’s most charming streets! Hop on the tube or bus and within 10 minutes you will be in the heart of Oxford Street, Piccadilly Circus and Leicester Square!,,The moment you walk through our doors you become part of our family and we want you to have an incredible experience! We want every detail - from our super clean bathrooms and comfortable pillows to our unforgettable social events - to be perfect, giving you a London adventure that is 10 out of 10!,,VALID government issued ID required to stay with us, and ALL guests must be between 18-40 YEARS, ,At our amazing hostel you will have full access to:,,• Free Fast Wi-Fi throughout the building as well as Free PC Access,• 24-hour reception for anything you may need (including late check-in/early check-out),• CCTV in operation 24 hours a day,• Storage Lockers available for your valuables £1 per locker, per day (max 14 days).,• Luggage room is free to use on day of arrival! You can leave your items from £2 per bag on day of departure (£7.50 per bag for everyday thereafter). ,• Laundry facilities available 24-hours. Hairdryers and ironing facilities free to use,• Dining room and common area to enjoy a meal or meet fellow travellers,• Beautiful lounge area with comfy sofas and enormous projector screen for movies and sports! ,,Although the government has removed many restrictions, we will continue to do everything we can to keep you safe while you stay with us! ,,Here is a little info on stuff that will be a little bit different than normal - ,,Reception hours,• Check-out is between 8am and 10am. ,• Check-in is available between 2pm and 10pm (please let us know your arrival time to ensure someone is there to greet you with a masked smile!),,(A staff member is available 24 hours a day for emergencies, a number will be provided if you have any issues, or you can call the hostel number directly).?? ,,Charity Breakfast,• Breakfast will not be available until fully safe to do so, we will have a special London map for you to scan, so you can find a delicious feast and other top tips around the city! ,,Common Areas,• Kitchen and common areas are all back open! Whoop Whoop! (Kitchen and lounges will be shut at midnight and reopening at 8am).,,Self-Isolation - Guests who wish to self-isolate in the hostel must do so in a private room, guests must not perform the self-isolation period if coming from abroad in shared dorms. , ,Please Note - For the safety of others, anyone exhibiting symptoms of Covid-19 will be unable to stay at the hostel. We recommend you return home if traveling domestically, or to use specialist self-isolation accommodation.,,,Helpful Extras (Hidden costs are a pain! If we can give it to you for free, we will, if we cannot do it as cheap possible!). ,,• Free City Maps ,• Tourist Information, walking tours and advice on local attractions and transport (24hrs),• Daily events organized for our guests,• Room key is a £5 cash deposit,• Padlocks and Adaptors available for £5 cash deposit,• Discounts at local restaurants and coffee shops,• Towels are available for hire at £2.50,• Free printing facilities (boarding passes, tickets etc),• Clean, crisp linen on your bed ready to sleep on!,• Late Check-Out available to sleep in a little more until Midday (book in advance at reception)!,,Winner of No.1 Small Hostel Group Worldwide, and a Lifetime Achievement Award for excellence in the Hostel Industry. We thrive on ensuring every guest comes satisfied and if you have any problems along the way we are always there ready to help! For this and many other reasons staying at Astor Hostels is the top choice for anyone exploring London on a budget! ,,Reservations must be made for guests over the age of 18. Any reservations made for those under the minimum age will be cancelled and you will not receive a refund. The hostel organises daily events aimed at backpackers between the ages of 18-30, it is therefore suggested that guests under the age of 40 would enjoy the hostel the most., ,Proof of identification must be shown on arrival and can include a passport, driving license and national identity cards. We cannot accept paper driving licences, student, or employee IDs as proof of identity and failure to show proof or a copy upon arrival will result in the cancellation of a reservation without a refund. Get in touch with us for further clarification., ,When booking for 10 persons or more, different policies and additional supplements will apply.',\n",
       " \"The Mapesbury Hostel offers budget accommodation in North West London Zone 2 (Kilburn underground station, Jubilee Line.) ,, large Dorm Rooms and Private Rooms ,,If you are looking to meet and socialise with other friendly travellers, you can choose from mixed dorm rooms, female only dorm rooms, private rooms and studio apartments. ,,We are not a party hostel, but we offer friendly, relaxed 'homely' accommodation. The hostel has a great atmosphere where you can socialise with other travellers to give you that feel for London life. There's no curfew, so you can discover our beautiful city on your own terms!,,All bedding is provided. Large, fully equipped shared kitchen, comfortable lounge room with plasma T.V, garden area, night caretaker, daily cleaners, no curfew, FREE WIFI, convenient quiet location mins walk from the tube only 15 mins from central london. , ,Please note our youth hostel has an age restriction of 18-45 years old. ,,PRIVATE ACCOMMODATION,,Choose from single, double/twin, triple and quad rooms and studios. ,,All rooms and studios have : ,- Fresh linen,- Colour TV,- Wardrobes,- Towels ,- Welcome pack,- Wooden floorboards ,- Bar fridge,- Heaters,- FREE WIFI ,- Access to coin operated washer and dryer on site ,,Private rooms are completely private, and you have access to our fully equipped kitchens, and communal bathrooms. ,Studio apartments are fully equipped with your own private ensuite, and kitchenette, no shared facilities. ,,CHECKING IN/PAYMENT ,,We offer a FREE PICK UP SHUTTLE from the Willesden Green tube station. ,Monday - Saturday : 11am - 5:30pm,Sunday : 11am - 3:30pm ,If you are delayed, or plan to arrive outside of these hours, please advise, and we will email details on how to do a 'self check in',,We have a minimum spend of £250 to make payment by credit/debit card. ,Any payments made by card incur a £25 access fee,,Payments by cash/bankers draft are accepted with no charge.\",\n",
       " \"Hootananny is a lively hostel with spacious rooms in a traditional Edwardian public house dating back to the early 1850s. We offer large, airy, comfortable rooms and have a great reputation for a warm atmosphere and helpful staff. We're located in the heart of Brixton with excellent transport links - a great location to stay and explore the city of London.,,With just a ten-minute walk to Brixton underground station, you are straight into Central London on the tube in less than 15 minutes. As one of Londonâ€™s most diverse and vibrant areas, Brixton has world famous covered and street markets, is a hub for music venues, is full of atmospheric pubs and has the pick of the worldâ€™s best cuisine with a great selection of restaurants. Hootananny is located right next to two bus stops with 24-hour connections to the city centre.,,Hostellers are treated to a 20% discount on drinks at the award-winning bar downstairs that was recently crowned Best Live Music venue in London. Festival headliner Manu Chao chose Hootananny bar to give a secret show after his festival performance, and Hootananny star gigs include big gypsy bands, hip hop, dubstep, afrobeat, live reggae acts from Jamaica, ska, world music and indie rock.,,Important,- Staff reductions in recent times have affected the check-in window on weekends. Staff will no be on site until after 2pm,- Please be aware that you must present photo I.D. when you arrive. We only accept passports or a driving license as valid I.D. This is a hostel for over 18s only, there are no family rooms and we do not cater for young children.,- The hostel is located above a live music venue, and music can be heard throughout the hostel until fairly late on Friday and Saturday nights. This does not prove to be a problem for many of our guests, but we can provide you with earplugs if you would like to ensure a good night's sleep.,- Reception is open from 9am - 12 midnight. Check-in time is after midday, but if you arrive early you can always relax in our lounge room or use the amenities.,- Check-out time is between 9am and 11am.,- We take a Â£10 deposit for the key. This is refunded at check-out when the key is returned.,- Bookings for groups of 4 or more require full payment in advance.,- We are a backpackers hostel and do not check in local residents of London into our hostel.,,Happy travels!\",\n",
       " 'Located in the most beautiful and charming neighbourhood in London, Astor Hyde Park is one minute from Hyde Park and surrounded by some of London’s greatest museums including the Natural History Museum, Victoria & Albert, and Science Museum. The hostel is a short walk from London’s best transport connections, including direct trains to Heathrow Airport and all of London’s attractions. If this wasn’t enough, the iconic pubs, excellent shopping, amazing restaurants, and occasional celebrity sighting make it the perfect place to live while in London!,,The moment you walk through our doors you become part of our family and we want you to have an incredible experience! We want every detail - from our super clean bathrooms and comfortable pillows to our unforgettable social events - to be perfect, giving you a London adventure that is 10 out of 10!,,VALID government issued ID required to stay with us, and ALL guests must be between 18-40 YEARS, ,At our amazing hostel you will have full access to:,,• Free Fast Wi-Fi throughout the building as well as Free PC Access,• 24-hour reception for anything you may need (including late check-in/early check-out),• CCTV in operation 24 hours a day,• Storage Lockers available for your valuables £1 per locker, per day (max 14 days).,• Luggage room is free to use on day of arrival! You can leave your items from £2 per bag on day of departure (£7.50 per bag for everyday thereafter). ,• Laundry facilities available 24-hours. Hairdryers and ironing facilities free to use,• Dining room and common area to enjoy a meal or meet fellow travellers,• Beautiful lounge area with comfy sofas and enormous projector screen for movies and sports! ,,Although the government has removed many restrictions, we will continue to do everything we can to keep you safe while you stay with us! ,,Here is a little info on stuff that will be a little bit different than normal - ,,Reception hours,• Check-out is between 8am and 10am. ,• Check-in is available between 2pm and 10pm (please let us know your arrival time to ensure someone is there to greet you with a masked smile!),,(A staff member is available 24 hours a day for emergencies, a number will be provided if you have any issues, or you can call the hostel number directly).?? ,,Charity Breakfast,• Breakfast will not be available until fully safe to do so, we will have a special London map for you to scan, so you can find a delicious feast and other top tips around the city! ,,Common Areas,• Kitchen and common areas are all back open! Whoop Whoop! (Kitchen and lounges will be shut at midnight and reopening at 8am).,,Self-Isolation - Guests who wish to self-isolate in the hostel must do so in a private room, guests must not perform the self-isolation period if coming from abroad in shared dorms. , ,Please Note - For the safety of others, anyone exhibiting symptoms of Covid-19 will be unable to stay at the hostel. We recommend you return home if traveling domestically, or to use specialist self-isolation accommodation.,,,Helpful Extras (Hidden costs are a pain! If we can give it to you for free, we will, if we cannot do it as cheap possible!). ,,• Free City Maps ,• Tourist Information, walking tours and advice on local attractions and transport (24hrs),• Daily events organized for our guests,• Room key is a £5 cash deposit,• Padlocks and Adaptors available for £5 cash deposit,• Discounts at local restaurants and coffee shops,• Towels are available for hire at £2.50,• Free printing facilities (boarding passes, tickets etc),• Clean, crisp linen on your bed ready to sleep on!,• Late Check-Out available to sleep in a little more until Midday (book in advance at reception)!,• ATM (Cash Machine),,Winner of No.1 Small Hostel Group Worldwide, and a Lifetime Achievement Award for excellence in the Hostel Industry. We thrive on ensuring every guest comes satisfied and if you have any problems along the way we are always there ready to help! For this and many other reasons staying at Astor Hostels is the top choice for anyone exploring London on a budget! ,,Reservations must be made for guests over the age of 18. Any reservations made for those under the minimum age will be cancelled and you will not receive a refund. The hostel organises daily events aimed at backpackers between the ages of 18-30, it is therefore suggested that guests under the age of 40 would enjoy the hostel the most., ,Proof of identification must be shown on arrival and can include a passport, driving license and national identity cards. We cannot accept paper driving licences, student, or employee IDs as proof of identity and failure to show proof or a copy upon arrival will result in the cancellation of a reservation without a refund. Get in touch with us for further clarification., ,When booking for 10 persons or more, different policies and additional supplements will apply.',\n",
       " '*Please note we are operating on LIMITED reception working hours*,,The Phoenix, housed in a homely English-style pub, is an award winning backpackers hostel. ,Operating for 11 years we take all of our guests safety and security seriously but we also know how to party!,- so come and join us on your next trip to London! ,,At the Phoenix Hostel we understand the health and safety concerns of travellers and can assure all guests we are doing everything possible to make your experience safe and enjoyable.,,,The health and safety of our guests and staff are our number one priority, therefore we have updated our current standards and conditions to reflect this.,,Â £10 key refundable key deposit required upon check-in. cash.,,Hostel reception open hours:,Monday- Sunday 12:00 - 00:00,,Guests can check-in from 2pm on day of arrival (If arriving earlier, guests may leave their luggage in our holding room until check-in),If arriving very late ie, after midnight, a fee of £3 will be charged,Check-out of rooms by 12noon,,Forms of ID accepted:,UK/ROI Driving Licence,EU/EEA Identity Card ,International Passport,If you do not have these forms of ID, and wish to stay here, please contact us. ,,Guests can cancel their reservation up to 2 days before Check in date. After this date the full amount will be charged. ,Payment is taken in full upon arrival, and is non-refundable should the guest wish to alter their booking after check in.',\n",
       " \"247london Hostel and Private Rooms is a home away from home Accommodation for backpackers, travellers or someone who just wants to have a chilled and cosy place stay with all the comforts you would have at your own home... All this for a great price....Look forward to having you stay...,,If you are looking to meet and socialise with other friendly travellers, you can choose from 6, 8 or 10 bed dorm rooms, mixed or female only!,We are not a party hostel, but we offer friendly, relaxed 'homely' accommodation. The hostel has a great atmosphere where you can socialise with other travellers to give you that feel for London life. There's no curfew, so you can discover our beautiful city on your own terms!,All bedding is provided. Large, fully equipped shared kitchen, comfortable lounge room with plasma T.V, garden area, night caretaker, daily cleaners, no curfew, FREE INTERNET (basic WiFi connection and shared computers provided), coin operated washer and dryer on site.,,,- Please note our youth hostel unfortunately has an age restriction of 18-45 years old. We offer private accommodation for guests outside of this age bracket.,,PRIVATE ACCOMMODATION,,Choose from single, double/twin, triple and quad rooms and studios.,,All rooms and studios have :,- Fresh linen,- plasma TV,- Wardrobes,- Towels,- Welcome pack,- Wooden floorboards,- Bar fridge,- Heaters,- FREE WIFI (basic connection),- Access to coin operated washer and dryer on site,,Private rooms are completely private, and you have access to our fully equipped kitchens, and communal bathrooms.,Studio apartments are fully equipped with your own private ensuite, and kitchenette, no shared facilities.,,- Please note that studio apartments incur an additional £2 per day, on top of the total rent owed.,- Please note that private accommodation is not serviced. We can service rooms/studios upon request at an additional charge. Please contact reception.,,Please note:,,Check-in from Monday - Sunday : 11am - 5:45pm. Sunday 11am - 3:45pm,Check-out by 11:00 ,Cancellation policy is 24h in advance,,We have a minimum spend of £250 to make payment by credit/debit card.,Any payments made by card incur a 5% surcharge.,Payments by cash/bankers draft are accepted.\",\n",
       " 'Situated in South West London, close to Balham underground and Rail stations, Burlington Residence offers unrivalled access to Central London. The Northern Line station at Balham runs for 24 hours a day on Thursdays Fridays and Saturdays, giving you the perfect opportunity to explore the wonderous nightlife of central London with ease. Being situated just a stone’s throw away from Clapham Common and Toting Common, staying with us will provide you with unprecedented ease of access to some of London’s top parks. While Balham has always had a strong community spirit, the last decade has seen the close-knit residents grow even prouder of SW12 as independent coffee shops, cool boutiques, and cult restaurants arrived aplenty. Whatever your reason for staying with is Balham can provide there are seemingly endless distractions for every interest, from outdoor swimming at the nearby Tooting Bec Lido to home brewing classes at We Brought Beer. The Bedford, located just a 4 minute walk away, offers five beautiful bars offer the finest artisan spirits, craft beers, cocktails, wine and Champagnes. Their restaurant focuses on using the best ingredients from the British Isles. Ed Sheeran famously performs there and stated; “I loved playing The Bedford in Balham – It holds fond memories for me and I look forward to coming back one day.”,,Burlington Residence Policies & Conditions:,,Cancellation policy: 24h before arrival. In case of a late cancellation or No Show, you will be charged the first night of your stay.,,Check in from 14:00 ,Check out before 10:00 ,,Payment upon arrival by cash, credit cards. ,This property may pre-authorize your card before the arrival.,,Taxes included.,Breakfast included.,,Reception Hours 08:30 - 18:00 Monday to Friday,No curfew.,Pet friendly.,Child friendly.,Non smoking.,Paid parking.',\n",
       " \"We have implemented our Staying Safe Together policy to ensure the highest standard cleanliness throughout the Hostel and put social distancing measures are in place to keep everyone safe.,,With room for over 300 guests and an ideal central location, just minutes from Oxford Street, Soho Square, Piccadilly and Leicester Square, you'll be right in the heart of the action! ,,SoHostel is London's newest and most central hostel for travellers seeking comfortable but affordable accommodation. We offer we offer stylish, clean and secure accommodation for single travellers, couples and groups.,,Our large range of rooms will suit everyone's needs and budget. From 6-bed dorms to rooms with access to shared bathrooms, and our brand new rooms with private en-suite bathrooms, there is something for everyone!,, Bed linen is provided and towels can be hired at a surcharge. Washing and drying laundry facilities are available. Guests can relax in the shared TV lounge, or have a drink and make new friends at the onsite bar and enjoy our happy hour with half price drinks or daily special cocktails along with live music, karaoke nights and more!,,SoHostel Policies & Conditions:,,Cancellation policy: 48 hours before arrival. ,This property may pre-authorise your card before arrival.,,Check in from 15.00,Check out before 10:00.,,Payment upon arrival by cash, credit cards, debit cards (except American express).,,Taxes included.,,General:,,We ask all guests to show a proof of ID when checking in at SoHostel. This includes UK residents and British nationals. Provisional driving licences are not accepted as proof of ID.,,Age restrictions apply: ,Bookings can ONLY be made by 18+, ,UNDER 18(s) must be accompanied by a parent/guardian, ,UNDER 11(s) must stay in a private room with a parent/guardian.\",\n",
       " \"Clink261 is a comfortable, centrally located hostel just 5 minutes walk from King's Cross Tube and St. Pancras International Station; London’s main transport hub. The hostel offers free WiFi throughout the building., ,Clink261 opened its doors 20 years ago. It's come a long way since then but it’s still got that laid-back feel that backpackers love. Staying at Clink261 feels a bit like coming home. With a self-catering kitchen, friendly staff, and comfortable sofas, it’s a welcoming place to return to after a day of city exploration. The old Student Union building has been brought to life with unique British-themed interiors. \\u202f , ,Clink261 has shared dormitory style accommodation along with girls' only dorms and private rooms. All bunk beds have individual reading lights, a USB/electric port to charge up your devices and a locker (sizes vary from room to room, bring your own padlock). Towels are included in private rooms and available to others for a small fee. , ,Guests can chill out in the lounge area or cook something tasty in the well-equipped self-catering kitchen. They are also welcome to head to ClashBAR at nearby Clink78 (just 320m away) where there are DJ nights, live music, pool/table football, and great drinks deals.\\u202f , ,Reception is open 24/7 and offers discounted tickets on tours and attractions. The friendly team will be happy to help with any questions. ,King's Cross is a bustling and creative area of London. Famous gig venue 'Water Rats' is nearby, an open-air swimming pool is just the other side of King's Cross station (only for the brave!). 'Kerb' Street Food Market is held regularly in Granary Square. The British Museum and Camden Market are a 25-30 minutes’ walk away and all of London's big sights are easily reached on public transport.\\u202f ,At just five minutes’ walk from King’s Cross Underground, Clink261’s location is hard to beat. ,,PARKING,We don’t have any parking spaces directly at the hostels, unfortunately. However, parking is available at the nearby NCP car park. The address is:,Judd Street NCP Car Park, Judd Street, St. Pancras, WC1H 9QR.,The car park is open from: 05:00-23:00. Height restriction is: 1.9m,Parking charges are as follows:,2 hours – £10.00,4 hours – £20.00,24 hours – £28.00,You can pre-book at https://www.ncp.co.uk/find-a-car-park/car-parks/london-judd-street/, ,Please make sure to read the hostel's Terms & Conditions before booking. ,Special conditions apply for group bookings (20 guests or more), please contact the hostel directly.,,If you wish to cancel or amend your reservation and avoid full charges for your booking, please ensure you notify us by email as soon as possible and at least 48 hours prior to your arrival date notice. Passed this time, I am afraid full charges will incur.\",\n",
       " \"Generator London is a design hotel-hostel located in Russell Square in the heart of central London, a short stroll to Covent Garden, Regents Park and trendy King's Cross. Guests can choose from shared dorms to private rooms, offering something for everyone. Complete with 24-hour reception, free wifi, cafe and bar Generator is a fun and affordable choice in London.,,Generator London was the very first Generator and you'll find it in the area of Russell Square in the heart of the West End. ,,It's the ideal spot to enjoy London from, everything you need to see is minutes away by tube. You'll never run out of things to do in the UK's capital. You just have to decide where to start and we can help you with that. When you have seen and done it all for the day head back to Generator and unwind. ,,It's a destination in its own right and a great place to socialise and reflect on your experiences of the day. Head to the bar and chill out areas to get yourself a well deserved drink or two. It's lively, friendly and un-missable. We've also got great beds for sleepy heads and of course you'll be enjoying London life in the most authentic surroundings. ,,Choose from a great selection of rooms, from Dorms, to Quads, to Private rooms with innovative mod cons. Fast and free Wi-Fi is all yours too. To get the most out of your stay visit the travel shop and our city experts will help you devise an itinerary that will take you to all the hidden treasures this dynamic city has to offer. You'll have to stay longer to fit it all in but you'll not need convincing of that. We'll see you there soon.,,Important points:,, Central location Situated close to Russell Square, Complimentary Wi-Fi in public areas & guest bedrooms, Travel Desk, Luggage Store, Laundry Room, Games Room, Bar & Chill Out Areas, Nightly Events & Entertainment, Dining facilities for breakfast, lunch, dinner and all day snacks, Female Dormitories, Dormitories for 4, 6 & 8, Group bookings,,FREE WI-FI,Stay connected. Free for all!,,THE BAR,Order a classic cocktail. Open from 5pm-2am with fun and games every night.,,THE LOUNGE & CAFE ,Open everyday,,BREAKFAST,,Breakfast not included.,International breakfast available upon request: £8.50 if booked online.,Daily from 7 am to 11 am,,DINNER. ,Delicious meals available between 5-9pm every evening. A dish of the day will also be available together with the bar snack menu.,,SNACKS,Vending machines available for night owls to satisfy the midnight munchies.,,ROOMS TO AMAZE,A wide selection of contemporary Privates, Twins, Triples & Dorms, with crisp white linen all available at great rates. Towels included complimentary in Twin rooms only.,,BATHROOMS,Shared showers on every floor. ,,LAUNDRY,Open 24 hours a day where you can wash, dry and iron for a small fee.,,24 HOUR RECEPTION,No need to worry about arriving late or early. The Generator Reception is open 24 hours a day with a duty manager who's always around to help.,,LUGGAGE STORE,Secure luggage room is available so you can sightsee without dragging your bag with you.,,GREAT STAFF,All our staff are multi lingual and on hand to help you with whatever info you need.,,TRAVEL SHOP,Purchase tickets, tours and a whole lot more including phone and postal service. We will help you make the most of your stay. Undecided? Take advantage of our complimentary guided walking tour available daily.,,Unfortunately guests under the age of 18 are not allowed to stay in the dorms .,,We look forward to giving you a warm welcome to The Generator in the near future.\"]"
      ]
     },
     "execution_count": 120,
     "metadata": {},
     "output_type": "execute_result"
    }
   ],
   "source": [
    "desc"
   ]
  },
  {
   "cell_type": "code",
   "execution_count": 121,
   "metadata": {},
   "outputs": [
    {
     "data": {
      "text/plain": [
       "30"
      ]
     },
     "execution_count": 121,
     "metadata": {},
     "output_type": "execute_result"
    }
   ],
   "source": [
    "len(desc)"
   ]
  },
  {
   "cell_type": "code",
   "execution_count": 122,
   "metadata": {},
   "outputs": [
    {
     "data": {
      "text/html": [
       "<div>\n",
       "<style scoped>\n",
       "    .dataframe tbody tr th:only-of-type {\n",
       "        vertical-align: middle;\n",
       "    }\n",
       "\n",
       "    .dataframe tbody tr th {\n",
       "        vertical-align: top;\n",
       "    }\n",
       "\n",
       "    .dataframe thead th {\n",
       "        text-align: right;\n",
       "    }\n",
       "</style>\n",
       "<table border=\"1\" class=\"dataframe\">\n",
       "  <thead>\n",
       "    <tr style=\"text-align: right;\">\n",
       "      <th></th>\n",
       "      <th>Name</th>\n",
       "      <th>Distance</th>\n",
       "      <th>Rating</th>\n",
       "      <th>Total_reviews</th>\n",
       "      <th>Overall_reviews</th>\n",
       "      <th>privates_from_price,</th>\n",
       "      <th>dorms_from_price,</th>\n",
       "      <th>Property_description</th>\n",
       "    </tr>\n",
       "  </thead>\n",
       "  <tbody>\n",
       "    <tr>\n",
       "      <th>0</th>\n",
       "      <td>London Waterloo Hostel</td>\n",
       "      <td>Hostel - 0.7km from city centre</td>\n",
       "      <td>7.2</td>\n",
       "      <td>Free Breakfast Linen Included Free City Maps F...</td>\n",
       "      <td>Very Good</td>\n",
       "      <td>No Privates Available</td>\n",
       "      <td>Dorms From,Rs1365</td>\n",
       "      <td>COVID-19 Policy Update,,In response to Coronav...</td>\n",
       "    </tr>\n",
       "    <tr>\n",
       "      <th>1</th>\n",
       "      <td>St Christopher's Inn - London Bridge</td>\n",
       "      <td>Hostel - 1.8km from city centre</td>\n",
       "      <td>7.0</td>\n",
       "      <td>Linen Included Free City Maps Free WiFi Free I...</td>\n",
       "      <td>Very Good</td>\n",
       "      <td>Privates From,Rs5461</td>\n",
       "      <td>Dorms From,Rs1254</td>\n",
       "      <td>COVID 19 Policy Update.,In response to Coronav...</td>\n",
       "    </tr>\n",
       "    <tr>\n",
       "      <th>2</th>\n",
       "      <td>Barmy Badger Backpackers</td>\n",
       "      <td>Hostel - 5.5km from city centre</td>\n",
       "      <td>9.7</td>\n",
       "      <td>Free Breakfast Linen Included Free City Maps F...</td>\n",
       "      <td>Superb</td>\n",
       "      <td>Privates From,Rs6068</td>\n",
       "      <td>Dorms From,Rs2124</td>\n",
       "      <td>The Badger is unique for London in that we hav...</td>\n",
       "    </tr>\n",
       "    <tr>\n",
       "      <th>3</th>\n",
       "      <td>Wombat's The City Hostel London</td>\n",
       "      <td>Hostel - 3.6km from city centre</td>\n",
       "      <td>8.8</td>\n",
       "      <td>Linen Included Free City Maps Towels Included ...</td>\n",
       "      <td>Fabulous</td>\n",
       "      <td>Privates From,Rs9039</td>\n",
       "      <td>Dorms From,Rs1851</td>\n",
       "      <td>Wombat's The City Hostel London is definitely ...</td>\n",
       "    </tr>\n",
       "    <tr>\n",
       "      <th>4</th>\n",
       "      <td>Prime Backpackers Angel</td>\n",
       "      <td>Hostel - 3.6km from city centre</td>\n",
       "      <td>10</td>\n",
       "      <td>Linen Included Free City Maps Towels Included ...</td>\n",
       "      <td>Superb</td>\n",
       "      <td>Privates From,Rs8790</td>\n",
       "      <td>Dorms From,Rs2393</td>\n",
       "      <td>The hostel is housed in a historic building in...</td>\n",
       "    </tr>\n",
       "    <tr>\n",
       "      <th>5</th>\n",
       "      <td>St Christopher's Village</td>\n",
       "      <td>Hostel - 1.8km from city centre</td>\n",
       "      <td>8.7</td>\n",
       "      <td>Linen Included Free City Maps Free WiFi Free I...</td>\n",
       "      <td>Fabulous</td>\n",
       "      <td>Privates From,Rs7686</td>\n",
       "      <td>Dorms From,Rs1305</td>\n",
       "      <td>COVID 19 Policy Update.,In response to Coronav...</td>\n",
       "    </tr>\n",
       "    <tr>\n",
       "      <th>6</th>\n",
       "      <td>PubLove @ The Steam Engine, Waterloo</td>\n",
       "      <td>Hostel - 0.5km from city centre</td>\n",
       "      <td>8.5</td>\n",
       "      <td>Linen Included Free City Maps Free WiFi</td>\n",
       "      <td>Fabulous</td>\n",
       "      <td>No Privates Available</td>\n",
       "      <td>Dorms From,Rs1618</td>\n",
       "      <td>The heart &amp; soul of London backpacking,Pull up...</td>\n",
       "    </tr>\n",
       "    <tr>\n",
       "      <th>7</th>\n",
       "      <td>Smart Camden Inn Hostel</td>\n",
       "      <td>Hostel - 4.4km from city centre</td>\n",
       "      <td>7.6</td>\n",
       "      <td>Linen Included Free City Maps Free WiFi</td>\n",
       "      <td>Very Good</td>\n",
       "      <td>No Privates Available</td>\n",
       "      <td>Dorms From,Rs1293</td>\n",
       "      <td>Located in the middle of Camden Town, we’re th...</td>\n",
       "    </tr>\n",
       "    <tr>\n",
       "      <th>8</th>\n",
       "      <td>PubLove @ The Crown, Battersea</td>\n",
       "      <td>Hostel - 4.7km from city centre</td>\n",
       "      <td>6.8</td>\n",
       "      <td>Linen Included Free City Maps Free WiFi</td>\n",
       "      <td>Good</td>\n",
       "      <td>Privates From,Rs14867</td>\n",
       "      <td>Dorms From,Rs1551</td>\n",
       "      <td>Do London like a local.,Stay just outside the ...</td>\n",
       "    </tr>\n",
       "    <tr>\n",
       "      <th>9</th>\n",
       "      <td>Safestay London Elephant &amp; Castle</td>\n",
       "      <td>Hostel - 1.7km from city centre</td>\n",
       "      <td>8.0</td>\n",
       "      <td>Linen Included Free City Maps Free WiFi</td>\n",
       "      <td>Fabulous</td>\n",
       "      <td>Privates From,Rs6372</td>\n",
       "      <td>Dorms From,Rs1820</td>\n",
       "      <td>Safestay at Elephant &amp; Castle is ideal if you ...</td>\n",
       "    </tr>\n",
       "    <tr>\n",
       "      <th>10</th>\n",
       "      <td>Urbany Hostel London</td>\n",
       "      <td>Hostel - 5.4km from city centre</td>\n",
       "      <td>9.8</td>\n",
       "      <td>Linen Included Free WiFi</td>\n",
       "      <td>Superb</td>\n",
       "      <td>No Privates Available</td>\n",
       "      <td>Dorms From,Rs1790</td>\n",
       "      <td>Welcome to Urbany Hostel London, our first int...</td>\n",
       "    </tr>\n",
       "    <tr>\n",
       "      <th>11</th>\n",
       "      <td>PubLove @ The Green Man, Paddington</td>\n",
       "      <td>Hostel - 4.3km from city centre</td>\n",
       "      <td>6.2</td>\n",
       "      <td>Linen Included Free City Maps Free WiFi</td>\n",
       "      <td>Good</td>\n",
       "      <td>Privates From,Rs10923</td>\n",
       "      <td>Dorms From,Rs1618</td>\n",
       "      <td>Where it all began - PubLove was born here in ...</td>\n",
       "    </tr>\n",
       "    <tr>\n",
       "      <th>12</th>\n",
       "      <td>Mornington Camden</td>\n",
       "      <td>Hostel - 4.1km from city centre</td>\n",
       "      <td>10</td>\n",
       "      <td>Linen Included Free City Maps Towels Included ...</td>\n",
       "      <td>Superb</td>\n",
       "      <td>No Privates Available</td>\n",
       "      <td>Dorms From,Rs3171</td>\n",
       "      <td>Mornington Camden Hostel is a high class spaci...</td>\n",
       "    </tr>\n",
       "    <tr>\n",
       "      <th>13</th>\n",
       "      <td>St Christopher's Inn - Liverpool Street</td>\n",
       "      <td>Hostel - 3.2km from city centre</td>\n",
       "      <td>10</td>\n",
       "      <td>Linen Included Free City Maps Free WiFi</td>\n",
       "      <td>Superb</td>\n",
       "      <td>No Privates Available</td>\n",
       "      <td>Dorms From,Rs1878</td>\n",
       "      <td>COVID 19 Policy Update.,In response to Coronav...</td>\n",
       "    </tr>\n",
       "    <tr>\n",
       "      <th>14</th>\n",
       "      <td>PubLove @ The Rose &amp; Crown</td>\n",
       "      <td>Hostel - 1.6km from city centre</td>\n",
       "      <td>7.9</td>\n",
       "      <td>Linen Included Free City Maps Free WiFi</td>\n",
       "      <td>Very Good</td>\n",
       "      <td>No Privates Available</td>\n",
       "      <td>Dorms From,Rs1719</td>\n",
       "      <td>Food &amp; culture lovers, assemble!,The Rose &amp; Cr...</td>\n",
       "    </tr>\n",
       "    <tr>\n",
       "      <th>15</th>\n",
       "      <td>New Cross Inn Hostel</td>\n",
       "      <td>Hostel - 6.1km from city centre</td>\n",
       "      <td>6.9</td>\n",
       "      <td>Free Breakfast Linen Included Free Parking Fre...</td>\n",
       "      <td>Good</td>\n",
       "      <td>Privates From,Rs3113</td>\n",
       "      <td>Dorms From,Rs1211</td>\n",
       "      <td>Welcome to New Cross Inn Hostel!,,A Friendly b...</td>\n",
       "    </tr>\n",
       "    <tr>\n",
       "      <th>16</th>\n",
       "      <td>Strand Continental</td>\n",
       "      <td>Hostel - 1.3km from city centre</td>\n",
       "      <td>7.8</td>\n",
       "      <td>Free Breakfast</td>\n",
       "      <td>Very Good</td>\n",
       "      <td>Privates From,Rs5916</td>\n",
       "      <td>Dorms From,Rs2276</td>\n",
       "      <td>Welcome to one of London's cheapest, friendlie...</td>\n",
       "    </tr>\n",
       "    <tr>\n",
       "      <th>17</th>\n",
       "      <td>St Christopher's Oasis-Female Only</td>\n",
       "      <td>Hostel - 1.8km from city centre</td>\n",
       "      <td>8.1</td>\n",
       "      <td>Linen Included Free City Maps Towels Included ...</td>\n",
       "      <td>Fabulous</td>\n",
       "      <td>Privates From,Rs6034</td>\n",
       "      <td>Dorms From,Rs1507</td>\n",
       "      <td>COVID 19 Policy Update.,In response to Coronav...</td>\n",
       "    </tr>\n",
       "    <tr>\n",
       "      <th>18</th>\n",
       "      <td>St Christopher's Camden</td>\n",
       "      <td>Hostel - 4.3km from city centre</td>\n",
       "      <td>9.0</td>\n",
       "      <td>Linen Included Free City Maps Free WiFi Free I...</td>\n",
       "      <td>Superb</td>\n",
       "      <td>No Privates Available</td>\n",
       "      <td>Dorms From,Rs1709</td>\n",
       "      <td>COVID 19 Policy Update.,In response to Coronav...</td>\n",
       "    </tr>\n",
       "    <tr>\n",
       "      <th>19</th>\n",
       "      <td>Astor Museum Inn</td>\n",
       "      <td>Hostel - 2.2km from city centre</td>\n",
       "      <td>9.4</td>\n",
       "      <td>Linen Included Free City Maps Free WiFi</td>\n",
       "      <td>Superb</td>\n",
       "      <td>No Privates Available</td>\n",
       "      <td>Dorms From,Rs1618</td>\n",
       "      <td>With the British Museum literally on its doors...</td>\n",
       "    </tr>\n",
       "    <tr>\n",
       "      <th>20</th>\n",
       "      <td>Astor Kensington</td>\n",
       "      <td>Hostel - 4.9km from city centre</td>\n",
       "      <td>7.7</td>\n",
       "      <td>Linen Included Free City Maps Free WiFi</td>\n",
       "      <td>Very Good</td>\n",
       "      <td>No Privates Available</td>\n",
       "      <td>Dorms From,Rs1416</td>\n",
       "      <td>Located a short walk from Notting Hill, Hyde P...</td>\n",
       "    </tr>\n",
       "    <tr>\n",
       "      <th>21</th>\n",
       "      <td>Mapesbury Hostel</td>\n",
       "      <td>Hostel - 8.2km from city centre</td>\n",
       "      <td>6.3</td>\n",
       "      <td>Linen Included Free WiFi Free Internet Access</td>\n",
       "      <td>Good</td>\n",
       "      <td>Privates From,Rs4551</td>\n",
       "      <td>No Dorms Available</td>\n",
       "      <td>The Mapesbury Hostel offers budget accommodati...</td>\n",
       "    </tr>\n",
       "    <tr>\n",
       "      <th>22</th>\n",
       "      <td>Hootananny Hostel</td>\n",
       "      <td>Hostel - 5km from city centre</td>\n",
       "      <td>8.3</td>\n",
       "      <td>Free Breakfast Linen Included Free City Maps F...</td>\n",
       "      <td>Fabulous</td>\n",
       "      <td>No Privates Available</td>\n",
       "      <td>Dorms From,Rs1633</td>\n",
       "      <td>Hootananny is a lively hostel with spacious ro...</td>\n",
       "    </tr>\n",
       "    <tr>\n",
       "      <th>23</th>\n",
       "      <td>Astor Hyde Park</td>\n",
       "      <td>Hostel - 4.3km from city centre</td>\n",
       "      <td>9.1</td>\n",
       "      <td>Linen Included Free City Maps Free WiFi Free I...</td>\n",
       "      <td>Superb</td>\n",
       "      <td>No Privates Available</td>\n",
       "      <td>Dorms From,Rs1517</td>\n",
       "      <td>Located in the most beautiful and charming nei...</td>\n",
       "    </tr>\n",
       "    <tr>\n",
       "      <th>24</th>\n",
       "      <td>Phoenix Hostel</td>\n",
       "      <td>Hostel - 4.2km from city centre</td>\n",
       "      <td>7.9</td>\n",
       "      <td>Linen Included Free City Maps Free WiFi Free I...</td>\n",
       "      <td>Very Good</td>\n",
       "      <td>No Privates Available</td>\n",
       "      <td>Dorms From,Rs1238</td>\n",
       "      <td>*Please note we are operating on LIMITED recep...</td>\n",
       "    </tr>\n",
       "    <tr>\n",
       "      <th>25</th>\n",
       "      <td>247london Hostel and Private Rooms</td>\n",
       "      <td>Hostel - 8.2km from city centre</td>\n",
       "      <td>6.6</td>\n",
       "      <td>Linen Included Free WiFi Free Internet Access</td>\n",
       "      <td>Good</td>\n",
       "      <td>Privates From,Rs5158</td>\n",
       "      <td>No Dorms Available</td>\n",
       "      <td>247london Hostel and Private Rooms is a home a...</td>\n",
       "    </tr>\n",
       "    <tr>\n",
       "      <th>26</th>\n",
       "      <td>Burlington Residence</td>\n",
       "      <td>Hostel - 7.1km from city centre</td>\n",
       "      <td>9.3</td>\n",
       "      <td>Free Breakfast Linen Included Free City Maps F...</td>\n",
       "      <td>Superb</td>\n",
       "      <td>Privates From,Rs7118</td>\n",
       "      <td>Dorms From,Rs2063</td>\n",
       "      <td>Situated in South West London, close to Balham...</td>\n",
       "    </tr>\n",
       "    <tr>\n",
       "      <th>27</th>\n",
       "      <td>SoHostel</td>\n",
       "      <td>Hostel - 2km from city centre</td>\n",
       "      <td>8.4</td>\n",
       "      <td>Linen Included Free City Maps Free WiFi Free I...</td>\n",
       "      <td>Fabulous</td>\n",
       "      <td>No Privates Available</td>\n",
       "      <td>Dorms From,Rs2023</td>\n",
       "      <td>We have implemented our Staying Safe Together ...</td>\n",
       "    </tr>\n",
       "    <tr>\n",
       "      <th>28</th>\n",
       "      <td>Clink261</td>\n",
       "      <td>Hostel - 3.2km from city centre</td>\n",
       "      <td>7.6</td>\n",
       "      <td>Linen Included Free City Maps Free WiFi</td>\n",
       "      <td>Very Good</td>\n",
       "      <td>Privates From,Rs7039</td>\n",
       "      <td>Dorms From,Rs1438</td>\n",
       "      <td>Clink261 is a comfortable, centrally located h...</td>\n",
       "    </tr>\n",
       "    <tr>\n",
       "      <th>29</th>\n",
       "      <td>Generator London</td>\n",
       "      <td>Hostel - 3km from city centre</td>\n",
       "      <td>7.6</td>\n",
       "      <td>Linen Included Free City Maps Free WiFi Free I...</td>\n",
       "      <td>Very Good</td>\n",
       "      <td>Privates From,Rs9001</td>\n",
       "      <td>Dorms From,Rs2851</td>\n",
       "      <td>Generator London is a design hotel-hostel loca...</td>\n",
       "    </tr>\n",
       "  </tbody>\n",
       "</table>\n",
       "</div>"
      ],
      "text/plain": [
       "                                       Name                         Distance  \\\n",
       "0                    London Waterloo Hostel  Hostel - 0.7km from city centre   \n",
       "1      St Christopher's Inn - London Bridge  Hostel - 1.8km from city centre   \n",
       "2                  Barmy Badger Backpackers  Hostel - 5.5km from city centre   \n",
       "3           Wombat's The City Hostel London  Hostel - 3.6km from city centre   \n",
       "4                   Prime Backpackers Angel  Hostel - 3.6km from city centre   \n",
       "5                  St Christopher's Village  Hostel - 1.8km from city centre   \n",
       "6      PubLove @ The Steam Engine, Waterloo  Hostel - 0.5km from city centre   \n",
       "7                   Smart Camden Inn Hostel  Hostel - 4.4km from city centre   \n",
       "8            PubLove @ The Crown, Battersea  Hostel - 4.7km from city centre   \n",
       "9         Safestay London Elephant & Castle  Hostel - 1.7km from city centre   \n",
       "10                     Urbany Hostel London  Hostel - 5.4km from city centre   \n",
       "11      PubLove @ The Green Man, Paddington  Hostel - 4.3km from city centre   \n",
       "12                        Mornington Camden  Hostel - 4.1km from city centre   \n",
       "13  St Christopher's Inn - Liverpool Street  Hostel - 3.2km from city centre   \n",
       "14               PubLove @ The Rose & Crown  Hostel - 1.6km from city centre   \n",
       "15                     New Cross Inn Hostel  Hostel - 6.1km from city centre   \n",
       "16                       Strand Continental  Hostel - 1.3km from city centre   \n",
       "17       St Christopher's Oasis-Female Only  Hostel - 1.8km from city centre   \n",
       "18                  St Christopher's Camden  Hostel - 4.3km from city centre   \n",
       "19                         Astor Museum Inn  Hostel - 2.2km from city centre   \n",
       "20                         Astor Kensington  Hostel - 4.9km from city centre   \n",
       "21                         Mapesbury Hostel  Hostel - 8.2km from city centre   \n",
       "22                        Hootananny Hostel    Hostel - 5km from city centre   \n",
       "23                          Astor Hyde Park  Hostel - 4.3km from city centre   \n",
       "24                           Phoenix Hostel  Hostel - 4.2km from city centre   \n",
       "25       247london Hostel and Private Rooms  Hostel - 8.2km from city centre   \n",
       "26                     Burlington Residence  Hostel - 7.1km from city centre   \n",
       "27                                 SoHostel    Hostel - 2km from city centre   \n",
       "28                                 Clink261  Hostel - 3.2km from city centre   \n",
       "29                         Generator London    Hostel - 3km from city centre   \n",
       "\n",
       "   Rating                                      Total_reviews Overall_reviews  \\\n",
       "0     7.2  Free Breakfast Linen Included Free City Maps F...       Very Good   \n",
       "1     7.0  Linen Included Free City Maps Free WiFi Free I...       Very Good   \n",
       "2     9.7  Free Breakfast Linen Included Free City Maps F...          Superb   \n",
       "3     8.8  Linen Included Free City Maps Towels Included ...        Fabulous   \n",
       "4      10  Linen Included Free City Maps Towels Included ...          Superb   \n",
       "5     8.7  Linen Included Free City Maps Free WiFi Free I...        Fabulous   \n",
       "6     8.5            Linen Included Free City Maps Free WiFi        Fabulous   \n",
       "7     7.6            Linen Included Free City Maps Free WiFi       Very Good   \n",
       "8     6.8            Linen Included Free City Maps Free WiFi            Good   \n",
       "9     8.0            Linen Included Free City Maps Free WiFi        Fabulous   \n",
       "10    9.8                           Linen Included Free WiFi          Superb   \n",
       "11    6.2            Linen Included Free City Maps Free WiFi            Good   \n",
       "12     10  Linen Included Free City Maps Towels Included ...          Superb   \n",
       "13     10            Linen Included Free City Maps Free WiFi          Superb   \n",
       "14    7.9            Linen Included Free City Maps Free WiFi       Very Good   \n",
       "15    6.9  Free Breakfast Linen Included Free Parking Fre...            Good   \n",
       "16    7.8                                     Free Breakfast       Very Good   \n",
       "17    8.1  Linen Included Free City Maps Towels Included ...        Fabulous   \n",
       "18    9.0  Linen Included Free City Maps Free WiFi Free I...          Superb   \n",
       "19    9.4            Linen Included Free City Maps Free WiFi          Superb   \n",
       "20    7.7            Linen Included Free City Maps Free WiFi       Very Good   \n",
       "21    6.3      Linen Included Free WiFi Free Internet Access            Good   \n",
       "22    8.3  Free Breakfast Linen Included Free City Maps F...        Fabulous   \n",
       "23    9.1  Linen Included Free City Maps Free WiFi Free I...          Superb   \n",
       "24    7.9  Linen Included Free City Maps Free WiFi Free I...       Very Good   \n",
       "25    6.6      Linen Included Free WiFi Free Internet Access            Good   \n",
       "26    9.3  Free Breakfast Linen Included Free City Maps F...          Superb   \n",
       "27    8.4  Linen Included Free City Maps Free WiFi Free I...        Fabulous   \n",
       "28    7.6            Linen Included Free City Maps Free WiFi       Very Good   \n",
       "29    7.6  Linen Included Free City Maps Free WiFi Free I...       Very Good   \n",
       "\n",
       "     privates_from_price,   dorms_from_price,  \\\n",
       "0   No Privates Available   Dorms From,Rs1365   \n",
       "1    Privates From,Rs5461   Dorms From,Rs1254   \n",
       "2    Privates From,Rs6068   Dorms From,Rs2124   \n",
       "3    Privates From,Rs9039   Dorms From,Rs1851   \n",
       "4    Privates From,Rs8790   Dorms From,Rs2393   \n",
       "5    Privates From,Rs7686   Dorms From,Rs1305   \n",
       "6   No Privates Available   Dorms From,Rs1618   \n",
       "7   No Privates Available   Dorms From,Rs1293   \n",
       "8   Privates From,Rs14867   Dorms From,Rs1551   \n",
       "9    Privates From,Rs6372   Dorms From,Rs1820   \n",
       "10  No Privates Available   Dorms From,Rs1790   \n",
       "11  Privates From,Rs10923   Dorms From,Rs1618   \n",
       "12  No Privates Available   Dorms From,Rs3171   \n",
       "13  No Privates Available   Dorms From,Rs1878   \n",
       "14  No Privates Available   Dorms From,Rs1719   \n",
       "15   Privates From,Rs3113   Dorms From,Rs1211   \n",
       "16   Privates From,Rs5916   Dorms From,Rs2276   \n",
       "17   Privates From,Rs6034   Dorms From,Rs1507   \n",
       "18  No Privates Available   Dorms From,Rs1709   \n",
       "19  No Privates Available   Dorms From,Rs1618   \n",
       "20  No Privates Available   Dorms From,Rs1416   \n",
       "21   Privates From,Rs4551  No Dorms Available   \n",
       "22  No Privates Available   Dorms From,Rs1633   \n",
       "23  No Privates Available   Dorms From,Rs1517   \n",
       "24  No Privates Available   Dorms From,Rs1238   \n",
       "25   Privates From,Rs5158  No Dorms Available   \n",
       "26   Privates From,Rs7118   Dorms From,Rs2063   \n",
       "27  No Privates Available   Dorms From,Rs2023   \n",
       "28   Privates From,Rs7039   Dorms From,Rs1438   \n",
       "29   Privates From,Rs9001   Dorms From,Rs2851   \n",
       "\n",
       "                                 Property_description  \n",
       "0   COVID-19 Policy Update,,In response to Coronav...  \n",
       "1   COVID 19 Policy Update.,In response to Coronav...  \n",
       "2   The Badger is unique for London in that we hav...  \n",
       "3   Wombat's The City Hostel London is definitely ...  \n",
       "4   The hostel is housed in a historic building in...  \n",
       "5   COVID 19 Policy Update.,In response to Coronav...  \n",
       "6   The heart & soul of London backpacking,Pull up...  \n",
       "7   Located in the middle of Camden Town, we’re th...  \n",
       "8   Do London like a local.,Stay just outside the ...  \n",
       "9   Safestay at Elephant & Castle is ideal if you ...  \n",
       "10  Welcome to Urbany Hostel London, our first int...  \n",
       "11  Where it all began - PubLove was born here in ...  \n",
       "12  Mornington Camden Hostel is a high class spaci...  \n",
       "13  COVID 19 Policy Update.,In response to Coronav...  \n",
       "14  Food & culture lovers, assemble!,The Rose & Cr...  \n",
       "15  Welcome to New Cross Inn Hostel!,,A Friendly b...  \n",
       "16  Welcome to one of London's cheapest, friendlie...  \n",
       "17  COVID 19 Policy Update.,In response to Coronav...  \n",
       "18  COVID 19 Policy Update.,In response to Coronav...  \n",
       "19  With the British Museum literally on its doors...  \n",
       "20  Located a short walk from Notting Hill, Hyde P...  \n",
       "21  The Mapesbury Hostel offers budget accommodati...  \n",
       "22  Hootananny is a lively hostel with spacious ro...  \n",
       "23  Located in the most beautiful and charming nei...  \n",
       "24  *Please note we are operating on LIMITED recep...  \n",
       "25  247london Hostel and Private Rooms is a home a...  \n",
       "26  Situated in South West London, close to Balham...  \n",
       "27  We have implemented our Staying Safe Together ...  \n",
       "28  Clink261 is a comfortable, centrally located h...  \n",
       "29  Generator London is a design hotel-hostel loca...  "
      ]
     },
     "execution_count": 122,
     "metadata": {},
     "output_type": "execute_result"
    }
   ],
   "source": [
    "df=pd.DataFrame({})\n",
    "df['Name']=name\n",
    "df['Distance']=dist\n",
    "df['Rating']=rating\n",
    "df['Total_reviews']=tot_rev\n",
    "df['Overall_reviews']=new_ovr_rev\n",
    "df['privates_from_price,']=privates_from_price1\n",
    "df['dorms_from_price,']=dorms_from_price1\n",
    "df['Total_reviews']=facility\n",
    "df['Property_description']=desc\n",
    "df"
   ]
  },
  {
   "cell_type": "code",
   "execution_count": 125,
   "metadata": {},
   "outputs": [],
   "source": [
    "df.to_csv(\"Q_10\")"
   ]
  },
  {
   "cell_type": "code",
   "execution_count": 126,
   "metadata": {},
   "outputs": [
    {
     "data": {
      "text/html": [
       "<div>\n",
       "<style scoped>\n",
       "    .dataframe tbody tr th:only-of-type {\n",
       "        vertical-align: middle;\n",
       "    }\n",
       "\n",
       "    .dataframe tbody tr th {\n",
       "        vertical-align: top;\n",
       "    }\n",
       "\n",
       "    .dataframe thead th {\n",
       "        text-align: right;\n",
       "    }\n",
       "</style>\n",
       "<table border=\"1\" class=\"dataframe\">\n",
       "  <thead>\n",
       "    <tr style=\"text-align: right;\">\n",
       "      <th></th>\n",
       "      <th>Unnamed: 0</th>\n",
       "      <th>Name</th>\n",
       "      <th>Distance</th>\n",
       "      <th>Rating</th>\n",
       "      <th>Total_reviews</th>\n",
       "      <th>Overall_reviews</th>\n",
       "      <th>privates_from_price,</th>\n",
       "      <th>dorms_from_price,</th>\n",
       "      <th>Property_description</th>\n",
       "    </tr>\n",
       "  </thead>\n",
       "  <tbody>\n",
       "    <tr>\n",
       "      <th>0</th>\n",
       "      <td>0</td>\n",
       "      <td>London Waterloo Hostel</td>\n",
       "      <td>Hostel - 0.7km from city centre</td>\n",
       "      <td>7.2</td>\n",
       "      <td>Free Breakfast Linen Included Free City Maps F...</td>\n",
       "      <td>Very Good</td>\n",
       "      <td>No Privates Available</td>\n",
       "      <td>Dorms From,Rs1365</td>\n",
       "      <td>COVID-19 Policy Update,,In response to Coronav...</td>\n",
       "    </tr>\n",
       "    <tr>\n",
       "      <th>1</th>\n",
       "      <td>1</td>\n",
       "      <td>St Christopher's Inn - London Bridge</td>\n",
       "      <td>Hostel - 1.8km from city centre</td>\n",
       "      <td>7.0</td>\n",
       "      <td>Linen Included Free City Maps Free WiFi Free I...</td>\n",
       "      <td>Very Good</td>\n",
       "      <td>Privates From,Rs5461</td>\n",
       "      <td>Dorms From,Rs1254</td>\n",
       "      <td>COVID 19 Policy Update.,In response to Coronav...</td>\n",
       "    </tr>\n",
       "    <tr>\n",
       "      <th>2</th>\n",
       "      <td>2</td>\n",
       "      <td>Barmy Badger Backpackers</td>\n",
       "      <td>Hostel - 5.5km from city centre</td>\n",
       "      <td>9.7</td>\n",
       "      <td>Free Breakfast Linen Included Free City Maps F...</td>\n",
       "      <td>Superb</td>\n",
       "      <td>Privates From,Rs6068</td>\n",
       "      <td>Dorms From,Rs2124</td>\n",
       "      <td>The Badger is unique for London in that we hav...</td>\n",
       "    </tr>\n",
       "    <tr>\n",
       "      <th>3</th>\n",
       "      <td>3</td>\n",
       "      <td>Wombat's The City Hostel London</td>\n",
       "      <td>Hostel - 3.6km from city centre</td>\n",
       "      <td>8.8</td>\n",
       "      <td>Linen Included Free City Maps Towels Included ...</td>\n",
       "      <td>Fabulous</td>\n",
       "      <td>Privates From,Rs9039</td>\n",
       "      <td>Dorms From,Rs1851</td>\n",
       "      <td>Wombat's The City Hostel London is definitely ...</td>\n",
       "    </tr>\n",
       "    <tr>\n",
       "      <th>4</th>\n",
       "      <td>4</td>\n",
       "      <td>Prime Backpackers Angel</td>\n",
       "      <td>Hostel - 3.6km from city centre</td>\n",
       "      <td>10.0</td>\n",
       "      <td>Linen Included Free City Maps Towels Included ...</td>\n",
       "      <td>Superb</td>\n",
       "      <td>Privates From,Rs8790</td>\n",
       "      <td>Dorms From,Rs2393</td>\n",
       "      <td>The hostel is housed in a historic building in...</td>\n",
       "    </tr>\n",
       "    <tr>\n",
       "      <th>5</th>\n",
       "      <td>5</td>\n",
       "      <td>St Christopher's Village</td>\n",
       "      <td>Hostel - 1.8km from city centre</td>\n",
       "      <td>8.7</td>\n",
       "      <td>Linen Included Free City Maps Free WiFi Free I...</td>\n",
       "      <td>Fabulous</td>\n",
       "      <td>Privates From,Rs7686</td>\n",
       "      <td>Dorms From,Rs1305</td>\n",
       "      <td>COVID 19 Policy Update.,In response to Coronav...</td>\n",
       "    </tr>\n",
       "    <tr>\n",
       "      <th>6</th>\n",
       "      <td>6</td>\n",
       "      <td>PubLove @ The Steam Engine, Waterloo</td>\n",
       "      <td>Hostel - 0.5km from city centre</td>\n",
       "      <td>8.5</td>\n",
       "      <td>Linen Included Free City Maps Free WiFi</td>\n",
       "      <td>Fabulous</td>\n",
       "      <td>No Privates Available</td>\n",
       "      <td>Dorms From,Rs1618</td>\n",
       "      <td>The heart &amp; soul of London backpacking,Pull up...</td>\n",
       "    </tr>\n",
       "    <tr>\n",
       "      <th>7</th>\n",
       "      <td>7</td>\n",
       "      <td>Smart Camden Inn Hostel</td>\n",
       "      <td>Hostel - 4.4km from city centre</td>\n",
       "      <td>7.6</td>\n",
       "      <td>Linen Included Free City Maps Free WiFi</td>\n",
       "      <td>Very Good</td>\n",
       "      <td>No Privates Available</td>\n",
       "      <td>Dorms From,Rs1293</td>\n",
       "      <td>Located in the middle of Camden Town, we’re th...</td>\n",
       "    </tr>\n",
       "    <tr>\n",
       "      <th>8</th>\n",
       "      <td>8</td>\n",
       "      <td>PubLove @ The Crown, Battersea</td>\n",
       "      <td>Hostel - 4.7km from city centre</td>\n",
       "      <td>6.8</td>\n",
       "      <td>Linen Included Free City Maps Free WiFi</td>\n",
       "      <td>Good</td>\n",
       "      <td>Privates From,Rs14867</td>\n",
       "      <td>Dorms From,Rs1551</td>\n",
       "      <td>Do London like a local.,Stay just outside the ...</td>\n",
       "    </tr>\n",
       "    <tr>\n",
       "      <th>9</th>\n",
       "      <td>9</td>\n",
       "      <td>Safestay London Elephant &amp; Castle</td>\n",
       "      <td>Hostel - 1.7km from city centre</td>\n",
       "      <td>8.0</td>\n",
       "      <td>Linen Included Free City Maps Free WiFi</td>\n",
       "      <td>Fabulous</td>\n",
       "      <td>Privates From,Rs6372</td>\n",
       "      <td>Dorms From,Rs1820</td>\n",
       "      <td>Safestay at Elephant &amp; Castle is ideal if you ...</td>\n",
       "    </tr>\n",
       "    <tr>\n",
       "      <th>10</th>\n",
       "      <td>10</td>\n",
       "      <td>Urbany Hostel London</td>\n",
       "      <td>Hostel - 5.4km from city centre</td>\n",
       "      <td>9.8</td>\n",
       "      <td>Linen Included Free WiFi</td>\n",
       "      <td>Superb</td>\n",
       "      <td>No Privates Available</td>\n",
       "      <td>Dorms From,Rs1790</td>\n",
       "      <td>Welcome to Urbany Hostel London, our first int...</td>\n",
       "    </tr>\n",
       "    <tr>\n",
       "      <th>11</th>\n",
       "      <td>11</td>\n",
       "      <td>PubLove @ The Green Man, Paddington</td>\n",
       "      <td>Hostel - 4.3km from city centre</td>\n",
       "      <td>6.2</td>\n",
       "      <td>Linen Included Free City Maps Free WiFi</td>\n",
       "      <td>Good</td>\n",
       "      <td>Privates From,Rs10923</td>\n",
       "      <td>Dorms From,Rs1618</td>\n",
       "      <td>Where it all began - PubLove was born here in ...</td>\n",
       "    </tr>\n",
       "    <tr>\n",
       "      <th>12</th>\n",
       "      <td>12</td>\n",
       "      <td>Mornington Camden</td>\n",
       "      <td>Hostel - 4.1km from city centre</td>\n",
       "      <td>10.0</td>\n",
       "      <td>Linen Included Free City Maps Towels Included ...</td>\n",
       "      <td>Superb</td>\n",
       "      <td>No Privates Available</td>\n",
       "      <td>Dorms From,Rs3171</td>\n",
       "      <td>Mornington Camden Hostel is a high class spaci...</td>\n",
       "    </tr>\n",
       "    <tr>\n",
       "      <th>13</th>\n",
       "      <td>13</td>\n",
       "      <td>St Christopher's Inn - Liverpool Street</td>\n",
       "      <td>Hostel - 3.2km from city centre</td>\n",
       "      <td>10.0</td>\n",
       "      <td>Linen Included Free City Maps Free WiFi</td>\n",
       "      <td>Superb</td>\n",
       "      <td>No Privates Available</td>\n",
       "      <td>Dorms From,Rs1878</td>\n",
       "      <td>COVID 19 Policy Update.,In response to Coronav...</td>\n",
       "    </tr>\n",
       "    <tr>\n",
       "      <th>14</th>\n",
       "      <td>14</td>\n",
       "      <td>PubLove @ The Rose &amp; Crown</td>\n",
       "      <td>Hostel - 1.6km from city centre</td>\n",
       "      <td>7.9</td>\n",
       "      <td>Linen Included Free City Maps Free WiFi</td>\n",
       "      <td>Very Good</td>\n",
       "      <td>No Privates Available</td>\n",
       "      <td>Dorms From,Rs1719</td>\n",
       "      <td>Food &amp; culture lovers, assemble!,The Rose &amp; Cr...</td>\n",
       "    </tr>\n",
       "    <tr>\n",
       "      <th>15</th>\n",
       "      <td>15</td>\n",
       "      <td>New Cross Inn Hostel</td>\n",
       "      <td>Hostel - 6.1km from city centre</td>\n",
       "      <td>6.9</td>\n",
       "      <td>Free Breakfast Linen Included Free Parking Fre...</td>\n",
       "      <td>Good</td>\n",
       "      <td>Privates From,Rs3113</td>\n",
       "      <td>Dorms From,Rs1211</td>\n",
       "      <td>Welcome to New Cross Inn Hostel!,,A Friendly b...</td>\n",
       "    </tr>\n",
       "    <tr>\n",
       "      <th>16</th>\n",
       "      <td>16</td>\n",
       "      <td>Strand Continental</td>\n",
       "      <td>Hostel - 1.3km from city centre</td>\n",
       "      <td>7.8</td>\n",
       "      <td>Free Breakfast</td>\n",
       "      <td>Very Good</td>\n",
       "      <td>Privates From,Rs5916</td>\n",
       "      <td>Dorms From,Rs2276</td>\n",
       "      <td>Welcome to one of London's cheapest, friendlie...</td>\n",
       "    </tr>\n",
       "    <tr>\n",
       "      <th>17</th>\n",
       "      <td>17</td>\n",
       "      <td>St Christopher's Oasis-Female Only</td>\n",
       "      <td>Hostel - 1.8km from city centre</td>\n",
       "      <td>8.1</td>\n",
       "      <td>Linen Included Free City Maps Towels Included ...</td>\n",
       "      <td>Fabulous</td>\n",
       "      <td>Privates From,Rs6034</td>\n",
       "      <td>Dorms From,Rs1507</td>\n",
       "      <td>COVID 19 Policy Update.,In response to Coronav...</td>\n",
       "    </tr>\n",
       "    <tr>\n",
       "      <th>18</th>\n",
       "      <td>18</td>\n",
       "      <td>St Christopher's Camden</td>\n",
       "      <td>Hostel - 4.3km from city centre</td>\n",
       "      <td>9.0</td>\n",
       "      <td>Linen Included Free City Maps Free WiFi Free I...</td>\n",
       "      <td>Superb</td>\n",
       "      <td>No Privates Available</td>\n",
       "      <td>Dorms From,Rs1709</td>\n",
       "      <td>COVID 19 Policy Update.,In response to Coronav...</td>\n",
       "    </tr>\n",
       "    <tr>\n",
       "      <th>19</th>\n",
       "      <td>19</td>\n",
       "      <td>Astor Museum Inn</td>\n",
       "      <td>Hostel - 2.2km from city centre</td>\n",
       "      <td>9.4</td>\n",
       "      <td>Linen Included Free City Maps Free WiFi</td>\n",
       "      <td>Superb</td>\n",
       "      <td>No Privates Available</td>\n",
       "      <td>Dorms From,Rs1618</td>\n",
       "      <td>With the British Museum literally on its doors...</td>\n",
       "    </tr>\n",
       "    <tr>\n",
       "      <th>20</th>\n",
       "      <td>20</td>\n",
       "      <td>Astor Kensington</td>\n",
       "      <td>Hostel - 4.9km from city centre</td>\n",
       "      <td>7.7</td>\n",
       "      <td>Linen Included Free City Maps Free WiFi</td>\n",
       "      <td>Very Good</td>\n",
       "      <td>No Privates Available</td>\n",
       "      <td>Dorms From,Rs1416</td>\n",
       "      <td>Located a short walk from Notting Hill, Hyde P...</td>\n",
       "    </tr>\n",
       "    <tr>\n",
       "      <th>21</th>\n",
       "      <td>21</td>\n",
       "      <td>Mapesbury Hostel</td>\n",
       "      <td>Hostel - 8.2km from city centre</td>\n",
       "      <td>6.3</td>\n",
       "      <td>Linen Included Free WiFi Free Internet Access</td>\n",
       "      <td>Good</td>\n",
       "      <td>Privates From,Rs4551</td>\n",
       "      <td>No Dorms Available</td>\n",
       "      <td>The Mapesbury Hostel offers budget accommodati...</td>\n",
       "    </tr>\n",
       "    <tr>\n",
       "      <th>22</th>\n",
       "      <td>22</td>\n",
       "      <td>Hootananny Hostel</td>\n",
       "      <td>Hostel - 5km from city centre</td>\n",
       "      <td>8.3</td>\n",
       "      <td>Free Breakfast Linen Included Free City Maps F...</td>\n",
       "      <td>Fabulous</td>\n",
       "      <td>No Privates Available</td>\n",
       "      <td>Dorms From,Rs1633</td>\n",
       "      <td>Hootananny is a lively hostel with spacious ro...</td>\n",
       "    </tr>\n",
       "    <tr>\n",
       "      <th>23</th>\n",
       "      <td>23</td>\n",
       "      <td>Astor Hyde Park</td>\n",
       "      <td>Hostel - 4.3km from city centre</td>\n",
       "      <td>9.1</td>\n",
       "      <td>Linen Included Free City Maps Free WiFi Free I...</td>\n",
       "      <td>Superb</td>\n",
       "      <td>No Privates Available</td>\n",
       "      <td>Dorms From,Rs1517</td>\n",
       "      <td>Located in the most beautiful and charming nei...</td>\n",
       "    </tr>\n",
       "    <tr>\n",
       "      <th>24</th>\n",
       "      <td>24</td>\n",
       "      <td>Phoenix Hostel</td>\n",
       "      <td>Hostel - 4.2km from city centre</td>\n",
       "      <td>7.9</td>\n",
       "      <td>Linen Included Free City Maps Free WiFi Free I...</td>\n",
       "      <td>Very Good</td>\n",
       "      <td>No Privates Available</td>\n",
       "      <td>Dorms From,Rs1238</td>\n",
       "      <td>*Please note we are operating on LIMITED recep...</td>\n",
       "    </tr>\n",
       "    <tr>\n",
       "      <th>25</th>\n",
       "      <td>25</td>\n",
       "      <td>247london Hostel and Private Rooms</td>\n",
       "      <td>Hostel - 8.2km from city centre</td>\n",
       "      <td>6.6</td>\n",
       "      <td>Linen Included Free WiFi Free Internet Access</td>\n",
       "      <td>Good</td>\n",
       "      <td>Privates From,Rs5158</td>\n",
       "      <td>No Dorms Available</td>\n",
       "      <td>247london Hostel and Private Rooms is a home a...</td>\n",
       "    </tr>\n",
       "    <tr>\n",
       "      <th>26</th>\n",
       "      <td>26</td>\n",
       "      <td>Burlington Residence</td>\n",
       "      <td>Hostel - 7.1km from city centre</td>\n",
       "      <td>9.3</td>\n",
       "      <td>Free Breakfast Linen Included Free City Maps F...</td>\n",
       "      <td>Superb</td>\n",
       "      <td>Privates From,Rs7118</td>\n",
       "      <td>Dorms From,Rs2063</td>\n",
       "      <td>Situated in South West London, close to Balham...</td>\n",
       "    </tr>\n",
       "    <tr>\n",
       "      <th>27</th>\n",
       "      <td>27</td>\n",
       "      <td>SoHostel</td>\n",
       "      <td>Hostel - 2km from city centre</td>\n",
       "      <td>8.4</td>\n",
       "      <td>Linen Included Free City Maps Free WiFi Free I...</td>\n",
       "      <td>Fabulous</td>\n",
       "      <td>No Privates Available</td>\n",
       "      <td>Dorms From,Rs2023</td>\n",
       "      <td>We have implemented our Staying Safe Together ...</td>\n",
       "    </tr>\n",
       "    <tr>\n",
       "      <th>28</th>\n",
       "      <td>28</td>\n",
       "      <td>Clink261</td>\n",
       "      <td>Hostel - 3.2km from city centre</td>\n",
       "      <td>7.6</td>\n",
       "      <td>Linen Included Free City Maps Free WiFi</td>\n",
       "      <td>Very Good</td>\n",
       "      <td>Privates From,Rs7039</td>\n",
       "      <td>Dorms From,Rs1438</td>\n",
       "      <td>Clink261 is a comfortable, centrally located h...</td>\n",
       "    </tr>\n",
       "    <tr>\n",
       "      <th>29</th>\n",
       "      <td>29</td>\n",
       "      <td>Generator London</td>\n",
       "      <td>Hostel - 3km from city centre</td>\n",
       "      <td>7.6</td>\n",
       "      <td>Linen Included Free City Maps Free WiFi Free I...</td>\n",
       "      <td>Very Good</td>\n",
       "      <td>Privates From,Rs9001</td>\n",
       "      <td>Dorms From,Rs2851</td>\n",
       "      <td>Generator London is a design hotel-hostel loca...</td>\n",
       "    </tr>\n",
       "  </tbody>\n",
       "</table>\n",
       "</div>"
      ],
      "text/plain": [
       "    Unnamed: 0                                     Name  \\\n",
       "0            0                   London Waterloo Hostel   \n",
       "1            1     St Christopher's Inn - London Bridge   \n",
       "2            2                 Barmy Badger Backpackers   \n",
       "3            3          Wombat's The City Hostel London   \n",
       "4            4                  Prime Backpackers Angel   \n",
       "5            5                 St Christopher's Village   \n",
       "6            6     PubLove @ The Steam Engine, Waterloo   \n",
       "7            7                  Smart Camden Inn Hostel   \n",
       "8            8           PubLove @ The Crown, Battersea   \n",
       "9            9        Safestay London Elephant & Castle   \n",
       "10          10                     Urbany Hostel London   \n",
       "11          11      PubLove @ The Green Man, Paddington   \n",
       "12          12                        Mornington Camden   \n",
       "13          13  St Christopher's Inn - Liverpool Street   \n",
       "14          14               PubLove @ The Rose & Crown   \n",
       "15          15                     New Cross Inn Hostel   \n",
       "16          16                       Strand Continental   \n",
       "17          17       St Christopher's Oasis-Female Only   \n",
       "18          18                  St Christopher's Camden   \n",
       "19          19                         Astor Museum Inn   \n",
       "20          20                         Astor Kensington   \n",
       "21          21                         Mapesbury Hostel   \n",
       "22          22                        Hootananny Hostel   \n",
       "23          23                          Astor Hyde Park   \n",
       "24          24                           Phoenix Hostel   \n",
       "25          25       247london Hostel and Private Rooms   \n",
       "26          26                     Burlington Residence   \n",
       "27          27                                 SoHostel   \n",
       "28          28                                 Clink261   \n",
       "29          29                         Generator London   \n",
       "\n",
       "                           Distance  Rating  \\\n",
       "0   Hostel - 0.7km from city centre     7.2   \n",
       "1   Hostel - 1.8km from city centre     7.0   \n",
       "2   Hostel - 5.5km from city centre     9.7   \n",
       "3   Hostel - 3.6km from city centre     8.8   \n",
       "4   Hostel - 3.6km from city centre    10.0   \n",
       "5   Hostel - 1.8km from city centre     8.7   \n",
       "6   Hostel - 0.5km from city centre     8.5   \n",
       "7   Hostel - 4.4km from city centre     7.6   \n",
       "8   Hostel - 4.7km from city centre     6.8   \n",
       "9   Hostel - 1.7km from city centre     8.0   \n",
       "10  Hostel - 5.4km from city centre     9.8   \n",
       "11  Hostel - 4.3km from city centre     6.2   \n",
       "12  Hostel - 4.1km from city centre    10.0   \n",
       "13  Hostel - 3.2km from city centre    10.0   \n",
       "14  Hostel - 1.6km from city centre     7.9   \n",
       "15  Hostel - 6.1km from city centre     6.9   \n",
       "16  Hostel - 1.3km from city centre     7.8   \n",
       "17  Hostel - 1.8km from city centre     8.1   \n",
       "18  Hostel - 4.3km from city centre     9.0   \n",
       "19  Hostel - 2.2km from city centre     9.4   \n",
       "20  Hostel - 4.9km from city centre     7.7   \n",
       "21  Hostel - 8.2km from city centre     6.3   \n",
       "22    Hostel - 5km from city centre     8.3   \n",
       "23  Hostel - 4.3km from city centre     9.1   \n",
       "24  Hostel - 4.2km from city centre     7.9   \n",
       "25  Hostel - 8.2km from city centre     6.6   \n",
       "26  Hostel - 7.1km from city centre     9.3   \n",
       "27    Hostel - 2km from city centre     8.4   \n",
       "28  Hostel - 3.2km from city centre     7.6   \n",
       "29    Hostel - 3km from city centre     7.6   \n",
       "\n",
       "                                        Total_reviews Overall_reviews  \\\n",
       "0   Free Breakfast Linen Included Free City Maps F...       Very Good   \n",
       "1   Linen Included Free City Maps Free WiFi Free I...       Very Good   \n",
       "2   Free Breakfast Linen Included Free City Maps F...          Superb   \n",
       "3   Linen Included Free City Maps Towels Included ...        Fabulous   \n",
       "4   Linen Included Free City Maps Towels Included ...          Superb   \n",
       "5   Linen Included Free City Maps Free WiFi Free I...        Fabulous   \n",
       "6             Linen Included Free City Maps Free WiFi        Fabulous   \n",
       "7             Linen Included Free City Maps Free WiFi       Very Good   \n",
       "8             Linen Included Free City Maps Free WiFi            Good   \n",
       "9             Linen Included Free City Maps Free WiFi        Fabulous   \n",
       "10                           Linen Included Free WiFi          Superb   \n",
       "11            Linen Included Free City Maps Free WiFi            Good   \n",
       "12  Linen Included Free City Maps Towels Included ...          Superb   \n",
       "13            Linen Included Free City Maps Free WiFi          Superb   \n",
       "14            Linen Included Free City Maps Free WiFi       Very Good   \n",
       "15  Free Breakfast Linen Included Free Parking Fre...            Good   \n",
       "16                                     Free Breakfast       Very Good   \n",
       "17  Linen Included Free City Maps Towels Included ...        Fabulous   \n",
       "18  Linen Included Free City Maps Free WiFi Free I...          Superb   \n",
       "19            Linen Included Free City Maps Free WiFi          Superb   \n",
       "20            Linen Included Free City Maps Free WiFi       Very Good   \n",
       "21      Linen Included Free WiFi Free Internet Access            Good   \n",
       "22  Free Breakfast Linen Included Free City Maps F...        Fabulous   \n",
       "23  Linen Included Free City Maps Free WiFi Free I...          Superb   \n",
       "24  Linen Included Free City Maps Free WiFi Free I...       Very Good   \n",
       "25      Linen Included Free WiFi Free Internet Access            Good   \n",
       "26  Free Breakfast Linen Included Free City Maps F...          Superb   \n",
       "27  Linen Included Free City Maps Free WiFi Free I...        Fabulous   \n",
       "28            Linen Included Free City Maps Free WiFi       Very Good   \n",
       "29  Linen Included Free City Maps Free WiFi Free I...       Very Good   \n",
       "\n",
       "     privates_from_price,   dorms_from_price,  \\\n",
       "0   No Privates Available   Dorms From,Rs1365   \n",
       "1    Privates From,Rs5461   Dorms From,Rs1254   \n",
       "2    Privates From,Rs6068   Dorms From,Rs2124   \n",
       "3    Privates From,Rs9039   Dorms From,Rs1851   \n",
       "4    Privates From,Rs8790   Dorms From,Rs2393   \n",
       "5    Privates From,Rs7686   Dorms From,Rs1305   \n",
       "6   No Privates Available   Dorms From,Rs1618   \n",
       "7   No Privates Available   Dorms From,Rs1293   \n",
       "8   Privates From,Rs14867   Dorms From,Rs1551   \n",
       "9    Privates From,Rs6372   Dorms From,Rs1820   \n",
       "10  No Privates Available   Dorms From,Rs1790   \n",
       "11  Privates From,Rs10923   Dorms From,Rs1618   \n",
       "12  No Privates Available   Dorms From,Rs3171   \n",
       "13  No Privates Available   Dorms From,Rs1878   \n",
       "14  No Privates Available   Dorms From,Rs1719   \n",
       "15   Privates From,Rs3113   Dorms From,Rs1211   \n",
       "16   Privates From,Rs5916   Dorms From,Rs2276   \n",
       "17   Privates From,Rs6034   Dorms From,Rs1507   \n",
       "18  No Privates Available   Dorms From,Rs1709   \n",
       "19  No Privates Available   Dorms From,Rs1618   \n",
       "20  No Privates Available   Dorms From,Rs1416   \n",
       "21   Privates From,Rs4551  No Dorms Available   \n",
       "22  No Privates Available   Dorms From,Rs1633   \n",
       "23  No Privates Available   Dorms From,Rs1517   \n",
       "24  No Privates Available   Dorms From,Rs1238   \n",
       "25   Privates From,Rs5158  No Dorms Available   \n",
       "26   Privates From,Rs7118   Dorms From,Rs2063   \n",
       "27  No Privates Available   Dorms From,Rs2023   \n",
       "28   Privates From,Rs7039   Dorms From,Rs1438   \n",
       "29   Privates From,Rs9001   Dorms From,Rs2851   \n",
       "\n",
       "                                 Property_description  \n",
       "0   COVID-19 Policy Update,,In response to Coronav...  \n",
       "1   COVID 19 Policy Update.,In response to Coronav...  \n",
       "2   The Badger is unique for London in that we hav...  \n",
       "3   Wombat's The City Hostel London is definitely ...  \n",
       "4   The hostel is housed in a historic building in...  \n",
       "5   COVID 19 Policy Update.,In response to Coronav...  \n",
       "6   The heart & soul of London backpacking,Pull up...  \n",
       "7   Located in the middle of Camden Town, we’re th...  \n",
       "8   Do London like a local.,Stay just outside the ...  \n",
       "9   Safestay at Elephant & Castle is ideal if you ...  \n",
       "10  Welcome to Urbany Hostel London, our first int...  \n",
       "11  Where it all began - PubLove was born here in ...  \n",
       "12  Mornington Camden Hostel is a high class spaci...  \n",
       "13  COVID 19 Policy Update.,In response to Coronav...  \n",
       "14  Food & culture lovers, assemble!,The Rose & Cr...  \n",
       "15  Welcome to New Cross Inn Hostel!,,A Friendly b...  \n",
       "16  Welcome to one of London's cheapest, friendlie...  \n",
       "17  COVID 19 Policy Update.,In response to Coronav...  \n",
       "18  COVID 19 Policy Update.,In response to Coronav...  \n",
       "19  With the British Museum literally on its doors...  \n",
       "20  Located a short walk from Notting Hill, Hyde P...  \n",
       "21  The Mapesbury Hostel offers budget accommodati...  \n",
       "22  Hootananny is a lively hostel with spacious ro...  \n",
       "23  Located in the most beautiful and charming nei...  \n",
       "24  *Please note we are operating on LIMITED recep...  \n",
       "25  247london Hostel and Private Rooms is a home a...  \n",
       "26  Situated in South West London, close to Balham...  \n",
       "27  We have implemented our Staying Safe Together ...  \n",
       "28  Clink261 is a comfortable, centrally located h...  \n",
       "29  Generator London is a design hotel-hostel loca...  "
      ]
     },
     "execution_count": 126,
     "metadata": {},
     "output_type": "execute_result"
    }
   ],
   "source": [
    "df_10=pd.read_csv(\"Q_10\")\n",
    "df_10"
   ]
  },
  {
   "cell_type": "code",
   "execution_count": null,
   "metadata": {},
   "outputs": [],
   "source": []
  }
 ],
 "metadata": {
  "kernelspec": {
   "display_name": "Python 3",
   "language": "python",
   "name": "python3"
  },
  "language_info": {
   "codemirror_mode": {
    "name": "ipython",
    "version": 3
   },
   "file_extension": ".py",
   "mimetype": "text/x-python",
   "name": "python",
   "nbconvert_exporter": "python",
   "pygments_lexer": "ipython3",
   "version": "3.8.5"
  }
 },
 "nbformat": 4,
 "nbformat_minor": 4
}
